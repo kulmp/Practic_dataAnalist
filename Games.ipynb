{
 "cells": [
  {
   "cell_type": "markdown",
   "metadata": {},
   "source": [
    "# Анализ продаж компьютерных игр."
   ]
  },
  {
   "cell_type": "markdown",
   "metadata": {},
   "source": [
    "**Задача: выявить определяющие успешность игры закономерности. Это позволит сделать ставку на потенциально популярный продукт и спланировать рекламные кампании**"
   ]
  },
  {
   "cell_type": "markdown",
   "metadata": {},
   "source": [
    "**1. Откроем файл с данными и изучите общую информацию**"
   ]
  },
  {
   "cell_type": "code",
   "execution_count": 61,
   "metadata": {},
   "outputs": [],
   "source": [
    "import pandas as pd\n",
    "import numpy as np\n",
    "import matplotlib.pyplot as plt\n",
    "\n",
    "df = pd.read_csv('/datasets/games.csv')\n",
    "#df = pd.read_csv('C:/Users/Viktor/Downloads/games(1).csv')"
   ]
  },
  {
   "cell_type": "code",
   "execution_count": 62,
   "metadata": {},
   "outputs": [
    {
     "name": "stdout",
     "output_type": "stream",
     "text": [
      "<class 'pandas.core.frame.DataFrame'>\n",
      "RangeIndex: 16715 entries, 0 to 16714\n",
      "Data columns (total 11 columns):\n",
      " #   Column           Non-Null Count  Dtype  \n",
      "---  ------           --------------  -----  \n",
      " 0   Name             16713 non-null  object \n",
      " 1   Platform         16715 non-null  object \n",
      " 2   Year_of_Release  16446 non-null  float64\n",
      " 3   Genre            16713 non-null  object \n",
      " 4   NA_sales         16715 non-null  float64\n",
      " 5   EU_sales         16715 non-null  float64\n",
      " 6   JP_sales         16715 non-null  float64\n",
      " 7   Other_sales      16715 non-null  float64\n",
      " 8   Critic_Score     8137 non-null   float64\n",
      " 9   User_Score       10014 non-null  object \n",
      " 10  Rating           9949 non-null   object \n",
      "dtypes: float64(6), object(5)\n",
      "memory usage: 1.4+ MB\n"
     ]
    }
   ],
   "source": [
    "df.info()"
   ]
  },
  {
   "cell_type": "code",
   "execution_count": 63,
   "metadata": {},
   "outputs": [
    {
     "data": {
      "text/html": [
       "<style  type=\"text/css\" >\n",
       "#T_4fcf7_row0_col0,#T_4fcf7_row1_col0,#T_4fcf7_row3_col0,#T_4fcf7_row4_col0,#T_4fcf7_row5_col0,#T_4fcf7_row6_col0,#T_4fcf7_row7_col0{\n",
       "            background-color:  #3b4cc0;\n",
       "            color:  #f1f1f1;\n",
       "        }#T_4fcf7_row2_col0{\n",
       "            background-color:  #465ecf;\n",
       "            color:  #f1f1f1;\n",
       "        }#T_4fcf7_row8_col0{\n",
       "            background-color:  #b40426;\n",
       "            color:  #f1f1f1;\n",
       "        }#T_4fcf7_row9_col0,#T_4fcf7_row10_col0{\n",
       "            background-color:  #f08b6e;\n",
       "            color:  #000000;\n",
       "        }</style><table id=\"T_4fcf7_\" ><thead>    <tr>        <th class=\"blank level0\" ></th>        <th class=\"col_heading level0 col0\" >0</th>    </tr></thead><tbody>\n",
       "                <tr>\n",
       "                        <th id=\"T_4fcf7_level0_row0\" class=\"row_heading level0 row0\" >Name</th>\n",
       "                        <td id=\"T_4fcf7_row0_col0\" class=\"data row0 col0\" >0.000000</td>\n",
       "            </tr>\n",
       "            <tr>\n",
       "                        <th id=\"T_4fcf7_level0_row1\" class=\"row_heading level0 row1\" >Platform</th>\n",
       "                        <td id=\"T_4fcf7_row1_col0\" class=\"data row1 col0\" >0.000000</td>\n",
       "            </tr>\n",
       "            <tr>\n",
       "                        <th id=\"T_4fcf7_level0_row2\" class=\"row_heading level0 row2\" >Year_of_Release</th>\n",
       "                        <td id=\"T_4fcf7_row2_col0\" class=\"data row2 col0\" >2.000000</td>\n",
       "            </tr>\n",
       "            <tr>\n",
       "                        <th id=\"T_4fcf7_level0_row3\" class=\"row_heading level0 row3\" >Genre</th>\n",
       "                        <td id=\"T_4fcf7_row3_col0\" class=\"data row3 col0\" >0.000000</td>\n",
       "            </tr>\n",
       "            <tr>\n",
       "                        <th id=\"T_4fcf7_level0_row4\" class=\"row_heading level0 row4\" >NA_sales</th>\n",
       "                        <td id=\"T_4fcf7_row4_col0\" class=\"data row4 col0\" >0.000000</td>\n",
       "            </tr>\n",
       "            <tr>\n",
       "                        <th id=\"T_4fcf7_level0_row5\" class=\"row_heading level0 row5\" >EU_sales</th>\n",
       "                        <td id=\"T_4fcf7_row5_col0\" class=\"data row5 col0\" >0.000000</td>\n",
       "            </tr>\n",
       "            <tr>\n",
       "                        <th id=\"T_4fcf7_level0_row6\" class=\"row_heading level0 row6\" >JP_sales</th>\n",
       "                        <td id=\"T_4fcf7_row6_col0\" class=\"data row6 col0\" >0.000000</td>\n",
       "            </tr>\n",
       "            <tr>\n",
       "                        <th id=\"T_4fcf7_level0_row7\" class=\"row_heading level0 row7\" >Other_sales</th>\n",
       "                        <td id=\"T_4fcf7_row7_col0\" class=\"data row7 col0\" >0.000000</td>\n",
       "            </tr>\n",
       "            <tr>\n",
       "                        <th id=\"T_4fcf7_level0_row8\" class=\"row_heading level0 row8\" >Critic_Score</th>\n",
       "                        <td id=\"T_4fcf7_row8_col0\" class=\"data row8 col0\" >51.000000</td>\n",
       "            </tr>\n",
       "            <tr>\n",
       "                        <th id=\"T_4fcf7_level0_row9\" class=\"row_heading level0 row9\" >User_Score</th>\n",
       "                        <td id=\"T_4fcf7_row9_col0\" class=\"data row9 col0\" >40.000000</td>\n",
       "            </tr>\n",
       "            <tr>\n",
       "                        <th id=\"T_4fcf7_level0_row10\" class=\"row_heading level0 row10\" >Rating</th>\n",
       "                        <td id=\"T_4fcf7_row10_col0\" class=\"data row10 col0\" >40.000000</td>\n",
       "            </tr>\n",
       "    </tbody></table>"
      ],
      "text/plain": [
       "<pandas.io.formats.style.Styler at 0x7f7843da8f40>"
      ]
     },
     "execution_count": 63,
     "metadata": {},
     "output_type": "execute_result"
    }
   ],
   "source": [
    "pd.DataFrame(round(df.isna().mean()*100,)).style.background_gradient('coolwarm') #Посмотрим количество пропусков в %"
   ]
  },
  {
   "cell_type": "code",
   "execution_count": 64,
   "metadata": {},
   "outputs": [
    {
     "data": {
      "text/html": [
       "<div>\n",
       "<style scoped>\n",
       "    .dataframe tbody tr th:only-of-type {\n",
       "        vertical-align: middle;\n",
       "    }\n",
       "\n",
       "    .dataframe tbody tr th {\n",
       "        vertical-align: top;\n",
       "    }\n",
       "\n",
       "    .dataframe thead th {\n",
       "        text-align: right;\n",
       "    }\n",
       "</style>\n",
       "<table border=\"1\" class=\"dataframe\">\n",
       "  <thead>\n",
       "    <tr style=\"text-align: right;\">\n",
       "      <th></th>\n",
       "      <th>Name</th>\n",
       "      <th>Platform</th>\n",
       "      <th>Year_of_Release</th>\n",
       "      <th>Genre</th>\n",
       "      <th>NA_sales</th>\n",
       "      <th>EU_sales</th>\n",
       "      <th>JP_sales</th>\n",
       "      <th>Other_sales</th>\n",
       "      <th>Critic_Score</th>\n",
       "      <th>User_Score</th>\n",
       "      <th>Rating</th>\n",
       "    </tr>\n",
       "  </thead>\n",
       "  <tbody>\n",
       "    <tr>\n",
       "      <th>0</th>\n",
       "      <td>Wii Sports</td>\n",
       "      <td>Wii</td>\n",
       "      <td>2006.0</td>\n",
       "      <td>Sports</td>\n",
       "      <td>41.36</td>\n",
       "      <td>28.96</td>\n",
       "      <td>3.77</td>\n",
       "      <td>8.45</td>\n",
       "      <td>76.0</td>\n",
       "      <td>8</td>\n",
       "      <td>E</td>\n",
       "    </tr>\n",
       "    <tr>\n",
       "      <th>1</th>\n",
       "      <td>Super Mario Bros.</td>\n",
       "      <td>NES</td>\n",
       "      <td>1985.0</td>\n",
       "      <td>Platform</td>\n",
       "      <td>29.08</td>\n",
       "      <td>3.58</td>\n",
       "      <td>6.81</td>\n",
       "      <td>0.77</td>\n",
       "      <td>NaN</td>\n",
       "      <td>NaN</td>\n",
       "      <td>NaN</td>\n",
       "    </tr>\n",
       "    <tr>\n",
       "      <th>2</th>\n",
       "      <td>Mario Kart Wii</td>\n",
       "      <td>Wii</td>\n",
       "      <td>2008.0</td>\n",
       "      <td>Racing</td>\n",
       "      <td>15.68</td>\n",
       "      <td>12.76</td>\n",
       "      <td>3.79</td>\n",
       "      <td>3.29</td>\n",
       "      <td>82.0</td>\n",
       "      <td>8.3</td>\n",
       "      <td>E</td>\n",
       "    </tr>\n",
       "    <tr>\n",
       "      <th>3</th>\n",
       "      <td>Wii Sports Resort</td>\n",
       "      <td>Wii</td>\n",
       "      <td>2009.0</td>\n",
       "      <td>Sports</td>\n",
       "      <td>15.61</td>\n",
       "      <td>10.93</td>\n",
       "      <td>3.28</td>\n",
       "      <td>2.95</td>\n",
       "      <td>80.0</td>\n",
       "      <td>8</td>\n",
       "      <td>E</td>\n",
       "    </tr>\n",
       "    <tr>\n",
       "      <th>4</th>\n",
       "      <td>Pokemon Red/Pokemon Blue</td>\n",
       "      <td>GB</td>\n",
       "      <td>1996.0</td>\n",
       "      <td>Role-Playing</td>\n",
       "      <td>11.27</td>\n",
       "      <td>8.89</td>\n",
       "      <td>10.22</td>\n",
       "      <td>1.00</td>\n",
       "      <td>NaN</td>\n",
       "      <td>NaN</td>\n",
       "      <td>NaN</td>\n",
       "    </tr>\n",
       "  </tbody>\n",
       "</table>\n",
       "</div>"
      ],
      "text/plain": [
       "                       Name Platform  Year_of_Release         Genre  NA_sales  \\\n",
       "0                Wii Sports      Wii           2006.0        Sports     41.36   \n",
       "1         Super Mario Bros.      NES           1985.0      Platform     29.08   \n",
       "2            Mario Kart Wii      Wii           2008.0        Racing     15.68   \n",
       "3         Wii Sports Resort      Wii           2009.0        Sports     15.61   \n",
       "4  Pokemon Red/Pokemon Blue       GB           1996.0  Role-Playing     11.27   \n",
       "\n",
       "   EU_sales  JP_sales  Other_sales  Critic_Score User_Score Rating  \n",
       "0     28.96      3.77         8.45          76.0          8      E  \n",
       "1      3.58      6.81         0.77           NaN        NaN    NaN  \n",
       "2     12.76      3.79         3.29          82.0        8.3      E  \n",
       "3     10.93      3.28         2.95          80.0          8      E  \n",
       "4      8.89     10.22         1.00           NaN        NaN    NaN  "
      ]
     },
     "execution_count": 64,
     "metadata": {},
     "output_type": "execute_result"
    }
   ],
   "source": [
    "df.head()"
   ]
  },
  {
   "cell_type": "markdown",
   "metadata": {},
   "source": [
    "**Изучив общую информацию, пришли к выводу, что в столбцах датафрейма имеются пропуски, не верный тип данных в user_score и Year_of_Release и название с разным регистром.**"
   ]
  },
  {
   "cell_type": "markdown",
   "metadata": {},
   "source": [
    "**2. Подготовка данных. \n",
    "Заменим названия столбцов (приведите к нижнему регистру)**"
   ]
  },
  {
   "cell_type": "code",
   "execution_count": 65,
   "metadata": {},
   "outputs": [
    {
     "data": {
      "text/plain": [
       "['name',\n",
       " 'platform',\n",
       " 'year_of_release',\n",
       " 'genre',\n",
       " 'na_sales',\n",
       " 'eu_sales',\n",
       " 'jp_sales',\n",
       " 'other_sales',\n",
       " 'critic_score',\n",
       " 'user_score',\n",
       " 'rating']"
      ]
     },
     "metadata": {},
     "output_type": "display_data"
    }
   ],
   "source": [
    "new_columns = [column.lower() for column in df.columns]\n",
    "display(new_columns)"
   ]
  },
  {
   "cell_type": "code",
   "execution_count": 66,
   "metadata": {},
   "outputs": [
    {
     "name": "stdout",
     "output_type": "stream",
     "text": [
      "<class 'pandas.core.frame.DataFrame'>\n",
      "RangeIndex: 16715 entries, 0 to 16714\n",
      "Data columns (total 11 columns):\n",
      " #   Column           Non-Null Count  Dtype  \n",
      "---  ------           --------------  -----  \n",
      " 0   name             16713 non-null  object \n",
      " 1   platform         16715 non-null  object \n",
      " 2   year_of_release  16446 non-null  float64\n",
      " 3   genre            16713 non-null  object \n",
      " 4   na_sales         16715 non-null  float64\n",
      " 5   eu_sales         16715 non-null  float64\n",
      " 6   jp_sales         16715 non-null  float64\n",
      " 7   other_sales      16715 non-null  float64\n",
      " 8   critic_score     8137 non-null   float64\n",
      " 9   user_score       10014 non-null  object \n",
      " 10  rating           9949 non-null   object \n",
      "dtypes: float64(6), object(5)\n",
      "memory usage: 1.4+ MB\n"
     ]
    }
   ],
   "source": [
    "df.columns = new_columns\n",
    "df.info()"
   ]
  },
  {
   "cell_type": "markdown",
   "metadata": {},
   "source": [
    "**Поменяем тип данных в year_of_release на datetime и user_score на float64**"
   ]
  },
  {
   "cell_type": "code",
   "execution_count": 67,
   "metadata": {},
   "outputs": [],
   "source": [
    "df['year_of_release'] = pd.to_datetime(df['year_of_release'], format = '%Y')\n",
    "#df.info()"
   ]
  },
  {
   "cell_type": "code",
   "execution_count": 68,
   "metadata": {},
   "outputs": [
    {
     "data": {
      "text/plain": [
       "name                  2\n",
       "platform              0\n",
       "year_of_release     269\n",
       "genre                 2\n",
       "na_sales              0\n",
       "eu_sales              0\n",
       "jp_sales              0\n",
       "other_sales           0\n",
       "critic_score       8578\n",
       "user_score         6701\n",
       "rating             6766\n",
       "dtype: int64"
      ]
     },
     "execution_count": 68,
     "metadata": {},
     "output_type": "execute_result"
    }
   ],
   "source": [
    "df.isna().sum() #Посмотрим количество пропусков"
   ]
  },
  {
   "cell_type": "markdown",
   "metadata": {},
   "source": [
    "**Два пропуска в Name, возможно забыли заполнить название, необходимо удалить, т.к. мы не поймем о какой игре идет речь**"
   ]
  },
  {
   "cell_type": "code",
   "execution_count": 69,
   "metadata": {},
   "outputs": [
    {
     "name": "stdout",
     "output_type": "stream",
     "text": [
      "['2006-01-01T00:00:00.000000000' '1985-01-01T00:00:00.000000000'\n",
      " '2008-01-01T00:00:00.000000000' '2009-01-01T00:00:00.000000000'\n",
      " '1996-01-01T00:00:00.000000000' '1989-01-01T00:00:00.000000000'\n",
      " '1984-01-01T00:00:00.000000000' '2005-01-01T00:00:00.000000000'\n",
      " '1999-01-01T00:00:00.000000000' '2007-01-01T00:00:00.000000000'\n",
      " '2010-01-01T00:00:00.000000000' '2013-01-01T00:00:00.000000000'\n",
      " '2004-01-01T00:00:00.000000000' '1990-01-01T00:00:00.000000000'\n",
      " '1988-01-01T00:00:00.000000000' '2002-01-01T00:00:00.000000000'\n",
      " '2001-01-01T00:00:00.000000000' '2011-01-01T00:00:00.000000000'\n",
      " '1998-01-01T00:00:00.000000000' '2015-01-01T00:00:00.000000000'\n",
      " '2012-01-01T00:00:00.000000000' '2014-01-01T00:00:00.000000000'\n",
      " '1992-01-01T00:00:00.000000000' '1997-01-01T00:00:00.000000000'\n",
      " '1993-01-01T00:00:00.000000000' '1994-01-01T00:00:00.000000000'\n",
      " '1982-01-01T00:00:00.000000000' '2016-01-01T00:00:00.000000000'\n",
      " '2003-01-01T00:00:00.000000000' '1986-01-01T00:00:00.000000000'\n",
      " '2000-01-01T00:00:00.000000000'                           'NaT'\n",
      " '1995-01-01T00:00:00.000000000' '1991-01-01T00:00:00.000000000'\n",
      " '1981-01-01T00:00:00.000000000' '1987-01-01T00:00:00.000000000'\n",
      " '1980-01-01T00:00:00.000000000' '1983-01-01T00:00:00.000000000']\n",
      "[76. nan 82. 80. 89. 58. 87. 91. 61. 97. 95. 77. 88. 83. 94. 93. 85. 86.\n",
      " 98. 96. 90. 84. 73. 74. 78. 92. 71. 72. 68. 62. 49. 67. 81. 66. 56. 79.\n",
      " 70. 59. 64. 75. 60. 63. 69. 50. 25. 42. 44. 55. 48. 57. 29. 47. 65. 54.\n",
      " 20. 53. 37. 38. 33. 52. 30. 32. 43. 45. 51. 40. 46. 39. 34. 35. 41. 36.\n",
      " 28. 31. 27. 26. 19. 23. 24. 21. 17. 22. 13.]\n",
      "['8' nan '8.3' '8.5' '6.6' '8.4' '8.6' '7.7' '6.3' '7.4' '8.2' '9' '7.9'\n",
      " '8.1' '8.7' '7.1' '3.4' '5.3' '4.8' '3.2' '8.9' '6.4' '7.8' '7.5' '2.6'\n",
      " '7.2' '9.2' '7' '7.3' '4.3' '7.6' '5.7' '5' '9.1' '6.5' 'tbd' '8.8' '6.9'\n",
      " '9.4' '6.8' '6.1' '6.7' '5.4' '4' '4.9' '4.5' '9.3' '6.2' '4.2' '6' '3.7'\n",
      " '4.1' '5.8' '5.6' '5.5' '4.4' '4.6' '5.9' '3.9' '3.1' '2.9' '5.2' '3.3'\n",
      " '4.7' '5.1' '3.5' '2.5' '1.9' '3' '2.7' '2.2' '2' '9.5' '2.1' '3.6' '2.8'\n",
      " '1.8' '3.8' '0' '1.6' '9.6' '2.4' '1.7' '1.1' '0.3' '1.5' '0.7' '1.2'\n",
      " '2.3' '0.5' '1.3' '0.2' '0.6' '1.4' '0.9' '1' '9.7']\n",
      "['E' nan 'M' 'T' 'E10+' 'K-A' 'AO' 'EC' 'RP']\n"
     ]
    }
   ],
   "source": [
    "print(df['year_of_release'].unique())\n",
    "print(df['critic_score'].unique())\n",
    "print(df['user_score'].unique())\n",
    "print(df['rating'].unique())"
   ]
  },
  {
   "cell_type": "markdown",
   "metadata": {},
   "source": [
    "**Посмотрели уникальные значения в столбцах в пропусками. В user_score заменити особенность - значение 'tbd'. скорее всего это ошибка или пропуски, заменим это знгачение на nan.**"
   ]
  },
  {
   "cell_type": "code",
   "execution_count": 70,
   "metadata": {},
   "outputs": [
    {
     "data": {
      "text/plain": [
       "array([8. , nan, 8.3, 8.5, 6.6, 8.4, 8.6, 7.7, 6.3, 7.4, 8.2, 9. , 7.9,\n",
       "       8.1, 8.7, 7.1, 3.4, 5.3, 4.8, 3.2, 8.9, 6.4, 7.8, 7.5, 2.6, 7.2,\n",
       "       9.2, 7. , 7.3, 4.3, 7.6, 5.7, 5. , 9.1, 6.5, 8.8, 6.9, 9.4, 6.8,\n",
       "       6.1, 6.7, 5.4, 4. , 4.9, 4.5, 9.3, 6.2, 4.2, 6. , 3.7, 4.1, 5.8,\n",
       "       5.6, 5.5, 4.4, 4.6, 5.9, 3.9, 3.1, 2.9, 5.2, 3.3, 4.7, 5.1, 3.5,\n",
       "       2.5, 1.9, 3. , 2.7, 2.2, 2. , 9.5, 2.1, 3.6, 2.8, 1.8, 3.8, 0. ,\n",
       "       1.6, 9.6, 2.4, 1.7, 1.1, 0.3, 1.5, 0.7, 1.2, 2.3, 0.5, 1.3, 0.2,\n",
       "       0.6, 1.4, 0.9, 1. , 9.7])"
      ]
     },
     "execution_count": 70,
     "metadata": {},
     "output_type": "execute_result"
    }
   ],
   "source": [
    "def user_scores_not_tbd(wrong_user_scores, correct_user_score):\n",
    "    df['user_score'] = df['user_score'].replace(wrong_user_scores, correct_user_score)\n",
    "user_scores_not_tbd('tbd', np.NaN)\n",
    "df['user_score'] = df['user_score'].astype('float64', errors='ignore')\n",
    "df['user_score'].unique()"
   ]
  },
  {
   "cell_type": "code",
   "execution_count": 71,
   "metadata": {
    "scrolled": true
   },
   "outputs": [
    {
     "name": "stdout",
     "output_type": "stream",
     "text": [
      "<class 'pandas.core.frame.DataFrame'>\n",
      "RangeIndex: 16715 entries, 0 to 16714\n",
      "Data columns (total 11 columns):\n",
      " #   Column           Non-Null Count  Dtype         \n",
      "---  ------           --------------  -----         \n",
      " 0   name             16713 non-null  object        \n",
      " 1   platform         16715 non-null  object        \n",
      " 2   year_of_release  16446 non-null  datetime64[ns]\n",
      " 3   genre            16713 non-null  object        \n",
      " 4   na_sales         16715 non-null  float64       \n",
      " 5   eu_sales         16715 non-null  float64       \n",
      " 6   jp_sales         16715 non-null  float64       \n",
      " 7   other_sales      16715 non-null  float64       \n",
      " 8   critic_score     8137 non-null   float64       \n",
      " 9   user_score       7590 non-null   float64       \n",
      " 10  rating           9949 non-null   object        \n",
      "dtypes: datetime64[ns](1), float64(6), object(4)\n",
      "memory usage: 1.4+ MB\n"
     ]
    }
   ],
   "source": [
    "df.info()"
   ]
  },
  {
   "cell_type": "code",
   "execution_count": 72,
   "metadata": {},
   "outputs": [
    {
     "data": {
      "text/html": [
       "<div>\n",
       "<style scoped>\n",
       "    .dataframe tbody tr th:only-of-type {\n",
       "        vertical-align: middle;\n",
       "    }\n",
       "\n",
       "    .dataframe tbody tr th {\n",
       "        vertical-align: top;\n",
       "    }\n",
       "\n",
       "    .dataframe thead th {\n",
       "        text-align: right;\n",
       "    }\n",
       "</style>\n",
       "<table border=\"1\" class=\"dataframe\">\n",
       "  <thead>\n",
       "    <tr style=\"text-align: right;\">\n",
       "      <th></th>\n",
       "      <th>name</th>\n",
       "      <th>platform</th>\n",
       "      <th>year_of_release</th>\n",
       "      <th>genre</th>\n",
       "      <th>na_sales</th>\n",
       "      <th>eu_sales</th>\n",
       "      <th>jp_sales</th>\n",
       "      <th>other_sales</th>\n",
       "      <th>critic_score</th>\n",
       "      <th>user_score</th>\n",
       "      <th>rating</th>\n",
       "    </tr>\n",
       "  </thead>\n",
       "  <tbody>\n",
       "    <tr>\n",
       "      <th>0</th>\n",
       "      <td>Wii Sports</td>\n",
       "      <td>Wii</td>\n",
       "      <td>2006-01-01</td>\n",
       "      <td>Sports</td>\n",
       "      <td>41.36</td>\n",
       "      <td>28.96</td>\n",
       "      <td>3.77</td>\n",
       "      <td>8.45</td>\n",
       "      <td>76.0</td>\n",
       "      <td>8.0</td>\n",
       "      <td>E</td>\n",
       "    </tr>\n",
       "    <tr>\n",
       "      <th>1</th>\n",
       "      <td>Super Mario Bros.</td>\n",
       "      <td>NES</td>\n",
       "      <td>1985-01-01</td>\n",
       "      <td>Platform</td>\n",
       "      <td>29.08</td>\n",
       "      <td>3.58</td>\n",
       "      <td>6.81</td>\n",
       "      <td>0.77</td>\n",
       "      <td>NaN</td>\n",
       "      <td>NaN</td>\n",
       "      <td>NaN</td>\n",
       "    </tr>\n",
       "    <tr>\n",
       "      <th>2</th>\n",
       "      <td>Mario Kart Wii</td>\n",
       "      <td>Wii</td>\n",
       "      <td>2008-01-01</td>\n",
       "      <td>Racing</td>\n",
       "      <td>15.68</td>\n",
       "      <td>12.76</td>\n",
       "      <td>3.79</td>\n",
       "      <td>3.29</td>\n",
       "      <td>82.0</td>\n",
       "      <td>8.3</td>\n",
       "      <td>E</td>\n",
       "    </tr>\n",
       "    <tr>\n",
       "      <th>3</th>\n",
       "      <td>Wii Sports Resort</td>\n",
       "      <td>Wii</td>\n",
       "      <td>2009-01-01</td>\n",
       "      <td>Sports</td>\n",
       "      <td>15.61</td>\n",
       "      <td>10.93</td>\n",
       "      <td>3.28</td>\n",
       "      <td>2.95</td>\n",
       "      <td>80.0</td>\n",
       "      <td>8.0</td>\n",
       "      <td>E</td>\n",
       "    </tr>\n",
       "    <tr>\n",
       "      <th>4</th>\n",
       "      <td>Pokemon Red/Pokemon Blue</td>\n",
       "      <td>GB</td>\n",
       "      <td>1996-01-01</td>\n",
       "      <td>Role-Playing</td>\n",
       "      <td>11.27</td>\n",
       "      <td>8.89</td>\n",
       "      <td>10.22</td>\n",
       "      <td>1.00</td>\n",
       "      <td>NaN</td>\n",
       "      <td>NaN</td>\n",
       "      <td>NaN</td>\n",
       "    </tr>\n",
       "    <tr>\n",
       "      <th>...</th>\n",
       "      <td>...</td>\n",
       "      <td>...</td>\n",
       "      <td>...</td>\n",
       "      <td>...</td>\n",
       "      <td>...</td>\n",
       "      <td>...</td>\n",
       "      <td>...</td>\n",
       "      <td>...</td>\n",
       "      <td>...</td>\n",
       "      <td>...</td>\n",
       "      <td>...</td>\n",
       "    </tr>\n",
       "    <tr>\n",
       "      <th>16439</th>\n",
       "      <td>Samurai Warriors: Sanada Maru</td>\n",
       "      <td>PS3</td>\n",
       "      <td>2016-01-01</td>\n",
       "      <td>Action</td>\n",
       "      <td>0.00</td>\n",
       "      <td>0.00</td>\n",
       "      <td>0.01</td>\n",
       "      <td>0.00</td>\n",
       "      <td>NaN</td>\n",
       "      <td>NaN</td>\n",
       "      <td>NaN</td>\n",
       "    </tr>\n",
       "    <tr>\n",
       "      <th>16440</th>\n",
       "      <td>LMA Manager 2007</td>\n",
       "      <td>X360</td>\n",
       "      <td>2006-01-01</td>\n",
       "      <td>Sports</td>\n",
       "      <td>0.00</td>\n",
       "      <td>0.01</td>\n",
       "      <td>0.00</td>\n",
       "      <td>0.00</td>\n",
       "      <td>NaN</td>\n",
       "      <td>NaN</td>\n",
       "      <td>NaN</td>\n",
       "    </tr>\n",
       "    <tr>\n",
       "      <th>16441</th>\n",
       "      <td>Haitaka no Psychedelica</td>\n",
       "      <td>PSV</td>\n",
       "      <td>2016-01-01</td>\n",
       "      <td>Adventure</td>\n",
       "      <td>0.00</td>\n",
       "      <td>0.00</td>\n",
       "      <td>0.01</td>\n",
       "      <td>0.00</td>\n",
       "      <td>NaN</td>\n",
       "      <td>NaN</td>\n",
       "      <td>NaN</td>\n",
       "    </tr>\n",
       "    <tr>\n",
       "      <th>16442</th>\n",
       "      <td>Spirits &amp; Spells</td>\n",
       "      <td>GBA</td>\n",
       "      <td>2003-01-01</td>\n",
       "      <td>Platform</td>\n",
       "      <td>0.01</td>\n",
       "      <td>0.00</td>\n",
       "      <td>0.00</td>\n",
       "      <td>0.00</td>\n",
       "      <td>NaN</td>\n",
       "      <td>NaN</td>\n",
       "      <td>NaN</td>\n",
       "    </tr>\n",
       "    <tr>\n",
       "      <th>16443</th>\n",
       "      <td>Winning Post 8 2016</td>\n",
       "      <td>PSV</td>\n",
       "      <td>2016-01-01</td>\n",
       "      <td>Simulation</td>\n",
       "      <td>0.00</td>\n",
       "      <td>0.00</td>\n",
       "      <td>0.01</td>\n",
       "      <td>0.00</td>\n",
       "      <td>NaN</td>\n",
       "      <td>NaN</td>\n",
       "      <td>NaN</td>\n",
       "    </tr>\n",
       "  </tbody>\n",
       "</table>\n",
       "<p>16444 rows × 11 columns</p>\n",
       "</div>"
      ],
      "text/plain": [
       "                                name platform year_of_release         genre  \\\n",
       "0                         Wii Sports      Wii      2006-01-01        Sports   \n",
       "1                  Super Mario Bros.      NES      1985-01-01      Platform   \n",
       "2                     Mario Kart Wii      Wii      2008-01-01        Racing   \n",
       "3                  Wii Sports Resort      Wii      2009-01-01        Sports   \n",
       "4           Pokemon Red/Pokemon Blue       GB      1996-01-01  Role-Playing   \n",
       "...                              ...      ...             ...           ...   \n",
       "16439  Samurai Warriors: Sanada Maru      PS3      2016-01-01        Action   \n",
       "16440               LMA Manager 2007     X360      2006-01-01        Sports   \n",
       "16441        Haitaka no Psychedelica      PSV      2016-01-01     Adventure   \n",
       "16442               Spirits & Spells      GBA      2003-01-01      Platform   \n",
       "16443            Winning Post 8 2016      PSV      2016-01-01    Simulation   \n",
       "\n",
       "       na_sales  eu_sales  jp_sales  other_sales  critic_score  user_score  \\\n",
       "0         41.36     28.96      3.77         8.45          76.0         8.0   \n",
       "1         29.08      3.58      6.81         0.77           NaN         NaN   \n",
       "2         15.68     12.76      3.79         3.29          82.0         8.3   \n",
       "3         15.61     10.93      3.28         2.95          80.0         8.0   \n",
       "4         11.27      8.89     10.22         1.00           NaN         NaN   \n",
       "...         ...       ...       ...          ...           ...         ...   \n",
       "16439      0.00      0.00      0.01         0.00           NaN         NaN   \n",
       "16440      0.00      0.01      0.00         0.00           NaN         NaN   \n",
       "16441      0.00      0.00      0.01         0.00           NaN         NaN   \n",
       "16442      0.01      0.00      0.00         0.00           NaN         NaN   \n",
       "16443      0.00      0.00      0.01         0.00           NaN         NaN   \n",
       "\n",
       "      rating  \n",
       "0          E  \n",
       "1        NaN  \n",
       "2          E  \n",
       "3          E  \n",
       "4        NaN  \n",
       "...      ...  \n",
       "16439    NaN  \n",
       "16440    NaN  \n",
       "16441    NaN  \n",
       "16442    NaN  \n",
       "16443    NaN  \n",
       "\n",
       "[16444 rows x 11 columns]"
      ]
     },
     "execution_count": 72,
     "metadata": {},
     "output_type": "execute_result"
    }
   ],
   "source": [
    "df.dropna(subset = ['name', 'year_of_release', 'genre'], inplace = True) # удадили пропуски \n",
    "df.reset_index(drop=True)"
   ]
  },
  {
   "cell_type": "code",
   "execution_count": 73,
   "metadata": {},
   "outputs": [],
   "source": [
    "df['rating'] = df['rating'].fillna('no_rating') #заменим пропуски в столбце rating на значение no_rating "
   ]
  },
  {
   "cell_type": "markdown",
   "metadata": {},
   "source": [
    "**Думаю пропуски в user_score, rating и critic_score могли получиться в результате технического сбоя, их трогать не будем, чтобы не искажать данные и последующий анализ.\n",
    "Два пропуска в Name, возможно забыли заполнить название, необходимо удалить, т.к. мы не поймем о какой игре идет речь. Так же поступим с year_of_release и genre**"
   ]
  },
  {
   "cell_type": "markdown",
   "metadata": {},
   "source": [
    "**Проверим пропуски после заполнения и удаления значений**"
   ]
  },
  {
   "cell_type": "code",
   "execution_count": 74,
   "metadata": {
    "scrolled": true
   },
   "outputs": [
    {
     "data": {
      "text/plain": [
       "name                  0\n",
       "platform              0\n",
       "year_of_release       0\n",
       "genre                 0\n",
       "na_sales              0\n",
       "eu_sales              0\n",
       "jp_sales              0\n",
       "other_sales           0\n",
       "critic_score       8461\n",
       "user_score         8981\n",
       "rating                0\n",
       "dtype: int64"
      ]
     },
     "execution_count": 74,
     "metadata": {},
     "output_type": "execute_result"
    }
   ],
   "source": [
    "df.isna().sum()"
   ]
  },
  {
   "cell_type": "markdown",
   "metadata": {},
   "source": [
    "**Посчитаем суммарные продажи во всех регионах и запишим их в отдельный столбец**"
   ]
  },
  {
   "cell_type": "code",
   "execution_count": 75,
   "metadata": {},
   "outputs": [
    {
     "name": "stdout",
     "output_type": "stream",
     "text": [
      "0        82.54\n",
      "1        40.24\n",
      "2        35.52\n",
      "3        32.77\n",
      "4        31.38\n",
      "         ...  \n",
      "16710     0.01\n",
      "16711     0.01\n",
      "16712     0.01\n",
      "16713     0.01\n",
      "16714     0.01\n",
      "Name: sales_sum, Length: 16444, dtype: float64\n"
     ]
    }
   ],
   "source": [
    "df['sales_sum'] =  df[['na_sales','eu_sales','jp_sales', 'other_sales']].sum(axis = 1)\n",
    "#df.head()\n",
    "print(df['sales_sum'])"
   ]
  },
  {
   "cell_type": "markdown",
   "metadata": {},
   "source": [
    "**3. Проведем исследовательский анализ данных**"
   ]
  },
  {
   "cell_type": "markdown",
   "metadata": {},
   "source": [
    "**Посмотрим, сколько игр выпускалось в разные годы. Важны ли данные за все периоды?**"
   ]
  },
  {
   "cell_type": "code",
   "execution_count": 76,
   "metadata": {},
   "outputs": [
    {
     "data": {
      "text/html": [
       "<div>\n",
       "<style scoped>\n",
       "    .dataframe tbody tr th:only-of-type {\n",
       "        vertical-align: middle;\n",
       "    }\n",
       "\n",
       "    .dataframe tbody tr th {\n",
       "        vertical-align: top;\n",
       "    }\n",
       "\n",
       "    .dataframe thead th {\n",
       "        text-align: right;\n",
       "    }\n",
       "</style>\n",
       "<table border=\"1\" class=\"dataframe\">\n",
       "  <thead>\n",
       "    <tr style=\"text-align: right;\">\n",
       "      <th></th>\n",
       "      <th>count</th>\n",
       "    </tr>\n",
       "    <tr>\n",
       "      <th>year_of_release</th>\n",
       "      <th></th>\n",
       "    </tr>\n",
       "  </thead>\n",
       "  <tbody>\n",
       "    <tr>\n",
       "      <th>1980-01-01</th>\n",
       "      <td>9</td>\n",
       "    </tr>\n",
       "    <tr>\n",
       "      <th>1981-01-01</th>\n",
       "      <td>46</td>\n",
       "    </tr>\n",
       "    <tr>\n",
       "      <th>1982-01-01</th>\n",
       "      <td>36</td>\n",
       "    </tr>\n",
       "    <tr>\n",
       "      <th>1983-01-01</th>\n",
       "      <td>17</td>\n",
       "    </tr>\n",
       "    <tr>\n",
       "      <th>1984-01-01</th>\n",
       "      <td>14</td>\n",
       "    </tr>\n",
       "    <tr>\n",
       "      <th>1985-01-01</th>\n",
       "      <td>14</td>\n",
       "    </tr>\n",
       "    <tr>\n",
       "      <th>1986-01-01</th>\n",
       "      <td>21</td>\n",
       "    </tr>\n",
       "    <tr>\n",
       "      <th>1987-01-01</th>\n",
       "      <td>16</td>\n",
       "    </tr>\n",
       "    <tr>\n",
       "      <th>1988-01-01</th>\n",
       "      <td>15</td>\n",
       "    </tr>\n",
       "    <tr>\n",
       "      <th>1989-01-01</th>\n",
       "      <td>17</td>\n",
       "    </tr>\n",
       "    <tr>\n",
       "      <th>1990-01-01</th>\n",
       "      <td>16</td>\n",
       "    </tr>\n",
       "    <tr>\n",
       "      <th>1991-01-01</th>\n",
       "      <td>41</td>\n",
       "    </tr>\n",
       "    <tr>\n",
       "      <th>1992-01-01</th>\n",
       "      <td>43</td>\n",
       "    </tr>\n",
       "    <tr>\n",
       "      <th>1993-01-01</th>\n",
       "      <td>60</td>\n",
       "    </tr>\n",
       "    <tr>\n",
       "      <th>1994-01-01</th>\n",
       "      <td>121</td>\n",
       "    </tr>\n",
       "    <tr>\n",
       "      <th>1995-01-01</th>\n",
       "      <td>219</td>\n",
       "    </tr>\n",
       "    <tr>\n",
       "      <th>1996-01-01</th>\n",
       "      <td>263</td>\n",
       "    </tr>\n",
       "    <tr>\n",
       "      <th>1997-01-01</th>\n",
       "      <td>289</td>\n",
       "    </tr>\n",
       "    <tr>\n",
       "      <th>1998-01-01</th>\n",
       "      <td>379</td>\n",
       "    </tr>\n",
       "    <tr>\n",
       "      <th>1999-01-01</th>\n",
       "      <td>338</td>\n",
       "    </tr>\n",
       "    <tr>\n",
       "      <th>2000-01-01</th>\n",
       "      <td>350</td>\n",
       "    </tr>\n",
       "    <tr>\n",
       "      <th>2001-01-01</th>\n",
       "      <td>482</td>\n",
       "    </tr>\n",
       "    <tr>\n",
       "      <th>2002-01-01</th>\n",
       "      <td>829</td>\n",
       "    </tr>\n",
       "    <tr>\n",
       "      <th>2003-01-01</th>\n",
       "      <td>775</td>\n",
       "    </tr>\n",
       "    <tr>\n",
       "      <th>2004-01-01</th>\n",
       "      <td>762</td>\n",
       "    </tr>\n",
       "    <tr>\n",
       "      <th>2005-01-01</th>\n",
       "      <td>939</td>\n",
       "    </tr>\n",
       "    <tr>\n",
       "      <th>2006-01-01</th>\n",
       "      <td>1006</td>\n",
       "    </tr>\n",
       "    <tr>\n",
       "      <th>2007-01-01</th>\n",
       "      <td>1197</td>\n",
       "    </tr>\n",
       "    <tr>\n",
       "      <th>2008-01-01</th>\n",
       "      <td>1427</td>\n",
       "    </tr>\n",
       "    <tr>\n",
       "      <th>2009-01-01</th>\n",
       "      <td>1426</td>\n",
       "    </tr>\n",
       "    <tr>\n",
       "      <th>2010-01-01</th>\n",
       "      <td>1255</td>\n",
       "    </tr>\n",
       "    <tr>\n",
       "      <th>2011-01-01</th>\n",
       "      <td>1136</td>\n",
       "    </tr>\n",
       "    <tr>\n",
       "      <th>2012-01-01</th>\n",
       "      <td>653</td>\n",
       "    </tr>\n",
       "    <tr>\n",
       "      <th>2013-01-01</th>\n",
       "      <td>544</td>\n",
       "    </tr>\n",
       "    <tr>\n",
       "      <th>2014-01-01</th>\n",
       "      <td>581</td>\n",
       "    </tr>\n",
       "    <tr>\n",
       "      <th>2015-01-01</th>\n",
       "      <td>606</td>\n",
       "    </tr>\n",
       "    <tr>\n",
       "      <th>2016-01-01</th>\n",
       "      <td>502</td>\n",
       "    </tr>\n",
       "  </tbody>\n",
       "</table>\n",
       "</div>"
      ],
      "text/plain": [
       "                 count\n",
       "year_of_release       \n",
       "1980-01-01           9\n",
       "1981-01-01          46\n",
       "1982-01-01          36\n",
       "1983-01-01          17\n",
       "1984-01-01          14\n",
       "1985-01-01          14\n",
       "1986-01-01          21\n",
       "1987-01-01          16\n",
       "1988-01-01          15\n",
       "1989-01-01          17\n",
       "1990-01-01          16\n",
       "1991-01-01          41\n",
       "1992-01-01          43\n",
       "1993-01-01          60\n",
       "1994-01-01         121\n",
       "1995-01-01         219\n",
       "1996-01-01         263\n",
       "1997-01-01         289\n",
       "1998-01-01         379\n",
       "1999-01-01         338\n",
       "2000-01-01         350\n",
       "2001-01-01         482\n",
       "2002-01-01         829\n",
       "2003-01-01         775\n",
       "2004-01-01         762\n",
       "2005-01-01         939\n",
       "2006-01-01        1006\n",
       "2007-01-01        1197\n",
       "2008-01-01        1427\n",
       "2009-01-01        1426\n",
       "2010-01-01        1255\n",
       "2011-01-01        1136\n",
       "2012-01-01         653\n",
       "2013-01-01         544\n",
       "2014-01-01         581\n",
       "2015-01-01         606\n",
       "2016-01-01         502"
      ]
     },
     "metadata": {},
     "output_type": "display_data"
    }
   ],
   "source": [
    "game_of_year_pivot_table = df.pivot_table(index = 'year_of_release', values = 'name', aggfunc=['count'])\n",
    "game_of_year_pivot_table.columns = ['count'] \n",
    "display(game_of_year_pivot_table)\n"
   ]
  },
  {
   "cell_type": "code",
   "execution_count": 77,
   "metadata": {},
   "outputs": [
    {
     "data": {
      "text/plain": [
       "<AxesSubplot:xlabel='year_of_release'>"
      ]
     },
     "execution_count": 77,
     "metadata": {},
     "output_type": "execute_result"
    },
    {
     "data": {
      "image/png": "[encoded data removed]",
      "text/plain": [
       "<Figure size 432x288 with 1 Axes>"
      ]
     },
     "metadata": {
      "needs_background": "light"
     },
     "output_type": "display_data"
    }
   ],
   "source": [
    "game_of_year_pivot_table.plot()"
   ]
  },
  {
   "cell_type": "markdown",
   "metadata": {},
   "source": [
    "**До 1993 года количество игр было не большим, с развитием технологий стало повышаться и количество игр. Пик пришел на 2008-2009 года.\n",
    "Я думаю важны данные за все периоды**"
   ]
  },
  {
   "cell_type": "markdown",
   "metadata": {},
   "source": [
    "**Посмотрим, как менялись продажи по платформам. Выберите платформы с наибольшими суммарными продажами и постройте распределение по годам. За какой характерный срок появляются новые и исчезают старые платформы?**"
   ]
  },
  {
   "cell_type": "code",
   "execution_count": 78,
   "metadata": {},
   "outputs": [
    {
     "data": {
      "text/html": [
       "<div>\n",
       "<style scoped>\n",
       "    .dataframe tbody tr th:only-of-type {\n",
       "        vertical-align: middle;\n",
       "    }\n",
       "\n",
       "    .dataframe tbody tr th {\n",
       "        vertical-align: top;\n",
       "    }\n",
       "\n",
       "    .dataframe thead th {\n",
       "        text-align: right;\n",
       "    }\n",
       "</style>\n",
       "<table border=\"1\" class=\"dataframe\">\n",
       "  <thead>\n",
       "    <tr style=\"text-align: right;\">\n",
       "      <th></th>\n",
       "      <th>sales_sum</th>\n",
       "    </tr>\n",
       "    <tr>\n",
       "      <th>platform</th>\n",
       "      <th></th>\n",
       "    </tr>\n",
       "  </thead>\n",
       "  <tbody>\n",
       "    <tr>\n",
       "      <th>PS2</th>\n",
       "      <td>1233.56</td>\n",
       "    </tr>\n",
       "    <tr>\n",
       "      <th>X360</th>\n",
       "      <td>961.24</td>\n",
       "    </tr>\n",
       "    <tr>\n",
       "      <th>PS3</th>\n",
       "      <td>931.34</td>\n",
       "    </tr>\n",
       "    <tr>\n",
       "      <th>Wii</th>\n",
       "      <td>891.18</td>\n",
       "    </tr>\n",
       "    <tr>\n",
       "      <th>DS</th>\n",
       "      <td>802.78</td>\n",
       "    </tr>\n",
       "    <tr>\n",
       "      <th>PS</th>\n",
       "      <td>727.58</td>\n",
       "    </tr>\n",
       "    <tr>\n",
       "      <th>PS4</th>\n",
       "      <td>314.14</td>\n",
       "    </tr>\n",
       "    <tr>\n",
       "      <th>GBA</th>\n",
       "      <td>312.88</td>\n",
       "    </tr>\n",
       "    <tr>\n",
       "      <th>PSP</th>\n",
       "      <td>289.53</td>\n",
       "    </tr>\n",
       "    <tr>\n",
       "      <th>3DS</th>\n",
       "      <td>257.81</td>\n",
       "    </tr>\n",
       "    <tr>\n",
       "      <th>PC</th>\n",
       "      <td>255.76</td>\n",
       "    </tr>\n",
       "    <tr>\n",
       "      <th>GB</th>\n",
       "      <td>254.43</td>\n",
       "    </tr>\n",
       "    <tr>\n",
       "      <th>XB</th>\n",
       "      <td>251.57</td>\n",
       "    </tr>\n",
       "    <tr>\n",
       "      <th>NES</th>\n",
       "      <td>251.05</td>\n",
       "    </tr>\n",
       "    <tr>\n",
       "      <th>N64</th>\n",
       "      <td>218.01</td>\n",
       "    </tr>\n",
       "    <tr>\n",
       "      <th>SNES</th>\n",
       "      <td>200.04</td>\n",
       "    </tr>\n",
       "    <tr>\n",
       "      <th>GC</th>\n",
       "      <td>196.73</td>\n",
       "    </tr>\n",
       "    <tr>\n",
       "      <th>XOne</th>\n",
       "      <td>159.32</td>\n",
       "    </tr>\n",
       "    <tr>\n",
       "      <th>2600</th>\n",
       "      <td>86.48</td>\n",
       "    </tr>\n",
       "    <tr>\n",
       "      <th>WiiU</th>\n",
       "      <td>82.19</td>\n",
       "    </tr>\n",
       "    <tr>\n",
       "      <th>PSV</th>\n",
       "      <td>53.81</td>\n",
       "    </tr>\n",
       "    <tr>\n",
       "      <th>SAT</th>\n",
       "      <td>33.59</td>\n",
       "    </tr>\n",
       "    <tr>\n",
       "      <th>GEN</th>\n",
       "      <td>28.35</td>\n",
       "    </tr>\n",
       "    <tr>\n",
       "      <th>DC</th>\n",
       "      <td>15.95</td>\n",
       "    </tr>\n",
       "    <tr>\n",
       "      <th>SCD</th>\n",
       "      <td>1.86</td>\n",
       "    </tr>\n",
       "    <tr>\n",
       "      <th>NG</th>\n",
       "      <td>1.44</td>\n",
       "    </tr>\n",
       "    <tr>\n",
       "      <th>WS</th>\n",
       "      <td>1.42</td>\n",
       "    </tr>\n",
       "    <tr>\n",
       "      <th>TG16</th>\n",
       "      <td>0.16</td>\n",
       "    </tr>\n",
       "    <tr>\n",
       "      <th>3DO</th>\n",
       "      <td>0.10</td>\n",
       "    </tr>\n",
       "    <tr>\n",
       "      <th>GG</th>\n",
       "      <td>0.04</td>\n",
       "    </tr>\n",
       "    <tr>\n",
       "      <th>PCFX</th>\n",
       "      <td>0.03</td>\n",
       "    </tr>\n",
       "  </tbody>\n",
       "</table>\n",
       "</div>"
      ],
      "text/plain": [
       "          sales_sum\n",
       "platform           \n",
       "PS2         1233.56\n",
       "X360         961.24\n",
       "PS3          931.34\n",
       "Wii          891.18\n",
       "DS           802.78\n",
       "PS           727.58\n",
       "PS4          314.14\n",
       "GBA          312.88\n",
       "PSP          289.53\n",
       "3DS          257.81\n",
       "PC           255.76\n",
       "GB           254.43\n",
       "XB           251.57\n",
       "NES          251.05\n",
       "N64          218.01\n",
       "SNES         200.04\n",
       "GC           196.73\n",
       "XOne         159.32\n",
       "2600          86.48\n",
       "WiiU          82.19\n",
       "PSV           53.81\n",
       "SAT           33.59\n",
       "GEN           28.35\n",
       "DC            15.95\n",
       "SCD            1.86\n",
       "NG             1.44\n",
       "WS             1.42\n",
       "TG16           0.16\n",
       "3DO            0.10\n",
       "GG             0.04\n",
       "PCFX           0.03"
      ]
     },
     "metadata": {},
     "output_type": "display_data"
    }
   ],
   "source": [
    "platform_sales_pivot_table = df.pivot_table( index = ['platform'], values='sales_sum', aggfunc = 'sum').sort_values(by='sales_sum', ascending=False)\n",
    "platform_sales_pivot_table = platform_sales_pivot_table.sort_values('sales_sum', ascending = False)\n",
    "display(platform_sales_pivot_table) "
   ]
  },
  {
   "cell_type": "code",
   "execution_count": 79,
   "metadata": {},
   "outputs": [
    {
     "data": {
      "text/plain": [
       "['PS2', 'X360', 'PS3', 'Wii', 'DS', 'PS']"
      ]
     },
     "metadata": {},
     "output_type": "display_data"
    }
   ],
   "source": [
    "#top_platform = platform_sales_pivot_table.head() #выведем 5ку лидеров продаж\n",
    "top_platform = list(platform_sales_pivot_table.index[:6])\n",
    "display(top_platform)"
   ]
  },
  {
   "cell_type": "code",
   "execution_count": 80,
   "metadata": {},
   "outputs": [
    {
     "data": {
      "text/html": [
       "<div>\n",
       "<style scoped>\n",
       "    .dataframe tbody tr th:only-of-type {\n",
       "        vertical-align: middle;\n",
       "    }\n",
       "\n",
       "    .dataframe tbody tr th {\n",
       "        vertical-align: top;\n",
       "    }\n",
       "\n",
       "    .dataframe thead th {\n",
       "        text-align: right;\n",
       "    }\n",
       "</style>\n",
       "<table border=\"1\" class=\"dataframe\">\n",
       "  <thead>\n",
       "    <tr style=\"text-align: right;\">\n",
       "      <th></th>\n",
       "      <th></th>\n",
       "      <th>sales_sum</th>\n",
       "    </tr>\n",
       "    <tr>\n",
       "      <th>platform</th>\n",
       "      <th>year_of_release</th>\n",
       "      <th></th>\n",
       "    </tr>\n",
       "  </thead>\n",
       "  <tbody>\n",
       "    <tr>\n",
       "      <th rowspan=\"12\" valign=\"top\">PS2</th>\n",
       "      <th>2000-01-01</th>\n",
       "      <td>39.17</td>\n",
       "    </tr>\n",
       "    <tr>\n",
       "      <th>2001-01-01</th>\n",
       "      <td>166.43</td>\n",
       "    </tr>\n",
       "    <tr>\n",
       "      <th>2002-01-01</th>\n",
       "      <td>205.38</td>\n",
       "    </tr>\n",
       "    <tr>\n",
       "      <th>2003-01-01</th>\n",
       "      <td>184.31</td>\n",
       "    </tr>\n",
       "    <tr>\n",
       "      <th>2004-01-01</th>\n",
       "      <td>211.81</td>\n",
       "    </tr>\n",
       "    <tr>\n",
       "      <th>2005-01-01</th>\n",
       "      <td>160.66</td>\n",
       "    </tr>\n",
       "    <tr>\n",
       "      <th>2006-01-01</th>\n",
       "      <td>103.42</td>\n",
       "    </tr>\n",
       "    <tr>\n",
       "      <th>2007-01-01</th>\n",
       "      <td>75.99</td>\n",
       "    </tr>\n",
       "    <tr>\n",
       "      <th>2008-01-01</th>\n",
       "      <td>53.90</td>\n",
       "    </tr>\n",
       "    <tr>\n",
       "      <th>2009-01-01</th>\n",
       "      <td>26.40</td>\n",
       "    </tr>\n",
       "    <tr>\n",
       "      <th>2010-01-01</th>\n",
       "      <td>5.64</td>\n",
       "    </tr>\n",
       "    <tr>\n",
       "      <th>2011-01-01</th>\n",
       "      <td>0.45</td>\n",
       "    </tr>\n",
       "  </tbody>\n",
       "</table>\n",
       "</div>"
      ],
      "text/plain": [
       "                          sales_sum\n",
       "platform year_of_release           \n",
       "PS2      2000-01-01           39.17\n",
       "         2001-01-01          166.43\n",
       "         2002-01-01          205.38\n",
       "         2003-01-01          184.31\n",
       "         2004-01-01          211.81\n",
       "         2005-01-01          160.66\n",
       "         2006-01-01          103.42\n",
       "         2007-01-01           75.99\n",
       "         2008-01-01           53.90\n",
       "         2009-01-01           26.40\n",
       "         2010-01-01            5.64\n",
       "         2011-01-01            0.45"
      ]
     },
     "metadata": {},
     "output_type": "display_data"
    },
    {
     "data": {
      "text/html": [
       "<div>\n",
       "<style scoped>\n",
       "    .dataframe tbody tr th:only-of-type {\n",
       "        vertical-align: middle;\n",
       "    }\n",
       "\n",
       "    .dataframe tbody tr th {\n",
       "        vertical-align: top;\n",
       "    }\n",
       "\n",
       "    .dataframe thead th {\n",
       "        text-align: right;\n",
       "    }\n",
       "</style>\n",
       "<table border=\"1\" class=\"dataframe\">\n",
       "  <thead>\n",
       "    <tr style=\"text-align: right;\">\n",
       "      <th></th>\n",
       "      <th></th>\n",
       "      <th>sales_sum</th>\n",
       "    </tr>\n",
       "    <tr>\n",
       "      <th>platform</th>\n",
       "      <th>year_of_release</th>\n",
       "      <th></th>\n",
       "    </tr>\n",
       "  </thead>\n",
       "  <tbody>\n",
       "    <tr>\n",
       "      <th rowspan=\"12\" valign=\"top\">X360</th>\n",
       "      <th>2005-01-01</th>\n",
       "      <td>8.25</td>\n",
       "    </tr>\n",
       "    <tr>\n",
       "      <th>2006-01-01</th>\n",
       "      <td>51.62</td>\n",
       "    </tr>\n",
       "    <tr>\n",
       "      <th>2007-01-01</th>\n",
       "      <td>95.41</td>\n",
       "    </tr>\n",
       "    <tr>\n",
       "      <th>2008-01-01</th>\n",
       "      <td>135.26</td>\n",
       "    </tr>\n",
       "    <tr>\n",
       "      <th>2009-01-01</th>\n",
       "      <td>120.29</td>\n",
       "    </tr>\n",
       "    <tr>\n",
       "      <th>2010-01-01</th>\n",
       "      <td>170.03</td>\n",
       "    </tr>\n",
       "    <tr>\n",
       "      <th>2011-01-01</th>\n",
       "      <td>143.84</td>\n",
       "    </tr>\n",
       "    <tr>\n",
       "      <th>2012-01-01</th>\n",
       "      <td>99.74</td>\n",
       "    </tr>\n",
       "    <tr>\n",
       "      <th>2013-01-01</th>\n",
       "      <td>88.58</td>\n",
       "    </tr>\n",
       "    <tr>\n",
       "      <th>2014-01-01</th>\n",
       "      <td>34.74</td>\n",
       "    </tr>\n",
       "    <tr>\n",
       "      <th>2015-01-01</th>\n",
       "      <td>11.96</td>\n",
       "    </tr>\n",
       "    <tr>\n",
       "      <th>2016-01-01</th>\n",
       "      <td>1.52</td>\n",
       "    </tr>\n",
       "  </tbody>\n",
       "</table>\n",
       "</div>"
      ],
      "text/plain": [
       "                          sales_sum\n",
       "platform year_of_release           \n",
       "X360     2005-01-01            8.25\n",
       "         2006-01-01           51.62\n",
       "         2007-01-01           95.41\n",
       "         2008-01-01          135.26\n",
       "         2009-01-01          120.29\n",
       "         2010-01-01          170.03\n",
       "         2011-01-01          143.84\n",
       "         2012-01-01           99.74\n",
       "         2013-01-01           88.58\n",
       "         2014-01-01           34.74\n",
       "         2015-01-01           11.96\n",
       "         2016-01-01            1.52"
      ]
     },
     "metadata": {},
     "output_type": "display_data"
    },
    {
     "data": {
      "text/html": [
       "<div>\n",
       "<style scoped>\n",
       "    .dataframe tbody tr th:only-of-type {\n",
       "        vertical-align: middle;\n",
       "    }\n",
       "\n",
       "    .dataframe tbody tr th {\n",
       "        vertical-align: top;\n",
       "    }\n",
       "\n",
       "    .dataframe thead th {\n",
       "        text-align: right;\n",
       "    }\n",
       "</style>\n",
       "<table border=\"1\" class=\"dataframe\">\n",
       "  <thead>\n",
       "    <tr style=\"text-align: right;\">\n",
       "      <th></th>\n",
       "      <th></th>\n",
       "      <th>sales_sum</th>\n",
       "    </tr>\n",
       "    <tr>\n",
       "      <th>platform</th>\n",
       "      <th>year_of_release</th>\n",
       "      <th></th>\n",
       "    </tr>\n",
       "  </thead>\n",
       "  <tbody>\n",
       "    <tr>\n",
       "      <th rowspan=\"11\" valign=\"top\">PS3</th>\n",
       "      <th>2006-01-01</th>\n",
       "      <td>20.96</td>\n",
       "    </tr>\n",
       "    <tr>\n",
       "      <th>2007-01-01</th>\n",
       "      <td>73.19</td>\n",
       "    </tr>\n",
       "    <tr>\n",
       "      <th>2008-01-01</th>\n",
       "      <td>118.52</td>\n",
       "    </tr>\n",
       "    <tr>\n",
       "      <th>2009-01-01</th>\n",
       "      <td>130.93</td>\n",
       "    </tr>\n",
       "    <tr>\n",
       "      <th>2010-01-01</th>\n",
       "      <td>142.17</td>\n",
       "    </tr>\n",
       "    <tr>\n",
       "      <th>2011-01-01</th>\n",
       "      <td>156.78</td>\n",
       "    </tr>\n",
       "    <tr>\n",
       "      <th>2012-01-01</th>\n",
       "      <td>107.36</td>\n",
       "    </tr>\n",
       "    <tr>\n",
       "      <th>2013-01-01</th>\n",
       "      <td>113.25</td>\n",
       "    </tr>\n",
       "    <tr>\n",
       "      <th>2014-01-01</th>\n",
       "      <td>47.76</td>\n",
       "    </tr>\n",
       "    <tr>\n",
       "      <th>2015-01-01</th>\n",
       "      <td>16.82</td>\n",
       "    </tr>\n",
       "    <tr>\n",
       "      <th>2016-01-01</th>\n",
       "      <td>3.60</td>\n",
       "    </tr>\n",
       "  </tbody>\n",
       "</table>\n",
       "</div>"
      ],
      "text/plain": [
       "                          sales_sum\n",
       "platform year_of_release           \n",
       "PS3      2006-01-01           20.96\n",
       "         2007-01-01           73.19\n",
       "         2008-01-01          118.52\n",
       "         2009-01-01          130.93\n",
       "         2010-01-01          142.17\n",
       "         2011-01-01          156.78\n",
       "         2012-01-01          107.36\n",
       "         2013-01-01          113.25\n",
       "         2014-01-01           47.76\n",
       "         2015-01-01           16.82\n",
       "         2016-01-01            3.60"
      ]
     },
     "metadata": {},
     "output_type": "display_data"
    },
    {
     "data": {
      "text/html": [
       "<div>\n",
       "<style scoped>\n",
       "    .dataframe tbody tr th:only-of-type {\n",
       "        vertical-align: middle;\n",
       "    }\n",
       "\n",
       "    .dataframe tbody tr th {\n",
       "        vertical-align: top;\n",
       "    }\n",
       "\n",
       "    .dataframe thead th {\n",
       "        text-align: right;\n",
       "    }\n",
       "</style>\n",
       "<table border=\"1\" class=\"dataframe\">\n",
       "  <thead>\n",
       "    <tr style=\"text-align: right;\">\n",
       "      <th></th>\n",
       "      <th></th>\n",
       "      <th>sales_sum</th>\n",
       "    </tr>\n",
       "    <tr>\n",
       "      <th>platform</th>\n",
       "      <th>year_of_release</th>\n",
       "      <th></th>\n",
       "    </tr>\n",
       "  </thead>\n",
       "  <tbody>\n",
       "    <tr>\n",
       "      <th rowspan=\"11\" valign=\"top\">Wii</th>\n",
       "      <th>2006-01-01</th>\n",
       "      <td>137.15</td>\n",
       "    </tr>\n",
       "    <tr>\n",
       "      <th>2007-01-01</th>\n",
       "      <td>152.77</td>\n",
       "    </tr>\n",
       "    <tr>\n",
       "      <th>2008-01-01</th>\n",
       "      <td>171.32</td>\n",
       "    </tr>\n",
       "    <tr>\n",
       "      <th>2009-01-01</th>\n",
       "      <td>206.97</td>\n",
       "    </tr>\n",
       "    <tr>\n",
       "      <th>2010-01-01</th>\n",
       "      <td>127.95</td>\n",
       "    </tr>\n",
       "    <tr>\n",
       "      <th>2011-01-01</th>\n",
       "      <td>59.65</td>\n",
       "    </tr>\n",
       "    <tr>\n",
       "      <th>2012-01-01</th>\n",
       "      <td>21.71</td>\n",
       "    </tr>\n",
       "    <tr>\n",
       "      <th>2013-01-01</th>\n",
       "      <td>8.59</td>\n",
       "    </tr>\n",
       "    <tr>\n",
       "      <th>2014-01-01</th>\n",
       "      <td>3.75</td>\n",
       "    </tr>\n",
       "    <tr>\n",
       "      <th>2015-01-01</th>\n",
       "      <td>1.14</td>\n",
       "    </tr>\n",
       "    <tr>\n",
       "      <th>2016-01-01</th>\n",
       "      <td>0.18</td>\n",
       "    </tr>\n",
       "  </tbody>\n",
       "</table>\n",
       "</div>"
      ],
      "text/plain": [
       "                          sales_sum\n",
       "platform year_of_release           \n",
       "Wii      2006-01-01          137.15\n",
       "         2007-01-01          152.77\n",
       "         2008-01-01          171.32\n",
       "         2009-01-01          206.97\n",
       "         2010-01-01          127.95\n",
       "         2011-01-01           59.65\n",
       "         2012-01-01           21.71\n",
       "         2013-01-01            8.59\n",
       "         2014-01-01            3.75\n",
       "         2015-01-01            1.14\n",
       "         2016-01-01            0.18"
      ]
     },
     "metadata": {},
     "output_type": "display_data"
    },
    {
     "data": {
      "text/html": [
       "<div>\n",
       "<style scoped>\n",
       "    .dataframe tbody tr th:only-of-type {\n",
       "        vertical-align: middle;\n",
       "    }\n",
       "\n",
       "    .dataframe tbody tr th {\n",
       "        vertical-align: top;\n",
       "    }\n",
       "\n",
       "    .dataframe thead th {\n",
       "        text-align: right;\n",
       "    }\n",
       "</style>\n",
       "<table border=\"1\" class=\"dataframe\">\n",
       "  <thead>\n",
       "    <tr style=\"text-align: right;\">\n",
       "      <th></th>\n",
       "      <th></th>\n",
       "      <th>sales_sum</th>\n",
       "    </tr>\n",
       "    <tr>\n",
       "      <th>platform</th>\n",
       "      <th>year_of_release</th>\n",
       "      <th></th>\n",
       "    </tr>\n",
       "  </thead>\n",
       "  <tbody>\n",
       "    <tr>\n",
       "      <th rowspan=\"11\" valign=\"top\">DS</th>\n",
       "      <th>1985-01-01</th>\n",
       "      <td>0.02</td>\n",
       "    </tr>\n",
       "    <tr>\n",
       "      <th>2004-01-01</th>\n",
       "      <td>17.27</td>\n",
       "    </tr>\n",
       "    <tr>\n",
       "      <th>2005-01-01</th>\n",
       "      <td>130.14</td>\n",
       "    </tr>\n",
       "    <tr>\n",
       "      <th>2006-01-01</th>\n",
       "      <td>119.81</td>\n",
       "    </tr>\n",
       "    <tr>\n",
       "      <th>2007-01-01</th>\n",
       "      <td>146.94</td>\n",
       "    </tr>\n",
       "    <tr>\n",
       "      <th>2008-01-01</th>\n",
       "      <td>145.31</td>\n",
       "    </tr>\n",
       "    <tr>\n",
       "      <th>2009-01-01</th>\n",
       "      <td>119.54</td>\n",
       "    </tr>\n",
       "    <tr>\n",
       "      <th>2010-01-01</th>\n",
       "      <td>85.02</td>\n",
       "    </tr>\n",
       "    <tr>\n",
       "      <th>2011-01-01</th>\n",
       "      <td>26.18</td>\n",
       "    </tr>\n",
       "    <tr>\n",
       "      <th>2012-01-01</th>\n",
       "      <td>11.01</td>\n",
       "    </tr>\n",
       "    <tr>\n",
       "      <th>2013-01-01</th>\n",
       "      <td>1.54</td>\n",
       "    </tr>\n",
       "  </tbody>\n",
       "</table>\n",
       "</div>"
      ],
      "text/plain": [
       "                          sales_sum\n",
       "platform year_of_release           \n",
       "DS       1985-01-01            0.02\n",
       "         2004-01-01           17.27\n",
       "         2005-01-01          130.14\n",
       "         2006-01-01          119.81\n",
       "         2007-01-01          146.94\n",
       "         2008-01-01          145.31\n",
       "         2009-01-01          119.54\n",
       "         2010-01-01           85.02\n",
       "         2011-01-01           26.18\n",
       "         2012-01-01           11.01\n",
       "         2013-01-01            1.54"
      ]
     },
     "metadata": {},
     "output_type": "display_data"
    },
    {
     "data": {
      "text/html": [
       "<div>\n",
       "<style scoped>\n",
       "    .dataframe tbody tr th:only-of-type {\n",
       "        vertical-align: middle;\n",
       "    }\n",
       "\n",
       "    .dataframe tbody tr th {\n",
       "        vertical-align: top;\n",
       "    }\n",
       "\n",
       "    .dataframe thead th {\n",
       "        text-align: right;\n",
       "    }\n",
       "</style>\n",
       "<table border=\"1\" class=\"dataframe\">\n",
       "  <thead>\n",
       "    <tr style=\"text-align: right;\">\n",
       "      <th></th>\n",
       "      <th></th>\n",
       "      <th>sales_sum</th>\n",
       "    </tr>\n",
       "    <tr>\n",
       "      <th>platform</th>\n",
       "      <th>year_of_release</th>\n",
       "      <th></th>\n",
       "    </tr>\n",
       "  </thead>\n",
       "  <tbody>\n",
       "    <tr>\n",
       "      <th rowspan=\"10\" valign=\"top\">PS</th>\n",
       "      <th>1994-01-01</th>\n",
       "      <td>6.03</td>\n",
       "    </tr>\n",
       "    <tr>\n",
       "      <th>1995-01-01</th>\n",
       "      <td>35.96</td>\n",
       "    </tr>\n",
       "    <tr>\n",
       "      <th>1996-01-01</th>\n",
       "      <td>94.70</td>\n",
       "    </tr>\n",
       "    <tr>\n",
       "      <th>1997-01-01</th>\n",
       "      <td>136.17</td>\n",
       "    </tr>\n",
       "    <tr>\n",
       "      <th>1998-01-01</th>\n",
       "      <td>169.49</td>\n",
       "    </tr>\n",
       "    <tr>\n",
       "      <th>1999-01-01</th>\n",
       "      <td>144.53</td>\n",
       "    </tr>\n",
       "    <tr>\n",
       "      <th>2000-01-01</th>\n",
       "      <td>96.37</td>\n",
       "    </tr>\n",
       "    <tr>\n",
       "      <th>2001-01-01</th>\n",
       "      <td>35.59</td>\n",
       "    </tr>\n",
       "    <tr>\n",
       "      <th>2002-01-01</th>\n",
       "      <td>6.67</td>\n",
       "    </tr>\n",
       "    <tr>\n",
       "      <th>2003-01-01</th>\n",
       "      <td>2.07</td>\n",
       "    </tr>\n",
       "  </tbody>\n",
       "</table>\n",
       "</div>"
      ],
      "text/plain": [
       "                          sales_sum\n",
       "platform year_of_release           \n",
       "PS       1994-01-01            6.03\n",
       "         1995-01-01           35.96\n",
       "         1996-01-01           94.70\n",
       "         1997-01-01          136.17\n",
       "         1998-01-01          169.49\n",
       "         1999-01-01          144.53\n",
       "         2000-01-01           96.37\n",
       "         2001-01-01           35.59\n",
       "         2002-01-01            6.67\n",
       "         2003-01-01            2.07"
      ]
     },
     "metadata": {},
     "output_type": "display_data"
    }
   ],
   "source": [
    "for platform in top_platform:\n",
    "    #display('Платформа ',platform)\n",
    "    platform_sales_pivot_table = pd.pivot_table(df.query('platform == @platform'), index=['platform','year_of_release'], values='sales_sum', aggfunc='sum')\n",
    "    display(platform_sales_pivot_table)"
   ]
  },
  {
   "cell_type": "code",
   "execution_count": 81,
   "metadata": {},
   "outputs": [
    {
     "name": "stdout",
     "output_type": "stream",
     "text": [
      "Платформа  PS4\n",
      "                          sales_sum\n",
      "platform year_of_release           \n",
      "PS4      2013-01-01           25.99\n",
      "         2014-01-01          100.00\n",
      "         2015-01-01          118.90\n",
      "         2016-01-01           69.25\n",
      "\n"
     ]
    }
   ],
   "source": [
    "print('Платформа ','PS4')\n",
    "platform_sales_pivot_table = pd.pivot_table(df.query('platform == \"PS4\"'), \n",
    "                                            index=['platform','year_of_release'], \n",
    "                                            values='sales_sum', aggfunc='sum')\n",
    "print(platform_sales_pivot_table)\n",
    "print()"
   ]
  },
  {
   "cell_type": "markdown",
   "metadata": {},
   "source": [
    "**Популярные платформы используются 5-12 лет\n",
    "Для платформ, которые пользуются популярностью, срок использования равен 8-12 лет. Можно проследить, как менялись поколения для приствок PS: PS 1994-2003, PS2 2000-2011, PS3 2006- 2016, PS4 2013-2016(данные только до 2016). Каждые 6-7 лет выходит новая платформа, но предыдущие платформы еще продаются 3 года.**"
   ]
  },
  {
   "cell_type": "markdown",
   "metadata": {},
   "source": [
    "**Возьмем данные за актуальный период: 2015 - 2016 года. Период с начала создания платформы PS4. Эти данные помогут построить прогноз на 2017 год.**"
   ]
  },
  {
   "cell_type": "code",
   "execution_count": 82,
   "metadata": {},
   "outputs": [],
   "source": [
    "actual_game = df.query('year_of_release > 2015') #выбрали данные за актуальный период"
   ]
  },
  {
   "cell_type": "markdown",
   "metadata": {},
   "source": [
    "**Посмотрим какие платформы лидируют по продажам, растут или падают? Выберем несколько потенциально прибыльных платформ**"
   ]
  },
  {
   "cell_type": "code",
   "execution_count": 83,
   "metadata": {},
   "outputs": [
    {
     "data": {
      "text/html": [
       "<div>\n",
       "<style scoped>\n",
       "    .dataframe tbody tr th:only-of-type {\n",
       "        vertical-align: middle;\n",
       "    }\n",
       "\n",
       "    .dataframe tbody tr th {\n",
       "        vertical-align: top;\n",
       "    }\n",
       "\n",
       "    .dataframe thead tr th {\n",
       "        text-align: left;\n",
       "    }\n",
       "\n",
       "    .dataframe thead tr:last-of-type th {\n",
       "        text-align: right;\n",
       "    }\n",
       "</style>\n",
       "<table border=\"1\" class=\"dataframe\">\n",
       "  <thead>\n",
       "    <tr>\n",
       "      <th></th>\n",
       "      <th>sum</th>\n",
       "    </tr>\n",
       "    <tr>\n",
       "      <th></th>\n",
       "      <th>sales_sum</th>\n",
       "    </tr>\n",
       "    <tr>\n",
       "      <th>platform</th>\n",
       "      <th></th>\n",
       "    </tr>\n",
       "  </thead>\n",
       "  <tbody>\n",
       "    <tr>\n",
       "      <th>3DS</th>\n",
       "      <td>15.14</td>\n",
       "    </tr>\n",
       "    <tr>\n",
       "      <th>PC</th>\n",
       "      <td>5.25</td>\n",
       "    </tr>\n",
       "    <tr>\n",
       "      <th>PS3</th>\n",
       "      <td>3.60</td>\n",
       "    </tr>\n",
       "    <tr>\n",
       "      <th>PS4</th>\n",
       "      <td>69.25</td>\n",
       "    </tr>\n",
       "    <tr>\n",
       "      <th>PSV</th>\n",
       "      <td>4.25</td>\n",
       "    </tr>\n",
       "    <tr>\n",
       "      <th>Wii</th>\n",
       "      <td>0.18</td>\n",
       "    </tr>\n",
       "    <tr>\n",
       "      <th>WiiU</th>\n",
       "      <td>4.60</td>\n",
       "    </tr>\n",
       "    <tr>\n",
       "      <th>X360</th>\n",
       "      <td>1.52</td>\n",
       "    </tr>\n",
       "    <tr>\n",
       "      <th>XOne</th>\n",
       "      <td>26.15</td>\n",
       "    </tr>\n",
       "  </tbody>\n",
       "</table>\n",
       "</div>"
      ],
      "text/plain": [
       "               sum\n",
       "         sales_sum\n",
       "platform          \n",
       "3DS          15.14\n",
       "PC            5.25\n",
       "PS3           3.60\n",
       "PS4          69.25\n",
       "PSV           4.25\n",
       "Wii           0.18\n",
       "WiiU          4.60\n",
       "X360          1.52\n",
       "XOne         26.15"
      ]
     },
     "metadata": {},
     "output_type": "display_data"
    }
   ],
   "source": [
    "actual_platform_pivot_table = actual_game.pivot_table(index = ['platform',], values = 'sales_sum', aggfunc=['sum'])\n",
    "actual_platform_pivot_table['sum']\n",
    "display(actual_platform_pivot_table)"
   ]
  },
  {
   "cell_type": "markdown",
   "metadata": {},
   "source": [
    "**Лидеры продаж: PS4, XOne, 3DS**"
   ]
  },
  {
   "cell_type": "markdown",
   "metadata": {},
   "source": [
    "**Построем график «ящик с усами» по глобальным продажам игр в разбивке по платформам. Опишим результат**"
   ]
  },
  {
   "cell_type": "code",
   "execution_count": 84,
   "metadata": {},
   "outputs": [
    {
     "data": {
      "text/plain": [
       "count    502.000000\n",
       "mean       0.258845\n",
       "std        0.698041\n",
       "min        0.010000\n",
       "25%        0.020000\n",
       "50%        0.060000\n",
       "75%        0.200000\n",
       "max        7.600000\n",
       "Name: sales_sum, dtype: float64"
      ]
     },
     "execution_count": 84,
     "metadata": {},
     "output_type": "execute_result"
    },
    {
     "data": {
      "image/png": "[encoded data removed]",
      "text/plain": [
       "<Figure size 432x288 with 1 Axes>"
      ]
     },
     "metadata": {
      "needs_background": "light"
     },
     "output_type": "display_data"
    }
   ],
   "source": [
    "actual_game.boxplot(column = 'sales_sum')\n",
    "actual_game['sales_sum'].describe()"
   ]
  },
  {
   "cell_type": "code",
   "execution_count": 85,
   "metadata": {},
   "outputs": [
    {
     "data": {
      "text/plain": [
       "(0.0, 0.5)"
      ]
     },
     "execution_count": 85,
     "metadata": {},
     "output_type": "execute_result"
    },
    {
     "data": {
      "image/png": "[encoded data removed]",
      "text/plain": [
       "<Figure size 432x288 with 1 Axes>"
      ]
     },
     "metadata": {
      "needs_background": "light"
     },
     "output_type": "display_data"
    }
   ],
   "source": [
    "actual_game.boxplot(column = 'sales_sum')\n",
    "plt.ylim(0, 0.5)"
   ]
  },
  {
   "cell_type": "code",
   "execution_count": 86,
   "metadata": {},
   "outputs": [
    {
     "data": {
      "text/plain": [
       "count    164.000000\n",
       "mean       0.422256\n",
       "std        0.968877\n",
       "min        0.010000\n",
       "25%        0.030000\n",
       "50%        0.085000\n",
       "75%        0.352500\n",
       "max        7.600000\n",
       "Name: sales_sum, dtype: float64"
      ]
     },
     "execution_count": 86,
     "metadata": {},
     "output_type": "execute_result"
    },
    {
     "data": {
      "image/png": "[encoded data removed]",
      "text/plain": [
       "<Figure size 432x288 with 1 Axes>"
      ]
     },
     "metadata": {
      "needs_background": "light"
     },
     "output_type": "display_data"
    }
   ],
   "source": [
    "PS4_actual_game = actual_game.query('platform ==\"PS4\"')\n",
    "PS4_actual_game.boxplot(column = 'sales_sum')\n",
    "PS4_actual_game['sales_sum'].describe()"
   ]
  },
  {
   "cell_type": "code",
   "execution_count": 87,
   "metadata": {},
   "outputs": [
    {
     "data": {
      "text/plain": [
       "(0.0, 1.0)"
      ]
     },
     "execution_count": 87,
     "metadata": {},
     "output_type": "execute_result"
    },
    {
     "data": {
      "image/png": "[encoded data removed]",
      "text/plain": [
       "<Figure size 432x288 with 1 Axes>"
      ]
     },
     "metadata": {
      "needs_background": "light"
     },
     "output_type": "display_data"
    }
   ],
   "source": [
    "PS4_actual_game.boxplot(column = 'sales_sum')\n",
    "plt.ylim(0, 1)"
   ]
  },
  {
   "cell_type": "code",
   "execution_count": 88,
   "metadata": {},
   "outputs": [
    {
     "data": {
      "text/plain": [
       "count    87.000000\n",
       "mean      0.300575\n",
       "std       0.549133\n",
       "min       0.010000\n",
       "25%       0.020000\n",
       "50%       0.060000\n",
       "75%       0.275000\n",
       "max       2.650000\n",
       "Name: sales_sum, dtype: float64"
      ]
     },
     "execution_count": 88,
     "metadata": {},
     "output_type": "execute_result"
    },
    {
     "data": {
      "image/png": "[encoded data removed]",
      "text/plain": [
       "<Figure size 432x288 with 1 Axes>"
      ]
     },
     "metadata": {
      "needs_background": "light"
     },
     "output_type": "display_data"
    }
   ],
   "source": [
    "XOne_actual_game = actual_game.query('platform ==\"XOne\"')\n",
    "XOne_actual_game.boxplot(column = 'sales_sum')\n",
    "XOne_actual_game['sales_sum'].describe()"
   ]
  },
  {
   "cell_type": "code",
   "execution_count": 89,
   "metadata": {},
   "outputs": [
    {
     "data": {
      "text/plain": [
       "(0.0, 0.8)"
      ]
     },
     "execution_count": 89,
     "metadata": {},
     "output_type": "execute_result"
    },
    {
     "data": {
      "image/png": "[encoded data removed]",
      "text/plain": [
       "<Figure size 432x288 with 1 Axes>"
      ]
     },
     "metadata": {
      "needs_background": "light"
     },
     "output_type": "display_data"
    }
   ],
   "source": [
    "XOne_actual_game.boxplot(column = 'sales_sum')\n",
    "plt.ylim(0, 0.8)"
   ]
  },
  {
   "cell_type": "code",
   "execution_count": 90,
   "metadata": {},
   "outputs": [
    {
     "data": {
      "text/plain": [
       "count    46.000000\n",
       "mean      0.329130\n",
       "std       1.058533\n",
       "min       0.010000\n",
       "25%       0.030000\n",
       "50%       0.080000\n",
       "75%       0.210000\n",
       "max       7.140000\n",
       "Name: sales_sum, dtype: float64"
      ]
     },
     "execution_count": 90,
     "metadata": {},
     "output_type": "execute_result"
    },
    {
     "data": {
      "image/png": "[encoded data removed]",
      "text/plain": [
       "<Figure size 432x288 with 1 Axes>"
      ]
     },
     "metadata": {
      "needs_background": "light"
     },
     "output_type": "display_data"
    }
   ],
   "source": [
    "_3DS_actual_game = actual_game.query('platform ==\"3DS\"')\n",
    "_3DS_actual_game.boxplot(column = 'sales_sum')\n",
    "_3DS_actual_game['sales_sum'].describe()"
   ]
  },
  {
   "cell_type": "code",
   "execution_count": 91,
   "metadata": {},
   "outputs": [
    {
     "data": {
      "text/plain": [
       "(0.0, 0.6)"
      ]
     },
     "execution_count": 91,
     "metadata": {},
     "output_type": "execute_result"
    },
    {
     "data": {
      "image/png": "[encoded data removed]",
      "text/plain": [
       "<Figure size 432x288 with 1 Axes>"
      ]
     },
     "metadata": {
      "needs_background": "light"
     },
     "output_type": "display_data"
    }
   ],
   "source": [
    "_3DS_actual_game.boxplot(column = 'sales_sum')\n",
    "plt.ylim(0, 0.6)"
   ]
  },
  {
   "cell_type": "markdown",
   "metadata": {},
   "source": [
    "**Продажи каждой игры не сильно отличаются за выбранный период.\n",
    "Средняя выручка по всем играм: 200 тыс. Максимум 7.6 млн., \n",
    "Средняя выручка PS4: 352 тыс. Максимум 7,6 млн.\n",
    "Средняя выручка XOne: 275 тыс. Максимум 2.6 млн.\n",
    "Средняя выручка 3DS: 210 тыс. Максимум 7,1 млн.**"
   ]
  },
  {
   "cell_type": "markdown",
   "metadata": {},
   "source": [
    "**Посмотрим, как влияют на продажи внутри одной популярной платформы отзывы пользователей и критиков. Построем диаграмму рассеяния и посчитаем корреляцию между отзывами и продажами**"
   ]
  },
  {
   "cell_type": "code",
   "execution_count": 92,
   "metadata": {},
   "outputs": [
    {
     "data": {
      "text/html": [
       "<div>\n",
       "<style scoped>\n",
       "    .dataframe tbody tr th:only-of-type {\n",
       "        vertical-align: middle;\n",
       "    }\n",
       "\n",
       "    .dataframe tbody tr th {\n",
       "        vertical-align: top;\n",
       "    }\n",
       "\n",
       "    .dataframe thead th {\n",
       "        text-align: right;\n",
       "    }\n",
       "</style>\n",
       "<table border=\"1\" class=\"dataframe\">\n",
       "  <thead>\n",
       "    <tr style=\"text-align: right;\">\n",
       "      <th></th>\n",
       "      <th>sales_sum</th>\n",
       "      <th>critic_score</th>\n",
       "      <th>user_score</th>\n",
       "    </tr>\n",
       "  </thead>\n",
       "  <tbody>\n",
       "    <tr>\n",
       "      <th>94</th>\n",
       "      <td>7.60</td>\n",
       "      <td>85.0</td>\n",
       "      <td>5.0</td>\n",
       "    </tr>\n",
       "    <tr>\n",
       "      <th>171</th>\n",
       "      <td>5.39</td>\n",
       "      <td>93.0</td>\n",
       "      <td>7.9</td>\n",
       "    </tr>\n",
       "    <tr>\n",
       "      <th>245</th>\n",
       "      <td>4.47</td>\n",
       "      <td>77.0</td>\n",
       "      <td>3.4</td>\n",
       "    </tr>\n",
       "    <tr>\n",
       "      <th>289</th>\n",
       "      <td>4.07</td>\n",
       "      <td>88.0</td>\n",
       "      <td>8.4</td>\n",
       "    </tr>\n",
       "    <tr>\n",
       "      <th>325</th>\n",
       "      <td>3.80</td>\n",
       "      <td>80.0</td>\n",
       "      <td>7.0</td>\n",
       "    </tr>\n",
       "  </tbody>\n",
       "</table>\n",
       "</div>"
      ],
      "text/plain": [
       "     sales_sum  critic_score  user_score\n",
       "94        7.60          85.0         5.0\n",
       "171       5.39          93.0         7.9\n",
       "245       4.47          77.0         3.4\n",
       "289       4.07          88.0         8.4\n",
       "325       3.80          80.0         7.0"
      ]
     },
     "execution_count": 92,
     "metadata": {},
     "output_type": "execute_result"
    }
   ],
   "source": [
    "score_PS4_actual_game = PS4_actual_game.loc[:,['sales_sum', 'critic_score', 'user_score']]\n",
    "score_PS4_actual_game.head()"
   ]
  },
  {
   "cell_type": "code",
   "execution_count": 33,
   "metadata": {},
   "outputs": [
    {
     "data": {
      "text/html": [
       "<div>\n",
       "<style scoped>\n",
       "    .dataframe tbody tr th:only-of-type {\n",
       "        vertical-align: middle;\n",
       "    }\n",
       "\n",
       "    .dataframe tbody tr th {\n",
       "        vertical-align: top;\n",
       "    }\n",
       "\n",
       "    .dataframe thead th {\n",
       "        text-align: right;\n",
       "    }\n",
       "</style>\n",
       "<table border=\"1\" class=\"dataframe\">\n",
       "  <thead>\n",
       "    <tr style=\"text-align: right;\">\n",
       "      <th></th>\n",
       "      <th>sales_sum</th>\n",
       "      <th>critic_score</th>\n",
       "      <th>user_score</th>\n",
       "    </tr>\n",
       "  </thead>\n",
       "  <tbody>\n",
       "    <tr>\n",
       "      <th>sales_sum</th>\n",
       "      <td>1.000000</td>\n",
       "      <td>0.375695</td>\n",
       "      <td>-0.122461</td>\n",
       "    </tr>\n",
       "    <tr>\n",
       "      <th>critic_score</th>\n",
       "      <td>0.375695</td>\n",
       "      <td>1.000000</td>\n",
       "      <td>0.480147</td>\n",
       "    </tr>\n",
       "    <tr>\n",
       "      <th>user_score</th>\n",
       "      <td>-0.122461</td>\n",
       "      <td>0.480147</td>\n",
       "      <td>1.000000</td>\n",
       "    </tr>\n",
       "  </tbody>\n",
       "</table>\n",
       "</div>"
      ],
      "text/plain": [
       "              sales_sum  critic_score  user_score\n",
       "sales_sum      1.000000      0.375695   -0.122461\n",
       "critic_score   0.375695      1.000000    0.480147\n",
       "user_score    -0.122461      0.480147    1.000000"
      ]
     },
     "execution_count": 33,
     "metadata": {},
     "output_type": "execute_result"
    }
   ],
   "source": [
    "score_PS4_actual_game.corr()"
   ]
  },
  {
   "cell_type": "code",
   "execution_count": 34,
   "metadata": {},
   "outputs": [
    {
     "data": {
      "text/plain": [
       "array([[<AxesSubplot:xlabel='sales_sum', ylabel='sales_sum'>,\n",
       "        <AxesSubplot:xlabel='critic_score', ylabel='sales_sum'>,\n",
       "        <AxesSubplot:xlabel='user_score', ylabel='sales_sum'>],\n",
       "       [<AxesSubplot:xlabel='sales_sum', ylabel='critic_score'>,\n",
       "        <AxesSubplot:xlabel='critic_score', ylabel='critic_score'>,\n",
       "        <AxesSubplot:xlabel='user_score', ylabel='critic_score'>],\n",
       "       [<AxesSubplot:xlabel='sales_sum', ylabel='user_score'>,\n",
       "        <AxesSubplot:xlabel='critic_score', ylabel='user_score'>,\n",
       "        <AxesSubplot:xlabel='user_score', ylabel='user_score'>]],\n",
       "      dtype=object)"
      ]
     },
     "execution_count": 34,
     "metadata": {},
     "output_type": "execute_result"
    },
    {
     "data": {
      "image/png": "[encoded data removed]",
      "text/plain": [
       "<Figure size 1080x1080 with 9 Axes>"
      ]
     },
     "metadata": {
      "needs_background": "light"
     },
     "output_type": "display_data"
    }
   ],
   "source": [
    "pd.plotting.scatter_matrix(score_PS4_actual_game, figsize=(15, 15))"
   ]
  },
  {
   "cell_type": "markdown",
   "metadata": {},
   "source": [
    "**Есть прямая корреляция между продажами и рейтингом критиков. Отзывы пользователей никакой зависимост не имеют. Так же заметели, что на мнение пользователй влияет рейтинг критиков. То есть, чем выше оценка критика, тем выше оценит пользователь.**"
   ]
  },
  {
   "cell_type": "markdown",
   "metadata": {},
   "source": [
    "**Соотнесем выводы с продажами игр на других платформах**"
   ]
  },
  {
   "cell_type": "code",
   "execution_count": 35,
   "metadata": {},
   "outputs": [
    {
     "data": {
      "text/html": [
       "<div>\n",
       "<style scoped>\n",
       "    .dataframe tbody tr th:only-of-type {\n",
       "        vertical-align: middle;\n",
       "    }\n",
       "\n",
       "    .dataframe tbody tr th {\n",
       "        vertical-align: top;\n",
       "    }\n",
       "\n",
       "    .dataframe thead th {\n",
       "        text-align: right;\n",
       "    }\n",
       "</style>\n",
       "<table border=\"1\" class=\"dataframe\">\n",
       "  <thead>\n",
       "    <tr style=\"text-align: right;\">\n",
       "      <th></th>\n",
       "      <th>sales_sum</th>\n",
       "      <th>critic_score</th>\n",
       "      <th>user_score</th>\n",
       "    </tr>\n",
       "  </thead>\n",
       "  <tbody>\n",
       "    <tr>\n",
       "      <th>571</th>\n",
       "      <td>2.65</td>\n",
       "      <td>84.0</td>\n",
       "      <td>5.5</td>\n",
       "    </tr>\n",
       "    <tr>\n",
       "      <th>640</th>\n",
       "      <td>2.42</td>\n",
       "      <td>78.0</td>\n",
       "      <td>3.1</td>\n",
       "    </tr>\n",
       "    <tr>\n",
       "      <th>709</th>\n",
       "      <td>2.25</td>\n",
       "      <td>87.0</td>\n",
       "      <td>8.2</td>\n",
       "    </tr>\n",
       "    <tr>\n",
       "      <th>758</th>\n",
       "      <td>2.17</td>\n",
       "      <td>80.0</td>\n",
       "      <td>6.9</td>\n",
       "    </tr>\n",
       "    <tr>\n",
       "      <th>1439</th>\n",
       "      <td>1.34</td>\n",
       "      <td>84.0</td>\n",
       "      <td>6.2</td>\n",
       "    </tr>\n",
       "  </tbody>\n",
       "</table>\n",
       "</div>"
      ],
      "text/plain": [
       "      sales_sum  critic_score  user_score\n",
       "571        2.65          84.0         5.5\n",
       "640        2.42          78.0         3.1\n",
       "709        2.25          87.0         8.2\n",
       "758        2.17          80.0         6.9\n",
       "1439       1.34          84.0         6.2"
      ]
     },
     "execution_count": 35,
     "metadata": {},
     "output_type": "execute_result"
    }
   ],
   "source": [
    "score_XOne_actual_game = XOne_actual_game.loc[:,['sales_sum', 'critic_score', 'user_score']]\n",
    "score_XOne_actual_game.head()\n"
   ]
  },
  {
   "cell_type": "code",
   "execution_count": 36,
   "metadata": {},
   "outputs": [
    {
     "data": {
      "text/html": [
       "<div>\n",
       "<style scoped>\n",
       "    .dataframe tbody tr th:only-of-type {\n",
       "        vertical-align: middle;\n",
       "    }\n",
       "\n",
       "    .dataframe tbody tr th {\n",
       "        vertical-align: top;\n",
       "    }\n",
       "\n",
       "    .dataframe thead th {\n",
       "        text-align: right;\n",
       "    }\n",
       "</style>\n",
       "<table border=\"1\" class=\"dataframe\">\n",
       "  <thead>\n",
       "    <tr style=\"text-align: right;\">\n",
       "      <th></th>\n",
       "      <th>sales_sum</th>\n",
       "      <th>critic_score</th>\n",
       "      <th>user_score</th>\n",
       "    </tr>\n",
       "  </thead>\n",
       "  <tbody>\n",
       "    <tr>\n",
       "      <th>sales_sum</th>\n",
       "      <td>1.000000</td>\n",
       "      <td>0.412005</td>\n",
       "      <td>-0.130303</td>\n",
       "    </tr>\n",
       "    <tr>\n",
       "      <th>critic_score</th>\n",
       "      <td>0.412005</td>\n",
       "      <td>1.000000</td>\n",
       "      <td>0.426034</td>\n",
       "    </tr>\n",
       "    <tr>\n",
       "      <th>user_score</th>\n",
       "      <td>-0.130303</td>\n",
       "      <td>0.426034</td>\n",
       "      <td>1.000000</td>\n",
       "    </tr>\n",
       "  </tbody>\n",
       "</table>\n",
       "</div>"
      ],
      "text/plain": [
       "              sales_sum  critic_score  user_score\n",
       "sales_sum      1.000000      0.412005   -0.130303\n",
       "critic_score   0.412005      1.000000    0.426034\n",
       "user_score    -0.130303      0.426034    1.000000"
      ]
     },
     "execution_count": 36,
     "metadata": {},
     "output_type": "execute_result"
    }
   ],
   "source": [
    "score_XOne_actual_game.corr()"
   ]
  },
  {
   "cell_type": "code",
   "execution_count": 37,
   "metadata": {},
   "outputs": [
    {
     "data": {
      "text/plain": [
       "array([[<AxesSubplot:xlabel='sales_sum', ylabel='sales_sum'>,\n",
       "        <AxesSubplot:xlabel='critic_score', ylabel='sales_sum'>,\n",
       "        <AxesSubplot:xlabel='user_score', ylabel='sales_sum'>],\n",
       "       [<AxesSubplot:xlabel='sales_sum', ylabel='critic_score'>,\n",
       "        <AxesSubplot:xlabel='critic_score', ylabel='critic_score'>,\n",
       "        <AxesSubplot:xlabel='user_score', ylabel='critic_score'>],\n",
       "       [<AxesSubplot:xlabel='sales_sum', ylabel='user_score'>,\n",
       "        <AxesSubplot:xlabel='critic_score', ylabel='user_score'>,\n",
       "        <AxesSubplot:xlabel='user_score', ylabel='user_score'>]],\n",
       "      dtype=object)"
      ]
     },
     "execution_count": 37,
     "metadata": {},
     "output_type": "execute_result"
    },
    {
     "data": {
      "image/png": "[encoded data removed]",
      "text/plain": [
       "<Figure size 1080x1080 with 9 Axes>"
      ]
     },
     "metadata": {
      "needs_background": "light"
     },
     "output_type": "display_data"
    }
   ],
   "source": [
    "pd.plotting.scatter_matrix(score_XOne_actual_game, figsize=(15, 15))"
   ]
  },
  {
   "cell_type": "markdown",
   "metadata": {},
   "source": [
    "**Для XOne тоже имеется зависимость продаж от оценки кртиков, оценки пользователей на продажи не влияют, но оценка пользователей зависит от оценки критиков(одно вытекает из другого)**"
   ]
  },
  {
   "cell_type": "code",
   "execution_count": 38,
   "metadata": {},
   "outputs": [
    {
     "data": {
      "text/html": [
       "<div>\n",
       "<style scoped>\n",
       "    .dataframe tbody tr th:only-of-type {\n",
       "        vertical-align: middle;\n",
       "    }\n",
       "\n",
       "    .dataframe tbody tr th {\n",
       "        vertical-align: top;\n",
       "    }\n",
       "\n",
       "    .dataframe thead th {\n",
       "        text-align: right;\n",
       "    }\n",
       "</style>\n",
       "<table border=\"1\" class=\"dataframe\">\n",
       "  <thead>\n",
       "    <tr style=\"text-align: right;\">\n",
       "      <th></th>\n",
       "      <th>sales_sum</th>\n",
       "      <th>critic_score</th>\n",
       "      <th>user_score</th>\n",
       "    </tr>\n",
       "  </thead>\n",
       "  <tbody>\n",
       "    <tr>\n",
       "      <th>108</th>\n",
       "      <td>7.14</td>\n",
       "      <td>NaN</td>\n",
       "      <td>NaN</td>\n",
       "    </tr>\n",
       "    <tr>\n",
       "      <th>1466</th>\n",
       "      <td>1.33</td>\n",
       "      <td>NaN</td>\n",
       "      <td>NaN</td>\n",
       "    </tr>\n",
       "    <tr>\n",
       "      <th>2219</th>\n",
       "      <td>0.93</td>\n",
       "      <td>81.0</td>\n",
       "      <td>8.7</td>\n",
       "    </tr>\n",
       "    <tr>\n",
       "      <th>3177</th>\n",
       "      <td>0.63</td>\n",
       "      <td>NaN</td>\n",
       "      <td>NaN</td>\n",
       "    </tr>\n",
       "    <tr>\n",
       "      <th>3593</th>\n",
       "      <td>0.56</td>\n",
       "      <td>NaN</td>\n",
       "      <td>NaN</td>\n",
       "    </tr>\n",
       "  </tbody>\n",
       "</table>\n",
       "</div>"
      ],
      "text/plain": [
       "      sales_sum  critic_score  user_score\n",
       "108        7.14           NaN         NaN\n",
       "1466       1.33           NaN         NaN\n",
       "2219       0.93          81.0         8.7\n",
       "3177       0.63           NaN         NaN\n",
       "3593       0.56           NaN         NaN"
      ]
     },
     "execution_count": 38,
     "metadata": {},
     "output_type": "execute_result"
    }
   ],
   "source": [
    "score_3DS_actual_game = _3DS_actual_game.loc[:,['sales_sum', 'critic_score', 'user_score']]\n",
    "score_3DS_actual_game.head()"
   ]
  },
  {
   "cell_type": "code",
   "execution_count": 39,
   "metadata": {},
   "outputs": [
    {
     "data": {
      "text/html": [
       "<div>\n",
       "<style scoped>\n",
       "    .dataframe tbody tr th:only-of-type {\n",
       "        vertical-align: middle;\n",
       "    }\n",
       "\n",
       "    .dataframe tbody tr th {\n",
       "        vertical-align: top;\n",
       "    }\n",
       "\n",
       "    .dataframe thead th {\n",
       "        text-align: right;\n",
       "    }\n",
       "</style>\n",
       "<table border=\"1\" class=\"dataframe\">\n",
       "  <thead>\n",
       "    <tr style=\"text-align: right;\">\n",
       "      <th></th>\n",
       "      <th>sales_sum</th>\n",
       "      <th>critic_score</th>\n",
       "      <th>user_score</th>\n",
       "    </tr>\n",
       "  </thead>\n",
       "  <tbody>\n",
       "    <tr>\n",
       "      <th>sales_sum</th>\n",
       "      <td>1.000000</td>\n",
       "      <td>0.338408</td>\n",
       "      <td>0.373365</td>\n",
       "    </tr>\n",
       "    <tr>\n",
       "      <th>critic_score</th>\n",
       "      <td>0.338408</td>\n",
       "      <td>1.000000</td>\n",
       "      <td>0.721313</td>\n",
       "    </tr>\n",
       "    <tr>\n",
       "      <th>user_score</th>\n",
       "      <td>0.373365</td>\n",
       "      <td>0.721313</td>\n",
       "      <td>1.000000</td>\n",
       "    </tr>\n",
       "  </tbody>\n",
       "</table>\n",
       "</div>"
      ],
      "text/plain": [
       "              sales_sum  critic_score  user_score\n",
       "sales_sum      1.000000      0.338408    0.373365\n",
       "critic_score   0.338408      1.000000    0.721313\n",
       "user_score     0.373365      0.721313    1.000000"
      ]
     },
     "execution_count": 39,
     "metadata": {},
     "output_type": "execute_result"
    }
   ],
   "source": [
    "score_3DS_actual_game.corr()"
   ]
  },
  {
   "cell_type": "code",
   "execution_count": 40,
   "metadata": {},
   "outputs": [
    {
     "data": {
      "text/plain": [
       "array([[<AxesSubplot:xlabel='sales_sum', ylabel='sales_sum'>,\n",
       "        <AxesSubplot:xlabel='critic_score', ylabel='sales_sum'>,\n",
       "        <AxesSubplot:xlabel='user_score', ylabel='sales_sum'>],\n",
       "       [<AxesSubplot:xlabel='sales_sum', ylabel='critic_score'>,\n",
       "        <AxesSubplot:xlabel='critic_score', ylabel='critic_score'>,\n",
       "        <AxesSubplot:xlabel='user_score', ylabel='critic_score'>],\n",
       "       [<AxesSubplot:xlabel='sales_sum', ylabel='user_score'>,\n",
       "        <AxesSubplot:xlabel='critic_score', ylabel='user_score'>,\n",
       "        <AxesSubplot:xlabel='user_score', ylabel='user_score'>]],\n",
       "      dtype=object)"
      ]
     },
     "execution_count": 40,
     "metadata": {},
     "output_type": "execute_result"
    },
    {
     "data": {
      "image/png": "[encoded data removed]",
      "text/plain": [
       "<Figure size 1080x1080 with 9 Axes>"
      ]
     },
     "metadata": {
      "needs_background": "light"
     },
     "output_type": "display_data"
    }
   ],
   "source": [
    "pd.plotting.scatter_matrix(score_3DS_actual_game, figsize=(15, 15))"
   ]
  },
  {
   "cell_type": "markdown",
   "metadata": {},
   "source": [
    "**Продажи 3DS зависят от оценки и критиков и пользователей. Также высокая корреляция проследивается и оценки пользователей и оценки критиков, получается игроки верят критикам**"
   ]
  },
  {
   "cell_type": "markdown",
   "metadata": {},
   "source": [
    "**Продажи PS4 и XOne зависят от оценки критиков, только у 3DS продажи зависят от рейтинга критиков и пользователей.**"
   ]
  },
  {
   "cell_type": "markdown",
   "metadata": {},
   "source": [
    "**Посмотрим на общее распределение игр по жанрам. Что можно сказать о самых прибыльных жанрах? Выделяются ли жанры с высокими и низкими продажами?**"
   ]
  },
  {
   "cell_type": "code",
   "execution_count": 41,
   "metadata": {},
   "outputs": [
    {
     "data": {
      "text/html": [
       "<div>\n",
       "<style scoped>\n",
       "    .dataframe tbody tr th:only-of-type {\n",
       "        vertical-align: middle;\n",
       "    }\n",
       "\n",
       "    .dataframe tbody tr th {\n",
       "        vertical-align: top;\n",
       "    }\n",
       "\n",
       "    .dataframe thead th {\n",
       "        text-align: right;\n",
       "    }\n",
       "</style>\n",
       "<table border=\"1\" class=\"dataframe\">\n",
       "  <thead>\n",
       "    <tr style=\"text-align: right;\">\n",
       "      <th></th>\n",
       "      <th>sales_sum</th>\n",
       "    </tr>\n",
       "    <tr>\n",
       "      <th>genre</th>\n",
       "      <th></th>\n",
       "    </tr>\n",
       "  </thead>\n",
       "  <tbody>\n",
       "    <tr>\n",
       "      <th>Shooter</th>\n",
       "      <td>38.22</td>\n",
       "    </tr>\n",
       "    <tr>\n",
       "      <th>Action</th>\n",
       "      <td>30.11</td>\n",
       "    </tr>\n",
       "    <tr>\n",
       "      <th>Sports</th>\n",
       "      <td>23.49</td>\n",
       "    </tr>\n",
       "    <tr>\n",
       "      <th>Role-Playing</th>\n",
       "      <td>18.18</td>\n",
       "    </tr>\n",
       "    <tr>\n",
       "      <th>Fighting</th>\n",
       "      <td>4.47</td>\n",
       "    </tr>\n",
       "    <tr>\n",
       "      <th>Adventure</th>\n",
       "      <td>3.82</td>\n",
       "    </tr>\n",
       "    <tr>\n",
       "      <th>Platform</th>\n",
       "      <td>3.23</td>\n",
       "    </tr>\n",
       "    <tr>\n",
       "      <th>Racing</th>\n",
       "      <td>2.79</td>\n",
       "    </tr>\n",
       "    <tr>\n",
       "      <th>Misc</th>\n",
       "      <td>2.60</td>\n",
       "    </tr>\n",
       "    <tr>\n",
       "      <th>Simulation</th>\n",
       "      <td>1.89</td>\n",
       "    </tr>\n",
       "    <tr>\n",
       "      <th>Strategy</th>\n",
       "      <td>1.13</td>\n",
       "    </tr>\n",
       "    <tr>\n",
       "      <th>Puzzle</th>\n",
       "      <td>0.01</td>\n",
       "    </tr>\n",
       "  </tbody>\n",
       "</table>\n",
       "</div>"
      ],
      "text/plain": [
       "              sales_sum\n",
       "genre                  \n",
       "Shooter           38.22\n",
       "Action            30.11\n",
       "Sports            23.49\n",
       "Role-Playing      18.18\n",
       "Fighting           4.47\n",
       "Adventure          3.82\n",
       "Platform           3.23\n",
       "Racing             2.79\n",
       "Misc               2.60\n",
       "Simulation         1.89\n",
       "Strategy           1.13\n",
       "Puzzle             0.01"
      ]
     },
     "execution_count": 41,
     "metadata": {},
     "output_type": "execute_result"
    }
   ],
   "source": [
    "genre_pivot_table = pd.pivot_table(actual_game, index = 'genre', values = 'sales_sum', aggfunc = 'sum')\n",
    "genre_pivot_table.sort_values('sales_sum', ascending = False)"
   ]
  },
  {
   "cell_type": "markdown",
   "metadata": {},
   "source": [
    "**В топ самых популярных жанров вошли: Action, Shooter, Sports, Role-Playing - у них самые высокие продажи.\n",
    "жанр Puzzle имеет самые низкие продажи**"
   ]
  },
  {
   "cell_type": "markdown",
   "metadata": {},
   "source": [
    "**4. Составить портрет пользователя каждого региона**"
   ]
  },
  {
   "cell_type": "code",
   "execution_count": 42,
   "metadata": {},
   "outputs": [
    {
     "data": {
      "text/html": [
       "<div>\n",
       "<style scoped>\n",
       "    .dataframe tbody tr th:only-of-type {\n",
       "        vertical-align: middle;\n",
       "    }\n",
       "\n",
       "    .dataframe tbody tr th {\n",
       "        vertical-align: top;\n",
       "    }\n",
       "\n",
       "    .dataframe thead th {\n",
       "        text-align: right;\n",
       "    }\n",
       "</style>\n",
       "<table border=\"1\" class=\"dataframe\">\n",
       "  <thead>\n",
       "    <tr style=\"text-align: right;\">\n",
       "      <th></th>\n",
       "      <th>na_sales</th>\n",
       "    </tr>\n",
       "    <tr>\n",
       "      <th>platform</th>\n",
       "      <th></th>\n",
       "    </tr>\n",
       "  </thead>\n",
       "  <tbody>\n",
       "    <tr>\n",
       "      <th>PS4</th>\n",
       "      <td>21.49</td>\n",
       "    </tr>\n",
       "    <tr>\n",
       "      <th>XOne</th>\n",
       "      <td>14.27</td>\n",
       "    </tr>\n",
       "    <tr>\n",
       "      <th>3DS</th>\n",
       "      <td>4.14</td>\n",
       "    </tr>\n",
       "    <tr>\n",
       "      <th>WiiU</th>\n",
       "      <td>2.10</td>\n",
       "    </tr>\n",
       "    <tr>\n",
       "      <th>PC</th>\n",
       "      <td>1.36</td>\n",
       "    </tr>\n",
       "  </tbody>\n",
       "</table>\n",
       "</div>"
      ],
      "text/plain": [
       "          na_sales\n",
       "platform          \n",
       "PS4          21.49\n",
       "XOne         14.27\n",
       "3DS           4.14\n",
       "WiiU          2.10\n",
       "PC            1.36"
      ]
     },
     "execution_count": 42,
     "metadata": {},
     "output_type": "execute_result"
    }
   ],
   "source": [
    "#Самые популярные платформы для региона NA\n",
    "pivot_table_na_sales = actual_game.pivot_table( index='platform', values='na_sales',\n",
    "                                        aggfunc='sum').sort_values('na_sales', ascending=False).head()\n",
    "pivot_table_na_sales"
   ]
  },
  {
   "cell_type": "code",
   "execution_count": 43,
   "metadata": {},
   "outputs": [
    {
     "data": {
      "text/html": [
       "<div>\n",
       "<style scoped>\n",
       "    .dataframe tbody tr th:only-of-type {\n",
       "        vertical-align: middle;\n",
       "    }\n",
       "\n",
       "    .dataframe tbody tr th {\n",
       "        vertical-align: top;\n",
       "    }\n",
       "\n",
       "    .dataframe thead th {\n",
       "        text-align: right;\n",
       "    }\n",
       "</style>\n",
       "<table border=\"1\" class=\"dataframe\">\n",
       "  <thead>\n",
       "    <tr style=\"text-align: right;\">\n",
       "      <th></th>\n",
       "      <th>eu_sales</th>\n",
       "    </tr>\n",
       "    <tr>\n",
       "      <th>platform</th>\n",
       "      <th></th>\n",
       "    </tr>\n",
       "  </thead>\n",
       "  <tbody>\n",
       "    <tr>\n",
       "      <th>PS4</th>\n",
       "      <td>31.78</td>\n",
       "    </tr>\n",
       "    <tr>\n",
       "      <th>XOne</th>\n",
       "      <td>9.63</td>\n",
       "    </tr>\n",
       "    <tr>\n",
       "      <th>PC</th>\n",
       "      <td>3.53</td>\n",
       "    </tr>\n",
       "    <tr>\n",
       "      <th>3DS</th>\n",
       "      <td>2.33</td>\n",
       "    </tr>\n",
       "    <tr>\n",
       "      <th>WiiU</th>\n",
       "      <td>1.48</td>\n",
       "    </tr>\n",
       "  </tbody>\n",
       "</table>\n",
       "</div>"
      ],
      "text/plain": [
       "          eu_sales\n",
       "platform          \n",
       "PS4          31.78\n",
       "XOne          9.63\n",
       "PC            3.53\n",
       "3DS           2.33\n",
       "WiiU          1.48"
      ]
     },
     "execution_count": 43,
     "metadata": {},
     "output_type": "execute_result"
    }
   ],
   "source": [
    "#Самые популярные платформы для региона EA\n",
    "pivot_table_ea_sales = actual_game.pivot_table( index='platform', values='eu_sales',\n",
    "                                        aggfunc='sum').sort_values('eu_sales', ascending=False).head()\n",
    "pivot_table_ea_sales"
   ]
  },
  {
   "cell_type": "code",
   "execution_count": 44,
   "metadata": {},
   "outputs": [
    {
     "data": {
      "text/html": [
       "<div>\n",
       "<style scoped>\n",
       "    .dataframe tbody tr th:only-of-type {\n",
       "        vertical-align: middle;\n",
       "    }\n",
       "\n",
       "    .dataframe tbody tr th {\n",
       "        vertical-align: top;\n",
       "    }\n",
       "\n",
       "    .dataframe thead th {\n",
       "        text-align: right;\n",
       "    }\n",
       "</style>\n",
       "<table border=\"1\" class=\"dataframe\">\n",
       "  <thead>\n",
       "    <tr style=\"text-align: right;\">\n",
       "      <th></th>\n",
       "      <th>jp_sales</th>\n",
       "    </tr>\n",
       "    <tr>\n",
       "      <th>platform</th>\n",
       "      <th></th>\n",
       "    </tr>\n",
       "  </thead>\n",
       "  <tbody>\n",
       "    <tr>\n",
       "      <th>3DS</th>\n",
       "      <td>8.03</td>\n",
       "    </tr>\n",
       "    <tr>\n",
       "      <th>PS4</th>\n",
       "      <td>5.74</td>\n",
       "    </tr>\n",
       "    <tr>\n",
       "      <th>PSV</th>\n",
       "      <td>3.56</td>\n",
       "    </tr>\n",
       "    <tr>\n",
       "      <th>PS3</th>\n",
       "      <td>1.30</td>\n",
       "    </tr>\n",
       "    <tr>\n",
       "      <th>WiiU</th>\n",
       "      <td>0.67</td>\n",
       "    </tr>\n",
       "  </tbody>\n",
       "</table>\n",
       "</div>"
      ],
      "text/plain": [
       "          jp_sales\n",
       "platform          \n",
       "3DS           8.03\n",
       "PS4           5.74\n",
       "PSV           3.56\n",
       "PS3           1.30\n",
       "WiiU          0.67"
      ]
     },
     "execution_count": 44,
     "metadata": {},
     "output_type": "execute_result"
    }
   ],
   "source": [
    "#Самые популярные платформы для региона JP\n",
    "pivot_table_jp_sales = actual_game.pivot_table( index='platform', values='jp_sales',\n",
    "                                        aggfunc='sum').sort_values('jp_sales', ascending=False).head()\n",
    "pivot_table_jp_sales"
   ]
  },
  {
   "cell_type": "markdown",
   "metadata": {},
   "source": [
    "**Посмотрим популярность платформ на графике**"
   ]
  },
  {
   "cell_type": "code",
   "execution_count": 45,
   "metadata": {},
   "outputs": [
    {
     "data": {
      "image/png": "[encoded data removed]",
      "text/plain": [
       "<Figure size 720x720 with 3 Axes>"
      ]
     },
     "metadata": {},
     "output_type": "display_data"
    }
   ],
   "source": [
    "#Самые популярные платформы для регионов\n",
    "fig = plt.figure()\n",
    " \n",
    "ax1 = fig.add_subplot(131)\n",
    "actual_game.groupby('platform')['na_sales'].sum().sort_values(ascending=False).head().plot(\n",
    "    kind='pie', grid=True, title='Cемерная Америка', figsize=(10, 10), ax=ax1);\n",
    "\n",
    "ax2 = fig.add_subplot(132)\n",
    "actual_game.groupby('platform')['eu_sales'].sum().sort_values(ascending=False).head().plot(\n",
    "    kind='pie', grid=True, title='Европа', figsize=(10, 10), ax=ax2);\n",
    "\n",
    "ax3 = fig.add_subplot(133)\n",
    "actual_game.groupby('platform')['jp_sales'].sum().sort_values(ascending=False).head().plot(\n",
    "    kind='pie', grid=True, title='Японии', figsize=(10, 10), ax=ax3);\n",
    " \n",
    "plt.show()"
   ]
  },
  {
   "cell_type": "markdown",
   "metadata": {},
   "source": [
    "**Посмотрели рейтинг топ 5 платформ. В Северной Америке и Европе самая популярная платформа PS4.\n",
    "В японии лидтрующая платформа 3DS.**"
   ]
  },
  {
   "cell_type": "code",
   "execution_count": 46,
   "metadata": {},
   "outputs": [
    {
     "data": {
      "image/png": "[encoded data removed]",
      "text/plain": [
       "<Figure size 720x720 with 3 Axes>"
      ]
     },
     "metadata": {},
     "output_type": "display_data"
    }
   ],
   "source": [
    "#Самые популярные жанры для регионов\n",
    "fig = plt.figure()\n",
    " \n",
    "ax1 = fig.add_subplot(131)\n",
    "actual_game.groupby('genre')['na_sales'].sum().sort_values(ascending=False).head().plot(\n",
    "    kind='pie', grid=True, title='Cемерная Америка', figsize=(10, 10), ax=ax1);\n",
    "\n",
    "ax2 = fig.add_subplot(132)\n",
    "actual_game.groupby('genre')['eu_sales'].sum().sort_values(ascending=False).head().plot(\n",
    "    kind='pie', grid=True, title='Европа', figsize=(10, 10), ax=ax2);\n",
    "\n",
    "ax3 = fig.add_subplot(133)\n",
    "actual_game.groupby('genre')['jp_sales'].sum().sort_values(ascending=False).head().plot(\n",
    "    kind='pie', grid=True, title='Японии', figsize=(10, 10), ax=ax3);\n",
    " \n",
    "plt.show()"
   ]
  },
  {
   "cell_type": "markdown",
   "metadata": {},
   "source": [
    "**Вывели на графики 5 самых популярных жанров. В северной Америке и в Европе популярен жанр - Shooter, в Японии - Action и Role-Playing**"
   ]
  },
  {
   "cell_type": "code",
   "execution_count": 47,
   "metadata": {},
   "outputs": [
    {
     "data": {
      "text/html": [
       "<div>\n",
       "<style scoped>\n",
       "    .dataframe tbody tr th:only-of-type {\n",
       "        vertical-align: middle;\n",
       "    }\n",
       "\n",
       "    .dataframe tbody tr th {\n",
       "        vertical-align: top;\n",
       "    }\n",
       "\n",
       "    .dataframe thead th {\n",
       "        text-align: right;\n",
       "    }\n",
       "</style>\n",
       "<table border=\"1\" class=\"dataframe\">\n",
       "  <thead>\n",
       "    <tr style=\"text-align: right;\">\n",
       "      <th></th>\n",
       "      <th>eu_sales</th>\n",
       "    </tr>\n",
       "    <tr>\n",
       "      <th>platform</th>\n",
       "      <th></th>\n",
       "    </tr>\n",
       "  </thead>\n",
       "  <tbody>\n",
       "    <tr>\n",
       "      <th>PS4</th>\n",
       "      <td>31.78</td>\n",
       "    </tr>\n",
       "    <tr>\n",
       "      <th>XOne</th>\n",
       "      <td>9.63</td>\n",
       "    </tr>\n",
       "    <tr>\n",
       "      <th>PC</th>\n",
       "      <td>3.53</td>\n",
       "    </tr>\n",
       "    <tr>\n",
       "      <th>3DS</th>\n",
       "      <td>2.33</td>\n",
       "    </tr>\n",
       "    <tr>\n",
       "      <th>WiiU</th>\n",
       "      <td>1.48</td>\n",
       "    </tr>\n",
       "  </tbody>\n",
       "</table>\n",
       "</div>"
      ],
      "text/plain": [
       "          eu_sales\n",
       "platform          \n",
       "PS4          31.78\n",
       "XOne          9.63\n",
       "PC            3.53\n",
       "3DS           2.33\n",
       "WiiU          1.48"
      ]
     },
     "execution_count": 47,
     "metadata": {},
     "output_type": "execute_result"
    }
   ],
   "source": [
    "eu_platform_pivot_table = actual_game.pivot_table( index='platform', values='eu_sales',\n",
    "                                        aggfunc='sum').sort_values('eu_sales', ascending=False).head()\n",
    "eu_platform_pivot_table"
   ]
  },
  {
   "cell_type": "code",
   "execution_count": 48,
   "metadata": {},
   "outputs": [
    {
     "data": {
      "text/plain": [
       "<AxesSubplot:xlabel='rating'>"
      ]
     },
     "execution_count": 48,
     "metadata": {},
     "output_type": "execute_result"
    },
    {
     "data": {
      "image/png": "[encoded data removed]",
      "text/plain": [
       "<Figure size 432x288 with 1 Axes>"
      ]
     },
     "metadata": {
      "needs_background": "light"
     },
     "output_type": "display_data"
    }
   ],
   "source": [
    "#Влияет ли рейтинг ESRB на продажи в Северной америке\n",
    "pivot_table_na_rating = actual_game.pivot_table(index='rating', values='na_sales',\n",
    "                                        aggfunc='sum').sort_values('na_sales', ascending=False).plot()\n",
    "pivot_table_na_rating"
   ]
  },
  {
   "cell_type": "code",
   "execution_count": 49,
   "metadata": {},
   "outputs": [
    {
     "data": {
      "text/plain": [
       "<AxesSubplot:xlabel='rating'>"
      ]
     },
     "execution_count": 49,
     "metadata": {},
     "output_type": "execute_result"
    },
    {
     "data": {
      "image/png": "[encoded data removed]",
      "text/plain": [
       "<Figure size 432x288 with 1 Axes>"
      ]
     },
     "metadata": {
      "needs_background": "light"
     },
     "output_type": "display_data"
    }
   ],
   "source": [
    "#Влияет ли рейтинг ESRB на продажи в Европе\n",
    "pivot_table_eu_rating = actual_game.pivot_table(index='rating', values='eu_sales',\n",
    "                                        aggfunc='sum').sort_values('eu_sales', ascending=False).plot()\n",
    "pivot_table_eu_rating"
   ]
  },
  {
   "cell_type": "code",
   "execution_count": 50,
   "metadata": {},
   "outputs": [
    {
     "data": {
      "text/plain": [
       "<AxesSubplot:xlabel='rating'>"
      ]
     },
     "execution_count": 50,
     "metadata": {},
     "output_type": "execute_result"
    },
    {
     "data": {
      "image/png": "[encoded data removed]",
      "text/plain": [
       "<Figure size 432x288 with 1 Axes>"
      ]
     },
     "metadata": {
      "needs_background": "light"
     },
     "output_type": "display_data"
    }
   ],
   "source": [
    "#Влияет ли рейтинг ESRB на продажи в Японии\n",
    "pivot_table_jp_rating = actual_game.pivot_table(index='rating', values='jp_sales',\n",
    "                                        aggfunc='sum').sort_values('jp_sales', ascending=False).plot()\n",
    "pivot_table_jp_rating"
   ]
  },
  {
   "cell_type": "markdown",
   "metadata": {},
   "source": [
    "**Судя по графикам рейтинг влияет на количество продаж в каждом регионе. В Северной Америке и Европе чаще преобретают видеоигры с рейтингом М (от 17 лет), а Японии продажи рейтинг Т (от 13 лет)**"
   ]
  },
  {
   "cell_type": "markdown",
   "metadata": {},
   "source": [
    "**В Северной Америке и Европе ситуации схожие самая популярная платформа PS4, жанр Shooter а рейтинг игр 17+.А вот в Японии - популярен жанр Action и Role-Playing, платформа 3DS расчитанные на подростков**"
   ]
  },
  {
   "cell_type": "markdown",
   "metadata": {},
   "source": [
    "**5. Проверка гипотез**"
   ]
  },
  {
   "cell_type": "markdown",
   "metadata": {},
   "source": [
    "Средние пользовательские рейтинги платформ Xbox One и PC одинаковые\n",
    "\n",
    "H_0: Рейтинг пользователей (user_score) платформы \"Xbox One\" = Рейтингу пользователей (user_score) платформы \"PC\"\n",
    "H_a: Рейтинг пользователей (user_score) платформы \"Xbox One\" ≠  Рейтингу пользователей (user_score) платформы \"PC\"\n",
    "alpha = 0.05"
   ]
  },
  {
   "cell_type": "code",
   "execution_count": 51,
   "metadata": {},
   "outputs": [
    {
     "data": {
      "text/html": [
       "<div>\n",
       "<style scoped>\n",
       "    .dataframe tbody tr th:only-of-type {\n",
       "        vertical-align: middle;\n",
       "    }\n",
       "\n",
       "    .dataframe tbody tr th {\n",
       "        vertical-align: top;\n",
       "    }\n",
       "\n",
       "    .dataframe thead th {\n",
       "        text-align: right;\n",
       "    }\n",
       "</style>\n",
       "<table border=\"1\" class=\"dataframe\">\n",
       "  <thead>\n",
       "    <tr style=\"text-align: right;\">\n",
       "      <th></th>\n",
       "      <th>na_sales</th>\n",
       "      <th>eu_sales</th>\n",
       "      <th>jp_sales</th>\n",
       "      <th>other_sales</th>\n",
       "      <th>critic_score</th>\n",
       "      <th>user_score</th>\n",
       "      <th>sales_sum</th>\n",
       "    </tr>\n",
       "  </thead>\n",
       "  <tbody>\n",
       "    <tr>\n",
       "      <th>count</th>\n",
       "      <td>16444.000000</td>\n",
       "      <td>16444.000000</td>\n",
       "      <td>16444.000000</td>\n",
       "      <td>16444.000000</td>\n",
       "      <td>7983.000000</td>\n",
       "      <td>7463.000000</td>\n",
       "      <td>16444.000000</td>\n",
       "    </tr>\n",
       "    <tr>\n",
       "      <th>mean</th>\n",
       "      <td>0.264012</td>\n",
       "      <td>0.145930</td>\n",
       "      <td>0.078487</td>\n",
       "      <td>0.047594</td>\n",
       "      <td>68.994363</td>\n",
       "      <td>7.126330</td>\n",
       "      <td>0.536023</td>\n",
       "    </tr>\n",
       "    <tr>\n",
       "      <th>std</th>\n",
       "      <td>0.818378</td>\n",
       "      <td>0.506716</td>\n",
       "      <td>0.311100</td>\n",
       "      <td>0.188005</td>\n",
       "      <td>13.920060</td>\n",
       "      <td>1.499447</td>\n",
       "      <td>1.558786</td>\n",
       "    </tr>\n",
       "    <tr>\n",
       "      <th>min</th>\n",
       "      <td>0.000000</td>\n",
       "      <td>0.000000</td>\n",
       "      <td>0.000000</td>\n",
       "      <td>0.000000</td>\n",
       "      <td>13.000000</td>\n",
       "      <td>0.000000</td>\n",
       "      <td>0.000000</td>\n",
       "    </tr>\n",
       "    <tr>\n",
       "      <th>25%</th>\n",
       "      <td>0.000000</td>\n",
       "      <td>0.000000</td>\n",
       "      <td>0.000000</td>\n",
       "      <td>0.000000</td>\n",
       "      <td>60.000000</td>\n",
       "      <td>6.400000</td>\n",
       "      <td>0.060000</td>\n",
       "    </tr>\n",
       "    <tr>\n",
       "      <th>50%</th>\n",
       "      <td>0.080000</td>\n",
       "      <td>0.020000</td>\n",
       "      <td>0.000000</td>\n",
       "      <td>0.010000</td>\n",
       "      <td>71.000000</td>\n",
       "      <td>7.500000</td>\n",
       "      <td>0.170000</td>\n",
       "    </tr>\n",
       "    <tr>\n",
       "      <th>75%</th>\n",
       "      <td>0.240000</td>\n",
       "      <td>0.110000</td>\n",
       "      <td>0.040000</td>\n",
       "      <td>0.030000</td>\n",
       "      <td>79.000000</td>\n",
       "      <td>8.200000</td>\n",
       "      <td>0.470000</td>\n",
       "    </tr>\n",
       "    <tr>\n",
       "      <th>max</th>\n",
       "      <td>41.360000</td>\n",
       "      <td>28.960000</td>\n",
       "      <td>10.220000</td>\n",
       "      <td>10.570000</td>\n",
       "      <td>98.000000</td>\n",
       "      <td>9.700000</td>\n",
       "      <td>82.540000</td>\n",
       "    </tr>\n",
       "  </tbody>\n",
       "</table>\n",
       "</div>"
      ],
      "text/plain": [
       "           na_sales      eu_sales      jp_sales   other_sales  critic_score  \\\n",
       "count  16444.000000  16444.000000  16444.000000  16444.000000   7983.000000   \n",
       "mean       0.264012      0.145930      0.078487      0.047594     68.994363   \n",
       "std        0.818378      0.506716      0.311100      0.188005     13.920060   \n",
       "min        0.000000      0.000000      0.000000      0.000000     13.000000   \n",
       "25%        0.000000      0.000000      0.000000      0.000000     60.000000   \n",
       "50%        0.080000      0.020000      0.000000      0.010000     71.000000   \n",
       "75%        0.240000      0.110000      0.040000      0.030000     79.000000   \n",
       "max       41.360000     28.960000     10.220000     10.570000     98.000000   \n",
       "\n",
       "        user_score     sales_sum  \n",
       "count  7463.000000  16444.000000  \n",
       "mean      7.126330      0.536023  \n",
       "std       1.499447      1.558786  \n",
       "min       0.000000      0.000000  \n",
       "25%       6.400000      0.060000  \n",
       "50%       7.500000      0.170000  \n",
       "75%       8.200000      0.470000  \n",
       "max       9.700000     82.540000  "
      ]
     },
     "execution_count": 51,
     "metadata": {},
     "output_type": "execute_result"
    }
   ],
   "source": [
    "df.describe()"
   ]
  },
  {
   "cell_type": "code",
   "execution_count": 52,
   "metadata": {},
   "outputs": [],
   "source": [
    "from scipy import stats as st"
   ]
  },
  {
   "cell_type": "code",
   "execution_count": 53,
   "metadata": {},
   "outputs": [],
   "source": [
    "xbox_one= actual_game.loc[df['platform']=='XOne']['user_score'].dropna() \n",
    "pс = actual_game.loc[df['platform']=='PC']['user_score'].dropna() "
   ]
  },
  {
   "cell_type": "code",
   "execution_count": 54,
   "metadata": {},
   "outputs": [
    {
     "data": {
      "text/plain": [
       "3123     8.0\n",
       "3771     6.8\n",
       "4693     5.8\n",
       "5000     7.6\n",
       "5609     7.5\n",
       "6753     7.3\n",
       "6995     7.1\n",
       "7778     3.2\n",
       "8463     4.8\n",
       "9292     3.0\n",
       "9433     7.3\n",
       "9798     7.9\n",
       "9814     6.0\n",
       "9955     4.2\n",
       "10527    5.7\n",
       "10963    4.3\n",
       "11397    6.9\n",
       "11450    8.0\n",
       "11891    8.6\n",
       "12368    4.4\n",
       "12719    2.9\n",
       "12834    8.2\n",
       "12891    6.9\n",
       "13259    7.5\n",
       "13535    8.6\n",
       "13744    8.0\n",
       "14079    7.0\n",
       "14081    3.5\n",
       "14152    4.8\n",
       "14339    6.1\n",
       "14375    6.3\n",
       "14400    8.7\n",
       "14759    6.1\n",
       "15407    3.7\n",
       "15483    2.4\n",
       "15489    8.5\n",
       "16025    4.3\n",
       "16110    6.2\n",
       "16120    6.3\n",
       "16201    6.8\n",
       "16280    7.3\n",
       "16337    7.1\n",
       "16423    7.1\n",
       "16463    6.8\n",
       "16509    7.9\n",
       "Name: user_score, dtype: float64"
      ]
     },
     "execution_count": 54,
     "metadata": {},
     "output_type": "execute_result"
    }
   ],
   "source": [
    "xbox_one.astype('float64', errors='ignore')\n",
    "pс.astype('float64', errors='ignore')"
   ]
  },
  {
   "cell_type": "code",
   "execution_count": 55,
   "metadata": {},
   "outputs": [
    {
     "name": "stdout",
     "output_type": "stream",
     "text": [
      "Средний пользовательские рейтинги платформ Xbox One: 6.5984848484848495\n",
      "Средний пользовательские рейтинги платформ  PC: 6.297777777777778\n"
     ]
    }
   ],
   "source": [
    "print('Средний пользовательские рейтинги платформ Xbox One:', xbox_one.mean())\n",
    "print('Средний пользовательские рейтинги платформ  PC:', pс.mean())"
   ]
  },
  {
   "cell_type": "code",
   "execution_count": 56,
   "metadata": {},
   "outputs": [
    {
     "name": "stdout",
     "output_type": "stream",
     "text": [
      "p-значение: 0.33981967396516377\n",
      "Не получилось отвергнуть нулевую гипотезу\n"
     ]
    }
   ],
   "source": [
    "alpha = 0.05\n",
    "results = results = st.ttest_ind(xbox_one, pс) # проверяем равенство двух независимых совокупностей. \n",
    "print('p-значение:', results.pvalue)\n",
    "\n",
    "if results.pvalue < alpha:\n",
    "    print(\"Отвергаем нулевую гипотезу\")\n",
    "else:\n",
    "    print(\"Не получилось отвергнуть нулевую гипотезу\") \n"
   ]
  },
  {
   "cell_type": "markdown",
   "metadata": {},
   "source": [
    "**Значение рейтингов в общем похожи, это и подтверждает нулевая гипотеза**"
   ]
  },
  {
   "cell_type": "markdown",
   "metadata": {},
   "source": [
    "**Средние рейтинги платформ PC и XOne отличаются.**"
   ]
  },
  {
   "cell_type": "markdown",
   "metadata": {},
   "source": [
    "Средние пользовательские рейтинги жанров Action  и Sports разные\n",
    "H_0: Рейтинг пользователей (user_score) жанров \"Action\" =  Рейтингу пользователей (user_score) жанра \"Sports\"\n",
    "H_a: Рейтинг пользователей (user_score) жанров \"Action\" ≠   Рейтингу пользователей (user_score) жанра \"Sports\"\n",
    "alpha = 0.05\n"
   ]
  },
  {
   "cell_type": "code",
   "execution_count": 57,
   "metadata": {},
   "outputs": [],
   "source": [
    "action= actual_game.loc[df['genre']=='Action']['user_score'].dropna() \n",
    "sports = actual_game.loc[df['genre']=='Sports']['user_score'].dropna() "
   ]
  },
  {
   "cell_type": "code",
   "execution_count": 58,
   "metadata": {},
   "outputs": [
    {
     "data": {
      "text/plain": [
       "94       5.0\n",
       "571      5.5\n",
       "921      6.7\n",
       "1007     4.9\n",
       "1615     5.9\n",
       "2024     6.2\n",
       "2210     6.2\n",
       "2782     3.3\n",
       "3365     6.9\n",
       "4358     7.6\n",
       "4668     6.0\n",
       "5010     1.7\n",
       "5120     8.7\n",
       "5444     5.8\n",
       "5989     6.6\n",
       "6487     5.5\n",
       "6854     4.0\n",
       "6891     8.3\n",
       "8265     0.7\n",
       "9132     4.1\n",
       "9465     7.2\n",
       "9629     2.0\n",
       "9861     3.4\n",
       "9955     4.2\n",
       "9970     0.2\n",
       "12834    8.2\n",
       "12969    7.8\n",
       "13384    6.1\n",
       "13729    6.8\n",
       "14098    6.5\n",
       "14152    4.8\n",
       "15227    4.5\n",
       "15407    3.7\n",
       "15839    6.0\n",
       "16015    7.1\n",
       "16120    6.3\n",
       "16643    6.6\n",
       "Name: user_score, dtype: float64"
      ]
     },
     "execution_count": 58,
     "metadata": {},
     "output_type": "execute_result"
    }
   ],
   "source": [
    "action.astype('float64', errors='ignore')\n",
    "sports.astype('float64', errors='ignore')"
   ]
  },
  {
   "cell_type": "code",
   "execution_count": 59,
   "metadata": {},
   "outputs": [
    {
     "name": "stdout",
     "output_type": "stream",
     "text": [
      "Средний пользовательские рейтинги жанров Action: 6.638823529411765\n",
      "Средний пользовательские рейтинги жанров Sports: 5.4324324324324325\n"
     ]
    }
   ],
   "source": [
    "print('Средний пользовательские рейтинги жанров Action:', action.mean())\n",
    "print('Средний пользовательские рейтинги жанров Sports:', sports.mean())"
   ]
  },
  {
   "cell_type": "code",
   "execution_count": 60,
   "metadata": {},
   "outputs": [
    {
     "name": "stdout",
     "output_type": "stream",
     "text": [
      "0.002025023028063322\n",
      "Отвергаем нулевую гипотезу\n"
     ]
    }
   ],
   "source": [
    "alpha = 0.05\n",
    "results = results = st.ttest_ind(action,sports, equal_var = False) # проверяем равенство двух независимых совокупностей. \n",
    "print(results.pvalue)\n",
    "\n",
    "if results.pvalue < alpha:\n",
    "    print(\"Отвергаем нулевую гипотезу\")\n",
    "else:\n",
    "    print(\"Не получилось отвергнуть нулевую гипотезу\") "
   ]
  },
  {
   "cell_type": "markdown",
   "metadata": {},
   "source": [
    "**Рейтинги жанров отличаются, это и подтверждает альтернативная гипотеза**"
   ]
  },
  {
   "cell_type": "markdown",
   "metadata": {},
   "source": [
    "\n",
    "    \n",
    "**В ходе работы мы:**\n",
    "    \n",
    "   Проанализировали полученный датафрейм, нашли пропуски и аномалии. Выполнили переработку данных, заполнили пусые значения (где возможно), изменили типы данных, подготовили актуальные данные, проверили гипотезы.\n",
    "    \n",
    "    \n",
    "**В результате**:\n",
    "    \n",
    "    Определили самые популярные платформы и жанры и популярные врзврастные категории игр. Выяснили, что продажа компьютерных игр зависит от жанра, платформы. Так же заметили, что популярны компании, которые давно разрабатывают игры. Все потому, что они изучили потребности пользователей, и знают, что понраиться пользователем.\n",
    "    \n",
    " **Критерии успешности игр**:\n",
    "\n",
    "Самые популярные игры-  PS4, XOne и 3DS.\n",
    "Популярная платформа - PC.\n",
    "Самые популярные жанры - Action, Shooter, Sports.\n",
    "Болььшая часть пользователей исполььзуют игры категории 17+\n",
    "Пользователи доверяют рейтигку критиков**"
   ]
  }
 ],
 "metadata": {
  "ExecuteTimeLog": [
   {
    "duration": 483,
    "start_time": "2022-10-03T19:42:26.505Z"
   },
   {
    "duration": 28,
    "start_time": "2022-10-03T19:42:49.481Z"
   },
   {
    "duration": 13,
    "start_time": "2022-10-03T19:43:24.783Z"
   },
   {
    "duration": 21,
    "start_time": "2022-10-03T19:54:44.900Z"
   },
   {
    "duration": 12,
    "start_time": "2022-10-03T19:54:52.128Z"
   },
   {
    "duration": 4,
    "start_time": "2022-10-03T19:56:27.299Z"
   },
   {
    "duration": 49,
    "start_time": "2022-10-03T20:00:08.581Z"
   },
   {
    "duration": 5,
    "start_time": "2022-10-03T20:01:46.064Z"
   },
   {
    "duration": 12,
    "start_time": "2022-10-03T20:01:59.445Z"
   },
   {
    "duration": 5,
    "start_time": "2022-10-03T20:02:26.555Z"
   },
   {
    "duration": 12,
    "start_time": "2022-10-03T20:02:31.178Z"
   },
   {
    "duration": 13,
    "start_time": "2022-10-03T20:03:20.348Z"
   },
   {
    "duration": 8,
    "start_time": "2022-10-03T20:19:05.719Z"
   },
   {
    "duration": 51,
    "start_time": "2022-10-03T20:19:40.340Z"
   },
   {
    "duration": 135,
    "start_time": "2022-10-03T20:21:24.081Z"
   },
   {
    "duration": 56,
    "start_time": "2022-10-03T20:21:56.112Z"
   },
   {
    "duration": 19,
    "start_time": "2022-10-03T20:23:17.059Z"
   },
   {
    "duration": 13,
    "start_time": "2022-10-03T20:24:15.844Z"
   },
   {
    "duration": 47,
    "start_time": "2022-10-04T12:37:24.613Z"
   },
   {
    "duration": 15,
    "start_time": "2022-10-04T12:37:24.662Z"
   },
   {
    "duration": 12,
    "start_time": "2022-10-04T12:37:24.679Z"
   },
   {
    "duration": 31,
    "start_time": "2022-10-04T12:37:24.693Z"
   },
   {
    "duration": 18,
    "start_time": "2022-10-04T12:37:24.726Z"
   },
   {
    "duration": 19,
    "start_time": "2022-10-04T12:37:24.746Z"
   },
   {
    "duration": 54,
    "start_time": "2022-10-04T12:37:44.556Z"
   },
   {
    "duration": 20,
    "start_time": "2022-10-04T12:37:51.355Z"
   },
   {
    "duration": 6,
    "start_time": "2022-10-04T12:37:59.362Z"
   },
   {
    "duration": 20,
    "start_time": "2022-10-04T12:38:01.412Z"
   },
   {
    "duration": 7,
    "start_time": "2022-10-04T12:38:25.872Z"
   },
   {
    "duration": 16,
    "start_time": "2022-10-04T12:39:56.231Z"
   },
   {
    "duration": 466,
    "start_time": "2022-10-04T12:51:50.948Z"
   },
   {
    "duration": 9,
    "start_time": "2022-10-04T12:55:24.784Z"
   },
   {
    "duration": 76,
    "start_time": "2022-10-04T19:09:14.409Z"
   },
   {
    "duration": 47,
    "start_time": "2022-10-04T19:10:27.483Z"
   },
   {
    "duration": 44,
    "start_time": "2022-10-04T19:11:56.780Z"
   },
   {
    "duration": 452,
    "start_time": "2022-10-04T19:14:11.864Z"
   },
   {
    "duration": 14,
    "start_time": "2022-10-04T19:14:12.318Z"
   },
   {
    "duration": 4,
    "start_time": "2022-10-04T19:14:12.334Z"
   },
   {
    "duration": 71,
    "start_time": "2022-10-04T19:14:12.339Z"
   },
   {
    "duration": 0,
    "start_time": "2022-10-04T19:14:12.412Z"
   },
   {
    "duration": 0,
    "start_time": "2022-10-04T19:14:12.413Z"
   },
   {
    "duration": 0,
    "start_time": "2022-10-04T19:14:12.414Z"
   },
   {
    "duration": 0,
    "start_time": "2022-10-04T19:14:12.416Z"
   },
   {
    "duration": 0,
    "start_time": "2022-10-04T19:14:12.417Z"
   },
   {
    "duration": 36,
    "start_time": "2022-10-04T19:14:28.456Z"
   },
   {
    "duration": 10,
    "start_time": "2022-10-04T19:14:41.428Z"
   },
   {
    "duration": 7,
    "start_time": "2022-10-04T19:14:57.842Z"
   },
   {
    "duration": 12,
    "start_time": "2022-10-04T19:15:01.132Z"
   },
   {
    "duration": 7,
    "start_time": "2022-10-04T19:15:07.406Z"
   },
   {
    "duration": 507,
    "start_time": "2022-10-04T19:15:14.921Z"
   },
   {
    "duration": 9,
    "start_time": "2022-10-04T19:15:22.724Z"
   },
   {
    "duration": 54,
    "start_time": "2022-10-04T19:15:35.451Z"
   },
   {
    "duration": 47,
    "start_time": "2022-10-04T19:16:06.143Z"
   },
   {
    "duration": 52,
    "start_time": "2022-10-04T19:16:10.953Z"
   },
   {
    "duration": 49,
    "start_time": "2022-10-04T19:16:22.998Z"
   },
   {
    "duration": 46,
    "start_time": "2022-10-04T19:21:55.336Z"
   },
   {
    "duration": 38,
    "start_time": "2022-10-04T19:25:22.293Z"
   },
   {
    "duration": 39,
    "start_time": "2022-10-04T19:25:25.964Z"
   },
   {
    "duration": 16,
    "start_time": "2022-10-04T19:25:53.817Z"
   },
   {
    "duration": 23,
    "start_time": "2022-10-04T20:00:46.048Z"
   },
   {
    "duration": 13,
    "start_time": "2022-10-04T20:02:28.990Z"
   },
   {
    "duration": 13,
    "start_time": "2022-10-04T20:02:56.739Z"
   },
   {
    "duration": 18,
    "start_time": "2022-10-04T20:06:10.375Z"
   },
   {
    "duration": 13,
    "start_time": "2022-10-04T20:11:13.764Z"
   },
   {
    "duration": 8,
    "start_time": "2022-10-04T20:11:39.591Z"
   },
   {
    "duration": 8,
    "start_time": "2022-10-04T20:12:51.733Z"
   },
   {
    "duration": 77,
    "start_time": "2022-10-04T20:13:31.528Z"
   },
   {
    "duration": 14,
    "start_time": "2022-10-04T20:13:33.186Z"
   },
   {
    "duration": 5,
    "start_time": "2022-10-04T20:13:40.584Z"
   },
   {
    "duration": 22,
    "start_time": "2022-10-04T20:13:41.942Z"
   },
   {
    "duration": 9,
    "start_time": "2022-10-04T20:13:45.012Z"
   },
   {
    "duration": 14,
    "start_time": "2022-10-04T20:13:47.226Z"
   },
   {
    "duration": 8,
    "start_time": "2022-10-04T20:13:56.893Z"
   },
   {
    "duration": 51,
    "start_time": "2022-10-04T20:19:48.648Z"
   },
   {
    "duration": 71,
    "start_time": "2022-10-04T20:23:11.691Z"
   },
   {
    "duration": 64,
    "start_time": "2022-10-04T20:23:34.514Z"
   },
   {
    "duration": 792,
    "start_time": "2022-10-04T20:23:46.445Z"
   },
   {
    "duration": 764,
    "start_time": "2022-10-04T20:23:56.569Z"
   },
   {
    "duration": 803,
    "start_time": "2022-10-04T20:27:42.563Z"
   },
   {
    "duration": 3,
    "start_time": "2022-10-04T20:29:07.670Z"
   },
   {
    "duration": 1017,
    "start_time": "2022-10-04T20:33:41.368Z"
   },
   {
    "duration": 62,
    "start_time": "2022-10-04T20:34:00.961Z"
   },
   {
    "duration": 13,
    "start_time": "2022-10-04T20:34:04.036Z"
   },
   {
    "duration": 743,
    "start_time": "2022-10-04T20:35:21.823Z"
   },
   {
    "duration": 850,
    "start_time": "2022-10-04T20:35:34.635Z"
   },
   {
    "duration": 12,
    "start_time": "2022-10-04T20:36:16.771Z"
   },
   {
    "duration": 8,
    "start_time": "2022-10-04T20:36:22.297Z"
   },
   {
    "duration": 1053,
    "start_time": "2022-10-04T20:41:39.687Z"
   },
   {
    "duration": 5,
    "start_time": "2022-10-04T20:42:27.454Z"
   },
   {
    "duration": 13,
    "start_time": "2022-10-04T20:42:33.331Z"
   },
   {
    "duration": 6,
    "start_time": "2022-10-04T20:42:39.866Z"
   },
   {
    "duration": 12,
    "start_time": "2022-10-04T20:42:48.235Z"
   },
   {
    "duration": 28,
    "start_time": "2022-10-04T20:43:29.479Z"
   },
   {
    "duration": 1244,
    "start_time": "2022-10-04T20:44:00.746Z"
   },
   {
    "duration": 28,
    "start_time": "2022-10-04T20:44:04.703Z"
   },
   {
    "duration": 725,
    "start_time": "2022-10-04T20:44:07.572Z"
   },
   {
    "duration": 18,
    "start_time": "2022-10-04T20:44:45.642Z"
   },
   {
    "duration": 58,
    "start_time": "2022-10-04T20:45:00.732Z"
   },
   {
    "duration": 19,
    "start_time": "2022-10-04T20:45:03.148Z"
   },
   {
    "duration": 39,
    "start_time": "2022-10-04T20:45:33.962Z"
   },
   {
    "duration": 18,
    "start_time": "2022-10-04T20:45:36.386Z"
   },
   {
    "duration": 18,
    "start_time": "2022-10-04T20:48:06.251Z"
   },
   {
    "duration": 37,
    "start_time": "2022-10-04T20:48:15.074Z"
   },
   {
    "duration": 26,
    "start_time": "2022-10-04T20:48:16.502Z"
   },
   {
    "duration": 5,
    "start_time": "2022-10-04T20:49:41.051Z"
   },
   {
    "duration": 10,
    "start_time": "2022-10-04T20:49:46.446Z"
   },
   {
    "duration": 42,
    "start_time": "2022-10-04T20:50:52.888Z"
   },
   {
    "duration": 52,
    "start_time": "2022-10-04T20:50:58.729Z"
   },
   {
    "duration": 10,
    "start_time": "2022-10-04T20:55:19.762Z"
   },
   {
    "duration": 21,
    "start_time": "2022-10-04T20:55:35.407Z"
   },
   {
    "duration": 9,
    "start_time": "2022-10-04T20:55:44.091Z"
   },
   {
    "duration": 11,
    "start_time": "2022-10-04T20:57:23.522Z"
   },
   {
    "duration": 12,
    "start_time": "2022-10-04T21:01:29.225Z"
   },
   {
    "duration": 15,
    "start_time": "2022-10-04T21:01:42.923Z"
   },
   {
    "duration": 869,
    "start_time": "2022-10-04T21:01:57.287Z"
   },
   {
    "duration": 9,
    "start_time": "2022-10-04T21:02:28.259Z"
   },
   {
    "duration": 8,
    "start_time": "2022-10-04T21:02:42.943Z"
   },
   {
    "duration": 9,
    "start_time": "2022-10-04T21:02:54.051Z"
   },
   {
    "duration": 22,
    "start_time": "2022-10-04T21:03:04.572Z"
   },
   {
    "duration": 497,
    "start_time": "2022-10-05T11:43:42.168Z"
   },
   {
    "duration": 13,
    "start_time": "2022-10-05T11:43:42.667Z"
   },
   {
    "duration": 6,
    "start_time": "2022-10-05T11:43:42.682Z"
   },
   {
    "duration": 21,
    "start_time": "2022-10-05T11:43:42.689Z"
   },
   {
    "duration": 6,
    "start_time": "2022-10-05T11:43:42.712Z"
   },
   {
    "duration": 9,
    "start_time": "2022-10-05T11:43:42.719Z"
   },
   {
    "duration": 8,
    "start_time": "2022-10-05T11:43:42.729Z"
   },
   {
    "duration": 7,
    "start_time": "2022-10-05T11:43:42.739Z"
   },
   {
    "duration": 66,
    "start_time": "2022-10-05T11:43:42.748Z"
   },
   {
    "duration": 50,
    "start_time": "2022-10-05T11:43:42.816Z"
   },
   {
    "duration": 9,
    "start_time": "2022-10-05T11:43:42.867Z"
   },
   {
    "duration": 8,
    "start_time": "2022-10-05T11:43:42.877Z"
   },
   {
    "duration": 36,
    "start_time": "2022-10-05T11:43:42.887Z"
   },
   {
    "duration": 8,
    "start_time": "2022-10-05T11:50:05.275Z"
   },
   {
    "duration": 83,
    "start_time": "2022-10-05T12:04:54.034Z"
   },
   {
    "duration": 1012,
    "start_time": "2022-10-05T12:05:07.953Z"
   },
   {
    "duration": 626,
    "start_time": "2022-10-05T12:05:36.739Z"
   },
   {
    "duration": 946,
    "start_time": "2022-10-05T12:10:59.570Z"
   },
   {
    "duration": 6,
    "start_time": "2022-10-05T12:11:16.779Z"
   },
   {
    "duration": 6,
    "start_time": "2022-10-05T12:14:30.557Z"
   },
   {
    "duration": 6,
    "start_time": "2022-10-05T12:14:35.143Z"
   },
   {
    "duration": 11,
    "start_time": "2022-10-05T12:21:07.031Z"
   },
   {
    "duration": 13,
    "start_time": "2022-10-05T12:21:19.779Z"
   },
   {
    "duration": 8,
    "start_time": "2022-10-05T12:21:27.684Z"
   },
   {
    "duration": 16,
    "start_time": "2022-10-05T12:21:44.434Z"
   },
   {
    "duration": 7,
    "start_time": "2022-10-05T12:21:52.748Z"
   },
   {
    "duration": 7,
    "start_time": "2022-10-05T12:22:51.679Z"
   },
   {
    "duration": 8,
    "start_time": "2022-10-05T12:23:33.091Z"
   },
   {
    "duration": 9,
    "start_time": "2022-10-05T12:23:50.839Z"
   },
   {
    "duration": 82,
    "start_time": "2022-10-05T12:59:26.560Z"
   },
   {
    "duration": 29,
    "start_time": "2022-10-05T13:00:17.996Z"
   },
   {
    "duration": 24,
    "start_time": "2022-10-05T13:01:00.123Z"
   },
   {
    "duration": 11,
    "start_time": "2022-10-05T13:06:47.296Z"
   },
   {
    "duration": 9,
    "start_time": "2022-10-05T13:07:44.855Z"
   },
   {
    "duration": 10,
    "start_time": "2022-10-05T13:08:23.575Z"
   },
   {
    "duration": 9,
    "start_time": "2022-10-05T13:19:07.028Z"
   },
   {
    "duration": 45,
    "start_time": "2022-10-05T14:02:02.274Z"
   },
   {
    "duration": 223,
    "start_time": "2022-10-05T14:02:32.068Z"
   },
   {
    "duration": 68,
    "start_time": "2022-10-05T14:02:39.516Z"
   },
   {
    "duration": 382,
    "start_time": "2022-10-05T14:03:17.780Z"
   },
   {
    "duration": 300,
    "start_time": "2022-10-05T14:03:28.058Z"
   },
   {
    "duration": 301,
    "start_time": "2022-10-05T14:03:59.137Z"
   },
   {
    "duration": 296,
    "start_time": "2022-10-05T14:04:27.639Z"
   },
   {
    "duration": 265,
    "start_time": "2022-10-05T14:06:28.307Z"
   },
   {
    "duration": 20,
    "start_time": "2022-10-05T14:08:38.519Z"
   },
   {
    "duration": 2768,
    "start_time": "2022-10-05T14:08:54.122Z"
   },
   {
    "duration": 1652,
    "start_time": "2022-10-05T14:09:44.063Z"
   },
   {
    "duration": 375,
    "start_time": "2022-10-05T14:10:14.195Z"
   },
   {
    "duration": 154,
    "start_time": "2022-10-05T14:10:33.807Z"
   },
   {
    "duration": 268,
    "start_time": "2022-10-05T14:10:51.424Z"
   },
   {
    "duration": 268,
    "start_time": "2022-10-05T14:11:06.261Z"
   },
   {
    "duration": 258,
    "start_time": "2022-10-05T15:13:56.782Z"
   },
   {
    "duration": 8,
    "start_time": "2022-10-05T15:26:46.739Z"
   },
   {
    "duration": 9,
    "start_time": "2022-10-05T15:28:03.062Z"
   },
   {
    "duration": 6,
    "start_time": "2022-10-05T15:30:09.276Z"
   },
   {
    "duration": 8,
    "start_time": "2022-10-05T15:32:27.828Z"
   },
   {
    "duration": 7,
    "start_time": "2022-10-05T15:33:08.461Z"
   },
   {
    "duration": 6,
    "start_time": "2022-10-05T15:45:06.733Z"
   },
   {
    "duration": 61,
    "start_time": "2022-10-05T15:45:36.621Z"
   },
   {
    "duration": 67,
    "start_time": "2022-10-05T15:45:56.205Z"
   },
   {
    "duration": 69,
    "start_time": "2022-10-05T15:46:05.427Z"
   },
   {
    "duration": 147,
    "start_time": "2022-10-05T15:49:01.092Z"
   },
   {
    "duration": 7,
    "start_time": "2022-10-05T15:49:56.995Z"
   },
   {
    "duration": 291,
    "start_time": "2022-10-05T15:50:25.166Z"
   },
   {
    "duration": 1097,
    "start_time": "2022-10-05T15:50:47.831Z"
   },
   {
    "duration": 482,
    "start_time": "2022-10-05T15:53:13.725Z"
   },
   {
    "duration": 270,
    "start_time": "2022-10-05T15:55:26.965Z"
   },
   {
    "duration": 11,
    "start_time": "2022-10-05T16:04:10.084Z"
   },
   {
    "duration": 11,
    "start_time": "2022-10-05T16:04:39.117Z"
   },
   {
    "duration": 15,
    "start_time": "2022-10-05T16:04:52.058Z"
   },
   {
    "duration": 12,
    "start_time": "2022-10-05T16:05:07.135Z"
   },
   {
    "duration": 477,
    "start_time": "2022-10-05T19:40:41.720Z"
   },
   {
    "duration": 13,
    "start_time": "2022-10-05T19:40:42.199Z"
   },
   {
    "duration": 5,
    "start_time": "2022-10-05T19:40:42.214Z"
   },
   {
    "duration": 19,
    "start_time": "2022-10-05T19:40:42.220Z"
   },
   {
    "duration": 6,
    "start_time": "2022-10-05T19:40:42.241Z"
   },
   {
    "duration": 9,
    "start_time": "2022-10-05T19:40:42.248Z"
   },
   {
    "duration": 12,
    "start_time": "2022-10-05T19:40:42.259Z"
   },
   {
    "duration": 29,
    "start_time": "2022-10-05T19:40:42.272Z"
   },
   {
    "duration": 39,
    "start_time": "2022-10-05T19:40:42.303Z"
   },
   {
    "duration": 62,
    "start_time": "2022-10-05T19:40:42.343Z"
   },
   {
    "duration": 10,
    "start_time": "2022-10-05T19:40:42.407Z"
   },
   {
    "duration": 8,
    "start_time": "2022-10-05T19:40:42.419Z"
   },
   {
    "duration": 21,
    "start_time": "2022-10-05T19:40:42.428Z"
   },
   {
    "duration": 6,
    "start_time": "2022-10-05T19:40:42.451Z"
   },
   {
    "duration": 10,
    "start_time": "2022-10-05T19:40:42.459Z"
   },
   {
    "duration": 766,
    "start_time": "2022-10-05T19:40:42.471Z"
   },
   {
    "duration": 81,
    "start_time": "2022-10-05T19:40:43.238Z"
   },
   {
    "duration": 3,
    "start_time": "2022-10-05T19:41:09.783Z"
   },
   {
    "duration": 15,
    "start_time": "2022-10-05T19:41:25.264Z"
   },
   {
    "duration": 7,
    "start_time": "2022-10-05T19:43:52.216Z"
   },
   {
    "duration": 10,
    "start_time": "2022-10-05T19:45:52.802Z"
   },
   {
    "duration": 10,
    "start_time": "2022-10-05T19:46:47.335Z"
   },
   {
    "duration": 9,
    "start_time": "2022-10-05T19:50:04.299Z"
   },
   {
    "duration": 7,
    "start_time": "2022-10-05T19:57:00.436Z"
   },
   {
    "duration": 31,
    "start_time": "2022-10-05T19:57:32.646Z"
   },
   {
    "duration": 65,
    "start_time": "2022-10-05T20:01:40.678Z"
   },
   {
    "duration": 19,
    "start_time": "2022-10-05T20:01:40.746Z"
   },
   {
    "duration": 5,
    "start_time": "2022-10-05T20:01:40.767Z"
   },
   {
    "duration": 29,
    "start_time": "2022-10-05T20:01:40.774Z"
   },
   {
    "duration": 7,
    "start_time": "2022-10-05T20:01:40.806Z"
   },
   {
    "duration": 13,
    "start_time": "2022-10-05T20:01:40.815Z"
   },
   {
    "duration": 11,
    "start_time": "2022-10-05T20:01:40.831Z"
   },
   {
    "duration": 9,
    "start_time": "2022-10-05T20:01:40.844Z"
   },
   {
    "duration": 83,
    "start_time": "2022-10-05T20:01:40.855Z"
   },
   {
    "duration": 48,
    "start_time": "2022-10-05T20:01:40.940Z"
   },
   {
    "duration": 8,
    "start_time": "2022-10-05T20:01:41.000Z"
   },
   {
    "duration": 12,
    "start_time": "2022-10-05T20:01:41.010Z"
   },
   {
    "duration": 18,
    "start_time": "2022-10-05T20:01:41.023Z"
   },
   {
    "duration": 7,
    "start_time": "2022-10-05T20:01:41.043Z"
   },
   {
    "duration": 8,
    "start_time": "2022-10-05T20:01:41.052Z"
   },
   {
    "duration": 326,
    "start_time": "2022-10-05T20:01:41.062Z"
   },
   {
    "duration": 106,
    "start_time": "2022-10-05T20:01:41.389Z"
   },
   {
    "duration": 0,
    "start_time": "2022-10-05T20:01:41.496Z"
   },
   {
    "duration": 91,
    "start_time": "2022-10-05T20:04:13.752Z"
   },
   {
    "duration": 45,
    "start_time": "2022-10-05T20:04:48.872Z"
   },
   {
    "duration": 292,
    "start_time": "2022-10-05T20:05:39.129Z"
   },
   {
    "duration": 909,
    "start_time": "2022-10-06T10:53:23.836Z"
   },
   {
    "duration": 15,
    "start_time": "2022-10-06T10:53:24.747Z"
   },
   {
    "duration": 8,
    "start_time": "2022-10-06T10:53:24.763Z"
   },
   {
    "duration": 18,
    "start_time": "2022-10-06T10:53:24.773Z"
   },
   {
    "duration": 6,
    "start_time": "2022-10-06T10:53:24.792Z"
   },
   {
    "duration": 10,
    "start_time": "2022-10-06T10:53:24.800Z"
   },
   {
    "duration": 24,
    "start_time": "2022-10-06T10:53:24.811Z"
   },
   {
    "duration": 16,
    "start_time": "2022-10-06T10:53:24.836Z"
   },
   {
    "duration": 66,
    "start_time": "2022-10-06T10:53:24.853Z"
   },
   {
    "duration": 50,
    "start_time": "2022-10-06T10:53:24.921Z"
   },
   {
    "duration": 9,
    "start_time": "2022-10-06T10:53:24.973Z"
   },
   {
    "duration": 9,
    "start_time": "2022-10-06T10:53:24.983Z"
   },
   {
    "duration": 28,
    "start_time": "2022-10-06T10:53:24.993Z"
   },
   {
    "duration": 6,
    "start_time": "2022-10-06T10:53:25.023Z"
   },
   {
    "duration": 23,
    "start_time": "2022-10-06T10:53:25.030Z"
   },
   {
    "duration": 363,
    "start_time": "2022-10-06T10:53:25.054Z"
   },
   {
    "duration": 50,
    "start_time": "2022-10-06T10:53:25.418Z"
   },
   {
    "duration": 0,
    "start_time": "2022-10-06T10:53:25.470Z"
   },
   {
    "duration": 114,
    "start_time": "2022-10-06T10:53:50.918Z"
   },
   {
    "duration": 51,
    "start_time": "2022-10-06T10:54:29.147Z"
   },
   {
    "duration": 80,
    "start_time": "2022-10-06T10:54:58.033Z"
   },
   {
    "duration": 4,
    "start_time": "2022-10-06T10:58:36.737Z"
   },
   {
    "duration": 15,
    "start_time": "2022-10-06T10:59:38.199Z"
   },
   {
    "duration": 5,
    "start_time": "2022-10-06T11:00:02.909Z"
   },
   {
    "duration": 8,
    "start_time": "2022-10-06T11:04:06.037Z"
   },
   {
    "duration": 5,
    "start_time": "2022-10-06T11:04:12.604Z"
   },
   {
    "duration": 261,
    "start_time": "2022-10-06T11:07:16.390Z"
   },
   {
    "duration": 152,
    "start_time": "2022-10-06T11:14:30.018Z"
   },
   {
    "duration": 84,
    "start_time": "2022-10-06T11:14:48.327Z"
   },
   {
    "duration": 5,
    "start_time": "2022-10-06T11:14:52.980Z"
   },
   {
    "duration": 7,
    "start_time": "2022-10-06T11:16:19.988Z"
   },
   {
    "duration": 8,
    "start_time": "2022-10-06T11:16:34.741Z"
   },
   {
    "duration": 8,
    "start_time": "2022-10-06T11:16:42.046Z"
   },
   {
    "duration": 8,
    "start_time": "2022-10-06T11:17:03.706Z"
   },
   {
    "duration": 8,
    "start_time": "2022-10-06T11:17:36.865Z"
   },
   {
    "duration": 15,
    "start_time": "2022-10-06T11:18:04.705Z"
   },
   {
    "duration": 69,
    "start_time": "2022-10-06T11:19:47.427Z"
   },
   {
    "duration": 14,
    "start_time": "2022-10-06T11:19:49.394Z"
   },
   {
    "duration": 4,
    "start_time": "2022-10-06T11:19:52.260Z"
   },
   {
    "duration": 5,
    "start_time": "2022-10-06T11:19:58.034Z"
   },
   {
    "duration": 20,
    "start_time": "2022-10-06T11:19:59.057Z"
   },
   {
    "duration": 6,
    "start_time": "2022-10-06T11:20:01.339Z"
   },
   {
    "duration": 10,
    "start_time": "2022-10-06T11:20:11.947Z"
   },
   {
    "duration": 8,
    "start_time": "2022-10-06T11:20:32.688Z"
   },
   {
    "duration": 8,
    "start_time": "2022-10-06T11:20:37.964Z"
   },
   {
    "duration": 45,
    "start_time": "2022-10-06T11:20:44.587Z"
   },
   {
    "duration": 53,
    "start_time": "2022-10-06T11:20:45.269Z"
   },
   {
    "duration": 11,
    "start_time": "2022-10-06T11:20:45.941Z"
   },
   {
    "duration": 9,
    "start_time": "2022-10-06T11:20:49.968Z"
   },
   {
    "duration": 24,
    "start_time": "2022-10-06T11:20:57.042Z"
   },
   {
    "duration": 6,
    "start_time": "2022-10-06T11:21:01.484Z"
   },
   {
    "duration": 9,
    "start_time": "2022-10-06T11:21:22.912Z"
   },
   {
    "duration": 7,
    "start_time": "2022-10-06T11:21:27.350Z"
   },
   {
    "duration": 9,
    "start_time": "2022-10-06T11:21:42.870Z"
   },
   {
    "duration": 19,
    "start_time": "2022-10-06T11:21:59.396Z"
   },
   {
    "duration": 27,
    "start_time": "2022-10-06T11:23:01.884Z"
   },
   {
    "duration": 7,
    "start_time": "2022-10-06T11:23:38.402Z"
   },
   {
    "duration": 9,
    "start_time": "2022-10-06T11:24:06.648Z"
   },
   {
    "duration": 30,
    "start_time": "2022-10-06T11:24:14.331Z"
   },
   {
    "duration": 8,
    "start_time": "2022-10-06T11:39:24.989Z"
   },
   {
    "duration": 21,
    "start_time": "2022-10-06T11:39:39.287Z"
   },
   {
    "duration": 23,
    "start_time": "2022-10-06T11:39:52.407Z"
   },
   {
    "duration": 49,
    "start_time": "2022-10-06T12:18:14.951Z"
   },
   {
    "duration": 80,
    "start_time": "2022-10-06T12:18:23.433Z"
   },
   {
    "duration": 13,
    "start_time": "2022-10-06T12:18:38.640Z"
   },
   {
    "duration": 18,
    "start_time": "2022-10-06T12:18:51.397Z"
   },
   {
    "duration": 18,
    "start_time": "2022-10-06T12:20:35.660Z"
   },
   {
    "duration": 13,
    "start_time": "2022-10-06T12:20:48.126Z"
   },
   {
    "duration": 18,
    "start_time": "2022-10-06T12:42:23.905Z"
   },
   {
    "duration": 20,
    "start_time": "2022-10-06T12:43:52.888Z"
   },
   {
    "duration": 16,
    "start_time": "2022-10-06T12:44:29.028Z"
   },
   {
    "duration": 288,
    "start_time": "2022-10-06T12:45:28.601Z"
   },
   {
    "duration": 280,
    "start_time": "2022-10-06T12:46:03.801Z"
   },
   {
    "duration": 936,
    "start_time": "2022-10-06T19:31:15.389Z"
   },
   {
    "duration": 17,
    "start_time": "2022-10-06T19:31:16.328Z"
   },
   {
    "duration": 5,
    "start_time": "2022-10-06T19:31:16.346Z"
   },
   {
    "duration": 20,
    "start_time": "2022-10-06T19:31:16.353Z"
   },
   {
    "duration": 6,
    "start_time": "2022-10-06T19:31:16.376Z"
   },
   {
    "duration": 10,
    "start_time": "2022-10-06T19:31:16.383Z"
   },
   {
    "duration": 23,
    "start_time": "2022-10-06T19:31:16.394Z"
   },
   {
    "duration": 7,
    "start_time": "2022-10-06T19:31:16.418Z"
   },
   {
    "duration": 52,
    "start_time": "2022-10-06T19:31:16.427Z"
   },
   {
    "duration": 83,
    "start_time": "2022-10-06T19:31:16.481Z"
   },
   {
    "duration": 10,
    "start_time": "2022-10-06T19:31:16.566Z"
   },
   {
    "duration": 15,
    "start_time": "2022-10-06T19:31:16.578Z"
   },
   {
    "duration": 35,
    "start_time": "2022-10-06T19:31:16.595Z"
   },
   {
    "duration": 7,
    "start_time": "2022-10-06T19:31:16.633Z"
   },
   {
    "duration": 15,
    "start_time": "2022-10-06T19:31:16.642Z"
   },
   {
    "duration": 50,
    "start_time": "2022-10-06T19:31:16.659Z"
   },
   {
    "duration": 25,
    "start_time": "2022-10-06T19:31:16.710Z"
   },
   {
    "duration": 308,
    "start_time": "2022-10-06T19:31:16.737Z"
   },
   {
    "duration": 350,
    "start_time": "2022-10-06T19:31:17.047Z"
   },
   {
    "duration": 259,
    "start_time": "2022-10-06T19:31:17.398Z"
   },
   {
    "duration": 22,
    "start_time": "2022-10-06T19:59:45.047Z"
   },
   {
    "duration": 23,
    "start_time": "2022-10-06T20:00:00.270Z"
   },
   {
    "duration": 126,
    "start_time": "2022-10-06T20:03:11.721Z"
   },
   {
    "duration": 15,
    "start_time": "2022-10-06T20:03:32.021Z"
   },
   {
    "duration": 9,
    "start_time": "2022-10-06T20:04:15.195Z"
   },
   {
    "duration": 5,
    "start_time": "2022-10-06T20:04:33.150Z"
   },
   {
    "duration": 135,
    "start_time": "2022-10-06T20:05:39.860Z"
   },
   {
    "duration": 7,
    "start_time": "2022-10-06T20:06:04.130Z"
   },
   {
    "duration": 19,
    "start_time": "2022-10-06T20:09:54.784Z"
   },
   {
    "duration": 193,
    "start_time": "2022-10-06T20:10:22.990Z"
   },
   {
    "duration": 272,
    "start_time": "2022-10-06T20:13:05.554Z"
   },
   {
    "duration": 23,
    "start_time": "2022-10-06T20:13:45.609Z"
   },
   {
    "duration": 12,
    "start_time": "2022-10-06T20:14:53.286Z"
   },
   {
    "duration": 20,
    "start_time": "2022-10-06T20:15:18.401Z"
   },
   {
    "duration": 6,
    "start_time": "2022-10-06T20:15:25.191Z"
   },
   {
    "duration": 50,
    "start_time": "2022-10-06T20:16:57.050Z"
   },
   {
    "duration": 15,
    "start_time": "2022-10-06T20:16:57.948Z"
   },
   {
    "duration": 6,
    "start_time": "2022-10-06T20:17:00.453Z"
   },
   {
    "duration": 15,
    "start_time": "2022-10-06T20:17:13.022Z"
   },
   {
    "duration": 6,
    "start_time": "2022-10-06T20:17:16.147Z"
   },
   {
    "duration": 8,
    "start_time": "2022-10-06T20:17:17.729Z"
   },
   {
    "duration": 7,
    "start_time": "2022-10-06T20:17:20.347Z"
   },
   {
    "duration": 7,
    "start_time": "2022-10-06T20:17:23.255Z"
   },
   {
    "duration": 66,
    "start_time": "2022-10-06T20:17:25.931Z"
   },
   {
    "duration": 19,
    "start_time": "2022-10-06T20:17:30.305Z"
   },
   {
    "duration": 16,
    "start_time": "2022-10-06T20:17:32.502Z"
   },
   {
    "duration": 9,
    "start_time": "2022-10-06T20:17:35.521Z"
   },
   {
    "duration": 9,
    "start_time": "2022-10-06T20:17:48.720Z"
   },
   {
    "duration": 8,
    "start_time": "2022-10-06T20:17:52.122Z"
   },
   {
    "duration": 20,
    "start_time": "2022-10-06T20:18:00.623Z"
   },
   {
    "duration": 13,
    "start_time": "2022-10-06T20:38:04.305Z"
   },
   {
    "duration": 9,
    "start_time": "2022-10-06T20:39:12.122Z"
   },
   {
    "duration": 184,
    "start_time": "2022-10-06T20:39:26.555Z"
   },
   {
    "duration": 219,
    "start_time": "2022-10-06T20:42:34.407Z"
   },
   {
    "duration": 20,
    "start_time": "2022-10-06T20:43:00.771Z"
   },
   {
    "duration": 18,
    "start_time": "2022-10-06T20:44:38.236Z"
   },
   {
    "duration": 14,
    "start_time": "2022-10-06T20:46:30.537Z"
   },
   {
    "duration": 161,
    "start_time": "2022-10-06T20:46:30.762Z"
   },
   {
    "duration": 16,
    "start_time": "2022-10-06T20:46:54.447Z"
   },
   {
    "duration": 247,
    "start_time": "2022-10-06T20:52:59.948Z"
   },
   {
    "duration": 237,
    "start_time": "2022-10-06T20:54:46.134Z"
   },
   {
    "duration": 279,
    "start_time": "2022-10-06T20:55:14.847Z"
   },
   {
    "duration": 44,
    "start_time": "2022-10-06T20:56:21.954Z"
   },
   {
    "duration": 36,
    "start_time": "2022-10-06T20:56:29.235Z"
   },
   {
    "duration": 209,
    "start_time": "2022-10-06T20:58:32.563Z"
   },
   {
    "duration": 209,
    "start_time": "2022-10-06T21:00:03.077Z"
   },
   {
    "duration": 326,
    "start_time": "2022-10-06T21:10:31.082Z"
   },
   {
    "duration": 320,
    "start_time": "2022-10-06T21:12:07.406Z"
   },
   {
    "duration": 346,
    "start_time": "2022-10-06T21:12:37.079Z"
   },
   {
    "duration": 392,
    "start_time": "2022-10-06T21:12:59.017Z"
   },
   {
    "duration": 1328,
    "start_time": "2022-10-07T16:44:28.267Z"
   },
   {
    "duration": 16,
    "start_time": "2022-10-07T16:44:29.597Z"
   },
   {
    "duration": 4,
    "start_time": "2022-10-07T16:44:29.615Z"
   },
   {
    "duration": 24,
    "start_time": "2022-10-07T16:44:29.620Z"
   },
   {
    "duration": 7,
    "start_time": "2022-10-07T16:44:29.647Z"
   },
   {
    "duration": 12,
    "start_time": "2022-10-07T16:44:29.655Z"
   },
   {
    "duration": 30,
    "start_time": "2022-10-07T16:44:29.668Z"
   },
   {
    "duration": 14,
    "start_time": "2022-10-07T16:44:29.700Z"
   },
   {
    "duration": 45,
    "start_time": "2022-10-07T16:44:29.716Z"
   },
   {
    "duration": 68,
    "start_time": "2022-10-07T16:44:29.762Z"
   },
   {
    "duration": 12,
    "start_time": "2022-10-07T16:44:29.832Z"
   },
   {
    "duration": 13,
    "start_time": "2022-10-07T16:44:29.846Z"
   },
   {
    "duration": 8,
    "start_time": "2022-10-07T16:44:29.860Z"
   },
   {
    "duration": 9,
    "start_time": "2022-10-07T16:44:29.894Z"
   },
   {
    "duration": 25,
    "start_time": "2022-10-07T16:44:29.912Z"
   },
   {
    "duration": 6,
    "start_time": "2022-10-07T16:44:29.940Z"
   },
   {
    "duration": 20,
    "start_time": "2022-10-07T16:44:29.948Z"
   },
   {
    "duration": 659,
    "start_time": "2022-10-07T16:44:29.970Z"
   },
   {
    "duration": 432,
    "start_time": "2022-10-07T16:44:30.631Z"
   },
   {
    "duration": 247,
    "start_time": "2022-10-07T16:44:31.065Z"
   },
   {
    "duration": 236,
    "start_time": "2022-10-07T16:44:31.314Z"
   },
   {
    "duration": 14,
    "start_time": "2022-10-07T16:44:31.551Z"
   },
   {
    "duration": 252,
    "start_time": "2022-10-07T16:44:31.567Z"
   },
   {
    "duration": 334,
    "start_time": "2022-10-07T16:44:31.821Z"
   },
   {
    "duration": 134,
    "start_time": "2022-10-07T16:56:52.666Z"
   },
   {
    "duration": 85,
    "start_time": "2022-10-07T16:59:14.206Z"
   },
   {
    "duration": 129,
    "start_time": "2022-10-07T17:01:27.144Z"
   },
   {
    "duration": 17,
    "start_time": "2022-10-07T17:01:56.783Z"
   },
   {
    "duration": 219,
    "start_time": "2022-10-07T17:02:36.747Z"
   },
   {
    "duration": 155,
    "start_time": "2022-10-07T17:03:59.584Z"
   },
   {
    "duration": 920,
    "start_time": "2022-10-07T19:59:24.515Z"
   },
   {
    "duration": 16,
    "start_time": "2022-10-07T19:59:25.437Z"
   },
   {
    "duration": 11,
    "start_time": "2022-10-07T19:59:25.455Z"
   },
   {
    "duration": 23,
    "start_time": "2022-10-07T19:59:25.468Z"
   },
   {
    "duration": 14,
    "start_time": "2022-10-07T19:59:25.493Z"
   },
   {
    "duration": 20,
    "start_time": "2022-10-07T19:59:25.509Z"
   },
   {
    "duration": 16,
    "start_time": "2022-10-07T19:59:25.533Z"
   },
   {
    "duration": 7,
    "start_time": "2022-10-07T19:59:25.551Z"
   },
   {
    "duration": 42,
    "start_time": "2022-10-07T19:59:25.560Z"
   },
   {
    "duration": 68,
    "start_time": "2022-10-07T19:59:25.604Z"
   },
   {
    "duration": 12,
    "start_time": "2022-10-07T19:59:25.675Z"
   },
   {
    "duration": 12,
    "start_time": "2022-10-07T19:59:25.689Z"
   },
   {
    "duration": 26,
    "start_time": "2022-10-07T19:59:25.702Z"
   },
   {
    "duration": 24,
    "start_time": "2022-10-07T19:59:25.731Z"
   },
   {
    "duration": 15,
    "start_time": "2022-10-07T19:59:25.756Z"
   },
   {
    "duration": 6,
    "start_time": "2022-10-07T19:59:25.773Z"
   },
   {
    "duration": 20,
    "start_time": "2022-10-07T19:59:25.780Z"
   },
   {
    "duration": 677,
    "start_time": "2022-10-07T19:59:25.802Z"
   },
   {
    "duration": 439,
    "start_time": "2022-10-07T19:59:26.481Z"
   },
   {
    "duration": 254,
    "start_time": "2022-10-07T19:59:26.922Z"
   },
   {
    "duration": 251,
    "start_time": "2022-10-07T19:59:27.178Z"
   },
   {
    "duration": 13,
    "start_time": "2022-10-07T19:59:27.433Z"
   },
   {
    "duration": 259,
    "start_time": "2022-10-07T19:59:27.448Z"
   },
   {
    "duration": 2178,
    "start_time": "2022-10-07T19:59:27.709Z"
   },
   {
    "duration": 11541,
    "start_time": "2022-10-07T20:03:18.069Z"
   },
   {
    "duration": 2018,
    "start_time": "2022-10-07T20:03:55.246Z"
   },
   {
    "duration": 79,
    "start_time": "2022-10-07T20:14:58.058Z"
   },
   {
    "duration": 9,
    "start_time": "2022-10-07T20:15:10.080Z"
   },
   {
    "duration": 16,
    "start_time": "2022-10-07T20:15:43.449Z"
   },
   {
    "duration": 16,
    "start_time": "2022-10-07T20:17:20.457Z"
   },
   {
    "duration": 34,
    "start_time": "2022-10-07T20:20:44.593Z"
   },
   {
    "duration": 15,
    "start_time": "2022-10-07T20:22:12.082Z"
   },
   {
    "duration": 30,
    "start_time": "2022-10-07T20:22:16.623Z"
   },
   {
    "duration": 14,
    "start_time": "2022-10-07T20:22:24.773Z"
   },
   {
    "duration": 17,
    "start_time": "2022-10-07T20:26:51.862Z"
   },
   {
    "duration": 14,
    "start_time": "2022-10-07T20:27:51.193Z"
   },
   {
    "duration": 14,
    "start_time": "2022-10-07T20:28:10.349Z"
   },
   {
    "duration": 13,
    "start_time": "2022-10-07T20:28:42.250Z"
   },
   {
    "duration": 27,
    "start_time": "2022-10-07T20:28:45.716Z"
   },
   {
    "duration": 14,
    "start_time": "2022-10-07T20:28:55.853Z"
   },
   {
    "duration": 8,
    "start_time": "2022-10-07T20:34:23.110Z"
   },
   {
    "duration": 15,
    "start_time": "2022-10-07T20:34:40.396Z"
   },
   {
    "duration": 22,
    "start_time": "2022-10-07T20:34:58.856Z"
   },
   {
    "duration": 140,
    "start_time": "2022-10-07T20:36:08.881Z"
   },
   {
    "duration": 14,
    "start_time": "2022-10-07T20:37:07.879Z"
   },
   {
    "duration": 169,
    "start_time": "2022-10-07T20:37:46.204Z"
   },
   {
    "duration": 376,
    "start_time": "2022-10-07T20:39:37.375Z"
   },
   {
    "duration": 418,
    "start_time": "2022-10-07T20:53:50.857Z"
   },
   {
    "duration": 39,
    "start_time": "2022-10-07T21:05:50.659Z"
   },
   {
    "duration": 9,
    "start_time": "2022-10-07T21:06:49.858Z"
   },
   {
    "duration": 6,
    "start_time": "2022-10-07T21:07:46.614Z"
   },
   {
    "duration": 5,
    "start_time": "2022-10-07T21:07:56.648Z"
   },
   {
    "duration": 5,
    "start_time": "2022-10-07T21:10:20.789Z"
   },
   {
    "duration": 2,
    "start_time": "2022-10-07T21:10:22.408Z"
   },
   {
    "duration": 1452,
    "start_time": "2022-10-07T21:10:23.254Z"
   },
   {
    "duration": 50,
    "start_time": "2022-10-07T21:11:54.538Z"
   },
   {
    "duration": 14,
    "start_time": "2022-10-07T21:11:54.590Z"
   },
   {
    "duration": 6,
    "start_time": "2022-10-07T21:11:54.605Z"
   },
   {
    "duration": 37,
    "start_time": "2022-10-07T21:11:54.612Z"
   },
   {
    "duration": 36,
    "start_time": "2022-10-07T21:11:54.651Z"
   },
   {
    "duration": 10,
    "start_time": "2022-10-07T21:11:54.689Z"
   },
   {
    "duration": 8,
    "start_time": "2022-10-07T21:11:54.700Z"
   },
   {
    "duration": 6,
    "start_time": "2022-10-07T21:11:54.710Z"
   },
   {
    "duration": 59,
    "start_time": "2022-10-07T21:11:54.718Z"
   },
   {
    "duration": 62,
    "start_time": "2022-10-07T21:11:54.780Z"
   },
   {
    "duration": 9,
    "start_time": "2022-10-07T21:11:54.844Z"
   },
   {
    "duration": 10,
    "start_time": "2022-10-07T21:11:54.855Z"
   },
   {
    "duration": 7,
    "start_time": "2022-10-07T21:11:54.867Z"
   },
   {
    "duration": 6,
    "start_time": "2022-10-07T21:11:54.876Z"
   },
   {
    "duration": 47,
    "start_time": "2022-10-07T21:11:54.883Z"
   },
   {
    "duration": 9,
    "start_time": "2022-10-07T21:11:54.932Z"
   },
   {
    "duration": 20,
    "start_time": "2022-10-07T21:11:54.943Z"
   },
   {
    "duration": 633,
    "start_time": "2022-10-07T21:11:54.965Z"
   },
   {
    "duration": 335,
    "start_time": "2022-10-07T21:11:55.600Z"
   },
   {
    "duration": 260,
    "start_time": "2022-10-07T21:11:55.937Z"
   },
   {
    "duration": 27,
    "start_time": "2022-10-07T21:11:56.199Z"
   },
   {
    "duration": 29,
    "start_time": "2022-10-07T21:11:56.229Z"
   },
   {
    "duration": 19,
    "start_time": "2022-10-07T21:11:56.260Z"
   },
   {
    "duration": 277,
    "start_time": "2022-10-07T21:11:56.281Z"
   },
   {
    "duration": 261,
    "start_time": "2022-10-07T21:11:56.559Z"
   },
   {
    "duration": 17,
    "start_time": "2022-10-07T21:11:56.826Z"
   },
   {
    "duration": 151,
    "start_time": "2022-10-07T21:11:56.845Z"
   },
   {
    "duration": 288,
    "start_time": "2022-10-07T21:11:56.999Z"
   },
   {
    "duration": 139,
    "start_time": "2022-10-07T21:11:57.289Z"
   },
   {
    "duration": 8,
    "start_time": "2022-10-07T21:11:57.429Z"
   },
   {
    "duration": 4,
    "start_time": "2022-10-07T21:11:57.439Z"
   },
   {
    "duration": 11,
    "start_time": "2022-10-07T21:11:57.445Z"
   },
   {
    "duration": 7,
    "start_time": "2022-10-07T21:11:57.636Z"
   },
   {
    "duration": 5,
    "start_time": "2022-10-07T21:14:16.940Z"
   },
   {
    "duration": 9,
    "start_time": "2022-10-07T21:14:44.500Z"
   },
   {
    "duration": 9,
    "start_time": "2022-10-07T21:15:45.894Z"
   },
   {
    "duration": 9,
    "start_time": "2022-10-07T21:15:49.698Z"
   },
   {
    "duration": 10,
    "start_time": "2022-10-07T21:17:06.476Z"
   },
   {
    "duration": 5,
    "start_time": "2022-10-07T21:17:32.892Z"
   },
   {
    "duration": 7,
    "start_time": "2022-10-07T21:19:56.143Z"
   },
   {
    "duration": 8,
    "start_time": "2022-10-07T21:20:03.691Z"
   },
   {
    "duration": 19,
    "start_time": "2022-10-07T21:29:23.352Z"
   },
   {
    "duration": 13,
    "start_time": "2022-10-07T21:29:46.054Z"
   },
   {
    "duration": 22,
    "start_time": "2022-10-07T21:31:43.507Z"
   },
   {
    "duration": 931,
    "start_time": "2022-10-09T06:23:22.476Z"
   },
   {
    "duration": 17,
    "start_time": "2022-10-09T06:23:23.409Z"
   },
   {
    "duration": 5,
    "start_time": "2022-10-09T06:23:23.427Z"
   },
   {
    "duration": 27,
    "start_time": "2022-10-09T06:23:23.434Z"
   },
   {
    "duration": 7,
    "start_time": "2022-10-09T06:23:23.462Z"
   },
   {
    "duration": 13,
    "start_time": "2022-10-09T06:23:23.471Z"
   },
   {
    "duration": 10,
    "start_time": "2022-10-09T06:23:23.485Z"
   },
   {
    "duration": 9,
    "start_time": "2022-10-09T06:23:23.497Z"
   },
   {
    "duration": 43,
    "start_time": "2022-10-09T06:23:23.507Z"
   },
   {
    "duration": 76,
    "start_time": "2022-10-09T06:23:23.554Z"
   },
   {
    "duration": 12,
    "start_time": "2022-10-09T06:23:23.632Z"
   },
   {
    "duration": 32,
    "start_time": "2022-10-09T06:23:23.646Z"
   },
   {
    "duration": 7,
    "start_time": "2022-10-09T06:23:23.680Z"
   },
   {
    "duration": 17,
    "start_time": "2022-10-09T06:23:23.689Z"
   },
   {
    "duration": 273,
    "start_time": "2022-10-09T06:23:23.708Z"
   },
   {
    "duration": 11,
    "start_time": "2022-10-09T06:23:23.983Z"
   },
   {
    "duration": 9,
    "start_time": "2022-10-09T06:23:23.996Z"
   },
   {
    "duration": 19,
    "start_time": "2022-10-09T06:23:24.007Z"
   },
   {
    "duration": 692,
    "start_time": "2022-10-09T06:23:24.028Z"
   },
   {
    "duration": 467,
    "start_time": "2022-10-09T06:23:24.723Z"
   },
   {
    "duration": 326,
    "start_time": "2022-10-09T06:23:25.193Z"
   },
   {
    "duration": 14,
    "start_time": "2022-10-09T06:23:25.521Z"
   },
   {
    "duration": 15,
    "start_time": "2022-10-09T06:23:25.536Z"
   },
   {
    "duration": 32,
    "start_time": "2022-10-09T06:23:25.552Z"
   },
   {
    "duration": 244,
    "start_time": "2022-10-09T06:23:25.585Z"
   },
   {
    "duration": 257,
    "start_time": "2022-10-09T06:23:25.831Z"
   },
   {
    "duration": 15,
    "start_time": "2022-10-09T06:23:26.090Z"
   },
   {
    "duration": 143,
    "start_time": "2022-10-09T06:23:26.109Z"
   },
   {
    "duration": 148,
    "start_time": "2022-10-09T06:23:26.254Z"
   },
   {
    "duration": 134,
    "start_time": "2022-10-09T06:23:26.404Z"
   },
   {
    "duration": 5,
    "start_time": "2022-10-09T06:23:26.540Z"
   },
   {
    "duration": 564,
    "start_time": "2022-10-09T06:23:26.546Z"
   },
   {
    "duration": 9,
    "start_time": "2022-10-09T06:23:27.111Z"
   },
   {
    "duration": 109,
    "start_time": "2022-10-09T06:23:27.122Z"
   },
   {
    "duration": 50,
    "start_time": "2022-10-09T06:23:40.651Z"
   },
   {
    "duration": 15,
    "start_time": "2022-10-09T06:23:41.710Z"
   },
   {
    "duration": 5,
    "start_time": "2022-10-09T06:23:54.045Z"
   },
   {
    "duration": 13,
    "start_time": "2022-10-09T06:23:54.936Z"
   },
   {
    "duration": 6,
    "start_time": "2022-10-09T06:24:00.271Z"
   },
   {
    "duration": 9,
    "start_time": "2022-10-09T06:24:01.275Z"
   },
   {
    "duration": 8,
    "start_time": "2022-10-09T06:24:09.694Z"
   },
   {
    "duration": 8,
    "start_time": "2022-10-09T06:24:17.631Z"
   },
   {
    "duration": 43,
    "start_time": "2022-10-09T06:24:18.841Z"
   },
   {
    "duration": 53,
    "start_time": "2022-10-09T06:24:19.674Z"
   },
   {
    "duration": 10,
    "start_time": "2022-10-09T06:24:20.288Z"
   },
   {
    "duration": 9,
    "start_time": "2022-10-09T06:24:32.442Z"
   },
   {
    "duration": 7,
    "start_time": "2022-10-09T06:24:37.614Z"
   },
   {
    "duration": 10,
    "start_time": "2022-10-09T06:24:49.716Z"
   },
   {
    "duration": 7,
    "start_time": "2022-10-09T06:24:49.923Z"
   },
   {
    "duration": 10,
    "start_time": "2022-10-09T06:25:33.844Z"
   },
   {
    "duration": 25,
    "start_time": "2022-10-09T06:39:23.075Z"
   },
   {
    "duration": 17,
    "start_time": "2022-10-09T06:45:51.974Z"
   },
   {
    "duration": 11,
    "start_time": "2022-10-09T06:46:22.798Z"
   },
   {
    "duration": 9,
    "start_time": "2022-10-09T06:46:50.604Z"
   },
   {
    "duration": 7,
    "start_time": "2022-10-09T06:50:01.492Z"
   },
   {
    "duration": 11,
    "start_time": "2022-10-09T06:50:54.190Z"
   },
   {
    "duration": 9,
    "start_time": "2022-10-09T06:52:27.207Z"
   },
   {
    "duration": 9,
    "start_time": "2022-10-09T06:56:51.046Z"
   },
   {
    "duration": 7,
    "start_time": "2022-10-09T06:57:03.939Z"
   },
   {
    "duration": 10,
    "start_time": "2022-10-09T06:58:39.297Z"
   },
   {
    "duration": 20,
    "start_time": "2022-10-09T06:59:09.241Z"
   },
   {
    "duration": 9,
    "start_time": "2022-10-09T06:59:44.571Z"
   },
   {
    "duration": 3,
    "start_time": "2022-10-09T07:02:01.166Z"
   },
   {
    "duration": 15,
    "start_time": "2022-10-09T07:02:12.328Z"
   },
   {
    "duration": 3,
    "start_time": "2022-10-09T07:02:31.938Z"
   },
   {
    "duration": 6,
    "start_time": "2022-10-09T07:02:57.491Z"
   },
   {
    "duration": 4,
    "start_time": "2022-10-09T07:03:36.868Z"
   },
   {
    "duration": 3,
    "start_time": "2022-10-09T07:03:42.248Z"
   },
   {
    "duration": 22,
    "start_time": "2022-10-09T07:06:40.208Z"
   },
   {
    "duration": 18,
    "start_time": "2022-10-09T07:06:51.799Z"
   },
   {
    "duration": 2,
    "start_time": "2022-10-09T07:11:00.027Z"
   },
   {
    "duration": 5,
    "start_time": "2022-10-09T07:11:14.834Z"
   },
   {
    "duration": 56,
    "start_time": "2022-10-09T07:11:18.937Z"
   },
   {
    "duration": 5,
    "start_time": "2022-10-09T07:23:27.751Z"
   },
   {
    "duration": 5,
    "start_time": "2022-10-09T07:23:38.356Z"
   },
   {
    "duration": 18,
    "start_time": "2022-10-09T07:23:53.544Z"
   },
   {
    "duration": 5,
    "start_time": "2022-10-09T07:24:01.175Z"
   },
   {
    "duration": 4,
    "start_time": "2022-10-09T07:24:08.311Z"
   },
   {
    "duration": 52,
    "start_time": "2022-10-09T08:06:19.388Z"
   },
   {
    "duration": 14,
    "start_time": "2022-10-09T08:06:19.441Z"
   },
   {
    "duration": 6,
    "start_time": "2022-10-09T08:06:19.456Z"
   },
   {
    "duration": 14,
    "start_time": "2022-10-09T08:06:19.464Z"
   },
   {
    "duration": 9,
    "start_time": "2022-10-09T08:06:19.479Z"
   },
   {
    "duration": 10,
    "start_time": "2022-10-09T08:06:19.489Z"
   },
   {
    "duration": 12,
    "start_time": "2022-10-09T08:06:19.500Z"
   },
   {
    "duration": 7,
    "start_time": "2022-10-09T08:06:19.513Z"
   },
   {
    "duration": 67,
    "start_time": "2022-10-09T08:06:19.521Z"
   },
   {
    "duration": 50,
    "start_time": "2022-10-09T08:06:19.590Z"
   },
   {
    "duration": 9,
    "start_time": "2022-10-09T08:06:19.641Z"
   },
   {
    "duration": 29,
    "start_time": "2022-10-09T08:06:19.652Z"
   },
   {
    "duration": 9,
    "start_time": "2022-10-09T08:06:19.683Z"
   },
   {
    "duration": 20,
    "start_time": "2022-10-09T08:06:19.694Z"
   },
   {
    "duration": 234,
    "start_time": "2022-10-09T08:06:19.716Z"
   },
   {
    "duration": 26,
    "start_time": "2022-10-09T08:06:19.951Z"
   },
   {
    "duration": 4,
    "start_time": "2022-10-09T08:06:19.979Z"
   },
   {
    "duration": 76,
    "start_time": "2022-10-09T08:06:19.984Z"
   },
   {
    "duration": 24,
    "start_time": "2022-10-09T08:06:20.062Z"
   },
   {
    "duration": 21,
    "start_time": "2022-10-09T08:06:20.088Z"
   },
   {
    "duration": 620,
    "start_time": "2022-10-09T08:06:20.111Z"
   },
   {
    "duration": 306,
    "start_time": "2022-10-09T08:06:20.733Z"
   },
   {
    "duration": 324,
    "start_time": "2022-10-09T08:06:21.041Z"
   },
   {
    "duration": 20,
    "start_time": "2022-10-09T08:06:21.367Z"
   },
   {
    "duration": 13,
    "start_time": "2022-10-09T08:06:21.389Z"
   },
   {
    "duration": 18,
    "start_time": "2022-10-09T08:06:21.404Z"
   },
   {
    "duration": 262,
    "start_time": "2022-10-09T08:06:21.424Z"
   },
   {
    "duration": 257,
    "start_time": "2022-10-09T08:06:21.690Z"
   },
   {
    "duration": 14,
    "start_time": "2022-10-09T08:06:21.949Z"
   },
   {
    "duration": 137,
    "start_time": "2022-10-09T08:06:21.977Z"
   },
   {
    "duration": 145,
    "start_time": "2022-10-09T08:06:22.116Z"
   },
   {
    "duration": 151,
    "start_time": "2022-10-09T08:06:22.262Z"
   },
   {
    "duration": 5,
    "start_time": "2022-10-09T08:06:22.415Z"
   },
   {
    "duration": 4,
    "start_time": "2022-10-09T08:06:22.422Z"
   },
   {
    "duration": 10,
    "start_time": "2022-10-09T08:06:22.429Z"
   },
   {
    "duration": 45,
    "start_time": "2022-10-09T08:06:22.440Z"
   },
   {
    "duration": 1009,
    "start_time": "2022-10-09T09:48:20.072Z"
   },
   {
    "duration": 16,
    "start_time": "2022-10-09T09:48:21.083Z"
   },
   {
    "duration": 29,
    "start_time": "2022-10-09T09:48:21.101Z"
   },
   {
    "duration": 50,
    "start_time": "2022-10-09T09:48:21.133Z"
   },
   {
    "duration": 16,
    "start_time": "2022-10-09T09:48:21.185Z"
   },
   {
    "duration": 25,
    "start_time": "2022-10-09T09:48:21.202Z"
   },
   {
    "duration": 52,
    "start_time": "2022-10-09T09:48:21.230Z"
   },
   {
    "duration": 21,
    "start_time": "2022-10-09T09:48:21.284Z"
   },
   {
    "duration": 62,
    "start_time": "2022-10-09T09:48:21.306Z"
   },
   {
    "duration": 52,
    "start_time": "2022-10-09T09:48:21.370Z"
   },
   {
    "duration": 16,
    "start_time": "2022-10-09T09:48:21.424Z"
   },
   {
    "duration": 43,
    "start_time": "2022-10-09T09:48:21.442Z"
   },
   {
    "duration": 16,
    "start_time": "2022-10-09T09:48:21.487Z"
   },
   {
    "duration": 45,
    "start_time": "2022-10-09T09:48:21.505Z"
   },
   {
    "duration": 265,
    "start_time": "2022-10-09T09:48:21.552Z"
   },
   {
    "duration": 33,
    "start_time": "2022-10-09T09:48:21.828Z"
   },
   {
    "duration": 33,
    "start_time": "2022-10-09T09:48:21.863Z"
   },
   {
    "duration": 100,
    "start_time": "2022-10-09T09:48:21.897Z"
   },
   {
    "duration": 14,
    "start_time": "2022-10-09T09:48:21.999Z"
   },
   {
    "duration": 28,
    "start_time": "2022-10-09T09:48:22.021Z"
   },
   {
    "duration": 659,
    "start_time": "2022-10-09T09:48:22.051Z"
   },
   {
    "duration": 430,
    "start_time": "2022-10-09T09:48:22.712Z"
   },
   {
    "duration": 277,
    "start_time": "2022-10-09T09:48:23.145Z"
   },
   {
    "duration": 19,
    "start_time": "2022-10-09T09:48:23.425Z"
   },
   {
    "duration": 44,
    "start_time": "2022-10-09T09:48:23.446Z"
   },
   {
    "duration": 48,
    "start_time": "2022-10-09T09:48:23.491Z"
   },
   {
    "duration": 272,
    "start_time": "2022-10-09T09:48:23.542Z"
   },
   {
    "duration": 284,
    "start_time": "2022-10-09T09:48:23.818Z"
   },
   {
    "duration": 18,
    "start_time": "2022-10-09T09:48:24.104Z"
   },
   {
    "duration": 154,
    "start_time": "2022-10-09T09:48:24.124Z"
   },
   {
    "duration": 177,
    "start_time": "2022-10-09T09:48:24.280Z"
   },
   {
    "duration": 144,
    "start_time": "2022-10-09T09:48:24.459Z"
   },
   {
    "duration": 5,
    "start_time": "2022-10-09T09:48:24.604Z"
   },
   {
    "duration": 518,
    "start_time": "2022-10-09T09:48:24.621Z"
   },
   {
    "duration": 10,
    "start_time": "2022-10-09T09:48:25.142Z"
   },
   {
    "duration": 128,
    "start_time": "2022-10-09T09:48:25.154Z"
   },
   {
    "duration": 9,
    "start_time": "2022-10-09T09:57:36.360Z"
   },
   {
    "duration": 11,
    "start_time": "2022-10-09T10:00:18.711Z"
   },
   {
    "duration": 6,
    "start_time": "2022-10-09T10:00:27.990Z"
   },
   {
    "duration": 17,
    "start_time": "2022-10-09T10:00:44.554Z"
   },
   {
    "duration": 26,
    "start_time": "2022-10-09T10:01:11.332Z"
   },
   {
    "duration": 20,
    "start_time": "2022-10-09T10:09:17.780Z"
   },
   {
    "duration": 51,
    "start_time": "2022-10-09T10:10:13.868Z"
   },
   {
    "duration": 15,
    "start_time": "2022-10-09T10:10:15.511Z"
   },
   {
    "duration": 7,
    "start_time": "2022-10-09T10:10:18.438Z"
   },
   {
    "duration": 15,
    "start_time": "2022-10-09T10:10:26.479Z"
   },
   {
    "duration": 8,
    "start_time": "2022-10-09T10:10:29.792Z"
   },
   {
    "duration": 16,
    "start_time": "2022-10-09T10:10:31.628Z"
   },
   {
    "duration": 11,
    "start_time": "2022-10-09T10:10:38.562Z"
   },
   {
    "duration": 13,
    "start_time": "2022-10-09T10:10:45.431Z"
   },
   {
    "duration": 45,
    "start_time": "2022-10-09T10:10:46.544Z"
   },
   {
    "duration": 53,
    "start_time": "2022-10-09T10:10:47.205Z"
   },
   {
    "duration": 11,
    "start_time": "2022-10-09T10:10:47.676Z"
   },
   {
    "duration": 9,
    "start_time": "2022-10-09T10:10:54.370Z"
   },
   {
    "duration": 8,
    "start_time": "2022-10-09T10:10:56.184Z"
   },
   {
    "duration": 20,
    "start_time": "2022-10-09T10:10:59.399Z"
   },
   {
    "duration": 242,
    "start_time": "2022-10-09T10:11:05.527Z"
   },
   {
    "duration": 19,
    "start_time": "2022-10-09T10:11:13.370Z"
   },
   {
    "duration": 19,
    "start_time": "2022-10-09T10:11:16.937Z"
   },
   {
    "duration": 5,
    "start_time": "2022-10-09T10:11:25.602Z"
   },
   {
    "duration": 81,
    "start_time": "2022-10-09T10:11:28.572Z"
   },
   {
    "duration": 22,
    "start_time": "2022-10-09T10:11:39.014Z"
   },
   {
    "duration": 6,
    "start_time": "2022-10-09T10:11:43.191Z"
   },
   {
    "duration": 20,
    "start_time": "2022-10-09T10:11:44.989Z"
   },
   {
    "duration": 21,
    "start_time": "2022-10-09T10:13:14.511Z"
   },
   {
    "duration": 19,
    "start_time": "2022-10-09T10:14:39.481Z"
   },
   {
    "duration": 17,
    "start_time": "2022-10-09T10:14:53.268Z"
   },
   {
    "duration": 21,
    "start_time": "2022-10-09T10:16:12.642Z"
   },
   {
    "duration": 20,
    "start_time": "2022-10-09T10:17:00.072Z"
   },
   {
    "duration": 19,
    "start_time": "2022-10-09T10:20:43.714Z"
   },
   {
    "duration": 19,
    "start_time": "2022-10-09T10:21:00.121Z"
   },
   {
    "duration": 17,
    "start_time": "2022-10-09T10:21:10.309Z"
   },
   {
    "duration": 16,
    "start_time": "2022-10-09T10:21:18.384Z"
   },
   {
    "duration": 16,
    "start_time": "2022-10-09T10:22:45.106Z"
   },
   {
    "duration": 9,
    "start_time": "2022-10-09T10:27:09.878Z"
   },
   {
    "duration": 116,
    "start_time": "2022-10-09T10:27:34.058Z"
   },
   {
    "duration": 8,
    "start_time": "2022-10-09T10:29:25.941Z"
   },
   {
    "duration": 7,
    "start_time": "2022-10-09T10:31:01.410Z"
   },
   {
    "duration": 19,
    "start_time": "2022-10-09T10:31:05.445Z"
   },
   {
    "duration": 105,
    "start_time": "2022-10-09T10:31:22.218Z"
   },
   {
    "duration": 95,
    "start_time": "2022-10-09T10:31:36.649Z"
   },
   {
    "duration": 1279,
    "start_time": "2022-10-09T15:51:29.173Z"
   },
   {
    "duration": 17,
    "start_time": "2022-10-09T15:51:30.455Z"
   },
   {
    "duration": 13,
    "start_time": "2022-10-09T15:51:30.474Z"
   },
   {
    "duration": 65,
    "start_time": "2022-10-09T15:51:30.489Z"
   },
   {
    "duration": 20,
    "start_time": "2022-10-09T15:51:30.556Z"
   },
   {
    "duration": 53,
    "start_time": "2022-10-09T15:51:30.578Z"
   },
   {
    "duration": 20,
    "start_time": "2022-10-09T15:51:30.633Z"
   },
   {
    "duration": 14,
    "start_time": "2022-10-09T15:51:30.655Z"
   },
   {
    "duration": 79,
    "start_time": "2022-10-09T15:51:30.671Z"
   },
   {
    "duration": 84,
    "start_time": "2022-10-09T15:51:30.753Z"
   },
   {
    "duration": 16,
    "start_time": "2022-10-09T15:51:30.839Z"
   },
   {
    "duration": 37,
    "start_time": "2022-10-09T15:51:30.857Z"
   },
   {
    "duration": 42,
    "start_time": "2022-10-09T15:51:30.898Z"
   },
   {
    "duration": 36,
    "start_time": "2022-10-09T15:51:30.943Z"
   },
   {
    "duration": 348,
    "start_time": "2022-10-09T15:51:30.982Z"
   },
   {
    "duration": 18,
    "start_time": "2022-10-09T15:51:31.332Z"
   },
   {
    "duration": 24,
    "start_time": "2022-10-09T15:51:31.352Z"
   },
   {
    "duration": 131,
    "start_time": "2022-10-09T15:51:31.378Z"
   },
   {
    "duration": 18,
    "start_time": "2022-10-09T15:51:31.513Z"
   },
   {
    "duration": 8,
    "start_time": "2022-10-09T15:51:31.533Z"
   },
   {
    "duration": 21,
    "start_time": "2022-10-09T15:51:31.544Z"
   },
   {
    "duration": 156,
    "start_time": "2022-10-09T15:51:31.567Z"
   },
   {
    "duration": 18,
    "start_time": "2022-10-09T15:51:31.724Z"
   },
   {
    "duration": 16,
    "start_time": "2022-10-09T15:51:31.743Z"
   },
   {
    "duration": 39,
    "start_time": "2022-10-09T15:51:31.761Z"
   },
   {
    "duration": 337,
    "start_time": "2022-10-09T15:51:31.805Z"
   },
   {
    "duration": 428,
    "start_time": "2022-10-09T15:51:32.145Z"
   },
   {
    "duration": 34,
    "start_time": "2022-10-09T15:51:32.576Z"
   },
   {
    "duration": 166,
    "start_time": "2022-10-09T15:51:32.619Z"
   },
   {
    "duration": 206,
    "start_time": "2022-10-09T15:51:32.789Z"
   },
   {
    "duration": 246,
    "start_time": "2022-10-09T15:51:32.997Z"
   },
   {
    "duration": 8,
    "start_time": "2022-10-09T15:51:33.245Z"
   },
   {
    "duration": 487,
    "start_time": "2022-10-09T15:51:33.255Z"
   },
   {
    "duration": 134,
    "start_time": "2022-10-09T15:51:33.744Z"
   },
   {
    "duration": 0,
    "start_time": "2022-10-09T15:51:33.880Z"
   },
   {
    "duration": 11,
    "start_time": "2022-10-09T16:11:35.251Z"
   },
   {
    "duration": 126,
    "start_time": "2022-10-09T16:12:54.628Z"
   },
   {
    "duration": 184,
    "start_time": "2022-10-09T16:13:48.827Z"
   },
   {
    "duration": 136,
    "start_time": "2022-10-09T16:15:38.181Z"
   },
   {
    "duration": 160,
    "start_time": "2022-10-09T16:16:13.468Z"
   },
   {
    "duration": 129,
    "start_time": "2022-10-09T16:17:04.666Z"
   },
   {
    "duration": 134,
    "start_time": "2022-10-09T16:17:20.874Z"
   },
   {
    "duration": 125,
    "start_time": "2022-10-09T16:17:27.928Z"
   },
   {
    "duration": 140,
    "start_time": "2022-10-09T16:17:46.510Z"
   },
   {
    "duration": 137,
    "start_time": "2022-10-09T16:18:02.482Z"
   },
   {
    "duration": 134,
    "start_time": "2022-10-09T16:19:33.885Z"
   },
   {
    "duration": 19,
    "start_time": "2022-10-09T16:50:17.202Z"
   },
   {
    "duration": 18,
    "start_time": "2022-10-09T16:50:29.463Z"
   },
   {
    "duration": 19,
    "start_time": "2022-10-09T16:52:44.156Z"
   },
   {
    "duration": 18,
    "start_time": "2022-10-09T16:53:33.111Z"
   },
   {
    "duration": 17,
    "start_time": "2022-10-09T16:53:43.635Z"
   },
   {
    "duration": 24,
    "start_time": "2022-10-09T16:54:32.958Z"
   },
   {
    "duration": 30,
    "start_time": "2022-10-09T16:54:38.675Z"
   },
   {
    "duration": 19,
    "start_time": "2022-10-09T16:54:46.420Z"
   },
   {
    "duration": 19,
    "start_time": "2022-10-09T16:54:58.111Z"
   },
   {
    "duration": 21,
    "start_time": "2022-10-09T16:55:09.274Z"
   },
   {
    "duration": 26,
    "start_time": "2022-10-09T16:55:22.528Z"
   },
   {
    "duration": 1325,
    "start_time": "2022-10-09T16:56:20.381Z"
   },
   {
    "duration": 17,
    "start_time": "2022-10-09T16:57:27.839Z"
   },
   {
    "duration": 19,
    "start_time": "2022-10-09T16:57:36.211Z"
   },
   {
    "duration": 20,
    "start_time": "2022-10-09T17:33:13.083Z"
   },
   {
    "duration": 138,
    "start_time": "2022-10-09T17:37:23.400Z"
   },
   {
    "duration": 193,
    "start_time": "2022-10-09T17:37:27.858Z"
   },
   {
    "duration": 127,
    "start_time": "2022-10-09T17:37:36.798Z"
   },
   {
    "duration": 126,
    "start_time": "2022-10-09T17:38:06.454Z"
   },
   {
    "duration": 256,
    "start_time": "2022-10-09T17:38:28.199Z"
   },
   {
    "duration": 24,
    "start_time": "2022-10-09T17:38:39.762Z"
   },
   {
    "duration": 3916,
    "start_time": "2022-10-09T17:40:36.315Z"
   },
   {
    "duration": 3064,
    "start_time": "2022-10-09T17:40:40.727Z"
   },
   {
    "duration": 14,
    "start_time": "2022-10-09T17:40:54.265Z"
   },
   {
    "duration": 2025,
    "start_time": "2022-10-09T17:42:25.228Z"
   },
   {
    "duration": 16,
    "start_time": "2022-10-09T17:42:55.542Z"
   },
   {
    "duration": 115,
    "start_time": "2022-10-09T17:45:45.450Z"
   },
   {
    "duration": 121,
    "start_time": "2022-10-09T17:46:00.502Z"
   },
   {
    "duration": 32,
    "start_time": "2022-10-09T17:46:46.145Z"
   },
   {
    "duration": 9,
    "start_time": "2022-10-09T17:47:25.515Z"
   },
   {
    "duration": 16,
    "start_time": "2022-10-09T17:48:25.011Z"
   },
   {
    "duration": 9,
    "start_time": "2022-10-09T17:49:41.134Z"
   },
   {
    "duration": 8,
    "start_time": "2022-10-09T17:49:54.848Z"
   },
   {
    "duration": 12,
    "start_time": "2022-10-09T17:50:36.801Z"
   },
   {
    "duration": 9,
    "start_time": "2022-10-09T17:50:42.317Z"
   },
   {
    "duration": 7,
    "start_time": "2022-10-09T17:51:43.877Z"
   },
   {
    "duration": 9,
    "start_time": "2022-10-09T17:52:25.802Z"
   },
   {
    "duration": 10,
    "start_time": "2022-10-09T17:57:52.099Z"
   },
   {
    "duration": 8,
    "start_time": "2022-10-09T17:58:12.599Z"
   },
   {
    "duration": 1326,
    "start_time": "2022-10-09T17:58:36.545Z"
   },
   {
    "duration": 164,
    "start_time": "2022-10-09T18:00:33.660Z"
   },
   {
    "duration": 11,
    "start_time": "2022-10-09T18:00:46.296Z"
   },
   {
    "duration": 202,
    "start_time": "2022-10-09T18:00:51.981Z"
   },
   {
    "duration": 465,
    "start_time": "2022-10-09T18:01:10.724Z"
   },
   {
    "duration": 463,
    "start_time": "2022-10-09T18:07:38.242Z"
   },
   {
    "duration": 15,
    "start_time": "2022-10-09T18:09:45.201Z"
   },
   {
    "duration": 11,
    "start_time": "2022-10-09T18:10:33.087Z"
   },
   {
    "duration": 11,
    "start_time": "2022-10-09T18:12:37.809Z"
   },
   {
    "duration": 8,
    "start_time": "2022-10-09T18:12:58.124Z"
   },
   {
    "duration": 10,
    "start_time": "2022-10-09T18:13:10.538Z"
   },
   {
    "duration": 493,
    "start_time": "2022-10-09T18:13:19.246Z"
   },
   {
    "duration": 10,
    "start_time": "2022-10-09T18:14:31.477Z"
   },
   {
    "duration": 9,
    "start_time": "2022-10-09T18:15:38.297Z"
   },
   {
    "duration": 57,
    "start_time": "2022-10-09T19:06:16.277Z"
   },
   {
    "duration": 17,
    "start_time": "2022-10-09T19:06:16.336Z"
   },
   {
    "duration": 6,
    "start_time": "2022-10-09T19:06:16.355Z"
   },
   {
    "duration": 43,
    "start_time": "2022-10-09T19:06:16.363Z"
   },
   {
    "duration": 9,
    "start_time": "2022-10-09T19:06:16.408Z"
   },
   {
    "duration": 12,
    "start_time": "2022-10-09T19:06:16.418Z"
   },
   {
    "duration": 148,
    "start_time": "2022-10-09T19:06:16.433Z"
   },
   {
    "duration": 14,
    "start_time": "2022-10-09T19:06:16.583Z"
   },
   {
    "duration": 47,
    "start_time": "2022-10-09T19:06:16.599Z"
   },
   {
    "duration": 96,
    "start_time": "2022-10-09T19:06:16.649Z"
   },
   {
    "duration": 11,
    "start_time": "2022-10-09T19:06:16.747Z"
   },
   {
    "duration": 13,
    "start_time": "2022-10-09T19:06:16.760Z"
   },
   {
    "duration": 11,
    "start_time": "2022-10-09T19:06:16.789Z"
   },
   {
    "duration": 21,
    "start_time": "2022-10-09T19:06:16.803Z"
   },
   {
    "duration": 280,
    "start_time": "2022-10-09T19:06:16.826Z"
   },
   {
    "duration": 24,
    "start_time": "2022-10-09T19:06:17.108Z"
   },
   {
    "duration": 5,
    "start_time": "2022-10-09T19:06:17.134Z"
   },
   {
    "duration": 129,
    "start_time": "2022-10-09T19:06:17.141Z"
   },
   {
    "duration": 28,
    "start_time": "2022-10-09T19:06:17.272Z"
   },
   {
    "duration": 7,
    "start_time": "2022-10-09T19:06:17.301Z"
   },
   {
    "duration": 22,
    "start_time": "2022-10-09T19:06:17.311Z"
   },
   {
    "duration": 143,
    "start_time": "2022-10-09T19:06:17.336Z"
   },
   {
    "duration": 165,
    "start_time": "2022-10-09T19:06:17.490Z"
   },
   {
    "duration": 170,
    "start_time": "2022-10-09T19:06:17.657Z"
   },
   {
    "duration": 153,
    "start_time": "2022-10-09T19:06:17.829Z"
   },
   {
    "duration": 134,
    "start_time": "2022-10-09T19:06:17.990Z"
   },
   {
    "duration": 151,
    "start_time": "2022-10-09T19:06:18.126Z"
   },
   {
    "duration": 16,
    "start_time": "2022-10-09T19:06:18.282Z"
   },
   {
    "duration": 491,
    "start_time": "2022-10-09T19:06:18.301Z"
   },
   {
    "duration": 10,
    "start_time": "2022-10-09T19:06:18.794Z"
   },
   {
    "duration": 488,
    "start_time": "2022-10-09T19:06:18.806Z"
   },
   {
    "duration": 12,
    "start_time": "2022-10-09T19:06:19.296Z"
   },
   {
    "duration": 23,
    "start_time": "2022-10-09T19:06:19.310Z"
   },
   {
    "duration": 16,
    "start_time": "2022-10-09T19:06:19.335Z"
   },
   {
    "duration": 46,
    "start_time": "2022-10-09T19:06:19.353Z"
   },
   {
    "duration": 273,
    "start_time": "2022-10-09T19:06:19.401Z"
   },
   {
    "duration": 269,
    "start_time": "2022-10-09T19:06:19.676Z"
   },
   {
    "duration": 17,
    "start_time": "2022-10-09T19:06:19.947Z"
   },
   {
    "duration": 183,
    "start_time": "2022-10-09T19:06:19.966Z"
   },
   {
    "duration": 214,
    "start_time": "2022-10-09T19:06:20.151Z"
   },
   {
    "duration": 361,
    "start_time": "2022-10-09T19:06:20.367Z"
   },
   {
    "duration": 8,
    "start_time": "2022-10-09T19:06:20.731Z"
   },
   {
    "duration": 7,
    "start_time": "2022-10-09T19:06:20.743Z"
   },
   {
    "duration": 29,
    "start_time": "2022-10-09T19:06:20.752Z"
   },
   {
    "duration": 0,
    "start_time": "2022-10-09T19:06:20.789Z"
   },
   {
    "duration": 11,
    "start_time": "2022-10-09T19:07:03.558Z"
   },
   {
    "duration": 2279,
    "start_time": "2022-10-09T19:07:31.157Z"
   },
   {
    "duration": 505,
    "start_time": "2022-10-09T19:07:48.194Z"
   },
   {
    "duration": 10,
    "start_time": "2022-10-09T19:08:56.763Z"
   },
   {
    "duration": 11,
    "start_time": "2022-10-09T19:09:35.709Z"
   },
   {
    "duration": 520,
    "start_time": "2022-10-09T19:09:51.484Z"
   },
   {
    "duration": 13,
    "start_time": "2022-10-09T19:11:40.786Z"
   },
   {
    "duration": 438,
    "start_time": "2022-10-09T19:11:44.724Z"
   },
   {
    "duration": 10,
    "start_time": "2022-10-09T19:12:01.529Z"
   },
   {
    "duration": 11,
    "start_time": "2022-10-09T19:12:10.787Z"
   },
   {
    "duration": 11,
    "start_time": "2022-10-09T19:12:22.902Z"
   },
   {
    "duration": 14,
    "start_time": "2022-10-09T19:18:43.918Z"
   },
   {
    "duration": 10,
    "start_time": "2022-10-09T19:18:58.814Z"
   },
   {
    "duration": 12,
    "start_time": "2022-10-09T19:29:07.499Z"
   },
   {
    "duration": 14,
    "start_time": "2022-10-09T19:29:28.563Z"
   },
   {
    "duration": 10,
    "start_time": "2022-10-09T19:30:04.583Z"
   },
   {
    "duration": 16,
    "start_time": "2022-10-09T19:30:11.064Z"
   },
   {
    "duration": 14,
    "start_time": "2022-10-09T19:35:43.821Z"
   },
   {
    "duration": 16,
    "start_time": "2022-10-09T19:35:46.022Z"
   },
   {
    "duration": 17,
    "start_time": "2022-10-09T19:35:48.932Z"
   },
   {
    "duration": 227,
    "start_time": "2022-10-09T19:35:57.740Z"
   },
   {
    "duration": 243,
    "start_time": "2022-10-09T19:36:08.292Z"
   },
   {
    "duration": 19,
    "start_time": "2022-10-09T19:36:15.768Z"
   },
   {
    "duration": 174,
    "start_time": "2022-10-09T19:36:29.202Z"
   },
   {
    "duration": 159,
    "start_time": "2022-10-09T19:36:37.474Z"
   },
   {
    "duration": 149,
    "start_time": "2022-10-09T19:36:53.562Z"
   },
   {
    "duration": 6,
    "start_time": "2022-10-09T19:37:42.056Z"
   },
   {
    "duration": 3,
    "start_time": "2022-10-09T19:38:03.739Z"
   },
   {
    "duration": 19,
    "start_time": "2022-10-09T19:38:06.073Z"
   },
   {
    "duration": 2089,
    "start_time": "2022-10-09T19:39:49.692Z"
   },
   {
    "duration": 0,
    "start_time": "2022-10-09T19:40:21.965Z"
   },
   {
    "duration": 10,
    "start_time": "2022-10-09T19:41:49.447Z"
   },
   {
    "duration": 16,
    "start_time": "2022-10-09T19:42:12.183Z"
   },
   {
    "duration": 31,
    "start_time": "2022-10-09T19:43:10.113Z"
   },
   {
    "duration": 9,
    "start_time": "2022-10-09T19:43:51.128Z"
   },
   {
    "duration": 10,
    "start_time": "2022-10-09T19:44:13.719Z"
   },
   {
    "duration": 8,
    "start_time": "2022-10-09T19:44:45.715Z"
   },
   {
    "duration": 4,
    "start_time": "2022-10-09T19:45:27.447Z"
   },
   {
    "duration": 4,
    "start_time": "2022-10-09T19:46:00.626Z"
   },
   {
    "duration": 5,
    "start_time": "2022-10-09T19:47:07.200Z"
   },
   {
    "duration": 5,
    "start_time": "2022-10-09T19:47:34.880Z"
   },
   {
    "duration": 18,
    "start_time": "2022-10-09T19:55:35.131Z"
   },
   {
    "duration": 10,
    "start_time": "2022-10-09T19:55:37.405Z"
   },
   {
    "duration": 110,
    "start_time": "2022-10-09T19:56:44.971Z"
   },
   {
    "duration": 9,
    "start_time": "2022-10-09T19:57:30.740Z"
   },
   {
    "duration": 6,
    "start_time": "2022-10-09T19:57:56.836Z"
   },
   {
    "duration": 7,
    "start_time": "2022-10-09T19:58:17.704Z"
   },
   {
    "duration": 6,
    "start_time": "2022-10-09T19:58:17.905Z"
   },
   {
    "duration": 7,
    "start_time": "2022-10-09T19:58:25.562Z"
   },
   {
    "duration": 7,
    "start_time": "2022-10-09T19:58:26.702Z"
   },
   {
    "duration": 6,
    "start_time": "2022-10-09T19:58:31.855Z"
   },
   {
    "duration": 5,
    "start_time": "2022-10-09T19:58:37.038Z"
   },
   {
    "duration": 10,
    "start_time": "2022-10-09T19:58:44.496Z"
   },
   {
    "duration": 8,
    "start_time": "2022-10-09T20:01:11.509Z"
   },
   {
    "duration": 5,
    "start_time": "2022-10-09T20:01:26.897Z"
   },
   {
    "duration": 9,
    "start_time": "2022-10-09T20:01:36.394Z"
   },
   {
    "duration": 5,
    "start_time": "2022-10-09T20:02:08.885Z"
   },
   {
    "duration": 7,
    "start_time": "2022-10-09T20:02:53.414Z"
   },
   {
    "duration": 9,
    "start_time": "2022-10-09T20:03:10.734Z"
   },
   {
    "duration": 6,
    "start_time": "2022-10-09T20:03:20.796Z"
   },
   {
    "duration": 652,
    "start_time": "2022-10-11T20:39:54.282Z"
   },
   {
    "duration": 14,
    "start_time": "2022-10-11T20:39:54.936Z"
   },
   {
    "duration": 51,
    "start_time": "2022-10-11T20:39:54.952Z"
   },
   {
    "duration": 29,
    "start_time": "2022-10-11T20:39:55.004Z"
   },
   {
    "duration": 8,
    "start_time": "2022-10-11T20:39:55.035Z"
   },
   {
    "duration": 26,
    "start_time": "2022-10-11T20:39:55.045Z"
   },
   {
    "duration": 6,
    "start_time": "2022-10-11T20:39:55.073Z"
   },
   {
    "duration": 24,
    "start_time": "2022-10-11T20:39:55.081Z"
   },
   {
    "duration": 14,
    "start_time": "2022-10-11T20:39:55.107Z"
   },
   {
    "duration": 14,
    "start_time": "2022-10-11T20:39:55.123Z"
   },
   {
    "duration": 19,
    "start_time": "2022-10-11T20:39:55.138Z"
   },
   {
    "duration": 24,
    "start_time": "2022-10-11T20:39:55.159Z"
   },
   {
    "duration": 5,
    "start_time": "2022-10-11T20:39:55.185Z"
   },
   {
    "duration": 12,
    "start_time": "2022-10-11T20:39:55.194Z"
   },
   {
    "duration": 7,
    "start_time": "2022-10-11T20:39:55.221Z"
   },
   {
    "duration": 16,
    "start_time": "2022-10-11T20:39:55.230Z"
   },
   {
    "duration": 232,
    "start_time": "2022-10-11T20:39:55.248Z"
   },
   {
    "duration": 15,
    "start_time": "2022-10-11T20:39:55.482Z"
   },
   {
    "duration": 3,
    "start_time": "2022-10-11T20:39:55.499Z"
   },
   {
    "duration": 73,
    "start_time": "2022-10-11T20:39:55.521Z"
   },
   {
    "duration": 36,
    "start_time": "2022-10-11T20:39:55.596Z"
   },
   {
    "duration": 39,
    "start_time": "2022-10-11T20:39:55.633Z"
   },
   {
    "duration": 41,
    "start_time": "2022-10-11T20:39:55.673Z"
   },
   {
    "duration": 136,
    "start_time": "2022-10-11T20:39:55.716Z"
   },
   {
    "duration": 98,
    "start_time": "2022-10-11T20:39:55.854Z"
   },
   {
    "duration": 181,
    "start_time": "2022-10-11T20:39:55.953Z"
   },
   {
    "duration": 125,
    "start_time": "2022-10-11T20:39:56.136Z"
   },
   {
    "duration": 107,
    "start_time": "2022-10-11T20:39:56.262Z"
   },
   {
    "duration": 104,
    "start_time": "2022-10-11T20:39:56.371Z"
   },
   {
    "duration": 106,
    "start_time": "2022-10-11T20:39:56.477Z"
   },
   {
    "duration": 9,
    "start_time": "2022-10-11T20:39:56.585Z"
   },
   {
    "duration": 31,
    "start_time": "2022-10-11T20:39:56.596Z"
   },
   {
    "duration": 628,
    "start_time": "2022-10-11T20:39:56.628Z"
   },
   {
    "duration": 9,
    "start_time": "2022-10-11T20:39:57.258Z"
   },
   {
    "duration": 10,
    "start_time": "2022-10-11T20:39:57.268Z"
   },
   {
    "duration": 663,
    "start_time": "2022-10-11T20:39:57.279Z"
   },
   {
    "duration": 9,
    "start_time": "2022-10-11T20:39:57.944Z"
   },
   {
    "duration": 12,
    "start_time": "2022-10-11T20:39:57.954Z"
   },
   {
    "duration": 749,
    "start_time": "2022-10-11T20:39:57.967Z"
   },
   {
    "duration": 16,
    "start_time": "2022-10-11T20:39:58.718Z"
   },
   {
    "duration": 12,
    "start_time": "2022-10-11T20:39:58.737Z"
   },
   {
    "duration": 18,
    "start_time": "2022-10-11T20:39:58.750Z"
   },
   {
    "duration": 19,
    "start_time": "2022-10-11T20:39:58.770Z"
   },
   {
    "duration": 241,
    "start_time": "2022-10-11T20:39:58.791Z"
   },
   {
    "duration": 211,
    "start_time": "2022-10-11T20:39:59.034Z"
   },
   {
    "duration": 15,
    "start_time": "2022-10-11T20:39:59.247Z"
   },
   {
    "duration": 144,
    "start_time": "2022-10-11T20:39:59.263Z"
   },
   {
    "duration": 142,
    "start_time": "2022-10-11T20:39:59.409Z"
   },
   {
    "duration": 210,
    "start_time": "2022-10-11T20:39:59.553Z"
   },
   {
    "duration": 28,
    "start_time": "2022-10-11T20:39:59.764Z"
   },
   {
    "duration": 433,
    "start_time": "2022-10-11T20:39:59.793Z"
   },
   {
    "duration": 8,
    "start_time": "2022-10-11T20:40:00.227Z"
   },
   {
    "duration": 28,
    "start_time": "2022-10-11T20:40:00.237Z"
   },
   {
    "duration": 52,
    "start_time": "2022-10-11T20:40:00.267Z"
   },
   {
    "duration": 30,
    "start_time": "2022-10-11T20:40:00.321Z"
   },
   {
    "duration": 37,
    "start_time": "2022-10-11T20:40:00.353Z"
   },
   {
    "duration": 27,
    "start_time": "2022-10-11T20:40:00.392Z"
   },
   {
    "duration": 30,
    "start_time": "2022-10-11T20:40:00.421Z"
   },
   {
    "duration": 25,
    "start_time": "2022-10-11T20:40:00.453Z"
   },
   {
    "duration": 39,
    "start_time": "2022-10-11T20:40:12.550Z"
   },
   {
    "duration": 2,
    "start_time": "2022-10-11T20:40:12.801Z"
   },
   {
    "duration": 7,
    "start_time": "2022-10-11T20:40:13.047Z"
   },
   {
    "duration": 7,
    "start_time": "2022-10-11T20:40:13.355Z"
   },
   {
    "duration": 6,
    "start_time": "2022-10-11T20:40:14.537Z"
   },
   {
    "duration": 7,
    "start_time": "2022-10-11T20:40:22.672Z"
   },
   {
    "duration": 922,
    "start_time": "2022-10-13T10:21:55.215Z"
   },
   {
    "duration": 0,
    "start_time": "2022-10-13T10:21:56.141Z"
   },
   {
    "duration": 0,
    "start_time": "2022-10-13T10:21:56.142Z"
   },
   {
    "duration": 0,
    "start_time": "2022-10-13T10:21:56.143Z"
   },
   {
    "duration": 1,
    "start_time": "2022-10-13T10:21:56.144Z"
   },
   {
    "duration": 0,
    "start_time": "2022-10-13T10:21:56.146Z"
   },
   {
    "duration": 0,
    "start_time": "2022-10-13T10:21:56.147Z"
   },
   {
    "duration": 0,
    "start_time": "2022-10-13T10:21:56.148Z"
   },
   {
    "duration": 0,
    "start_time": "2022-10-13T10:21:56.149Z"
   },
   {
    "duration": 0,
    "start_time": "2022-10-13T10:21:56.150Z"
   },
   {
    "duration": 0,
    "start_time": "2022-10-13T10:21:56.151Z"
   },
   {
    "duration": 0,
    "start_time": "2022-10-13T10:21:56.152Z"
   },
   {
    "duration": 0,
    "start_time": "2022-10-13T10:21:56.153Z"
   },
   {
    "duration": 0,
    "start_time": "2022-10-13T10:21:56.154Z"
   },
   {
    "duration": 0,
    "start_time": "2022-10-13T10:21:56.156Z"
   },
   {
    "duration": 0,
    "start_time": "2022-10-13T10:21:56.158Z"
   },
   {
    "duration": 0,
    "start_time": "2022-10-13T10:21:56.159Z"
   },
   {
    "duration": 0,
    "start_time": "2022-10-13T10:21:56.160Z"
   },
   {
    "duration": 0,
    "start_time": "2022-10-13T10:21:56.161Z"
   },
   {
    "duration": 0,
    "start_time": "2022-10-13T10:21:56.195Z"
   },
   {
    "duration": 0,
    "start_time": "2022-10-13T10:21:56.196Z"
   },
   {
    "duration": 0,
    "start_time": "2022-10-13T10:21:56.197Z"
   },
   {
    "duration": 0,
    "start_time": "2022-10-13T10:21:56.198Z"
   },
   {
    "duration": 0,
    "start_time": "2022-10-13T10:21:56.199Z"
   },
   {
    "duration": 0,
    "start_time": "2022-10-13T10:21:56.200Z"
   },
   {
    "duration": 0,
    "start_time": "2022-10-13T10:21:56.201Z"
   },
   {
    "duration": 0,
    "start_time": "2022-10-13T10:21:56.202Z"
   },
   {
    "duration": 0,
    "start_time": "2022-10-13T10:21:56.203Z"
   },
   {
    "duration": 0,
    "start_time": "2022-10-13T10:21:56.204Z"
   },
   {
    "duration": 0,
    "start_time": "2022-10-13T10:21:56.205Z"
   },
   {
    "duration": 0,
    "start_time": "2022-10-13T10:21:56.206Z"
   },
   {
    "duration": 0,
    "start_time": "2022-10-13T10:21:56.207Z"
   },
   {
    "duration": 0,
    "start_time": "2022-10-13T10:21:56.208Z"
   },
   {
    "duration": 0,
    "start_time": "2022-10-13T10:21:56.209Z"
   },
   {
    "duration": 0,
    "start_time": "2022-10-13T10:21:56.210Z"
   },
   {
    "duration": 0,
    "start_time": "2022-10-13T10:21:56.211Z"
   },
   {
    "duration": 0,
    "start_time": "2022-10-13T10:21:56.212Z"
   },
   {
    "duration": 1,
    "start_time": "2022-10-13T10:21:56.213Z"
   },
   {
    "duration": 0,
    "start_time": "2022-10-13T10:21:56.214Z"
   },
   {
    "duration": 0,
    "start_time": "2022-10-13T10:21:56.216Z"
   },
   {
    "duration": 0,
    "start_time": "2022-10-13T10:21:56.216Z"
   },
   {
    "duration": 0,
    "start_time": "2022-10-13T10:21:56.218Z"
   },
   {
    "duration": 0,
    "start_time": "2022-10-13T10:21:56.219Z"
   },
   {
    "duration": 0,
    "start_time": "2022-10-13T10:21:56.220Z"
   },
   {
    "duration": 0,
    "start_time": "2022-10-13T10:21:56.221Z"
   },
   {
    "duration": 0,
    "start_time": "2022-10-13T10:21:56.221Z"
   },
   {
    "duration": 0,
    "start_time": "2022-10-13T10:21:56.223Z"
   },
   {
    "duration": 0,
    "start_time": "2022-10-13T10:21:56.224Z"
   },
   {
    "duration": 0,
    "start_time": "2022-10-13T10:21:56.224Z"
   },
   {
    "duration": 0,
    "start_time": "2022-10-13T10:21:56.226Z"
   },
   {
    "duration": 0,
    "start_time": "2022-10-13T10:21:56.226Z"
   },
   {
    "duration": 0,
    "start_time": "2022-10-13T10:21:56.227Z"
   },
   {
    "duration": 0,
    "start_time": "2022-10-13T10:21:56.229Z"
   },
   {
    "duration": 0,
    "start_time": "2022-10-13T10:21:56.230Z"
   },
   {
    "duration": 0,
    "start_time": "2022-10-13T10:21:56.231Z"
   },
   {
    "duration": 0,
    "start_time": "2022-10-13T10:21:56.232Z"
   },
   {
    "duration": 0,
    "start_time": "2022-10-13T10:21:56.232Z"
   },
   {
    "duration": 0,
    "start_time": "2022-10-13T10:21:56.295Z"
   },
   {
    "duration": 0,
    "start_time": "2022-10-13T10:21:56.296Z"
   },
   {
    "duration": 0,
    "start_time": "2022-10-13T10:21:56.297Z"
   },
   {
    "duration": 194,
    "start_time": "2022-10-13T10:22:40.171Z"
   },
   {
    "duration": 726,
    "start_time": "2022-10-13T10:22:45.901Z"
   },
   {
    "duration": 19,
    "start_time": "2022-10-13T10:22:46.629Z"
   },
   {
    "duration": 78,
    "start_time": "2022-10-13T10:22:46.651Z"
   },
   {
    "duration": 17,
    "start_time": "2022-10-13T10:22:46.730Z"
   },
   {
    "duration": 5,
    "start_time": "2022-10-13T10:22:46.749Z"
   },
   {
    "duration": 39,
    "start_time": "2022-10-13T10:22:46.756Z"
   },
   {
    "duration": 6,
    "start_time": "2022-10-13T10:22:46.797Z"
   },
   {
    "duration": 12,
    "start_time": "2022-10-13T10:22:46.805Z"
   },
   {
    "duration": 9,
    "start_time": "2022-10-13T10:22:46.818Z"
   },
   {
    "duration": 14,
    "start_time": "2022-10-13T10:22:46.829Z"
   },
   {
    "duration": 14,
    "start_time": "2022-10-13T10:22:46.845Z"
   },
   {
    "duration": 61,
    "start_time": "2022-10-13T10:22:46.860Z"
   },
   {
    "duration": 4,
    "start_time": "2022-10-13T10:22:46.923Z"
   },
   {
    "duration": 9,
    "start_time": "2022-10-13T10:22:46.930Z"
   },
   {
    "duration": 7,
    "start_time": "2022-10-13T10:22:46.941Z"
   },
   {
    "duration": 16,
    "start_time": "2022-10-13T10:22:46.949Z"
   },
   {
    "duration": 243,
    "start_time": "2022-10-13T10:22:46.995Z"
   },
   {
    "duration": 17,
    "start_time": "2022-10-13T10:22:47.240Z"
   },
   {
    "duration": 4,
    "start_time": "2022-10-13T10:22:47.259Z"
   },
   {
    "duration": 109,
    "start_time": "2022-10-13T10:22:47.265Z"
   },
   {
    "duration": 31,
    "start_time": "2022-10-13T10:22:47.375Z"
   },
   {
    "duration": 8,
    "start_time": "2022-10-13T10:22:47.407Z"
   },
   {
    "duration": 15,
    "start_time": "2022-10-13T10:22:47.416Z"
   },
   {
    "duration": 135,
    "start_time": "2022-10-13T10:22:47.433Z"
   },
   {
    "duration": 104,
    "start_time": "2022-10-13T10:22:47.570Z"
   },
   {
    "duration": 184,
    "start_time": "2022-10-13T10:22:47.675Z"
   },
   {
    "duration": 104,
    "start_time": "2022-10-13T10:22:47.861Z"
   },
   {
    "duration": 116,
    "start_time": "2022-10-13T10:22:47.966Z"
   },
   {
    "duration": 126,
    "start_time": "2022-10-13T10:22:48.084Z"
   },
   {
    "duration": 121,
    "start_time": "2022-10-13T10:22:48.212Z"
   },
   {
    "duration": 113,
    "start_time": "2022-10-13T10:22:48.334Z"
   },
   {
    "duration": 10,
    "start_time": "2022-10-13T10:22:48.448Z"
   },
   {
    "duration": 30,
    "start_time": "2022-10-13T10:22:48.460Z"
   },
   {
    "duration": 770,
    "start_time": "2022-10-13T10:22:48.492Z"
   },
   {
    "duration": 10,
    "start_time": "2022-10-13T10:22:49.263Z"
   },
   {
    "duration": 21,
    "start_time": "2022-10-13T10:22:49.274Z"
   },
   {
    "duration": 773,
    "start_time": "2022-10-13T10:22:49.297Z"
   },
   {
    "duration": 10,
    "start_time": "2022-10-13T10:22:50.072Z"
   },
   {
    "duration": 33,
    "start_time": "2022-10-13T10:22:50.084Z"
   },
   {
    "duration": 811,
    "start_time": "2022-10-13T10:22:50.119Z"
   },
   {
    "duration": 13,
    "start_time": "2022-10-13T10:22:50.935Z"
   },
   {
    "duration": 15,
    "start_time": "2022-10-13T10:22:50.951Z"
   },
   {
    "duration": 38,
    "start_time": "2022-10-13T10:22:50.967Z"
   },
   {
    "duration": 15,
    "start_time": "2022-10-13T10:22:51.007Z"
   },
   {
    "duration": 244,
    "start_time": "2022-10-13T10:22:51.024Z"
   },
   {
    "duration": 266,
    "start_time": "2022-10-13T10:22:51.270Z"
   },
   {
    "duration": 15,
    "start_time": "2022-10-13T10:22:51.538Z"
   },
   {
    "duration": 159,
    "start_time": "2022-10-13T10:22:51.555Z"
   },
   {
    "duration": 238,
    "start_time": "2022-10-13T10:22:51.717Z"
   },
   {
    "duration": 160,
    "start_time": "2022-10-13T10:22:51.957Z"
   },
   {
    "duration": 34,
    "start_time": "2022-10-13T10:22:52.118Z"
   },
   {
    "duration": 465,
    "start_time": "2022-10-13T10:22:52.154Z"
   },
   {
    "duration": 8,
    "start_time": "2022-10-13T10:22:52.621Z"
   },
   {
    "duration": 9,
    "start_time": "2022-10-13T10:22:52.630Z"
   },
   {
    "duration": 6,
    "start_time": "2022-10-13T10:22:52.641Z"
   },
   {
    "duration": 113,
    "start_time": "2022-10-13T10:22:52.648Z"
   },
   {
    "duration": 0,
    "start_time": "2022-10-13T10:22:52.762Z"
   },
   {
    "duration": 0,
    "start_time": "2022-10-13T10:22:52.763Z"
   },
   {
    "duration": 0,
    "start_time": "2022-10-13T10:22:52.765Z"
   },
   {
    "duration": 0,
    "start_time": "2022-10-13T10:22:52.766Z"
   },
   {
    "duration": 9,
    "start_time": "2022-10-13T10:23:15.156Z"
   },
   {
    "duration": 10,
    "start_time": "2022-10-13T10:23:23.380Z"
   },
   {
    "duration": 7,
    "start_time": "2022-10-13T10:23:27.944Z"
   },
   {
    "duration": 7,
    "start_time": "2022-10-13T10:23:28.147Z"
   },
   {
    "duration": 4,
    "start_time": "2022-10-13T10:23:28.335Z"
   },
   {
    "duration": 5,
    "start_time": "2022-10-13T10:23:28.482Z"
   },
   {
    "duration": 9,
    "start_time": "2022-10-13T10:23:58.744Z"
   },
   {
    "duration": 54,
    "start_time": "2022-10-13T10:52:17.103Z"
   },
   {
    "duration": 915,
    "start_time": "2022-10-13T10:52:39.996Z"
   },
   {
    "duration": 13,
    "start_time": "2022-10-13T10:52:40.913Z"
   },
   {
    "duration": 51,
    "start_time": "2022-10-13T10:52:40.927Z"
   },
   {
    "duration": 16,
    "start_time": "2022-10-13T10:52:40.980Z"
   },
   {
    "duration": 4,
    "start_time": "2022-10-13T10:52:40.998Z"
   },
   {
    "duration": 17,
    "start_time": "2022-10-13T10:52:41.004Z"
   },
   {
    "duration": 4,
    "start_time": "2022-10-13T10:52:41.023Z"
   },
   {
    "duration": 10,
    "start_time": "2022-10-13T10:52:41.028Z"
   },
   {
    "duration": 8,
    "start_time": "2022-10-13T10:52:41.039Z"
   },
   {
    "duration": 37,
    "start_time": "2022-10-13T10:52:41.048Z"
   },
   {
    "duration": 12,
    "start_time": "2022-10-13T10:52:41.086Z"
   },
   {
    "duration": 23,
    "start_time": "2022-10-13T10:52:41.100Z"
   },
   {
    "duration": 4,
    "start_time": "2022-10-13T10:52:41.124Z"
   },
   {
    "duration": 22,
    "start_time": "2022-10-13T10:52:41.130Z"
   },
   {
    "duration": 12,
    "start_time": "2022-10-13T10:52:41.154Z"
   },
   {
    "duration": 26,
    "start_time": "2022-10-13T10:52:41.168Z"
   },
   {
    "duration": 234,
    "start_time": "2022-10-13T10:52:41.196Z"
   },
   {
    "duration": 15,
    "start_time": "2022-10-13T10:52:41.432Z"
   },
   {
    "duration": 4,
    "start_time": "2022-10-13T10:52:41.448Z"
   },
   {
    "duration": 91,
    "start_time": "2022-10-13T10:52:41.453Z"
   },
   {
    "duration": 12,
    "start_time": "2022-10-13T10:52:41.546Z"
   },
   {
    "duration": 25,
    "start_time": "2022-10-13T10:52:41.560Z"
   },
   {
    "duration": 15,
    "start_time": "2022-10-13T10:52:41.587Z"
   },
   {
    "duration": 127,
    "start_time": "2022-10-13T10:52:41.604Z"
   },
   {
    "duration": 94,
    "start_time": "2022-10-13T10:52:41.732Z"
   },
   {
    "duration": 159,
    "start_time": "2022-10-13T10:52:41.828Z"
   },
   {
    "duration": 81,
    "start_time": "2022-10-13T10:52:41.989Z"
   },
   {
    "duration": 99,
    "start_time": "2022-10-13T10:52:42.071Z"
   },
   {
    "duration": 114,
    "start_time": "2022-10-13T10:52:42.172Z"
   },
   {
    "duration": 116,
    "start_time": "2022-10-13T10:52:42.288Z"
   },
   {
    "duration": 104,
    "start_time": "2022-10-13T10:52:42.406Z"
   },
   {
    "duration": 8,
    "start_time": "2022-10-13T10:52:42.512Z"
   },
   {
    "duration": 11,
    "start_time": "2022-10-13T10:52:42.521Z"
   },
   {
    "duration": 616,
    "start_time": "2022-10-13T10:52:42.533Z"
   },
   {
    "duration": 10,
    "start_time": "2022-10-13T10:52:43.151Z"
   },
   {
    "duration": 12,
    "start_time": "2022-10-13T10:52:43.162Z"
   },
   {
    "duration": 687,
    "start_time": "2022-10-13T10:52:43.185Z"
   },
   {
    "duration": 11,
    "start_time": "2022-10-13T10:52:43.874Z"
   },
   {
    "duration": 10,
    "start_time": "2022-10-13T10:52:43.887Z"
   },
   {
    "duration": 729,
    "start_time": "2022-10-13T10:52:43.898Z"
   },
   {
    "duration": 12,
    "start_time": "2022-10-13T10:52:44.631Z"
   },
   {
    "duration": 17,
    "start_time": "2022-10-13T10:52:44.645Z"
   },
   {
    "duration": 23,
    "start_time": "2022-10-13T10:52:44.663Z"
   },
   {
    "duration": 14,
    "start_time": "2022-10-13T10:52:44.687Z"
   },
   {
    "duration": 217,
    "start_time": "2022-10-13T10:52:44.702Z"
   },
   {
    "duration": 213,
    "start_time": "2022-10-13T10:52:44.921Z"
   },
   {
    "duration": 12,
    "start_time": "2022-10-13T10:52:45.136Z"
   },
   {
    "duration": 143,
    "start_time": "2022-10-13T10:52:45.149Z"
   },
   {
    "duration": 214,
    "start_time": "2022-10-13T10:52:45.294Z"
   },
   {
    "duration": 132,
    "start_time": "2022-10-13T10:52:45.510Z"
   },
   {
    "duration": 29,
    "start_time": "2022-10-13T10:52:45.643Z"
   },
   {
    "duration": 398,
    "start_time": "2022-10-13T10:52:45.673Z"
   },
   {
    "duration": 13,
    "start_time": "2022-10-13T10:52:46.073Z"
   },
   {
    "duration": 11,
    "start_time": "2022-10-13T10:52:46.088Z"
   },
   {
    "duration": 13,
    "start_time": "2022-10-13T10:52:46.101Z"
   },
   {
    "duration": 58,
    "start_time": "2022-10-13T10:52:46.115Z"
   },
   {
    "duration": 0,
    "start_time": "2022-10-13T10:52:46.175Z"
   },
   {
    "duration": 0,
    "start_time": "2022-10-13T10:52:46.176Z"
   },
   {
    "duration": 0,
    "start_time": "2022-10-13T10:52:46.177Z"
   },
   {
    "duration": 0,
    "start_time": "2022-10-13T10:52:46.185Z"
   },
   {
    "duration": 9,
    "start_time": "2022-10-13T10:52:55.301Z"
   },
   {
    "duration": 32,
    "start_time": "2022-10-13T10:53:11.254Z"
   },
   {
    "duration": 3,
    "start_time": "2022-10-13T10:53:13.763Z"
   },
   {
    "duration": 8,
    "start_time": "2022-10-13T10:53:14.338Z"
   },
   {
    "duration": 7,
    "start_time": "2022-10-13T10:53:15.015Z"
   },
   {
    "duration": 4,
    "start_time": "2022-10-13T10:53:17.659Z"
   },
   {
    "duration": 8,
    "start_time": "2022-10-13T10:53:22.029Z"
   },
   {
    "duration": 49,
    "start_time": "2022-10-13T10:53:30.342Z"
   },
   {
    "duration": 13,
    "start_time": "2022-10-13T10:53:31.524Z"
   },
   {
    "duration": 14,
    "start_time": "2022-10-13T10:53:33.766Z"
   },
   {
    "duration": 16,
    "start_time": "2022-10-13T10:53:35.388Z"
   },
   {
    "duration": 4,
    "start_time": "2022-10-13T10:53:38.943Z"
   },
   {
    "duration": 17,
    "start_time": "2022-10-13T10:53:40.508Z"
   },
   {
    "duration": 5,
    "start_time": "2022-10-13T10:53:43.700Z"
   },
   {
    "duration": 8,
    "start_time": "2022-10-13T10:53:44.692Z"
   },
   {
    "duration": 8,
    "start_time": "2022-10-13T10:53:48.677Z"
   },
   {
    "duration": 9,
    "start_time": "2022-10-13T10:53:51.885Z"
   },
   {
    "duration": 12,
    "start_time": "2022-10-13T10:53:53.519Z"
   },
   {
    "duration": 25,
    "start_time": "2022-10-13T10:53:57.311Z"
   },
   {
    "duration": 9,
    "start_time": "2022-10-13T10:54:00.646Z"
   },
   {
    "duration": 9,
    "start_time": "2022-10-13T10:54:03.204Z"
   },
   {
    "duration": 17,
    "start_time": "2022-10-13T10:54:06.797Z"
   },
   {
    "duration": 216,
    "start_time": "2022-10-13T10:54:09.812Z"
   },
   {
    "duration": 16,
    "start_time": "2022-10-13T10:54:12.667Z"
   },
   {
    "duration": 5,
    "start_time": "2022-10-13T10:54:16.484Z"
   },
   {
    "duration": 91,
    "start_time": "2022-10-13T10:54:18.902Z"
   },
   {
    "duration": 15,
    "start_time": "2022-10-13T10:54:21.724Z"
   },
   {
    "duration": 6,
    "start_time": "2022-10-13T10:54:25.463Z"
   },
   {
    "duration": 15,
    "start_time": "2022-10-13T10:54:28.730Z"
   },
   {
    "duration": 93,
    "start_time": "2022-10-13T10:54:32.123Z"
   },
   {
    "duration": 86,
    "start_time": "2022-10-13T10:54:33.861Z"
   },
   {
    "duration": 98,
    "start_time": "2022-10-13T10:54:36.212Z"
   },
   {
    "duration": 96,
    "start_time": "2022-10-13T10:54:39.140Z"
   },
   {
    "duration": 97,
    "start_time": "2022-10-13T10:54:41.845Z"
   },
   {
    "duration": 195,
    "start_time": "2022-10-13T10:54:43.964Z"
   },
   {
    "duration": 95,
    "start_time": "2022-10-13T10:54:46.622Z"
   },
   {
    "duration": 97,
    "start_time": "2022-10-13T10:54:49.310Z"
   },
   {
    "duration": 10,
    "start_time": "2022-10-13T10:54:52.404Z"
   },
   {
    "duration": 10,
    "start_time": "2022-10-13T10:54:53.955Z"
   },
   {
    "duration": 629,
    "start_time": "2022-10-13T10:54:56.117Z"
   },
   {
    "duration": 10,
    "start_time": "2022-10-13T10:55:00.332Z"
   },
   {
    "duration": 7,
    "start_time": "2022-10-13T10:55:01.643Z"
   },
   {
    "duration": 624,
    "start_time": "2022-10-13T10:55:03.253Z"
   },
   {
    "duration": 9,
    "start_time": "2022-10-13T10:55:06.804Z"
   },
   {
    "duration": 8,
    "start_time": "2022-10-13T10:55:08.117Z"
   },
   {
    "duration": 823,
    "start_time": "2022-10-13T10:55:10.019Z"
   },
   {
    "duration": 15,
    "start_time": "2022-10-13T10:55:17.211Z"
   },
   {
    "duration": 13,
    "start_time": "2022-10-13T10:55:20.795Z"
   },
   {
    "duration": 13,
    "start_time": "2022-10-13T10:55:25.957Z"
   },
   {
    "duration": 16,
    "start_time": "2022-10-13T10:55:27.996Z"
   },
   {
    "duration": 203,
    "start_time": "2022-10-13T10:55:31.059Z"
   },
   {
    "duration": 220,
    "start_time": "2022-10-13T10:55:33.595Z"
   },
   {
    "duration": 13,
    "start_time": "2022-10-13T10:55:36.614Z"
   },
   {
    "duration": 120,
    "start_time": "2022-10-13T10:55:38.645Z"
   },
   {
    "duration": 121,
    "start_time": "2022-10-13T10:55:40.475Z"
   },
   {
    "duration": 122,
    "start_time": "2022-10-13T10:55:42.436Z"
   },
   {
    "duration": 28,
    "start_time": "2022-10-13T10:55:46.637Z"
   },
   {
    "duration": 2,
    "start_time": "2022-10-13T10:55:48.869Z"
   },
   {
    "duration": 8,
    "start_time": "2022-10-13T10:55:49.468Z"
   },
   {
    "duration": 6,
    "start_time": "2022-10-13T10:55:50.854Z"
   },
   {
    "duration": 4,
    "start_time": "2022-10-13T10:55:53.437Z"
   },
   {
    "duration": 11,
    "start_time": "2022-10-13T10:55:55.186Z"
   },
   {
    "duration": 5,
    "start_time": "2022-10-13T10:56:50.685Z"
   },
   {
    "duration": 4,
    "start_time": "2022-10-13T10:56:54.843Z"
   },
   {
    "duration": 7,
    "start_time": "2022-10-13T10:57:06.180Z"
   },
   {
    "duration": 6,
    "start_time": "2022-10-13T10:57:06.845Z"
   },
   {
    "duration": 4,
    "start_time": "2022-10-13T10:57:09.372Z"
   },
   {
    "duration": 4,
    "start_time": "2022-10-13T10:57:09.978Z"
   },
   {
    "duration": 965,
    "start_time": "2022-12-12T20:22:49.273Z"
   },
   {
    "duration": 17,
    "start_time": "2022-12-12T20:22:50.240Z"
   },
   {
    "duration": 82,
    "start_time": "2022-12-12T20:22:50.259Z"
   },
   {
    "duration": 22,
    "start_time": "2022-12-12T20:22:50.343Z"
   },
   {
    "duration": 51,
    "start_time": "2022-12-12T20:22:50.367Z"
   },
   {
    "duration": 47,
    "start_time": "2022-12-12T20:22:50.419Z"
   },
   {
    "duration": 50,
    "start_time": "2022-12-12T20:22:50.467Z"
   },
   {
    "duration": 51,
    "start_time": "2022-12-12T20:22:50.518Z"
   },
   {
    "duration": 27,
    "start_time": "2022-12-12T20:22:50.571Z"
   },
   {
    "duration": 72,
    "start_time": "2022-12-12T20:22:50.599Z"
   },
   {
    "duration": 28,
    "start_time": "2022-12-12T20:22:50.673Z"
   },
   {
    "duration": 54,
    "start_time": "2022-12-12T20:22:50.702Z"
   },
   {
    "duration": 26,
    "start_time": "2022-12-12T20:22:50.758Z"
   },
   {
    "duration": 52,
    "start_time": "2022-12-12T20:22:50.787Z"
   },
   {
    "duration": 46,
    "start_time": "2022-12-12T20:22:50.841Z"
   },
   {
    "duration": 52,
    "start_time": "2022-12-12T20:22:50.890Z"
   },
   {
    "duration": 258,
    "start_time": "2022-12-12T20:22:50.944Z"
   },
   {
    "duration": 27,
    "start_time": "2022-12-12T20:22:51.203Z"
   },
   {
    "duration": 43,
    "start_time": "2022-12-12T20:22:51.231Z"
   },
   {
    "duration": 135,
    "start_time": "2022-12-12T20:22:51.276Z"
   },
   {
    "duration": 19,
    "start_time": "2022-12-12T20:22:51.413Z"
   },
   {
    "duration": 50,
    "start_time": "2022-12-12T20:22:51.433Z"
   },
   {
    "duration": 30,
    "start_time": "2022-12-12T20:22:51.484Z"
   },
   {
    "duration": 181,
    "start_time": "2022-12-12T20:22:51.515Z"
   },
   {
    "duration": 115,
    "start_time": "2022-12-12T20:22:51.698Z"
   },
   {
    "duration": 179,
    "start_time": "2022-12-12T20:22:51.815Z"
   },
   {
    "duration": 112,
    "start_time": "2022-12-12T20:22:51.996Z"
   },
   {
    "duration": 100,
    "start_time": "2022-12-12T20:22:52.110Z"
   },
   {
    "duration": 129,
    "start_time": "2022-12-12T20:22:52.211Z"
   },
   {
    "duration": 154,
    "start_time": "2022-12-12T20:22:52.345Z"
   },
   {
    "duration": 162,
    "start_time": "2022-12-12T20:22:52.502Z"
   },
   {
    "duration": 10,
    "start_time": "2022-12-12T20:22:52.666Z"
   },
   {
    "duration": 85,
    "start_time": "2022-12-12T20:22:52.678Z"
   },
   {
    "duration": 739,
    "start_time": "2022-12-12T20:22:52.765Z"
   },
   {
    "duration": 9,
    "start_time": "2022-12-12T20:22:53.505Z"
   },
   {
    "duration": 43,
    "start_time": "2022-12-12T20:22:53.516Z"
   },
   {
    "duration": 766,
    "start_time": "2022-12-12T20:22:53.561Z"
   },
   {
    "duration": 9,
    "start_time": "2022-12-12T20:22:54.328Z"
   },
   {
    "duration": 20,
    "start_time": "2022-12-12T20:22:54.339Z"
   },
   {
    "duration": 756,
    "start_time": "2022-12-12T20:22:54.361Z"
   },
   {
    "duration": 15,
    "start_time": "2022-12-12T20:22:55.120Z"
   },
   {
    "duration": 28,
    "start_time": "2022-12-12T20:22:55.137Z"
   },
   {
    "duration": 22,
    "start_time": "2022-12-12T20:22:55.166Z"
   },
   {
    "duration": 20,
    "start_time": "2022-12-12T20:22:55.189Z"
   },
   {
    "duration": 262,
    "start_time": "2022-12-12T20:22:55.210Z"
   },
   {
    "duration": 281,
    "start_time": "2022-12-12T20:22:55.474Z"
   },
   {
    "duration": 16,
    "start_time": "2022-12-12T20:22:55.757Z"
   },
   {
    "duration": 163,
    "start_time": "2022-12-12T20:22:55.775Z"
   },
   {
    "duration": 213,
    "start_time": "2022-12-12T20:22:55.940Z"
   },
   {
    "duration": 145,
    "start_time": "2022-12-12T20:22:56.154Z"
   },
   {
    "duration": 39,
    "start_time": "2022-12-12T20:22:56.300Z"
   },
   {
    "duration": 433,
    "start_time": "2022-12-12T20:22:56.341Z"
   },
   {
    "duration": 7,
    "start_time": "2022-12-12T20:22:56.776Z"
   },
   {
    "duration": 19,
    "start_time": "2022-12-12T20:22:56.785Z"
   },
   {
    "duration": 19,
    "start_time": "2022-12-12T20:22:56.806Z"
   },
   {
    "duration": 9,
    "start_time": "2022-12-12T20:22:56.826Z"
   },
   {
    "duration": 13,
    "start_time": "2022-12-12T20:22:56.837Z"
   },
   {
    "duration": 12,
    "start_time": "2022-12-12T20:22:56.852Z"
   },
   {
    "duration": 5,
    "start_time": "2022-12-12T20:22:56.866Z"
   },
   {
    "duration": 6,
    "start_time": "2022-12-12T20:22:56.873Z"
   },
   {
    "duration": 48,
    "start_time": "2022-12-12T20:23:33.198Z"
   },
   {
    "duration": 15,
    "start_time": "2022-12-12T20:23:33.726Z"
   },
   {
    "duration": 14,
    "start_time": "2022-12-12T20:23:34.400Z"
   },
   {
    "duration": 13,
    "start_time": "2022-12-12T20:23:34.693Z"
   },
   {
    "duration": 3,
    "start_time": "2022-12-12T20:23:35.733Z"
   },
   {
    "duration": 18,
    "start_time": "2022-12-12T20:23:35.941Z"
   },
   {
    "duration": 4,
    "start_time": "2022-12-12T20:23:36.637Z"
   },
   {
    "duration": 8,
    "start_time": "2022-12-12T20:23:36.885Z"
   },
   {
    "duration": 7,
    "start_time": "2022-12-12T20:23:38.587Z"
   },
   {
    "duration": 9,
    "start_time": "2022-12-12T20:23:39.453Z"
   },
   {
    "duration": 17,
    "start_time": "2022-12-12T20:23:39.741Z"
   },
   {
    "duration": 24,
    "start_time": "2022-12-12T20:23:41.193Z"
   },
   {
    "duration": 5,
    "start_time": "2022-12-12T20:23:43.116Z"
   },
   {
    "duration": 8,
    "start_time": "2022-12-12T20:23:44.571Z"
   },
   {
    "duration": 9,
    "start_time": "2022-12-12T20:23:49.198Z"
   },
   {
    "duration": 15,
    "start_time": "2022-12-12T20:23:53.299Z"
   },
   {
    "duration": 202,
    "start_time": "2022-12-12T20:23:56.010Z"
   },
   {
    "duration": 17,
    "start_time": "2022-12-12T20:23:57.926Z"
   },
   {
    "duration": 4,
    "start_time": "2022-12-12T20:23:58.575Z"
   },
   {
    "duration": 88,
    "start_time": "2022-12-12T20:24:01.809Z"
   },
   {
    "duration": 19,
    "start_time": "2022-12-12T20:24:15.742Z"
   },
   {
    "duration": 5,
    "start_time": "2022-12-12T20:24:18.541Z"
   },
   {
    "duration": 15,
    "start_time": "2022-12-12T20:24:21.752Z"
   },
   {
    "duration": 100,
    "start_time": "2022-12-12T20:24:27.272Z"
   },
   {
    "duration": 85,
    "start_time": "2022-12-12T20:24:31.238Z"
   },
   {
    "duration": 101,
    "start_time": "2022-12-12T20:24:32.564Z"
   },
   {
    "duration": 109,
    "start_time": "2022-12-12T20:24:33.093Z"
   },
   {
    "duration": 93,
    "start_time": "2022-12-12T20:24:33.638Z"
   },
   {
    "duration": 210,
    "start_time": "2022-12-12T20:24:34.144Z"
   },
   {
    "duration": 101,
    "start_time": "2022-12-12T20:24:34.997Z"
   },
   {
    "duration": 97,
    "start_time": "2022-12-12T20:24:37.087Z"
   },
   {
    "duration": 9,
    "start_time": "2022-12-12T20:24:41.390Z"
   }
  ],
  "kernelspec": {
   "display_name": "Python 3 (ipykernel)",
   "language": "python",
   "name": "python3"
  },
  "language_info": {
   "codemirror_mode": {
    "name": "ipython",
    "version": 3
   },
   "file_extension": ".py",
   "mimetype": "text/x-python",
   "name": "python",
   "nbconvert_exporter": "python",
   "pygments_lexer": "ipython3",
   "version": "3.9.12"
  },
  "toc": {
   "base_numbering": 1,
   "nav_menu": {},
   "number_sections": true,
   "sideBar": true,
   "skip_h1_title": true,
   "title_cell": "Table of Contents",
   "title_sidebar": "Contents",
   "toc_cell": false,
   "toc_position": {},
   "toc_section_display": true,
   "toc_window_display": false
  }
 },
 "nbformat": 4,
 "nbformat_minor": 2
}
