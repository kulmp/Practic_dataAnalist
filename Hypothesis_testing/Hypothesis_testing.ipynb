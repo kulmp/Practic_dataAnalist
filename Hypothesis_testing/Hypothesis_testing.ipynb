{
 "cells": [
  {
   "cell_type": "markdown",
   "metadata": {},
   "source": [
    "# Принятие решений в бизнесе"
   ]
  },
  {
   "cell_type": "markdown",
   "metadata": {},
   "source": [
    "## Задача: проверить список гипотез для увеличения выручки интернет-магазина"
   ]
  },
  {
   "cell_type": "code",
   "execution_count": 1,
   "metadata": {},
   "outputs": [],
   "source": [
    "import pandas as pd\n",
    "import datetime as dt\n",
    "import numpy as np\n",
    "import matplotlib.pyplot as plt\n",
    "from pandas.plotting import register_matplotlib_converters\n",
    "import warnings\n",
    "import seaborn as sb\n",
    "import scipy.stats as stats\n",
    "from scipy import stats as st"
   ]
  },
  {
   "cell_type": "code",
   "execution_count": 2,
   "metadata": {},
   "outputs": [],
   "source": [
    "hypothesis = pd.read_csv('/datasets/hypothesis.csv', sep=',')\n",
    "orders = pd.read_csv('/datasets/orders.csv', sep=',') \n",
    "visitors = pd.read_csv('/datasets/visitors.csv', sep=',') \n"
   ]
  },
  {
   "cell_type": "code",
   "execution_count": 3,
   "metadata": {},
   "outputs": [],
   "source": [
    "hypothesis.columns = [x.lower() for x in hypothesis.columns] \n",
    "orders.columns = [x.lower() for x in orders.columns]\n",
    "visitors.columns = [x.lower() for x in visitors.columns]"
   ]
  },
  {
   "cell_type": "code",
   "execution_count": 4,
   "metadata": {},
   "outputs": [
    {
     "name": "stdout",
     "output_type": "stream",
     "text": [
      "<class 'pandas.core.frame.DataFrame'>\n",
      "RangeIndex: 62 entries, 0 to 61\n",
      "Data columns (total 3 columns):\n",
      " #   Column    Non-Null Count  Dtype         \n",
      "---  ------    --------------  -----         \n",
      " 0   date      62 non-null     datetime64[ns]\n",
      " 1   group     62 non-null     object        \n",
      " 2   visitors  62 non-null     int64         \n",
      "dtypes: datetime64[ns](1), int64(1), object(1)\n",
      "memory usage: 1.6+ KB\n"
     ]
    }
   ],
   "source": [
    "#visitors['date'] = visitors['date'].map(lambda x: dt.datetime.strptime(x, '%Y-%m-%d'))\n",
    "visitors['date'] = pd.to_datetime(visitors['date'], format='%Y-%m-%d')\n",
    "visitors.info()"
   ]
  },
  {
   "cell_type": "code",
   "execution_count": 154,
   "metadata": {},
   "outputs": [
    {
     "name": "stdout",
     "output_type": "stream",
     "text": [
      "<class 'pandas.core.frame.DataFrame'>\n",
      "RangeIndex: 1197 entries, 0 to 1196\n",
      "Data columns (total 5 columns):\n",
      " #   Column         Non-Null Count  Dtype         \n",
      "---  ------         --------------  -----         \n",
      " 0   transactionid  1197 non-null   int64         \n",
      " 1   visitorid      1197 non-null   int64         \n",
      " 2   date           1197 non-null   datetime64[ns]\n",
      " 3   revenue        1197 non-null   int64         \n",
      " 4   group          1197 non-null   object        \n",
      "dtypes: datetime64[ns](1), int64(3), object(1)\n",
      "memory usage: 46.9+ KB\n"
     ]
    }
   ],
   "source": [
    "#orders['date'] = orders['date'].map(lambda x: dt.datetime.strptime(x, '%Y-%m-%d'))\n",
    "orders['date'] = pd.to_datetime(orders['date'], format='%Y-%m-%d')\n",
    "orders.info()"
   ]
  },
  {
   "cell_type": "code",
   "execution_count": 155,
   "metadata": {},
   "outputs": [
    {
     "data": {
      "text/html": [
       "<div>\n",
       "<style scoped>\n",
       "    .dataframe tbody tr th:only-of-type {\n",
       "        vertical-align: middle;\n",
       "    }\n",
       "\n",
       "    .dataframe tbody tr th {\n",
       "        vertical-align: top;\n",
       "    }\n",
       "\n",
       "    .dataframe thead th {\n",
       "        text-align: right;\n",
       "    }\n",
       "</style>\n",
       "<table border=\"1\" class=\"dataframe\">\n",
       "  <thead>\n",
       "    <tr style=\"text-align: right;\">\n",
       "      <th></th>\n",
       "      <th>transactionid</th>\n",
       "      <th>visitorid</th>\n",
       "      <th>date</th>\n",
       "      <th>revenue</th>\n",
       "      <th>group</th>\n",
       "    </tr>\n",
       "  </thead>\n",
       "  <tbody>\n",
       "    <tr>\n",
       "      <th>0</th>\n",
       "      <td>3667963787</td>\n",
       "      <td>3312258926</td>\n",
       "      <td>2019-08-15</td>\n",
       "      <td>1650</td>\n",
       "      <td>B</td>\n",
       "    </tr>\n",
       "    <tr>\n",
       "      <th>1</th>\n",
       "      <td>2804400009</td>\n",
       "      <td>3642806036</td>\n",
       "      <td>2019-08-15</td>\n",
       "      <td>730</td>\n",
       "      <td>B</td>\n",
       "    </tr>\n",
       "    <tr>\n",
       "      <th>2</th>\n",
       "      <td>2961555356</td>\n",
       "      <td>4069496402</td>\n",
       "      <td>2019-08-15</td>\n",
       "      <td>400</td>\n",
       "      <td>A</td>\n",
       "    </tr>\n",
       "    <tr>\n",
       "      <th>3</th>\n",
       "      <td>3797467345</td>\n",
       "      <td>1196621759</td>\n",
       "      <td>2019-08-15</td>\n",
       "      <td>9759</td>\n",
       "      <td>B</td>\n",
       "    </tr>\n",
       "    <tr>\n",
       "      <th>4</th>\n",
       "      <td>2282983706</td>\n",
       "      <td>2322279887</td>\n",
       "      <td>2019-08-15</td>\n",
       "      <td>2308</td>\n",
       "      <td>B</td>\n",
       "    </tr>\n",
       "  </tbody>\n",
       "</table>\n",
       "</div>"
      ],
      "text/plain": [
       "   transactionid   visitorid       date  revenue group\n",
       "0     3667963787  3312258926 2019-08-15     1650     B\n",
       "1     2804400009  3642806036 2019-08-15      730     B\n",
       "2     2961555356  4069496402 2019-08-15      400     A\n",
       "3     3797467345  1196621759 2019-08-15     9759     B\n",
       "4     2282983706  2322279887 2019-08-15     2308     B"
      ]
     },
     "execution_count": 155,
     "metadata": {},
     "output_type": "execute_result"
    }
   ],
   "source": [
    "orders.head()\n"
   ]
  },
  {
   "cell_type": "code",
   "execution_count": 156,
   "metadata": {},
   "outputs": [
    {
     "data": {
      "text/html": [
       "<div>\n",
       "<style scoped>\n",
       "    .dataframe tbody tr th:only-of-type {\n",
       "        vertical-align: middle;\n",
       "    }\n",
       "\n",
       "    .dataframe tbody tr th {\n",
       "        vertical-align: top;\n",
       "    }\n",
       "\n",
       "    .dataframe thead th {\n",
       "        text-align: right;\n",
       "    }\n",
       "</style>\n",
       "<table border=\"1\" class=\"dataframe\">\n",
       "  <thead>\n",
       "    <tr style=\"text-align: right;\">\n",
       "      <th></th>\n",
       "      <th>hypothesis</th>\n",
       "      <th>reach</th>\n",
       "      <th>impact</th>\n",
       "      <th>confidence</th>\n",
       "      <th>efforts</th>\n",
       "    </tr>\n",
       "  </thead>\n",
       "  <tbody>\n",
       "    <tr>\n",
       "      <th>0</th>\n",
       "      <td>Добавить два новых канала привлечения трафика,...</td>\n",
       "      <td>3</td>\n",
       "      <td>10</td>\n",
       "      <td>8</td>\n",
       "      <td>6</td>\n",
       "    </tr>\n",
       "    <tr>\n",
       "      <th>1</th>\n",
       "      <td>Запустить собственную службу доставки, что сок...</td>\n",
       "      <td>2</td>\n",
       "      <td>5</td>\n",
       "      <td>4</td>\n",
       "      <td>10</td>\n",
       "    </tr>\n",
       "    <tr>\n",
       "      <th>2</th>\n",
       "      <td>Добавить блоки рекомендаций товаров на сайт ин...</td>\n",
       "      <td>8</td>\n",
       "      <td>3</td>\n",
       "      <td>7</td>\n",
       "      <td>3</td>\n",
       "    </tr>\n",
       "    <tr>\n",
       "      <th>3</th>\n",
       "      <td>Изменить структура категорий, что увеличит кон...</td>\n",
       "      <td>8</td>\n",
       "      <td>3</td>\n",
       "      <td>3</td>\n",
       "      <td>8</td>\n",
       "    </tr>\n",
       "    <tr>\n",
       "      <th>4</th>\n",
       "      <td>Изменить цвет фона главной страницы, чтобы уве...</td>\n",
       "      <td>3</td>\n",
       "      <td>1</td>\n",
       "      <td>1</td>\n",
       "      <td>1</td>\n",
       "    </tr>\n",
       "    <tr>\n",
       "      <th>5</th>\n",
       "      <td>Добавить страницу отзывов клиентов о магазине,...</td>\n",
       "      <td>3</td>\n",
       "      <td>2</td>\n",
       "      <td>2</td>\n",
       "      <td>3</td>\n",
       "    </tr>\n",
       "    <tr>\n",
       "      <th>6</th>\n",
       "      <td>Показать на главной странице баннеры с актуаль...</td>\n",
       "      <td>5</td>\n",
       "      <td>3</td>\n",
       "      <td>8</td>\n",
       "      <td>3</td>\n",
       "    </tr>\n",
       "    <tr>\n",
       "      <th>7</th>\n",
       "      <td>Добавить форму подписки на все основные страни...</td>\n",
       "      <td>10</td>\n",
       "      <td>7</td>\n",
       "      <td>8</td>\n",
       "      <td>5</td>\n",
       "    </tr>\n",
       "    <tr>\n",
       "      <th>8</th>\n",
       "      <td>Запустить акцию, дающую скидку на товар в день...</td>\n",
       "      <td>1</td>\n",
       "      <td>9</td>\n",
       "      <td>9</td>\n",
       "      <td>5</td>\n",
       "    </tr>\n",
       "  </tbody>\n",
       "</table>\n",
       "</div>"
      ],
      "text/plain": [
       "                                          hypothesis  reach  impact  \\\n",
       "0  Добавить два новых канала привлечения трафика,...      3      10   \n",
       "1  Запустить собственную службу доставки, что сок...      2       5   \n",
       "2  Добавить блоки рекомендаций товаров на сайт ин...      8       3   \n",
       "3  Изменить структура категорий, что увеличит кон...      8       3   \n",
       "4  Изменить цвет фона главной страницы, чтобы уве...      3       1   \n",
       "5  Добавить страницу отзывов клиентов о магазине,...      3       2   \n",
       "6  Показать на главной странице баннеры с актуаль...      5       3   \n",
       "7  Добавить форму подписки на все основные страни...     10       7   \n",
       "8  Запустить акцию, дающую скидку на товар в день...      1       9   \n",
       "\n",
       "   confidence  efforts  \n",
       "0           8        6  \n",
       "1           4       10  \n",
       "2           7        3  \n",
       "3           3        8  \n",
       "4           1        1  \n",
       "5           2        3  \n",
       "6           8        3  \n",
       "7           8        5  \n",
       "8           9        5  "
      ]
     },
     "execution_count": 156,
     "metadata": {},
     "output_type": "execute_result"
    }
   ],
   "source": [
    "hypothesis"
   ]
  },
  {
   "cell_type": "code",
   "execution_count": 157,
   "metadata": {},
   "outputs": [
    {
     "data": {
      "text/plain": [
       "array(['Добавить два новых канала привлечения трафика, что позволит привлекать на 30% больше пользователей',\n",
       "       'Запустить собственную службу доставки, что сократит срок доставки заказов',\n",
       "       'Добавить блоки рекомендаций товаров на сайт интернет магазина, чтобы повысить конверсию и средний чек заказа',\n",
       "       'Изменить структура категорий, что увеличит конверсию, т.к. пользователи быстрее найдут нужный товар',\n",
       "       'Изменить цвет фона главной страницы, чтобы увеличить вовлеченность пользователей',\n",
       "       'Добавить страницу отзывов клиентов о магазине, что позволит увеличить количество заказов',\n",
       "       'Показать на главной странице баннеры с актуальными акциями и распродажами, чтобы увеличить конверсию',\n",
       "       'Добавить форму подписки на все основные страницы, чтобы собрать базу клиентов для email-рассылок',\n",
       "       'Запустить акцию, дающую скидку на товар в день рождения'],\n",
       "      dtype=object)"
      ]
     },
     "execution_count": 157,
     "metadata": {},
     "output_type": "execute_result"
    }
   ],
   "source": [
    "hypothesis\n",
    "hypothesis['hypothesis'].unique()\n",
    "#hypothesis.options.display.max_colwidth = 100 "
   ]
  },
  {
   "cell_type": "code",
   "execution_count": 158,
   "metadata": {},
   "outputs": [
    {
     "data": {
      "text/html": [
       "<div>\n",
       "<style scoped>\n",
       "    .dataframe tbody tr th:only-of-type {\n",
       "        vertical-align: middle;\n",
       "    }\n",
       "\n",
       "    .dataframe tbody tr th {\n",
       "        vertical-align: top;\n",
       "    }\n",
       "\n",
       "    .dataframe thead th {\n",
       "        text-align: right;\n",
       "    }\n",
       "</style>\n",
       "<table border=\"1\" class=\"dataframe\">\n",
       "  <thead>\n",
       "    <tr style=\"text-align: right;\">\n",
       "      <th></th>\n",
       "      <th>date</th>\n",
       "      <th>group</th>\n",
       "      <th>visitors</th>\n",
       "    </tr>\n",
       "  </thead>\n",
       "  <tbody>\n",
       "    <tr>\n",
       "      <th>0</th>\n",
       "      <td>2019-08-01</td>\n",
       "      <td>A</td>\n",
       "      <td>719</td>\n",
       "    </tr>\n",
       "    <tr>\n",
       "      <th>1</th>\n",
       "      <td>2019-08-02</td>\n",
       "      <td>A</td>\n",
       "      <td>619</td>\n",
       "    </tr>\n",
       "    <tr>\n",
       "      <th>2</th>\n",
       "      <td>2019-08-03</td>\n",
       "      <td>A</td>\n",
       "      <td>507</td>\n",
       "    </tr>\n",
       "    <tr>\n",
       "      <th>3</th>\n",
       "      <td>2019-08-04</td>\n",
       "      <td>A</td>\n",
       "      <td>717</td>\n",
       "    </tr>\n",
       "    <tr>\n",
       "      <th>4</th>\n",
       "      <td>2019-08-05</td>\n",
       "      <td>A</td>\n",
       "      <td>756</td>\n",
       "    </tr>\n",
       "  </tbody>\n",
       "</table>\n",
       "</div>"
      ],
      "text/plain": [
       "        date group  visitors\n",
       "0 2019-08-01     A       719\n",
       "1 2019-08-02     A       619\n",
       "2 2019-08-03     A       507\n",
       "3 2019-08-04     A       717\n",
       "4 2019-08-05     A       756"
      ]
     },
     "execution_count": 158,
     "metadata": {},
     "output_type": "execute_result"
    }
   ],
   "source": [
    "visitors.head()"
   ]
  },
  {
   "cell_type": "markdown",
   "metadata": {},
   "source": [
    "### Приоритизация гипотез."
   ]
  },
  {
   "cell_type": "code",
   "execution_count": 159,
   "metadata": {},
   "outputs": [
    {
     "name": "stdout",
     "output_type": "stream",
     "text": [
      "                                          hypothesis    ice\n",
      "8  Запустить акцию, дающую скидку на товар в день...  16.20\n",
      "0  Добавить два новых канала привлечения трафика,...  13.33\n",
      "7  Добавить форму подписки на все основные страни...  11.20\n",
      "6  Показать на главной странице баннеры с актуаль...   8.00\n",
      "2  Добавить блоки рекомендаций товаров на сайт ин...   7.00\n",
      "1  Запустить собственную службу доставки, что сок...   2.00\n",
      "5  Добавить страницу отзывов клиентов о магазине,...   1.33\n",
      "3  Изменить структура категорий, что увеличит кон...   1.12\n",
      "4  Изменить цвет фона главной страницы, чтобы уве...   1.00\n"
     ]
    }
   ],
   "source": [
    "hypothesis['ice'] = round((hypothesis['impact'] * hypothesis['confidence'] / hypothesis['efforts']),2)\n",
    "print(hypothesis[['hypothesis', 'ice']].sort_values(by='ice', ascending=False))"
   ]
  },
  {
   "cell_type": "code",
   "execution_count": 160,
   "metadata": {},
   "outputs": [
    {
     "name": "stdout",
     "output_type": "stream",
     "text": [
      "                                          hypothesis   rice\n",
      "7  Добавить форму подписки на все основные страни...  112.0\n",
      "2  Добавить блоки рекомендаций товаров на сайт ин...   56.0\n",
      "0  Добавить два новых канала привлечения трафика,...   40.0\n",
      "6  Показать на главной странице баннеры с актуаль...   40.0\n",
      "8  Запустить акцию, дающую скидку на товар в день...   16.2\n",
      "3  Изменить структура категорий, что увеличит кон...    9.0\n",
      "1  Запустить собственную службу доставки, что сок...    4.0\n",
      "5  Добавить страницу отзывов клиентов о магазине,...    4.0\n",
      "4  Изменить цвет фона главной страницы, чтобы уве...    3.0\n"
     ]
    }
   ],
   "source": [
    "hypothesis['rice'] = (hypothesis['reach'] * hypothesis['impact'] * hypothesis['confidence'] / hypothesis['efforts'])# напишите ваш код здесь \n",
    "print(hypothesis[['hypothesis', 'rice']].sort_values(by='rice', ascending=False))\n"
   ]
  },
  {
   "cell_type": "markdown",
   "metadata": {},
   "source": [
    "Приотизация гипотез разная, потому что RICE  учитывает охват, а ICE  не учитывает."
   ]
  },
  {
   "cell_type": "code",
   "execution_count": 161,
   "metadata": {},
   "outputs": [
    {
     "name": "stdout",
     "output_type": "stream",
     "text": [
      "Посещения в группе А: 18736\n",
      "Посещения в группе B: 18916\n",
      "Заказы в группе А: 557\n",
      "Заказы в группе B: 640\n"
     ]
    }
   ],
   "source": [
    "# Посмотрим количество посещений и заказов по группам\n",
    "print ('Посещения в группе А:', visitors.query('group == \"A\"')['visitors'].sum())\n",
    "print ('Посещения в группе B:',visitors.query('group == \"B\"')['visitors'].sum())\n",
    "print ('Заказы в группе А:', orders.query('group == \"A\"').shape[0])\n",
    "print ('Заказы в группе B:',orders.query('group == \"B\"').shape[0])\n"
   ]
  },
  {
   "cell_type": "markdown",
   "metadata": {},
   "source": [
    "Приотизация ICE в тройку лидеров вошли гипотезы:\n",
    "\n",
    "    8. Запустить акцию, дающую скидку на товар в день рождения\n",
    "    0. Добавить два новых канала привлечения трафика, что позволит привлекать на 30% больше пользователей',\n",
    "    7. Добавить форму подписки на все основные страницы, чтобы собрать базу клиентов для email-рассылок'\n",
    "    \n",
    " Приотизация гипотез RICE немного изменилась: \n",
    " \n",
    "    7. Добавить форму подписки на все основные страницы, чтобы собрать базу клиентов для email-рассылок'\n",
    "    2. Добавить блоки рекомендаций товаров на сайт интернет магазина, чтобы повысить конверсию и средний чек заказа',\n",
    "    0. Добавить два новых канала привлечения трафика, что позволит привлекать на 30% больше пользователей'"
   ]
  },
  {
   "cell_type": "markdown",
   "metadata": {},
   "source": [
    "Проверим есть ли покупатели, которые вошли в обе группы "
   ]
  },
  {
   "cell_type": "code",
   "execution_count": 162,
   "metadata": {},
   "outputs": [
    {
     "data": {
      "text/plain": [
       "1031"
      ]
     },
     "execution_count": 162,
     "metadata": {},
     "output_type": "execute_result"
    }
   ],
   "source": [
    "orders['visitorid'].nunique()"
   ]
  },
  {
   "cell_type": "code",
   "execution_count": 163,
   "metadata": {},
   "outputs": [
    {
     "data": {
      "text/plain": [
       "58"
      ]
     },
     "execution_count": 163,
     "metadata": {},
     "output_type": "execute_result"
    }
   ],
   "source": [
    "\n",
    "id_ab = np.intersect1d(orders[orders['group']=='A']['visitorid'], orders[orders['group']=='B']['visitorid'])\n",
    "len(id_ab)"
   ]
  },
  {
   "cell_type": "code",
   "execution_count": 164,
   "metadata": {},
   "outputs": [
    {
     "data": {
      "text/plain": [
       "973"
      ]
     },
     "execution_count": 164,
     "metadata": {},
     "output_type": "execute_result"
    }
   ],
   "source": [
    "orders = orders.query('visitorid not in @id_ab')\n",
    "orders['visitorid'].nunique()"
   ]
  },
  {
   "cell_type": "code",
   "execution_count": 165,
   "metadata": {},
   "outputs": [],
   "source": [
    "# создаем массив уникальных пар значений дат и групп \n",
    "datesGroups = orders[['date','group']].drop_duplicates()"
   ]
  },
  {
   "cell_type": "code",
   "execution_count": 166,
   "metadata": {},
   "outputs": [],
   "source": [
    "ordersAggregated = (datesGroups\n",
    "                     .apply(lambda x: orders[np.logical_and(orders['date'] <= x['date']\n",
    "                                                            , orders['group'] ==  x['group'])]\n",
    "                    .agg({'date':'max', 'group':'max', 'revenue':'sum', 'transactionid':'nunique'}), axis=1) \n",
    "                    .sort_values(by=['date','group']))\n"
   ]
  },
  {
   "cell_type": "code",
   "execution_count": 167,
   "metadata": {},
   "outputs": [],
   "source": [
    "ordersAggregated.rename(columns={'transactionid':'orders'}, inplace=True)\n",
    "    "
   ]
  },
  {
   "cell_type": "code",
   "execution_count": 168,
   "metadata": {},
   "outputs": [
    {
     "data": {
      "text/html": [
       "<div>\n",
       "<style scoped>\n",
       "    .dataframe tbody tr th:only-of-type {\n",
       "        vertical-align: middle;\n",
       "    }\n",
       "\n",
       "    .dataframe tbody tr th {\n",
       "        vertical-align: top;\n",
       "    }\n",
       "\n",
       "    .dataframe thead th {\n",
       "        text-align: right;\n",
       "    }\n",
       "</style>\n",
       "<table border=\"1\" class=\"dataframe\">\n",
       "  <thead>\n",
       "    <tr style=\"text-align: right;\">\n",
       "      <th></th>\n",
       "      <th>date</th>\n",
       "      <th>group</th>\n",
       "      <th>revenue</th>\n",
       "      <th>orders</th>\n",
       "    </tr>\n",
       "  </thead>\n",
       "  <tbody>\n",
       "    <tr>\n",
       "      <th>55</th>\n",
       "      <td>2019-08-01</td>\n",
       "      <td>A</td>\n",
       "      <td>142779</td>\n",
       "      <td>23</td>\n",
       "    </tr>\n",
       "    <tr>\n",
       "      <th>66</th>\n",
       "      <td>2019-08-01</td>\n",
       "      <td>B</td>\n",
       "      <td>59758</td>\n",
       "      <td>17</td>\n",
       "    </tr>\n",
       "    <tr>\n",
       "      <th>175</th>\n",
       "      <td>2019-08-02</td>\n",
       "      <td>A</td>\n",
       "      <td>234381</td>\n",
       "      <td>42</td>\n",
       "    </tr>\n",
       "    <tr>\n",
       "      <th>173</th>\n",
       "      <td>2019-08-02</td>\n",
       "      <td>B</td>\n",
       "      <td>221801</td>\n",
       "      <td>40</td>\n",
       "    </tr>\n",
       "    <tr>\n",
       "      <th>291</th>\n",
       "      <td>2019-08-03</td>\n",
       "      <td>A</td>\n",
       "      <td>346854</td>\n",
       "      <td>66</td>\n",
       "    </tr>\n",
       "    <tr>\n",
       "      <th>...</th>\n",
       "      <td>...</td>\n",
       "      <td>...</td>\n",
       "      <td>...</td>\n",
       "      <td>...</td>\n",
       "    </tr>\n",
       "    <tr>\n",
       "      <th>533</th>\n",
       "      <td>2019-08-29</td>\n",
       "      <td>B</td>\n",
       "      <td>4746610</td>\n",
       "      <td>510</td>\n",
       "    </tr>\n",
       "    <tr>\n",
       "      <th>757</th>\n",
       "      <td>2019-08-30</td>\n",
       "      <td>A</td>\n",
       "      <td>3311413</td>\n",
       "      <td>460</td>\n",
       "    </tr>\n",
       "    <tr>\n",
       "      <th>690</th>\n",
       "      <td>2019-08-30</td>\n",
       "      <td>B</td>\n",
       "      <td>4955833</td>\n",
       "      <td>531</td>\n",
       "    </tr>\n",
       "    <tr>\n",
       "      <th>958</th>\n",
       "      <td>2019-08-31</td>\n",
       "      <td>A</td>\n",
       "      <td>3364656</td>\n",
       "      <td>468</td>\n",
       "    </tr>\n",
       "    <tr>\n",
       "      <th>930</th>\n",
       "      <td>2019-08-31</td>\n",
       "      <td>B</td>\n",
       "      <td>5068972</td>\n",
       "      <td>548</td>\n",
       "    </tr>\n",
       "  </tbody>\n",
       "</table>\n",
       "<p>62 rows × 4 columns</p>\n",
       "</div>"
      ],
      "text/plain": [
       "          date group  revenue  orders\n",
       "55  2019-08-01     A   142779      23\n",
       "66  2019-08-01     B    59758      17\n",
       "175 2019-08-02     A   234381      42\n",
       "173 2019-08-02     B   221801      40\n",
       "291 2019-08-03     A   346854      66\n",
       "..         ...   ...      ...     ...\n",
       "533 2019-08-29     B  4746610     510\n",
       "757 2019-08-30     A  3311413     460\n",
       "690 2019-08-30     B  4955833     531\n",
       "958 2019-08-31     A  3364656     468\n",
       "930 2019-08-31     B  5068972     548\n",
       "\n",
       "[62 rows x 4 columns]"
      ]
     },
     "execution_count": 168,
     "metadata": {},
     "output_type": "execute_result"
    }
   ],
   "source": [
    "ordersAggregated\n",
    "    "
   ]
  },
  {
   "cell_type": "code",
   "execution_count": 169,
   "metadata": {},
   "outputs": [
    {
     "data": {
      "text/html": [
       "<div>\n",
       "<style scoped>\n",
       "    .dataframe tbody tr th:only-of-type {\n",
       "        vertical-align: middle;\n",
       "    }\n",
       "\n",
       "    .dataframe tbody tr th {\n",
       "        vertical-align: top;\n",
       "    }\n",
       "\n",
       "    .dataframe thead th {\n",
       "        text-align: right;\n",
       "    }\n",
       "</style>\n",
       "<table border=\"1\" class=\"dataframe\">\n",
       "  <thead>\n",
       "    <tr style=\"text-align: right;\">\n",
       "      <th></th>\n",
       "      <th>date</th>\n",
       "      <th>group</th>\n",
       "      <th>visitors</th>\n",
       "    </tr>\n",
       "  </thead>\n",
       "  <tbody>\n",
       "    <tr>\n",
       "      <th>55</th>\n",
       "      <td>2019-08-01</td>\n",
       "      <td>A</td>\n",
       "      <td>719</td>\n",
       "    </tr>\n",
       "    <tr>\n",
       "      <th>66</th>\n",
       "      <td>2019-08-01</td>\n",
       "      <td>B</td>\n",
       "      <td>713</td>\n",
       "    </tr>\n",
       "    <tr>\n",
       "      <th>175</th>\n",
       "      <td>2019-08-02</td>\n",
       "      <td>A</td>\n",
       "      <td>1338</td>\n",
       "    </tr>\n",
       "    <tr>\n",
       "      <th>173</th>\n",
       "      <td>2019-08-02</td>\n",
       "      <td>B</td>\n",
       "      <td>1294</td>\n",
       "    </tr>\n",
       "    <tr>\n",
       "      <th>291</th>\n",
       "      <td>2019-08-03</td>\n",
       "      <td>A</td>\n",
       "      <td>1845</td>\n",
       "    </tr>\n",
       "    <tr>\n",
       "      <th>...</th>\n",
       "      <td>...</td>\n",
       "      <td>...</td>\n",
       "      <td>...</td>\n",
       "    </tr>\n",
       "    <tr>\n",
       "      <th>533</th>\n",
       "      <td>2019-08-29</td>\n",
       "      <td>B</td>\n",
       "      <td>17708</td>\n",
       "    </tr>\n",
       "    <tr>\n",
       "      <th>757</th>\n",
       "      <td>2019-08-30</td>\n",
       "      <td>A</td>\n",
       "      <td>18037</td>\n",
       "    </tr>\n",
       "    <tr>\n",
       "      <th>690</th>\n",
       "      <td>2019-08-30</td>\n",
       "      <td>B</td>\n",
       "      <td>18198</td>\n",
       "    </tr>\n",
       "    <tr>\n",
       "      <th>958</th>\n",
       "      <td>2019-08-31</td>\n",
       "      <td>A</td>\n",
       "      <td>18736</td>\n",
       "    </tr>\n",
       "    <tr>\n",
       "      <th>930</th>\n",
       "      <td>2019-08-31</td>\n",
       "      <td>B</td>\n",
       "      <td>18916</td>\n",
       "    </tr>\n",
       "  </tbody>\n",
       "</table>\n",
       "<p>62 rows × 3 columns</p>\n",
       "</div>"
      ],
      "text/plain": [
       "          date group  visitors\n",
       "55  2019-08-01     A       719\n",
       "66  2019-08-01     B       713\n",
       "175 2019-08-02     A      1338\n",
       "173 2019-08-02     B      1294\n",
       "291 2019-08-03     A      1845\n",
       "..         ...   ...       ...\n",
       "533 2019-08-29     B     17708\n",
       "757 2019-08-30     A     18037\n",
       "690 2019-08-30     B     18198\n",
       "958 2019-08-31     A     18736\n",
       "930 2019-08-31     B     18916\n",
       "\n",
       "[62 rows x 3 columns]"
      ]
     },
     "execution_count": 169,
     "metadata": {},
     "output_type": "execute_result"
    }
   ],
   "source": [
    "visitorsAggregated = (datesGroups\n",
    "                     .apply(lambda x: visitors[np.logical_and(visitors['date'] <= x['date']\n",
    "                                                            , visitors['group'] ==  x['group'])]\n",
    "                    .agg({'date':'max', 'group':'max', 'visitors':'sum'}), axis=1) \n",
    "                    .sort_values(by=['date','group']))\n",
    "visitorsAggregated.head()\n",
    "\n",
    "visitorsAggregated"
   ]
  },
  {
   "cell_type": "code",
   "execution_count": 170,
   "metadata": {},
   "outputs": [
    {
     "data": {
      "text/html": [
       "<div>\n",
       "<style scoped>\n",
       "    .dataframe tbody tr th:only-of-type {\n",
       "        vertical-align: middle;\n",
       "    }\n",
       "\n",
       "    .dataframe tbody tr th {\n",
       "        vertical-align: top;\n",
       "    }\n",
       "\n",
       "    .dataframe thead th {\n",
       "        text-align: right;\n",
       "    }\n",
       "</style>\n",
       "<table border=\"1\" class=\"dataframe\">\n",
       "  <thead>\n",
       "    <tr style=\"text-align: right;\">\n",
       "      <th></th>\n",
       "      <th>date</th>\n",
       "      <th>group</th>\n",
       "      <th>revenue</th>\n",
       "      <th>orders</th>\n",
       "      <th>visitors</th>\n",
       "    </tr>\n",
       "  </thead>\n",
       "  <tbody>\n",
       "    <tr>\n",
       "      <th>0</th>\n",
       "      <td>2019-08-01</td>\n",
       "      <td>A</td>\n",
       "      <td>142779</td>\n",
       "      <td>23</td>\n",
       "      <td>719</td>\n",
       "    </tr>\n",
       "    <tr>\n",
       "      <th>1</th>\n",
       "      <td>2019-08-01</td>\n",
       "      <td>B</td>\n",
       "      <td>59758</td>\n",
       "      <td>17</td>\n",
       "      <td>713</td>\n",
       "    </tr>\n",
       "    <tr>\n",
       "      <th>2</th>\n",
       "      <td>2019-08-02</td>\n",
       "      <td>A</td>\n",
       "      <td>234381</td>\n",
       "      <td>42</td>\n",
       "      <td>1338</td>\n",
       "    </tr>\n",
       "    <tr>\n",
       "      <th>3</th>\n",
       "      <td>2019-08-02</td>\n",
       "      <td>B</td>\n",
       "      <td>221801</td>\n",
       "      <td>40</td>\n",
       "      <td>1294</td>\n",
       "    </tr>\n",
       "    <tr>\n",
       "      <th>4</th>\n",
       "      <td>2019-08-03</td>\n",
       "      <td>A</td>\n",
       "      <td>346854</td>\n",
       "      <td>66</td>\n",
       "      <td>1845</td>\n",
       "    </tr>\n",
       "  </tbody>\n",
       "</table>\n",
       "</div>"
      ],
      "text/plain": [
       "        date group  revenue  orders  visitors\n",
       "0 2019-08-01     A   142779      23       719\n",
       "1 2019-08-01     B    59758      17       713\n",
       "2 2019-08-02     A   234381      42      1338\n",
       "3 2019-08-02     B   221801      40      1294\n",
       "4 2019-08-03     A   346854      66      1845"
      ]
     },
     "execution_count": 170,
     "metadata": {},
     "output_type": "execute_result"
    }
   ],
   "source": [
    "cumulativeData = ordersAggregated.merge(visitorsAggregated, on=['date','group'])\n",
    "cumulativeData.head()"
   ]
  },
  {
   "cell_type": "code",
   "execution_count": 171,
   "metadata": {},
   "outputs": [],
   "source": [
    "# датафрейм с кумулятивным количеством заказов и кумулятивной выручкой по дням в группе А\n",
    "cumulativeRevenueA = cumulativeData[cumulativeData['group']=='A'][['date','revenue', 'orders']]\n",
    "\n",
    "# датафрейм с кумулятивным количеством заказов и кумулятивной выручкой по дням в группе B\n",
    "cumulativeRevenueB = cumulativeData[cumulativeData['group']=='B'][['date','revenue', 'orders']]"
   ]
  },
  {
   "cell_type": "code",
   "execution_count": 201,
   "metadata": {},
   "outputs": [
    {
     "data": {
      "image/png": "[encoded data removed]",
      "text/plain": [
       "<Figure size 720x360 with 1 Axes>"
      ]
     },
     "metadata": {
      "needs_background": "light"
     },
     "output_type": "display_data"
    }
   ],
   "source": [
    "#Построим график кумулятивной выручки по группам\n",
    "plt.figure(figsize=(10, 5))\n",
    "plt.plot(cumulativeRevenueA['date'], cumulativeRevenueA['revenue'], label='A')\n",
    "plt.plot(cumulativeRevenueB['date'], cumulativeRevenueB['revenue'], label='B')\n",
    "plt.xticks(rotation=45)\n",
    "plt.title('Кумулятивная выручка по группам')\n",
    "plt.legend()\n",
    "plt.xlabel(\"date\")\n",
    "plt.ylabel(\"revenue\");"
   ]
  },
  {
   "cell_type": "markdown",
   "metadata": {},
   "source": [
    "Группа А растет постепенно, в группе В есть резкий рост после 17.08. Возможно, там были очень большие покупки"
   ]
  },
  {
   "cell_type": "markdown",
   "metadata": {},
   "source": [
    "**Построем график кумулятивного среднего чека по группам.**"
   ]
  },
  {
   "cell_type": "code",
   "execution_count": 202,
   "metadata": {},
   "outputs": [
    {
     "data": {
      "image/png": "[encoded data removed]",
      "text/plain": [
       "<Figure size 720x360 with 1 Axes>"
      ]
     },
     "metadata": {
      "needs_background": "light"
     },
     "output_type": "display_data"
    }
   ],
   "source": [
    "plt.figure(figsize=(10, 5))\n",
    "plt.plot(cumulativeRevenueA['date'], cumulativeRevenueA['revenue'] / cumulativeRevenueA['orders'], label='A')\n",
    "plt.plot(cumulativeRevenueB['date'], cumulativeRevenueB['revenue'] / cumulativeRevenueB['orders'], label='B')\n",
    "plt.xticks(rotation=45)\n",
    "plt.title('Кумулятивный средний чек по группам')\n",
    "plt.legend()\n",
    "plt.xlabel(\"date\")\n",
    "plt.ylabel(\"revenue\");"
   ]
  },
  {
   "cell_type": "markdown",
   "metadata": {},
   "source": [
    "Средний чек группы B подскакивает до 15.03 и после 01.04 это подтверждает большие заказы"
   ]
  },
  {
   "cell_type": "markdown",
   "metadata": {},
   "source": [
    "**Построем график относительного изменения кумулятивного среднего чека группы B к группе A.**"
   ]
  },
  {
   "cell_type": "code",
   "execution_count": 174,
   "metadata": {},
   "outputs": [
    {
     "data": {
      "text/plain": [
       "<matplotlib.lines.Line2D at 0x7f36fd2315e0>"
      ]
     },
     "execution_count": 174,
     "metadata": {},
     "output_type": "execute_result"
    },
    {
     "data": {
      "image/png": "[encoded data removed]",
      "text/plain": [
       "<Figure size 720x360 with 1 Axes>"
      ]
     },
     "metadata": {
      "needs_background": "light"
     },
     "output_type": "display_data"
    }
   ],
   "source": [
    "# собираем данные в одном датафрейме\n",
    "mergedCumulativeRevenue = cumulativeRevenueA.merge(cumulativeRevenueB, left_on='date', right_on='date', how='left', suffixes=['A', 'B'])\n",
    "\n",
    "# cтроим отношение средних чеков\n",
    "plt.figure(figsize=(10, 5))\n",
    "plt.plot(mergedCumulativeRevenue['date'], (mergedCumulativeRevenue['revenueB']/mergedCumulativeRevenue['ordersB'])/(mergedCumulativeRevenue['revenueA']/mergedCumulativeRevenue['ordersA'])-1)\n",
    "plt.title('Изменения относительного кумулятивного среднего чека')\n",
    "# добавляем ось X\n",
    "plt.axhline(y=0, color='black', linestyle='--') \n",
    ";\n",
    "\n"
   ]
  },
  {
   "cell_type": "markdown",
   "metadata": {},
   "source": [
    "В нескольких точках график различия между сегментами резко «скачет». Где-то точно спрятались крупные заказы."
   ]
  },
  {
   "cell_type": "markdown",
   "metadata": {},
   "source": [
    "**Построем график кумулятивного среднего количества заказов на посетителя по группам.**"
   ]
  },
  {
   "cell_type": "code",
   "execution_count": 203,
   "metadata": {},
   "outputs": [
    {
     "data": {
      "image/png": "[encoded data removed]",
      "text/plain": [
       "<Figure size 720x360 with 1 Axes>"
      ]
     },
     "metadata": {
      "needs_background": "light"
     },
     "output_type": "display_data"
    }
   ],
   "source": [
    "# считаем кумулятивную конверсию\n",
    "cumulativeData['conversion'] = cumulativeData['orders']/cumulativeData['visitors']\n",
    "\n",
    "# отделяем данные по группе A\n",
    "cumulativeDataA = cumulativeData[cumulativeData['group']=='A']\n",
    "\n",
    "# отделяем данные по группе B\n",
    "cumulativeDataB = cumulativeData[cumulativeData['group']=='B']\n",
    "\n",
    "plt.figure(figsize=(10, 5))\n",
    "plt.plot(cumulativeDataA['date'], cumulativeDataA['conversion'], label='A')\n",
    "plt.plot(cumulativeDataB['date'], cumulativeDataB['conversion'], label='B')\n",
    "plt.title('Кумулятивное среднего количества заказов на посетителя по группам')\n",
    "plt.axis(xmin=cumulativeDataA['date'].min(), xmax=cumulativeDataA['date'].max(), ymin=0.020, ymax=0.04)\n",
    "plt.legend()\n",
    "plt.xlabel(\"date\")\n",
    "plt.ylabel(\"conversion\");\n",
    "# задаем масштаб осей\n",
    "#plt.axis([\"2019-04-01\", '2019-04-23', 0, 0.015]) "
   ]
  },
  {
   "cell_type": "markdown",
   "metadata": {},
   "source": [
    "Hа первых этапах конверсия в обеих группах \"прыгала\", но потом выровнялась, и у группы В была значительно выше."
   ]
  },
  {
   "cell_type": "markdown",
   "metadata": {},
   "source": [
    "**Построем график относительного изменения кумулятивного среднего количества заказов на посетителя группы B к группе A.**"
   ]
  },
  {
   "cell_type": "code",
   "execution_count": 205,
   "metadata": {},
   "outputs": [
    {
     "data": {
      "image/png": "[encoded data removed]",
      "text/plain": [
       "<Figure size 720x360 with 1 Axes>"
      ]
     },
     "metadata": {
      "needs_background": "light"
     },
     "output_type": "display_data"
    }
   ],
   "source": [
    "mergedCumulativeConversions = cumulativeDataA[['date','conversion']].merge(cumulativeDataB[['date','conversion']], left_on='date', right_on='date', how='left', suffixes=['A', 'B'])\n",
    "plt.figure(figsize=(10, 5))\n",
    "plt.plot(mergedCumulativeConversions['date'], mergedCumulativeConversions['conversionB']/mergedCumulativeConversions['conversionA']-1)\n",
    "\n",
    "plt.title('Изменения кумулятивного среднего количества заказов на посетителя группы B к группе A')\n",
    "plt.axhline(y=0, color='black', linestyle='--')\n",
    "plt.axhline(y=-0.1, color='grey', linestyle='--')\n",
    "plt.axis(xmin=mergedCumulativeConversions['date'].min(), xmax=mergedCumulativeConversions['date'].max(), ymin=-0.30, ymax=0.5)\n",
    "plt.xlabel(\"date\")\n",
    "plt.ylabel(\"conversion\");\n"
   ]
  },
  {
   "cell_type": "markdown",
   "metadata": {},
   "source": [
    "В начале теста группа B значительно проигрывала группе A, затем вырвалась вперёд и постепенно растёт.\n",
    "В целом сейчас делать какие-либо выводы по тесту рано. Для начала проанализируем аномалии, например крупные заказы."
   ]
  },
  {
   "cell_type": "markdown",
   "metadata": {},
   "source": [
    "**Построем точечный график количества заказов по пользователям.**"
   ]
  },
  {
   "cell_type": "markdown",
   "metadata": {},
   "source": [
    "Изучим гистограмму распределения стоимостей заказов: "
   ]
  },
  {
   "cell_type": "code",
   "execution_count": 177,
   "metadata": {},
   "outputs": [
    {
     "data": {
      "text/html": [
       "<div>\n",
       "<style scoped>\n",
       "    .dataframe tbody tr th:only-of-type {\n",
       "        vertical-align: middle;\n",
       "    }\n",
       "\n",
       "    .dataframe tbody tr th {\n",
       "        vertical-align: top;\n",
       "    }\n",
       "\n",
       "    .dataframe thead th {\n",
       "        text-align: right;\n",
       "    }\n",
       "</style>\n",
       "<table border=\"1\" class=\"dataframe\">\n",
       "  <thead>\n",
       "    <tr style=\"text-align: right;\">\n",
       "      <th></th>\n",
       "      <th>visitorid</th>\n",
       "      <th>orders</th>\n",
       "    </tr>\n",
       "  </thead>\n",
       "  <tbody>\n",
       "    <tr>\n",
       "      <th>0</th>\n",
       "      <td>5114589</td>\n",
       "      <td>1</td>\n",
       "    </tr>\n",
       "    <tr>\n",
       "      <th>1</th>\n",
       "      <td>6958315</td>\n",
       "      <td>1</td>\n",
       "    </tr>\n",
       "    <tr>\n",
       "      <th>2</th>\n",
       "      <td>11685486</td>\n",
       "      <td>1</td>\n",
       "    </tr>\n",
       "    <tr>\n",
       "      <th>3</th>\n",
       "      <td>39475350</td>\n",
       "      <td>1</td>\n",
       "    </tr>\n",
       "    <tr>\n",
       "      <th>4</th>\n",
       "      <td>47206413</td>\n",
       "      <td>1</td>\n",
       "    </tr>\n",
       "    <tr>\n",
       "      <th>...</th>\n",
       "      <td>...</td>\n",
       "      <td>...</td>\n",
       "    </tr>\n",
       "    <tr>\n",
       "      <th>968</th>\n",
       "      <td>4259830713</td>\n",
       "      <td>1</td>\n",
       "    </tr>\n",
       "    <tr>\n",
       "      <th>969</th>\n",
       "      <td>4278982564</td>\n",
       "      <td>1</td>\n",
       "    </tr>\n",
       "    <tr>\n",
       "      <th>970</th>\n",
       "      <td>4279090005</td>\n",
       "      <td>1</td>\n",
       "    </tr>\n",
       "    <tr>\n",
       "      <th>971</th>\n",
       "      <td>4281247801</td>\n",
       "      <td>1</td>\n",
       "    </tr>\n",
       "    <tr>\n",
       "      <th>972</th>\n",
       "      <td>4283872382</td>\n",
       "      <td>1</td>\n",
       "    </tr>\n",
       "  </tbody>\n",
       "</table>\n",
       "<p>973 rows × 2 columns</p>\n",
       "</div>"
      ],
      "text/plain": [
       "      visitorid  orders\n",
       "0       5114589       1\n",
       "1       6958315       1\n",
       "2      11685486       1\n",
       "3      39475350       1\n",
       "4      47206413       1\n",
       "..          ...     ...\n",
       "968  4259830713       1\n",
       "969  4278982564       1\n",
       "970  4279090005       1\n",
       "971  4281247801       1\n",
       "972  4283872382       1\n",
       "\n",
       "[973 rows x 2 columns]"
      ]
     },
     "execution_count": 177,
     "metadata": {},
     "output_type": "execute_result"
    }
   ],
   "source": [
    "ordersByUsers =  orders.groupby('visitorid', as_index=False).agg({'transactionid':'nunique'})\\\n",
    "                         .rename(columns={'transactionid':'orders'})\n",
    "\n",
    "ordersByUsers\n"
   ]
  },
  {
   "cell_type": "markdown",
   "metadata": {},
   "source": [
    "Судя по значениям в orders в основном пользователи заказывали только один раз.\n"
   ]
  },
  {
   "cell_type": "code",
   "execution_count": 178,
   "metadata": {},
   "outputs": [
    {
     "data": {
      "image/png": "[encoded data removed]",
      "text/plain": [
       "<Figure size 432x288 with 1 Axes>"
      ]
     },
     "metadata": {
      "needs_background": "light"
     },
     "output_type": "display_data"
    }
   ],
   "source": [
    "x_values = pd.Series(range(0,len(ordersByUsers['orders'])))\n",
    "plt.scatter(x_values, ordersByUsers['orders'])\n",
    "plt.title('Точечный график количества заказов на пользователя')\n",
    "plt.show()\n",
    "\n",
    "                                                                                                 "
   ]
  },
  {
   "cell_type": "markdown",
   "metadata": {},
   "source": [
    "Большинство покупателей заказывали только один раз. Однако имеется доля пользователей с 2 и небольшая часть с тремя заказами."
   ]
  },
  {
   "cell_type": "markdown",
   "metadata": {},
   "source": [
    "**Посчитаем 95-й и 99-й перцентили количества заказов на пользователя. Выберим границу для определения аномальных пользователей**"
   ]
  },
  {
   "cell_type": "code",
   "execution_count": 179,
   "metadata": {},
   "outputs": [
    {
     "name": "stdout",
     "output_type": "stream",
     "text": [
      "1.0\n",
      "2.0\n"
     ]
    }
   ],
   "source": [
    "print(np.percentile(ordersByUsers['orders'], 95)) \n",
    "print(np.percentile(ordersByUsers['orders'], 99)) "
   ]
  },
  {
   "cell_type": "markdown",
   "metadata": {},
   "source": [
    "Не более 5% пользователей оформляли 1 заказ. И 1% пользователей заказывали 2 раза. "
   ]
  },
  {
   "cell_type": "code",
   "execution_count": 180,
   "metadata": {},
   "outputs": [],
   "source": [
    "#количество заказов больше 2х удалим, как анамалию \n",
    "outlaws_1p = ordersByUsers[ordersByUsers['orders'] > 2]['visitorid'].to_list()"
   ]
  },
  {
   "cell_type": "markdown",
   "metadata": {},
   "source": [
    "**Построем точечный график стоимостей заказов. Сделаем выводы и предположения.**"
   ]
  },
  {
   "cell_type": "code",
   "execution_count": 181,
   "metadata": {},
   "outputs": [
    {
     "data": {
      "image/png": "[encoded data removed]",
      "text/plain": [
       "<Figure size 432x288 with 1 Axes>"
      ]
     },
     "metadata": {
      "needs_background": "light"
     },
     "output_type": "display_data"
    }
   ],
   "source": [
    "x_values = pd.Series(range(0,len(orders['revenue'])))\n",
    "plt.scatter(x_values, orders['revenue'])\n",
    "plt.title('Точечный график стоимости заказов')\n",
    "plt.show()   \n"
   ]
  },
  {
   "cell_type": "markdown",
   "metadata": {},
   "source": [
    "На графике видно 2 выброса, они и повлияли на средний чек и выручку по группе В."
   ]
  },
  {
   "cell_type": "markdown",
   "metadata": {},
   "source": [
    "**Посчитаем 95-й и 99-й перцентили стоимости заказов. Выберем границу для определения аномальных заказов.**"
   ]
  },
  {
   "cell_type": "code",
   "execution_count": 182,
   "metadata": {},
   "outputs": [
    {
     "name": "stdout",
     "output_type": "stream",
     "text": [
      "26785.0\n",
      "53904.0\n"
     ]
    }
   ],
   "source": [
    "print(np.percentile(orders['revenue'], 95)) \n",
    "print(np.percentile(orders['revenue'], 99)) "
   ]
  },
  {
   "cell_type": "markdown",
   "metadata": {},
   "source": [
    "Меньше 5 % заказов дороже 26785 и меньше 1 % дороже 53904. Удалим аномалии дороже 53904"
   ]
  },
  {
   "cell_type": "code",
   "execution_count": 198,
   "metadata": {},
   "outputs": [],
   "source": [
    "orders_clear = orders.query('revenue <= 53904')\n"
   ]
  },
  {
   "cell_type": "markdown",
   "metadata": {},
   "source": [
    "**Посчитаем статистическую значимость различий в среднем количестве заказов на посетителя между группами по «сырым» данным.**"
   ]
  },
  {
   "cell_type": "code",
   "execution_count": 184,
   "metadata": {},
   "outputs": [],
   "source": [
    "# таблицы с данными по заказам на каждого пользователя\n",
    "ordersByUsersA = orders[orders['group']=='A'].groupby('visitorid')['transactionid'].nunique().reset_index()\n",
    "ordersByUsersA.columns=['visitorid','orders']\n",
    "\n",
    "ordersByUsersB = orders[orders['group']=='B'].groupby('visitorid')['transactionid'].nunique().reset_index()\n",
    "ordersByUsersB.columns=['visitorid','orders']"
   ]
  },
  {
   "cell_type": "markdown",
   "metadata": {},
   "source": [
    "**Посчитаем пользователей из разных групп и соответствие количества заказов. Тем, кто ничего не заказал, будут соответствовать нули**"
   ]
  },
  {
   "cell_type": "code",
   "execution_count": 185,
   "metadata": {},
   "outputs": [],
   "source": [
    "#посчисчитаем пользователей не совершавшие заказ\n",
    "freeloadersA = pd.Series(0, index=np.arange(visitors[visitors['group']=='A']['visitors'].sum() - len(ordersByUsersA['orders'])), name='orders')\n",
    "freeloadersB = pd.Series(0, index=np.arange(visitors[visitors['group']=='B']['visitors'].sum() - len(ordersByUsersB['orders'])), name='orders')\n"
   ]
  },
  {
   "cell_type": "code",
   "execution_count": 186,
   "metadata": {},
   "outputs": [],
   "source": [
    "# создаем выборки с сырыми данными для стат тестов\n",
    "sampleA = pd.concat([ordersByUsersA['orders'], freeloadersA])\n",
    "sampleB = pd.concat([ordersByUsersB['orders'], freeloadersB])"
   ]
  },
  {
   "cell_type": "markdown",
   "metadata": {},
   "source": [
    "**Посмотрим на значение средний конверсий.\n",
    "        - H0 - конверсия группы А = конверсии группы В\n",
    "        - H1 - конверсии групп не равны\n",
    "        Уровень значимости alpha = .05**"
   ]
  },
  {
   "cell_type": "code",
   "execution_count": 187,
   "metadata": {},
   "outputs": [
    {
     "name": "stdout",
     "output_type": "stream",
     "text": [
      "p_value: 0.011\n",
      "Средняя конверсия группы А: 2.5%\n",
      "Средняя конверсия группы B: 2.9%\n"
     ]
    }
   ],
   "source": [
    "print('p_value: {:.3f}'.format(st.mannwhitneyu(sampleA, sampleB)[1]))\n",
    "print('Средняя конверсия группы А: {:.1%}'.format(sampleA.mean()))\n",
    "print('Средняя конверсия группы B: {:.1%}'.format(sampleB.mean()))"
   ]
  },
  {
   "cell_type": "markdown",
   "metadata": {},
   "source": [
    "Так как p_value меньше заданного значения alpha, то мы отвергаем гипотизу H0."
   ]
  },
  {
   "cell_type": "markdown",
   "metadata": {},
   "source": [
    "**Посчитаем статистическую значимость различий в среднем чеке заказа между группами по «сырым» данным.**"
   ]
  },
  {
   "cell_type": "markdown",
   "metadata": {},
   "source": [
    "H0 - средний чек группы А = чеку группы В \n",
    "H1 - средний чек групп не равен\n",
    "Уровень значимости alpha = .05 "
   ]
  },
  {
   "cell_type": "code",
   "execution_count": 188,
   "metadata": {},
   "outputs": [
    {
     "name": "stdout",
     "output_type": "stream",
     "text": [
      "p_value: 0.829\n",
      "Средний чек группы А: 7189.44\n",
      "Средний чек группы B: 9249.95\n"
     ]
    }
   ],
   "source": [
    "print('p_value: {:.3f}'.format(\n",
    "    st.mannwhitneyu(orders[orders['group']=='A']['revenue'], orders[orders['group']=='B']['revenue'])[1]\n",
    "))\n",
    "print('Средний чек группы А: {:.2f}'.format(orders[orders['group']=='A']['revenue'].mean()))\n",
    "print('Средний чек группы B: {:.2f}'.format(orders[orders['group']=='B']['revenue'].mean()))"
   ]
  },
  {
   "cell_type": "markdown",
   "metadata": {},
   "source": [
    "Отвергать гупотезу H0 (средний чек группы А = чеку группы В) не будем, так как p_value больше значения alpha. хотя и разница в средних чеках не большая, различие не статистически значимо"
   ]
  },
  {
   "cell_type": "markdown",
   "metadata": {},
   "source": [
    "**Посчитаем статистическую значимость различий в среднем количестве заказов на посетителя между группами по «очищенным» данным.**"
   ]
  },
  {
   "cell_type": "code",
   "execution_count": 189,
   "metadata": {},
   "outputs": [],
   "source": [
    "# Зачистим данные\n",
    "ordersByUsers_clear = orders[~orders['visitorid'].isin(outlaws_1p)]\n"
   ]
  },
  {
   "cell_type": "code",
   "execution_count": 190,
   "metadata": {},
   "outputs": [],
   "source": [
    "# очищенные таблицы с данными по заказам на каждого пользователя\n",
    "ordersByUsersA_clear = ordersByUsers_clear[ordersByUsers_clear['group']=='A'].groupby('visitorid')['transactionid'].nunique().reset_index()\n",
    "ordersByUsersA_clear.columns=['visitorid','orders']\n",
    "\n",
    "ordersByUsersB_clear = ordersByUsers_clear[ordersByUsers_clear['group']=='B'].groupby('visitorid')['transactionid'].nunique().reset_index()\n",
    "ordersByUsersB_clear.columns=['visitorid','orders']\n"
   ]
  },
  {
   "cell_type": "code",
   "execution_count": 191,
   "metadata": {},
   "outputs": [],
   "source": [
    "#посчитаем пользователей не совершавшие заказ\n",
    "freeloadersA_clear = pd.Series(0, index=np.arange(visitors[visitors['group']=='A']['visitors'].sum() - len(ordersByUsersA_clear['orders'])), name='orders')\n",
    "freeloadersB_clear = pd.Series(0, index=np.arange(visitors[visitors['group']=='B']['visitors'].sum() - len(ordersByUsersB_clear['orders'])), name='orders')\n",
    "\n"
   ]
  },
  {
   "cell_type": "code",
   "execution_count": 192,
   "metadata": {},
   "outputs": [],
   "source": [
    "# создаем выборки с сырыми данными для стат тестов\n",
    "sampleA_clear = pd.concat([ordersByUsersA_clear['orders'], freeloadersA])\n",
    "sampleB_clear = pd.concat([ordersByUsersB_clear['orders'], freeloadersB])\n"
   ]
  },
  {
   "cell_type": "code",
   "execution_count": 193,
   "metadata": {},
   "outputs": [
    {
     "name": "stdout",
     "output_type": "stream",
     "text": [
      "p_value: 0.008\n",
      "Средняя конверсия (очищенная) группы А: 2.4%\n",
      "Средняя конверсия (очищенная) группы B: 2.9%\n"
     ]
    }
   ],
   "source": [
    "print('p_value: {:.3f}'.format(st.mannwhitneyu(sampleA_clear, sampleB_clear)[1]))\n",
    "print('Средняя конверсия (очищенная) группы А: {:.1%}'.format(sampleA_clear.mean()))\n",
    "print('Средняя конверсия (очищенная) группы B: {:.1%}'.format(sampleB_clear.mean()))\n"
   ]
  },
  {
   "cell_type": "markdown",
   "metadata": {},
   "source": [
    "Отвергаем H0 (средний чек группы А = чеку группы). Очищенные данные показали почти такую же конверсию."
   ]
  },
  {
   "cell_type": "markdown",
   "metadata": {},
   "source": [
    "**Посчитаем статистическую значимость различий в среднем чеке заказа между группами по «очищенным» данным.**"
   ]
  },
  {
   "cell_type": "code",
   "execution_count": 199,
   "metadata": {},
   "outputs": [
    {
     "name": "stdout",
     "output_type": "stream",
     "text": [
      "p_value: 0.901\n",
      "Средний чек (очищенный) группы А: 6504.55\n",
      "Средний чек (очищенный) группы B: 6298.83\n"
     ]
    }
   ],
   "source": [
    "\n",
    "print('p_value: {:.3f}'.format(st.mannwhitneyu(orders_clear[orders_clean['group']=='A']['revenue'], orders_clean[orders_clear['group']=='B']['revenue'])[1]\n",
    "))\n",
    "print('Средний чек (очищенный) группы А: {:.2f}'.format(orders_clean[orders_clean['group']=='A']['revenue'].mean()))\n",
    "print('Средний чек (очищенный) группы B: {:.2f}'.format(orders_clean[orders_clean['group']=='B']['revenue'].mean()))\n"
   ]
  },
  {
   "cell_type": "markdown",
   "metadata": {},
   "source": [
    "Такая же ситуация с тестом и по среднему чеку, H0 (средний чек группы А = чеку группы В) не отвергаем. Но больше нет сильной разницы между группа А и В по среднему чеку."
   ]
  },
  {
   "cell_type": "markdown",
   "metadata": {},
   "source": [
    "### Вывод:\n",
    "По результатам анализа чистых данных, было выявлено конверсия в группе В выше, средний чек у группы В немного меньше.\n",
    "Думаю, что нужно продолжить тест, пока графики не зафиксируются и мы соберем больше наблюдений. Но шансы победить у группы B есть."
   ]
  }
 ],
 "metadata": {
  "ExecuteTimeLog": [
   {
    "duration": 979,
    "start_time": "2022-12-05T19:42:17.595Z"
   },
   {
    "duration": 28,
    "start_time": "2022-12-05T19:42:20.051Z"
   },
   {
    "duration": 15,
    "start_time": "2022-12-05T19:42:42.458Z"
   },
   {
    "duration": 78,
    "start_time": "2022-12-05T19:53:33.560Z"
   },
   {
    "duration": 1112,
    "start_time": "2022-12-05T19:53:50.903Z"
   },
   {
    "duration": 15,
    "start_time": "2022-12-05T19:56:49.573Z"
   },
   {
    "duration": 13,
    "start_time": "2022-12-05T19:56:53.582Z"
   },
   {
    "duration": 12,
    "start_time": "2022-12-05T19:57:45.535Z"
   },
   {
    "duration": 9,
    "start_time": "2022-12-05T19:59:01.622Z"
   },
   {
    "duration": 10,
    "start_time": "2022-12-05T19:59:13.981Z"
   },
   {
    "duration": 926,
    "start_time": "2022-12-07T10:57:13.105Z"
   },
   {
    "duration": 16,
    "start_time": "2022-12-07T10:57:14.033Z"
   },
   {
    "duration": 3,
    "start_time": "2022-12-07T10:57:20.593Z"
   },
   {
    "duration": 8,
    "start_time": "2022-12-07T10:57:23.344Z"
   },
   {
    "duration": 3,
    "start_time": "2022-12-07T10:58:17.200Z"
   },
   {
    "duration": 27,
    "start_time": "2022-12-07T10:58:19.360Z"
   },
   {
    "duration": 4,
    "start_time": "2022-12-07T10:58:21.688Z"
   },
   {
    "duration": 9,
    "start_time": "2022-12-07T10:58:23.584Z"
   },
   {
    "duration": 23,
    "start_time": "2022-12-07T10:58:34.214Z"
   },
   {
    "duration": 755,
    "start_time": "2022-12-07T10:59:19.185Z"
   },
   {
    "duration": 9,
    "start_time": "2022-12-07T10:59:28.375Z"
   },
   {
    "duration": 3,
    "start_time": "2022-12-07T11:03:29.518Z"
   },
   {
    "duration": 13,
    "start_time": "2022-12-07T11:03:37.974Z"
   },
   {
    "duration": 28,
    "start_time": "2022-12-07T11:04:04.539Z"
   },
   {
    "duration": 3,
    "start_time": "2022-12-07T11:04:05.069Z"
   },
   {
    "duration": 9,
    "start_time": "2022-12-07T11:04:05.619Z"
   },
   {
    "duration": 9,
    "start_time": "2022-12-07T11:04:08.534Z"
   },
   {
    "duration": 9,
    "start_time": "2022-12-07T11:04:21.947Z"
   },
   {
    "duration": 11,
    "start_time": "2022-12-07T11:08:21.768Z"
   },
   {
    "duration": 402,
    "start_time": "2022-12-07T11:09:28.178Z"
   },
   {
    "duration": 29,
    "start_time": "2022-12-07T11:09:32.895Z"
   },
   {
    "duration": 3,
    "start_time": "2022-12-07T11:09:33.609Z"
   },
   {
    "duration": 9,
    "start_time": "2022-12-07T11:09:34.273Z"
   },
   {
    "duration": 75,
    "start_time": "2022-12-07T11:09:37.919Z"
   },
   {
    "duration": 10,
    "start_time": "2022-12-07T11:09:46.152Z"
   },
   {
    "duration": 846,
    "start_time": "2022-12-07T11:10:16.761Z"
   },
   {
    "duration": 706,
    "start_time": "2022-12-07T11:16:41.431Z"
   },
   {
    "duration": 57,
    "start_time": "2022-12-07T11:18:21.220Z"
   },
   {
    "duration": 259,
    "start_time": "2022-12-07T11:18:50.493Z"
   },
   {
    "duration": 237,
    "start_time": "2022-12-07T11:19:28.588Z"
   },
   {
    "duration": 217,
    "start_time": "2022-12-07T11:20:10.564Z"
   },
   {
    "duration": 3,
    "start_time": "2022-12-07T11:23:39.291Z"
   },
   {
    "duration": 27,
    "start_time": "2022-12-07T11:23:41.244Z"
   },
   {
    "duration": 3,
    "start_time": "2022-12-07T11:23:41.786Z"
   },
   {
    "duration": 698,
    "start_time": "2022-12-07T11:23:42.274Z"
   },
   {
    "duration": 11,
    "start_time": "2022-12-07T11:23:57.378Z"
   },
   {
    "duration": 11,
    "start_time": "2022-12-07T11:24:07.756Z"
   },
   {
    "duration": 115,
    "start_time": "2022-12-07T11:25:34.273Z"
   },
   {
    "duration": 60,
    "start_time": "2022-12-07T11:25:45.946Z"
   },
   {
    "duration": 8,
    "start_time": "2022-12-07T11:26:11.682Z"
   },
   {
    "duration": 11,
    "start_time": "2022-12-07T11:26:21.705Z"
   },
   {
    "duration": 9,
    "start_time": "2022-12-07T11:26:33.889Z"
   },
   {
    "duration": 8,
    "start_time": "2022-12-07T11:26:37.986Z"
   },
   {
    "duration": 120,
    "start_time": "2022-12-07T11:29:12.041Z"
   },
   {
    "duration": 3,
    "start_time": "2022-12-07T11:29:50.952Z"
   },
   {
    "duration": 10,
    "start_time": "2022-12-07T11:29:54.977Z"
   },
   {
    "duration": 10,
    "start_time": "2022-12-07T11:30:55.697Z"
   },
   {
    "duration": 9,
    "start_time": "2022-12-07T11:31:16.784Z"
   },
   {
    "duration": 11,
    "start_time": "2022-12-07T11:31:19.199Z"
   },
   {
    "duration": 9,
    "start_time": "2022-12-07T11:31:21.977Z"
   },
   {
    "duration": 935,
    "start_time": "2022-12-07T11:31:57.337Z"
   },
   {
    "duration": 9,
    "start_time": "2022-12-07T11:32:15.169Z"
   },
   {
    "duration": 9,
    "start_time": "2022-12-07T11:32:33.536Z"
   },
   {
    "duration": 3,
    "start_time": "2022-12-07T11:32:43.384Z"
   },
   {
    "duration": 74,
    "start_time": "2022-12-07T11:32:44.294Z"
   },
   {
    "duration": 5,
    "start_time": "2022-12-07T11:32:46.095Z"
   },
   {
    "duration": 11,
    "start_time": "2022-12-07T11:32:47.616Z"
   },
   {
    "duration": 9,
    "start_time": "2022-12-07T11:32:55.360Z"
   },
   {
    "duration": 11,
    "start_time": "2022-12-07T11:32:59.808Z"
   },
   {
    "duration": 12,
    "start_time": "2022-12-07T11:33:03.912Z"
   },
   {
    "duration": 9,
    "start_time": "2022-12-07T11:33:06.712Z"
   },
   {
    "duration": 12,
    "start_time": "2022-12-07T11:33:23.744Z"
   },
   {
    "duration": 16,
    "start_time": "2022-12-07T11:33:38.328Z"
   },
   {
    "duration": 6,
    "start_time": "2022-12-07T11:34:23.016Z"
   },
   {
    "duration": 10,
    "start_time": "2022-12-07T11:34:26.551Z"
   },
   {
    "duration": 11,
    "start_time": "2022-12-07T11:34:44.722Z"
   },
   {
    "duration": 14,
    "start_time": "2022-12-07T11:35:00.456Z"
   },
   {
    "duration": 14,
    "start_time": "2022-12-07T11:35:19.032Z"
   },
   {
    "duration": 3,
    "start_time": "2022-12-07T11:36:18.694Z"
   },
   {
    "duration": 76,
    "start_time": "2022-12-07T11:37:10.981Z"
   },
   {
    "duration": 4,
    "start_time": "2022-12-07T11:37:11.702Z"
   },
   {
    "duration": 13,
    "start_time": "2022-12-07T11:37:12.357Z"
   },
   {
    "duration": 13,
    "start_time": "2022-12-07T11:37:53.108Z"
   },
   {
    "duration": 3,
    "start_time": "2022-12-07T11:38:02.957Z"
   },
   {
    "duration": 74,
    "start_time": "2022-12-07T11:38:03.453Z"
   },
   {
    "duration": 4,
    "start_time": "2022-12-07T11:38:03.861Z"
   },
   {
    "duration": 12,
    "start_time": "2022-12-07T11:38:05.485Z"
   },
   {
    "duration": 13,
    "start_time": "2022-12-07T11:38:07.125Z"
   },
   {
    "duration": 10,
    "start_time": "2022-12-07T11:38:09.973Z"
   },
   {
    "duration": 8,
    "start_time": "2022-12-07T11:38:10.606Z"
   },
   {
    "duration": 8,
    "start_time": "2022-12-07T11:38:13.576Z"
   },
   {
    "duration": 10,
    "start_time": "2022-12-07T11:38:15.873Z"
   },
   {
    "duration": 10,
    "start_time": "2022-12-07T11:38:17.406Z"
   },
   {
    "duration": 527,
    "start_time": "2022-12-07T11:38:47.469Z"
   },
   {
    "duration": 700,
    "start_time": "2022-12-07T11:39:11.077Z"
   },
   {
    "duration": 652,
    "start_time": "2022-12-07T11:40:43.285Z"
   },
   {
    "duration": 870,
    "start_time": "2022-12-07T18:23:22.226Z"
   },
   {
    "duration": 231,
    "start_time": "2022-12-07T18:23:23.098Z"
   },
   {
    "duration": 7,
    "start_time": "2022-12-07T18:23:23.439Z"
   },
   {
    "duration": 15,
    "start_time": "2022-12-07T18:23:24.024Z"
   },
   {
    "duration": 13,
    "start_time": "2022-12-07T18:23:24.818Z"
   },
   {
    "duration": 11,
    "start_time": "2022-12-07T18:23:27.267Z"
   },
   {
    "duration": 8,
    "start_time": "2022-12-07T18:23:27.464Z"
   },
   {
    "duration": 7,
    "start_time": "2022-12-07T18:23:30.079Z"
   },
   {
    "duration": 14,
    "start_time": "2022-12-07T18:23:32.031Z"
   },
   {
    "duration": 15,
    "start_time": "2022-12-07T18:23:37.930Z"
   },
   {
    "duration": 10,
    "start_time": "2022-12-07T18:23:43.633Z"
   },
   {
    "duration": 8,
    "start_time": "2022-12-07T18:23:46.416Z"
   },
   {
    "duration": 18,
    "start_time": "2022-12-07T18:23:51.935Z"
   },
   {
    "duration": 993,
    "start_time": "2022-12-07T18:23:55.024Z"
   },
   {
    "duration": 377,
    "start_time": "2022-12-07T18:28:33.334Z"
   },
   {
    "duration": 6,
    "start_time": "2022-12-07T18:30:24.478Z"
   },
   {
    "duration": 5,
    "start_time": "2022-12-07T18:31:09.918Z"
   },
   {
    "duration": 7,
    "start_time": "2022-12-07T18:31:19.270Z"
   },
   {
    "duration": 361,
    "start_time": "2022-12-07T18:31:48.955Z"
   },
   {
    "duration": 262,
    "start_time": "2022-12-07T18:32:02.191Z"
   },
   {
    "duration": 262,
    "start_time": "2022-12-07T18:32:37.439Z"
   },
   {
    "duration": 235,
    "start_time": "2022-12-07T18:32:40.086Z"
   },
   {
    "duration": 453,
    "start_time": "2022-12-07T18:33:36.286Z"
   },
   {
    "duration": 476,
    "start_time": "2022-12-07T18:34:38.606Z"
   },
   {
    "duration": 9,
    "start_time": "2022-12-07T18:35:40.371Z"
   },
   {
    "duration": 220,
    "start_time": "2022-12-07T18:54:09.884Z"
   },
   {
    "duration": 6,
    "start_time": "2022-12-07T18:59:44.197Z"
   },
   {
    "duration": 195,
    "start_time": "2022-12-07T19:00:08.688Z"
   },
   {
    "duration": 14,
    "start_time": "2022-12-07T19:01:09.082Z"
   },
   {
    "duration": 14,
    "start_time": "2022-12-07T19:03:01.329Z"
   },
   {
    "duration": 14,
    "start_time": "2022-12-07T19:03:34.568Z"
   },
   {
    "duration": 13,
    "start_time": "2022-12-07T19:04:53.224Z"
   },
   {
    "duration": 227,
    "start_time": "2022-12-07T19:05:13.046Z"
   },
   {
    "duration": 7,
    "start_time": "2022-12-07T19:05:17.711Z"
   },
   {
    "duration": 188,
    "start_time": "2022-12-07T19:05:21.175Z"
   },
   {
    "duration": 106,
    "start_time": "2022-12-07T19:14:58.101Z"
   },
   {
    "duration": 128,
    "start_time": "2022-12-07T19:15:40.560Z"
   },
   {
    "duration": 15,
    "start_time": "2022-12-07T19:21:22.668Z"
   },
   {
    "duration": 1665,
    "start_time": "2022-12-07T19:22:15.930Z"
   },
   {
    "duration": 1651,
    "start_time": "2022-12-07T19:22:38.453Z"
   },
   {
    "duration": 1621,
    "start_time": "2022-12-07T19:24:09.693Z"
   },
   {
    "duration": 1617,
    "start_time": "2022-12-07T19:24:54.924Z"
   },
   {
    "duration": 3,
    "start_time": "2022-12-07T19:25:07.709Z"
   },
   {
    "duration": 71,
    "start_time": "2022-12-07T19:25:08.152Z"
   },
   {
    "duration": 4,
    "start_time": "2022-12-07T19:25:08.561Z"
   },
   {
    "duration": 15,
    "start_time": "2022-12-07T19:25:08.906Z"
   },
   {
    "duration": 12,
    "start_time": "2022-12-07T19:25:09.489Z"
   },
   {
    "duration": 10,
    "start_time": "2022-12-07T19:25:09.834Z"
   },
   {
    "duration": 7,
    "start_time": "2022-12-07T19:25:10.025Z"
   },
   {
    "duration": 7,
    "start_time": "2022-12-07T19:25:10.242Z"
   },
   {
    "duration": 9,
    "start_time": "2022-12-07T19:25:13.689Z"
   },
   {
    "duration": 9,
    "start_time": "2022-12-07T19:25:14.314Z"
   },
   {
    "duration": 14,
    "start_time": "2022-12-07T19:25:16.052Z"
   },
   {
    "duration": 5,
    "start_time": "2022-12-07T19:25:18.579Z"
   },
   {
    "duration": 5,
    "start_time": "2022-12-07T19:25:35.297Z"
   },
   {
    "duration": 3,
    "start_time": "2022-12-07T19:25:43.365Z"
   },
   {
    "duration": 73,
    "start_time": "2022-12-07T19:25:43.371Z"
   },
   {
    "duration": 3,
    "start_time": "2022-12-07T19:25:43.446Z"
   },
   {
    "duration": 13,
    "start_time": "2022-12-07T19:25:43.450Z"
   },
   {
    "duration": 11,
    "start_time": "2022-12-07T19:25:43.465Z"
   },
   {
    "duration": 8,
    "start_time": "2022-12-07T19:25:43.477Z"
   },
   {
    "duration": 9,
    "start_time": "2022-12-07T19:25:43.486Z"
   },
   {
    "duration": 9,
    "start_time": "2022-12-07T19:25:43.497Z"
   },
   {
    "duration": 36,
    "start_time": "2022-12-07T19:25:43.507Z"
   },
   {
    "duration": 12,
    "start_time": "2022-12-07T19:25:43.545Z"
   },
   {
    "duration": 15,
    "start_time": "2022-12-07T19:25:43.558Z"
   },
   {
    "duration": 6,
    "start_time": "2022-12-07T19:25:43.574Z"
   },
   {
    "duration": 167,
    "start_time": "2022-12-07T19:25:43.581Z"
   },
   {
    "duration": 221,
    "start_time": "2022-12-07T19:25:43.750Z"
   },
   {
    "duration": 221,
    "start_time": "2022-12-07T19:25:43.972Z"
   },
   {
    "duration": 212,
    "start_time": "2022-12-07T19:25:54.364Z"
   },
   {
    "duration": 1835,
    "start_time": "2022-12-07T19:26:54.217Z"
   },
   {
    "duration": 5,
    "start_time": "2022-12-07T19:27:06.507Z"
   },
   {
    "duration": 7,
    "start_time": "2022-12-07T19:29:43.352Z"
   },
   {
    "duration": 7,
    "start_time": "2022-12-07T19:31:01.711Z"
   },
   {
    "duration": 8,
    "start_time": "2022-12-07T19:33:42.526Z"
   },
   {
    "duration": 3,
    "start_time": "2022-12-07T19:34:05.369Z"
   },
   {
    "duration": 75,
    "start_time": "2022-12-07T19:34:05.374Z"
   },
   {
    "duration": 4,
    "start_time": "2022-12-07T19:34:05.451Z"
   },
   {
    "duration": 13,
    "start_time": "2022-12-07T19:34:05.457Z"
   },
   {
    "duration": 13,
    "start_time": "2022-12-07T19:34:05.472Z"
   },
   {
    "duration": 11,
    "start_time": "2022-12-07T19:34:05.486Z"
   },
   {
    "duration": 10,
    "start_time": "2022-12-07T19:34:05.499Z"
   },
   {
    "duration": 8,
    "start_time": "2022-12-07T19:34:05.510Z"
   },
   {
    "duration": 25,
    "start_time": "2022-12-07T19:34:05.520Z"
   },
   {
    "duration": 9,
    "start_time": "2022-12-07T19:34:05.547Z"
   },
   {
    "duration": 12,
    "start_time": "2022-12-07T19:34:05.558Z"
   },
   {
    "duration": 7,
    "start_time": "2022-12-07T19:34:05.572Z"
   },
   {
    "duration": 11,
    "start_time": "2022-12-07T19:34:05.582Z"
   },
   {
    "duration": 7,
    "start_time": "2022-12-07T19:34:05.594Z"
   },
   {
    "duration": 185,
    "start_time": "2022-12-07T19:34:05.602Z"
   },
   {
    "duration": 230,
    "start_time": "2022-12-07T19:34:05.789Z"
   },
   {
    "duration": 7,
    "start_time": "2022-12-07T19:34:43.008Z"
   },
   {
    "duration": 7,
    "start_time": "2022-12-07T19:34:53.225Z"
   },
   {
    "duration": 1737,
    "start_time": "2022-12-07T19:39:51.652Z"
   },
   {
    "duration": 9,
    "start_time": "2022-12-07T19:40:35.020Z"
   },
   {
    "duration": 1756,
    "start_time": "2022-12-07T19:40:56.365Z"
   },
   {
    "duration": 173,
    "start_time": "2022-12-07T19:42:16.110Z"
   },
   {
    "duration": 147,
    "start_time": "2022-12-07T19:42:31.491Z"
   },
   {
    "duration": 212,
    "start_time": "2022-12-07T19:42:35.111Z"
   },
   {
    "duration": 1661,
    "start_time": "2022-12-07T19:42:39.415Z"
   },
   {
    "duration": 1695,
    "start_time": "2022-12-07T19:42:44.512Z"
   },
   {
    "duration": 11,
    "start_time": "2022-12-07T19:44:45.826Z"
   },
   {
    "duration": 208,
    "start_time": "2022-12-07T19:45:42.640Z"
   },
   {
    "duration": 13,
    "start_time": "2022-12-07T19:47:07.875Z"
   },
   {
    "duration": 201,
    "start_time": "2022-12-07T19:47:13.591Z"
   },
   {
    "duration": 1672,
    "start_time": "2022-12-07T19:47:17.742Z"
   },
   {
    "duration": 4,
    "start_time": "2022-12-07T19:47:47.681Z"
   },
   {
    "duration": 76,
    "start_time": "2022-12-07T19:47:47.687Z"
   },
   {
    "duration": 5,
    "start_time": "2022-12-07T19:47:47.765Z"
   },
   {
    "duration": 18,
    "start_time": "2022-12-07T19:47:47.773Z"
   },
   {
    "duration": 17,
    "start_time": "2022-12-07T19:47:47.793Z"
   },
   {
    "duration": 12,
    "start_time": "2022-12-07T19:47:47.812Z"
   },
   {
    "duration": 11,
    "start_time": "2022-12-07T19:47:47.826Z"
   },
   {
    "duration": 12,
    "start_time": "2022-12-07T19:47:47.839Z"
   },
   {
    "duration": 10,
    "start_time": "2022-12-07T19:47:47.854Z"
   },
   {
    "duration": 12,
    "start_time": "2022-12-07T19:47:47.866Z"
   },
   {
    "duration": 15,
    "start_time": "2022-12-07T19:47:47.880Z"
   },
   {
    "duration": 4,
    "start_time": "2022-12-07T19:47:47.897Z"
   },
   {
    "duration": 39,
    "start_time": "2022-12-07T19:47:47.903Z"
   },
   {
    "duration": 10,
    "start_time": "2022-12-07T19:47:47.944Z"
   },
   {
    "duration": 195,
    "start_time": "2022-12-07T19:47:47.955Z"
   },
   {
    "duration": 158,
    "start_time": "2022-12-07T19:47:48.152Z"
   },
   {
    "duration": 12,
    "start_time": "2022-12-07T19:47:48.311Z"
   },
   {
    "duration": 231,
    "start_time": "2022-12-07T19:47:48.324Z"
   },
   {
    "duration": 1671,
    "start_time": "2022-12-07T19:47:48.557Z"
   },
   {
    "duration": 0,
    "start_time": "2022-12-07T19:47:50.229Z"
   },
   {
    "duration": 195,
    "start_time": "2022-12-07T19:47:55.594Z"
   },
   {
    "duration": 1674,
    "start_time": "2022-12-07T19:48:11.173Z"
   },
   {
    "duration": 221,
    "start_time": "2022-12-07T19:48:23.904Z"
   },
   {
    "duration": 1652,
    "start_time": "2022-12-07T19:49:10.622Z"
   },
   {
    "duration": 152,
    "start_time": "2022-12-07T19:50:24.334Z"
   },
   {
    "duration": 27,
    "start_time": "2022-12-07T19:54:12.574Z"
   },
   {
    "duration": 4,
    "start_time": "2022-12-07T19:54:18.504Z"
   },
   {
    "duration": 78,
    "start_time": "2022-12-07T19:54:18.510Z"
   },
   {
    "duration": 4,
    "start_time": "2022-12-07T19:54:18.590Z"
   },
   {
    "duration": 15,
    "start_time": "2022-12-07T19:54:18.596Z"
   },
   {
    "duration": 15,
    "start_time": "2022-12-07T19:54:18.612Z"
   },
   {
    "duration": 14,
    "start_time": "2022-12-07T19:54:18.629Z"
   },
   {
    "duration": 8,
    "start_time": "2022-12-07T19:54:18.645Z"
   },
   {
    "duration": 11,
    "start_time": "2022-12-07T19:54:18.655Z"
   },
   {
    "duration": 10,
    "start_time": "2022-12-07T19:54:18.669Z"
   },
   {
    "duration": 9,
    "start_time": "2022-12-07T19:54:18.681Z"
   },
   {
    "duration": 13,
    "start_time": "2022-12-07T19:54:18.692Z"
   },
   {
    "duration": 30,
    "start_time": "2022-12-07T19:54:18.707Z"
   },
   {
    "duration": 7,
    "start_time": "2022-12-07T19:54:18.739Z"
   },
   {
    "duration": 8,
    "start_time": "2022-12-07T19:54:18.747Z"
   },
   {
    "duration": 25,
    "start_time": "2022-12-07T19:54:18.757Z"
   },
   {
    "duration": 0,
    "start_time": "2022-12-07T19:54:18.784Z"
   },
   {
    "duration": 0,
    "start_time": "2022-12-07T19:54:18.785Z"
   },
   {
    "duration": 0,
    "start_time": "2022-12-07T19:54:18.786Z"
   },
   {
    "duration": 0,
    "start_time": "2022-12-07T19:54:18.787Z"
   },
   {
    "duration": 0,
    "start_time": "2022-12-07T19:54:18.788Z"
   },
   {
    "duration": 25,
    "start_time": "2022-12-07T19:54:26.574Z"
   },
   {
    "duration": 27,
    "start_time": "2022-12-07T19:54:55.131Z"
   },
   {
    "duration": 28,
    "start_time": "2022-12-07T19:55:40.174Z"
   },
   {
    "duration": 6,
    "start_time": "2022-12-07T19:55:47.236Z"
   },
   {
    "duration": 22,
    "start_time": "2022-12-07T19:56:01.355Z"
   },
   {
    "duration": 4,
    "start_time": "2022-12-07T19:56:37.727Z"
   },
   {
    "duration": 77,
    "start_time": "2022-12-07T19:56:37.733Z"
   },
   {
    "duration": 4,
    "start_time": "2022-12-07T19:56:37.812Z"
   },
   {
    "duration": 17,
    "start_time": "2022-12-07T19:56:37.818Z"
   },
   {
    "duration": 15,
    "start_time": "2022-12-07T19:56:37.838Z"
   },
   {
    "duration": 11,
    "start_time": "2022-12-07T19:56:37.855Z"
   },
   {
    "duration": 11,
    "start_time": "2022-12-07T19:56:37.868Z"
   },
   {
    "duration": 11,
    "start_time": "2022-12-07T19:56:37.881Z"
   },
   {
    "duration": 13,
    "start_time": "2022-12-07T19:56:37.894Z"
   },
   {
    "duration": 32,
    "start_time": "2022-12-07T19:56:37.909Z"
   },
   {
    "duration": 17,
    "start_time": "2022-12-07T19:56:37.943Z"
   },
   {
    "duration": 5,
    "start_time": "2022-12-07T19:56:37.962Z"
   },
   {
    "duration": 7,
    "start_time": "2022-12-07T19:56:37.971Z"
   },
   {
    "duration": 9,
    "start_time": "2022-12-07T19:56:37.980Z"
   },
   {
    "duration": 50,
    "start_time": "2022-12-07T19:56:37.991Z"
   },
   {
    "duration": 24,
    "start_time": "2022-12-07T19:56:38.043Z"
   },
   {
    "duration": 0,
    "start_time": "2022-12-07T19:56:38.070Z"
   },
   {
    "duration": 0,
    "start_time": "2022-12-07T19:56:38.071Z"
   },
   {
    "duration": 0,
    "start_time": "2022-12-07T19:56:38.073Z"
   },
   {
    "duration": 0,
    "start_time": "2022-12-07T19:56:38.075Z"
   },
   {
    "duration": 0,
    "start_time": "2022-12-07T19:56:38.076Z"
   },
   {
    "duration": 0,
    "start_time": "2022-12-07T19:56:38.078Z"
   },
   {
    "duration": 5,
    "start_time": "2022-12-07T20:00:22.498Z"
   },
   {
    "duration": 151,
    "start_time": "2022-12-07T20:00:31.842Z"
   },
   {
    "duration": 158,
    "start_time": "2022-12-07T20:01:21.194Z"
   },
   {
    "duration": 160,
    "start_time": "2022-12-07T20:01:32.102Z"
   },
   {
    "duration": 153,
    "start_time": "2022-12-07T20:01:45.119Z"
   },
   {
    "duration": 12,
    "start_time": "2022-12-07T20:01:49.659Z"
   },
   {
    "duration": 3,
    "start_time": "2022-12-07T20:02:08.084Z"
   },
   {
    "duration": 12,
    "start_time": "2022-12-07T20:02:17.451Z"
   },
   {
    "duration": 3,
    "start_time": "2022-12-07T20:02:23.176Z"
   },
   {
    "duration": 75,
    "start_time": "2022-12-07T20:02:23.825Z"
   },
   {
    "duration": 4,
    "start_time": "2022-12-07T20:02:24.249Z"
   },
   {
    "duration": 13,
    "start_time": "2022-12-07T20:02:24.620Z"
   },
   {
    "duration": 15,
    "start_time": "2022-12-07T20:02:27.511Z"
   },
   {
    "duration": 9,
    "start_time": "2022-12-07T20:02:32.013Z"
   },
   {
    "duration": 9,
    "start_time": "2022-12-07T20:02:34.340Z"
   },
   {
    "duration": 14,
    "start_time": "2022-12-07T20:02:37.636Z"
   },
   {
    "duration": 5,
    "start_time": "2022-12-07T20:02:38.605Z"
   },
   {
    "duration": 9,
    "start_time": "2022-12-07T20:02:38.994Z"
   },
   {
    "duration": 7,
    "start_time": "2022-12-07T20:02:39.501Z"
   },
   {
    "duration": 6,
    "start_time": "2022-12-07T20:02:40.091Z"
   },
   {
    "duration": 144,
    "start_time": "2022-12-07T20:02:42.963Z"
   },
   {
    "duration": 3,
    "start_time": "2022-12-07T20:02:43.442Z"
   },
   {
    "duration": 12,
    "start_time": "2022-12-07T20:02:44.133Z"
   },
   {
    "duration": 4,
    "start_time": "2022-12-07T20:02:55.475Z"
   },
   {
    "duration": 10,
    "start_time": "2022-12-07T20:02:56.723Z"
   },
   {
    "duration": 13,
    "start_time": "2022-12-07T20:03:33.505Z"
   },
   {
    "duration": 126,
    "start_time": "2022-12-07T20:03:42.958Z"
   },
   {
    "duration": 8,
    "start_time": "2022-12-07T20:04:04.601Z"
   },
   {
    "duration": 17,
    "start_time": "2022-12-07T20:04:17.507Z"
   },
   {
    "duration": 6,
    "start_time": "2022-12-07T20:05:25.096Z"
   },
   {
    "duration": 186,
    "start_time": "2022-12-07T20:05:53.882Z"
   },
   {
    "duration": 1759,
    "start_time": "2022-12-07T20:05:58.962Z"
   },
   {
    "duration": 191,
    "start_time": "2022-12-07T20:06:09.147Z"
   },
   {
    "duration": 1599,
    "start_time": "2022-12-07T20:07:17.083Z"
   },
   {
    "duration": 198,
    "start_time": "2022-12-07T20:07:25.205Z"
   },
   {
    "duration": 280,
    "start_time": "2022-12-07T20:13:57.376Z"
   },
   {
    "duration": 335,
    "start_time": "2022-12-07T20:15:21.694Z"
   },
   {
    "duration": 274,
    "start_time": "2022-12-07T20:15:38.188Z"
   },
   {
    "duration": 258,
    "start_time": "2022-12-07T20:15:45.273Z"
   },
   {
    "duration": 262,
    "start_time": "2022-12-07T20:15:57.869Z"
   },
   {
    "duration": 246,
    "start_time": "2022-12-07T20:16:12.077Z"
   },
   {
    "duration": 203,
    "start_time": "2022-12-07T20:20:44.832Z"
   },
   {
    "duration": 165,
    "start_time": "2022-12-07T20:21:00.502Z"
   },
   {
    "duration": 3,
    "start_time": "2022-12-07T20:21:05.909Z"
   },
   {
    "duration": 84,
    "start_time": "2022-12-07T20:21:05.914Z"
   },
   {
    "duration": 3,
    "start_time": "2022-12-07T20:21:06.001Z"
   },
   {
    "duration": 13,
    "start_time": "2022-12-07T20:21:06.006Z"
   },
   {
    "duration": 13,
    "start_time": "2022-12-07T20:21:06.021Z"
   },
   {
    "duration": 21,
    "start_time": "2022-12-07T20:21:06.036Z"
   },
   {
    "duration": 8,
    "start_time": "2022-12-07T20:21:06.059Z"
   },
   {
    "duration": 8,
    "start_time": "2022-12-07T20:21:06.069Z"
   },
   {
    "duration": 10,
    "start_time": "2022-12-07T20:21:06.080Z"
   },
   {
    "duration": 18,
    "start_time": "2022-12-07T20:21:06.092Z"
   },
   {
    "duration": 39,
    "start_time": "2022-12-07T20:21:06.112Z"
   },
   {
    "duration": 6,
    "start_time": "2022-12-07T20:21:06.152Z"
   },
   {
    "duration": 6,
    "start_time": "2022-12-07T20:21:06.160Z"
   },
   {
    "duration": 8,
    "start_time": "2022-12-07T20:21:06.168Z"
   },
   {
    "duration": 6,
    "start_time": "2022-12-07T20:21:06.177Z"
   },
   {
    "duration": 169,
    "start_time": "2022-12-07T20:21:06.185Z"
   },
   {
    "duration": 2,
    "start_time": "2022-12-07T20:21:06.356Z"
   },
   {
    "duration": 14,
    "start_time": "2022-12-07T20:21:06.360Z"
   },
   {
    "duration": 142,
    "start_time": "2022-12-07T20:21:06.376Z"
   },
   {
    "duration": 32,
    "start_time": "2022-12-07T20:21:06.520Z"
   },
   {
    "duration": 7,
    "start_time": "2022-12-07T20:21:06.554Z"
   },
   {
    "duration": 209,
    "start_time": "2022-12-07T20:21:06.562Z"
   },
   {
    "duration": 207,
    "start_time": "2022-12-07T20:21:06.773Z"
   },
   {
    "duration": 289,
    "start_time": "2022-12-07T20:21:06.983Z"
   },
   {
    "duration": 188,
    "start_time": "2022-12-07T20:21:07.273Z"
   },
   {
    "duration": 11,
    "start_time": "2022-12-07T20:21:07.462Z"
   },
   {
    "duration": 270,
    "start_time": "2022-12-07T20:21:59.681Z"
   },
   {
    "duration": 203,
    "start_time": "2022-12-07T20:22:20.021Z"
   },
   {
    "duration": 247,
    "start_time": "2022-12-07T20:23:56.107Z"
   },
   {
    "duration": 204,
    "start_time": "2022-12-07T20:24:55.720Z"
   },
   {
    "duration": 197,
    "start_time": "2022-12-07T20:25:12.707Z"
   },
   {
    "duration": 202,
    "start_time": "2022-12-07T20:25:22.124Z"
   },
   {
    "duration": 192,
    "start_time": "2022-12-07T20:26:04.283Z"
   },
   {
    "duration": 206,
    "start_time": "2022-12-07T20:26:13.116Z"
   },
   {
    "duration": 224,
    "start_time": "2022-12-07T20:26:28.227Z"
   },
   {
    "duration": 206,
    "start_time": "2022-12-07T20:27:34.322Z"
   },
   {
    "duration": 148,
    "start_time": "2022-12-07T20:27:45.177Z"
   },
   {
    "duration": 216,
    "start_time": "2022-12-07T20:27:51.107Z"
   },
   {
    "duration": 282,
    "start_time": "2022-12-07T20:28:26.571Z"
   },
   {
    "duration": 202,
    "start_time": "2022-12-07T20:28:33.651Z"
   },
   {
    "duration": 207,
    "start_time": "2022-12-07T20:28:41.109Z"
   },
   {
    "duration": 225,
    "start_time": "2022-12-07T20:28:56.027Z"
   },
   {
    "duration": 201,
    "start_time": "2022-12-07T20:29:11.951Z"
   },
   {
    "duration": 245,
    "start_time": "2022-12-07T20:34:40.175Z"
   },
   {
    "duration": 275,
    "start_time": "2022-12-07T20:35:09.251Z"
   },
   {
    "duration": 315,
    "start_time": "2022-12-07T20:35:23.715Z"
   },
   {
    "duration": 287,
    "start_time": "2022-12-07T20:35:39.351Z"
   },
   {
    "duration": 297,
    "start_time": "2022-12-07T20:35:48.678Z"
   },
   {
    "duration": 295,
    "start_time": "2022-12-07T20:37:03.259Z"
   },
   {
    "duration": 295,
    "start_time": "2022-12-07T20:37:19.905Z"
   },
   {
    "duration": 368,
    "start_time": "2022-12-07T20:37:36.080Z"
   },
   {
    "duration": 297,
    "start_time": "2022-12-07T20:38:33.751Z"
   },
   {
    "duration": 257,
    "start_time": "2022-12-07T20:38:45.166Z"
   },
   {
    "duration": 332,
    "start_time": "2022-12-07T20:38:58.519Z"
   },
   {
    "duration": 328,
    "start_time": "2022-12-07T20:39:55.518Z"
   },
   {
    "duration": 327,
    "start_time": "2022-12-07T20:41:04.318Z"
   },
   {
    "duration": 308,
    "start_time": "2022-12-07T20:41:19.629Z"
   },
   {
    "duration": 867,
    "start_time": "2022-12-08T17:30:41.229Z"
   },
   {
    "duration": 225,
    "start_time": "2022-12-08T17:30:42.099Z"
   },
   {
    "duration": 17,
    "start_time": "2022-12-08T17:31:33.425Z"
   },
   {
    "duration": 34,
    "start_time": "2022-12-08T17:32:02.773Z"
   },
   {
    "duration": 3,
    "start_time": "2022-12-08T17:32:56.924Z"
   },
   {
    "duration": 76,
    "start_time": "2022-12-08T17:32:57.391Z"
   },
   {
    "duration": 4,
    "start_time": "2022-12-08T17:32:57.802Z"
   },
   {
    "duration": 16,
    "start_time": "2022-12-08T17:32:58.347Z"
   },
   {
    "duration": 21,
    "start_time": "2022-12-08T17:33:01.995Z"
   },
   {
    "duration": 14,
    "start_time": "2022-12-08T17:33:02.689Z"
   },
   {
    "duration": 9,
    "start_time": "2022-12-08T17:33:03.564Z"
   },
   {
    "duration": 9,
    "start_time": "2022-12-08T17:33:06.421Z"
   },
   {
    "duration": 13,
    "start_time": "2022-12-08T17:33:15.092Z"
   },
   {
    "duration": 10,
    "start_time": "2022-12-08T17:33:19.204Z"
   },
   {
    "duration": 16,
    "start_time": "2022-12-08T17:33:22.275Z"
   },
   {
    "duration": 5,
    "start_time": "2022-12-08T17:33:24.639Z"
   },
   {
    "duration": 7,
    "start_time": "2022-12-08T17:33:25.302Z"
   },
   {
    "duration": 9,
    "start_time": "2022-12-08T17:33:28.940Z"
   },
   {
    "duration": 6,
    "start_time": "2022-12-08T17:33:29.813Z"
   },
   {
    "duration": 159,
    "start_time": "2022-12-08T17:33:30.660Z"
   },
   {
    "duration": 3,
    "start_time": "2022-12-08T17:33:31.508Z"
   },
   {
    "duration": 12,
    "start_time": "2022-12-08T17:33:34.336Z"
   },
   {
    "duration": 142,
    "start_time": "2022-12-08T17:33:36.269Z"
   },
   {
    "duration": 12,
    "start_time": "2022-12-08T17:33:38.937Z"
   },
   {
    "duration": 85,
    "start_time": "2022-12-08T17:33:45.252Z"
   },
   {
    "duration": 13,
    "start_time": "2022-12-08T17:34:26.004Z"
   },
   {
    "duration": 22,
    "start_time": "2022-12-08T17:34:30.373Z"
   },
   {
    "duration": 3,
    "start_time": "2022-12-08T17:53:29.818Z"
   },
   {
    "duration": 77,
    "start_time": "2022-12-08T17:53:30.354Z"
   },
   {
    "duration": 5,
    "start_time": "2022-12-08T17:53:30.847Z"
   },
   {
    "duration": 13,
    "start_time": "2022-12-08T17:53:31.408Z"
   },
   {
    "duration": 29,
    "start_time": "2022-12-08T17:53:32.512Z"
   },
   {
    "duration": 9,
    "start_time": "2022-12-08T17:53:35.146Z"
   },
   {
    "duration": 11,
    "start_time": "2022-12-08T17:53:38.632Z"
   },
   {
    "duration": 9,
    "start_time": "2022-12-08T17:53:40.864Z"
   },
   {
    "duration": 10,
    "start_time": "2022-12-08T17:53:43.495Z"
   },
   {
    "duration": 9,
    "start_time": "2022-12-08T17:53:44.429Z"
   },
   {
    "duration": 14,
    "start_time": "2022-12-08T17:53:48.257Z"
   },
   {
    "duration": 5,
    "start_time": "2022-12-08T17:53:55.943Z"
   },
   {
    "duration": 8,
    "start_time": "2022-12-08T17:53:58.191Z"
   },
   {
    "duration": 8,
    "start_time": "2022-12-08T17:54:00.538Z"
   },
   {
    "duration": 6,
    "start_time": "2022-12-08T17:54:01.846Z"
   },
   {
    "duration": 162,
    "start_time": "2022-12-08T17:54:02.463Z"
   },
   {
    "duration": 4,
    "start_time": "2022-12-08T17:54:03.053Z"
   },
   {
    "duration": 11,
    "start_time": "2022-12-08T17:54:03.639Z"
   },
   {
    "duration": 139,
    "start_time": "2022-12-08T17:54:06.056Z"
   },
   {
    "duration": 13,
    "start_time": "2022-12-08T17:54:34.655Z"
   },
   {
    "duration": 16,
    "start_time": "2022-12-08T17:54:38.463Z"
   },
   {
    "duration": 4,
    "start_time": "2022-12-08T17:55:42.038Z"
   },
   {
    "duration": 17,
    "start_time": "2022-12-08T17:56:05.465Z"
   },
   {
    "duration": 4,
    "start_time": "2022-12-08T18:01:39.709Z"
   },
   {
    "duration": 81,
    "start_time": "2022-12-08T18:01:40.350Z"
   },
   {
    "duration": 5,
    "start_time": "2022-12-08T18:01:40.941Z"
   },
   {
    "duration": 13,
    "start_time": "2022-12-08T18:01:41.478Z"
   },
   {
    "duration": 20,
    "start_time": "2022-12-08T18:01:42.325Z"
   },
   {
    "duration": 9,
    "start_time": "2022-12-08T18:01:42.909Z"
   },
   {
    "duration": 8,
    "start_time": "2022-12-08T18:01:45.125Z"
   },
   {
    "duration": 3,
    "start_time": "2022-12-08T18:03:02.204Z"
   },
   {
    "duration": 77,
    "start_time": "2022-12-08T18:03:02.692Z"
   },
   {
    "duration": 4,
    "start_time": "2022-12-08T18:03:03.131Z"
   },
   {
    "duration": 16,
    "start_time": "2022-12-08T18:03:03.620Z"
   },
   {
    "duration": 13,
    "start_time": "2022-12-08T18:03:04.525Z"
   },
   {
    "duration": 10,
    "start_time": "2022-12-08T18:03:08.597Z"
   },
   {
    "duration": 10,
    "start_time": "2022-12-08T18:03:09.293Z"
   },
   {
    "duration": 9,
    "start_time": "2022-12-08T18:03:11.365Z"
   },
   {
    "duration": 9,
    "start_time": "2022-12-08T18:03:12.517Z"
   },
   {
    "duration": 10,
    "start_time": "2022-12-08T18:03:14.883Z"
   },
   {
    "duration": 14,
    "start_time": "2022-12-08T18:03:17.524Z"
   },
   {
    "duration": 5,
    "start_time": "2022-12-08T18:03:19.387Z"
   },
   {
    "duration": 9,
    "start_time": "2022-12-08T18:03:22.812Z"
   },
   {
    "duration": 8,
    "start_time": "2022-12-08T18:03:39.027Z"
   },
   {
    "duration": 8,
    "start_time": "2022-12-08T18:03:48.299Z"
   },
   {
    "duration": 158,
    "start_time": "2022-12-08T18:03:50.214Z"
   },
   {
    "duration": 3,
    "start_time": "2022-12-08T18:03:52.981Z"
   },
   {
    "duration": 13,
    "start_time": "2022-12-08T18:03:54.023Z"
   },
   {
    "duration": 5,
    "start_time": "2022-12-08T18:03:58.221Z"
   },
   {
    "duration": 13,
    "start_time": "2022-12-08T18:03:59.715Z"
   },
   {
    "duration": 174,
    "start_time": "2022-12-08T18:04:00.926Z"
   },
   {
    "duration": 17,
    "start_time": "2022-12-08T18:04:05.077Z"
   },
   {
    "duration": 14,
    "start_time": "2022-12-08T18:04:08.596Z"
   },
   {
    "duration": 13,
    "start_time": "2022-12-08T18:04:23.028Z"
   },
   {
    "duration": 13,
    "start_time": "2022-12-08T18:04:26.844Z"
   },
   {
    "duration": 10,
    "start_time": "2022-12-08T18:04:30.373Z"
   },
   {
    "duration": 15,
    "start_time": "2022-12-08T18:04:37.781Z"
   },
   {
    "duration": 10,
    "start_time": "2022-12-08T18:04:40.492Z"
   },
   {
    "duration": 148,
    "start_time": "2022-12-08T18:10:22.626Z"
   },
   {
    "duration": 59,
    "start_time": "2022-12-08T18:10:28.309Z"
   },
   {
    "duration": 10,
    "start_time": "2022-12-08T18:11:17.019Z"
   },
   {
    "duration": 35,
    "start_time": "2022-12-08T18:11:27.827Z"
   },
   {
    "duration": 4,
    "start_time": "2022-12-08T18:11:38.618Z"
   },
   {
    "duration": 78,
    "start_time": "2022-12-08T18:11:39.121Z"
   },
   {
    "duration": 4,
    "start_time": "2022-12-08T18:11:39.674Z"
   },
   {
    "duration": 13,
    "start_time": "2022-12-08T18:11:40.306Z"
   },
   {
    "duration": 15,
    "start_time": "2022-12-08T18:11:41.099Z"
   },
   {
    "duration": 10,
    "start_time": "2022-12-08T18:11:43.562Z"
   },
   {
    "duration": 10,
    "start_time": "2022-12-08T18:11:44.449Z"
   },
   {
    "duration": 10,
    "start_time": "2022-12-08T18:11:46.371Z"
   },
   {
    "duration": 13,
    "start_time": "2022-12-08T18:11:48.284Z"
   },
   {
    "duration": 10,
    "start_time": "2022-12-08T18:11:50.907Z"
   },
   {
    "duration": 18,
    "start_time": "2022-12-08T18:11:52.618Z"
   },
   {
    "duration": 6,
    "start_time": "2022-12-08T18:11:54.106Z"
   },
   {
    "duration": 8,
    "start_time": "2022-12-08T18:11:56.635Z"
   },
   {
    "duration": 10,
    "start_time": "2022-12-08T18:11:57.259Z"
   },
   {
    "duration": 9,
    "start_time": "2022-12-08T18:11:58.315Z"
   },
   {
    "duration": 25,
    "start_time": "2022-12-08T18:11:59.507Z"
   },
   {
    "duration": 159,
    "start_time": "2022-12-08T18:12:34.164Z"
   },
   {
    "duration": 4,
    "start_time": "2022-12-08T18:12:41.441Z"
   },
   {
    "duration": 13,
    "start_time": "2022-12-08T18:12:42.283Z"
   },
   {
    "duration": 138,
    "start_time": "2022-12-08T18:12:45.403Z"
   },
   {
    "duration": 14,
    "start_time": "2022-12-08T18:12:49.218Z"
   },
   {
    "duration": 9,
    "start_time": "2022-12-08T18:12:52.968Z"
   },
   {
    "duration": 473,
    "start_time": "2022-12-08T18:12:58.227Z"
   },
   {
    "duration": 221,
    "start_time": "2022-12-08T18:13:01.900Z"
   },
   {
    "duration": 332,
    "start_time": "2022-12-08T18:13:05.123Z"
   },
   {
    "duration": 15,
    "start_time": "2022-12-08T18:13:08.027Z"
   },
   {
    "duration": 760,
    "start_time": "2022-12-08T18:14:45.179Z"
   },
   {
    "duration": 15,
    "start_time": "2022-12-08T18:15:09.042Z"
   },
   {
    "duration": 14,
    "start_time": "2022-12-08T18:16:22.771Z"
   },
   {
    "duration": 309,
    "start_time": "2022-12-08T18:26:13.375Z"
   },
   {
    "duration": 819,
    "start_time": "2022-12-08T18:29:22.344Z"
   },
   {
    "duration": 774,
    "start_time": "2022-12-08T18:31:08.998Z"
   },
   {
    "duration": 4,
    "start_time": "2022-12-08T18:34:38.255Z"
   },
   {
    "duration": 92,
    "start_time": "2022-12-08T18:34:38.262Z"
   },
   {
    "duration": 5,
    "start_time": "2022-12-08T18:34:38.356Z"
   },
   {
    "duration": 85,
    "start_time": "2022-12-08T18:34:38.364Z"
   },
   {
    "duration": 92,
    "start_time": "2022-12-08T18:34:38.452Z"
   },
   {
    "duration": 34,
    "start_time": "2022-12-08T18:34:38.547Z"
   },
   {
    "duration": 17,
    "start_time": "2022-12-08T18:34:38.583Z"
   },
   {
    "duration": 36,
    "start_time": "2022-12-08T18:34:38.603Z"
   },
   {
    "duration": 16,
    "start_time": "2022-12-08T18:34:38.641Z"
   },
   {
    "duration": 9,
    "start_time": "2022-12-08T18:34:38.661Z"
   },
   {
    "duration": 19,
    "start_time": "2022-12-08T18:34:38.672Z"
   },
   {
    "duration": 6,
    "start_time": "2022-12-08T18:34:38.693Z"
   },
   {
    "duration": 14,
    "start_time": "2022-12-08T18:34:38.701Z"
   },
   {
    "duration": 16,
    "start_time": "2022-12-08T18:34:38.717Z"
   },
   {
    "duration": 12,
    "start_time": "2022-12-08T18:34:38.735Z"
   },
   {
    "duration": 185,
    "start_time": "2022-12-08T18:34:38.749Z"
   },
   {
    "duration": 4,
    "start_time": "2022-12-08T18:34:38.936Z"
   },
   {
    "duration": 21,
    "start_time": "2022-12-08T18:34:38.942Z"
   },
   {
    "duration": 171,
    "start_time": "2022-12-08T18:34:38.965Z"
   },
   {
    "duration": 14,
    "start_time": "2022-12-08T18:34:39.138Z"
   },
   {
    "duration": 13,
    "start_time": "2022-12-08T18:34:39.154Z"
   },
   {
    "duration": 274,
    "start_time": "2022-12-08T18:34:39.169Z"
   },
   {
    "duration": 232,
    "start_time": "2022-12-08T18:34:39.445Z"
   },
   {
    "duration": 318,
    "start_time": "2022-12-08T18:34:39.680Z"
   },
   {
    "duration": 774,
    "start_time": "2022-12-08T18:34:39.999Z"
   },
   {
    "duration": 0,
    "start_time": "2022-12-08T18:34:40.774Z"
   },
   {
    "duration": 3,
    "start_time": "2022-12-08T18:34:55.014Z"
   },
   {
    "duration": 86,
    "start_time": "2022-12-08T18:34:55.019Z"
   },
   {
    "duration": 3,
    "start_time": "2022-12-08T18:34:55.107Z"
   },
   {
    "duration": 16,
    "start_time": "2022-12-08T18:34:55.112Z"
   },
   {
    "duration": 15,
    "start_time": "2022-12-08T18:34:55.131Z"
   },
   {
    "duration": 11,
    "start_time": "2022-12-08T18:34:55.148Z"
   },
   {
    "duration": 16,
    "start_time": "2022-12-08T18:34:55.160Z"
   },
   {
    "duration": 15,
    "start_time": "2022-12-08T18:34:55.177Z"
   },
   {
    "duration": 11,
    "start_time": "2022-12-08T18:34:55.193Z"
   },
   {
    "duration": 15,
    "start_time": "2022-12-08T18:34:55.206Z"
   },
   {
    "duration": 18,
    "start_time": "2022-12-08T18:34:55.223Z"
   },
   {
    "duration": 4,
    "start_time": "2022-12-08T18:34:55.243Z"
   },
   {
    "duration": 30,
    "start_time": "2022-12-08T18:34:55.249Z"
   },
   {
    "duration": 9,
    "start_time": "2022-12-08T18:34:55.282Z"
   },
   {
    "duration": 10,
    "start_time": "2022-12-08T18:34:55.292Z"
   },
   {
    "duration": 163,
    "start_time": "2022-12-08T18:34:55.304Z"
   },
   {
    "duration": 10,
    "start_time": "2022-12-08T18:34:55.469Z"
   },
   {
    "duration": 16,
    "start_time": "2022-12-08T18:34:55.480Z"
   },
   {
    "duration": 152,
    "start_time": "2022-12-08T18:34:55.498Z"
   },
   {
    "duration": 26,
    "start_time": "2022-12-08T18:34:55.652Z"
   },
   {
    "duration": 10,
    "start_time": "2022-12-08T18:34:55.680Z"
   },
   {
    "duration": 262,
    "start_time": "2022-12-08T18:34:55.691Z"
   },
   {
    "duration": 301,
    "start_time": "2022-12-08T18:34:55.955Z"
   },
   {
    "duration": 316,
    "start_time": "2022-12-08T18:34:56.257Z"
   },
   {
    "duration": 1040,
    "start_time": "2022-12-08T18:34:56.574Z"
   },
   {
    "duration": 0,
    "start_time": "2022-12-08T18:34:57.615Z"
   },
   {
    "duration": 3,
    "start_time": "2022-12-08T18:35:00.026Z"
   },
   {
    "duration": 78,
    "start_time": "2022-12-08T18:35:00.500Z"
   },
   {
    "duration": 4,
    "start_time": "2022-12-08T18:35:00.867Z"
   },
   {
    "duration": 13,
    "start_time": "2022-12-08T18:35:01.315Z"
   },
   {
    "duration": 20,
    "start_time": "2022-12-08T18:35:01.852Z"
   },
   {
    "duration": 10,
    "start_time": "2022-12-08T18:35:02.291Z"
   },
   {
    "duration": 8,
    "start_time": "2022-12-08T18:35:02.789Z"
   },
   {
    "duration": 8,
    "start_time": "2022-12-08T18:35:03.220Z"
   },
   {
    "duration": 9,
    "start_time": "2022-12-08T18:35:03.619Z"
   },
   {
    "duration": 10,
    "start_time": "2022-12-08T18:35:04.046Z"
   },
   {
    "duration": 16,
    "start_time": "2022-12-08T18:35:04.894Z"
   },
   {
    "duration": 6,
    "start_time": "2022-12-08T18:35:05.940Z"
   },
   {
    "duration": 8,
    "start_time": "2022-12-08T18:35:06.894Z"
   },
   {
    "duration": 8,
    "start_time": "2022-12-08T18:35:07.096Z"
   },
   {
    "duration": 6,
    "start_time": "2022-12-08T18:35:07.305Z"
   },
   {
    "duration": 183,
    "start_time": "2022-12-08T18:35:08.053Z"
   },
   {
    "duration": 4,
    "start_time": "2022-12-08T18:35:08.611Z"
   },
   {
    "duration": 12,
    "start_time": "2022-12-08T18:35:09.115Z"
   },
   {
    "duration": 133,
    "start_time": "2022-12-08T18:35:12.419Z"
   },
   {
    "duration": 14,
    "start_time": "2022-12-08T18:35:15.484Z"
   },
   {
    "duration": 8,
    "start_time": "2022-12-08T18:35:17.156Z"
   },
   {
    "duration": 258,
    "start_time": "2022-12-08T18:35:18.211Z"
   },
   {
    "duration": 213,
    "start_time": "2022-12-08T18:35:23.363Z"
   },
   {
    "duration": 317,
    "start_time": "2022-12-08T18:35:26.389Z"
   },
   {
    "duration": 890,
    "start_time": "2022-12-08T18:35:37.869Z"
   },
   {
    "duration": 11,
    "start_time": "2022-12-08T18:36:22.355Z"
   },
   {
    "duration": 7,
    "start_time": "2022-12-08T18:38:48.166Z"
   },
   {
    "duration": 846,
    "start_time": "2022-12-08T18:38:49.303Z"
   },
   {
    "duration": 215,
    "start_time": "2022-12-08T18:39:15.350Z"
   },
   {
    "duration": 202,
    "start_time": "2022-12-08T18:40:12.611Z"
   },
   {
    "duration": 839,
    "start_time": "2022-12-08T18:40:38.575Z"
   },
   {
    "duration": 238,
    "start_time": "2022-12-08T18:42:09.018Z"
   },
   {
    "duration": 239,
    "start_time": "2022-12-08T18:42:25.395Z"
   },
   {
    "duration": 407,
    "start_time": "2022-12-08T18:43:05.898Z"
   },
   {
    "duration": 10,
    "start_time": "2022-12-08T18:44:50.358Z"
   },
   {
    "duration": 152,
    "start_time": "2022-12-08T18:45:27.684Z"
   },
   {
    "duration": 12,
    "start_time": "2022-12-08T19:29:48.410Z"
   },
   {
    "duration": 9,
    "start_time": "2022-12-08T19:29:59.192Z"
   },
   {
    "duration": 139,
    "start_time": "2022-12-08T19:30:07.959Z"
   },
   {
    "duration": 14,
    "start_time": "2022-12-08T19:31:35.575Z"
   },
   {
    "duration": 571,
    "start_time": "2022-12-08T19:33:13.783Z"
   },
   {
    "duration": 245,
    "start_time": "2022-12-08T19:33:21.992Z"
   },
   {
    "duration": 232,
    "start_time": "2022-12-08T19:34:28.823Z"
   },
   {
    "duration": 138,
    "start_time": "2022-12-08T19:37:39.101Z"
   },
   {
    "duration": 142,
    "start_time": "2022-12-08T19:37:54.230Z"
   },
   {
    "duration": 154,
    "start_time": "2022-12-08T19:38:07.401Z"
   },
   {
    "duration": 250,
    "start_time": "2022-12-08T19:38:24.069Z"
   },
   {
    "duration": 43,
    "start_time": "2022-12-08T19:38:45.157Z"
   },
   {
    "duration": 251,
    "start_time": "2022-12-08T19:39:10.061Z"
   },
   {
    "duration": 223,
    "start_time": "2022-12-08T19:39:44.484Z"
   },
   {
    "duration": 64,
    "start_time": "2022-12-08T19:40:01.381Z"
   },
   {
    "duration": 227,
    "start_time": "2022-12-08T19:40:11.141Z"
   },
   {
    "duration": 221,
    "start_time": "2022-12-08T19:40:17.860Z"
   },
   {
    "duration": 244,
    "start_time": "2022-12-08T19:40:23.821Z"
   },
   {
    "duration": 6,
    "start_time": "2022-12-08T20:07:51.606Z"
   },
   {
    "duration": 21,
    "start_time": "2022-12-08T20:14:07.773Z"
   },
   {
    "duration": 287,
    "start_time": "2022-12-08T20:14:32.246Z"
   },
   {
    "duration": 10,
    "start_time": "2022-12-08T20:16:45.494Z"
   },
   {
    "duration": 4,
    "start_time": "2022-12-08T20:18:44.664Z"
   },
   {
    "duration": 84,
    "start_time": "2022-12-08T20:18:44.671Z"
   },
   {
    "duration": 4,
    "start_time": "2022-12-08T20:18:44.758Z"
   },
   {
    "duration": 17,
    "start_time": "2022-12-08T20:18:44.765Z"
   },
   {
    "duration": 17,
    "start_time": "2022-12-08T20:18:44.785Z"
   },
   {
    "duration": 13,
    "start_time": "2022-12-08T20:18:44.805Z"
   },
   {
    "duration": 10,
    "start_time": "2022-12-08T20:18:44.820Z"
   },
   {
    "duration": 14,
    "start_time": "2022-12-08T20:18:44.833Z"
   },
   {
    "duration": 32,
    "start_time": "2022-12-08T20:18:44.849Z"
   },
   {
    "duration": 24,
    "start_time": "2022-12-08T20:18:44.884Z"
   },
   {
    "duration": 21,
    "start_time": "2022-12-08T20:18:44.910Z"
   },
   {
    "duration": 8,
    "start_time": "2022-12-08T20:18:44.933Z"
   },
   {
    "duration": 9,
    "start_time": "2022-12-08T20:18:44.943Z"
   },
   {
    "duration": 23,
    "start_time": "2022-12-08T20:18:44.954Z"
   },
   {
    "duration": 7,
    "start_time": "2022-12-08T20:18:44.979Z"
   },
   {
    "duration": 172,
    "start_time": "2022-12-08T20:18:44.988Z"
   },
   {
    "duration": 4,
    "start_time": "2022-12-08T20:18:45.162Z"
   },
   {
    "duration": 20,
    "start_time": "2022-12-08T20:18:45.167Z"
   },
   {
    "duration": 149,
    "start_time": "2022-12-08T20:18:45.189Z"
   },
   {
    "duration": 14,
    "start_time": "2022-12-08T20:18:45.340Z"
   },
   {
    "duration": 24,
    "start_time": "2022-12-08T20:18:45.356Z"
   },
   {
    "duration": 229,
    "start_time": "2022-12-08T20:18:45.382Z"
   },
   {
    "duration": 228,
    "start_time": "2022-12-08T20:18:45.613Z"
   },
   {
    "duration": 346,
    "start_time": "2022-12-08T20:18:45.843Z"
   },
   {
    "duration": 238,
    "start_time": "2022-12-08T20:18:46.191Z"
   },
   {
    "duration": 310,
    "start_time": "2022-12-08T20:18:46.431Z"
   },
   {
    "duration": 155,
    "start_time": "2022-12-08T20:18:46.743Z"
   },
   {
    "duration": 243,
    "start_time": "2022-12-08T20:18:46.899Z"
   },
   {
    "duration": 5,
    "start_time": "2022-12-08T20:18:47.144Z"
   },
   {
    "duration": 29,
    "start_time": "2022-12-08T20:18:47.151Z"
   },
   {
    "duration": 10,
    "start_time": "2022-12-08T20:20:09.701Z"
   },
   {
    "duration": 3,
    "start_time": "2022-12-08T20:20:17.091Z"
   },
   {
    "duration": 77,
    "start_time": "2022-12-08T20:20:17.506Z"
   },
   {
    "duration": 4,
    "start_time": "2022-12-08T20:20:17.829Z"
   },
   {
    "duration": 15,
    "start_time": "2022-12-08T20:20:18.076Z"
   },
   {
    "duration": 15,
    "start_time": "2022-12-08T20:20:18.531Z"
   },
   {
    "duration": 9,
    "start_time": "2022-12-08T20:20:18.891Z"
   },
   {
    "duration": 9,
    "start_time": "2022-12-08T20:20:19.123Z"
   },
   {
    "duration": 9,
    "start_time": "2022-12-08T20:20:19.331Z"
   },
   {
    "duration": 11,
    "start_time": "2022-12-08T20:20:19.523Z"
   },
   {
    "duration": 10,
    "start_time": "2022-12-08T20:20:19.755Z"
   },
   {
    "duration": 13,
    "start_time": "2022-12-08T20:20:20.171Z"
   },
   {
    "duration": 6,
    "start_time": "2022-12-08T20:20:20.570Z"
   },
   {
    "duration": 11,
    "start_time": "2022-12-08T20:20:20.791Z"
   },
   {
    "duration": 10,
    "start_time": "2022-12-08T20:20:21.004Z"
   },
   {
    "duration": 6,
    "start_time": "2022-12-08T20:20:21.229Z"
   },
   {
    "duration": 157,
    "start_time": "2022-12-08T20:20:21.426Z"
   },
   {
    "duration": 4,
    "start_time": "2022-12-08T20:20:21.643Z"
   },
   {
    "duration": 12,
    "start_time": "2022-12-08T20:20:21.839Z"
   },
   {
    "duration": 143,
    "start_time": "2022-12-08T20:20:22.060Z"
   },
   {
    "duration": 14,
    "start_time": "2022-12-08T20:20:22.308Z"
   },
   {
    "duration": 8,
    "start_time": "2022-12-08T20:20:22.772Z"
   },
   {
    "duration": 212,
    "start_time": "2022-12-08T20:20:23.223Z"
   },
   {
    "duration": 336,
    "start_time": "2022-12-08T20:20:24.043Z"
   },
   {
    "duration": 323,
    "start_time": "2022-12-08T20:20:24.859Z"
   },
   {
    "duration": 252,
    "start_time": "2022-12-08T20:20:25.707Z"
   },
   {
    "duration": 287,
    "start_time": "2022-12-08T20:20:26.803Z"
   },
   {
    "duration": 164,
    "start_time": "2022-12-08T20:20:28.338Z"
   },
   {
    "duration": 231,
    "start_time": "2022-12-08T20:20:28.595Z"
   },
   {
    "duration": 5,
    "start_time": "2022-12-08T20:20:29.525Z"
   },
   {
    "duration": 10,
    "start_time": "2022-12-08T20:20:35.916Z"
   },
   {
    "duration": 675,
    "start_time": "2022-12-08T20:20:41.060Z"
   },
   {
    "duration": 11,
    "start_time": "2022-12-08T20:27:12.930Z"
   },
   {
    "duration": 11,
    "start_time": "2022-12-08T20:27:18.498Z"
   },
   {
    "duration": 9,
    "start_time": "2022-12-08T20:27:30.361Z"
   },
   {
    "duration": 7,
    "start_time": "2022-12-08T20:27:32.546Z"
   },
   {
    "duration": 7,
    "start_time": "2022-12-08T20:27:39.098Z"
   },
   {
    "duration": 329,
    "start_time": "2022-12-08T20:27:43.170Z"
   },
   {
    "duration": 7,
    "start_time": "2022-12-08T20:27:46.636Z"
   },
   {
    "duration": 11,
    "start_time": "2022-12-08T20:27:47.165Z"
   },
   {
    "duration": 46,
    "start_time": "2022-12-08T20:28:21.530Z"
   },
   {
    "duration": 41,
    "start_time": "2022-12-08T20:28:42.338Z"
   },
   {
    "duration": 7,
    "start_time": "2022-12-08T20:29:23.882Z"
   },
   {
    "duration": 8,
    "start_time": "2022-12-08T20:30:06.160Z"
   },
   {
    "duration": 11,
    "start_time": "2022-12-08T20:30:06.835Z"
   },
   {
    "duration": 235,
    "start_time": "2022-12-08T20:31:04.377Z"
   },
   {
    "duration": 7,
    "start_time": "2022-12-08T20:31:41.201Z"
   },
   {
    "duration": 58,
    "start_time": "2022-12-08T20:32:38.353Z"
   },
   {
    "duration": 13,
    "start_time": "2022-12-08T20:33:59.441Z"
   },
   {
    "duration": 210,
    "start_time": "2022-12-08T20:34:23.607Z"
   },
   {
    "duration": 127,
    "start_time": "2022-12-08T20:36:23.289Z"
   },
   {
    "duration": 714,
    "start_time": "2022-12-08T20:38:19.655Z"
   },
   {
    "duration": 135,
    "start_time": "2022-12-08T20:38:54.016Z"
   },
   {
    "duration": 142,
    "start_time": "2022-12-08T20:39:43.778Z"
   },
   {
    "duration": 158,
    "start_time": "2022-12-08T20:40:01.678Z"
   },
   {
    "duration": 140,
    "start_time": "2022-12-08T20:40:12.383Z"
   },
   {
    "duration": 10,
    "start_time": "2022-12-08T20:42:43.818Z"
   },
   {
    "duration": 14,
    "start_time": "2022-12-08T20:43:22.251Z"
   },
   {
    "duration": 169,
    "start_time": "2022-12-08T20:43:33.610Z"
   },
   {
    "duration": 177,
    "start_time": "2022-12-08T20:44:31.522Z"
   },
   {
    "duration": 4,
    "start_time": "2022-12-08T20:46:40.779Z"
   },
   {
    "duration": 360,
    "start_time": "2022-12-08T20:47:52.298Z"
   },
   {
    "duration": 4,
    "start_time": "2022-12-08T20:47:56.409Z"
   },
   {
    "duration": 4,
    "start_time": "2022-12-08T20:49:44.761Z"
   },
   {
    "duration": 5,
    "start_time": "2022-12-08T20:50:07.545Z"
   },
   {
    "duration": 5,
    "start_time": "2022-12-08T20:50:56.801Z"
   },
   {
    "duration": 5,
    "start_time": "2022-12-08T20:51:13.783Z"
   },
   {
    "duration": 11,
    "start_time": "2022-12-08T20:52:10.608Z"
   },
   {
    "duration": 13,
    "start_time": "2022-12-08T20:52:26.159Z"
   },
   {
    "duration": 14,
    "start_time": "2022-12-08T20:52:42.496Z"
   },
   {
    "duration": 125,
    "start_time": "2022-12-08T20:52:56.538Z"
   },
   {
    "duration": 8,
    "start_time": "2022-12-08T20:53:21.630Z"
   },
   {
    "duration": 10,
    "start_time": "2022-12-08T20:53:22.222Z"
   },
   {
    "duration": 157,
    "start_time": "2022-12-08T20:53:23.727Z"
   },
   {
    "duration": 155,
    "start_time": "2022-12-08T20:53:40.663Z"
   },
   {
    "duration": 11,
    "start_time": "2022-12-08T20:56:15.294Z"
   },
   {
    "duration": 10,
    "start_time": "2022-12-08T20:56:31.494Z"
   },
   {
    "duration": 14,
    "start_time": "2022-12-08T20:56:39.814Z"
   },
   {
    "duration": 13,
    "start_time": "2022-12-08T20:56:58.091Z"
   },
   {
    "duration": 1344,
    "start_time": "2022-12-09T16:43:28.889Z"
   },
   {
    "duration": 228,
    "start_time": "2022-12-09T16:43:30.235Z"
   },
   {
    "duration": 4,
    "start_time": "2022-12-09T16:43:30.464Z"
   },
   {
    "duration": 30,
    "start_time": "2022-12-09T16:43:30.469Z"
   },
   {
    "duration": 44,
    "start_time": "2022-12-09T16:43:30.501Z"
   },
   {
    "duration": 34,
    "start_time": "2022-12-09T16:43:30.546Z"
   },
   {
    "duration": 38,
    "start_time": "2022-12-09T16:43:30.581Z"
   },
   {
    "duration": 28,
    "start_time": "2022-12-09T16:43:30.621Z"
   },
   {
    "duration": 35,
    "start_time": "2022-12-09T16:43:30.652Z"
   },
   {
    "duration": 27,
    "start_time": "2022-12-09T16:43:30.689Z"
   },
   {
    "duration": 39,
    "start_time": "2022-12-09T16:43:30.718Z"
   },
   {
    "duration": 17,
    "start_time": "2022-12-09T16:43:30.758Z"
   },
   {
    "duration": 32,
    "start_time": "2022-12-09T16:43:30.777Z"
   },
   {
    "duration": 15,
    "start_time": "2022-12-09T16:43:30.813Z"
   },
   {
    "duration": 56,
    "start_time": "2022-12-09T16:43:30.830Z"
   },
   {
    "duration": 154,
    "start_time": "2022-12-09T16:43:30.888Z"
   },
   {
    "duration": 4,
    "start_time": "2022-12-09T16:43:31.044Z"
   },
   {
    "duration": 15,
    "start_time": "2022-12-09T16:43:31.050Z"
   },
   {
    "duration": 135,
    "start_time": "2022-12-09T16:43:31.067Z"
   },
   {
    "duration": 11,
    "start_time": "2022-12-09T16:43:31.205Z"
   },
   {
    "duration": 26,
    "start_time": "2022-12-09T16:43:31.217Z"
   },
   {
    "duration": 287,
    "start_time": "2022-12-09T16:43:31.245Z"
   },
   {
    "duration": 210,
    "start_time": "2022-12-09T16:43:31.533Z"
   },
   {
    "duration": 297,
    "start_time": "2022-12-09T16:43:31.744Z"
   },
   {
    "duration": 218,
    "start_time": "2022-12-09T16:43:32.043Z"
   },
   {
    "duration": 300,
    "start_time": "2022-12-09T16:43:32.262Z"
   },
   {
    "duration": 119,
    "start_time": "2022-12-09T16:43:32.564Z"
   },
   {
    "duration": 0,
    "start_time": "2022-12-09T16:43:32.685Z"
   },
   {
    "duration": 0,
    "start_time": "2022-12-09T16:43:32.686Z"
   },
   {
    "duration": 0,
    "start_time": "2022-12-09T16:43:32.687Z"
   },
   {
    "duration": 0,
    "start_time": "2022-12-09T16:43:32.688Z"
   },
   {
    "duration": 0,
    "start_time": "2022-12-09T16:43:32.705Z"
   },
   {
    "duration": 0,
    "start_time": "2022-12-09T16:43:32.706Z"
   },
   {
    "duration": 4,
    "start_time": "2022-12-09T16:45:54.446Z"
   },
   {
    "duration": 77,
    "start_time": "2022-12-09T16:45:55.048Z"
   },
   {
    "duration": 4,
    "start_time": "2022-12-09T16:45:55.696Z"
   },
   {
    "duration": 18,
    "start_time": "2022-12-09T16:45:56.332Z"
   },
   {
    "duration": 14,
    "start_time": "2022-12-09T16:45:57.578Z"
   },
   {
    "duration": 9,
    "start_time": "2022-12-09T16:46:00.547Z"
   },
   {
    "duration": 9,
    "start_time": "2022-12-09T16:46:01.330Z"
   },
   {
    "duration": 8,
    "start_time": "2022-12-09T16:46:03.353Z"
   },
   {
    "duration": 8,
    "start_time": "2022-12-09T16:46:06.451Z"
   },
   {
    "duration": 8,
    "start_time": "2022-12-09T16:46:07.073Z"
   },
   {
    "duration": 15,
    "start_time": "2022-12-09T16:46:07.960Z"
   },
   {
    "duration": 5,
    "start_time": "2022-12-09T16:46:08.689Z"
   },
   {
    "duration": 8,
    "start_time": "2022-12-09T16:46:09.176Z"
   },
   {
    "duration": 9,
    "start_time": "2022-12-09T16:46:11.602Z"
   },
   {
    "duration": 6,
    "start_time": "2022-12-09T16:46:12.995Z"
   },
   {
    "duration": 195,
    "start_time": "2022-12-09T16:46:14.618Z"
   },
   {
    "duration": 3,
    "start_time": "2022-12-09T16:46:17.970Z"
   },
   {
    "duration": 12,
    "start_time": "2022-12-09T16:46:18.697Z"
   },
   {
    "duration": 140,
    "start_time": "2022-12-09T16:46:22.946Z"
   },
   {
    "duration": 12,
    "start_time": "2022-12-09T16:46:25.092Z"
   },
   {
    "duration": 7,
    "start_time": "2022-12-09T16:46:27.898Z"
   },
   {
    "duration": 197,
    "start_time": "2022-12-09T16:46:30.448Z"
   },
   {
    "duration": 192,
    "start_time": "2022-12-09T16:46:34.369Z"
   },
   {
    "duration": 365,
    "start_time": "2022-12-09T16:46:37.720Z"
   },
   {
    "duration": 206,
    "start_time": "2022-12-09T16:46:42.825Z"
   },
   {
    "duration": 310,
    "start_time": "2022-12-09T16:46:46.185Z"
   },
   {
    "duration": 12,
    "start_time": "2022-12-09T16:46:49.442Z"
   },
   {
    "duration": 9,
    "start_time": "2022-12-09T16:48:48.729Z"
   },
   {
    "duration": 14,
    "start_time": "2022-12-09T16:49:08.322Z"
   },
   {
    "duration": 12,
    "start_time": "2022-12-09T16:49:24.684Z"
   },
   {
    "duration": 18,
    "start_time": "2022-12-09T16:53:17.042Z"
   },
   {
    "duration": 13,
    "start_time": "2022-12-09T16:53:23.249Z"
   },
   {
    "duration": 10,
    "start_time": "2022-12-09T16:53:55.299Z"
   },
   {
    "duration": 127,
    "start_time": "2022-12-09T16:54:06.465Z"
   },
   {
    "duration": 127,
    "start_time": "2022-12-09T16:54:15.134Z"
   },
   {
    "duration": 125,
    "start_time": "2022-12-09T16:58:35.492Z"
   },
   {
    "duration": 125,
    "start_time": "2022-12-09T16:59:31.661Z"
   },
   {
    "duration": 145,
    "start_time": "2022-12-09T17:01:59.220Z"
   },
   {
    "duration": 121,
    "start_time": "2022-12-09T17:03:13.676Z"
   },
   {
    "duration": 120,
    "start_time": "2022-12-09T17:03:21.181Z"
   },
   {
    "duration": 13,
    "start_time": "2022-12-09T17:05:17.373Z"
   },
   {
    "duration": 10,
    "start_time": "2022-12-09T17:05:24.562Z"
   },
   {
    "duration": 15,
    "start_time": "2022-12-09T17:05:33.023Z"
   },
   {
    "duration": 261,
    "start_time": "2022-12-09T17:09:42.569Z"
   },
   {
    "duration": 223,
    "start_time": "2022-12-09T17:09:58.869Z"
   },
   {
    "duration": 141,
    "start_time": "2022-12-09T17:11:45.136Z"
   },
   {
    "duration": 10,
    "start_time": "2022-12-09T17:12:08.927Z"
   },
   {
    "duration": 4,
    "start_time": "2022-12-09T17:12:16.434Z"
   },
   {
    "duration": 138,
    "start_time": "2022-12-09T17:15:10.333Z"
   },
   {
    "duration": 132,
    "start_time": "2022-12-09T17:15:31.868Z"
   },
   {
    "duration": 10,
    "start_time": "2022-12-09T17:20:58.226Z"
   },
   {
    "duration": 4,
    "start_time": "2022-12-09T17:22:36.057Z"
   },
   {
    "duration": 4,
    "start_time": "2022-12-09T17:22:46.119Z"
   },
   {
    "duration": 4,
    "start_time": "2022-12-09T17:23:00.896Z"
   },
   {
    "duration": 5,
    "start_time": "2022-12-09T17:23:07.944Z"
   },
   {
    "duration": 26,
    "start_time": "2022-12-09T17:27:48.992Z"
   },
   {
    "duration": 17,
    "start_time": "2022-12-09T17:28:14.120Z"
   },
   {
    "duration": 20,
    "start_time": "2022-12-09T17:30:22.996Z"
   },
   {
    "duration": 9,
    "start_time": "2022-12-09T17:30:49.917Z"
   },
   {
    "duration": 9,
    "start_time": "2022-12-09T18:35:25.954Z"
   },
   {
    "duration": 14,
    "start_time": "2022-12-09T18:35:29.876Z"
   },
   {
    "duration": 9,
    "start_time": "2022-12-09T18:36:41.919Z"
   },
   {
    "duration": 1163,
    "start_time": "2022-12-09T18:36:48.803Z"
   },
   {
    "duration": 13,
    "start_time": "2022-12-09T18:42:31.866Z"
   },
   {
    "duration": 10,
    "start_time": "2022-12-09T18:43:09.748Z"
   },
   {
    "duration": 12,
    "start_time": "2022-12-09T18:43:55.867Z"
   },
   {
    "duration": 1187,
    "start_time": "2022-12-09T18:43:58.131Z"
   },
   {
    "duration": 10,
    "start_time": "2022-12-09T18:46:11.482Z"
   },
   {
    "duration": 10,
    "start_time": "2022-12-09T18:51:08.091Z"
   },
   {
    "duration": 136,
    "start_time": "2022-12-09T18:56:00.728Z"
   },
   {
    "duration": 1239,
    "start_time": "2022-12-09T18:56:27.874Z"
   },
   {
    "duration": 1203,
    "start_time": "2022-12-09T18:57:03.722Z"
   },
   {
    "duration": 16,
    "start_time": "2022-12-09T19:08:50.762Z"
   },
   {
    "duration": 3,
    "start_time": "2022-12-09T19:09:00.906Z"
   },
   {
    "duration": 76,
    "start_time": "2022-12-09T19:09:01.402Z"
   },
   {
    "duration": 4,
    "start_time": "2022-12-09T19:09:01.941Z"
   },
   {
    "duration": 12,
    "start_time": "2022-12-09T19:09:02.436Z"
   },
   {
    "duration": 13,
    "start_time": "2022-12-09T19:09:03.075Z"
   },
   {
    "duration": 8,
    "start_time": "2022-12-09T19:09:03.683Z"
   },
   {
    "duration": 7,
    "start_time": "2022-12-09T19:09:05.651Z"
   },
   {
    "duration": 7,
    "start_time": "2022-12-09T19:09:06.459Z"
   },
   {
    "duration": 10,
    "start_time": "2022-12-09T19:09:07.348Z"
   },
   {
    "duration": 8,
    "start_time": "2022-12-09T19:09:09.636Z"
   },
   {
    "duration": 12,
    "start_time": "2022-12-09T19:09:10.050Z"
   },
   {
    "duration": 5,
    "start_time": "2022-12-09T19:09:10.490Z"
   },
   {
    "duration": 7,
    "start_time": "2022-12-09T19:09:10.689Z"
   },
   {
    "duration": 7,
    "start_time": "2022-12-09T19:09:10.906Z"
   },
   {
    "duration": 6,
    "start_time": "2022-12-09T19:09:11.096Z"
   },
   {
    "duration": 135,
    "start_time": "2022-12-09T19:09:11.315Z"
   },
   {
    "duration": 3,
    "start_time": "2022-12-09T19:09:11.523Z"
   },
   {
    "duration": 10,
    "start_time": "2022-12-09T19:09:11.722Z"
   },
   {
    "duration": 123,
    "start_time": "2022-12-09T19:09:11.945Z"
   },
   {
    "duration": 12,
    "start_time": "2022-12-09T19:09:12.161Z"
   },
   {
    "duration": 7,
    "start_time": "2022-12-09T19:09:14.154Z"
   },
   {
    "duration": 186,
    "start_time": "2022-12-09T19:09:15.036Z"
   },
   {
    "duration": 211,
    "start_time": "2022-12-09T19:09:18.547Z"
   },
   {
    "duration": 321,
    "start_time": "2022-12-09T19:09:22.589Z"
   },
   {
    "duration": 206,
    "start_time": "2022-12-09T19:09:26.146Z"
   },
   {
    "duration": 272,
    "start_time": "2022-12-09T19:09:29.658Z"
   },
   {
    "duration": 14,
    "start_time": "2022-12-09T19:09:34.188Z"
   },
   {
    "duration": 68,
    "start_time": "2022-12-09T19:09:37.018Z"
   },
   {
    "duration": 162,
    "start_time": "2022-12-09T19:09:37.234Z"
   },
   {
    "duration": 129,
    "start_time": "2022-12-09T19:09:46.236Z"
   },
   {
    "duration": 5,
    "start_time": "2022-12-09T19:09:50.289Z"
   },
   {
    "duration": 123,
    "start_time": "2022-12-09T19:09:52.135Z"
   },
   {
    "duration": 5,
    "start_time": "2022-12-09T19:09:55.316Z"
   },
   {
    "duration": 12,
    "start_time": "2022-12-09T19:11:02.980Z"
   },
   {
    "duration": 4,
    "start_time": "2022-12-09T19:12:17.245Z"
   },
   {
    "duration": 11,
    "start_time": "2022-12-09T19:12:23.850Z"
   },
   {
    "duration": 3,
    "start_time": "2022-12-09T19:14:35.646Z"
   },
   {
    "duration": 7,
    "start_time": "2022-12-09T19:14:48.622Z"
   },
   {
    "duration": 18,
    "start_time": "2022-12-09T19:16:30.876Z"
   },
   {
    "duration": 9,
    "start_time": "2022-12-09T19:17:02.893Z"
   },
   {
    "duration": 9,
    "start_time": "2022-12-09T19:18:22.267Z"
   },
   {
    "duration": 7,
    "start_time": "2022-12-09T19:18:42.714Z"
   },
   {
    "duration": 6,
    "start_time": "2022-12-09T19:18:45.148Z"
   },
   {
    "duration": 7,
    "start_time": "2022-12-09T19:23:12.866Z"
   },
   {
    "duration": 9,
    "start_time": "2022-12-09T19:24:46.762Z"
   },
   {
    "duration": 7,
    "start_time": "2022-12-09T19:24:52.753Z"
   },
   {
    "duration": 5,
    "start_time": "2022-12-09T19:24:53.258Z"
   },
   {
    "duration": 27,
    "start_time": "2022-12-09T19:27:45.825Z"
   },
   {
    "duration": 24,
    "start_time": "2022-12-09T19:27:56.482Z"
   },
   {
    "duration": 10,
    "start_time": "2022-12-09T19:41:04.703Z"
   },
   {
    "duration": 6,
    "start_time": "2022-12-09T19:43:41.920Z"
   },
   {
    "duration": 175,
    "start_time": "2022-12-09T19:43:42.471Z"
   },
   {
    "duration": 293,
    "start_time": "2022-12-09T19:43:46.305Z"
   },
   {
    "duration": 265,
    "start_time": "2022-12-09T19:43:50.754Z"
   },
   {
    "duration": 3,
    "start_time": "2022-12-09T19:44:01.241Z"
   },
   {
    "duration": 87,
    "start_time": "2022-12-09T19:44:01.246Z"
   },
   {
    "duration": 4,
    "start_time": "2022-12-09T19:44:01.335Z"
   },
   {
    "duration": 47,
    "start_time": "2022-12-09T19:44:01.341Z"
   },
   {
    "duration": 42,
    "start_time": "2022-12-09T19:44:01.390Z"
   },
   {
    "duration": 27,
    "start_time": "2022-12-09T19:44:01.433Z"
   },
   {
    "duration": 33,
    "start_time": "2022-12-09T19:44:01.463Z"
   },
   {
    "duration": 34,
    "start_time": "2022-12-09T19:44:01.497Z"
   },
   {
    "duration": 20,
    "start_time": "2022-12-09T19:44:01.532Z"
   },
   {
    "duration": 22,
    "start_time": "2022-12-09T19:44:01.554Z"
   },
   {
    "duration": 40,
    "start_time": "2022-12-09T19:44:01.577Z"
   },
   {
    "duration": 20,
    "start_time": "2022-12-09T19:44:01.618Z"
   },
   {
    "duration": 19,
    "start_time": "2022-12-09T19:44:01.640Z"
   },
   {
    "duration": 13,
    "start_time": "2022-12-09T19:44:01.663Z"
   },
   {
    "duration": 21,
    "start_time": "2022-12-09T19:44:01.678Z"
   },
   {
    "duration": 172,
    "start_time": "2022-12-09T19:44:01.701Z"
   },
   {
    "duration": 4,
    "start_time": "2022-12-09T19:44:01.875Z"
   },
   {
    "duration": 21,
    "start_time": "2022-12-09T19:44:01.881Z"
   },
   {
    "duration": 136,
    "start_time": "2022-12-09T19:44:01.907Z"
   },
   {
    "duration": 22,
    "start_time": "2022-12-09T19:44:02.045Z"
   },
   {
    "duration": 28,
    "start_time": "2022-12-09T19:44:02.068Z"
   },
   {
    "duration": 206,
    "start_time": "2022-12-09T19:44:02.098Z"
   },
   {
    "duration": 239,
    "start_time": "2022-12-09T19:44:02.312Z"
   },
   {
    "duration": 292,
    "start_time": "2022-12-09T19:44:02.553Z"
   },
   {
    "duration": 240,
    "start_time": "2022-12-09T19:44:02.848Z"
   },
   {
    "duration": 333,
    "start_time": "2022-12-09T19:44:03.090Z"
   },
   {
    "duration": 12,
    "start_time": "2022-12-09T19:44:03.424Z"
   },
   {
    "duration": 143,
    "start_time": "2022-12-09T19:44:03.437Z"
   },
   {
    "duration": 4,
    "start_time": "2022-12-09T19:44:03.581Z"
   },
   {
    "duration": 154,
    "start_time": "2022-12-09T19:44:03.586Z"
   },
   {
    "duration": 7,
    "start_time": "2022-12-09T19:44:03.742Z"
   },
   {
    "duration": 14,
    "start_time": "2022-12-09T19:44:03.750Z"
   },
   {
    "duration": 19,
    "start_time": "2022-12-09T19:44:03.766Z"
   },
   {
    "duration": 23,
    "start_time": "2022-12-09T19:44:03.788Z"
   },
   {
    "duration": 34,
    "start_time": "2022-12-09T19:44:03.822Z"
   },
   {
    "duration": 17,
    "start_time": "2022-12-09T19:44:03.857Z"
   },
   {
    "duration": 3,
    "start_time": "2022-12-09T19:59:13.942Z"
   },
   {
    "duration": 74,
    "start_time": "2022-12-09T19:59:14.194Z"
   },
   {
    "duration": 5,
    "start_time": "2022-12-09T19:59:14.364Z"
   },
   {
    "duration": 11,
    "start_time": "2022-12-09T19:59:14.586Z"
   },
   {
    "duration": 14,
    "start_time": "2022-12-09T19:59:14.764Z"
   },
   {
    "duration": 10,
    "start_time": "2022-12-09T19:59:14.982Z"
   },
   {
    "duration": 7,
    "start_time": "2022-12-09T19:59:15.184Z"
   },
   {
    "duration": 8,
    "start_time": "2022-12-09T19:59:15.387Z"
   },
   {
    "duration": 8,
    "start_time": "2022-12-09T19:59:15.836Z"
   },
   {
    "duration": 9,
    "start_time": "2022-12-09T19:59:16.027Z"
   },
   {
    "duration": 13,
    "start_time": "2022-12-09T19:59:16.452Z"
   },
   {
    "duration": 5,
    "start_time": "2022-12-09T19:59:16.860Z"
   },
   {
    "duration": 7,
    "start_time": "2022-12-09T19:59:17.053Z"
   },
   {
    "duration": 7,
    "start_time": "2022-12-09T19:59:17.261Z"
   },
   {
    "duration": 7,
    "start_time": "2022-12-09T19:59:17.476Z"
   },
   {
    "duration": 144,
    "start_time": "2022-12-09T19:59:17.686Z"
   },
   {
    "duration": 3,
    "start_time": "2022-12-09T19:59:17.918Z"
   },
   {
    "duration": 12,
    "start_time": "2022-12-09T19:59:18.124Z"
   },
   {
    "duration": 140,
    "start_time": "2022-12-09T19:59:18.339Z"
   },
   {
    "duration": 12,
    "start_time": "2022-12-09T19:59:18.600Z"
   },
   {
    "duration": 7,
    "start_time": "2022-12-09T19:59:18.840Z"
   },
   {
    "duration": 214,
    "start_time": "2022-12-09T19:59:19.044Z"
   },
   {
    "duration": 197,
    "start_time": "2022-12-09T19:59:19.795Z"
   },
   {
    "duration": 263,
    "start_time": "2022-12-09T19:59:20.461Z"
   },
   {
    "duration": 201,
    "start_time": "2022-12-09T19:59:21.141Z"
   },
   {
    "duration": 420,
    "start_time": "2022-12-09T19:59:21.806Z"
   },
   {
    "duration": 11,
    "start_time": "2022-12-09T19:59:22.716Z"
   },
   {
    "duration": 129,
    "start_time": "2022-12-09T19:59:23.205Z"
   },
   {
    "duration": 5,
    "start_time": "2022-12-09T19:59:23.918Z"
   },
   {
    "duration": 131,
    "start_time": "2022-12-09T19:59:24.660Z"
   },
   {
    "duration": 5,
    "start_time": "2022-12-09T19:59:25.349Z"
   },
   {
    "duration": 9,
    "start_time": "2022-12-09T19:59:26.031Z"
   },
   {
    "duration": 7,
    "start_time": "2022-12-09T19:59:26.515Z"
   },
   {
    "duration": 4,
    "start_time": "2022-12-09T19:59:26.748Z"
   },
   {
    "duration": 38,
    "start_time": "2022-12-09T19:59:27.402Z"
   },
   {
    "duration": 13,
    "start_time": "2022-12-09T19:59:37.909Z"
   },
   {
    "duration": 1118,
    "start_time": "2022-12-09T19:59:38.637Z"
   },
   {
    "duration": 1088,
    "start_time": "2022-12-09T19:59:54.493Z"
   },
   {
    "duration": 1113,
    "start_time": "2022-12-09T20:08:33.849Z"
   },
   {
    "duration": 30,
    "start_time": "2022-12-09T20:08:50.102Z"
   },
   {
    "duration": 1066,
    "start_time": "2022-12-09T20:09:23.714Z"
   },
   {
    "duration": 1158,
    "start_time": "2022-12-09T20:14:00.460Z"
   },
   {
    "duration": 1122,
    "start_time": "2022-12-09T20:15:41.836Z"
   },
   {
    "duration": 8,
    "start_time": "2022-12-09T20:16:19.090Z"
   },
   {
    "duration": 15,
    "start_time": "2022-12-09T20:17:53.251Z"
   },
   {
    "duration": 14,
    "start_time": "2022-12-09T20:18:00.389Z"
   },
   {
    "duration": 14,
    "start_time": "2022-12-09T20:18:26.394Z"
   },
   {
    "duration": 8,
    "start_time": "2022-12-09T20:20:43.349Z"
   },
   {
    "duration": 899,
    "start_time": "2022-12-09T20:23:14.020Z"
   },
   {
    "duration": 8,
    "start_time": "2022-12-09T20:24:02.215Z"
   },
   {
    "duration": 811,
    "start_time": "2022-12-09T20:24:04.971Z"
   },
   {
    "duration": 835,
    "start_time": "2022-12-09T20:24:54.824Z"
   },
   {
    "duration": 833,
    "start_time": "2022-12-09T20:26:14.919Z"
   },
   {
    "duration": 817,
    "start_time": "2022-12-09T20:26:41.220Z"
   },
   {
    "duration": 7,
    "start_time": "2022-12-09T20:28:13.614Z"
   },
   {
    "duration": 10,
    "start_time": "2022-12-09T20:28:22.713Z"
   },
   {
    "duration": 7,
    "start_time": "2022-12-09T20:28:29.110Z"
   },
   {
    "duration": 860,
    "start_time": "2022-12-09T20:29:06.166Z"
   },
   {
    "duration": 854,
    "start_time": "2022-12-09T20:30:13.883Z"
   },
   {
    "duration": 3,
    "start_time": "2022-12-09T20:30:27.209Z"
   },
   {
    "duration": 75,
    "start_time": "2022-12-09T20:30:27.712Z"
   },
   {
    "duration": 4,
    "start_time": "2022-12-09T20:30:28.151Z"
   },
   {
    "duration": 11,
    "start_time": "2022-12-09T20:30:28.619Z"
   },
   {
    "duration": 12,
    "start_time": "2022-12-09T20:30:29.099Z"
   },
   {
    "duration": 7,
    "start_time": "2022-12-09T20:30:29.554Z"
   },
   {
    "duration": 8,
    "start_time": "2022-12-09T20:30:29.759Z"
   },
   {
    "duration": 8,
    "start_time": "2022-12-09T20:30:29.946Z"
   },
   {
    "duration": 8,
    "start_time": "2022-12-09T20:30:30.331Z"
   },
   {
    "duration": 10,
    "start_time": "2022-12-09T20:30:30.528Z"
   },
   {
    "duration": 13,
    "start_time": "2022-12-09T20:30:30.939Z"
   },
   {
    "duration": 5,
    "start_time": "2022-12-09T20:30:31.380Z"
   },
   {
    "duration": 7,
    "start_time": "2022-12-09T20:30:31.587Z"
   },
   {
    "duration": 8,
    "start_time": "2022-12-09T20:30:31.811Z"
   },
   {
    "duration": 6,
    "start_time": "2022-12-09T20:30:32.009Z"
   },
   {
    "duration": 140,
    "start_time": "2022-12-09T20:30:32.260Z"
   },
   {
    "duration": 3,
    "start_time": "2022-12-09T20:30:32.456Z"
   },
   {
    "duration": 12,
    "start_time": "2022-12-09T20:30:32.691Z"
   },
   {
    "duration": 127,
    "start_time": "2022-12-09T20:30:32.892Z"
   },
   {
    "duration": 11,
    "start_time": "2022-12-09T20:30:33.115Z"
   },
   {
    "duration": 7,
    "start_time": "2022-12-09T20:30:33.341Z"
   },
   {
    "duration": 181,
    "start_time": "2022-12-09T20:30:33.545Z"
   },
   {
    "duration": 190,
    "start_time": "2022-12-09T20:30:34.227Z"
   },
   {
    "duration": 304,
    "start_time": "2022-12-09T20:30:34.902Z"
   },
   {
    "duration": 200,
    "start_time": "2022-12-09T20:30:35.569Z"
   },
   {
    "duration": 288,
    "start_time": "2022-12-09T20:30:36.275Z"
   },
   {
    "duration": 15,
    "start_time": "2022-12-09T20:30:37.276Z"
   },
   {
    "duration": 126,
    "start_time": "2022-12-09T20:30:37.811Z"
   },
   {
    "duration": 5,
    "start_time": "2022-12-09T20:30:39.139Z"
   },
   {
    "duration": 119,
    "start_time": "2022-12-09T20:30:40.571Z"
   },
   {
    "duration": 5,
    "start_time": "2022-12-09T20:30:41.268Z"
   },
   {
    "duration": 8,
    "start_time": "2022-12-09T20:30:42.032Z"
   },
   {
    "duration": 7,
    "start_time": "2022-12-09T20:30:42.512Z"
   },
   {
    "duration": 4,
    "start_time": "2022-12-09T20:30:42.746Z"
   },
   {
    "duration": 25,
    "start_time": "2022-12-09T20:30:43.211Z"
   },
   {
    "duration": 12,
    "start_time": "2022-12-09T20:30:44.172Z"
   },
   {
    "duration": 8,
    "start_time": "2022-12-09T20:30:44.916Z"
   },
   {
    "duration": 842,
    "start_time": "2022-12-09T20:30:45.140Z"
   },
   {
    "duration": 914,
    "start_time": "2022-12-09T20:34:46.836Z"
   },
   {
    "duration": 899,
    "start_time": "2022-12-09T20:35:00.858Z"
   },
   {
    "duration": 1076,
    "start_time": "2022-12-09T20:37:42.147Z"
   },
   {
    "duration": 14,
    "start_time": "2022-12-09T20:38:38.234Z"
   },
   {
    "duration": 8,
    "start_time": "2022-12-09T20:40:18.226Z"
   },
   {
    "duration": 4,
    "start_time": "2022-12-09T20:42:05.205Z"
   },
   {
    "duration": 3,
    "start_time": "2022-12-09T20:42:16.210Z"
   },
   {
    "duration": 89,
    "start_time": "2022-12-09T20:42:16.215Z"
   },
   {
    "duration": 4,
    "start_time": "2022-12-09T20:42:16.305Z"
   },
   {
    "duration": 15,
    "start_time": "2022-12-09T20:42:16.310Z"
   },
   {
    "duration": 13,
    "start_time": "2022-12-09T20:42:16.327Z"
   },
   {
    "duration": 7,
    "start_time": "2022-12-09T20:42:16.342Z"
   },
   {
    "duration": 8,
    "start_time": "2022-12-09T20:42:16.350Z"
   },
   {
    "duration": 7,
    "start_time": "2022-12-09T20:42:16.360Z"
   },
   {
    "duration": 36,
    "start_time": "2022-12-09T20:42:16.369Z"
   },
   {
    "duration": 7,
    "start_time": "2022-12-09T20:42:16.407Z"
   },
   {
    "duration": 12,
    "start_time": "2022-12-09T20:42:16.417Z"
   },
   {
    "duration": 4,
    "start_time": "2022-12-09T20:42:16.430Z"
   },
   {
    "duration": 7,
    "start_time": "2022-12-09T20:42:16.435Z"
   },
   {
    "duration": 6,
    "start_time": "2022-12-09T20:42:16.443Z"
   },
   {
    "duration": 5,
    "start_time": "2022-12-09T20:42:16.450Z"
   },
   {
    "duration": 174,
    "start_time": "2022-12-09T20:42:16.456Z"
   },
   {
    "duration": 3,
    "start_time": "2022-12-09T20:42:16.631Z"
   },
   {
    "duration": 13,
    "start_time": "2022-12-09T20:42:16.636Z"
   },
   {
    "duration": 125,
    "start_time": "2022-12-09T20:42:16.650Z"
   },
   {
    "duration": 11,
    "start_time": "2022-12-09T20:42:16.777Z"
   },
   {
    "duration": 15,
    "start_time": "2022-12-09T20:42:16.790Z"
   },
   {
    "duration": 183,
    "start_time": "2022-12-09T20:42:16.807Z"
   },
   {
    "duration": 188,
    "start_time": "2022-12-09T20:42:16.992Z"
   },
   {
    "duration": 316,
    "start_time": "2022-12-09T20:42:17.182Z"
   },
   {
    "duration": 188,
    "start_time": "2022-12-09T20:42:17.504Z"
   },
   {
    "duration": 413,
    "start_time": "2022-12-09T20:42:17.694Z"
   },
   {
    "duration": 12,
    "start_time": "2022-12-09T20:42:18.109Z"
   },
   {
    "duration": 160,
    "start_time": "2022-12-09T20:42:18.122Z"
   },
   {
    "duration": 5,
    "start_time": "2022-12-09T20:42:18.285Z"
   },
   {
    "duration": 33,
    "start_time": "2022-12-09T20:42:18.291Z"
   },
   {
    "duration": 160,
    "start_time": "2022-12-09T20:42:18.325Z"
   },
   {
    "duration": 17,
    "start_time": "2022-12-09T20:42:18.487Z"
   },
   {
    "duration": 25,
    "start_time": "2022-12-09T20:42:18.506Z"
   },
   {
    "duration": 34,
    "start_time": "2022-12-09T20:42:18.533Z"
   },
   {
    "duration": 30,
    "start_time": "2022-12-09T20:42:18.569Z"
   },
   {
    "duration": 33,
    "start_time": "2022-12-09T20:42:18.601Z"
   },
   {
    "duration": 23,
    "start_time": "2022-12-09T20:42:18.636Z"
   },
   {
    "duration": 28,
    "start_time": "2022-12-09T20:42:18.660Z"
   },
   {
    "duration": 51,
    "start_time": "2022-12-09T20:42:18.690Z"
   },
   {
    "duration": 25,
    "start_time": "2022-12-09T20:42:18.743Z"
   },
   {
    "duration": 3,
    "start_time": "2022-12-09T20:44:01.671Z"
   },
   {
    "duration": 2,
    "start_time": "2022-12-09T20:45:25.617Z"
   },
   {
    "duration": 76,
    "start_time": "2022-12-09T20:45:25.621Z"
   },
   {
    "duration": 4,
    "start_time": "2022-12-09T20:45:25.699Z"
   },
   {
    "duration": 16,
    "start_time": "2022-12-09T20:45:25.704Z"
   },
   {
    "duration": 12,
    "start_time": "2022-12-09T20:45:25.722Z"
   },
   {
    "duration": 7,
    "start_time": "2022-12-09T20:45:25.735Z"
   },
   {
    "duration": 8,
    "start_time": "2022-12-09T20:45:25.743Z"
   },
   {
    "duration": 7,
    "start_time": "2022-12-09T20:45:25.753Z"
   },
   {
    "duration": 44,
    "start_time": "2022-12-09T20:45:25.762Z"
   },
   {
    "duration": 10,
    "start_time": "2022-12-09T20:45:25.807Z"
   },
   {
    "duration": 14,
    "start_time": "2022-12-09T20:45:25.819Z"
   },
   {
    "duration": 8,
    "start_time": "2022-12-09T20:45:25.834Z"
   },
   {
    "duration": 8,
    "start_time": "2022-12-09T20:45:25.843Z"
   },
   {
    "duration": 7,
    "start_time": "2022-12-09T20:45:25.852Z"
   },
   {
    "duration": 49,
    "start_time": "2022-12-09T20:45:25.860Z"
   },
   {
    "duration": 159,
    "start_time": "2022-12-09T20:45:25.911Z"
   },
   {
    "duration": 2,
    "start_time": "2022-12-09T20:45:26.072Z"
   },
   {
    "duration": 13,
    "start_time": "2022-12-09T20:45:26.076Z"
   },
   {
    "duration": 145,
    "start_time": "2022-12-09T20:45:26.091Z"
   },
   {
    "duration": 10,
    "start_time": "2022-12-09T20:45:26.238Z"
   },
   {
    "duration": 10,
    "start_time": "2022-12-09T20:45:26.250Z"
   },
   {
    "duration": 205,
    "start_time": "2022-12-09T20:45:26.261Z"
   },
   {
    "duration": 201,
    "start_time": "2022-12-09T20:45:26.467Z"
   },
   {
    "duration": 354,
    "start_time": "2022-12-09T20:45:26.670Z"
   },
   {
    "duration": 207,
    "start_time": "2022-12-09T20:45:27.027Z"
   },
   {
    "duration": 314,
    "start_time": "2022-12-09T20:45:27.236Z"
   },
   {
    "duration": 12,
    "start_time": "2022-12-09T20:45:27.552Z"
   },
   {
    "duration": 135,
    "start_time": "2022-12-09T20:45:27.566Z"
   },
   {
    "duration": 5,
    "start_time": "2022-12-09T20:45:27.706Z"
   },
   {
    "duration": 5,
    "start_time": "2022-12-09T20:45:27.713Z"
   },
   {
    "duration": 144,
    "start_time": "2022-12-09T20:45:27.720Z"
   },
   {
    "duration": 5,
    "start_time": "2022-12-09T20:45:27.865Z"
   },
   {
    "duration": 38,
    "start_time": "2022-12-09T20:45:27.872Z"
   },
   {
    "duration": 6,
    "start_time": "2022-12-09T20:45:27.911Z"
   },
   {
    "duration": 12,
    "start_time": "2022-12-09T20:45:27.919Z"
   },
   {
    "duration": 26,
    "start_time": "2022-12-09T20:45:27.933Z"
   },
   {
    "duration": 13,
    "start_time": "2022-12-09T20:45:27.960Z"
   },
   {
    "duration": 10,
    "start_time": "2022-12-09T20:45:27.975Z"
   },
   {
    "duration": 20,
    "start_time": "2022-12-09T20:45:27.987Z"
   },
   {
    "duration": 7,
    "start_time": "2022-12-09T20:45:28.009Z"
   },
   {
    "duration": 5,
    "start_time": "2022-12-09T20:48:41.884Z"
   },
   {
    "duration": 5,
    "start_time": "2022-12-09T20:49:19.564Z"
   },
   {
    "duration": 12,
    "start_time": "2022-12-09T20:50:16.883Z"
   },
   {
    "duration": 14,
    "start_time": "2022-12-09T20:51:21.123Z"
   },
   {
    "duration": 4,
    "start_time": "2022-12-09T20:52:41.638Z"
   },
   {
    "duration": 78,
    "start_time": "2022-12-09T20:52:41.643Z"
   },
   {
    "duration": 4,
    "start_time": "2022-12-09T20:52:41.723Z"
   },
   {
    "duration": 16,
    "start_time": "2022-12-09T20:52:41.728Z"
   },
   {
    "duration": 13,
    "start_time": "2022-12-09T20:52:41.746Z"
   },
   {
    "duration": 8,
    "start_time": "2022-12-09T20:52:41.761Z"
   },
   {
    "duration": 9,
    "start_time": "2022-12-09T20:52:41.771Z"
   },
   {
    "duration": 23,
    "start_time": "2022-12-09T20:52:41.782Z"
   },
   {
    "duration": 9,
    "start_time": "2022-12-09T20:52:41.806Z"
   },
   {
    "duration": 14,
    "start_time": "2022-12-09T20:52:41.816Z"
   },
   {
    "duration": 14,
    "start_time": "2022-12-09T20:52:41.833Z"
   },
   {
    "duration": 6,
    "start_time": "2022-12-09T20:52:41.849Z"
   },
   {
    "duration": 9,
    "start_time": "2022-12-09T20:52:41.856Z"
   },
   {
    "duration": 7,
    "start_time": "2022-12-09T20:52:41.866Z"
   },
   {
    "duration": 5,
    "start_time": "2022-12-09T20:52:41.905Z"
   },
   {
    "duration": 142,
    "start_time": "2022-12-09T20:52:41.911Z"
   },
   {
    "duration": 3,
    "start_time": "2022-12-09T20:52:42.055Z"
   },
   {
    "duration": 15,
    "start_time": "2022-12-09T20:52:42.059Z"
   },
   {
    "duration": 147,
    "start_time": "2022-12-09T20:52:42.075Z"
   },
   {
    "duration": 12,
    "start_time": "2022-12-09T20:52:42.224Z"
   },
   {
    "duration": 14,
    "start_time": "2022-12-09T20:52:42.238Z"
   },
   {
    "duration": 213,
    "start_time": "2022-12-09T20:52:42.253Z"
   },
   {
    "duration": 198,
    "start_time": "2022-12-09T20:52:42.467Z"
   },
   {
    "duration": 291,
    "start_time": "2022-12-09T20:52:42.667Z"
   },
   {
    "duration": 202,
    "start_time": "2022-12-09T20:52:42.959Z"
   },
   {
    "duration": 428,
    "start_time": "2022-12-09T20:52:43.163Z"
   },
   {
    "duration": 21,
    "start_time": "2022-12-09T20:52:43.592Z"
   },
   {
    "duration": 139,
    "start_time": "2022-12-09T20:52:43.614Z"
   },
   {
    "duration": 4,
    "start_time": "2022-12-09T20:52:43.756Z"
   },
   {
    "duration": 5,
    "start_time": "2022-12-09T20:52:43.762Z"
   },
   {
    "duration": 130,
    "start_time": "2022-12-09T20:52:43.769Z"
   },
   {
    "duration": 4,
    "start_time": "2022-12-09T20:52:43.905Z"
   },
   {
    "duration": 8,
    "start_time": "2022-12-09T20:52:43.910Z"
   },
   {
    "duration": 11,
    "start_time": "2022-12-09T20:52:43.920Z"
   },
   {
    "duration": 6,
    "start_time": "2022-12-09T20:52:43.932Z"
   },
   {
    "duration": 6,
    "start_time": "2022-12-09T20:52:43.939Z"
   },
   {
    "duration": 25,
    "start_time": "2022-12-09T20:52:43.946Z"
   },
   {
    "duration": 35,
    "start_time": "2022-12-09T20:52:43.973Z"
   },
   {
    "duration": 4,
    "start_time": "2022-12-09T20:52:44.010Z"
   },
   {
    "duration": 11,
    "start_time": "2022-12-09T20:52:44.015Z"
   },
   {
    "duration": 11,
    "start_time": "2022-12-09T20:52:44.027Z"
   },
   {
    "duration": 10,
    "start_time": "2022-12-09T20:52:48.155Z"
   },
   {
    "duration": 8,
    "start_time": "2022-12-09T20:54:29.010Z"
   },
   {
    "duration": 5,
    "start_time": "2022-12-09T20:54:37.599Z"
   },
   {
    "duration": 4,
    "start_time": "2022-12-09T20:54:38.605Z"
   },
   {
    "duration": 7,
    "start_time": "2022-12-09T20:54:53.066Z"
   },
   {
    "duration": 4,
    "start_time": "2022-12-09T20:54:53.554Z"
   },
   {
    "duration": 9,
    "start_time": "2022-12-09T20:55:48.540Z"
   },
   {
    "duration": 5,
    "start_time": "2022-12-09T20:55:56.450Z"
   },
   {
    "duration": 9,
    "start_time": "2022-12-09T20:55:58.827Z"
   },
   {
    "duration": 6,
    "start_time": "2022-12-09T20:56:01.095Z"
   },
   {
    "duration": 3,
    "start_time": "2022-12-09T20:56:26.843Z"
   },
   {
    "duration": 12,
    "start_time": "2022-12-09T20:56:27.379Z"
   },
   {
    "duration": 7,
    "start_time": "2022-12-09T20:56:27.954Z"
   },
   {
    "duration": 4,
    "start_time": "2022-12-09T20:56:49.906Z"
   },
   {
    "duration": 8,
    "start_time": "2022-12-09T20:56:50.401Z"
   },
   {
    "duration": 7,
    "start_time": "2022-12-09T20:56:50.818Z"
   },
   {
    "duration": 5,
    "start_time": "2022-12-09T20:57:16.635Z"
   },
   {
    "duration": 22,
    "start_time": "2022-12-09T20:57:45.283Z"
   },
   {
    "duration": 23,
    "start_time": "2022-12-09T21:02:22.230Z"
   },
   {
    "duration": 869,
    "start_time": "2022-12-09T21:03:13.351Z"
   },
   {
    "duration": 6,
    "start_time": "2022-12-09T21:04:21.948Z"
   },
   {
    "duration": 3,
    "start_time": "2022-12-09T21:04:51.511Z"
   },
   {
    "duration": 83,
    "start_time": "2022-12-09T21:04:51.516Z"
   },
   {
    "duration": 3,
    "start_time": "2022-12-09T21:04:51.601Z"
   },
   {
    "duration": 14,
    "start_time": "2022-12-09T21:04:51.606Z"
   },
   {
    "duration": 21,
    "start_time": "2022-12-09T21:04:51.622Z"
   },
   {
    "duration": 14,
    "start_time": "2022-12-09T21:04:51.645Z"
   },
   {
    "duration": 11,
    "start_time": "2022-12-09T21:04:51.661Z"
   },
   {
    "duration": 16,
    "start_time": "2022-12-09T21:04:51.674Z"
   },
   {
    "duration": 12,
    "start_time": "2022-12-09T21:04:51.692Z"
   },
   {
    "duration": 19,
    "start_time": "2022-12-09T21:04:51.706Z"
   },
   {
    "duration": 20,
    "start_time": "2022-12-09T21:04:51.727Z"
   },
   {
    "duration": 7,
    "start_time": "2022-12-09T21:04:51.748Z"
   },
   {
    "duration": 7,
    "start_time": "2022-12-09T21:04:51.757Z"
   },
   {
    "duration": 8,
    "start_time": "2022-12-09T21:04:51.767Z"
   },
   {
    "duration": 7,
    "start_time": "2022-12-09T21:04:51.776Z"
   },
   {
    "duration": 158,
    "start_time": "2022-12-09T21:04:51.784Z"
   },
   {
    "duration": 3,
    "start_time": "2022-12-09T21:04:51.943Z"
   },
   {
    "duration": 24,
    "start_time": "2022-12-09T21:04:51.947Z"
   },
   {
    "duration": 118,
    "start_time": "2022-12-09T21:04:51.972Z"
   },
   {
    "duration": 19,
    "start_time": "2022-12-09T21:04:52.091Z"
   },
   {
    "duration": 15,
    "start_time": "2022-12-09T21:04:52.111Z"
   },
   {
    "duration": 183,
    "start_time": "2022-12-09T21:04:52.127Z"
   },
   {
    "duration": 196,
    "start_time": "2022-12-09T21:04:52.311Z"
   },
   {
    "duration": 297,
    "start_time": "2022-12-09T21:04:52.508Z"
   },
   {
    "duration": 199,
    "start_time": "2022-12-09T21:04:52.807Z"
   },
   {
    "duration": 310,
    "start_time": "2022-12-09T21:04:53.008Z"
   },
   {
    "duration": 12,
    "start_time": "2022-12-09T21:04:53.320Z"
   },
   {
    "duration": 138,
    "start_time": "2022-12-09T21:04:53.333Z"
   },
   {
    "duration": 4,
    "start_time": "2022-12-09T21:04:53.473Z"
   },
   {
    "duration": 20,
    "start_time": "2022-12-09T21:04:53.478Z"
   },
   {
    "duration": 128,
    "start_time": "2022-12-09T21:04:53.499Z"
   },
   {
    "duration": 4,
    "start_time": "2022-12-09T21:04:53.629Z"
   },
   {
    "duration": 20,
    "start_time": "2022-12-09T21:04:53.634Z"
   },
   {
    "duration": 29,
    "start_time": "2022-12-09T21:04:53.656Z"
   },
   {
    "duration": 26,
    "start_time": "2022-12-09T21:04:53.687Z"
   },
   {
    "duration": 30,
    "start_time": "2022-12-09T21:04:53.715Z"
   },
   {
    "duration": 25,
    "start_time": "2022-12-09T21:04:53.747Z"
   },
   {
    "duration": 10,
    "start_time": "2022-12-09T21:04:53.774Z"
   },
   {
    "duration": 26,
    "start_time": "2022-12-09T21:04:53.785Z"
   },
   {
    "duration": 22,
    "start_time": "2022-12-09T21:04:53.813Z"
   },
   {
    "duration": 34,
    "start_time": "2022-12-09T21:04:53.839Z"
   },
   {
    "duration": 15,
    "start_time": "2022-12-09T21:04:53.874Z"
   },
   {
    "duration": 40,
    "start_time": "2022-12-09T21:04:53.890Z"
   },
   {
    "duration": 10,
    "start_time": "2022-12-09T21:04:53.932Z"
   },
   {
    "duration": 18,
    "start_time": "2022-12-09T21:04:53.944Z"
   },
   {
    "duration": 5,
    "start_time": "2022-12-09T21:05:04.325Z"
   },
   {
    "duration": 17,
    "start_time": "2022-12-09T21:05:17.301Z"
   },
   {
    "duration": 13,
    "start_time": "2022-12-09T21:05:24.994Z"
   },
   {
    "duration": 11,
    "start_time": "2022-12-09T21:05:40.181Z"
   },
   {
    "duration": 4,
    "start_time": "2022-12-09T21:21:46.900Z"
   },
   {
    "duration": 88,
    "start_time": "2022-12-09T21:21:46.907Z"
   },
   {
    "duration": 4,
    "start_time": "2022-12-09T21:21:46.997Z"
   },
   {
    "duration": 22,
    "start_time": "2022-12-09T21:21:47.003Z"
   },
   {
    "duration": 24,
    "start_time": "2022-12-09T21:21:47.027Z"
   },
   {
    "duration": 12,
    "start_time": "2022-12-09T21:21:47.052Z"
   },
   {
    "duration": 18,
    "start_time": "2022-12-09T21:21:47.066Z"
   },
   {
    "duration": 14,
    "start_time": "2022-12-09T21:21:47.086Z"
   },
   {
    "duration": 19,
    "start_time": "2022-12-09T21:21:47.101Z"
   },
   {
    "duration": 13,
    "start_time": "2022-12-09T21:21:47.122Z"
   },
   {
    "duration": 21,
    "start_time": "2022-12-09T21:21:47.136Z"
   },
   {
    "duration": 17,
    "start_time": "2022-12-09T21:21:47.159Z"
   },
   {
    "duration": 10,
    "start_time": "2022-12-09T21:21:47.178Z"
   },
   {
    "duration": 10,
    "start_time": "2022-12-09T21:21:47.191Z"
   },
   {
    "duration": 8,
    "start_time": "2022-12-09T21:21:47.203Z"
   },
   {
    "duration": 147,
    "start_time": "2022-12-09T21:21:47.213Z"
   },
   {
    "duration": 4,
    "start_time": "2022-12-09T21:21:47.362Z"
   },
   {
    "duration": 19,
    "start_time": "2022-12-09T21:21:47.368Z"
   },
   {
    "duration": 160,
    "start_time": "2022-12-09T21:21:47.388Z"
   },
   {
    "duration": 35,
    "start_time": "2022-12-09T21:21:47.550Z"
   },
   {
    "duration": 22,
    "start_time": "2022-12-09T21:21:47.588Z"
   },
   {
    "duration": 216,
    "start_time": "2022-12-09T21:21:47.613Z"
   },
   {
    "duration": 208,
    "start_time": "2022-12-09T21:21:47.831Z"
   },
   {
    "duration": 277,
    "start_time": "2022-12-09T21:21:48.041Z"
   },
   {
    "duration": 221,
    "start_time": "2022-12-09T21:21:48.320Z"
   },
   {
    "duration": 278,
    "start_time": "2022-12-09T21:21:48.543Z"
   },
   {
    "duration": 17,
    "start_time": "2022-12-09T21:21:48.823Z"
   },
   {
    "duration": 296,
    "start_time": "2022-12-09T21:21:48.842Z"
   },
   {
    "duration": 5,
    "start_time": "2022-12-09T21:21:49.140Z"
   },
   {
    "duration": 15,
    "start_time": "2022-12-09T21:21:49.147Z"
   },
   {
    "duration": 144,
    "start_time": "2022-12-09T21:21:49.164Z"
   },
   {
    "duration": 5,
    "start_time": "2022-12-09T21:21:49.309Z"
   },
   {
    "duration": 7,
    "start_time": "2022-12-09T21:21:49.316Z"
   },
   {
    "duration": 12,
    "start_time": "2022-12-09T21:21:49.325Z"
   },
   {
    "duration": 7,
    "start_time": "2022-12-09T21:21:49.338Z"
   },
   {
    "duration": 7,
    "start_time": "2022-12-09T21:21:49.346Z"
   },
   {
    "duration": 53,
    "start_time": "2022-12-09T21:21:49.354Z"
   },
   {
    "duration": 10,
    "start_time": "2022-12-09T21:21:49.409Z"
   },
   {
    "duration": 4,
    "start_time": "2022-12-09T21:21:49.421Z"
   },
   {
    "duration": 10,
    "start_time": "2022-12-09T21:21:49.427Z"
   },
   {
    "duration": 6,
    "start_time": "2022-12-09T21:21:49.441Z"
   },
   {
    "duration": 6,
    "start_time": "2022-12-09T21:21:49.449Z"
   },
   {
    "duration": 54,
    "start_time": "2022-12-09T21:21:49.457Z"
   },
   {
    "duration": 12,
    "start_time": "2022-12-09T21:21:49.512Z"
   },
   {
    "duration": 45,
    "start_time": "2022-12-12T20:03:52.521Z"
   },
   {
    "duration": 1283,
    "start_time": "2022-12-12T20:03:57.696Z"
   },
   {
    "duration": 246,
    "start_time": "2022-12-12T20:03:58.981Z"
   },
   {
    "duration": 4,
    "start_time": "2022-12-12T20:03:59.229Z"
   },
   {
    "duration": 20,
    "start_time": "2022-12-12T20:03:59.234Z"
   },
   {
    "duration": 15,
    "start_time": "2022-12-12T20:04:01.400Z"
   },
   {
    "duration": 11,
    "start_time": "2022-12-12T20:04:02.928Z"
   },
   {
    "duration": 62,
    "start_time": "2022-12-12T20:04:04.951Z"
   },
   {
    "duration": 10,
    "start_time": "2022-12-12T20:04:40.529Z"
   },
   {
    "duration": 8,
    "start_time": "2022-12-12T20:05:12.079Z"
   },
   {
    "duration": 9,
    "start_time": "2022-12-12T20:05:23.756Z"
   },
   {
    "duration": 9,
    "start_time": "2022-12-12T20:05:35.075Z"
   },
   {
    "duration": 9,
    "start_time": "2022-12-12T20:06:09.916Z"
   },
   {
    "duration": 8,
    "start_time": "2022-12-12T20:06:18.618Z"
   },
   {
    "duration": 11,
    "start_time": "2022-12-12T20:06:51.897Z"
   },
   {
    "duration": 10,
    "start_time": "2022-12-12T20:07:17.531Z"
   },
   {
    "duration": 6,
    "start_time": "2022-12-12T20:07:28.818Z"
   },
   {
    "duration": 5,
    "start_time": "2022-12-12T20:07:42.465Z"
   },
   {
    "duration": 9,
    "start_time": "2022-12-12T20:07:51.779Z"
   },
   {
    "duration": 4,
    "start_time": "2022-12-12T20:08:02.090Z"
   },
   {
    "duration": 8,
    "start_time": "2022-12-12T20:08:15.598Z"
   },
   {
    "duration": 5,
    "start_time": "2022-12-12T20:08:27.907Z"
   },
   {
    "duration": 10,
    "start_time": "2022-12-12T20:10:39.025Z"
   },
   {
    "duration": 4,
    "start_time": "2022-12-12T20:10:53.691Z"
   },
   {
    "duration": 77,
    "start_time": "2022-12-12T20:11:18.605Z"
   },
   {
    "duration": 76,
    "start_time": "2022-12-12T20:12:28.603Z"
   },
   {
    "duration": 3,
    "start_time": "2022-12-12T20:12:33.923Z"
   },
   {
    "duration": 71,
    "start_time": "2022-12-12T20:12:34.106Z"
   },
   {
    "duration": 4,
    "start_time": "2022-12-12T20:12:34.295Z"
   },
   {
    "duration": 12,
    "start_time": "2022-12-12T20:12:34.511Z"
   },
   {
    "duration": 12,
    "start_time": "2022-12-12T20:12:34.712Z"
   },
   {
    "duration": 7,
    "start_time": "2022-12-12T20:12:35.160Z"
   },
   {
    "duration": 7,
    "start_time": "2022-12-12T20:12:35.378Z"
   },
   {
    "duration": 4,
    "start_time": "2022-12-12T20:12:35.577Z"
   },
   {
    "duration": 8,
    "start_time": "2022-12-12T20:12:36.033Z"
   },
   {
    "duration": 67,
    "start_time": "2022-12-12T20:12:36.480Z"
   },
   {
    "duration": 10,
    "start_time": "2022-12-12T20:12:36.944Z"
   },
   {
    "duration": 13,
    "start_time": "2022-12-12T20:12:37.441Z"
   },
   {
    "duration": 1047,
    "start_time": "2022-12-12T20:13:06.159Z"
   },
   {
    "duration": 71,
    "start_time": "2022-12-12T20:13:07.208Z"
   },
   {
    "duration": 3,
    "start_time": "2022-12-12T20:13:07.281Z"
   },
   {
    "duration": 24,
    "start_time": "2022-12-12T20:13:07.285Z"
   },
   {
    "duration": 15,
    "start_time": "2022-12-12T20:13:07.311Z"
   },
   {
    "duration": 11,
    "start_time": "2022-12-12T20:13:07.328Z"
   },
   {
    "duration": 7,
    "start_time": "2022-12-12T20:13:07.341Z"
   },
   {
    "duration": 7,
    "start_time": "2022-12-12T20:13:07.349Z"
   },
   {
    "duration": 9,
    "start_time": "2022-12-12T20:13:07.357Z"
   },
   {
    "duration": 64,
    "start_time": "2022-12-12T20:13:07.369Z"
   },
   {
    "duration": 0,
    "start_time": "2022-12-12T20:13:07.435Z"
   },
   {
    "duration": 0,
    "start_time": "2022-12-12T20:13:07.437Z"
   },
   {
    "duration": 0,
    "start_time": "2022-12-12T20:13:07.438Z"
   },
   {
    "duration": 0,
    "start_time": "2022-12-12T20:13:07.439Z"
   },
   {
    "duration": 0,
    "start_time": "2022-12-12T20:13:07.440Z"
   },
   {
    "duration": 0,
    "start_time": "2022-12-12T20:13:07.441Z"
   },
   {
    "duration": 0,
    "start_time": "2022-12-12T20:13:07.442Z"
   },
   {
    "duration": 0,
    "start_time": "2022-12-12T20:13:07.443Z"
   },
   {
    "duration": 0,
    "start_time": "2022-12-12T20:13:07.445Z"
   },
   {
    "duration": 0,
    "start_time": "2022-12-12T20:13:07.446Z"
   },
   {
    "duration": 0,
    "start_time": "2022-12-12T20:13:07.448Z"
   },
   {
    "duration": 0,
    "start_time": "2022-12-12T20:13:07.449Z"
   },
   {
    "duration": 0,
    "start_time": "2022-12-12T20:13:07.450Z"
   },
   {
    "duration": 0,
    "start_time": "2022-12-12T20:13:07.451Z"
   },
   {
    "duration": 0,
    "start_time": "2022-12-12T20:13:07.453Z"
   },
   {
    "duration": 0,
    "start_time": "2022-12-12T20:13:07.454Z"
   },
   {
    "duration": 0,
    "start_time": "2022-12-12T20:13:07.455Z"
   },
   {
    "duration": 0,
    "start_time": "2022-12-12T20:13:07.456Z"
   },
   {
    "duration": 0,
    "start_time": "2022-12-12T20:13:07.458Z"
   },
   {
    "duration": 0,
    "start_time": "2022-12-12T20:13:07.459Z"
   },
   {
    "duration": 0,
    "start_time": "2022-12-12T20:13:07.460Z"
   },
   {
    "duration": 0,
    "start_time": "2022-12-12T20:13:07.461Z"
   },
   {
    "duration": 0,
    "start_time": "2022-12-12T20:13:07.463Z"
   },
   {
    "duration": 0,
    "start_time": "2022-12-12T20:13:07.464Z"
   },
   {
    "duration": 0,
    "start_time": "2022-12-12T20:13:07.465Z"
   },
   {
    "duration": 0,
    "start_time": "2022-12-12T20:13:07.466Z"
   },
   {
    "duration": 0,
    "start_time": "2022-12-12T20:13:07.467Z"
   },
   {
    "duration": 0,
    "start_time": "2022-12-12T20:13:07.468Z"
   },
   {
    "duration": 0,
    "start_time": "2022-12-12T20:13:07.469Z"
   },
   {
    "duration": 0,
    "start_time": "2022-12-12T20:13:07.470Z"
   },
   {
    "duration": 0,
    "start_time": "2022-12-12T20:13:07.471Z"
   },
   {
    "duration": 0,
    "start_time": "2022-12-12T20:13:07.472Z"
   },
   {
    "duration": 0,
    "start_time": "2022-12-12T20:13:07.527Z"
   },
   {
    "duration": 0,
    "start_time": "2022-12-12T20:13:07.528Z"
   },
   {
    "duration": 0,
    "start_time": "2022-12-12T20:13:07.529Z"
   },
   {
    "duration": 4,
    "start_time": "2022-12-12T20:13:09.479Z"
   },
   {
    "duration": 74,
    "start_time": "2022-12-12T20:13:09.484Z"
   },
   {
    "duration": 3,
    "start_time": "2022-12-12T20:13:09.560Z"
   },
   {
    "duration": 15,
    "start_time": "2022-12-12T20:13:09.565Z"
   },
   {
    "duration": 16,
    "start_time": "2022-12-12T20:13:09.582Z"
   },
   {
    "duration": 11,
    "start_time": "2022-12-12T20:13:09.600Z"
   },
   {
    "duration": 12,
    "start_time": "2022-12-12T20:13:09.613Z"
   },
   {
    "duration": 5,
    "start_time": "2022-12-12T20:13:09.627Z"
   },
   {
    "duration": 9,
    "start_time": "2022-12-12T20:13:09.634Z"
   },
   {
    "duration": 72,
    "start_time": "2022-12-12T20:13:09.645Z"
   },
   {
    "duration": 0,
    "start_time": "2022-12-12T20:13:09.719Z"
   },
   {
    "duration": 1,
    "start_time": "2022-12-12T20:13:09.720Z"
   },
   {
    "duration": 0,
    "start_time": "2022-12-12T20:13:09.721Z"
   },
   {
    "duration": 0,
    "start_time": "2022-12-12T20:13:09.722Z"
   },
   {
    "duration": 0,
    "start_time": "2022-12-12T20:13:09.723Z"
   },
   {
    "duration": 0,
    "start_time": "2022-12-12T20:13:09.725Z"
   },
   {
    "duration": 0,
    "start_time": "2022-12-12T20:13:09.726Z"
   },
   {
    "duration": 0,
    "start_time": "2022-12-12T20:13:09.727Z"
   },
   {
    "duration": 0,
    "start_time": "2022-12-12T20:13:09.728Z"
   },
   {
    "duration": 0,
    "start_time": "2022-12-12T20:13:09.729Z"
   },
   {
    "duration": 0,
    "start_time": "2022-12-12T20:13:09.730Z"
   },
   {
    "duration": 0,
    "start_time": "2022-12-12T20:13:09.731Z"
   },
   {
    "duration": 0,
    "start_time": "2022-12-12T20:13:09.732Z"
   },
   {
    "duration": 0,
    "start_time": "2022-12-12T20:13:09.733Z"
   },
   {
    "duration": 0,
    "start_time": "2022-12-12T20:13:09.734Z"
   },
   {
    "duration": 0,
    "start_time": "2022-12-12T20:13:09.735Z"
   },
   {
    "duration": 0,
    "start_time": "2022-12-12T20:13:09.736Z"
   },
   {
    "duration": 0,
    "start_time": "2022-12-12T20:13:09.737Z"
   },
   {
    "duration": 0,
    "start_time": "2022-12-12T20:13:09.738Z"
   },
   {
    "duration": 1,
    "start_time": "2022-12-12T20:13:09.739Z"
   },
   {
    "duration": 0,
    "start_time": "2022-12-12T20:13:09.741Z"
   },
   {
    "duration": 0,
    "start_time": "2022-12-12T20:13:09.742Z"
   },
   {
    "duration": 0,
    "start_time": "2022-12-12T20:13:09.743Z"
   },
   {
    "duration": 0,
    "start_time": "2022-12-12T20:13:09.744Z"
   },
   {
    "duration": 0,
    "start_time": "2022-12-12T20:13:09.744Z"
   },
   {
    "duration": 0,
    "start_time": "2022-12-12T20:13:09.745Z"
   },
   {
    "duration": 0,
    "start_time": "2022-12-12T20:13:09.746Z"
   },
   {
    "duration": 0,
    "start_time": "2022-12-12T20:13:09.747Z"
   },
   {
    "duration": 0,
    "start_time": "2022-12-12T20:13:09.748Z"
   },
   {
    "duration": 0,
    "start_time": "2022-12-12T20:13:09.749Z"
   },
   {
    "duration": 0,
    "start_time": "2022-12-12T20:13:09.750Z"
   },
   {
    "duration": 0,
    "start_time": "2022-12-12T20:13:09.751Z"
   },
   {
    "duration": 0,
    "start_time": "2022-12-12T20:13:09.752Z"
   },
   {
    "duration": 0,
    "start_time": "2022-12-12T20:13:09.754Z"
   },
   {
    "duration": 0,
    "start_time": "2022-12-12T20:13:09.755Z"
   },
   {
    "duration": 73,
    "start_time": "2022-12-12T20:13:26.248Z"
   },
   {
    "duration": 12,
    "start_time": "2022-12-12T20:13:34.175Z"
   },
   {
    "duration": 13,
    "start_time": "2022-12-12T20:13:40.504Z"
   },
   {
    "duration": 5,
    "start_time": "2022-12-12T20:14:25.895Z"
   },
   {
    "duration": 7,
    "start_time": "2022-12-12T20:14:48.346Z"
   },
   {
    "duration": 9,
    "start_time": "2022-12-12T20:15:11.696Z"
   },
   {
    "duration": 118,
    "start_time": "2022-12-12T20:25:11.544Z"
   },
   {
    "duration": 5,
    "start_time": "2022-12-12T20:25:18.779Z"
   },
   {
    "duration": 7,
    "start_time": "2022-12-12T20:25:19.213Z"
   },
   {
    "duration": 8,
    "start_time": "2022-12-12T20:25:19.707Z"
   },
   {
    "duration": 5,
    "start_time": "2022-12-12T20:25:20.955Z"
   },
   {
    "duration": 160,
    "start_time": "2022-12-12T20:25:21.506Z"
   },
   {
    "duration": 4,
    "start_time": "2022-12-12T20:25:21.993Z"
   },
   {
    "duration": 12,
    "start_time": "2022-12-12T20:25:22.571Z"
   },
   {
    "duration": 119,
    "start_time": "2022-12-12T20:25:25.010Z"
   },
   {
    "duration": 14,
    "start_time": "2022-12-12T20:25:25.586Z"
   },
   {
    "duration": 6,
    "start_time": "2022-12-12T20:25:26.380Z"
   },
   {
    "duration": 251,
    "start_time": "2022-12-12T20:25:28.714Z"
   },
   {
    "duration": 278,
    "start_time": "2022-12-12T20:28:04.500Z"
   },
   {
    "duration": 206,
    "start_time": "2022-12-12T20:28:34.147Z"
   },
   {
    "duration": 298,
    "start_time": "2022-12-12T20:28:47.650Z"
   },
   {
    "duration": 14,
    "start_time": "2022-12-12T20:28:57.049Z"
   },
   {
    "duration": 261,
    "start_time": "2022-12-12T20:29:53.465Z"
   },
   {
    "duration": 284,
    "start_time": "2022-12-12T20:30:10.642Z"
   },
   {
    "duration": 286,
    "start_time": "2022-12-12T20:30:39.648Z"
   },
   {
    "duration": 362,
    "start_time": "2022-12-12T20:30:56.151Z"
   },
   {
    "duration": 171,
    "start_time": "2022-12-12T20:31:06.410Z"
   },
   {
    "duration": 198,
    "start_time": "2022-12-12T20:31:33.720Z"
   },
   {
    "duration": 270,
    "start_time": "2022-12-12T20:35:03.867Z"
   },
   {
    "duration": 10,
    "start_time": "2022-12-12T20:39:24.403Z"
   },
   {
    "duration": 135,
    "start_time": "2022-12-12T20:39:34.147Z"
   },
   {
    "duration": 5,
    "start_time": "2022-12-12T20:39:35.986Z"
   },
   {
    "duration": 4,
    "start_time": "2022-12-12T20:39:36.670Z"
   },
   {
    "duration": 125,
    "start_time": "2022-12-12T20:39:37.183Z"
   },
   {
    "duration": 5,
    "start_time": "2022-12-12T20:39:38.746Z"
   },
   {
    "duration": 5,
    "start_time": "2022-12-12T20:39:39.900Z"
   },
   {
    "duration": 11,
    "start_time": "2022-12-12T20:39:40.413Z"
   },
   {
    "duration": 13,
    "start_time": "2022-12-12T20:39:40.914Z"
   },
   {
    "duration": 9,
    "start_time": "2022-12-12T20:39:41.202Z"
   },
   {
    "duration": 4,
    "start_time": "2022-12-12T20:39:47.340Z"
   },
   {
    "duration": 85,
    "start_time": "2022-12-12T20:39:47.347Z"
   },
   {
    "duration": 8,
    "start_time": "2022-12-12T20:39:47.434Z"
   },
   {
    "duration": 23,
    "start_time": "2022-12-12T20:39:47.444Z"
   },
   {
    "duration": 16,
    "start_time": "2022-12-12T20:39:47.469Z"
   },
   {
    "duration": 11,
    "start_time": "2022-12-12T20:39:47.487Z"
   },
   {
    "duration": 8,
    "start_time": "2022-12-12T20:39:47.500Z"
   },
   {
    "duration": 7,
    "start_time": "2022-12-12T20:39:47.510Z"
   },
   {
    "duration": 19,
    "start_time": "2022-12-12T20:39:47.528Z"
   },
   {
    "duration": 21,
    "start_time": "2022-12-12T20:39:47.550Z"
   },
   {
    "duration": 23,
    "start_time": "2022-12-12T20:39:47.572Z"
   },
   {
    "duration": 52,
    "start_time": "2022-12-12T20:39:47.597Z"
   },
   {
    "duration": 12,
    "start_time": "2022-12-12T20:39:47.650Z"
   },
   {
    "duration": 9,
    "start_time": "2022-12-12T20:39:47.664Z"
   },
   {
    "duration": 9,
    "start_time": "2022-12-12T20:39:47.674Z"
   },
   {
    "duration": 5,
    "start_time": "2022-12-12T20:39:47.684Z"
   },
   {
    "duration": 156,
    "start_time": "2022-12-12T20:39:47.690Z"
   },
   {
    "duration": 3,
    "start_time": "2022-12-12T20:39:47.848Z"
   },
   {
    "duration": 17,
    "start_time": "2022-12-12T20:39:47.853Z"
   },
   {
    "duration": 122,
    "start_time": "2022-12-12T20:39:47.872Z"
   },
   {
    "duration": 12,
    "start_time": "2022-12-12T20:39:47.996Z"
   },
   {
    "duration": 25,
    "start_time": "2022-12-12T20:39:48.010Z"
   },
   {
    "duration": 306,
    "start_time": "2022-12-12T20:39:48.036Z"
   },
   {
    "duration": 187,
    "start_time": "2022-12-12T20:39:48.344Z"
   },
   {
    "duration": 282,
    "start_time": "2022-12-12T20:39:48.533Z"
   },
   {
    "duration": 208,
    "start_time": "2022-12-12T20:39:48.816Z"
   },
   {
    "duration": 310,
    "start_time": "2022-12-12T20:39:49.026Z"
   },
   {
    "duration": 13,
    "start_time": "2022-12-12T20:39:49.340Z"
   },
   {
    "duration": 130,
    "start_time": "2022-12-12T20:39:49.354Z"
   },
   {
    "duration": 5,
    "start_time": "2022-12-12T20:39:49.486Z"
   },
   {
    "duration": 10,
    "start_time": "2022-12-12T20:39:49.492Z"
   },
   {
    "duration": 210,
    "start_time": "2022-12-12T20:39:49.504Z"
   },
   {
    "duration": 4,
    "start_time": "2022-12-12T20:39:49.716Z"
   },
   {
    "duration": 27,
    "start_time": "2022-12-12T20:39:49.721Z"
   },
   {
    "duration": 11,
    "start_time": "2022-12-12T20:39:49.750Z"
   },
   {
    "duration": 10,
    "start_time": "2022-12-12T20:39:49.763Z"
   },
   {
    "duration": 0,
    "start_time": "2022-12-12T20:39:49.774Z"
   },
   {
    "duration": 0,
    "start_time": "2022-12-12T20:39:49.775Z"
   },
   {
    "duration": 1,
    "start_time": "2022-12-12T20:39:49.776Z"
   },
   {
    "duration": 0,
    "start_time": "2022-12-12T20:39:49.777Z"
   },
   {
    "duration": 0,
    "start_time": "2022-12-12T20:39:49.778Z"
   },
   {
    "duration": 0,
    "start_time": "2022-12-12T20:39:49.779Z"
   },
   {
    "duration": 0,
    "start_time": "2022-12-12T20:39:49.780Z"
   },
   {
    "duration": 0,
    "start_time": "2022-12-12T20:39:49.781Z"
   },
   {
    "duration": 0,
    "start_time": "2022-12-12T20:39:49.782Z"
   },
   {
    "duration": 9,
    "start_time": "2022-12-12T20:40:14.184Z"
   },
   {
    "duration": 10,
    "start_time": "2022-12-12T20:40:16.675Z"
   },
   {
    "duration": 11,
    "start_time": "2022-12-12T20:40:45.009Z"
   },
   {
    "duration": 7,
    "start_time": "2022-12-12T20:40:47.867Z"
   },
   {
    "duration": 11,
    "start_time": "2022-12-12T20:41:18.922Z"
   },
   {
    "duration": 4,
    "start_time": "2022-12-12T20:41:32.899Z"
   },
   {
    "duration": 10,
    "start_time": "2022-12-12T20:41:36.489Z"
   },
   {
    "duration": 3,
    "start_time": "2022-12-12T20:41:56.122Z"
   },
   {
    "duration": 96,
    "start_time": "2022-12-12T20:41:56.609Z"
   },
   {
    "duration": 5,
    "start_time": "2022-12-12T20:41:56.915Z"
   },
   {
    "duration": 11,
    "start_time": "2022-12-12T20:41:57.179Z"
   },
   {
    "duration": 23,
    "start_time": "2022-12-12T20:41:57.428Z"
   },
   {
    "duration": 10,
    "start_time": "2022-12-12T20:41:57.892Z"
   },
   {
    "duration": 9,
    "start_time": "2022-12-12T20:41:58.121Z"
   },
   {
    "duration": 5,
    "start_time": "2022-12-12T20:41:58.364Z"
   },
   {
    "duration": 7,
    "start_time": "2022-12-12T20:41:58.875Z"
   },
   {
    "duration": 13,
    "start_time": "2022-12-12T20:41:59.355Z"
   },
   {
    "duration": 17,
    "start_time": "2022-12-12T20:41:59.846Z"
   },
   {
    "duration": 19,
    "start_time": "2022-12-12T20:42:00.342Z"
   },
   {
    "duration": 5,
    "start_time": "2022-12-12T20:42:09.393Z"
   },
   {
    "duration": 10,
    "start_time": "2022-12-12T20:42:09.625Z"
   },
   {
    "duration": 7,
    "start_time": "2022-12-12T20:42:09.890Z"
   },
   {
    "duration": 7,
    "start_time": "2022-12-12T20:42:10.363Z"
   },
   {
    "duration": 185,
    "start_time": "2022-12-12T20:42:10.578Z"
   },
   {
    "duration": 4,
    "start_time": "2022-12-12T20:42:11.223Z"
   },
   {
    "duration": 45,
    "start_time": "2022-12-12T20:42:11.229Z"
   },
   {
    "duration": 138,
    "start_time": "2022-12-12T20:42:11.278Z"
   },
   {
    "duration": 16,
    "start_time": "2022-12-12T20:42:11.553Z"
   },
   {
    "duration": 6,
    "start_time": "2022-12-12T20:42:11.771Z"
   },
   {
    "duration": 320,
    "start_time": "2022-12-12T20:42:12.248Z"
   },
   {
    "duration": 205,
    "start_time": "2022-12-12T20:42:13.445Z"
   },
   {
    "duration": 273,
    "start_time": "2022-12-12T20:42:14.439Z"
   },
   {
    "duration": 298,
    "start_time": "2022-12-12T20:42:15.391Z"
   },
   {
    "duration": 352,
    "start_time": "2022-12-12T20:42:16.314Z"
   },
   {
    "duration": 27,
    "start_time": "2022-12-12T20:42:17.818Z"
   },
   {
    "duration": 140,
    "start_time": "2022-12-12T20:42:18.307Z"
   },
   {
    "duration": 5,
    "start_time": "2022-12-12T20:42:19.260Z"
   },
   {
    "duration": 11,
    "start_time": "2022-12-12T20:42:20.026Z"
   },
   {
    "duration": 134,
    "start_time": "2022-12-12T20:42:20.514Z"
   },
   {
    "duration": 6,
    "start_time": "2022-12-12T20:42:21.561Z"
   },
   {
    "duration": 5,
    "start_time": "2022-12-12T20:42:22.267Z"
   },
   {
    "duration": 9,
    "start_time": "2022-12-12T20:42:22.786Z"
   },
   {
    "duration": 6,
    "start_time": "2022-12-12T20:42:23.218Z"
   },
   {
    "duration": 5,
    "start_time": "2022-12-12T20:42:23.490Z"
   },
   {
    "duration": 14,
    "start_time": "2022-12-12T20:42:24.220Z"
   },
   {
    "duration": 22,
    "start_time": "2022-12-12T20:43:10.218Z"
   },
   {
    "duration": 4,
    "start_time": "2022-12-12T20:43:21.873Z"
   },
   {
    "duration": 9,
    "start_time": "2022-12-12T20:43:22.659Z"
   },
   {
    "duration": 6,
    "start_time": "2022-12-12T20:43:24.253Z"
   },
   {
    "duration": 5,
    "start_time": "2022-12-12T20:43:28.154Z"
   },
   {
    "duration": 12,
    "start_time": "2022-12-12T20:43:28.888Z"
   },
   {
    "duration": 12,
    "start_time": "2022-12-12T20:43:36.417Z"
   },
   {
    "duration": 3,
    "start_time": "2022-12-12T20:44:47.554Z"
   },
   {
    "duration": 17,
    "start_time": "2022-12-12T20:45:00.149Z"
   },
   {
    "duration": 3,
    "start_time": "2022-12-12T20:45:25.956Z"
   },
   {
    "duration": 75,
    "start_time": "2022-12-12T20:45:26.548Z"
   },
   {
    "duration": 4,
    "start_time": "2022-12-12T20:45:27.100Z"
   },
   {
    "duration": 14,
    "start_time": "2022-12-12T20:45:27.466Z"
   },
   {
    "duration": 11,
    "start_time": "2022-12-12T20:45:27.675Z"
   },
   {
    "duration": 8,
    "start_time": "2022-12-12T20:45:28.073Z"
   },
   {
    "duration": 8,
    "start_time": "2022-12-12T20:45:28.282Z"
   },
   {
    "duration": 4,
    "start_time": "2022-12-12T20:45:28.513Z"
   },
   {
    "duration": 8,
    "start_time": "2022-12-12T20:45:28.956Z"
   },
   {
    "duration": 8,
    "start_time": "2022-12-12T20:45:29.388Z"
   },
   {
    "duration": 13,
    "start_time": "2022-12-12T20:45:29.850Z"
   },
   {
    "duration": 22,
    "start_time": "2022-12-12T20:45:30.342Z"
   },
   {
    "duration": 7,
    "start_time": "2022-12-12T20:45:31.258Z"
   },
   {
    "duration": 7,
    "start_time": "2022-12-12T20:45:31.481Z"
   },
   {
    "duration": 11,
    "start_time": "2022-12-12T20:45:31.721Z"
   },
   {
    "duration": 6,
    "start_time": "2022-12-12T20:45:32.216Z"
   },
   {
    "duration": 168,
    "start_time": "2022-12-12T20:45:32.481Z"
   },
   {
    "duration": 9,
    "start_time": "2022-12-12T20:45:32.749Z"
   },
   {
    "duration": 17,
    "start_time": "2022-12-12T20:45:33.030Z"
   },
   {
    "duration": 122,
    "start_time": "2022-12-12T20:45:33.273Z"
   },
   {
    "duration": 12,
    "start_time": "2022-12-12T20:45:33.552Z"
   },
   {
    "duration": 6,
    "start_time": "2022-12-12T20:45:33.793Z"
   },
   {
    "duration": 275,
    "start_time": "2022-12-12T20:45:34.281Z"
   },
   {
    "duration": 225,
    "start_time": "2022-12-12T20:45:35.555Z"
   },
   {
    "duration": 245,
    "start_time": "2022-12-12T20:45:36.557Z"
   },
   {
    "duration": 202,
    "start_time": "2022-12-12T20:45:37.593Z"
   },
   {
    "duration": 280,
    "start_time": "2022-12-12T20:45:38.651Z"
   },
   {
    "duration": 12,
    "start_time": "2022-12-12T20:45:40.273Z"
   },
   {
    "duration": 235,
    "start_time": "2022-12-12T20:45:40.848Z"
   },
   {
    "duration": 5,
    "start_time": "2022-12-12T20:45:41.988Z"
   },
   {
    "duration": 6,
    "start_time": "2022-12-12T20:45:42.945Z"
   },
   {
    "duration": 125,
    "start_time": "2022-12-12T20:45:43.555Z"
   },
   {
    "duration": 4,
    "start_time": "2022-12-12T20:45:44.555Z"
   },
   {
    "duration": 5,
    "start_time": "2022-12-12T20:45:45.408Z"
   },
   {
    "duration": 10,
    "start_time": "2022-12-12T20:45:46.050Z"
   },
   {
    "duration": 10,
    "start_time": "2022-12-12T20:45:47.245Z"
   },
   {
    "duration": 5,
    "start_time": "2022-12-12T20:45:47.785Z"
   },
   {
    "duration": 34,
    "start_time": "2022-12-12T20:45:49.175Z"
   },
   {
    "duration": 12,
    "start_time": "2022-12-12T20:45:54.410Z"
   },
   {
    "duration": 5,
    "start_time": "2022-12-12T20:45:57.352Z"
   },
   {
    "duration": 10,
    "start_time": "2022-12-12T20:45:57.674Z"
   },
   {
    "duration": 9,
    "start_time": "2022-12-12T20:45:58.224Z"
   },
   {
    "duration": 5,
    "start_time": "2022-12-12T20:45:58.453Z"
   },
   {
    "duration": 20,
    "start_time": "2022-12-12T20:45:58.673Z"
   },
   {
    "duration": 10,
    "start_time": "2022-12-12T20:46:00.091Z"
   },
   {
    "duration": 5,
    "start_time": "2022-12-12T20:46:30.178Z"
   },
   {
    "duration": 5,
    "start_time": "2022-12-12T20:46:33.172Z"
   },
   {
    "duration": 10,
    "start_time": "2022-12-12T20:46:38.799Z"
   },
   {
    "duration": 12,
    "start_time": "2022-12-12T20:47:06.025Z"
   },
   {
    "duration": 11,
    "start_time": "2022-12-12T20:47:11.387Z"
   },
   {
    "duration": 189,
    "start_time": "2022-12-12T20:50:12.041Z"
   },
   {
    "duration": 215,
    "start_time": "2022-12-12T20:51:11.313Z"
   },
   {
    "duration": 196,
    "start_time": "2022-12-12T20:51:36.553Z"
   },
   {
    "duration": 223,
    "start_time": "2022-12-12T20:53:02.393Z"
   },
   {
    "duration": 332,
    "start_time": "2022-12-12T20:53:43.599Z"
   },
   {
    "duration": 297,
    "start_time": "2022-12-12T20:54:38.186Z"
   },
   {
    "duration": 1361,
    "start_time": "2023-02-16T19:35:29.628Z"
   },
   {
    "duration": 229,
    "start_time": "2023-02-16T19:35:30.991Z"
   },
   {
    "duration": 4,
    "start_time": "2023-02-16T19:35:31.221Z"
   },
   {
    "duration": 13,
    "start_time": "2023-02-16T19:35:31.296Z"
   }
  ],
  "kernelspec": {
   "display_name": "Python 3 (ipykernel)",
   "language": "python",
   "name": "python3"
  },
  "language_info": {
   "codemirror_mode": {
    "name": "ipython",
    "version": 3
   },
   "file_extension": ".py",
   "mimetype": "text/x-python",
   "name": "python",
   "nbconvert_exporter": "python",
   "pygments_lexer": "ipython3",
   "version": "3.9.12"
  },
  "toc": {
   "base_numbering": 1,
   "nav_menu": {},
   "number_sections": true,
   "sideBar": true,
   "skip_h1_title": true,
   "title_cell": "Table of Contents",
   "title_sidebar": "Contents",
   "toc_cell": false,
   "toc_position": {},
   "toc_section_display": true,
   "toc_window_display": false
  }
 },
 "nbformat": 4,
 "nbformat_minor": 2
}
