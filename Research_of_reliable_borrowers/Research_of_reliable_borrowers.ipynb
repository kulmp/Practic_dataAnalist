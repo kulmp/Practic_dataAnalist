{
 "cells": [
  {
   "cell_type": "markdown",
   "id": "777876be",
   "metadata": {
    "deletable": false,
    "editable": false,
    "id": "c81daeeb"
   },
   "source": [
    "# Исследование надежности заемщиков\n"
   ]
  },
  {
   "cell_type": "markdown",
   "id": "ef965b19",
   "metadata": {
    "deletable": false,
    "editable": false,
    "id": "827c20bf"
   },
   "source": [
    "Во второй части проекта вы выполните шаги 3 и 4. Их вручную проверит ревьюер.\n",
    "Чтобы вам не пришлось писать код заново для шагов 1 и 2, мы добавили авторские решения в ячейки с кодом. \n",
    "\n"
   ]
  },
  {
   "cell_type": "markdown",
   "id": "4022d77f",
   "metadata": {
    "deletable": false,
    "editable": false,
    "id": "744d7639"
   },
   "source": [
    "## Откройте таблицу и изучите общую информацию о данных"
   ]
  },
  {
   "cell_type": "markdown",
   "id": "a030ca93",
   "metadata": {
    "deletable": false,
    "editable": false,
    "id": "e7a14c31"
   },
   "source": [
    "**Задание 1. Импортируйте библиотеку pandas. Считайте данные из csv-файла в датафрейм и сохраните в переменную `data`. Путь к файлу:**\n",
    "\n",
    "`/datasets/data.csv`"
   ]
  },
  {
   "cell_type": "code",
   "execution_count": 1,
   "id": "3d0d1166",
   "metadata": {
    "deletable": false,
    "id": "7bcf75c9"
   },
   "outputs": [],
   "source": [
    "import pandas as pd\n",
    "\n",
    "try:\n",
    "    data = pd.read_csv('/datasets/data.csv')\n",
    "except:\n",
    "    data = pd.read_csv('https://code.s3.yandex.net/datasets/data.csv')"
   ]
  },
  {
   "cell_type": "markdown",
   "id": "b8a51809",
   "metadata": {
    "deletable": false,
    "editable": false,
    "id": "b8038fe3"
   },
   "source": [
    "**Задание 2. Выведите первые 20 строчек датафрейма `data` на экран.**"
   ]
  },
  {
   "cell_type": "code",
   "execution_count": 2,
   "id": "e02d96f5",
   "metadata": {
    "deletable": false,
    "id": "2a7cab99",
    "outputId": "1a8f3ef2-d323-4ec2-ddf7-89670b5944c4"
   },
   "outputs": [
    {
     "data": {
      "text/html": [
       "<div>\n",
       "<style scoped>\n",
       "    .dataframe tbody tr th:only-of-type {\n",
       "        vertical-align: middle;\n",
       "    }\n",
       "\n",
       "    .dataframe tbody tr th {\n",
       "        vertical-align: top;\n",
       "    }\n",
       "\n",
       "    .dataframe thead th {\n",
       "        text-align: right;\n",
       "    }\n",
       "</style>\n",
       "<table border=\"1\" class=\"dataframe\">\n",
       "  <thead>\n",
       "    <tr style=\"text-align: right;\">\n",
       "      <th></th>\n",
       "      <th>children</th>\n",
       "      <th>days_employed</th>\n",
       "      <th>dob_years</th>\n",
       "      <th>education</th>\n",
       "      <th>education_id</th>\n",
       "      <th>family_status</th>\n",
       "      <th>family_status_id</th>\n",
       "      <th>gender</th>\n",
       "      <th>income_type</th>\n",
       "      <th>debt</th>\n",
       "      <th>total_income</th>\n",
       "      <th>purpose</th>\n",
       "    </tr>\n",
       "  </thead>\n",
       "  <tbody>\n",
       "    <tr>\n",
       "      <th>0</th>\n",
       "      <td>1</td>\n",
       "      <td>-8437.673028</td>\n",
       "      <td>42</td>\n",
       "      <td>высшее</td>\n",
       "      <td>0</td>\n",
       "      <td>женат / замужем</td>\n",
       "      <td>0</td>\n",
       "      <td>F</td>\n",
       "      <td>сотрудник</td>\n",
       "      <td>0</td>\n",
       "      <td>253875.639453</td>\n",
       "      <td>покупка жилья</td>\n",
       "    </tr>\n",
       "    <tr>\n",
       "      <th>1</th>\n",
       "      <td>1</td>\n",
       "      <td>-4024.803754</td>\n",
       "      <td>36</td>\n",
       "      <td>среднее</td>\n",
       "      <td>1</td>\n",
       "      <td>женат / замужем</td>\n",
       "      <td>0</td>\n",
       "      <td>F</td>\n",
       "      <td>сотрудник</td>\n",
       "      <td>0</td>\n",
       "      <td>112080.014102</td>\n",
       "      <td>приобретение автомобиля</td>\n",
       "    </tr>\n",
       "    <tr>\n",
       "      <th>2</th>\n",
       "      <td>0</td>\n",
       "      <td>-5623.422610</td>\n",
       "      <td>33</td>\n",
       "      <td>Среднее</td>\n",
       "      <td>1</td>\n",
       "      <td>женат / замужем</td>\n",
       "      <td>0</td>\n",
       "      <td>M</td>\n",
       "      <td>сотрудник</td>\n",
       "      <td>0</td>\n",
       "      <td>145885.952297</td>\n",
       "      <td>покупка жилья</td>\n",
       "    </tr>\n",
       "    <tr>\n",
       "      <th>3</th>\n",
       "      <td>3</td>\n",
       "      <td>-4124.747207</td>\n",
       "      <td>32</td>\n",
       "      <td>среднее</td>\n",
       "      <td>1</td>\n",
       "      <td>женат / замужем</td>\n",
       "      <td>0</td>\n",
       "      <td>M</td>\n",
       "      <td>сотрудник</td>\n",
       "      <td>0</td>\n",
       "      <td>267628.550329</td>\n",
       "      <td>дополнительное образование</td>\n",
       "    </tr>\n",
       "    <tr>\n",
       "      <th>4</th>\n",
       "      <td>0</td>\n",
       "      <td>340266.072047</td>\n",
       "      <td>53</td>\n",
       "      <td>среднее</td>\n",
       "      <td>1</td>\n",
       "      <td>гражданский брак</td>\n",
       "      <td>1</td>\n",
       "      <td>F</td>\n",
       "      <td>пенсионер</td>\n",
       "      <td>0</td>\n",
       "      <td>158616.077870</td>\n",
       "      <td>сыграть свадьбу</td>\n",
       "    </tr>\n",
       "    <tr>\n",
       "      <th>5</th>\n",
       "      <td>0</td>\n",
       "      <td>-926.185831</td>\n",
       "      <td>27</td>\n",
       "      <td>высшее</td>\n",
       "      <td>0</td>\n",
       "      <td>гражданский брак</td>\n",
       "      <td>1</td>\n",
       "      <td>M</td>\n",
       "      <td>компаньон</td>\n",
       "      <td>0</td>\n",
       "      <td>255763.565419</td>\n",
       "      <td>покупка жилья</td>\n",
       "    </tr>\n",
       "    <tr>\n",
       "      <th>6</th>\n",
       "      <td>0</td>\n",
       "      <td>-2879.202052</td>\n",
       "      <td>43</td>\n",
       "      <td>высшее</td>\n",
       "      <td>0</td>\n",
       "      <td>женат / замужем</td>\n",
       "      <td>0</td>\n",
       "      <td>F</td>\n",
       "      <td>компаньон</td>\n",
       "      <td>0</td>\n",
       "      <td>240525.971920</td>\n",
       "      <td>операции с жильем</td>\n",
       "    </tr>\n",
       "    <tr>\n",
       "      <th>7</th>\n",
       "      <td>0</td>\n",
       "      <td>-152.779569</td>\n",
       "      <td>50</td>\n",
       "      <td>СРЕДНЕЕ</td>\n",
       "      <td>1</td>\n",
       "      <td>женат / замужем</td>\n",
       "      <td>0</td>\n",
       "      <td>M</td>\n",
       "      <td>сотрудник</td>\n",
       "      <td>0</td>\n",
       "      <td>135823.934197</td>\n",
       "      <td>образование</td>\n",
       "    </tr>\n",
       "    <tr>\n",
       "      <th>8</th>\n",
       "      <td>2</td>\n",
       "      <td>-6929.865299</td>\n",
       "      <td>35</td>\n",
       "      <td>ВЫСШЕЕ</td>\n",
       "      <td>0</td>\n",
       "      <td>гражданский брак</td>\n",
       "      <td>1</td>\n",
       "      <td>F</td>\n",
       "      <td>сотрудник</td>\n",
       "      <td>0</td>\n",
       "      <td>95856.832424</td>\n",
       "      <td>на проведение свадьбы</td>\n",
       "    </tr>\n",
       "    <tr>\n",
       "      <th>9</th>\n",
       "      <td>0</td>\n",
       "      <td>-2188.756445</td>\n",
       "      <td>41</td>\n",
       "      <td>среднее</td>\n",
       "      <td>1</td>\n",
       "      <td>женат / замужем</td>\n",
       "      <td>0</td>\n",
       "      <td>M</td>\n",
       "      <td>сотрудник</td>\n",
       "      <td>0</td>\n",
       "      <td>144425.938277</td>\n",
       "      <td>покупка жилья для семьи</td>\n",
       "    </tr>\n",
       "    <tr>\n",
       "      <th>10</th>\n",
       "      <td>2</td>\n",
       "      <td>-4171.483647</td>\n",
       "      <td>36</td>\n",
       "      <td>высшее</td>\n",
       "      <td>0</td>\n",
       "      <td>женат / замужем</td>\n",
       "      <td>0</td>\n",
       "      <td>M</td>\n",
       "      <td>компаньон</td>\n",
       "      <td>0</td>\n",
       "      <td>113943.491460</td>\n",
       "      <td>покупка недвижимости</td>\n",
       "    </tr>\n",
       "    <tr>\n",
       "      <th>11</th>\n",
       "      <td>0</td>\n",
       "      <td>-792.701887</td>\n",
       "      <td>40</td>\n",
       "      <td>среднее</td>\n",
       "      <td>1</td>\n",
       "      <td>женат / замужем</td>\n",
       "      <td>0</td>\n",
       "      <td>F</td>\n",
       "      <td>сотрудник</td>\n",
       "      <td>0</td>\n",
       "      <td>77069.234271</td>\n",
       "      <td>покупка коммерческой недвижимости</td>\n",
       "    </tr>\n",
       "    <tr>\n",
       "      <th>12</th>\n",
       "      <td>0</td>\n",
       "      <td>NaN</td>\n",
       "      <td>65</td>\n",
       "      <td>среднее</td>\n",
       "      <td>1</td>\n",
       "      <td>гражданский брак</td>\n",
       "      <td>1</td>\n",
       "      <td>M</td>\n",
       "      <td>пенсионер</td>\n",
       "      <td>0</td>\n",
       "      <td>NaN</td>\n",
       "      <td>сыграть свадьбу</td>\n",
       "    </tr>\n",
       "    <tr>\n",
       "      <th>13</th>\n",
       "      <td>0</td>\n",
       "      <td>-1846.641941</td>\n",
       "      <td>54</td>\n",
       "      <td>неоконченное высшее</td>\n",
       "      <td>2</td>\n",
       "      <td>женат / замужем</td>\n",
       "      <td>0</td>\n",
       "      <td>F</td>\n",
       "      <td>сотрудник</td>\n",
       "      <td>0</td>\n",
       "      <td>130458.228857</td>\n",
       "      <td>приобретение автомобиля</td>\n",
       "    </tr>\n",
       "    <tr>\n",
       "      <th>14</th>\n",
       "      <td>0</td>\n",
       "      <td>-1844.956182</td>\n",
       "      <td>56</td>\n",
       "      <td>высшее</td>\n",
       "      <td>0</td>\n",
       "      <td>гражданский брак</td>\n",
       "      <td>1</td>\n",
       "      <td>F</td>\n",
       "      <td>компаньон</td>\n",
       "      <td>1</td>\n",
       "      <td>165127.911772</td>\n",
       "      <td>покупка жилой недвижимости</td>\n",
       "    </tr>\n",
       "    <tr>\n",
       "      <th>15</th>\n",
       "      <td>1</td>\n",
       "      <td>-972.364419</td>\n",
       "      <td>26</td>\n",
       "      <td>среднее</td>\n",
       "      <td>1</td>\n",
       "      <td>женат / замужем</td>\n",
       "      <td>0</td>\n",
       "      <td>F</td>\n",
       "      <td>сотрудник</td>\n",
       "      <td>0</td>\n",
       "      <td>116820.904450</td>\n",
       "      <td>строительство собственной недвижимости</td>\n",
       "    </tr>\n",
       "    <tr>\n",
       "      <th>16</th>\n",
       "      <td>0</td>\n",
       "      <td>-1719.934226</td>\n",
       "      <td>35</td>\n",
       "      <td>среднее</td>\n",
       "      <td>1</td>\n",
       "      <td>женат / замужем</td>\n",
       "      <td>0</td>\n",
       "      <td>F</td>\n",
       "      <td>сотрудник</td>\n",
       "      <td>0</td>\n",
       "      <td>289202.704229</td>\n",
       "      <td>недвижимость</td>\n",
       "    </tr>\n",
       "    <tr>\n",
       "      <th>17</th>\n",
       "      <td>0</td>\n",
       "      <td>-2369.999720</td>\n",
       "      <td>33</td>\n",
       "      <td>высшее</td>\n",
       "      <td>0</td>\n",
       "      <td>гражданский брак</td>\n",
       "      <td>1</td>\n",
       "      <td>M</td>\n",
       "      <td>сотрудник</td>\n",
       "      <td>0</td>\n",
       "      <td>90410.586745</td>\n",
       "      <td>строительство недвижимости</td>\n",
       "    </tr>\n",
       "    <tr>\n",
       "      <th>18</th>\n",
       "      <td>0</td>\n",
       "      <td>400281.136913</td>\n",
       "      <td>53</td>\n",
       "      <td>среднее</td>\n",
       "      <td>1</td>\n",
       "      <td>вдовец / вдова</td>\n",
       "      <td>2</td>\n",
       "      <td>F</td>\n",
       "      <td>пенсионер</td>\n",
       "      <td>0</td>\n",
       "      <td>56823.777243</td>\n",
       "      <td>на покупку подержанного автомобиля</td>\n",
       "    </tr>\n",
       "    <tr>\n",
       "      <th>19</th>\n",
       "      <td>0</td>\n",
       "      <td>-10038.818549</td>\n",
       "      <td>48</td>\n",
       "      <td>СРЕДНЕЕ</td>\n",
       "      <td>1</td>\n",
       "      <td>в разводе</td>\n",
       "      <td>3</td>\n",
       "      <td>F</td>\n",
       "      <td>сотрудник</td>\n",
       "      <td>0</td>\n",
       "      <td>242831.107982</td>\n",
       "      <td>на покупку своего автомобиля</td>\n",
       "    </tr>\n",
       "  </tbody>\n",
       "</table>\n",
       "</div>"
      ],
      "text/plain": [
       "    children  days_employed  dob_years            education  education_id  \\\n",
       "0          1   -8437.673028         42               высшее             0   \n",
       "1          1   -4024.803754         36              среднее             1   \n",
       "2          0   -5623.422610         33              Среднее             1   \n",
       "3          3   -4124.747207         32              среднее             1   \n",
       "4          0  340266.072047         53              среднее             1   \n",
       "5          0    -926.185831         27               высшее             0   \n",
       "6          0   -2879.202052         43               высшее             0   \n",
       "7          0    -152.779569         50              СРЕДНЕЕ             1   \n",
       "8          2   -6929.865299         35               ВЫСШЕЕ             0   \n",
       "9          0   -2188.756445         41              среднее             1   \n",
       "10         2   -4171.483647         36               высшее             0   \n",
       "11         0    -792.701887         40              среднее             1   \n",
       "12         0            NaN         65              среднее             1   \n",
       "13         0   -1846.641941         54  неоконченное высшее             2   \n",
       "14         0   -1844.956182         56               высшее             0   \n",
       "15         1    -972.364419         26              среднее             1   \n",
       "16         0   -1719.934226         35              среднее             1   \n",
       "17         0   -2369.999720         33               высшее             0   \n",
       "18         0  400281.136913         53              среднее             1   \n",
       "19         0  -10038.818549         48              СРЕДНЕЕ             1   \n",
       "\n",
       "       family_status  family_status_id gender income_type  debt  \\\n",
       "0    женат / замужем                 0      F   сотрудник     0   \n",
       "1    женат / замужем                 0      F   сотрудник     0   \n",
       "2    женат / замужем                 0      M   сотрудник     0   \n",
       "3    женат / замужем                 0      M   сотрудник     0   \n",
       "4   гражданский брак                 1      F   пенсионер     0   \n",
       "5   гражданский брак                 1      M   компаньон     0   \n",
       "6    женат / замужем                 0      F   компаньон     0   \n",
       "7    женат / замужем                 0      M   сотрудник     0   \n",
       "8   гражданский брак                 1      F   сотрудник     0   \n",
       "9    женат / замужем                 0      M   сотрудник     0   \n",
       "10   женат / замужем                 0      M   компаньон     0   \n",
       "11   женат / замужем                 0      F   сотрудник     0   \n",
       "12  гражданский брак                 1      M   пенсионер     0   \n",
       "13   женат / замужем                 0      F   сотрудник     0   \n",
       "14  гражданский брак                 1      F   компаньон     1   \n",
       "15   женат / замужем                 0      F   сотрудник     0   \n",
       "16   женат / замужем                 0      F   сотрудник     0   \n",
       "17  гражданский брак                 1      M   сотрудник     0   \n",
       "18    вдовец / вдова                 2      F   пенсионер     0   \n",
       "19         в разводе                 3      F   сотрудник     0   \n",
       "\n",
       "     total_income                                 purpose  \n",
       "0   253875.639453                           покупка жилья  \n",
       "1   112080.014102                 приобретение автомобиля  \n",
       "2   145885.952297                           покупка жилья  \n",
       "3   267628.550329              дополнительное образование  \n",
       "4   158616.077870                         сыграть свадьбу  \n",
       "5   255763.565419                           покупка жилья  \n",
       "6   240525.971920                       операции с жильем  \n",
       "7   135823.934197                             образование  \n",
       "8    95856.832424                   на проведение свадьбы  \n",
       "9   144425.938277                 покупка жилья для семьи  \n",
       "10  113943.491460                    покупка недвижимости  \n",
       "11   77069.234271       покупка коммерческой недвижимости  \n",
       "12            NaN                         сыграть свадьбу  \n",
       "13  130458.228857                 приобретение автомобиля  \n",
       "14  165127.911772              покупка жилой недвижимости  \n",
       "15  116820.904450  строительство собственной недвижимости  \n",
       "16  289202.704229                            недвижимость  \n",
       "17   90410.586745              строительство недвижимости  \n",
       "18   56823.777243      на покупку подержанного автомобиля  \n",
       "19  242831.107982            на покупку своего автомобиля  "
      ]
     },
     "execution_count": 2,
     "metadata": {},
     "output_type": "execute_result"
    }
   ],
   "source": [
    "data.head(20)"
   ]
  },
  {
   "cell_type": "markdown",
   "id": "ebd37da7",
   "metadata": {
    "deletable": false,
    "editable": false,
    "id": "1c12e233"
   },
   "source": [
    "**Задание 3. Выведите основную информацию о датафрейме с помощью метода `info()`.**"
   ]
  },
  {
   "cell_type": "code",
   "execution_count": 3,
   "id": "482ef5ec",
   "metadata": {
    "deletable": false,
    "id": "2b757bca",
    "outputId": "15376089-8dad-46c9-b520-c05248d43158"
   },
   "outputs": [
    {
     "name": "stdout",
     "output_type": "stream",
     "text": [
      "<class 'pandas.core.frame.DataFrame'>\n",
      "RangeIndex: 21525 entries, 0 to 21524\n",
      "Data columns (total 12 columns):\n",
      " #   Column            Non-Null Count  Dtype  \n",
      "---  ------            --------------  -----  \n",
      " 0   children          21525 non-null  int64  \n",
      " 1   days_employed     19351 non-null  float64\n",
      " 2   dob_years         21525 non-null  int64  \n",
      " 3   education         21525 non-null  object \n",
      " 4   education_id      21525 non-null  int64  \n",
      " 5   family_status     21525 non-null  object \n",
      " 6   family_status_id  21525 non-null  int64  \n",
      " 7   gender            21525 non-null  object \n",
      " 8   income_type       21525 non-null  object \n",
      " 9   debt              21525 non-null  int64  \n",
      " 10  total_income      19351 non-null  float64\n",
      " 11  purpose           21525 non-null  object \n",
      "dtypes: float64(2), int64(5), object(5)\n",
      "memory usage: 2.0+ MB\n"
     ]
    }
   ],
   "source": [
    "data.info()"
   ]
  },
  {
   "cell_type": "markdown",
   "id": "30b8efc5",
   "metadata": {
    "deletable": false,
    "editable": false,
    "id": "333ec665"
   },
   "source": [
    "## Предобработка данных"
   ]
  },
  {
   "cell_type": "markdown",
   "id": "3e95d225",
   "metadata": {
    "deletable": false,
    "editable": false,
    "id": "02d92d53"
   },
   "source": [
    "### Удаление пропусков"
   ]
  },
  {
   "cell_type": "markdown",
   "id": "ad6f61b3",
   "metadata": {
    "deletable": false,
    "editable": false,
    "id": "cd84967c"
   },
   "source": [
    "**Задание 4. Выведите количество пропущенных значений для каждого столбца. Используйте комбинацию двух методов.**"
   ]
  },
  {
   "cell_type": "code",
   "execution_count": 4,
   "id": "2dbd8578",
   "metadata": {
    "deletable": false,
    "id": "7f9b2309",
    "outputId": "81f4d817-781c-465c-ed15-91ce4446810d"
   },
   "outputs": [
    {
     "data": {
      "text/plain": [
       "children               0\n",
       "days_employed       2174\n",
       "dob_years              0\n",
       "education              0\n",
       "education_id           0\n",
       "family_status          0\n",
       "family_status_id       0\n",
       "gender                 0\n",
       "income_type            0\n",
       "debt                   0\n",
       "total_income        2174\n",
       "purpose                0\n",
       "dtype: int64"
      ]
     },
     "execution_count": 4,
     "metadata": {},
     "output_type": "execute_result"
    }
   ],
   "source": [
    "data.isna().sum()"
   ]
  },
  {
   "cell_type": "markdown",
   "id": "d1e02b79",
   "metadata": {
    "deletable": false,
    "editable": false,
    "id": "db86e27b"
   },
   "source": [
    "**Задание 5. В двух столбцах есть пропущенные значения. Один из них — `days_employed`. Пропуски в этом столбце вы обработаете на следующем этапе. Другой столбец с пропущенными значениями — `total_income` — хранит данные о доходах. На сумму дохода сильнее всего влияет тип занятости, поэтому заполнить пропуски в этом столбце нужно медианным значением по каждому типу из столбца `income_type`. Например, у человека с типом занятости `сотрудник` пропуск в столбце `total_income` должен быть заполнен медианным доходом среди всех записей с тем же типом.**"
   ]
  },
  {
   "cell_type": "code",
   "execution_count": 5,
   "id": "f2487ce1",
   "metadata": {
    "deletable": false,
    "id": "42006a93"
   },
   "outputs": [],
   "source": [
    "for t in data['income_type'].unique():\n",
    "    data.loc[(data['income_type'] == t) & (data['total_income'].isna()), 'total_income'] = \\\n",
    "    data.loc[(data['income_type'] == t), 'total_income'].median()"
   ]
  },
  {
   "cell_type": "markdown",
   "id": "3d7077f8",
   "metadata": {
    "deletable": false,
    "editable": false,
    "id": "89da5ece"
   },
   "source": [
    "### Обработка аномальных значений"
   ]
  },
  {
   "cell_type": "markdown",
   "id": "925a9344",
   "metadata": {
    "deletable": false,
    "editable": false,
    "id": "57964554"
   },
   "source": [
    "**Задание 6. В данных могут встречаться артефакты (аномалии) — значения, которые не отражают действительность и появились по какой-то ошибке. таким артефактом будет отрицательное количество дней трудового стажа в столбце `days_employed`. Для реальных данных это нормально. Обработайте значения в этом столбце: замените все отрицательные значения положительными с помощью метода `abs()`.**"
   ]
  },
  {
   "cell_type": "code",
   "execution_count": 6,
   "id": "b51402e0",
   "metadata": {
    "deletable": false,
    "id": "f6f055bf"
   },
   "outputs": [],
   "source": [
    "data['days_employed'] = data['days_employed'].abs()"
   ]
  },
  {
   "cell_type": "markdown",
   "id": "fb54f6c7",
   "metadata": {
    "deletable": false,
    "editable": false,
    "id": "6107dd2f"
   },
   "source": [
    "**Задание 7. Для каждого типа занятости выведите медианное значение трудового стажа `days_employed` в днях.**"
   ]
  },
  {
   "cell_type": "code",
   "execution_count": 7,
   "id": "db8f19b2",
   "metadata": {
    "deletable": false,
    "id": "85a5faf6",
    "outputId": "801ef80e-522b-4668-f34e-565af7432bcf"
   },
   "outputs": [
    {
     "data": {
      "text/plain": [
       "income_type\n",
       "безработный        366413.652744\n",
       "в декрете            3296.759962\n",
       "госслужащий          2689.368353\n",
       "компаньон            1547.382223\n",
       "пенсионер          365213.306266\n",
       "предприниматель       520.848083\n",
       "сотрудник            1574.202821\n",
       "студент               578.751554\n",
       "Name: days_employed, dtype: float64"
      ]
     },
     "execution_count": 7,
     "metadata": {},
     "output_type": "execute_result"
    }
   ],
   "source": [
    "data.groupby('income_type')['days_employed'].agg('median')"
   ]
  },
  {
   "cell_type": "markdown",
   "id": "a1d0a6b5",
   "metadata": {
    "deletable": false,
    "editable": false,
    "id": "38d1a030"
   },
   "source": [
    "У двух типов (безработные и пенсионеры) получатся аномально большие значения. Исправить такие значения сложно, поэтому оставьте их как есть. Тем более этот столбец не понадобится вам для исследования."
   ]
  },
  {
   "cell_type": "markdown",
   "id": "264a95c1",
   "metadata": {
    "deletable": false,
    "editable": false,
    "id": "d8a9f147"
   },
   "source": [
    "**Задание 8. Выведите перечень уникальных значений столбца `children`.**"
   ]
  },
  {
   "cell_type": "code",
   "execution_count": 8,
   "id": "0db955b5",
   "metadata": {
    "deletable": false,
    "id": "ef5056eb",
    "outputId": "6975b15c-7f95-4697-d16d-a0c79b657b03"
   },
   "outputs": [
    {
     "data": {
      "text/plain": [
       "array([ 1,  0,  3,  2, -1,  4, 20,  5])"
      ]
     },
     "execution_count": 8,
     "metadata": {},
     "output_type": "execute_result"
    }
   ],
   "source": [
    "data['children'].unique()"
   ]
  },
  {
   "cell_type": "markdown",
   "id": "597568b9",
   "metadata": {
    "deletable": false,
    "editable": false,
    "id": "40b9ebf2"
   },
   "source": [
    "**Задание 9. В столбце `children` есть два аномальных значения. Удалите строки, в которых встречаются такие аномальные значения из датафрейма `data`.**"
   ]
  },
  {
   "cell_type": "code",
   "execution_count": 9,
   "id": "bdf41c74",
   "metadata": {
    "deletable": false,
    "id": "3ff9801d"
   },
   "outputs": [],
   "source": [
    "data = data[(data['children'] != -1) & (data['children'] != 20)]"
   ]
  },
  {
   "cell_type": "markdown",
   "id": "19ca46eb",
   "metadata": {
    "deletable": false,
    "editable": false,
    "id": "bbc4d0ce"
   },
   "source": [
    "**Задание 10. Ещё раз выведите перечень уникальных значений столбца `children`, чтобы убедиться, что артефакты удалены.**"
   ]
  },
  {
   "cell_type": "code",
   "execution_count": 10,
   "id": "7751ac6a",
   "metadata": {
    "deletable": false,
    "id": "ad4fa8b7",
    "outputId": "b2097101-d49d-44d9-901b-32a65c9463d1"
   },
   "outputs": [
    {
     "data": {
      "text/plain": [
       "array([1, 0, 3, 2, 4, 5])"
      ]
     },
     "execution_count": 10,
     "metadata": {},
     "output_type": "execute_result"
    }
   ],
   "source": [
    "data['children'].unique()"
   ]
  },
  {
   "cell_type": "markdown",
   "id": "9bfbb2b1",
   "metadata": {
    "deletable": false,
    "editable": false,
    "id": "75440b63"
   },
   "source": [
    "### Удаление пропусков (продолжение)"
   ]
  },
  {
   "cell_type": "markdown",
   "id": "1f3477b2",
   "metadata": {
    "deletable": false,
    "editable": false,
    "id": "f4ea573f"
   },
   "source": [
    "**Задание 11. Заполните пропуски в столбце `days_employed` медианными значениями по каждого типа занятости `income_type`.**"
   ]
  },
  {
   "cell_type": "code",
   "execution_count": 11,
   "id": "b575318f",
   "metadata": {
    "deletable": false,
    "id": "af6b1a7e"
   },
   "outputs": [],
   "source": [
    "for t in data['income_type'].unique():\n",
    "    data.loc[(data['income_type'] == t) & (data['days_employed'].isna()), 'days_employed'] = \\\n",
    "    data.loc[(data['income_type'] == t), 'days_employed'].median()"
   ]
  },
  {
   "cell_type": "markdown",
   "id": "1b2e7545",
   "metadata": {
    "deletable": false,
    "editable": false,
    "id": "2753f40d"
   },
   "source": [
    "**Задание 12. Убедитесь, что все пропуски заполнены. Проверьте себя и ещё раз выведите количество пропущенных значений для каждого столбца с помощью двух методов.**"
   ]
  },
  {
   "cell_type": "code",
   "execution_count": 12,
   "id": "5739cecb",
   "metadata": {
    "deletable": false,
    "id": "55f78bc2",
    "outputId": "8da1e4e1-358e-4e87-98c9-f261bce0a7b2"
   },
   "outputs": [
    {
     "data": {
      "text/plain": [
       "children            0\n",
       "days_employed       0\n",
       "dob_years           0\n",
       "education           0\n",
       "education_id        0\n",
       "family_status       0\n",
       "family_status_id    0\n",
       "gender              0\n",
       "income_type         0\n",
       "debt                0\n",
       "total_income        0\n",
       "purpose             0\n",
       "dtype: int64"
      ]
     },
     "execution_count": 12,
     "metadata": {},
     "output_type": "execute_result"
    }
   ],
   "source": [
    "data.isna().sum()"
   ]
  },
  {
   "cell_type": "markdown",
   "id": "8f180bbe",
   "metadata": {
    "deletable": false,
    "editable": false,
    "id": "ddc81e43"
   },
   "source": [
    "### Изменение типов данных"
   ]
  },
  {
   "cell_type": "markdown",
   "id": "c6f77ecc",
   "metadata": {
    "deletable": false,
    "editable": false,
    "id": "42d19d24"
   },
   "source": [
    "**Задание 13. Замените вещественный тип данных в столбце `total_income` на целочисленный с помощью метода `astype()`.**"
   ]
  },
  {
   "cell_type": "code",
   "execution_count": 13,
   "id": "d7f73479",
   "metadata": {
    "deletable": false,
    "id": "920b65ad"
   },
   "outputs": [],
   "source": [
    "data['total_income'] = data['total_income'].astype(int)"
   ]
  },
  {
   "cell_type": "markdown",
   "id": "aef0f2c5",
   "metadata": {
    "deletable": false,
    "editable": false,
    "id": "80c420ba"
   },
   "source": [
    "### Обработка дубликатов"
   ]
  },
  {
   "cell_type": "markdown",
   "id": "2482a8fe",
   "metadata": {
    "deletable": false,
    "editable": false
   },
   "source": [
    "**Задание 14. Обработайте неявные дубликаты в столбце `education`. В этом столбце есть одни и те же значения, но записанные по-разному: с использованием заглавных и строчных букв. Приведите их к нижнему регистру. Проверьте остальные столбцы.**"
   ]
  },
  {
   "cell_type": "code",
   "execution_count": 14,
   "id": "288a02cb",
   "metadata": {
    "deletable": false
   },
   "outputs": [],
   "source": [
    "data['education'] = data['education'].str.lower()"
   ]
  },
  {
   "cell_type": "markdown",
   "id": "8866a9d2",
   "metadata": {
    "deletable": false,
    "editable": false,
    "id": "dc587695"
   },
   "source": [
    "**Задание 15. Выведите на экран количество строк-дубликатов в данных. Если такие строки присутствуют, удалите их.**"
   ]
  },
  {
   "cell_type": "code",
   "execution_count": 15,
   "id": "c11567f8",
   "metadata": {
    "deletable": false,
    "id": "3ee445e4",
    "outputId": "9684deba-1934-42d1-99e1-cda61740f822"
   },
   "outputs": [
    {
     "data": {
      "text/plain": [
       "71"
      ]
     },
     "execution_count": 15,
     "metadata": {},
     "output_type": "execute_result"
    }
   ],
   "source": [
    "data.duplicated().sum()"
   ]
  },
  {
   "cell_type": "code",
   "execution_count": 16,
   "id": "6f2e3c49",
   "metadata": {
    "deletable": false,
    "id": "8575fe05"
   },
   "outputs": [],
   "source": [
    "data = data.drop_duplicates()"
   ]
  },
  {
   "cell_type": "markdown",
   "id": "de82841f",
   "metadata": {
    "deletable": false,
    "editable": false,
    "id": "9904cf55"
   },
   "source": [
    "### Категоризация данных"
   ]
  },
  {
   "cell_type": "markdown",
   "id": "e23f6d22",
   "metadata": {
    "deletable": false,
    "editable": false,
    "id": "72fcc8a2"
   },
   "source": [
    "**Задание 16. На основании диапазонов, указанных ниже, создайте в датафрейме `data` столбец `total_income_category` с категориями:**\n",
    "\n",
    "- 0–30000 — `'E'`;\n",
    "- 30001–50000 — `'D'`;\n",
    "- 50001–200000 — `'C'`;\n",
    "- 200001–1000000 — `'B'`;\n",
    "- 1000001 и выше — `'A'`.\n",
    "\n",
    "\n",
    "**Например, кредитополучателю с доходом 25000 нужно назначить категорию `'E'`, а клиенту, получающему 235000, — `'B'`. Используйте собственную функцию с именем `categorize_income()` и метод `apply()`.**"
   ]
  },
  {
   "cell_type": "code",
   "execution_count": 17,
   "id": "4b064773",
   "metadata": {
    "deletable": false,
    "id": "e1771346"
   },
   "outputs": [],
   "source": [
    "def categorize_income(income):\n",
    "    try:\n",
    "        if 0 <= income <= 30000:\n",
    "            return 'E'\n",
    "        elif 30001 <= income <= 50000:\n",
    "            return 'D'\n",
    "        elif 50001 <= income <= 200000:\n",
    "            return 'C'\n",
    "        elif 200001 <= income <= 1000000:\n",
    "            return 'B'\n",
    "        elif income >= 1000001:\n",
    "            return 'A'\n",
    "    except:\n",
    "        pass"
   ]
  },
  {
   "cell_type": "code",
   "execution_count": 18,
   "id": "bf22b97b",
   "metadata": {
    "deletable": false,
    "id": "d5f3586d"
   },
   "outputs": [],
   "source": [
    "data['total_income_category'] = data['total_income'].apply(categorize_income)"
   ]
  },
  {
   "cell_type": "markdown",
   "id": "32bf521f",
   "metadata": {
    "deletable": false,
    "editable": false,
    "id": "dde49b5c"
   },
   "source": [
    "**Задание 17. Выведите на экран перечень уникальных целей взятия кредита из столбца `purpose`.**"
   ]
  },
  {
   "cell_type": "code",
   "execution_count": 19,
   "id": "f121299d",
   "metadata": {
    "deletable": false,
    "id": "f67ce9b3",
    "outputId": "673c12d9-7d7e-4ae0-9812-c622c89dd244"
   },
   "outputs": [
    {
     "data": {
      "text/plain": [
       "array(['покупка жилья', 'приобретение автомобиля',\n",
       "       'дополнительное образование', 'сыграть свадьбу',\n",
       "       'операции с жильем', 'образование', 'на проведение свадьбы',\n",
       "       'покупка жилья для семьи', 'покупка недвижимости',\n",
       "       'покупка коммерческой недвижимости', 'покупка жилой недвижимости',\n",
       "       'строительство собственной недвижимости', 'недвижимость',\n",
       "       'строительство недвижимости', 'на покупку подержанного автомобиля',\n",
       "       'на покупку своего автомобиля',\n",
       "       'операции с коммерческой недвижимостью',\n",
       "       'строительство жилой недвижимости', 'жилье',\n",
       "       'операции со своей недвижимостью', 'автомобили',\n",
       "       'заняться образованием', 'сделка с подержанным автомобилем',\n",
       "       'получение образования', 'автомобиль', 'свадьба',\n",
       "       'получение дополнительного образования', 'покупка своего жилья',\n",
       "       'операции с недвижимостью', 'получение высшего образования',\n",
       "       'свой автомобиль', 'сделка с автомобилем',\n",
       "       'профильное образование', 'высшее образование',\n",
       "       'покупка жилья для сдачи', 'на покупку автомобиля', 'ремонт жилью',\n",
       "       'заняться высшим образованием'], dtype=object)"
      ]
     },
     "execution_count": 19,
     "metadata": {},
     "output_type": "execute_result"
    }
   ],
   "source": [
    "data['purpose'].unique()"
   ]
  },
  {
   "cell_type": "markdown",
   "id": "4f0a6cb7",
   "metadata": {
    "deletable": false,
    "editable": false,
    "id": "85d0aef0"
   },
   "source": [
    "**Задание 18. Создайте функцию, которая на основании данных из столбца `purpose` сформирует новый столбец `purpose_category`, в который войдут следующие категории:**\n",
    "\n",
    "- `'операции с автомобилем'`,\n",
    "- `'операции с недвижимостью'`,\n",
    "- `'проведение свадьбы'`,\n",
    "- `'получение образования'`.\n",
    "\n",
    "**Например, если в столбце `purpose` находится подстрока `'на покупку автомобиля'`, то в столбце `purpose_category` должна появиться строка `'операции с автомобилем'`.**\n",
    "\n",
    "**Используйте собственную функцию с именем `categorize_purpose()` и метод `apply()`. Изучите данные в столбце `purpose` и определите, какие подстроки помогут вам правильно определить категорию.**"
   ]
  },
  {
   "cell_type": "code",
   "execution_count": 20,
   "id": "3c72bc37",
   "metadata": {
    "deletable": false,
    "id": "e149fab4"
   },
   "outputs": [],
   "source": [
    "def categorize_purpose(row):\n",
    "    try:\n",
    "        if 'автом' in row:\n",
    "            return 'операции с автомобилем'\n",
    "        elif 'жил' in row or 'недвиж' in row:\n",
    "            return 'операции с недвижимостью'\n",
    "        elif 'свад' in row:\n",
    "            return 'проведение свадьбы'\n",
    "        elif 'образов' in row:\n",
    "            return 'получение образования'\n",
    "    except:\n",
    "        return 'нет категории'"
   ]
  },
  {
   "cell_type": "code",
   "execution_count": 21,
   "id": "bb499bc9",
   "metadata": {
    "deletable": false,
    "id": "bf36e69b"
   },
   "outputs": [],
   "source": [
    "data['purpose_category'] = data['purpose'].apply(categorize_purpose)"
   ]
  },
  {
   "cell_type": "markdown",
   "id": "89fd0645",
   "metadata": {
    "deletable": false,
    "editable": false,
    "id": "09b242bf"
   },
   "source": [
    "### Шаг 3. Исследуйте данные и ответьте на вопросы"
   ]
  },
  {
   "cell_type": "markdown",
   "id": "b3f0f749",
   "metadata": {
    "deletable": false,
    "editable": false,
    "id": "c5d66278"
   },
   "source": [
    "#### 3.1 Есть ли зависимость между количеством детей и возвратом кредита в срок?"
   ]
  },
  {
   "cell_type": "code",
   "execution_count": 22,
   "id": "28705760",
   "metadata": {
    "deletable": false,
    "id": "2cacfc4a"
   },
   "outputs": [
    {
     "data": {
      "text/plain": [
       "children\n",
       "0    0.075438\n",
       "1    0.092346\n",
       "2    0.094542\n",
       "3    0.081818\n",
       "4    0.097561\n",
       "5    0.000000\n",
       "Name: debt, dtype: float64"
      ]
     },
     "execution_count": 22,
     "metadata": {},
     "output_type": "execute_result"
    }
   ],
   "source": [
    "data.groupby('children')['debt'].mean()\n",
    "# Ваш код будет здесь. Вы можете создавать новые ячейки."
   ]
  },
  {
   "cell_type": "markdown",
   "id": "283e5854",
   "metadata": {},
   "source": [
    "**Количество детей влияет на срок выплаты кредита. Клиенты у которых один, два или четыре ребенка, чаще имеют просрочки по кредиту, в отличие от лклиентов у которых пять детей, они не имеют просрочек совсем.**"
   ]
  },
  {
   "cell_type": "markdown",
   "id": "a55d908d",
   "metadata": {
    "deletable": false,
    "editable": false,
    "id": "97be82ca"
   },
   "source": [
    "#### 3.2 Есть ли зависимость между семейным положением и возвратом кредита в срок?"
   ]
  },
  {
   "cell_type": "code",
   "execution_count": 23,
   "id": "5857bb39",
   "metadata": {
    "deletable": false,
    "id": "dc3f7ee8"
   },
   "outputs": [
    {
     "data": {
      "text/plain": [
       "family_status\n",
       "Не женат / не замужем    0.097639\n",
       "в разводе                0.070648\n",
       "вдовец / вдова           0.066246\n",
       "гражданский брак         0.093130\n",
       "женат / замужем          0.075606\n",
       "Name: debt, dtype: float64"
      ]
     },
     "execution_count": 23,
     "metadata": {},
     "output_type": "execute_result"
    }
   ],
   "source": [
    "data.groupby('family_status')['debt'].mean() #сгруппировали данные по количеству детей и нашли медиану по столбцу debt."
   ]
  },
  {
   "cell_type": "markdown",
   "id": "be70dc1f",
   "metadata": {
    "deletable": false,
    "id": "1cef7837"
   },
   "source": [
    "**Вывод:** семейный старус влияет на возврат кредита в срок. Вдовцы/вдовы чаще возвращают кредит в срок,а Не женатые/не замужние и  люди в гражданском браке чаще имеют просрочки по возврату кредита."
   ]
  },
  {
   "cell_type": "markdown",
   "id": "bd0bebc2",
   "metadata": {
    "deletable": false,
    "editable": false,
    "id": "1e8b2fca"
   },
   "source": [
    "#### 3.3 Есть ли зависимость между уровнем дохода и возвратом кредита в срок?"
   ]
  },
  {
   "cell_type": "code",
   "execution_count": 24,
   "id": "c000fab1",
   "metadata": {},
   "outputs": [
    {
     "data": {
      "text/plain": [
       "142594.0"
      ]
     },
     "execution_count": 24,
     "metadata": {},
     "output_type": "execute_result"
    }
   ],
   "source": [
    "data['total_income'].median()"
   ]
  },
  {
   "cell_type": "code",
   "execution_count": 25,
   "id": "ee618fa6",
   "metadata": {
    "deletable": false,
    "id": "cd7e3720"
   },
   "outputs": [],
   "source": [
    "def categorize_income (row):\n",
    "    \n",
    "    total_income = row['total_income']\n",
    "    \n",
    "    if 0 <= total_income <=30000:\n",
    "        return 'E'\n",
    "    if 30001 <=total_income <=50000:\n",
    "        return 'D'\n",
    "    if 50001 <= total_income <=200000:\n",
    "        return 'C'\n",
    "    if 200001 <=total_income <=1000000:\n",
    "        return 'B'\n",
    "    if 1000001 <= total_income:\n",
    "        return 'A'\n",
    "    "
   ]
  },
  {
   "cell_type": "code",
   "execution_count": 26,
   "id": "3ded2ae3",
   "metadata": {},
   "outputs": [],
   "source": [
    "data['total_income_category'] = data.apply(categorize_income, axis=1)\n",
    "    "
   ]
  },
  {
   "cell_type": "code",
   "execution_count": 27,
   "id": "4665450b",
   "metadata": {},
   "outputs": [
    {
     "data": {
      "text/plain": [
       "total_income_category\n",
       "A    0.080000\n",
       "B    0.070602\n",
       "C    0.084982\n",
       "D    0.060172\n",
       "E    0.090909\n",
       "Name: debt, dtype: float64"
      ]
     },
     "execution_count": 27,
     "metadata": {},
     "output_type": "execute_result"
    }
   ],
   "source": [
    "data.groupby('total_income_category')['debt'].mean()"
   ]
  },
  {
   "cell_type": "markdown",
   "id": "edc3ee0c",
   "metadata": {
    "deletable": false,
    "id": "e8593def"
   },
   "source": [
    "**Вывод:** Уровень дохода не влияет на возврат кредита в срок "
   ]
  },
  {
   "cell_type": "markdown",
   "id": "8752edde",
   "metadata": {},
   "source": [
    "**Люди с доходом от 30000 до 50000 чаще возвращают кредит в срок, а люди с доходом до 30000 наоборот чаще имеют просрочки по возврату кредита.**"
   ]
  },
  {
   "cell_type": "code",
   "execution_count": 28,
   "id": "f8940aa6",
   "metadata": {
    "deletable": false,
    "id": "2b687290"
   },
   "outputs": [],
   "source": [
    "def categorize_purpose(row):\n",
    "    try:\n",
    "        if 'автом' in row:\n",
    "            return 'операции с автомобилем'\n",
    "        elif 'жил' in row or 'недвиж' in row:\n",
    "            return 'операции с недвижимостью'\n",
    "        elif 'свад' in row:\n",
    "            return 'проведение свадьбы'\n",
    "        elif 'образов' in row:\n",
    "            return 'получение образования'\n",
    "    except:\n",
    "        return 'нет категории'"
   ]
  },
  {
   "cell_type": "code",
   "execution_count": 29,
   "id": "c2b20322",
   "metadata": {},
   "outputs": [],
   "source": [
    "data['purpose_category'] = data['purpose'].apply(categorize_purpose)"
   ]
  },
  {
   "cell_type": "code",
   "execution_count": 30,
   "id": "23805050",
   "metadata": {},
   "outputs": [
    {
     "data": {
      "text/plain": [
       "purpose_category\n",
       "операции с автомобилем      0.093480\n",
       "операции с недвижимостью    0.072551\n",
       "получение образования       0.092528\n",
       "проведение свадьбы          0.079118\n",
       "Name: debt, dtype: float64"
      ]
     },
     "execution_count": 30,
     "metadata": {},
     "output_type": "execute_result"
    }
   ],
   "source": [
    "data.groupby('purpose_category')['debt'].mean()"
   ]
  },
  {
   "cell_type": "markdown",
   "id": "8fa1d274",
   "metadata": {
    "deletable": false,
    "id": "b4bb2ce6"
   },
   "source": [
    "**Если цель кредита на получение образования, то задолжности случаются чаще. А вот с кредитом на недвижимость с большей верояностью выплаты производят в срок.**"
   ]
  },
  {
   "cell_type": "markdown",
   "id": "70622b76",
   "metadata": {
    "deletable": false,
    "editable": false,
    "id": "99ecbd1f"
   },
   "source": [
    "#### 3.4 Как разные цели кредита влияют на его возврат в срок?"
   ]
  },
  {
   "cell_type": "markdown",
   "id": "1273e6a0",
   "metadata": {
    "deletable": false,
    "editable": false,
    "id": "09c3ac4c"
   },
   "source": [
    "#### 3.5 Приведите возможные причины появления пропусков в исходных данных."
   ]
  },
  {
   "cell_type": "markdown",
   "id": "358a6edb",
   "metadata": {
    "deletable": false,
    "id": "9da2ceda"
   },
   "source": [
    "*Ответ:*1. сбой в системе (возможен при сохранении или передаче данных)\n",
    "        2. скрытие информации (пользователи не захотели указывать часть данных)\n",
    "        3. пропустили поле по невнимательности при заполнении"
   ]
  },
  {
   "cell_type": "markdown",
   "id": "65bec2e0",
   "metadata": {
    "deletable": false,
    "editable": false,
    "id": "7b0487d6"
   },
   "source": [
    "#### 3.6 Объясните, почему заполнить пропуски медианным значением — лучшее решение для количественных переменных."
   ]
  },
  {
   "cell_type": "markdown",
   "id": "b1f9a9b0",
   "metadata": {
    "deletable": false,
    "id": "7ecf2b8e"
   },
   "source": [
    "*Ответ:* Потому что, медиана показывает данные ровно по середине. такие данные являются более точными. "
   ]
  },
  {
   "cell_type": "markdown",
   "id": "52e6caa9",
   "metadata": {},
   "source": [
    "**В тех случаях когда количественная переменная принимает значение в большом диапазоне, медиана сильнее устойчива к выбросам в данных, чем среднее.**"
   ]
  },
  {
   "cell_type": "markdown",
   "id": "e687b8a2",
   "metadata": {
    "deletable": false,
    "editable": false,
    "id": "6db5255a"
   },
   "source": [
    "### Шаг 4: общий вывод."
   ]
  },
  {
   "cell_type": "markdown",
   "id": "7c0015af",
   "metadata": {
    "deletable": false,
    "id": "bad65432"
   },
   "source": []
  },
  {
   "cell_type": "markdown",
   "id": "d1109ac2",
   "metadata": {},
   "source": [
    "**Данным исследованием мы выявили, что на возврат кредита в срок вляет семейное положение и цели на кредит. А вот количество детей, уровень дохода наоборот не влияетна факт погашения кредита в срок.\n",
    "Вроятнее всего будут иметь просрочку по кредиту не женатые/не замужние клиенты с доходом до 30000 у которых один, два или четверо детей с целью кредита на образование и на покупку автомобиля.\n",
    "А вдовцы/вдовы с пятью детьми, доходом от 30000 до 50000 и целью кредита связанной с недвижимостью с большей вероятностью будут платить в срок.**"
   ]
  },
  {
   "cell_type": "markdown",
   "id": "210bf936",
   "metadata": {
    "deletable": false,
    "id": "3a6b99ec"
   },
   "source": []
  }
 ],
 "metadata": {
  "ExecuteTimeLog": [
   {
    "duration": 45,
    "start_time": "2022-08-31T04:28:52.718Z"
   },
   {
    "duration": 716,
    "start_time": "2022-08-31T04:29:04.573Z"
   },
   {
    "duration": 20,
    "start_time": "2022-08-31T04:29:05.291Z"
   },
   {
    "duration": 14,
    "start_time": "2022-08-31T04:29:05.312Z"
   },
   {
    "duration": 9,
    "start_time": "2022-08-31T04:29:05.327Z"
   },
   {
    "duration": 50,
    "start_time": "2022-08-31T04:29:05.337Z"
   },
   {
    "duration": 3,
    "start_time": "2022-08-31T04:29:05.388Z"
   },
   {
    "duration": 13,
    "start_time": "2022-08-31T04:29:05.393Z"
   },
   {
    "duration": 4,
    "start_time": "2022-08-31T04:29:05.408Z"
   },
   {
    "duration": 12,
    "start_time": "2022-08-31T04:29:05.414Z"
   },
   {
    "duration": 6,
    "start_time": "2022-08-31T04:29:05.429Z"
   },
   {
    "duration": 50,
    "start_time": "2022-08-31T04:29:05.436Z"
   },
   {
    "duration": 9,
    "start_time": "2022-08-31T04:29:05.488Z"
   },
   {
    "duration": 5,
    "start_time": "2022-08-31T04:29:05.499Z"
   },
   {
    "duration": 13,
    "start_time": "2022-08-31T04:29:05.506Z"
   },
   {
    "duration": 24,
    "start_time": "2022-08-31T04:29:05.520Z"
   },
   {
    "duration": 15,
    "start_time": "2022-08-31T04:29:05.545Z"
   },
   {
    "duration": 3,
    "start_time": "2022-08-31T04:29:05.561Z"
   },
   {
    "duration": 10,
    "start_time": "2022-08-31T04:29:05.586Z"
   },
   {
    "duration": 21,
    "start_time": "2022-08-31T04:29:05.597Z"
   },
   {
    "duration": 7,
    "start_time": "2022-08-31T04:29:05.619Z"
   },
   {
    "duration": 20,
    "start_time": "2022-08-31T04:29:05.627Z"
   },
   {
    "duration": 25,
    "start_time": "2022-08-31T04:29:05.648Z"
   },
   {
    "duration": 0,
    "start_time": "2022-08-31T04:29:05.674Z"
   },
   {
    "duration": 0,
    "start_time": "2022-08-31T04:29:05.675Z"
   },
   {
    "duration": 0,
    "start_time": "2022-08-31T04:29:05.677Z"
   },
   {
    "duration": 7,
    "start_time": "2022-08-31T04:29:13.657Z"
   },
   {
    "duration": 5,
    "start_time": "2022-08-31T04:29:30.473Z"
   },
   {
    "duration": 705,
    "start_time": "2022-08-31T15:47:32.917Z"
   },
   {
    "duration": 25,
    "start_time": "2022-08-31T15:47:33.624Z"
   },
   {
    "duration": 15,
    "start_time": "2022-08-31T15:47:33.651Z"
   },
   {
    "duration": 17,
    "start_time": "2022-08-31T15:47:33.668Z"
   },
   {
    "duration": 36,
    "start_time": "2022-08-31T15:47:33.686Z"
   },
   {
    "duration": 3,
    "start_time": "2022-08-31T15:47:33.724Z"
   },
   {
    "duration": 14,
    "start_time": "2022-08-31T15:47:33.729Z"
   },
   {
    "duration": 4,
    "start_time": "2022-08-31T15:47:33.745Z"
   },
   {
    "duration": 40,
    "start_time": "2022-08-31T15:47:33.750Z"
   },
   {
    "duration": 5,
    "start_time": "2022-08-31T15:47:33.792Z"
   },
   {
    "duration": 37,
    "start_time": "2022-08-31T15:47:33.799Z"
   },
   {
    "duration": 10,
    "start_time": "2022-08-31T15:47:33.837Z"
   },
   {
    "duration": 5,
    "start_time": "2022-08-31T15:47:33.849Z"
   },
   {
    "duration": 36,
    "start_time": "2022-08-31T15:47:33.855Z"
   },
   {
    "duration": 23,
    "start_time": "2022-08-31T15:47:33.893Z"
   },
   {
    "duration": 18,
    "start_time": "2022-08-31T15:47:33.917Z"
   },
   {
    "duration": 4,
    "start_time": "2022-08-31T15:47:33.937Z"
   },
   {
    "duration": 42,
    "start_time": "2022-08-31T15:47:33.943Z"
   },
   {
    "duration": 6,
    "start_time": "2022-08-31T15:47:33.987Z"
   },
   {
    "duration": 7,
    "start_time": "2022-08-31T15:47:33.995Z"
   },
   {
    "duration": 18,
    "start_time": "2022-08-31T15:47:34.004Z"
   },
   {
    "duration": 13,
    "start_time": "2022-08-31T15:47:34.023Z"
   },
   {
    "duration": 5,
    "start_time": "2022-08-31T15:47:34.038Z"
   },
   {
    "duration": 9,
    "start_time": "2022-08-31T15:47:34.045Z"
   },
   {
    "duration": 8,
    "start_time": "2022-08-31T15:47:34.056Z"
   },
   {
    "duration": 83,
    "start_time": "2022-08-31T15:55:57.727Z"
   },
   {
    "duration": 7,
    "start_time": "2022-08-31T15:56:26.714Z"
   },
   {
    "duration": 10,
    "start_time": "2022-08-31T16:05:24.429Z"
   },
   {
    "duration": 68,
    "start_time": "2022-08-31T16:08:16.440Z"
   },
   {
    "duration": 11,
    "start_time": "2022-08-31T16:08:32.176Z"
   },
   {
    "duration": 10,
    "start_time": "2022-08-31T16:12:01.920Z"
   },
   {
    "duration": 13,
    "start_time": "2022-08-31T17:53:24.461Z"
   },
   {
    "duration": 49,
    "start_time": "2022-08-31T17:54:59.932Z"
   },
   {
    "duration": 76,
    "start_time": "2022-08-31T17:56:28.284Z"
   },
   {
    "duration": 8,
    "start_time": "2022-08-31T17:57:26.549Z"
   },
   {
    "duration": 11,
    "start_time": "2022-08-31T17:57:42.371Z"
   },
   {
    "duration": 414,
    "start_time": "2022-08-31T18:34:30.375Z"
   },
   {
    "duration": 28,
    "start_time": "2022-08-31T18:34:30.790Z"
   },
   {
    "duration": 30,
    "start_time": "2022-08-31T18:34:30.820Z"
   },
   {
    "duration": 9,
    "start_time": "2022-08-31T18:34:30.851Z"
   },
   {
    "duration": 29,
    "start_time": "2022-08-31T18:34:30.861Z"
   },
   {
    "duration": 3,
    "start_time": "2022-08-31T18:34:30.892Z"
   },
   {
    "duration": 49,
    "start_time": "2022-08-31T18:34:30.896Z"
   },
   {
    "duration": 14,
    "start_time": "2022-08-31T18:34:30.946Z"
   },
   {
    "duration": 8,
    "start_time": "2022-08-31T18:34:30.962Z"
   },
   {
    "duration": 9,
    "start_time": "2022-08-31T18:34:30.972Z"
   },
   {
    "duration": 45,
    "start_time": "2022-08-31T18:34:30.982Z"
   },
   {
    "duration": 24,
    "start_time": "2022-08-31T18:34:31.035Z"
   },
   {
    "duration": 4,
    "start_time": "2022-08-31T18:34:31.061Z"
   },
   {
    "duration": 22,
    "start_time": "2022-08-31T18:34:31.069Z"
   },
   {
    "duration": 23,
    "start_time": "2022-08-31T18:34:31.093Z"
   },
   {
    "duration": 33,
    "start_time": "2022-08-31T18:34:31.117Z"
   },
   {
    "duration": 3,
    "start_time": "2022-08-31T18:34:31.152Z"
   },
   {
    "duration": 11,
    "start_time": "2022-08-31T18:34:31.156Z"
   },
   {
    "duration": 9,
    "start_time": "2022-08-31T18:34:31.169Z"
   },
   {
    "duration": 6,
    "start_time": "2022-08-31T18:34:31.179Z"
   },
   {
    "duration": 28,
    "start_time": "2022-08-31T18:34:31.186Z"
   },
   {
    "duration": 21,
    "start_time": "2022-08-31T18:34:31.218Z"
   },
   {
    "duration": 8,
    "start_time": "2022-08-31T18:34:31.240Z"
   },
   {
    "duration": 14,
    "start_time": "2022-08-31T18:34:31.249Z"
   },
   {
    "duration": 20,
    "start_time": "2022-08-31T18:34:31.265Z"
   },
   {
    "duration": 9,
    "start_time": "2022-09-01T12:01:14.924Z"
   },
   {
    "duration": 45,
    "start_time": "2022-09-01T12:01:54.449Z"
   },
   {
    "duration": 8,
    "start_time": "2022-09-01T12:03:13.212Z"
   },
   {
    "duration": 3,
    "start_time": "2022-09-01T12:04:22.218Z"
   },
   {
    "duration": 502,
    "start_time": "2022-09-01T12:04:38.388Z"
   },
   {
    "duration": 21,
    "start_time": "2022-09-01T12:04:38.892Z"
   },
   {
    "duration": 14,
    "start_time": "2022-09-01T12:04:38.914Z"
   },
   {
    "duration": 8,
    "start_time": "2022-09-01T12:04:38.929Z"
   },
   {
    "duration": 39,
    "start_time": "2022-09-01T12:04:38.939Z"
   },
   {
    "duration": 3,
    "start_time": "2022-09-01T12:04:38.979Z"
   },
   {
    "duration": 9,
    "start_time": "2022-09-01T12:04:38.984Z"
   },
   {
    "duration": 3,
    "start_time": "2022-09-01T12:04:38.995Z"
   },
   {
    "duration": 8,
    "start_time": "2022-09-01T12:04:39.000Z"
   },
   {
    "duration": 4,
    "start_time": "2022-09-01T12:04:39.011Z"
   },
   {
    "duration": 56,
    "start_time": "2022-09-01T12:04:39.016Z"
   },
   {
    "duration": 10,
    "start_time": "2022-09-01T12:04:39.074Z"
   },
   {
    "duration": 6,
    "start_time": "2022-09-01T12:04:39.085Z"
   },
   {
    "duration": 14,
    "start_time": "2022-09-01T12:04:39.092Z"
   },
   {
    "duration": 21,
    "start_time": "2022-09-01T12:04:39.108Z"
   },
   {
    "duration": 36,
    "start_time": "2022-09-01T12:04:39.131Z"
   },
   {
    "duration": 4,
    "start_time": "2022-09-01T12:04:39.169Z"
   },
   {
    "duration": 11,
    "start_time": "2022-09-01T12:04:39.174Z"
   },
   {
    "duration": 6,
    "start_time": "2022-09-01T12:04:39.186Z"
   },
   {
    "duration": 4,
    "start_time": "2022-09-01T12:04:39.193Z"
   },
   {
    "duration": 11,
    "start_time": "2022-09-01T12:04:39.198Z"
   },
   {
    "duration": 8,
    "start_time": "2022-09-01T12:04:39.210Z"
   },
   {
    "duration": 89,
    "start_time": "2022-09-01T12:04:39.220Z"
   },
   {
    "duration": 0,
    "start_time": "2022-09-01T12:04:39.311Z"
   },
   {
    "duration": 0,
    "start_time": "2022-09-01T12:04:39.312Z"
   },
   {
    "duration": 0,
    "start_time": "2022-09-01T12:04:39.313Z"
   },
   {
    "duration": 0,
    "start_time": "2022-09-01T12:04:39.314Z"
   },
   {
    "duration": 461,
    "start_time": "2022-09-01T12:05:20.729Z"
   },
   {
    "duration": 12,
    "start_time": "2022-09-01T12:05:22.098Z"
   },
   {
    "duration": 4,
    "start_time": "2022-09-01T12:05:28.594Z"
   },
   {
    "duration": 138,
    "start_time": "2022-09-01T12:05:30.310Z"
   },
   {
    "duration": 11,
    "start_time": "2022-09-01T12:05:32.043Z"
   },
   {
    "duration": 4,
    "start_time": "2022-09-01T12:06:00.250Z"
   },
   {
    "duration": 126,
    "start_time": "2022-09-01T12:06:02.506Z"
   },
   {
    "duration": 8,
    "start_time": "2022-09-01T12:06:03.871Z"
   },
   {
    "duration": 3,
    "start_time": "2022-09-01T12:38:25.419Z"
   },
   {
    "duration": 451,
    "start_time": "2022-09-01T12:38:26.929Z"
   },
   {
    "duration": 8,
    "start_time": "2022-09-01T12:38:27.991Z"
   },
   {
    "duration": 114,
    "start_time": "2022-09-01T12:40:33.829Z"
   },
   {
    "duration": 15,
    "start_time": "2022-09-01T12:40:33.945Z"
   },
   {
    "duration": 21,
    "start_time": "2022-09-01T12:40:33.962Z"
   },
   {
    "duration": 13,
    "start_time": "2022-09-01T12:40:33.984Z"
   },
   {
    "duration": 37,
    "start_time": "2022-09-01T12:40:33.998Z"
   },
   {
    "duration": 3,
    "start_time": "2022-09-01T12:40:34.037Z"
   },
   {
    "duration": 30,
    "start_time": "2022-09-01T12:40:34.041Z"
   },
   {
    "duration": 13,
    "start_time": "2022-09-01T12:40:34.073Z"
   },
   {
    "duration": 7,
    "start_time": "2022-09-01T12:40:34.088Z"
   },
   {
    "duration": 4,
    "start_time": "2022-09-01T12:40:34.097Z"
   },
   {
    "duration": 37,
    "start_time": "2022-09-01T12:40:34.102Z"
   },
   {
    "duration": 12,
    "start_time": "2022-09-01T12:40:34.140Z"
   },
   {
    "duration": 14,
    "start_time": "2022-09-01T12:40:34.154Z"
   },
   {
    "duration": 14,
    "start_time": "2022-09-01T12:40:34.177Z"
   },
   {
    "duration": 19,
    "start_time": "2022-09-01T12:40:34.193Z"
   },
   {
    "duration": 18,
    "start_time": "2022-09-01T12:40:34.213Z"
   },
   {
    "duration": 4,
    "start_time": "2022-09-01T12:40:34.233Z"
   },
   {
    "duration": 40,
    "start_time": "2022-09-01T12:40:34.238Z"
   },
   {
    "duration": 8,
    "start_time": "2022-09-01T12:40:34.280Z"
   },
   {
    "duration": 4,
    "start_time": "2022-09-01T12:40:34.290Z"
   },
   {
    "duration": 13,
    "start_time": "2022-09-01T12:40:34.295Z"
   },
   {
    "duration": 9,
    "start_time": "2022-09-01T12:40:34.309Z"
   },
   {
    "duration": 96,
    "start_time": "2022-09-01T12:40:34.320Z"
   },
   {
    "duration": 0,
    "start_time": "2022-09-01T12:40:34.418Z"
   },
   {
    "duration": 0,
    "start_time": "2022-09-01T12:40:34.419Z"
   },
   {
    "duration": 0,
    "start_time": "2022-09-01T12:40:34.420Z"
   },
   {
    "duration": 0,
    "start_time": "2022-09-01T12:40:34.421Z"
   },
   {
    "duration": 0,
    "start_time": "2022-09-01T12:40:34.421Z"
   },
   {
    "duration": 0,
    "start_time": "2022-09-01T12:40:34.423Z"
   },
   {
    "duration": 0,
    "start_time": "2022-09-01T12:40:34.423Z"
   },
   {
    "duration": 3,
    "start_time": "2022-09-01T12:49:59.685Z"
   },
   {
    "duration": 308,
    "start_time": "2022-09-01T12:50:00.637Z"
   },
   {
    "duration": 12,
    "start_time": "2022-09-01T12:50:01.490Z"
   },
   {
    "duration": 1071,
    "start_time": "2022-09-01T12:51:22.868Z"
   },
   {
    "duration": 8,
    "start_time": "2022-09-01T12:51:24.871Z"
   },
   {
    "duration": 4,
    "start_time": "2022-09-01T12:54:05.553Z"
   },
   {
    "duration": 5,
    "start_time": "2022-09-01T12:55:12.535Z"
   },
   {
    "duration": 14,
    "start_time": "2022-09-01T12:55:28.171Z"
   },
   {
    "duration": 7,
    "start_time": "2022-09-01T12:55:52.931Z"
   },
   {
    "duration": 5,
    "start_time": "2022-09-01T12:57:30.520Z"
   },
   {
    "duration": 4,
    "start_time": "2022-09-01T12:58:14.245Z"
   },
   {
    "duration": 5,
    "start_time": "2022-09-01T13:00:45.981Z"
   },
   {
    "duration": 112,
    "start_time": "2022-09-01T13:04:46.325Z"
   },
   {
    "duration": 14,
    "start_time": "2022-09-01T13:04:46.439Z"
   },
   {
    "duration": 36,
    "start_time": "2022-09-01T13:04:46.455Z"
   },
   {
    "duration": 11,
    "start_time": "2022-09-01T13:04:46.494Z"
   },
   {
    "duration": 34,
    "start_time": "2022-09-01T13:04:46.506Z"
   },
   {
    "duration": 3,
    "start_time": "2022-09-01T13:04:46.542Z"
   },
   {
    "duration": 22,
    "start_time": "2022-09-01T13:04:46.546Z"
   },
   {
    "duration": 5,
    "start_time": "2022-09-01T13:04:46.572Z"
   },
   {
    "duration": 11,
    "start_time": "2022-09-01T13:04:46.581Z"
   },
   {
    "duration": 5,
    "start_time": "2022-09-01T13:04:46.596Z"
   },
   {
    "duration": 39,
    "start_time": "2022-09-01T13:04:46.603Z"
   },
   {
    "duration": 24,
    "start_time": "2022-09-01T13:04:46.644Z"
   },
   {
    "duration": 15,
    "start_time": "2022-09-01T13:04:46.674Z"
   },
   {
    "duration": 27,
    "start_time": "2022-09-01T13:04:46.691Z"
   },
   {
    "duration": 62,
    "start_time": "2022-09-01T13:04:46.721Z"
   },
   {
    "duration": 25,
    "start_time": "2022-09-01T13:04:46.786Z"
   },
   {
    "duration": 6,
    "start_time": "2022-09-01T13:04:46.813Z"
   },
   {
    "duration": 28,
    "start_time": "2022-09-01T13:04:46.822Z"
   },
   {
    "duration": 38,
    "start_time": "2022-09-01T13:04:46.852Z"
   },
   {
    "duration": 7,
    "start_time": "2022-09-01T13:04:46.892Z"
   },
   {
    "duration": 13,
    "start_time": "2022-09-01T13:04:46.900Z"
   },
   {
    "duration": 15,
    "start_time": "2022-09-01T13:04:46.915Z"
   },
   {
    "duration": 10,
    "start_time": "2022-09-01T13:04:46.932Z"
   },
   {
    "duration": 5,
    "start_time": "2022-09-01T13:04:46.944Z"
   },
   {
    "duration": 7,
    "start_time": "2022-09-01T13:04:46.951Z"
   },
   {
    "duration": 181,
    "start_time": "2022-09-01T13:04:46.967Z"
   },
   {
    "duration": 21,
    "start_time": "2022-09-01T13:04:47.150Z"
   },
   {
    "duration": 11,
    "start_time": "2022-09-01T13:04:47.174Z"
   },
   {
    "duration": 1261,
    "start_time": "2022-09-01T13:04:47.187Z"
   },
   {
    "duration": 0,
    "start_time": "2022-09-01T13:04:48.450Z"
   },
   {
    "duration": 0,
    "start_time": "2022-09-01T13:04:48.451Z"
   },
   {
    "duration": 43,
    "start_time": "2022-09-01T19:07:09.941Z"
   },
   {
    "duration": 679,
    "start_time": "2022-09-01T19:07:21.680Z"
   },
   {
    "duration": 22,
    "start_time": "2022-09-01T19:07:22.361Z"
   },
   {
    "duration": 15,
    "start_time": "2022-09-01T19:07:22.384Z"
   },
   {
    "duration": 10,
    "start_time": "2022-09-01T19:07:22.401Z"
   },
   {
    "duration": 57,
    "start_time": "2022-09-01T19:07:22.412Z"
   },
   {
    "duration": 3,
    "start_time": "2022-09-01T19:07:22.471Z"
   },
   {
    "duration": 15,
    "start_time": "2022-09-01T19:07:22.476Z"
   },
   {
    "duration": 4,
    "start_time": "2022-09-01T19:07:22.492Z"
   },
   {
    "duration": 12,
    "start_time": "2022-09-01T19:07:22.497Z"
   },
   {
    "duration": 4,
    "start_time": "2022-09-01T19:07:22.511Z"
   },
   {
    "duration": 50,
    "start_time": "2022-09-01T19:07:22.517Z"
   },
   {
    "duration": 9,
    "start_time": "2022-09-01T19:07:22.569Z"
   },
   {
    "duration": 6,
    "start_time": "2022-09-01T19:07:22.579Z"
   },
   {
    "duration": 12,
    "start_time": "2022-09-01T19:07:22.586Z"
   },
   {
    "duration": 21,
    "start_time": "2022-09-01T19:07:22.599Z"
   },
   {
    "duration": 36,
    "start_time": "2022-09-01T19:07:22.622Z"
   },
   {
    "duration": 4,
    "start_time": "2022-09-01T19:07:22.660Z"
   },
   {
    "duration": 16,
    "start_time": "2022-09-01T19:07:22.666Z"
   },
   {
    "duration": 7,
    "start_time": "2022-09-01T19:07:22.684Z"
   },
   {
    "duration": 4,
    "start_time": "2022-09-01T19:07:22.693Z"
   },
   {
    "duration": 15,
    "start_time": "2022-09-01T19:07:22.698Z"
   },
   {
    "duration": 13,
    "start_time": "2022-09-01T19:07:22.715Z"
   },
   {
    "duration": 27,
    "start_time": "2022-09-01T19:07:22.730Z"
   },
   {
    "duration": 4,
    "start_time": "2022-09-01T19:07:22.759Z"
   },
   {
    "duration": 8,
    "start_time": "2022-09-01T19:07:22.765Z"
   },
   {
    "duration": 154,
    "start_time": "2022-09-01T19:07:22.774Z"
   },
   {
    "duration": 8,
    "start_time": "2022-09-01T19:07:22.929Z"
   },
   {
    "duration": 17,
    "start_time": "2022-09-01T19:07:22.940Z"
   },
   {
    "duration": 554,
    "start_time": "2022-09-01T19:07:22.959Z"
   },
   {
    "duration": 0,
    "start_time": "2022-09-01T19:07:23.514Z"
   },
   {
    "duration": 3,
    "start_time": "2022-09-01T19:12:06.473Z"
   },
   {
    "duration": 557,
    "start_time": "2022-09-01T19:12:31.086Z"
   },
   {
    "duration": 8,
    "start_time": "2022-09-01T19:12:38.914Z"
   },
   {
    "duration": 3,
    "start_time": "2022-09-01T19:19:34.570Z"
   },
   {
    "duration": 8,
    "start_time": "2022-09-01T19:19:42.136Z"
   },
   {
    "duration": 9,
    "start_time": "2022-09-01T19:20:21.818Z"
   },
   {
    "duration": 4,
    "start_time": "2022-09-01T19:20:30.904Z"
   },
   {
    "duration": 8,
    "start_time": "2022-09-01T19:20:36.179Z"
   },
   {
    "duration": 6,
    "start_time": "2022-09-01T19:20:57.209Z"
   },
   {
    "duration": 8,
    "start_time": "2022-09-01T19:21:20.062Z"
   },
   {
    "duration": 6,
    "start_time": "2022-09-01T19:21:31.962Z"
   },
   {
    "duration": 3,
    "start_time": "2022-09-01T19:21:47.059Z"
   },
   {
    "duration": 6,
    "start_time": "2022-09-01T19:21:49.998Z"
   },
   {
    "duration": 7,
    "start_time": "2022-09-01T19:21:50.858Z"
   },
   {
    "duration": 4,
    "start_time": "2022-09-01T19:22:27.152Z"
   },
   {
    "duration": 9,
    "start_time": "2022-09-01T19:22:28.869Z"
   },
   {
    "duration": 8,
    "start_time": "2022-09-01T19:22:29.901Z"
   },
   {
    "duration": 478,
    "start_time": "2022-09-02T16:56:31.023Z"
   },
   {
    "duration": 23,
    "start_time": "2022-09-02T16:56:31.503Z"
   },
   {
    "duration": 34,
    "start_time": "2022-09-02T16:56:31.527Z"
   },
   {
    "duration": 36,
    "start_time": "2022-09-02T16:56:31.563Z"
   },
   {
    "duration": 56,
    "start_time": "2022-09-02T16:56:31.602Z"
   },
   {
    "duration": 4,
    "start_time": "2022-09-02T16:56:31.660Z"
   },
   {
    "duration": 56,
    "start_time": "2022-09-02T16:56:31.665Z"
   },
   {
    "duration": 34,
    "start_time": "2022-09-02T16:56:31.723Z"
   },
   {
    "duration": 22,
    "start_time": "2022-09-02T16:56:31.758Z"
   },
   {
    "duration": 22,
    "start_time": "2022-09-02T16:56:31.781Z"
   },
   {
    "duration": 50,
    "start_time": "2022-09-02T16:56:31.804Z"
   },
   {
    "duration": 9,
    "start_time": "2022-09-02T16:56:31.856Z"
   },
   {
    "duration": 11,
    "start_time": "2022-09-02T16:56:31.867Z"
   },
   {
    "duration": 57,
    "start_time": "2022-09-02T16:56:31.881Z"
   },
   {
    "duration": 54,
    "start_time": "2022-09-02T16:56:31.939Z"
   },
   {
    "duration": 18,
    "start_time": "2022-09-02T16:56:31.995Z"
   },
   {
    "duration": 13,
    "start_time": "2022-09-02T16:56:32.015Z"
   },
   {
    "duration": 30,
    "start_time": "2022-09-02T16:56:32.030Z"
   },
   {
    "duration": 16,
    "start_time": "2022-09-02T16:56:32.062Z"
   },
   {
    "duration": 18,
    "start_time": "2022-09-02T16:56:32.080Z"
   },
   {
    "duration": 34,
    "start_time": "2022-09-02T16:56:32.100Z"
   },
   {
    "duration": 23,
    "start_time": "2022-09-02T16:56:32.135Z"
   },
   {
    "duration": 26,
    "start_time": "2022-09-02T16:56:32.160Z"
   },
   {
    "duration": 21,
    "start_time": "2022-09-02T16:56:32.188Z"
   },
   {
    "duration": 33,
    "start_time": "2022-09-02T16:56:32.211Z"
   },
   {
    "duration": 199,
    "start_time": "2022-09-02T16:56:32.246Z"
   },
   {
    "duration": 9,
    "start_time": "2022-09-02T16:56:32.447Z"
   },
   {
    "duration": 21,
    "start_time": "2022-09-02T16:56:32.457Z"
   },
   {
    "duration": 37,
    "start_time": "2022-09-02T16:56:32.480Z"
   },
   {
    "duration": 29,
    "start_time": "2022-09-02T16:56:32.518Z"
   }
  ],
  "colab": {
   "name": "dpp_template_part2.ipynb",
   "provenance": []
  },
  "kernelspec": {
   "display_name": "Python 3 (ipykernel)",
   "language": "python",
   "name": "python3"
  },
  "language_info": {
   "codemirror_mode": {
    "name": "ipython",
    "version": 3
   },
   "file_extension": ".py",
   "mimetype": "text/x-python",
   "name": "python",
   "nbconvert_exporter": "python",
   "pygments_lexer": "ipython3",
   "version": "3.9.12"
  },
  "toc": {
   "base_numbering": 1,
   "nav_menu": {},
   "number_sections": true,
   "sideBar": true,
   "skip_h1_title": true,
   "title_cell": "Table of Contents",
   "title_sidebar": "Contents",
   "toc_cell": false,
   "toc_position": {},
   "toc_section_display": true,
   "toc_window_display": false
  }
 },
 "nbformat": 4,
 "nbformat_minor": 5
}
