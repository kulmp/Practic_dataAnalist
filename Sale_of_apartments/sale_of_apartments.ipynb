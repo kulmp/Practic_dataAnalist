{
 "cells": [
  {
   "cell_type": "markdown",
   "metadata": {},
   "source": [
    "# Исследование объявлений о продаже квартир\n",
    "\n",
    "Используем данные сервиса Яндекс.Недвижимость — архив объявлений о продаже квартир в Санкт-Петербурге и соседних населённых пунктов за несколько лет. Задача — установить параметры. Это позволит построить автоматизированную систему: она отследит аномалии и мошенническую деятельность. \n",
    "\n",
    "По каждой квартире на продажу доступны два вида данных. Первые вписаны пользователем, вторые — получены автоматически на основе картографических данных. Например, расстояние до центра, аэропорта, ближайшего парка и водоёма. "
   ]
  },
  {
   "cell_type": "markdown",
   "metadata": {},
   "source": [
    "**Задача: выполнить предобработку данных и изучить их, \n",
    "чтобы найти интересные особенности и зависимости, которые существуют на рынке недвижимости. Для выполнения проект выполним следующие этапы:\n",
    "1.Постановка задачи\n",
    "2.Получение данных\n",
    "3.Предобработка данных\n",
    "4.Анализ данных\n",
    "5.Оформление результатов**"
   ]
  },
  {
   "cell_type": "code",
   "execution_count": 1,
   "metadata": {
    "scrolled": false
   },
   "outputs": [
    {
     "name": "stdout",
     "output_type": "stream",
     "text": [
      "    total_images  last_price  total_area first_day_exposition  rooms  \\\n",
      "0             20  13000000.0      108.00  2019-03-07T00:00:00      3   \n",
      "1              7   3350000.0       40.40  2018-12-04T00:00:00      1   \n",
      "2             10   5196000.0       56.00  2015-08-20T00:00:00      2   \n",
      "3              0  64900000.0      159.00  2015-07-24T00:00:00      3   \n",
      "4              2  10000000.0      100.00  2018-06-19T00:00:00      2   \n",
      "5             10   2890000.0       30.40  2018-09-10T00:00:00      1   \n",
      "6              6   3700000.0       37.30  2017-11-02T00:00:00      1   \n",
      "7              5   7915000.0       71.60  2019-04-18T00:00:00      2   \n",
      "8             20   2900000.0       33.16  2018-05-23T00:00:00      1   \n",
      "9             18   5400000.0       61.00  2017-02-26T00:00:00      3   \n",
      "10             5   5050000.0       39.60  2017-11-16T00:00:00      1   \n",
      "11             9   3300000.0       44.00  2018-08-27T00:00:00      2   \n",
      "12            10   3890000.0       54.00  2016-06-30T00:00:00      2   \n",
      "13            20   3550000.0       42.80  2017-07-01T00:00:00      2   \n",
      "14             1   4400000.0       36.00  2016-06-23T00:00:00      1   \n",
      "15            16   4650000.0       39.00  2017-11-18T00:00:00      1   \n",
      "16            11   6700000.0       82.00  2017-11-23T00:00:00      3   \n",
      "17             6   4180000.0       36.00  2016-09-09T00:00:00      1   \n",
      "18             8   3250000.0       31.00  2017-01-27T00:00:00      1   \n",
      "19            16  14200000.0      121.00  2019-01-09T00:00:00      3   \n",
      "\n",
      "    ceiling_height  floors_total  living_area  floor is_apartment  ...  \\\n",
      "0             2.70          16.0        51.00      8          NaN  ...   \n",
      "1              NaN          11.0        18.60      1          NaN  ...   \n",
      "2              NaN           5.0        34.30      4          NaN  ...   \n",
      "3              NaN          14.0          NaN      9          NaN  ...   \n",
      "4             3.03          14.0        32.00     13          NaN  ...   \n",
      "5              NaN          12.0        14.40      5          NaN  ...   \n",
      "6              NaN          26.0        10.60      6          NaN  ...   \n",
      "7              NaN          24.0          NaN     22          NaN  ...   \n",
      "8              NaN          27.0        15.43     26          NaN  ...   \n",
      "9             2.50           9.0        43.60      7          NaN  ...   \n",
      "10            2.67          12.0        20.30      3          NaN  ...   \n",
      "11             NaN           5.0        31.00      4        False  ...   \n",
      "12             NaN           5.0        30.00      5          NaN  ...   \n",
      "13            2.56           5.0        27.00      5          NaN  ...   \n",
      "14             NaN           6.0        17.00      1          NaN  ...   \n",
      "15             NaN          14.0        20.50      5          NaN  ...   \n",
      "16            3.05           5.0        55.60      1          NaN  ...   \n",
      "17             NaN          17.0        16.50      7          NaN  ...   \n",
      "18            2.50           5.0        19.40      2          NaN  ...   \n",
      "19            2.75          16.0        76.00      8          NaN  ...   \n",
      "\n",
      "    kitchen_area  balcony              locality_name  airports_nearest  \\\n",
      "0          25.00      NaN            Санкт-Петербург           18863.0   \n",
      "1          11.00      2.0             посёлок Шушары           12817.0   \n",
      "2           8.30      0.0            Санкт-Петербург           21741.0   \n",
      "3            NaN      0.0            Санкт-Петербург           28098.0   \n",
      "4          41.00      NaN            Санкт-Петербург           31856.0   \n",
      "5           9.10      NaN  городской посёлок Янино-1               NaN   \n",
      "6          14.40      1.0          посёлок Парголово           52996.0   \n",
      "7          18.90      2.0            Санкт-Петербург           23982.0   \n",
      "8           8.81      NaN             посёлок Мурино               NaN   \n",
      "9           6.50      2.0            Санкт-Петербург           50898.0   \n",
      "10          8.50      NaN            Санкт-Петербург           38357.0   \n",
      "11          6.00      1.0                  Ломоносов           48252.0   \n",
      "12          9.00      0.0                  Сертолово               NaN   \n",
      "13          5.20      1.0                   Петергоф           37868.0   \n",
      "14          8.00      0.0                     Пушкин           20782.0   \n",
      "15          7.60      1.0            Санкт-Петербург           12900.0   \n",
      "16          9.00      NaN            Санкт-Петербург           22108.0   \n",
      "17         11.00      1.0            Санкт-Петербург           33564.0   \n",
      "18          5.60      1.0            Санкт-Петербург           44060.0   \n",
      "19         12.00      NaN            Санкт-Петербург           38900.0   \n",
      "\n",
      "   cityCenters_nearest  parks_around3000  parks_nearest  ponds_around3000  \\\n",
      "0              16028.0               1.0          482.0               2.0   \n",
      "1              18603.0               0.0            NaN               0.0   \n",
      "2              13933.0               1.0           90.0               2.0   \n",
      "3               6800.0               2.0           84.0               3.0   \n",
      "4               8098.0               2.0          112.0               1.0   \n",
      "5                  NaN               NaN            NaN               NaN   \n",
      "6              19143.0               0.0            NaN               0.0   \n",
      "7              11634.0               0.0            NaN               0.0   \n",
      "8                  NaN               NaN            NaN               NaN   \n",
      "9              15008.0               0.0            NaN               0.0   \n",
      "10             13878.0               1.0          310.0               2.0   \n",
      "11             51677.0               0.0            NaN               0.0   \n",
      "12                 NaN               NaN            NaN               NaN   \n",
      "13             33058.0               1.0          294.0               3.0   \n",
      "14             30759.0               0.0            NaN               1.0   \n",
      "15             14259.0               1.0          590.0               1.0   \n",
      "16             10698.0               3.0          420.0               0.0   \n",
      "17             14616.0               0.0            NaN               1.0   \n",
      "18             10842.0               1.0          759.0               0.0   \n",
      "19             12843.0               0.0            NaN               0.0   \n",
      "\n",
      "    ponds_nearest  days_exposition  \n",
      "0           755.0              NaN  \n",
      "1             NaN             81.0  \n",
      "2           574.0            558.0  \n",
      "3           234.0            424.0  \n",
      "4            48.0            121.0  \n",
      "5             NaN             55.0  \n",
      "6             NaN            155.0  \n",
      "7             NaN              NaN  \n",
      "8             NaN            189.0  \n",
      "9             NaN            289.0  \n",
      "10          553.0            137.0  \n",
      "11            NaN              7.0  \n",
      "12            NaN             90.0  \n",
      "13          298.0            366.0  \n",
      "14           96.0            203.0  \n",
      "15          296.0             19.0  \n",
      "16            NaN            397.0  \n",
      "17          859.0            571.0  \n",
      "18            NaN            168.0  \n",
      "19            NaN             97.0  \n",
      "\n",
      "[20 rows x 22 columns]\n"
     ]
    },
    {
     "data": {
      "image/png": "[encoded data removed]",
      "text/plain": [
       "<Figure size 1080x1440 with 20 Axes>"
      ]
     },
     "metadata": {
      "needs_background": "light"
     },
     "output_type": "display_data"
    }
   ],
   "source": [
    "import pandas as pd \n",
    "import matplotlib.pyplot as plt\n",
    "import seaborn as sb\n",
    "data = pd.read_csv('/datasets/real_estate_data.csv', sep='\\t') # прочитаем csv-файл с разделителем\n",
    "print(data.head(20))\n",
    "data.hist(figsize=(15, 20));"
   ]
  },
  {
   "cell_type": "markdown",
   "metadata": {},
   "source": [
    "### Предобработка данных"
   ]
  },
  {
   "cell_type": "code",
   "execution_count": 2,
   "metadata": {},
   "outputs": [
    {
     "name": "stdout",
     "output_type": "stream",
     "text": [
      "<class 'pandas.core.frame.DataFrame'>\n",
      "RangeIndex: 23699 entries, 0 to 23698\n",
      "Data columns (total 22 columns):\n",
      " #   Column                Non-Null Count  Dtype  \n",
      "---  ------                --------------  -----  \n",
      " 0   total_images          23699 non-null  int64  \n",
      " 1   last_price            23699 non-null  float64\n",
      " 2   total_area            23699 non-null  float64\n",
      " 3   first_day_exposition  23699 non-null  object \n",
      " 4   rooms                 23699 non-null  int64  \n",
      " 5   ceiling_height        14504 non-null  float64\n",
      " 6   floors_total          23613 non-null  float64\n",
      " 7   living_area           21796 non-null  float64\n",
      " 8   floor                 23699 non-null  int64  \n",
      " 9   is_apartment          2775 non-null   object \n",
      " 10  studio                23699 non-null  bool   \n",
      " 11  open_plan             23699 non-null  bool   \n",
      " 12  kitchen_area          21421 non-null  float64\n",
      " 13  balcony               12180 non-null  float64\n",
      " 14  locality_name         23650 non-null  object \n",
      " 15  airports_nearest      18157 non-null  float64\n",
      " 16  cityCenters_nearest   18180 non-null  float64\n",
      " 17  parks_around3000      18181 non-null  float64\n",
      " 18  parks_nearest         8079 non-null   float64\n",
      " 19  ponds_around3000      18181 non-null  float64\n",
      " 20  ponds_nearest         9110 non-null   float64\n",
      " 21  days_exposition       20518 non-null  float64\n",
      "dtypes: bool(2), float64(14), int64(3), object(3)\n",
      "memory usage: 3.7+ MB\n"
     ]
    }
   ],
   "source": [
    "data.info()"
   ]
  },
  {
   "cell_type": "code",
   "execution_count": 3,
   "metadata": {},
   "outputs": [
    {
     "name": "stdout",
     "output_type": "stream",
     "text": [
      "0\n"
     ]
    }
   ],
   "source": [
    "print(data.duplicated().sum())"
   ]
  },
  {
   "cell_type": "markdown",
   "metadata": {},
   "source": [
    "**Дубликатов не обнаружено**"
   ]
  },
  {
   "cell_type": "code",
   "execution_count": 4,
   "metadata": {},
   "outputs": [
    {
     "data": {
      "text/html": [
       "<style  type=\"text/css\" >\n",
       "#T_67d7e_row0_col0,#T_67d7e_row1_col0,#T_67d7e_row2_col0,#T_67d7e_row3_col0,#T_67d7e_row4_col0,#T_67d7e_row6_col0,#T_67d7e_row8_col0,#T_67d7e_row10_col0,#T_67d7e_row11_col0,#T_67d7e_row14_col0{\n",
       "            background-color:  #3b4cc0;\n",
       "            color:  #f1f1f1;\n",
       "        }#T_67d7e_row5_col0{\n",
       "            background-color:  #cdd9ec;\n",
       "            color:  #000000;\n",
       "        }#T_67d7e_row7_col0{\n",
       "            background-color:  #5673e0;\n",
       "            color:  #000000;\n",
       "        }#T_67d7e_row9_col0{\n",
       "            background-color:  #b40426;\n",
       "            color:  #f1f1f1;\n",
       "        }#T_67d7e_row12_col0{\n",
       "            background-color:  #5e7de7;\n",
       "            color:  #000000;\n",
       "        }#T_67d7e_row13_col0{\n",
       "            background-color:  #ead4c8;\n",
       "            color:  #000000;\n",
       "        }#T_67d7e_row15_col0,#T_67d7e_row16_col0,#T_67d7e_row17_col0,#T_67d7e_row19_col0{\n",
       "            background-color:  #90b2fe;\n",
       "            color:  #000000;\n",
       "        }#T_67d7e_row18_col0{\n",
       "            background-color:  #f4987a;\n",
       "            color:  #000000;\n",
       "        }#T_67d7e_row20_col0{\n",
       "            background-color:  #f7aa8c;\n",
       "            color:  #000000;\n",
       "        }#T_67d7e_row21_col0{\n",
       "            background-color:  #688aef;\n",
       "            color:  #000000;\n",
       "        }</style><table id=\"T_67d7e_\" ><thead>    <tr>        <th class=\"blank level0\" ></th>        <th class=\"col_heading level0 col0\" >0</th>    </tr></thead><tbody>\n",
       "                <tr>\n",
       "                        <th id=\"T_67d7e_level0_row0\" class=\"row_heading level0 row0\" >total_images</th>\n",
       "                        <td id=\"T_67d7e_row0_col0\" class=\"data row0 col0\" >0.000000</td>\n",
       "            </tr>\n",
       "            <tr>\n",
       "                        <th id=\"T_67d7e_level0_row1\" class=\"row_heading level0 row1\" >last_price</th>\n",
       "                        <td id=\"T_67d7e_row1_col0\" class=\"data row1 col0\" >0.000000</td>\n",
       "            </tr>\n",
       "            <tr>\n",
       "                        <th id=\"T_67d7e_level0_row2\" class=\"row_heading level0 row2\" >total_area</th>\n",
       "                        <td id=\"T_67d7e_row2_col0\" class=\"data row2 col0\" >0.000000</td>\n",
       "            </tr>\n",
       "            <tr>\n",
       "                        <th id=\"T_67d7e_level0_row3\" class=\"row_heading level0 row3\" >first_day_exposition</th>\n",
       "                        <td id=\"T_67d7e_row3_col0\" class=\"data row3 col0\" >0.000000</td>\n",
       "            </tr>\n",
       "            <tr>\n",
       "                        <th id=\"T_67d7e_level0_row4\" class=\"row_heading level0 row4\" >rooms</th>\n",
       "                        <td id=\"T_67d7e_row4_col0\" class=\"data row4 col0\" >0.000000</td>\n",
       "            </tr>\n",
       "            <tr>\n",
       "                        <th id=\"T_67d7e_level0_row5\" class=\"row_heading level0 row5\" >ceiling_height</th>\n",
       "                        <td id=\"T_67d7e_row5_col0\" class=\"data row5 col0\" >39.000000</td>\n",
       "            </tr>\n",
       "            <tr>\n",
       "                        <th id=\"T_67d7e_level0_row6\" class=\"row_heading level0 row6\" >floors_total</th>\n",
       "                        <td id=\"T_67d7e_row6_col0\" class=\"data row6 col0\" >0.000000</td>\n",
       "            </tr>\n",
       "            <tr>\n",
       "                        <th id=\"T_67d7e_level0_row7\" class=\"row_heading level0 row7\" >living_area</th>\n",
       "                        <td id=\"T_67d7e_row7_col0\" class=\"data row7 col0\" >8.000000</td>\n",
       "            </tr>\n",
       "            <tr>\n",
       "                        <th id=\"T_67d7e_level0_row8\" class=\"row_heading level0 row8\" >floor</th>\n",
       "                        <td id=\"T_67d7e_row8_col0\" class=\"data row8 col0\" >0.000000</td>\n",
       "            </tr>\n",
       "            <tr>\n",
       "                        <th id=\"T_67d7e_level0_row9\" class=\"row_heading level0 row9\" >is_apartment</th>\n",
       "                        <td id=\"T_67d7e_row9_col0\" class=\"data row9 col0\" >88.000000</td>\n",
       "            </tr>\n",
       "            <tr>\n",
       "                        <th id=\"T_67d7e_level0_row10\" class=\"row_heading level0 row10\" >studio</th>\n",
       "                        <td id=\"T_67d7e_row10_col0\" class=\"data row10 col0\" >0.000000</td>\n",
       "            </tr>\n",
       "            <tr>\n",
       "                        <th id=\"T_67d7e_level0_row11\" class=\"row_heading level0 row11\" >open_plan</th>\n",
       "                        <td id=\"T_67d7e_row11_col0\" class=\"data row11 col0\" >0.000000</td>\n",
       "            </tr>\n",
       "            <tr>\n",
       "                        <th id=\"T_67d7e_level0_row12\" class=\"row_heading level0 row12\" >kitchen_area</th>\n",
       "                        <td id=\"T_67d7e_row12_col0\" class=\"data row12 col0\" >10.000000</td>\n",
       "            </tr>\n",
       "            <tr>\n",
       "                        <th id=\"T_67d7e_level0_row13\" class=\"row_heading level0 row13\" >balcony</th>\n",
       "                        <td id=\"T_67d7e_row13_col0\" class=\"data row13 col0\" >49.000000</td>\n",
       "            </tr>\n",
       "            <tr>\n",
       "                        <th id=\"T_67d7e_level0_row14\" class=\"row_heading level0 row14\" >locality_name</th>\n",
       "                        <td id=\"T_67d7e_row14_col0\" class=\"data row14 col0\" >0.000000</td>\n",
       "            </tr>\n",
       "            <tr>\n",
       "                        <th id=\"T_67d7e_level0_row15\" class=\"row_heading level0 row15\" >airports_nearest</th>\n",
       "                        <td id=\"T_67d7e_row15_col0\" class=\"data row15 col0\" >23.000000</td>\n",
       "            </tr>\n",
       "            <tr>\n",
       "                        <th id=\"T_67d7e_level0_row16\" class=\"row_heading level0 row16\" >cityCenters_nearest</th>\n",
       "                        <td id=\"T_67d7e_row16_col0\" class=\"data row16 col0\" >23.000000</td>\n",
       "            </tr>\n",
       "            <tr>\n",
       "                        <th id=\"T_67d7e_level0_row17\" class=\"row_heading level0 row17\" >parks_around3000</th>\n",
       "                        <td id=\"T_67d7e_row17_col0\" class=\"data row17 col0\" >23.000000</td>\n",
       "            </tr>\n",
       "            <tr>\n",
       "                        <th id=\"T_67d7e_level0_row18\" class=\"row_heading level0 row18\" >parks_nearest</th>\n",
       "                        <td id=\"T_67d7e_row18_col0\" class=\"data row18 col0\" >66.000000</td>\n",
       "            </tr>\n",
       "            <tr>\n",
       "                        <th id=\"T_67d7e_level0_row19\" class=\"row_heading level0 row19\" >ponds_around3000</th>\n",
       "                        <td id=\"T_67d7e_row19_col0\" class=\"data row19 col0\" >23.000000</td>\n",
       "            </tr>\n",
       "            <tr>\n",
       "                        <th id=\"T_67d7e_level0_row20\" class=\"row_heading level0 row20\" >ponds_nearest</th>\n",
       "                        <td id=\"T_67d7e_row20_col0\" class=\"data row20 col0\" >62.000000</td>\n",
       "            </tr>\n",
       "            <tr>\n",
       "                        <th id=\"T_67d7e_level0_row21\" class=\"row_heading level0 row21\" >days_exposition</th>\n",
       "                        <td id=\"T_67d7e_row21_col0\" class=\"data row21 col0\" >13.000000</td>\n",
       "            </tr>\n",
       "    </tbody></table>"
      ],
      "text/plain": [
       "<pandas.io.formats.style.Styler at 0x7f43281dd340>"
      ]
     },
     "execution_count": 4,
     "metadata": {},
     "output_type": "execute_result"
    }
   ],
   "source": [
    "pd.DataFrame(round(data.isna().mean()*100,)).style.background_gradient('coolwarm')"
   ]
  },
  {
   "cell_type": "markdown",
   "metadata": {},
   "source": [
    "**Значительные пропуски (больше 50%) присутствуют в столбцах parks_nearest, ponds_nearest,is_apartment**"
   ]
  },
  {
   "cell_type": "code",
   "execution_count": 5,
   "metadata": {},
   "outputs": [],
   "source": [
    "data.isna().sum()\n",
    "data['days_exposition'] = data['days_exposition'].fillna(0) #заменим пропуски в days_exposition на 0\n",
    "data['balcony'].value_counts()\n",
    "data['balcony'] = data['balcony'].fillna(0) #заменим пропуски в balcony на 0\n",
    "data['ceiling_height'].sort_values()\n",
    "data['ceiling_height'].value_counts()\n",
    "data['ceiling_height'].describe()\n",
    "data.loc[data['ceiling_height'] >= 22, 'ceiling_height'] = data['ceiling_height'] / 10 \n",
    "data['is_apartment'] = data['is_apartment'].fillna(False) #заменим пропуски в is_apartment на False\n",
    "data.groupby(['floors_total'])['ceiling_height'].median()\n",
    "data['median_height'] = data['ceiling_height'].fillna(data.groupby('floors_total')['ceiling_height'].transform('median'))\n",
    "data = data[pd.notnull(data['floors_total'])]"
   ]
  },
  {
   "cell_type": "code",
   "execution_count": 6,
   "metadata": {},
   "outputs": [],
   "source": [
    "data['balcony'] = data['balcony'].astype('int64')\n",
    "data['first_day_exposition'] = pd.to_datetime(data['first_day_exposition'], format = '%Y-%m-%d')\n",
    "data['is_apartment'] = data['is_apartment'].astype('bool')\n",
    "data['floors_total'] = data['floors_total'].astype('Int64', errors='ignore')\n",
    "data['days_exposition'] = data['days_exposition'].astype('int64')\n",
    "data['last_price'] = data['last_price'].astype('int64');\n"
   ]
  },
  {
   "cell_type": "markdown",
   "metadata": {},
   "source": [
    "**Считаю, что потолки выше 22 метров заполнены с ошибкой, пропущена запятая. поэтому разделили на 10, Пропуски в is_apartment заменили на False, думаю если квартира не студия это поле просто пропускают\n",
    "ceiling_height заменили медианой этажей в домах с таким же количеством этажей**"
   ]
  },
  {
   "cell_type": "markdown",
   "metadata": {},
   "source": [
    "**Я думаю, что тип данных \"Дата публикации\" лучше изменть на дату, так как времени нет. Тип данных в поле \"Апартаменты\" на бул, так как поле подразумевает 2 значения правда или ложь. Тип данных в столбцах \"Балкон\" и \"Всего этажей\" изменили, чтобы отбрость нули после запятой, так будет удобнее. \"Сколько дней было размещено объявление\" изменили тип так как это целое цисло**"
   ]
  },
  {
   "cell_type": "code",
   "execution_count": 7,
   "metadata": {},
   "outputs": [
    {
     "data": {
      "text/html": [
       "<div>\n",
       "<style scoped>\n",
       "    .dataframe tbody tr th:only-of-type {\n",
       "        vertical-align: middle;\n",
       "    }\n",
       "\n",
       "    .dataframe tbody tr th {\n",
       "        vertical-align: top;\n",
       "    }\n",
       "\n",
       "    .dataframe thead th {\n",
       "        text-align: right;\n",
       "    }\n",
       "</style>\n",
       "<table border=\"1\" class=\"dataframe\">\n",
       "  <thead>\n",
       "    <tr style=\"text-align: right;\">\n",
       "      <th></th>\n",
       "      <th>total_images</th>\n",
       "      <th>last_price</th>\n",
       "      <th>total_area</th>\n",
       "      <th>first_day_exposition</th>\n",
       "      <th>rooms</th>\n",
       "      <th>ceiling_height</th>\n",
       "      <th>floors_total</th>\n",
       "      <th>living_area</th>\n",
       "      <th>floor</th>\n",
       "      <th>is_apartment</th>\n",
       "      <th>...</th>\n",
       "      <th>locality_name</th>\n",
       "      <th>airports_nearest</th>\n",
       "      <th>cityCenters_nearest</th>\n",
       "      <th>parks_around3000</th>\n",
       "      <th>parks_nearest</th>\n",
       "      <th>ponds_around3000</th>\n",
       "      <th>ponds_nearest</th>\n",
       "      <th>days_exposition</th>\n",
       "      <th>median_height</th>\n",
       "      <th>categorize_locality_name</th>\n",
       "    </tr>\n",
       "  </thead>\n",
       "  <tbody>\n",
       "    <tr>\n",
       "      <th>0</th>\n",
       "      <td>20</td>\n",
       "      <td>13000000</td>\n",
       "      <td>108.00</td>\n",
       "      <td>2019-03-07</td>\n",
       "      <td>3</td>\n",
       "      <td>2.70</td>\n",
       "      <td>16</td>\n",
       "      <td>51.00</td>\n",
       "      <td>8</td>\n",
       "      <td>False</td>\n",
       "      <td>...</td>\n",
       "      <td>Санкт-Петербург</td>\n",
       "      <td>18863.0</td>\n",
       "      <td>16028.0</td>\n",
       "      <td>1.0</td>\n",
       "      <td>482.0</td>\n",
       "      <td>2.0</td>\n",
       "      <td>755.0</td>\n",
       "      <td>0</td>\n",
       "      <td>2.70</td>\n",
       "      <td>Город</td>\n",
       "    </tr>\n",
       "    <tr>\n",
       "      <th>1</th>\n",
       "      <td>7</td>\n",
       "      <td>3350000</td>\n",
       "      <td>40.40</td>\n",
       "      <td>2018-12-04</td>\n",
       "      <td>1</td>\n",
       "      <td>NaN</td>\n",
       "      <td>11</td>\n",
       "      <td>18.60</td>\n",
       "      <td>1</td>\n",
       "      <td>False</td>\n",
       "      <td>...</td>\n",
       "      <td>посёлок Шушары</td>\n",
       "      <td>12817.0</td>\n",
       "      <td>18603.0</td>\n",
       "      <td>0.0</td>\n",
       "      <td>NaN</td>\n",
       "      <td>0.0</td>\n",
       "      <td>NaN</td>\n",
       "      <td>81</td>\n",
       "      <td>2.75</td>\n",
       "      <td>Поселок</td>\n",
       "    </tr>\n",
       "    <tr>\n",
       "      <th>2</th>\n",
       "      <td>10</td>\n",
       "      <td>5196000</td>\n",
       "      <td>56.00</td>\n",
       "      <td>2015-08-20</td>\n",
       "      <td>2</td>\n",
       "      <td>NaN</td>\n",
       "      <td>5</td>\n",
       "      <td>34.30</td>\n",
       "      <td>4</td>\n",
       "      <td>False</td>\n",
       "      <td>...</td>\n",
       "      <td>Санкт-Петербург</td>\n",
       "      <td>21741.0</td>\n",
       "      <td>13933.0</td>\n",
       "      <td>1.0</td>\n",
       "      <td>90.0</td>\n",
       "      <td>2.0</td>\n",
       "      <td>574.0</td>\n",
       "      <td>558</td>\n",
       "      <td>2.55</td>\n",
       "      <td>Город</td>\n",
       "    </tr>\n",
       "    <tr>\n",
       "      <th>3</th>\n",
       "      <td>0</td>\n",
       "      <td>64900000</td>\n",
       "      <td>159.00</td>\n",
       "      <td>2015-07-24</td>\n",
       "      <td>3</td>\n",
       "      <td>NaN</td>\n",
       "      <td>14</td>\n",
       "      <td>NaN</td>\n",
       "      <td>9</td>\n",
       "      <td>False</td>\n",
       "      <td>...</td>\n",
       "      <td>Санкт-Петербург</td>\n",
       "      <td>28098.0</td>\n",
       "      <td>6800.0</td>\n",
       "      <td>2.0</td>\n",
       "      <td>84.0</td>\n",
       "      <td>3.0</td>\n",
       "      <td>234.0</td>\n",
       "      <td>424</td>\n",
       "      <td>2.60</td>\n",
       "      <td>Город</td>\n",
       "    </tr>\n",
       "    <tr>\n",
       "      <th>4</th>\n",
       "      <td>2</td>\n",
       "      <td>10000000</td>\n",
       "      <td>100.00</td>\n",
       "      <td>2018-06-19</td>\n",
       "      <td>2</td>\n",
       "      <td>3.03</td>\n",
       "      <td>14</td>\n",
       "      <td>32.00</td>\n",
       "      <td>13</td>\n",
       "      <td>False</td>\n",
       "      <td>...</td>\n",
       "      <td>Санкт-Петербург</td>\n",
       "      <td>31856.0</td>\n",
       "      <td>8098.0</td>\n",
       "      <td>2.0</td>\n",
       "      <td>112.0</td>\n",
       "      <td>1.0</td>\n",
       "      <td>48.0</td>\n",
       "      <td>121</td>\n",
       "      <td>3.03</td>\n",
       "      <td>Город</td>\n",
       "    </tr>\n",
       "    <tr>\n",
       "      <th>5</th>\n",
       "      <td>10</td>\n",
       "      <td>2890000</td>\n",
       "      <td>30.40</td>\n",
       "      <td>2018-09-10</td>\n",
       "      <td>1</td>\n",
       "      <td>NaN</td>\n",
       "      <td>12</td>\n",
       "      <td>14.40</td>\n",
       "      <td>5</td>\n",
       "      <td>False</td>\n",
       "      <td>...</td>\n",
       "      <td>городской посёлок Янино-1</td>\n",
       "      <td>NaN</td>\n",
       "      <td>NaN</td>\n",
       "      <td>NaN</td>\n",
       "      <td>NaN</td>\n",
       "      <td>NaN</td>\n",
       "      <td>NaN</td>\n",
       "      <td>55</td>\n",
       "      <td>2.65</td>\n",
       "      <td>Поселок городского типа</td>\n",
       "    </tr>\n",
       "    <tr>\n",
       "      <th>6</th>\n",
       "      <td>6</td>\n",
       "      <td>3700000</td>\n",
       "      <td>37.30</td>\n",
       "      <td>2017-11-02</td>\n",
       "      <td>1</td>\n",
       "      <td>NaN</td>\n",
       "      <td>26</td>\n",
       "      <td>10.60</td>\n",
       "      <td>6</td>\n",
       "      <td>False</td>\n",
       "      <td>...</td>\n",
       "      <td>посёлок Парголово</td>\n",
       "      <td>52996.0</td>\n",
       "      <td>19143.0</td>\n",
       "      <td>0.0</td>\n",
       "      <td>NaN</td>\n",
       "      <td>0.0</td>\n",
       "      <td>NaN</td>\n",
       "      <td>155</td>\n",
       "      <td>2.66</td>\n",
       "      <td>Поселок</td>\n",
       "    </tr>\n",
       "    <tr>\n",
       "      <th>7</th>\n",
       "      <td>5</td>\n",
       "      <td>7915000</td>\n",
       "      <td>71.60</td>\n",
       "      <td>2019-04-18</td>\n",
       "      <td>2</td>\n",
       "      <td>NaN</td>\n",
       "      <td>24</td>\n",
       "      <td>NaN</td>\n",
       "      <td>22</td>\n",
       "      <td>False</td>\n",
       "      <td>...</td>\n",
       "      <td>Санкт-Петербург</td>\n",
       "      <td>23982.0</td>\n",
       "      <td>11634.0</td>\n",
       "      <td>0.0</td>\n",
       "      <td>NaN</td>\n",
       "      <td>0.0</td>\n",
       "      <td>NaN</td>\n",
       "      <td>0</td>\n",
       "      <td>2.75</td>\n",
       "      <td>Город</td>\n",
       "    </tr>\n",
       "    <tr>\n",
       "      <th>8</th>\n",
       "      <td>20</td>\n",
       "      <td>2900000</td>\n",
       "      <td>33.16</td>\n",
       "      <td>2018-05-23</td>\n",
       "      <td>1</td>\n",
       "      <td>NaN</td>\n",
       "      <td>27</td>\n",
       "      <td>15.43</td>\n",
       "      <td>26</td>\n",
       "      <td>False</td>\n",
       "      <td>...</td>\n",
       "      <td>посёлок Мурино</td>\n",
       "      <td>NaN</td>\n",
       "      <td>NaN</td>\n",
       "      <td>NaN</td>\n",
       "      <td>NaN</td>\n",
       "      <td>NaN</td>\n",
       "      <td>NaN</td>\n",
       "      <td>189</td>\n",
       "      <td>2.70</td>\n",
       "      <td>Поселок</td>\n",
       "    </tr>\n",
       "    <tr>\n",
       "      <th>9</th>\n",
       "      <td>18</td>\n",
       "      <td>5400000</td>\n",
       "      <td>61.00</td>\n",
       "      <td>2017-02-26</td>\n",
       "      <td>3</td>\n",
       "      <td>2.50</td>\n",
       "      <td>9</td>\n",
       "      <td>43.60</td>\n",
       "      <td>7</td>\n",
       "      <td>False</td>\n",
       "      <td>...</td>\n",
       "      <td>Санкт-Петербург</td>\n",
       "      <td>50898.0</td>\n",
       "      <td>15008.0</td>\n",
       "      <td>0.0</td>\n",
       "      <td>NaN</td>\n",
       "      <td>0.0</td>\n",
       "      <td>NaN</td>\n",
       "      <td>289</td>\n",
       "      <td>2.50</td>\n",
       "      <td>Город</td>\n",
       "    </tr>\n",
       "    <tr>\n",
       "      <th>10</th>\n",
       "      <td>5</td>\n",
       "      <td>5050000</td>\n",
       "      <td>39.60</td>\n",
       "      <td>2017-11-16</td>\n",
       "      <td>1</td>\n",
       "      <td>2.67</td>\n",
       "      <td>12</td>\n",
       "      <td>20.30</td>\n",
       "      <td>3</td>\n",
       "      <td>False</td>\n",
       "      <td>...</td>\n",
       "      <td>Санкт-Петербург</td>\n",
       "      <td>38357.0</td>\n",
       "      <td>13878.0</td>\n",
       "      <td>1.0</td>\n",
       "      <td>310.0</td>\n",
       "      <td>2.0</td>\n",
       "      <td>553.0</td>\n",
       "      <td>137</td>\n",
       "      <td>2.67</td>\n",
       "      <td>Город</td>\n",
       "    </tr>\n",
       "    <tr>\n",
       "      <th>11</th>\n",
       "      <td>9</td>\n",
       "      <td>3300000</td>\n",
       "      <td>44.00</td>\n",
       "      <td>2018-08-27</td>\n",
       "      <td>2</td>\n",
       "      <td>NaN</td>\n",
       "      <td>5</td>\n",
       "      <td>31.00</td>\n",
       "      <td>4</td>\n",
       "      <td>False</td>\n",
       "      <td>...</td>\n",
       "      <td>Ломоносов</td>\n",
       "      <td>48252.0</td>\n",
       "      <td>51677.0</td>\n",
       "      <td>0.0</td>\n",
       "      <td>NaN</td>\n",
       "      <td>0.0</td>\n",
       "      <td>NaN</td>\n",
       "      <td>7</td>\n",
       "      <td>2.55</td>\n",
       "      <td>Город</td>\n",
       "    </tr>\n",
       "    <tr>\n",
       "      <th>12</th>\n",
       "      <td>10</td>\n",
       "      <td>3890000</td>\n",
       "      <td>54.00</td>\n",
       "      <td>2016-06-30</td>\n",
       "      <td>2</td>\n",
       "      <td>NaN</td>\n",
       "      <td>5</td>\n",
       "      <td>30.00</td>\n",
       "      <td>5</td>\n",
       "      <td>False</td>\n",
       "      <td>...</td>\n",
       "      <td>Сертолово</td>\n",
       "      <td>NaN</td>\n",
       "      <td>NaN</td>\n",
       "      <td>NaN</td>\n",
       "      <td>NaN</td>\n",
       "      <td>NaN</td>\n",
       "      <td>NaN</td>\n",
       "      <td>90</td>\n",
       "      <td>2.55</td>\n",
       "      <td>Город</td>\n",
       "    </tr>\n",
       "    <tr>\n",
       "      <th>13</th>\n",
       "      <td>20</td>\n",
       "      <td>3550000</td>\n",
       "      <td>42.80</td>\n",
       "      <td>2017-07-01</td>\n",
       "      <td>2</td>\n",
       "      <td>2.56</td>\n",
       "      <td>5</td>\n",
       "      <td>27.00</td>\n",
       "      <td>5</td>\n",
       "      <td>False</td>\n",
       "      <td>...</td>\n",
       "      <td>Петергоф</td>\n",
       "      <td>37868.0</td>\n",
       "      <td>33058.0</td>\n",
       "      <td>1.0</td>\n",
       "      <td>294.0</td>\n",
       "      <td>3.0</td>\n",
       "      <td>298.0</td>\n",
       "      <td>366</td>\n",
       "      <td>2.56</td>\n",
       "      <td>Город</td>\n",
       "    </tr>\n",
       "    <tr>\n",
       "      <th>14</th>\n",
       "      <td>1</td>\n",
       "      <td>4400000</td>\n",
       "      <td>36.00</td>\n",
       "      <td>2016-06-23</td>\n",
       "      <td>1</td>\n",
       "      <td>NaN</td>\n",
       "      <td>6</td>\n",
       "      <td>17.00</td>\n",
       "      <td>1</td>\n",
       "      <td>False</td>\n",
       "      <td>...</td>\n",
       "      <td>Пушкин</td>\n",
       "      <td>20782.0</td>\n",
       "      <td>30759.0</td>\n",
       "      <td>0.0</td>\n",
       "      <td>NaN</td>\n",
       "      <td>1.0</td>\n",
       "      <td>96.0</td>\n",
       "      <td>203</td>\n",
       "      <td>3.00</td>\n",
       "      <td>Город</td>\n",
       "    </tr>\n",
       "    <tr>\n",
       "      <th>15</th>\n",
       "      <td>16</td>\n",
       "      <td>4650000</td>\n",
       "      <td>39.00</td>\n",
       "      <td>2017-11-18</td>\n",
       "      <td>1</td>\n",
       "      <td>NaN</td>\n",
       "      <td>14</td>\n",
       "      <td>20.50</td>\n",
       "      <td>5</td>\n",
       "      <td>False</td>\n",
       "      <td>...</td>\n",
       "      <td>Санкт-Петербург</td>\n",
       "      <td>12900.0</td>\n",
       "      <td>14259.0</td>\n",
       "      <td>1.0</td>\n",
       "      <td>590.0</td>\n",
       "      <td>1.0</td>\n",
       "      <td>296.0</td>\n",
       "      <td>19</td>\n",
       "      <td>2.60</td>\n",
       "      <td>Город</td>\n",
       "    </tr>\n",
       "    <tr>\n",
       "      <th>16</th>\n",
       "      <td>11</td>\n",
       "      <td>6700000</td>\n",
       "      <td>82.00</td>\n",
       "      <td>2017-11-23</td>\n",
       "      <td>3</td>\n",
       "      <td>3.05</td>\n",
       "      <td>5</td>\n",
       "      <td>55.60</td>\n",
       "      <td>1</td>\n",
       "      <td>False</td>\n",
       "      <td>...</td>\n",
       "      <td>Санкт-Петербург</td>\n",
       "      <td>22108.0</td>\n",
       "      <td>10698.0</td>\n",
       "      <td>3.0</td>\n",
       "      <td>420.0</td>\n",
       "      <td>0.0</td>\n",
       "      <td>NaN</td>\n",
       "      <td>397</td>\n",
       "      <td>3.05</td>\n",
       "      <td>Город</td>\n",
       "    </tr>\n",
       "    <tr>\n",
       "      <th>17</th>\n",
       "      <td>6</td>\n",
       "      <td>4180000</td>\n",
       "      <td>36.00</td>\n",
       "      <td>2016-09-09</td>\n",
       "      <td>1</td>\n",
       "      <td>NaN</td>\n",
       "      <td>17</td>\n",
       "      <td>16.50</td>\n",
       "      <td>7</td>\n",
       "      <td>False</td>\n",
       "      <td>...</td>\n",
       "      <td>Санкт-Петербург</td>\n",
       "      <td>33564.0</td>\n",
       "      <td>14616.0</td>\n",
       "      <td>0.0</td>\n",
       "      <td>NaN</td>\n",
       "      <td>1.0</td>\n",
       "      <td>859.0</td>\n",
       "      <td>571</td>\n",
       "      <td>2.70</td>\n",
       "      <td>Город</td>\n",
       "    </tr>\n",
       "    <tr>\n",
       "      <th>18</th>\n",
       "      <td>8</td>\n",
       "      <td>3250000</td>\n",
       "      <td>31.00</td>\n",
       "      <td>2017-01-27</td>\n",
       "      <td>1</td>\n",
       "      <td>2.50</td>\n",
       "      <td>5</td>\n",
       "      <td>19.40</td>\n",
       "      <td>2</td>\n",
       "      <td>False</td>\n",
       "      <td>...</td>\n",
       "      <td>Санкт-Петербург</td>\n",
       "      <td>44060.0</td>\n",
       "      <td>10842.0</td>\n",
       "      <td>1.0</td>\n",
       "      <td>759.0</td>\n",
       "      <td>0.0</td>\n",
       "      <td>NaN</td>\n",
       "      <td>168</td>\n",
       "      <td>2.50</td>\n",
       "      <td>Город</td>\n",
       "    </tr>\n",
       "    <tr>\n",
       "      <th>19</th>\n",
       "      <td>16</td>\n",
       "      <td>14200000</td>\n",
       "      <td>121.00</td>\n",
       "      <td>2019-01-09</td>\n",
       "      <td>3</td>\n",
       "      <td>2.75</td>\n",
       "      <td>16</td>\n",
       "      <td>76.00</td>\n",
       "      <td>8</td>\n",
       "      <td>False</td>\n",
       "      <td>...</td>\n",
       "      <td>Санкт-Петербург</td>\n",
       "      <td>38900.0</td>\n",
       "      <td>12843.0</td>\n",
       "      <td>0.0</td>\n",
       "      <td>NaN</td>\n",
       "      <td>0.0</td>\n",
       "      <td>NaN</td>\n",
       "      <td>97</td>\n",
       "      <td>2.75</td>\n",
       "      <td>Город</td>\n",
       "    </tr>\n",
       "  </tbody>\n",
       "</table>\n",
       "<p>20 rows × 24 columns</p>\n",
       "</div>"
      ],
      "text/plain": [
       "    total_images  last_price  total_area first_day_exposition  rooms  \\\n",
       "0             20    13000000      108.00           2019-03-07      3   \n",
       "1              7     3350000       40.40           2018-12-04      1   \n",
       "2             10     5196000       56.00           2015-08-20      2   \n",
       "3              0    64900000      159.00           2015-07-24      3   \n",
       "4              2    10000000      100.00           2018-06-19      2   \n",
       "5             10     2890000       30.40           2018-09-10      1   \n",
       "6              6     3700000       37.30           2017-11-02      1   \n",
       "7              5     7915000       71.60           2019-04-18      2   \n",
       "8             20     2900000       33.16           2018-05-23      1   \n",
       "9             18     5400000       61.00           2017-02-26      3   \n",
       "10             5     5050000       39.60           2017-11-16      1   \n",
       "11             9     3300000       44.00           2018-08-27      2   \n",
       "12            10     3890000       54.00           2016-06-30      2   \n",
       "13            20     3550000       42.80           2017-07-01      2   \n",
       "14             1     4400000       36.00           2016-06-23      1   \n",
       "15            16     4650000       39.00           2017-11-18      1   \n",
       "16            11     6700000       82.00           2017-11-23      3   \n",
       "17             6     4180000       36.00           2016-09-09      1   \n",
       "18             8     3250000       31.00           2017-01-27      1   \n",
       "19            16    14200000      121.00           2019-01-09      3   \n",
       "\n",
       "    ceiling_height  floors_total  living_area  floor  is_apartment  ...  \\\n",
       "0             2.70            16        51.00      8         False  ...   \n",
       "1              NaN            11        18.60      1         False  ...   \n",
       "2              NaN             5        34.30      4         False  ...   \n",
       "3              NaN            14          NaN      9         False  ...   \n",
       "4             3.03            14        32.00     13         False  ...   \n",
       "5              NaN            12        14.40      5         False  ...   \n",
       "6              NaN            26        10.60      6         False  ...   \n",
       "7              NaN            24          NaN     22         False  ...   \n",
       "8              NaN            27        15.43     26         False  ...   \n",
       "9             2.50             9        43.60      7         False  ...   \n",
       "10            2.67            12        20.30      3         False  ...   \n",
       "11             NaN             5        31.00      4         False  ...   \n",
       "12             NaN             5        30.00      5         False  ...   \n",
       "13            2.56             5        27.00      5         False  ...   \n",
       "14             NaN             6        17.00      1         False  ...   \n",
       "15             NaN            14        20.50      5         False  ...   \n",
       "16            3.05             5        55.60      1         False  ...   \n",
       "17             NaN            17        16.50      7         False  ...   \n",
       "18            2.50             5        19.40      2         False  ...   \n",
       "19            2.75            16        76.00      8         False  ...   \n",
       "\n",
       "                locality_name  airports_nearest  cityCenters_nearest  \\\n",
       "0             Санкт-Петербург           18863.0              16028.0   \n",
       "1              посёлок Шушары           12817.0              18603.0   \n",
       "2             Санкт-Петербург           21741.0              13933.0   \n",
       "3             Санкт-Петербург           28098.0               6800.0   \n",
       "4             Санкт-Петербург           31856.0               8098.0   \n",
       "5   городской посёлок Янино-1               NaN                  NaN   \n",
       "6           посёлок Парголово           52996.0              19143.0   \n",
       "7             Санкт-Петербург           23982.0              11634.0   \n",
       "8              посёлок Мурино               NaN                  NaN   \n",
       "9             Санкт-Петербург           50898.0              15008.0   \n",
       "10            Санкт-Петербург           38357.0              13878.0   \n",
       "11                  Ломоносов           48252.0              51677.0   \n",
       "12                  Сертолово               NaN                  NaN   \n",
       "13                   Петергоф           37868.0              33058.0   \n",
       "14                     Пушкин           20782.0              30759.0   \n",
       "15            Санкт-Петербург           12900.0              14259.0   \n",
       "16            Санкт-Петербург           22108.0              10698.0   \n",
       "17            Санкт-Петербург           33564.0              14616.0   \n",
       "18            Санкт-Петербург           44060.0              10842.0   \n",
       "19            Санкт-Петербург           38900.0              12843.0   \n",
       "\n",
       "    parks_around3000 parks_nearest  ponds_around3000  ponds_nearest  \\\n",
       "0                1.0         482.0               2.0          755.0   \n",
       "1                0.0           NaN               0.0            NaN   \n",
       "2                1.0          90.0               2.0          574.0   \n",
       "3                2.0          84.0               3.0          234.0   \n",
       "4                2.0         112.0               1.0           48.0   \n",
       "5                NaN           NaN               NaN            NaN   \n",
       "6                0.0           NaN               0.0            NaN   \n",
       "7                0.0           NaN               0.0            NaN   \n",
       "8                NaN           NaN               NaN            NaN   \n",
       "9                0.0           NaN               0.0            NaN   \n",
       "10               1.0         310.0               2.0          553.0   \n",
       "11               0.0           NaN               0.0            NaN   \n",
       "12               NaN           NaN               NaN            NaN   \n",
       "13               1.0         294.0               3.0          298.0   \n",
       "14               0.0           NaN               1.0           96.0   \n",
       "15               1.0         590.0               1.0          296.0   \n",
       "16               3.0         420.0               0.0            NaN   \n",
       "17               0.0           NaN               1.0          859.0   \n",
       "18               1.0         759.0               0.0            NaN   \n",
       "19               0.0           NaN               0.0            NaN   \n",
       "\n",
       "    days_exposition  median_height  categorize_locality_name  \n",
       "0                 0           2.70                     Город  \n",
       "1                81           2.75                   Поселок  \n",
       "2               558           2.55                     Город  \n",
       "3               424           2.60                     Город  \n",
       "4               121           3.03                     Город  \n",
       "5                55           2.65   Поселок городского типа  \n",
       "6               155           2.66                   Поселок  \n",
       "7                 0           2.75                     Город  \n",
       "8               189           2.70                   Поселок  \n",
       "9               289           2.50                     Город  \n",
       "10              137           2.67                     Город  \n",
       "11                7           2.55                     Город  \n",
       "12               90           2.55                     Город  \n",
       "13              366           2.56                     Город  \n",
       "14              203           3.00                     Город  \n",
       "15               19           2.60                     Город  \n",
       "16              397           3.05                     Город  \n",
       "17              571           2.70                     Город  \n",
       "18              168           2.50                     Город  \n",
       "19               97           2.75                     Город  \n",
       "\n",
       "[20 rows x 24 columns]"
      ]
     },
     "execution_count": 7,
     "metadata": {},
     "output_type": "execute_result"
    }
   ],
   "source": [
    "def categorize_locality_name (row):\n",
    "    try:\n",
    "        if 'гор' in row and 'пос' in row:\n",
    "            return 'Поселок городского типа'\n",
    "        elif 'котт' in row and 'пос' in row:\n",
    "            return 'Коттеджный поселок'\n",
    "        elif 'село' in row:\n",
    "            return 'Село'\n",
    "        elif 'дер' in row:\n",
    "            return 'Деревня'\n",
    "        elif 'пос' in row:\n",
    "            return 'Поселок'\n",
    "        return'Город' \n",
    "    except:\n",
    "        return 'Нет категории'\n",
    "data['categorize_locality_name'] = data['locality_name'].apply(categorize_locality_name)\n",
    "data.head(20)"
   ]
  },
  {
   "cell_type": "markdown",
   "metadata": {},
   "source": [
    "**В 14 столбцах есть пропущенные значения. Большее количество пропусков в столбцах: Балкон, Расстояние до ближайшего водоёма и Расстояние до ближайшего парка. Пропуски могли появиться в результате технического сбоя, т.к. данные картографические, такие данные оставлю без изменений. \n",
    "А вот пропущенные значения в столбце балконы заменили значением 0, скорее всего не заполнили значение, потому что балкона нет.\n",
    "После того как, исправили выбивающиеся значения в столбце \"ceiling_height\" значения заполнили медианой среди домов такой же этажностью и записали в новый столбец \"median_height\". Эти показатели важны для анализа.**"
   ]
  },
  {
   "cell_type": "markdown",
   "metadata": {},
   "source": [
    "### Посчитайте и добавьте в таблицу новые столбцы"
   ]
  },
  {
   "cell_type": "code",
   "execution_count": 8,
   "metadata": {},
   "outputs": [
    {
     "data": {
      "text/plain": [
       "''"
      ]
     },
     "execution_count": 8,
     "metadata": {},
     "output_type": "execute_result"
    }
   ],
   "source": [
    "data['price_square_meter'] = data['last_price'] / data['total_area'] #цена одного квадратного метра\n",
    "data['week_day'] = data['first_day_exposition'].dt.weekday #день недели публикации объявления (0 — понедельник, 1 — вторник и так далее)\n",
    "data['month_exposition'] = data['first_day_exposition'].dt.month #месяц публикации объявления\n",
    "data['year_exposition'] = data['first_day_exposition'].dt.year #год публикации объявления\n",
    ";"
   ]
  },
  {
   "cell_type": "code",
   "execution_count": 9,
   "metadata": {},
   "outputs": [
    {
     "name": "stdout",
     "output_type": "stream",
     "text": [
      "0        другой\n",
      "1        первый\n",
      "2        другой\n",
      "3        другой\n",
      "4        другой\n",
      "          ...  \n",
      "23694    другой\n",
      "23695    другой\n",
      "23696    первый\n",
      "23697    другой\n",
      "23698    первый\n",
      "Name: floor_categ, Length: 23613, dtype: object\n"
     ]
    },
    {
     "data": {
      "text/plain": [
       "''"
      ]
     },
     "execution_count": 9,
     "metadata": {},
     "output_type": "execute_result"
    }
   ],
   "source": [
    "#тип этажа квартиры (значения — «первый», «последний», «другой»)\n",
    "def floor_categ(row):\n",
    "    floors_total = row['floors_total']\n",
    "    floor = row['floor']\n",
    "    if floor == 1:\n",
    "        return 'первый'\n",
    "    elif floor == floors_total:\n",
    "        return 'последний'\n",
    "    elif 1 < floor < floors_total:\n",
    "        return 'другой'\n",
    "    \n",
    "data['floor_categ'] = data.apply(floor_categ, axis = 1)\n",
    "print (data['floor_categ'])\n",
    ";"
   ]
  },
  {
   "cell_type": "code",
   "execution_count": 10,
   "metadata": {},
   "outputs": [
    {
     "name": "stdout",
     "output_type": "stream",
     "text": [
      "0        16.0\n",
      "1        19.0\n",
      "2        14.0\n",
      "3         7.0\n",
      "4         8.0\n",
      "         ... \n",
      "23694     4.0\n",
      "23695     NaN\n",
      "23696     NaN\n",
      "23697    10.0\n",
      "23698     NaN\n",
      "Name: cityCenters_nearest_km, Length: 23613, dtype: float64\n"
     ]
    }
   ],
   "source": [
    "#расстояние до центра города в километрах\n",
    "data['cityCenters_nearest_km'] = round(data['cityCenters_nearest'] / 1000)\n",
    "print (data['cityCenters_nearest_km'])"
   ]
  },
  {
   "cell_type": "markdown",
   "metadata": {},
   "source": [
    "### Проведите исследовательский анализ данных"
   ]
  },
  {
   "cell_type": "code",
   "execution_count": 11,
   "metadata": {},
   "outputs": [
    {
     "data": {
      "text/plain": [
       "count    23613.000000\n",
       "mean        60.340678\n",
       "std         35.648988\n",
       "min         12.000000\n",
       "25%         40.000000\n",
       "50%         52.000000\n",
       "75%         69.800000\n",
       "max        900.000000\n",
       "Name: total_area, dtype: float64"
      ]
     },
     "execution_count": 11,
     "metadata": {},
     "output_type": "execute_result"
    },
    {
     "data": {
      "image/png": "[encoded data removed]",
      "text/plain": [
       "<Figure size 360x216 with 1 Axes>"
      ]
     },
     "metadata": {
      "needs_background": "light"
     },
     "output_type": "display_data"
    }
   ],
   "source": [
    "data.plot(y = 'total_area', kind = 'hist', bins = 100, grid=True, figsize = (5,3), range = (20,150)) #Изучим общую площадь\n",
    "data['total_area'].describe()"
   ]
  },
  {
   "cell_type": "markdown",
   "metadata": {},
   "source": [
    "**Распределение нормальное, есть выбросы но они не значительные** "
   ]
  },
  {
   "cell_type": "code",
   "execution_count": 12,
   "metadata": {},
   "outputs": [
    {
     "data": {
      "text/plain": [
       "count    21743.000000\n",
       "mean        34.462781\n",
       "std         22.037433\n",
       "min          2.000000\n",
       "25%         18.600000\n",
       "50%         30.000000\n",
       "75%         42.300000\n",
       "max        409.700000\n",
       "Name: living_area, dtype: float64"
      ]
     },
     "execution_count": 12,
     "metadata": {},
     "output_type": "execute_result"
    },
    {
     "data": {
      "image/png": "[encoded data removed]",
      "text/plain": [
       "<Figure size 360x216 with 1 Axes>"
      ]
     },
     "metadata": {
      "needs_background": "light"
     },
     "output_type": "display_data"
    }
   ],
   "source": [
    "data.plot(y = 'living_area', kind = 'hist', bins = 30, grid=True, figsize = (5,3), range = (0,300)) #Изучим жилую площадь\n",
    "data['living_area'].describe()"
   ]
  },
  {
   "cell_type": "markdown",
   "metadata": {},
   "source": [
    "**Распределение нормальное, есть выбросов практически нет** "
   ]
  },
  {
   "cell_type": "code",
   "execution_count": 13,
   "metadata": {},
   "outputs": [
    {
     "data": {
      "text/plain": [
       "count    21382.000000\n",
       "mean        10.564128\n",
       "std          5.904316\n",
       "min          1.300000\n",
       "25%          7.000000\n",
       "50%          9.100000\n",
       "75%         12.000000\n",
       "max        112.000000\n",
       "Name: kitchen_area, dtype: float64"
      ]
     },
     "execution_count": 13,
     "metadata": {},
     "output_type": "execute_result"
    },
    {
     "data": {
      "image/png": "[encoded data removed]",
      "text/plain": [
       "<Figure size 360x216 with 1 Axes>"
      ]
     },
     "metadata": {
      "needs_background": "light"
     },
     "output_type": "display_data"
    }
   ],
   "source": [
    "data.plot(y = 'kitchen_area', kind = 'hist', bins = 30, grid=True, figsize = (5,3), range = (0,300)) #Изучим площадь кухни\n",
    "data['kitchen_area'].describe()"
   ]
  },
  {
   "cell_type": "markdown",
   "metadata": {},
   "source": [
    "**Данные в порядке, выбросов практически нет** "
   ]
  },
  {
   "cell_type": "code",
   "execution_count": 14,
   "metadata": {},
   "outputs": [
    {
     "data": {
      "text/plain": [
       "count    2.361300e+04\n",
       "mean     6.540555e+06\n",
       "std      1.090172e+07\n",
       "min      1.219000e+04\n",
       "25%      3.400000e+06\n",
       "50%      4.650000e+06\n",
       "75%      6.799000e+06\n",
       "max      7.630000e+08\n",
       "Name: last_price, dtype: float64"
      ]
     },
     "execution_count": 14,
     "metadata": {},
     "output_type": "execute_result"
    },
    {
     "data": {
      "image/png": "[encoded data removed]",
      "text/plain": [
       "<Figure size 360x216 with 1 Axes>"
      ]
     },
     "metadata": {
      "needs_background": "light"
     },
     "output_type": "display_data"
    }
   ],
   "source": [
    "data.plot(y = 'last_price', kind = 'hist', bins = 200, grid=True, range = (0,15000000), figsize = (5,3)) #Изучим цену\n",
    "data['last_price'].describe()"
   ]
  },
  {
   "cell_type": "markdown",
   "metadata": {},
   "source": [
    "**Данные в порядке**"
   ]
  },
  {
   "cell_type": "code",
   "execution_count": 15,
   "metadata": {},
   "outputs": [
    {
     "data": {
      "text/plain": [
       "count    23613.000000\n",
       "mean         2.071147\n",
       "std          1.078380\n",
       "min          0.000000\n",
       "25%          1.000000\n",
       "50%          2.000000\n",
       "75%          3.000000\n",
       "max         19.000000\n",
       "Name: rooms, dtype: float64"
      ]
     },
     "execution_count": 15,
     "metadata": {},
     "output_type": "execute_result"
    },
    {
     "data": {
      "image/png": "[encoded data removed]",
      "text/plain": [
       "<Figure size 360x216 with 1 Axes>"
      ]
     },
     "metadata": {
      "needs_background": "light"
     },
     "output_type": "display_data"
    }
   ],
   "source": [
    "data.plot(y = 'rooms', kind = 'hist', bins = 30, grid=True, figsize = (5,3)) #изучим число комнат\n",
    "data['rooms'].describe()"
   ]
  },
  {
   "cell_type": "markdown",
   "metadata": {},
   "source": [
    "**Данные в порядке** "
   ]
  },
  {
   "cell_type": "code",
   "execution_count": 16,
   "metadata": {},
   "outputs": [
    {
     "data": {
      "text/plain": [
       "count    14495.000000\n",
       "mean         2.730820\n",
       "std          0.350571\n",
       "min          1.000000\n",
       "25%          2.510000\n",
       "50%          2.650000\n",
       "75%          2.800000\n",
       "max         20.000000\n",
       "Name: ceiling_height, dtype: float64"
      ]
     },
     "execution_count": 16,
     "metadata": {},
     "output_type": "execute_result"
    },
    {
     "data": {
      "image/png": "[encoded data removed]",
      "text/plain": [
       "<Figure size 360x216 with 1 Axes>"
      ]
     },
     "metadata": {
      "needs_background": "light"
     },
     "output_type": "display_data"
    }
   ],
   "source": [
    "data.plot(y = 'ceiling_height', kind = 'hist', bins = 30, range = (2,5), grid=True, figsize = (5,3))\n",
    "data['ceiling_height'].describe()"
   ]
  },
  {
   "cell_type": "markdown",
   "metadata": {},
   "source": [
    "**Данные в порядке** "
   ]
  },
  {
   "cell_type": "code",
   "execution_count": 17,
   "metadata": {},
   "outputs": [
    {
     "data": {
      "text/plain": [
       "count    23613.000000\n",
       "mean         5.877313\n",
       "std          4.873539\n",
       "min          1.000000\n",
       "25%          2.000000\n",
       "50%          4.000000\n",
       "75%          8.000000\n",
       "max         33.000000\n",
       "Name: floor, dtype: float64"
      ]
     },
     "execution_count": 17,
     "metadata": {},
     "output_type": "execute_result"
    },
    {
     "data": {
      "image/png": "[encoded data removed]",
      "text/plain": [
       "<Figure size 360x216 with 1 Axes>"
      ]
     },
     "metadata": {
      "needs_background": "light"
     },
     "output_type": "display_data"
    }
   ],
   "source": [
    "data.plot(y = 'floor', kind = 'hist', bins = 30, grid=True, figsize = (5,3))\n",
    "data['floor'].describe()"
   ]
  },
  {
   "cell_type": "markdown",
   "metadata": {},
   "source": [
    "**Данные в порядке**"
   ]
  },
  {
   "cell_type": "code",
   "execution_count": 18,
   "metadata": {},
   "outputs": [
    {
     "data": {
      "text/plain": [
       "count    23613.000000\n",
       "mean        10.673824\n",
       "std          6.597173\n",
       "min          1.000000\n",
       "25%          5.000000\n",
       "50%          9.000000\n",
       "75%         16.000000\n",
       "max         60.000000\n",
       "Name: floors_total, dtype: float64"
      ]
     },
     "execution_count": 18,
     "metadata": {},
     "output_type": "execute_result"
    },
    {
     "data": {
      "image/png": "[encoded data removed]",
      "text/plain": [
       "<Figure size 360x216 with 1 Axes>"
      ]
     },
     "metadata": {
      "needs_background": "light"
     },
     "output_type": "display_data"
    }
   ],
   "source": [
    "data.plot(y = 'floors_total', kind = 'hist', bins = 10, grid=True, figsize = (5,3))\n",
    "data['floors_total'].describe()"
   ]
  },
  {
   "cell_type": "markdown",
   "metadata": {},
   "source": [
    "**Данные в порядке, выбросов практически нет** "
   ]
  },
  {
   "cell_type": "code",
   "execution_count": 19,
   "metadata": {},
   "outputs": [
    {
     "data": {
      "text/plain": [
       "<AxesSubplot:>"
      ]
     },
     "execution_count": 19,
     "metadata": {},
     "output_type": "execute_result"
    },
    {
     "data": {
      "image/png": "[encoded data removed]",
      "text/plain": [
       "<Figure size 432x288 with 1 Axes>"
      ]
     },
     "metadata": {
      "needs_background": "light"
     },
     "output_type": "display_data"
    }
   ],
   "source": [
    "data['floor_categ'].value_counts().plot.bar()"
   ]
  },
  {
   "cell_type": "code",
   "execution_count": 20,
   "metadata": {},
   "outputs": [
    {
     "data": {
      "text/plain": [
       "count    18104.000000\n",
       "mean     14185.084015\n",
       "std       8614.132292\n",
       "min        181.000000\n",
       "25%       9233.750000\n",
       "50%      13093.000000\n",
       "75%      16287.000000\n",
       "max      65968.000000\n",
       "Name: cityCenters_nearest, dtype: float64"
      ]
     },
     "execution_count": 20,
     "metadata": {},
     "output_type": "execute_result"
    },
    {
     "data": {
      "image/png": "[encoded data removed]",
      "text/plain": [
       "<Figure size 360x216 with 1 Axes>"
      ]
     },
     "metadata": {
      "needs_background": "light"
     },
     "output_type": "display_data"
    }
   ],
   "source": [
    "data.plot(y = 'cityCenters_nearest', kind = 'hist', bins = 20, grid=True, figsize = (5,3))\n",
    "data['cityCenters_nearest'].describe()"
   ]
  },
  {
   "cell_type": "markdown",
   "metadata": {},
   "source": [
    "**Растояние до центра в среднем 14191 метр, есть выбросы**"
   ]
  },
  {
   "cell_type": "code",
   "execution_count": 21,
   "metadata": {},
   "outputs": [
    {
     "data": {
      "text/plain": [
       "count    18081.000000\n",
       "mean     28788.008185\n",
       "std      12626.209956\n",
       "min          0.000000\n",
       "25%      18575.000000\n",
       "50%      26726.000000\n",
       "75%      37242.000000\n",
       "max      84869.000000\n",
       "Name: airports_nearest, dtype: float64"
      ]
     },
     "execution_count": 21,
     "metadata": {},
     "output_type": "execute_result"
    },
    {
     "data": {
      "image/png": "[encoded data removed]",
      "text/plain": [
       "<Figure size 360x216 with 1 Axes>"
      ]
     },
     "metadata": {
      "needs_background": "light"
     },
     "output_type": "display_data"
    }
   ],
   "source": [
    "data.plot(y = 'airports_nearest', kind = 'hist', bins = 100, grid=True, figsize = (5,3))\n",
    "data['airports_nearest'].describe()"
   ]
  },
  {
   "cell_type": "markdown",
   "metadata": {},
   "source": [
    "**В среднем растояние до аэропорта 28700 м**"
   ]
  },
  {
   "cell_type": "code",
   "execution_count": 22,
   "metadata": {},
   "outputs": [
    {
     "data": {
      "text/plain": [
       "count    8045.000000\n",
       "mean      490.554630\n",
       "std       341.336698\n",
       "min         1.000000\n",
       "25%       288.000000\n",
       "50%       455.000000\n",
       "75%       612.000000\n",
       "max      3190.000000\n",
       "Name: parks_nearest, dtype: float64"
      ]
     },
     "execution_count": 22,
     "metadata": {},
     "output_type": "execute_result"
    },
    {
     "data": {
      "image/png": "[encoded data removed]",
      "text/plain": [
       "<Figure size 360x216 with 1 Axes>"
      ]
     },
     "metadata": {
      "needs_background": "light"
     },
     "output_type": "display_data"
    }
   ],
   "source": [
    "data.plot(y = 'parks_nearest', kind = 'hist', bins = 100, grid=True, figsize = (5,3))\n",
    "data['parks_nearest'].describe()"
   ]
  },
  {
   "cell_type": "markdown",
   "metadata": {},
   "source": [
    "**В сренем рассояние до ближайшего парка 490м**"
   ]
  },
  {
   "cell_type": "code",
   "execution_count": 23,
   "metadata": {
    "scrolled": true
   },
   "outputs": [
    {
     "data": {
      "text/plain": [
       "count    23613.000000\n",
       "mean         6.400076\n",
       "std          3.493160\n",
       "min          1.000000\n",
       "25%          3.000000\n",
       "50%          6.000000\n",
       "75%         10.000000\n",
       "max         12.000000\n",
       "Name: month_exposition, dtype: float64"
      ]
     },
     "execution_count": 23,
     "metadata": {},
     "output_type": "execute_result"
    },
    {
     "data": {
      "image/png": "[encoded data removed]",
      "text/plain": [
       "<Figure size 360x216 with 1 Axes>"
      ]
     },
     "metadata": {
      "needs_background": "light"
     },
     "output_type": "display_data"
    }
   ],
   "source": [
    "data.plot(y = 'month_exposition', kind = 'hist', bins = 20, grid=True, figsize = (5,3)) #изучим месяц публикации объявления.\n",
    "data['month_exposition'].describe()"
   ]
  },
  {
   "cell_type": "markdown",
   "metadata": {},
   "source": [
    "**Выбросов нет, данные в порядке**"
   ]
  },
  {
   "cell_type": "code",
   "execution_count": 24,
   "metadata": {},
   "outputs": [
    {
     "data": {
      "text/plain": [
       "count    23613.000000\n",
       "mean         2.568035\n",
       "std          1.788565\n",
       "min          0.000000\n",
       "25%          1.000000\n",
       "50%          3.000000\n",
       "75%          4.000000\n",
       "max          6.000000\n",
       "Name: week_day, dtype: float64"
      ]
     },
     "execution_count": 24,
     "metadata": {},
     "output_type": "execute_result"
    },
    {
     "data": {
      "image/png": "[encoded data removed]",
      "text/plain": [
       "<Figure size 360x216 with 1 Axes>"
      ]
     },
     "metadata": {
      "needs_background": "light"
     },
     "output_type": "display_data"
    }
   ],
   "source": [
    "data.plot(y = 'week_day', kind = 'hist', bins = 7, grid=True, figsize = (5,3)) #Изучим день недели публикации объявления.\n",
    "data['week_day'].describe()"
   ]
  },
  {
   "cell_type": "markdown",
   "metadata": {},
   "source": [
    "**Выбросов практически нет.**"
   ]
  },
  {
   "cell_type": "code",
   "execution_count": 25,
   "metadata": {},
   "outputs": [
    {
     "data": {
      "text/plain": [
       "0       3172\n",
       "45       880\n",
       "60       538\n",
       "7        234\n",
       "30       208\n",
       "        ... \n",
       "1112       1\n",
       "1080       1\n",
       "1064       1\n",
       "1032       1\n",
       "1391       1\n",
       "Name: days_exposition, Length: 1140, dtype: int64"
      ]
     },
     "execution_count": 25,
     "metadata": {},
     "output_type": "execute_result"
    },
    {
     "data": {
      "image/png": "[encoded data removed]",
      "text/plain": [
       "<Figure size 432x288 with 1 Axes>"
      ]
     },
     "metadata": {
      "needs_background": "light"
     },
     "output_type": "display_data"
    },
    {
     "data": {
      "image/png": "[encoded data removed]",
      "text/plain": [
       "<Figure size 432x288 with 1 Axes>"
      ]
     },
     "metadata": {
      "needs_background": "light"
     },
     "output_type": "display_data"
    }
   ],
   "source": [
    "data.plot(y = 'days_exposition', kind = 'hist', bins = 30, grid = True, range = (1,1600), label='days_exposition')\n",
    "data.plot(y = 'days_exposition', kind = 'hist', bins = 100, grid = True, range = (1,200), label='days_exposition')\n",
    "#data['days_exposition'].describe() #выведем среднее значение и медиану\n",
    "data['days_exposition'].value_counts()\n"
   ]
  },
  {
   "cell_type": "markdown",
   "metadata": {},
   "source": [
    "**Среднее значение - 177 дней, а медиана - 98 дней.  Построили гистограму со значениями от 0 до 200 и количеством корзин 300, заметили выбросы. Далее посмотрели часто повторяющиеся значения выбросов: 7,30,45,60. Возможно в эти дни обьявления снимают с публикации автоматически**"
   ]
  },
  {
   "cell_type": "code",
   "execution_count": 26,
   "metadata": {},
   "outputs": [
    {
     "data": {
      "text/plain": [
       "0.6535810085611219"
      ]
     },
     "execution_count": 26,
     "metadata": {},
     "output_type": "execute_result"
    },
    {
     "data": {
      "image/png": "[encoded data removed]",
      "text/plain": [
       "<Figure size 432x288 with 1 Axes>"
      ]
     },
     "metadata": {
      "needs_background": "light"
     },
     "output_type": "display_data"
    }
   ],
   "source": [
    "#зависит ли цена от общей площади\n",
    "pivot_table_total_area = data.pivot_table(index = 'total_area', values = 'last_price', aggfunc = ['mean', 'count', 'median'])\n",
    "pivot_table_total_area.columns = ['mean', 'count', 'median']\n",
    "pivot_table_total_area.plot(y = 'median', style = 'o')\n",
    "pivot_table_total_area.sort_values('median', ascending = False)\n",
    "data['total_area'].corr(data['last_price'])"
   ]
  },
  {
   "cell_type": "markdown",
   "metadata": {},
   "source": [
    "**Чем больше площадь тем выше стоимость, особенно это прослеживается в квартирах с площадью больше 350 кв.м**"
   ]
  },
  {
   "cell_type": "code",
   "execution_count": 27,
   "metadata": {},
   "outputs": [
    {
     "data": {
      "text/plain": [
       "0.5663955721081748"
      ]
     },
     "execution_count": 27,
     "metadata": {},
     "output_type": "execute_result"
    },
    {
     "data": {
      "image/png": "[encoded data removed]",
      "text/plain": [
       "<Figure size 432x288 with 1 Axes>"
      ]
     },
     "metadata": {
      "needs_background": "light"
     },
     "output_type": "display_data"
    }
   ],
   "source": [
    "#зависит ли цена от жилой площади\n",
    "pivot_table_total_area = data.pivot_table(index = 'living_area', values = 'last_price', aggfunc = ['mean', 'count', 'median'])\n",
    "pivot_table_total_area.columns = ['mean', 'count', 'median']\n",
    "pivot_table_total_area.plot(y = 'median', style = 'o')\n",
    "pivot_table_total_area.sort_values('median', ascending = False)\n",
    "data['living_area'].corr(data['last_price'])"
   ]
  },
  {
   "cell_type": "markdown",
   "metadata": {},
   "source": [
    "**Кореляция и график говорят, что чем больше площадь жилой комнаты, тем больше цена квартры.**"
   ]
  },
  {
   "cell_type": "code",
   "execution_count": 28,
   "metadata": {},
   "outputs": [
    {
     "data": {
      "text/plain": [
       "0.5200184586898168"
      ]
     },
     "execution_count": 28,
     "metadata": {},
     "output_type": "execute_result"
    },
    {
     "data": {
      "image/png": "[encoded data removed]",
      "text/plain": [
       "<Figure size 432x288 with 1 Axes>"
      ]
     },
     "metadata": {
      "needs_background": "light"
     },
     "output_type": "display_data"
    }
   ],
   "source": [
    "#зависит ли цена от площади кухни\n",
    "pivot_table_total_area = data.pivot_table(index = 'kitchen_area', values = 'last_price', aggfunc = ['mean', 'count', 'median'])\n",
    "pivot_table_total_area.columns = ['mean', 'count', 'median']\n",
    "pivot_table_total_area.plot(y = 'median', style = 'o')\n",
    "pivot_table_total_area.sort_values('median', ascending = False)\n",
    "data['kitchen_area'].corr(data['last_price'])"
   ]
  },
  {
   "cell_type": "markdown",
   "metadata": {},
   "source": [
    "**Судя по графику видно завистимость цены от площади кухни, корреляция говорит о том, чем больше площадь кухни тем немного выше цена**"
   ]
  },
  {
   "cell_type": "code",
   "execution_count": 29,
   "metadata": {},
   "outputs": [
    {
     "data": {
      "text/html": [
       "<div>\n",
       "<style scoped>\n",
       "    .dataframe tbody tr th:only-of-type {\n",
       "        vertical-align: middle;\n",
       "    }\n",
       "\n",
       "    .dataframe tbody tr th {\n",
       "        vertical-align: top;\n",
       "    }\n",
       "\n",
       "    .dataframe thead th {\n",
       "        text-align: right;\n",
       "    }\n",
       "</style>\n",
       "<table border=\"1\" class=\"dataframe\">\n",
       "  <thead>\n",
       "    <tr style=\"text-align: right;\">\n",
       "      <th></th>\n",
       "      <th>mean</th>\n",
       "      <th>count</th>\n",
       "      <th>median</th>\n",
       "    </tr>\n",
       "    <tr>\n",
       "      <th>rooms</th>\n",
       "      <th></th>\n",
       "      <th></th>\n",
       "      <th></th>\n",
       "    </tr>\n",
       "  </thead>\n",
       "  <tbody>\n",
       "    <tr>\n",
       "      <th>0</th>\n",
       "      <td>3.344493e+06</td>\n",
       "      <td>194</td>\n",
       "      <td>2700000</td>\n",
       "    </tr>\n",
       "    <tr>\n",
       "      <th>1</th>\n",
       "      <td>3.835157e+06</td>\n",
       "      <td>8015</td>\n",
       "      <td>3600000</td>\n",
       "    </tr>\n",
       "    <tr>\n",
       "      <th>2</th>\n",
       "      <td>5.588244e+06</td>\n",
       "      <td>7913</td>\n",
       "      <td>4768714</td>\n",
       "    </tr>\n",
       "    <tr>\n",
       "      <th>3</th>\n",
       "      <td>8.172670e+06</td>\n",
       "      <td>5795</td>\n",
       "      <td>6200000</td>\n",
       "    </tr>\n",
       "    <tr>\n",
       "      <th>4</th>\n",
       "      <td>1.340960e+07</td>\n",
       "      <td>1177</td>\n",
       "      <td>9000000</td>\n",
       "    </tr>\n",
       "    <tr>\n",
       "      <th>5</th>\n",
       "      <td>2.379830e+07</td>\n",
       "      <td>325</td>\n",
       "      <td>14000000</td>\n",
       "    </tr>\n",
       "    <tr>\n",
       "      <th>6</th>\n",
       "      <td>3.188004e+07</td>\n",
       "      <td>104</td>\n",
       "      <td>19000000</td>\n",
       "    </tr>\n",
       "    <tr>\n",
       "      <th>7</th>\n",
       "      <td>5.147007e+07</td>\n",
       "      <td>59</td>\n",
       "      <td>24900000</td>\n",
       "    </tr>\n",
       "    <tr>\n",
       "      <th>8</th>\n",
       "      <td>5.022417e+07</td>\n",
       "      <td>12</td>\n",
       "      <td>23095000</td>\n",
       "    </tr>\n",
       "    <tr>\n",
       "      <th>9</th>\n",
       "      <td>3.415236e+07</td>\n",
       "      <td>8</td>\n",
       "      <td>23750000</td>\n",
       "    </tr>\n",
       "    <tr>\n",
       "      <th>10</th>\n",
       "      <td>2.616667e+07</td>\n",
       "      <td>3</td>\n",
       "      <td>23000000</td>\n",
       "    </tr>\n",
       "    <tr>\n",
       "      <th>11</th>\n",
       "      <td>2.525000e+07</td>\n",
       "      <td>2</td>\n",
       "      <td>25250000</td>\n",
       "    </tr>\n",
       "    <tr>\n",
       "      <th>12</th>\n",
       "      <td>4.200000e+08</td>\n",
       "      <td>1</td>\n",
       "      <td>420000000</td>\n",
       "    </tr>\n",
       "    <tr>\n",
       "      <th>14</th>\n",
       "      <td>2.682950e+07</td>\n",
       "      <td>2</td>\n",
       "      <td>26829500</td>\n",
       "    </tr>\n",
       "    <tr>\n",
       "      <th>15</th>\n",
       "      <td>6.500000e+07</td>\n",
       "      <td>1</td>\n",
       "      <td>65000000</td>\n",
       "    </tr>\n",
       "    <tr>\n",
       "      <th>16</th>\n",
       "      <td>2.850000e+07</td>\n",
       "      <td>1</td>\n",
       "      <td>28500000</td>\n",
       "    </tr>\n",
       "    <tr>\n",
       "      <th>19</th>\n",
       "      <td>3.225000e+07</td>\n",
       "      <td>1</td>\n",
       "      <td>32250000</td>\n",
       "    </tr>\n",
       "  </tbody>\n",
       "</table>\n",
       "</div>"
      ],
      "text/plain": [
       "               mean  count     median\n",
       "rooms                                \n",
       "0      3.344493e+06    194    2700000\n",
       "1      3.835157e+06   8015    3600000\n",
       "2      5.588244e+06   7913    4768714\n",
       "3      8.172670e+06   5795    6200000\n",
       "4      1.340960e+07   1177    9000000\n",
       "5      2.379830e+07    325   14000000\n",
       "6      3.188004e+07    104   19000000\n",
       "7      5.147007e+07     59   24900000\n",
       "8      5.022417e+07     12   23095000\n",
       "9      3.415236e+07      8   23750000\n",
       "10     2.616667e+07      3   23000000\n",
       "11     2.525000e+07      2   25250000\n",
       "12     4.200000e+08      1  420000000\n",
       "14     2.682950e+07      2   26829500\n",
       "15     6.500000e+07      1   65000000\n",
       "16     2.850000e+07      1   28500000\n",
       "19     3.225000e+07      1   32250000"
      ]
     },
     "execution_count": 29,
     "metadata": {},
     "output_type": "execute_result"
    },
    {
     "data": {
      "image/png": "[encoded data removed]",
      "text/plain": [
       "<Figure size 432x288 with 1 Axes>"
      ]
     },
     "metadata": {
      "needs_background": "light"
     },
     "output_type": "display_data"
    }
   ],
   "source": [
    "#зависит ли цена от количества комнат\n",
    "pivot_table_rooms = data.pivot_table(index = 'rooms', values = 'last_price', aggfunc = ['mean', 'count', 'median'])\n",
    "pivot_table_rooms.columns = ['mean', 'count', 'median']\n",
    "pivot_table_rooms.query('count > 50').plot(y = 'median')\n",
    "pivot_table_rooms.query('count > 50').sort_values('median', ascending = False)\n",
    "data['rooms'].corr(data['last_price'])\n",
    "\n",
    "pivot_table_rooms"
   ]
  },
  {
   "cell_type": "markdown",
   "metadata": {},
   "source": [
    "**Чем больше комнат, тем дороже квартира, все логично. но корреляуия достаточно слабая. Думаю что тут лучше бы посмотреть зависимость стоимости квадратного метра и количества комнат**"
   ]
  },
  {
   "cell_type": "code",
   "execution_count": 30,
   "metadata": {},
   "outputs": [
    {
     "data": {
      "text/html": [
       "<div>\n",
       "<style scoped>\n",
       "    .dataframe tbody tr th:only-of-type {\n",
       "        vertical-align: middle;\n",
       "    }\n",
       "\n",
       "    .dataframe tbody tr th {\n",
       "        vertical-align: top;\n",
       "    }\n",
       "\n",
       "    .dataframe thead th {\n",
       "        text-align: right;\n",
       "    }\n",
       "</style>\n",
       "<table border=\"1\" class=\"dataframe\">\n",
       "  <thead>\n",
       "    <tr style=\"text-align: right;\">\n",
       "      <th></th>\n",
       "      <th>mean</th>\n",
       "      <th>count</th>\n",
       "      <th>median</th>\n",
       "    </tr>\n",
       "    <tr>\n",
       "      <th>floor_categ</th>\n",
       "      <th></th>\n",
       "      <th></th>\n",
       "      <th></th>\n",
       "    </tr>\n",
       "  </thead>\n",
       "  <tbody>\n",
       "    <tr>\n",
       "      <th>другой</th>\n",
       "      <td>6.674074e+06</td>\n",
       "      <td>17363</td>\n",
       "      <td>4850000</td>\n",
       "    </tr>\n",
       "    <tr>\n",
       "      <th>первый</th>\n",
       "      <td>4.805699e+06</td>\n",
       "      <td>2914</td>\n",
       "      <td>3900000</td>\n",
       "    </tr>\n",
       "    <tr>\n",
       "      <th>последний</th>\n",
       "      <td>7.361025e+06</td>\n",
       "      <td>3336</td>\n",
       "      <td>4300000</td>\n",
       "    </tr>\n",
       "  </tbody>\n",
       "</table>\n",
       "</div>"
      ],
      "text/plain": [
       "                     mean  count   median\n",
       "floor_categ                              \n",
       "другой       6.674074e+06  17363  4850000\n",
       "первый       4.805699e+06   2914  3900000\n",
       "последний    7.361025e+06   3336  4300000"
      ]
     },
     "metadata": {},
     "output_type": "display_data"
    },
    {
     "data": {
      "image/png": "[encoded data removed]",
      "text/plain": [
       "<Figure size 432x288 with 1 Axes>"
      ]
     },
     "metadata": {
      "needs_background": "light"
     },
     "output_type": "display_data"
    }
   ],
   "source": [
    "#зависит ли цена от этажа\n",
    "pivot_table_floor_categ = data.pivot_table(index = 'floor_categ', values = 'last_price', aggfunc = ['mean', 'count', 'median'])\n",
    "pivot_table_floor_categ.columns = ['mean', 'count', 'median']\n",
    "pivot_table_floor_categ.plot(y = 'median')\n",
    "display(pivot_table_floor_categ)"
   ]
  },
  {
   "cell_type": "markdown",
   "metadata": {},
   "source": [
    "**Судя по графику чем выше этаж тем дороже стоимость квартиры, возможно это связанно с красивыми видами из окна**"
   ]
  },
  {
   "cell_type": "code",
   "execution_count": 31,
   "metadata": {},
   "outputs": [
    {
     "data": {
      "text/html": [
       "<div>\n",
       "<style scoped>\n",
       "    .dataframe tbody tr th:only-of-type {\n",
       "        vertical-align: middle;\n",
       "    }\n",
       "\n",
       "    .dataframe tbody tr th {\n",
       "        vertical-align: top;\n",
       "    }\n",
       "\n",
       "    .dataframe thead th {\n",
       "        text-align: right;\n",
       "    }\n",
       "</style>\n",
       "<table border=\"1\" class=\"dataframe\">\n",
       "  <thead>\n",
       "    <tr style=\"text-align: right;\">\n",
       "      <th></th>\n",
       "      <th>mean</th>\n",
       "      <th>count</th>\n",
       "      <th>median</th>\n",
       "    </tr>\n",
       "    <tr>\n",
       "      <th>week_day</th>\n",
       "      <th></th>\n",
       "      <th></th>\n",
       "      <th></th>\n",
       "    </tr>\n",
       "  </thead>\n",
       "  <tbody>\n",
       "    <tr>\n",
       "      <th>1</th>\n",
       "      <td>6.390112e+06</td>\n",
       "      <td>4170</td>\n",
       "      <td>4725000</td>\n",
       "    </tr>\n",
       "    <tr>\n",
       "      <th>2</th>\n",
       "      <td>6.631800e+06</td>\n",
       "      <td>3956</td>\n",
       "      <td>4700000</td>\n",
       "    </tr>\n",
       "    <tr>\n",
       "      <th>0</th>\n",
       "      <td>6.519120e+06</td>\n",
       "      <td>3602</td>\n",
       "      <td>4650000</td>\n",
       "    </tr>\n",
       "    <tr>\n",
       "      <th>3</th>\n",
       "      <td>6.703666e+06</td>\n",
       "      <td>4285</td>\n",
       "      <td>4650000</td>\n",
       "    </tr>\n",
       "    <tr>\n",
       "      <th>4</th>\n",
       "      <td>6.367272e+06</td>\n",
       "      <td>3988</td>\n",
       "      <td>4577500</td>\n",
       "    </tr>\n",
       "    <tr>\n",
       "      <th>5</th>\n",
       "      <td>6.980411e+06</td>\n",
       "      <td>1922</td>\n",
       "      <td>4550000</td>\n",
       "    </tr>\n",
       "    <tr>\n",
       "      <th>6</th>\n",
       "      <td>6.238971e+06</td>\n",
       "      <td>1690</td>\n",
       "      <td>4540000</td>\n",
       "    </tr>\n",
       "  </tbody>\n",
       "</table>\n",
       "</div>"
      ],
      "text/plain": [
       "                  mean  count   median\n",
       "week_day                              \n",
       "1         6.390112e+06   4170  4725000\n",
       "2         6.631800e+06   3956  4700000\n",
       "0         6.519120e+06   3602  4650000\n",
       "3         6.703666e+06   4285  4650000\n",
       "4         6.367272e+06   3988  4577500\n",
       "5         6.980411e+06   1922  4550000\n",
       "6         6.238971e+06   1690  4540000"
      ]
     },
     "execution_count": 31,
     "metadata": {},
     "output_type": "execute_result"
    },
    {
     "data": {
      "image/png": "[encoded data removed]",
      "text/plain": [
       "<Figure size 432x288 with 1 Axes>"
      ]
     },
     "metadata": {
      "needs_background": "light"
     },
     "output_type": "display_data"
    }
   ],
   "source": [
    "#зависит ли цена от дня недели\n",
    "pivot_table_week_day = data.pivot_table(index = 'week_day', values = 'last_price', aggfunc = ['mean', 'count', 'median'])\n",
    "pivot_table_week_day.columns = ['mean', 'count', 'median']\n",
    "pivot_table_week_day.plot(y = 'median')\n",
    "pivot_table_week_day.sort_values('median', ascending = False)"
   ]
  },
  {
   "cell_type": "markdown",
   "metadata": {},
   "source": [
    "**Обьявления выставленные в четверг по стоимости выше остальных, а в воскресенье самая низкая стоимость. Думаю в воскресенье люди не так активны и спрос на квартиры падает, а в четверг перед выходными цены поднимают потому, что растет спрос.**"
   ]
  },
  {
   "cell_type": "code",
   "execution_count": 32,
   "metadata": {},
   "outputs": [
    {
     "data": {
      "text/html": [
       "<div>\n",
       "<style scoped>\n",
       "    .dataframe tbody tr th:only-of-type {\n",
       "        vertical-align: middle;\n",
       "    }\n",
       "\n",
       "    .dataframe tbody tr th {\n",
       "        vertical-align: top;\n",
       "    }\n",
       "\n",
       "    .dataframe thead th {\n",
       "        text-align: right;\n",
       "    }\n",
       "</style>\n",
       "<table border=\"1\" class=\"dataframe\">\n",
       "  <thead>\n",
       "    <tr style=\"text-align: right;\">\n",
       "      <th></th>\n",
       "      <th>mean</th>\n",
       "      <th>count</th>\n",
       "      <th>median</th>\n",
       "    </tr>\n",
       "    <tr>\n",
       "      <th>month_exposition</th>\n",
       "      <th></th>\n",
       "      <th></th>\n",
       "      <th></th>\n",
       "    </tr>\n",
       "  </thead>\n",
       "  <tbody>\n",
       "    <tr>\n",
       "      <th>4</th>\n",
       "      <td>6.737882e+06</td>\n",
       "      <td>2362</td>\n",
       "      <td>4800000</td>\n",
       "    </tr>\n",
       "    <tr>\n",
       "      <th>9</th>\n",
       "      <td>6.835426e+06</td>\n",
       "      <td>1974</td>\n",
       "      <td>4700000</td>\n",
       "    </tr>\n",
       "    <tr>\n",
       "      <th>11</th>\n",
       "      <td>6.449008e+06</td>\n",
       "      <td>2364</td>\n",
       "      <td>4700000</td>\n",
       "    </tr>\n",
       "    <tr>\n",
       "      <th>12</th>\n",
       "      <td>7.011731e+06</td>\n",
       "      <td>1641</td>\n",
       "      <td>4700000</td>\n",
       "    </tr>\n",
       "    <tr>\n",
       "      <th>2</th>\n",
       "      <td>6.467983e+06</td>\n",
       "      <td>2637</td>\n",
       "      <td>4650000</td>\n",
       "    </tr>\n",
       "    <tr>\n",
       "      <th>3</th>\n",
       "      <td>6.356274e+06</td>\n",
       "      <td>2580</td>\n",
       "      <td>4650000</td>\n",
       "    </tr>\n",
       "    <tr>\n",
       "      <th>7</th>\n",
       "      <td>6.648568e+06</td>\n",
       "      <td>1690</td>\n",
       "      <td>4650000</td>\n",
       "    </tr>\n",
       "    <tr>\n",
       "      <th>1</th>\n",
       "      <td>6.665449e+06</td>\n",
       "      <td>1496</td>\n",
       "      <td>4600000</td>\n",
       "    </tr>\n",
       "    <tr>\n",
       "      <th>8</th>\n",
       "      <td>6.343181e+06</td>\n",
       "      <td>1741</td>\n",
       "      <td>4570000</td>\n",
       "    </tr>\n",
       "    <tr>\n",
       "      <th>10</th>\n",
       "      <td>6.236619e+06</td>\n",
       "      <td>2111</td>\n",
       "      <td>4570000</td>\n",
       "    </tr>\n",
       "    <tr>\n",
       "      <th>5</th>\n",
       "      <td>6.596837e+06</td>\n",
       "      <td>1265</td>\n",
       "      <td>4500000</td>\n",
       "    </tr>\n",
       "    <tr>\n",
       "      <th>6</th>\n",
       "      <td>6.315977e+06</td>\n",
       "      <td>1752</td>\n",
       "      <td>4400000</td>\n",
       "    </tr>\n",
       "  </tbody>\n",
       "</table>\n",
       "</div>"
      ],
      "text/plain": [
       "                          mean  count   median\n",
       "month_exposition                              \n",
       "4                 6.737882e+06   2362  4800000\n",
       "9                 6.835426e+06   1974  4700000\n",
       "11                6.449008e+06   2364  4700000\n",
       "12                7.011731e+06   1641  4700000\n",
       "2                 6.467983e+06   2637  4650000\n",
       "3                 6.356274e+06   2580  4650000\n",
       "7                 6.648568e+06   1690  4650000\n",
       "1                 6.665449e+06   1496  4600000\n",
       "8                 6.343181e+06   1741  4570000\n",
       "10                6.236619e+06   2111  4570000\n",
       "5                 6.596837e+06   1265  4500000\n",
       "6                 6.315977e+06   1752  4400000"
      ]
     },
     "execution_count": 32,
     "metadata": {},
     "output_type": "execute_result"
    },
    {
     "data": {
      "image/png": "[encoded data removed]",
      "text/plain": [
       "<Figure size 432x288 with 1 Axes>"
      ]
     },
     "metadata": {
      "needs_background": "light"
     },
     "output_type": "display_data"
    }
   ],
   "source": [
    "#Зависит ли цена от месяца\n",
    "pivot_table_month = data.pivot_table(index = 'month_exposition', values = 'last_price', aggfunc = ['mean', 'count', 'median'])\n",
    "pivot_table_month.columns = ['mean', 'count', 'median']\n",
    "pivot_table_month.plot(y = 'median')\n",
    "pivot_table_month.sort_values('median', ascending = False)\n"
   ]
  },
  {
   "cell_type": "markdown",
   "metadata": {},
   "source": [
    "**В мае и июне обьявления с самой низкой ценой, возможно не самый популярные месяцы для покупки квартир, а вот в апреле цена самая высокая**"
   ]
  },
  {
   "cell_type": "code",
   "execution_count": 33,
   "metadata": {},
   "outputs": [
    {
     "data": {
      "text/html": [
       "<div>\n",
       "<style scoped>\n",
       "    .dataframe tbody tr th:only-of-type {\n",
       "        vertical-align: middle;\n",
       "    }\n",
       "\n",
       "    .dataframe tbody tr th {\n",
       "        vertical-align: top;\n",
       "    }\n",
       "\n",
       "    .dataframe thead th {\n",
       "        text-align: right;\n",
       "    }\n",
       "</style>\n",
       "<table border=\"1\" class=\"dataframe\">\n",
       "  <thead>\n",
       "    <tr style=\"text-align: right;\">\n",
       "      <th></th>\n",
       "      <th>mean</th>\n",
       "      <th>count</th>\n",
       "      <th>median</th>\n",
       "    </tr>\n",
       "    <tr>\n",
       "      <th>year_exposition</th>\n",
       "      <th></th>\n",
       "      <th></th>\n",
       "      <th></th>\n",
       "    </tr>\n",
       "  </thead>\n",
       "  <tbody>\n",
       "    <tr>\n",
       "      <th>2014</th>\n",
       "      <td>1.208714e+07</td>\n",
       "      <td>137</td>\n",
       "      <td>7700000</td>\n",
       "    </tr>\n",
       "    <tr>\n",
       "      <th>2015</th>\n",
       "      <td>8.575612e+06</td>\n",
       "      <td>1184</td>\n",
       "      <td>5312500</td>\n",
       "    </tr>\n",
       "    <tr>\n",
       "      <th>2019</th>\n",
       "      <td>6.779324e+06</td>\n",
       "      <td>2871</td>\n",
       "      <td>5050000</td>\n",
       "    </tr>\n",
       "    <tr>\n",
       "      <th>2016</th>\n",
       "      <td>6.827605e+06</td>\n",
       "      <td>2763</td>\n",
       "      <td>4550000</td>\n",
       "    </tr>\n",
       "    <tr>\n",
       "      <th>2018</th>\n",
       "      <td>5.952940e+06</td>\n",
       "      <td>8492</td>\n",
       "      <td>4550000</td>\n",
       "    </tr>\n",
       "    <tr>\n",
       "      <th>2017</th>\n",
       "      <td>6.582439e+06</td>\n",
       "      <td>8166</td>\n",
       "      <td>4500000</td>\n",
       "    </tr>\n",
       "  </tbody>\n",
       "</table>\n",
       "</div>"
      ],
      "text/plain": [
       "                         mean  count   median\n",
       "year_exposition                              \n",
       "2014             1.208714e+07    137  7700000\n",
       "2015             8.575612e+06   1184  5312500\n",
       "2019             6.779324e+06   2871  5050000\n",
       "2016             6.827605e+06   2763  4550000\n",
       "2018             5.952940e+06   8492  4550000\n",
       "2017             6.582439e+06   8166  4500000"
      ]
     },
     "execution_count": 33,
     "metadata": {},
     "output_type": "execute_result"
    },
    {
     "data": {
      "image/png": "[encoded data removed]",
      "text/plain": [
       "<Figure size 432x288 with 1 Axes>"
      ]
     },
     "metadata": {
      "needs_background": "light"
     },
     "output_type": "display_data"
    }
   ],
   "source": [
    "#Зависит ли цена от года\n",
    "pivot_table_year = data.pivot_table(index = 'year_exposition', values = 'last_price', aggfunc = ['mean', 'count', 'median'])\n",
    "pivot_table_year.columns = ['mean', 'count', 'median']\n",
    "pivot_table_year.plot(y = 'median')\n",
    "pivot_table_year.sort_values('median', ascending = False)"
   ]
  },
  {
   "cell_type": "markdown",
   "metadata": {},
   "source": [
    "**Интересный график, мы видим как стоимость квартир уменьшаласьс 2014 до 2017 года, а после стоимость плавно пошла вверх**"
   ]
  },
  {
   "cell_type": "code",
   "execution_count": 34,
   "metadata": {},
   "outputs": [
    {
     "data": {
      "text/html": [
       "<div>\n",
       "<style scoped>\n",
       "    .dataframe tbody tr th:only-of-type {\n",
       "        vertical-align: middle;\n",
       "    }\n",
       "\n",
       "    .dataframe tbody tr th {\n",
       "        vertical-align: top;\n",
       "    }\n",
       "\n",
       "    .dataframe thead th {\n",
       "        text-align: right;\n",
       "    }\n",
       "</style>\n",
       "<table border=\"1\" class=\"dataframe\">\n",
       "  <thead>\n",
       "    <tr style=\"text-align: right;\">\n",
       "      <th></th>\n",
       "      <th>mean</th>\n",
       "      <th>count</th>\n",
       "      <th>median</th>\n",
       "    </tr>\n",
       "    <tr>\n",
       "      <th>living_area</th>\n",
       "      <th></th>\n",
       "      <th></th>\n",
       "      <th></th>\n",
       "    </tr>\n",
       "  </thead>\n",
       "  <tbody>\n",
       "    <tr>\n",
       "      <th>409.70</th>\n",
       "      <td>420000000.0</td>\n",
       "      <td>1</td>\n",
       "      <td>420000000.0</td>\n",
       "    </tr>\n",
       "    <tr>\n",
       "      <th>204.00</th>\n",
       "      <td>401300000.0</td>\n",
       "      <td>1</td>\n",
       "      <td>401300000.0</td>\n",
       "    </tr>\n",
       "    <tr>\n",
       "      <th>258.00</th>\n",
       "      <td>300000000.0</td>\n",
       "      <td>1</td>\n",
       "      <td>300000000.0</td>\n",
       "    </tr>\n",
       "    <tr>\n",
       "      <th>182.80</th>\n",
       "      <td>245000000.0</td>\n",
       "      <td>1</td>\n",
       "      <td>245000000.0</td>\n",
       "    </tr>\n",
       "    <tr>\n",
       "      <th>218.00</th>\n",
       "      <td>240000000.0</td>\n",
       "      <td>1</td>\n",
       "      <td>240000000.0</td>\n",
       "    </tr>\n",
       "    <tr>\n",
       "      <th>...</th>\n",
       "      <td>...</td>\n",
       "      <td>...</td>\n",
       "      <td>...</td>\n",
       "    </tr>\n",
       "    <tr>\n",
       "      <th>16.31</th>\n",
       "      <td>1700000.0</td>\n",
       "      <td>1</td>\n",
       "      <td>1700000.0</td>\n",
       "    </tr>\n",
       "    <tr>\n",
       "      <th>18.11</th>\n",
       "      <td>1695000.0</td>\n",
       "      <td>2</td>\n",
       "      <td>1695000.0</td>\n",
       "    </tr>\n",
       "    <tr>\n",
       "      <th>12.81</th>\n",
       "      <td>1690715.0</td>\n",
       "      <td>1</td>\n",
       "      <td>1690715.0</td>\n",
       "    </tr>\n",
       "    <tr>\n",
       "      <th>10.94</th>\n",
       "      <td>1550000.0</td>\n",
       "      <td>1</td>\n",
       "      <td>1550000.0</td>\n",
       "    </tr>\n",
       "    <tr>\n",
       "      <th>20.97</th>\n",
       "      <td>990000.0</td>\n",
       "      <td>1</td>\n",
       "      <td>990000.0</td>\n",
       "    </tr>\n",
       "  </tbody>\n",
       "</table>\n",
       "<p>1769 rows × 3 columns</p>\n",
       "</div>"
      ],
      "text/plain": [
       "                    mean  count       median\n",
       "living_area                                 \n",
       "409.70       420000000.0      1  420000000.0\n",
       "204.00       401300000.0      1  401300000.0\n",
       "258.00       300000000.0      1  300000000.0\n",
       "182.80       245000000.0      1  245000000.0\n",
       "218.00       240000000.0      1  240000000.0\n",
       "...                  ...    ...          ...\n",
       "16.31          1700000.0      1    1700000.0\n",
       "18.11          1695000.0      2    1695000.0\n",
       "12.81          1690715.0      1    1690715.0\n",
       "10.94          1550000.0      1    1550000.0\n",
       "20.97           990000.0      1     990000.0\n",
       "\n",
       "[1769 rows x 3 columns]"
      ]
     },
     "execution_count": 34,
     "metadata": {},
     "output_type": "execute_result"
    },
    {
     "data": {
      "image/png": "[encoded data removed]",
      "text/plain": [
       "<Figure size 432x288 with 1 Axes>"
      ]
     },
     "metadata": {
      "needs_background": "light"
     },
     "output_type": "display_data"
    }
   ],
   "source": [
    "#рассмотрим динамику цены и площади продаваемых квартир\n",
    "pivot_table_living_area = data.pivot_table(index = 'living_area', values = 'last_price', aggfunc = ['mean', 'count', 'median'])\n",
    "pivot_table_living_area.columns = ['mean', 'count', 'median']\n",
    "pivot_table_living_area.plot(y = 'median')\n",
    "pivot_table_living_area.sort_values('median', ascending = False)"
   ]
  },
  {
   "cell_type": "code",
   "execution_count": 35,
   "metadata": {},
   "outputs": [
    {
     "data": {
      "text/plain": [
       "<AxesSubplot:xlabel='year_exposition'>"
      ]
     },
     "execution_count": 35,
     "metadata": {},
     "output_type": "execute_result"
    },
    {
     "data": {
      "image/png": "[encoded data removed]",
      "text/plain": [
       "<Figure size 1440x576 with 1 Axes>"
      ]
     },
     "metadata": {
      "needs_background": "light"
     },
     "output_type": "display_data"
    }
   ],
   "source": [
    "data.groupby('year_exposition')['last_price'].mean().plot(figsize = (20, 8))"
   ]
  },
  {
   "cell_type": "code",
   "execution_count": 36,
   "metadata": {},
   "outputs": [
    {
     "data": {
      "text/plain": [
       "<AxesSubplot:xlabel='year_exposition'>"
      ]
     },
     "execution_count": 36,
     "metadata": {},
     "output_type": "execute_result"
    },
    {
     "data": {
      "image/png": "[encoded data removed]",
      "text/plain": [
       "<Figure size 1440x576 with 1 Axes>"
      ]
     },
     "metadata": {
      "needs_background": "light"
     },
     "output_type": "display_data"
    }
   ],
   "source": [
    "data.groupby('year_exposition')['total_area'].mean().plot(figsize = (20, 8))"
   ]
  },
  {
   "cell_type": "code",
   "execution_count": 37,
   "metadata": {},
   "outputs": [
    {
     "name": "stdout",
     "output_type": "stream",
     "text": [
      "                   count           mean\n",
      "locality_name                          \n",
      "Санкт-Петербург    15651  114868.877341\n",
      "посёлок Мурино       520   85673.259928\n",
      "посёлок Шушары       439   78551.344545\n",
      "Всеволожск           398   68654.473986\n",
      "Пушкин               369  103125.819291\n",
      "Колпино              338   75424.579098\n",
      "посёлок Парголово    327   90175.913458\n",
      "Гатчина              307   68746.146763\n",
      "деревня Кудрово      299   92473.547576\n",
      "Выборг               237   58141.909153\n"
     ]
    },
    {
     "data": {
      "text/html": [
       "<div>\n",
       "<style scoped>\n",
       "    .dataframe tbody tr th:only-of-type {\n",
       "        vertical-align: middle;\n",
       "    }\n",
       "\n",
       "    .dataframe tbody tr th {\n",
       "        vertical-align: top;\n",
       "    }\n",
       "\n",
       "    .dataframe thead th {\n",
       "        text-align: right;\n",
       "    }\n",
       "</style>\n",
       "<table border=\"1\" class=\"dataframe\">\n",
       "  <thead>\n",
       "    <tr style=\"text-align: right;\">\n",
       "      <th></th>\n",
       "      <th>count</th>\n",
       "      <th>mean</th>\n",
       "    </tr>\n",
       "    <tr>\n",
       "      <th>locality_name</th>\n",
       "      <th></th>\n",
       "      <th></th>\n",
       "    </tr>\n",
       "  </thead>\n",
       "  <tbody>\n",
       "    <tr>\n",
       "      <th>Выборг</th>\n",
       "      <td>237</td>\n",
       "      <td>58141.909153</td>\n",
       "    </tr>\n",
       "  </tbody>\n",
       "</table>\n",
       "</div>"
      ],
      "text/plain": [
       "               count          mean\n",
       "locality_name                     \n",
       "Выборг           237  58141.909153"
      ]
     },
     "execution_count": 37,
     "metadata": {},
     "output_type": "execute_result"
    }
   ],
   "source": [
    "locality_pivot_table = data.pivot_table(index = 'locality_name', values = 'price_square_meter', aggfunc=['count', 'mean'])\n",
    "locality_pivot_table.columns = ['count', 'mean'] \n",
    "locality_pivot_table = locality_pivot_table.sort_values('count', ascending = False).head(10)\n",
    "print(locality_pivot_table)\n",
    "#locality_pivot_table[locality_pivot_table['mean']==locality_pivot_table['mean'].max()] #самая высокая стоимость\n",
    "locality_pivot_table[locality_pivot_table['mean']==locality_pivot_table['mean'].min()] #самая низкая стоимость"
   ]
  },
  {
   "cell_type": "markdown",
   "metadata": {},
   "source": [
    "**Из 10 населенных пунктов с самым большим числом обьявлений самая высокая стоимость за квадратный метр в Санкт_Петербурге, а самая низкая в Выборге**"
   ]
  },
  {
   "cell_type": "code",
   "execution_count": 38,
   "metadata": {},
   "outputs": [
    {
     "data": {
      "text/html": [
       "<div>\n",
       "<style scoped>\n",
       "    .dataframe tbody tr th:only-of-type {\n",
       "        vertical-align: middle;\n",
       "    }\n",
       "\n",
       "    .dataframe tbody tr th {\n",
       "        vertical-align: top;\n",
       "    }\n",
       "\n",
       "    .dataframe thead th {\n",
       "        text-align: right;\n",
       "    }\n",
       "</style>\n",
       "<table border=\"1\" class=\"dataframe\">\n",
       "  <thead>\n",
       "    <tr style=\"text-align: right;\">\n",
       "      <th></th>\n",
       "      <th>price_square_meter</th>\n",
       "    </tr>\n",
       "    <tr>\n",
       "      <th>cityCenters_nearest_km</th>\n",
       "      <th></th>\n",
       "    </tr>\n",
       "  </thead>\n",
       "  <tbody>\n",
       "    <tr>\n",
       "      <th>0</th>\n",
       "      <td>245833.530289</td>\n",
       "    </tr>\n",
       "    <tr>\n",
       "      <th>1</th>\n",
       "      <td>177005.407676</td>\n",
       "    </tr>\n",
       "    <tr>\n",
       "      <th>2</th>\n",
       "      <td>157849.007329</td>\n",
       "    </tr>\n",
       "    <tr>\n",
       "      <th>3</th>\n",
       "      <td>121507.831586</td>\n",
       "    </tr>\n",
       "    <tr>\n",
       "      <th>4</th>\n",
       "      <td>133282.874761</td>\n",
       "    </tr>\n",
       "    <tr>\n",
       "      <th>5</th>\n",
       "      <td>140453.957043</td>\n",
       "    </tr>\n",
       "    <tr>\n",
       "      <th>6</th>\n",
       "      <td>151012.193621</td>\n",
       "    </tr>\n",
       "    <tr>\n",
       "      <th>7</th>\n",
       "      <td>156176.879664</td>\n",
       "    </tr>\n",
       "    <tr>\n",
       "      <th>8</th>\n",
       "      <td>125649.733020</td>\n",
       "    </tr>\n",
       "    <tr>\n",
       "      <th>9</th>\n",
       "      <td>113159.373316</td>\n",
       "    </tr>\n",
       "    <tr>\n",
       "      <th>10</th>\n",
       "      <td>112607.481372</td>\n",
       "    </tr>\n",
       "    <tr>\n",
       "      <th>11</th>\n",
       "      <td>108381.748315</td>\n",
       "    </tr>\n",
       "    <tr>\n",
       "      <th>12</th>\n",
       "      <td>107476.268561</td>\n",
       "    </tr>\n",
       "    <tr>\n",
       "      <th>13</th>\n",
       "      <td>108099.097997</td>\n",
       "    </tr>\n",
       "    <tr>\n",
       "      <th>14</th>\n",
       "      <td>104201.216518</td>\n",
       "    </tr>\n",
       "    <tr>\n",
       "      <th>15</th>\n",
       "      <td>104230.541685</td>\n",
       "    </tr>\n",
       "    <tr>\n",
       "      <th>16</th>\n",
       "      <td>100542.613949</td>\n",
       "    </tr>\n",
       "    <tr>\n",
       "      <th>17</th>\n",
       "      <td>96970.231064</td>\n",
       "    </tr>\n",
       "    <tr>\n",
       "      <th>18</th>\n",
       "      <td>96362.263941</td>\n",
       "    </tr>\n",
       "    <tr>\n",
       "      <th>19</th>\n",
       "      <td>98658.388032</td>\n",
       "    </tr>\n",
       "    <tr>\n",
       "      <th>20</th>\n",
       "      <td>103045.181922</td>\n",
       "    </tr>\n",
       "    <tr>\n",
       "      <th>21</th>\n",
       "      <td>94469.584582</td>\n",
       "    </tr>\n",
       "    <tr>\n",
       "      <th>22</th>\n",
       "      <td>91330.425050</td>\n",
       "    </tr>\n",
       "    <tr>\n",
       "      <th>23</th>\n",
       "      <td>91828.517765</td>\n",
       "    </tr>\n",
       "    <tr>\n",
       "      <th>24</th>\n",
       "      <td>85736.904595</td>\n",
       "    </tr>\n",
       "    <tr>\n",
       "      <th>25</th>\n",
       "      <td>91531.371618</td>\n",
       "    </tr>\n",
       "    <tr>\n",
       "      <th>26</th>\n",
       "      <td>87798.872892</td>\n",
       "    </tr>\n",
       "    <tr>\n",
       "      <th>27</th>\n",
       "      <td>132115.709459</td>\n",
       "    </tr>\n",
       "    <tr>\n",
       "      <th>28</th>\n",
       "      <td>81161.915320</td>\n",
       "    </tr>\n",
       "    <tr>\n",
       "      <th>29</th>\n",
       "      <td>72953.365445</td>\n",
       "    </tr>\n",
       "  </tbody>\n",
       "</table>\n",
       "</div>"
      ],
      "text/plain": [
       "                        price_square_meter\n",
       "cityCenters_nearest_km                    \n",
       "0                            245833.530289\n",
       "1                            177005.407676\n",
       "2                            157849.007329\n",
       "3                            121507.831586\n",
       "4                            133282.874761\n",
       "5                            140453.957043\n",
       "6                            151012.193621\n",
       "7                            156176.879664\n",
       "8                            125649.733020\n",
       "9                            113159.373316\n",
       "10                           112607.481372\n",
       "11                           108381.748315\n",
       "12                           107476.268561\n",
       "13                           108099.097997\n",
       "14                           104201.216518\n",
       "15                           104230.541685\n",
       "16                           100542.613949\n",
       "17                            96970.231064\n",
       "18                            96362.263941\n",
       "19                            98658.388032\n",
       "20                           103045.181922\n",
       "21                            94469.584582\n",
       "22                            91330.425050\n",
       "23                            91828.517765\n",
       "24                            85736.904595\n",
       "25                            91531.371618\n",
       "26                            87798.872892\n",
       "27                           132115.709459\n",
       "28                            81161.915320\n",
       "29                            72953.365445"
      ]
     },
     "metadata": {},
     "output_type": "display_data"
    },
    {
     "data": {
      "image/png": "[encoded data removed]",
      "text/plain": [
       "<Figure size 432x288 with 1 Axes>"
      ]
     },
     "metadata": {
      "needs_background": "light"
     },
     "output_type": "display_data"
    }
   ],
   "source": [
    "data['cityCenters_nearest_km'] = data['cityCenters_nearest_km'].astype('Int64', errors='ignore')\n",
    "data = data[pd.notnull(data['cityCenters_nearest_km'])]\n",
    "km_pivot_table = data.query('locality_name == \"Санкт-Петербург\"')\\\n",
    "    .pivot_table(index = 'cityCenters_nearest_km', values = 'price_square_meter', aggfunc = 'mean')\n",
    "display(km_pivot_table)\n",
    "km_pivot_table.plot.bar(title = 'Заголовок') \n",
    "plt.show()"
   ]
  },
  {
   "cell_type": "markdown",
   "metadata": {},
   "source": [
    "**Чем ближе к центру, тем цены за квадратный метр дороже, но на 4-7 км и на 27 км квартиры дороже, чем на 3 км. Возможно рядом присутствуют достопримеательности или это новые районы**"
   ]
  },
  {
   "cell_type": "markdown",
   "metadata": {},
   "source": [
    "### Общий вывод"
   ]
  },
  {
   "cell_type": "markdown",
   "metadata": {},
   "source": [
    "**Выполнилнела переработку данных,заполнила пусые знаяения, где возможно, изменила типы данных. Посчитала цену квадратного метра жилья,создала категории этажей. Изучила следующие параметры на наличие выбивающихся значений:\n",
    "общая площадь;\n",
    "жилая площадь;\n",
    "площадь кухни;\n",
    "цена объекта;\n",
    "количество комнат;\n",
    "высота потолков;\n",
    "этаж квартиры;\n",
    "тип этажа квартиры («первый», «последний», «другой»);\n",
    "общее количество этажей в доме;\n",
    "расстояние до центра города в метрах;\n",
    "расстояние до ближайшего аэропорта;\n",
    "расстояние до ближайшего парка;\n",
    "день и месяц публикации объявления.\n",
    "Выявила, что на стоимость квартиры больше всего влияют количество комнат, цена квартиры, этаж квартиры. Незначительно на стоимость квадратного метра влияют близость к центру, день, месяц, год размещения и общая площадь, и площадь кухни. Выяснила, что самая высокая цена за квадратный метр в Санкт_Петербурге, а самая низкая в Выборге.**"
   ]
  }
 ],
 "metadata": {
  "ExecuteTimeLog": [
   {
    "duration": 47,
    "start_time": "2022-09-14T22:23:22.426Z"
   },
   {
    "duration": 54,
    "start_time": "2022-09-14T22:23:34.487Z"
   },
   {
    "duration": 425,
    "start_time": "2022-09-14T22:23:55.425Z"
   },
   {
    "duration": 53,
    "start_time": "2022-09-14T22:24:00.567Z"
   },
   {
    "duration": 319,
    "start_time": "2022-09-14T22:24:20.475Z"
   },
   {
    "duration": 86,
    "start_time": "2022-09-14T22:24:31.153Z"
   },
   {
    "duration": 14,
    "start_time": "2022-09-14T22:25:16.530Z"
   },
   {
    "duration": 3513,
    "start_time": "2022-09-17T18:51:11.359Z"
   },
   {
    "duration": 194,
    "start_time": "2022-09-17T18:52:10.934Z"
   },
   {
    "duration": 1989,
    "start_time": "2022-09-17T18:52:28.113Z"
   },
   {
    "duration": 2236,
    "start_time": "2022-09-17T18:56:28.723Z"
   },
   {
    "duration": 9,
    "start_time": "2022-09-17T19:05:16.742Z"
   },
   {
    "duration": 10,
    "start_time": "2022-09-17T19:18:24.436Z"
   },
   {
    "duration": 32,
    "start_time": "2022-09-17T19:19:24.193Z"
   },
   {
    "duration": 19,
    "start_time": "2022-09-17T19:19:56.961Z"
   },
   {
    "duration": 33,
    "start_time": "2022-09-17T19:27:04.545Z"
   },
   {
    "duration": 41,
    "start_time": "2022-09-17T19:27:37.999Z"
   },
   {
    "duration": 32,
    "start_time": "2022-09-17T21:00:46.151Z"
   },
   {
    "duration": 38,
    "start_time": "2022-09-17T21:14:56.888Z"
   },
   {
    "duration": 30,
    "start_time": "2022-09-17T21:15:15.303Z"
   },
   {
    "duration": 29,
    "start_time": "2022-09-17T21:15:26.926Z"
   },
   {
    "duration": 30,
    "start_time": "2022-09-17T21:15:36.546Z"
   },
   {
    "duration": 29,
    "start_time": "2022-09-17T21:15:47.132Z"
   },
   {
    "duration": 19,
    "start_time": "2022-09-17T21:16:03.702Z"
   },
   {
    "duration": 1854,
    "start_time": "2022-09-17T21:16:18.581Z"
   },
   {
    "duration": 12,
    "start_time": "2022-09-17T21:19:54.300Z"
   },
   {
    "duration": 29,
    "start_time": "2022-09-17T21:20:01.476Z"
   },
   {
    "duration": 33,
    "start_time": "2022-09-17T21:20:53.736Z"
   },
   {
    "duration": 41,
    "start_time": "2022-09-17T21:21:53.118Z"
   },
   {
    "duration": 44,
    "start_time": "2022-09-17T21:23:04.039Z"
   },
   {
    "duration": 76,
    "start_time": "2022-09-17T21:30:25.700Z"
   },
   {
    "duration": 78,
    "start_time": "2022-09-17T21:30:43.074Z"
   },
   {
    "duration": 125,
    "start_time": "2022-09-17T21:45:25.456Z"
   },
   {
    "duration": 23,
    "start_time": "2022-09-17T21:48:45.498Z"
   },
   {
    "duration": 24,
    "start_time": "2022-09-17T21:56:21.145Z"
   },
   {
    "duration": 1798,
    "start_time": "2022-09-17T22:03:16.104Z"
   },
   {
    "duration": 1946,
    "start_time": "2022-09-17T22:03:36.045Z"
   },
   {
    "duration": 13,
    "start_time": "2022-09-17T22:05:51.046Z"
   },
   {
    "duration": 8,
    "start_time": "2022-09-17T22:06:13.829Z"
   },
   {
    "duration": 11,
    "start_time": "2022-09-17T22:06:24.384Z"
   },
   {
    "duration": 14,
    "start_time": "2022-09-17T22:08:58.200Z"
   },
   {
    "duration": 9,
    "start_time": "2022-09-17T22:09:16.970Z"
   },
   {
    "duration": 7,
    "start_time": "2022-09-17T22:09:27.748Z"
   },
   {
    "duration": 16,
    "start_time": "2022-09-17T22:09:40.673Z"
   },
   {
    "duration": 6,
    "start_time": "2022-09-17T22:10:19.347Z"
   },
   {
    "duration": 19,
    "start_time": "2022-09-17T22:16:20.401Z"
   },
   {
    "duration": 53,
    "start_time": "2022-09-17T22:16:37.166Z"
   },
   {
    "duration": 31,
    "start_time": "2022-09-17T22:18:12.053Z"
   },
   {
    "duration": 62,
    "start_time": "2022-09-17T22:18:34.774Z"
   },
   {
    "duration": 109,
    "start_time": "2022-09-17T22:20:49.788Z"
   },
   {
    "duration": 55,
    "start_time": "2022-09-17T22:21:27.250Z"
   },
   {
    "duration": 70,
    "start_time": "2022-09-17T22:21:35.184Z"
   },
   {
    "duration": 65,
    "start_time": "2022-09-17T22:22:58.658Z"
   },
   {
    "duration": 62,
    "start_time": "2022-09-17T22:23:24.692Z"
   },
   {
    "duration": 93,
    "start_time": "2022-09-17T22:24:14.986Z"
   },
   {
    "duration": 148,
    "start_time": "2022-09-17T22:24:27.699Z"
   },
   {
    "duration": 77,
    "start_time": "2022-09-18T09:47:33.511Z"
   },
   {
    "duration": 54,
    "start_time": "2022-09-18T11:27:52.363Z"
   },
   {
    "duration": 58,
    "start_time": "2022-09-18T11:28:01.111Z"
   },
   {
    "duration": 77,
    "start_time": "2022-09-18T11:28:18.247Z"
   },
   {
    "duration": 44,
    "start_time": "2022-09-18T11:39:46.358Z"
   },
   {
    "duration": 54,
    "start_time": "2022-09-18T11:54:25.215Z"
   },
   {
    "duration": 42,
    "start_time": "2022-09-18T11:59:18.490Z"
   },
   {
    "duration": 8,
    "start_time": "2022-09-18T12:51:10.402Z"
   },
   {
    "duration": 8,
    "start_time": "2022-09-18T12:51:24.162Z"
   },
   {
    "duration": 7,
    "start_time": "2022-09-18T12:54:52.951Z"
   },
   {
    "duration": 2760,
    "start_time": "2022-09-18T12:56:30.163Z"
   },
   {
    "duration": 8,
    "start_time": "2022-09-18T12:56:32.925Z"
   },
   {
    "duration": 23,
    "start_time": "2022-09-18T12:56:32.935Z"
   },
   {
    "duration": 14,
    "start_time": "2022-09-18T12:56:32.960Z"
   },
   {
    "duration": 10,
    "start_time": "2022-09-18T12:56:32.975Z"
   },
   {
    "duration": 43,
    "start_time": "2022-09-18T12:56:32.987Z"
   },
   {
    "duration": 56,
    "start_time": "2022-09-18T12:56:33.032Z"
   },
   {
    "duration": 4,
    "start_time": "2022-09-18T13:00:38.567Z"
   },
   {
    "duration": 38,
    "start_time": "2022-09-18T13:00:47.555Z"
   },
   {
    "duration": 45,
    "start_time": "2022-09-18T13:02:12.067Z"
   },
   {
    "duration": 45,
    "start_time": "2022-09-18T13:02:44.856Z"
   },
   {
    "duration": 40,
    "start_time": "2022-09-18T13:05:23.601Z"
   },
   {
    "duration": 52,
    "start_time": "2022-09-18T13:08:40.970Z"
   },
   {
    "duration": 61,
    "start_time": "2022-09-18T13:09:12.770Z"
   },
   {
    "duration": 61,
    "start_time": "2022-09-18T13:13:43.110Z"
   },
   {
    "duration": 51,
    "start_time": "2022-09-18T13:13:58.255Z"
   },
   {
    "duration": 48,
    "start_time": "2022-09-18T13:15:49.071Z"
   },
   {
    "duration": 163,
    "start_time": "2022-09-18T13:16:05.852Z"
   },
   {
    "duration": 46,
    "start_time": "2022-09-18T13:16:35.605Z"
   },
   {
    "duration": 40,
    "start_time": "2022-09-18T13:16:48.151Z"
   },
   {
    "duration": 13,
    "start_time": "2022-09-18T13:28:12.758Z"
   },
   {
    "duration": 10,
    "start_time": "2022-09-18T13:28:17.052Z"
   },
   {
    "duration": 26,
    "start_time": "2022-09-18T13:28:36.703Z"
   },
   {
    "duration": 47,
    "start_time": "2022-09-18T18:52:09.390Z"
   },
   {
    "duration": 2796,
    "start_time": "2022-09-18T18:52:13.951Z"
   },
   {
    "duration": 10,
    "start_time": "2022-09-18T18:52:16.748Z"
   },
   {
    "duration": 22,
    "start_time": "2022-09-18T18:52:16.759Z"
   },
   {
    "duration": 18,
    "start_time": "2022-09-18T18:52:16.783Z"
   },
   {
    "duration": 26,
    "start_time": "2022-09-18T18:52:16.803Z"
   },
   {
    "duration": 44,
    "start_time": "2022-09-18T18:52:16.830Z"
   },
   {
    "duration": 35,
    "start_time": "2022-09-18T18:52:16.876Z"
   },
   {
    "duration": 48,
    "start_time": "2022-09-18T18:53:40.223Z"
   },
   {
    "duration": 1867,
    "start_time": "2022-09-18T18:53:50.131Z"
   },
   {
    "duration": 8,
    "start_time": "2022-09-18T18:53:52.001Z"
   },
   {
    "duration": 23,
    "start_time": "2022-09-18T18:53:52.010Z"
   },
   {
    "duration": 12,
    "start_time": "2022-09-18T18:53:52.034Z"
   },
   {
    "duration": 21,
    "start_time": "2022-09-18T18:53:52.047Z"
   },
   {
    "duration": 67,
    "start_time": "2022-09-18T18:53:52.069Z"
   },
   {
    "duration": 2875,
    "start_time": "2022-09-19T18:45:53.962Z"
   },
   {
    "duration": 12,
    "start_time": "2022-09-19T18:45:56.844Z"
   },
   {
    "duration": 22,
    "start_time": "2022-09-19T18:45:56.857Z"
   },
   {
    "duration": 74,
    "start_time": "2022-09-19T18:45:56.881Z"
   },
   {
    "duration": 14,
    "start_time": "2022-09-19T18:45:56.956Z"
   },
   {
    "duration": 21,
    "start_time": "2022-09-19T18:45:56.972Z"
   },
   {
    "duration": 74,
    "start_time": "2022-09-19T18:45:56.995Z"
   },
   {
    "duration": 85,
    "start_time": "2022-09-19T18:57:58.264Z"
   },
   {
    "duration": 25,
    "start_time": "2022-09-19T18:58:20.280Z"
   },
   {
    "duration": 35,
    "start_time": "2022-09-19T20:18:53.360Z"
   },
   {
    "duration": 42,
    "start_time": "2022-09-20T09:47:54.963Z"
   },
   {
    "duration": 2881,
    "start_time": "2022-09-20T09:47:58.627Z"
   },
   {
    "duration": 11,
    "start_time": "2022-09-20T09:48:01.511Z"
   },
   {
    "duration": 32,
    "start_time": "2022-09-20T09:48:01.524Z"
   },
   {
    "duration": 16,
    "start_time": "2022-09-20T09:48:01.558Z"
   },
   {
    "duration": 67,
    "start_time": "2022-09-20T09:48:01.576Z"
   },
   {
    "duration": 0,
    "start_time": "2022-09-20T09:48:01.645Z"
   },
   {
    "duration": 0,
    "start_time": "2022-09-20T09:48:01.646Z"
   },
   {
    "duration": 186,
    "start_time": "2022-09-20T09:48:06.989Z"
   },
   {
    "duration": 42,
    "start_time": "2022-09-20T11:59:08.413Z"
   },
   {
    "duration": 32,
    "start_time": "2022-09-20T11:59:23.057Z"
   },
   {
    "duration": 2188,
    "start_time": "2022-09-20T11:59:27.309Z"
   },
   {
    "duration": 10,
    "start_time": "2022-09-20T11:59:29.499Z"
   },
   {
    "duration": 29,
    "start_time": "2022-09-20T11:59:29.527Z"
   },
   {
    "duration": 38,
    "start_time": "2022-09-20T11:59:29.558Z"
   },
   {
    "duration": 52,
    "start_time": "2022-09-20T11:59:29.598Z"
   },
   {
    "duration": 0,
    "start_time": "2022-09-20T11:59:29.652Z"
   },
   {
    "duration": 0,
    "start_time": "2022-09-20T11:59:29.653Z"
   },
   {
    "duration": 115,
    "start_time": "2022-09-20T12:04:35.186Z"
   },
   {
    "duration": 2181,
    "start_time": "2022-09-20T12:04:47.432Z"
   },
   {
    "duration": 30,
    "start_time": "2022-09-20T12:04:49.616Z"
   },
   {
    "duration": 45,
    "start_time": "2022-09-20T12:04:49.652Z"
   },
   {
    "duration": 0,
    "start_time": "2022-09-20T12:04:49.699Z"
   },
   {
    "duration": 0,
    "start_time": "2022-09-20T12:04:49.701Z"
   },
   {
    "duration": 0,
    "start_time": "2022-09-20T12:04:49.702Z"
   },
   {
    "duration": 37,
    "start_time": "2022-09-20T12:05:12.915Z"
   },
   {
    "duration": 25,
    "start_time": "2022-09-20T12:06:38.680Z"
   },
   {
    "duration": 35,
    "start_time": "2022-09-20T12:08:10.678Z"
   },
   {
    "duration": 26,
    "start_time": "2022-09-20T12:08:28.040Z"
   },
   {
    "duration": 458,
    "start_time": "2022-09-20T12:08:40.611Z"
   },
   {
    "duration": 240,
    "start_time": "2022-09-20T13:09:35.516Z"
   },
   {
    "duration": 183,
    "start_time": "2022-09-20T13:09:36.795Z"
   },
   {
    "duration": 185,
    "start_time": "2022-09-20T13:10:22.674Z"
   },
   {
    "duration": 100,
    "start_time": "2022-09-20T13:12:06.221Z"
   },
   {
    "duration": 132,
    "start_time": "2022-09-20T13:12:17.029Z"
   },
   {
    "duration": 51,
    "start_time": "2022-09-20T15:11:38.698Z"
   },
   {
    "duration": 3277,
    "start_time": "2022-09-20T15:11:43.180Z"
   },
   {
    "duration": 16,
    "start_time": "2022-09-20T15:11:46.459Z"
   },
   {
    "duration": 29,
    "start_time": "2022-09-20T15:11:46.476Z"
   },
   {
    "duration": 67,
    "start_time": "2022-09-20T15:11:46.508Z"
   },
   {
    "duration": 216,
    "start_time": "2022-09-20T15:11:46.576Z"
   },
   {
    "duration": 284,
    "start_time": "2022-09-20T15:11:46.794Z"
   },
   {
    "duration": 24,
    "start_time": "2022-09-20T15:12:17.787Z"
   },
   {
    "duration": 21,
    "start_time": "2022-09-20T15:12:24.481Z"
   },
   {
    "duration": 22,
    "start_time": "2022-09-20T15:14:07.726Z"
   },
   {
    "duration": 2165,
    "start_time": "2022-09-20T15:15:05.058Z"
   },
   {
    "duration": 15,
    "start_time": "2022-09-20T15:15:09.287Z"
   },
   {
    "duration": 31,
    "start_time": "2022-09-20T15:15:18.202Z"
   },
   {
    "duration": 45,
    "start_time": "2022-09-20T15:15:35.741Z"
   },
   {
    "duration": 8,
    "start_time": "2022-09-20T15:15:48.564Z"
   },
   {
    "duration": 8,
    "start_time": "2022-09-20T15:16:01.401Z"
   },
   {
    "duration": 180,
    "start_time": "2022-09-20T15:19:52.259Z"
   },
   {
    "duration": 65,
    "start_time": "2022-09-20T15:22:17.916Z"
   },
   {
    "duration": 184,
    "start_time": "2022-09-20T15:22:57.060Z"
   },
   {
    "duration": 8,
    "start_time": "2022-09-20T15:23:29.916Z"
   },
   {
    "duration": 41,
    "start_time": "2022-09-20T15:24:22.281Z"
   },
   {
    "duration": 9,
    "start_time": "2022-09-20T15:25:22.397Z"
   },
   {
    "duration": 43,
    "start_time": "2022-09-20T15:42:16.114Z"
   },
   {
    "duration": 8,
    "start_time": "2022-09-20T15:42:33.929Z"
   },
   {
    "duration": 9,
    "start_time": "2022-09-20T15:43:48.010Z"
   },
   {
    "duration": 9,
    "start_time": "2022-09-20T15:44:19.457Z"
   },
   {
    "duration": 9,
    "start_time": "2022-09-20T15:44:51.134Z"
   },
   {
    "duration": 39,
    "start_time": "2022-09-20T15:45:17.186Z"
   },
   {
    "duration": 10,
    "start_time": "2022-09-20T15:46:39.319Z"
   },
   {
    "duration": 48,
    "start_time": "2022-09-20T15:47:02.804Z"
   },
   {
    "duration": 12,
    "start_time": "2022-09-20T15:51:50.762Z"
   },
   {
    "duration": 13,
    "start_time": "2022-09-20T15:52:17.888Z"
   },
   {
    "duration": 184,
    "start_time": "2022-09-20T15:52:39.144Z"
   },
   {
    "duration": 10,
    "start_time": "2022-09-20T15:53:08.095Z"
   },
   {
    "duration": 13,
    "start_time": "2022-09-20T15:53:41.332Z"
   },
   {
    "duration": 12,
    "start_time": "2022-09-20T15:54:28.908Z"
   },
   {
    "duration": 2390,
    "start_time": "2022-09-20T15:55:37.191Z"
   },
   {
    "duration": 14,
    "start_time": "2022-09-20T15:55:39.584Z"
   },
   {
    "duration": 27,
    "start_time": "2022-09-20T15:55:39.600Z"
   },
   {
    "duration": 78,
    "start_time": "2022-09-20T15:55:39.628Z"
   },
   {
    "duration": 10,
    "start_time": "2022-09-20T15:55:39.709Z"
   },
   {
    "duration": 6,
    "start_time": "2022-09-20T15:55:39.720Z"
   },
   {
    "duration": 10,
    "start_time": "2022-09-20T15:56:07.915Z"
   },
   {
    "duration": 11,
    "start_time": "2022-09-20T15:56:25.325Z"
   },
   {
    "duration": 21,
    "start_time": "2022-09-20T15:56:50.672Z"
   },
   {
    "duration": 24,
    "start_time": "2022-09-20T15:57:01.533Z"
   },
   {
    "duration": 7,
    "start_time": "2022-09-20T16:01:02.578Z"
   },
   {
    "duration": 8,
    "start_time": "2022-09-20T16:01:07.339Z"
   },
   {
    "duration": 12,
    "start_time": "2022-09-20T16:01:21.271Z"
   },
   {
    "duration": 78,
    "start_time": "2022-09-20T16:02:35.458Z"
   },
   {
    "duration": 17,
    "start_time": "2022-09-20T16:02:50.704Z"
   },
   {
    "duration": 13,
    "start_time": "2022-09-20T16:03:21.827Z"
   },
   {
    "duration": 20,
    "start_time": "2022-09-20T16:03:40.851Z"
   },
   {
    "duration": 13,
    "start_time": "2022-09-20T16:04:01.862Z"
   },
   {
    "duration": 12,
    "start_time": "2022-09-20T16:04:05.307Z"
   },
   {
    "duration": 128,
    "start_time": "2022-09-20T16:05:34.081Z"
   },
   {
    "duration": 13,
    "start_time": "2022-09-20T16:05:58.255Z"
   },
   {
    "duration": 5,
    "start_time": "2022-09-20T16:11:19.841Z"
   },
   {
    "duration": 4,
    "start_time": "2022-09-20T16:11:23.431Z"
   },
   {
    "duration": 2198,
    "start_time": "2022-09-20T16:11:28.118Z"
   },
   {
    "duration": 18,
    "start_time": "2022-09-20T16:11:30.319Z"
   },
   {
    "duration": 31,
    "start_time": "2022-09-20T16:11:30.353Z"
   },
   {
    "duration": 70,
    "start_time": "2022-09-20T16:11:30.386Z"
   },
   {
    "duration": 11,
    "start_time": "2022-09-20T16:11:30.458Z"
   },
   {
    "duration": 26,
    "start_time": "2022-09-20T16:11:30.470Z"
   },
   {
    "duration": 58,
    "start_time": "2022-09-20T16:11:30.498Z"
   },
   {
    "duration": 5,
    "start_time": "2022-09-20T16:11:45.208Z"
   },
   {
    "duration": 7,
    "start_time": "2022-09-20T16:12:23.167Z"
   },
   {
    "duration": 16,
    "start_time": "2022-09-20T16:15:21.552Z"
   },
   {
    "duration": 11,
    "start_time": "2022-09-20T16:15:40.570Z"
   },
   {
    "duration": 11,
    "start_time": "2022-09-20T16:16:14.795Z"
   },
   {
    "duration": 9,
    "start_time": "2022-09-20T16:17:01.695Z"
   },
   {
    "duration": 10,
    "start_time": "2022-09-20T16:19:49.594Z"
   },
   {
    "duration": 26,
    "start_time": "2022-09-20T16:20:04.066Z"
   },
   {
    "duration": 31,
    "start_time": "2022-09-20T16:20:38.159Z"
   },
   {
    "duration": 26,
    "start_time": "2022-09-20T16:21:29.493Z"
   },
   {
    "duration": 51,
    "start_time": "2022-09-20T16:32:27.898Z"
   },
   {
    "duration": 50,
    "start_time": "2022-09-20T16:32:46.099Z"
   },
   {
    "duration": 18,
    "start_time": "2022-09-20T16:42:47.340Z"
   },
   {
    "duration": 50,
    "start_time": "2022-09-20T16:43:40.709Z"
   },
   {
    "duration": 57,
    "start_time": "2022-09-20T16:43:52.337Z"
   },
   {
    "duration": 53,
    "start_time": "2022-09-20T16:45:16.317Z"
   },
   {
    "duration": 1409,
    "start_time": "2022-09-20T16:45:33.373Z"
   },
   {
    "duration": 150,
    "start_time": "2022-09-20T16:47:32.408Z"
   },
   {
    "duration": 148,
    "start_time": "2022-09-20T16:47:47.637Z"
   },
   {
    "duration": 146,
    "start_time": "2022-09-20T16:48:25.783Z"
   },
   {
    "duration": 159,
    "start_time": "2022-09-20T16:48:31.692Z"
   },
   {
    "duration": 157,
    "start_time": "2022-09-20T16:49:30.574Z"
   },
   {
    "duration": 374,
    "start_time": "2022-09-20T16:53:31.347Z"
   },
   {
    "duration": 3724,
    "start_time": "2022-09-20T19:22:19.001Z"
   },
   {
    "duration": 18,
    "start_time": "2022-09-20T19:22:22.727Z"
   },
   {
    "duration": 59,
    "start_time": "2022-09-20T19:22:22.747Z"
   },
   {
    "duration": 61,
    "start_time": "2022-09-20T19:22:22.809Z"
   },
   {
    "duration": 27,
    "start_time": "2022-09-20T19:22:22.872Z"
   },
   {
    "duration": 26,
    "start_time": "2022-09-20T19:22:22.900Z"
   },
   {
    "duration": 203,
    "start_time": "2022-09-20T19:22:22.928Z"
   },
   {
    "duration": 83,
    "start_time": "2022-09-20T19:22:23.135Z"
   },
   {
    "duration": 604,
    "start_time": "2022-09-20T19:45:24.755Z"
   },
   {
    "duration": 719,
    "start_time": "2022-09-20T19:45:33.026Z"
   },
   {
    "duration": 497,
    "start_time": "2022-09-20T19:46:36.621Z"
   },
   {
    "duration": 518,
    "start_time": "2022-09-20T19:48:24.158Z"
   },
   {
    "duration": 602,
    "start_time": "2022-09-20T19:48:53.803Z"
   },
   {
    "duration": 304,
    "start_time": "2022-09-20T19:49:11.494Z"
   },
   {
    "duration": 143,
    "start_time": "2022-09-20T19:49:18.955Z"
   },
   {
    "duration": 977,
    "start_time": "2022-09-20T19:49:34.002Z"
   },
   {
    "duration": 510,
    "start_time": "2022-09-20T19:49:49.156Z"
   },
   {
    "duration": 259,
    "start_time": "2022-09-20T19:49:59.274Z"
   },
   {
    "duration": 219,
    "start_time": "2022-09-20T19:50:10.462Z"
   },
   {
    "duration": 218,
    "start_time": "2022-09-20T19:50:27.949Z"
   },
   {
    "duration": 203,
    "start_time": "2022-09-20T19:51:15.220Z"
   },
   {
    "duration": 198,
    "start_time": "2022-09-20T19:51:23.061Z"
   },
   {
    "duration": 527,
    "start_time": "2022-09-20T19:51:39.559Z"
   },
   {
    "duration": 72,
    "start_time": "2022-09-20T19:52:39.317Z"
   },
   {
    "duration": 522,
    "start_time": "2022-09-20T19:54:45.158Z"
   },
   {
    "duration": 593,
    "start_time": "2022-09-20T19:56:34.630Z"
   },
   {
    "duration": 493,
    "start_time": "2022-09-20T19:57:03.475Z"
   },
   {
    "duration": 537,
    "start_time": "2022-09-20T19:57:41.468Z"
   },
   {
    "duration": 595,
    "start_time": "2022-09-20T19:58:18.909Z"
   },
   {
    "duration": 487,
    "start_time": "2022-09-20T20:00:05.384Z"
   },
   {
    "duration": 513,
    "start_time": "2022-09-20T20:00:28.345Z"
   },
   {
    "duration": 490,
    "start_time": "2022-09-20T20:00:44.004Z"
   },
   {
    "duration": 663,
    "start_time": "2022-09-20T20:01:49.651Z"
   },
   {
    "duration": 549,
    "start_time": "2022-09-20T20:02:00.596Z"
   },
   {
    "duration": 507,
    "start_time": "2022-09-20T20:02:59.457Z"
   },
   {
    "duration": 497,
    "start_time": "2022-09-20T20:03:33.356Z"
   },
   {
    "duration": 614,
    "start_time": "2022-09-20T20:05:10.677Z"
   },
   {
    "duration": 491,
    "start_time": "2022-09-20T20:13:13.354Z"
   },
   {
    "duration": 568,
    "start_time": "2022-09-20T20:15:46.762Z"
   },
   {
    "duration": 516,
    "start_time": "2022-09-20T20:16:37.182Z"
   },
   {
    "duration": 55,
    "start_time": "2022-09-20T20:18:39.416Z"
   },
   {
    "duration": 537,
    "start_time": "2022-09-20T20:20:28.227Z"
   },
   {
    "duration": 1251,
    "start_time": "2022-09-20T20:25:09.946Z"
   },
   {
    "duration": 68,
    "start_time": "2022-09-20T20:25:39.046Z"
   },
   {
    "duration": 550,
    "start_time": "2022-09-20T20:26:11.396Z"
   },
   {
    "duration": 94,
    "start_time": "2022-09-20T20:26:47.946Z"
   },
   {
    "duration": 62,
    "start_time": "2022-09-20T20:27:12.635Z"
   },
   {
    "duration": 279,
    "start_time": "2022-09-20T20:27:28.945Z"
   },
   {
    "duration": 410,
    "start_time": "2022-09-20T20:27:45.356Z"
   },
   {
    "duration": 308,
    "start_time": "2022-09-20T20:27:51.597Z"
   },
   {
    "duration": 1860,
    "start_time": "2022-09-20T20:27:57.371Z"
   },
   {
    "duration": 28,
    "start_time": "2022-09-20T21:01:46.315Z"
   },
   {
    "duration": 25,
    "start_time": "2022-09-20T21:08:44.246Z"
   },
   {
    "duration": 17,
    "start_time": "2022-09-20T21:10:30.633Z"
   },
   {
    "duration": 27,
    "start_time": "2022-09-20T21:12:41.812Z"
   },
   {
    "duration": 38,
    "start_time": "2022-09-20T21:13:41.432Z"
   },
   {
    "duration": 9,
    "start_time": "2022-09-20T21:14:11.625Z"
   },
   {
    "duration": 8,
    "start_time": "2022-09-20T21:14:18.203Z"
   },
   {
    "duration": 18,
    "start_time": "2022-09-20T21:14:59.455Z"
   },
   {
    "duration": 16,
    "start_time": "2022-09-20T21:16:23.458Z"
   },
   {
    "duration": 22,
    "start_time": "2022-09-20T21:16:43.667Z"
   },
   {
    "duration": 11,
    "start_time": "2022-09-20T21:19:52.798Z"
   },
   {
    "duration": 11,
    "start_time": "2022-09-20T21:20:54.646Z"
   },
   {
    "duration": 12,
    "start_time": "2022-09-20T21:21:38.315Z"
   },
   {
    "duration": 28,
    "start_time": "2022-09-20T21:22:06.458Z"
   },
   {
    "duration": 2105,
    "start_time": "2022-09-20T21:22:41.649Z"
   },
   {
    "duration": 14,
    "start_time": "2022-09-20T21:22:43.756Z"
   },
   {
    "duration": 23,
    "start_time": "2022-09-20T21:22:43.771Z"
   },
   {
    "duration": 63,
    "start_time": "2022-09-20T21:22:43.796Z"
   },
   {
    "duration": 9,
    "start_time": "2022-09-20T21:22:43.861Z"
   },
   {
    "duration": 8,
    "start_time": "2022-09-20T21:22:43.872Z"
   },
   {
    "duration": 160,
    "start_time": "2022-09-20T21:22:43.882Z"
   },
   {
    "duration": 483,
    "start_time": "2022-09-20T21:22:44.044Z"
   },
   {
    "duration": 30,
    "start_time": "2022-09-20T21:22:44.528Z"
   },
   {
    "duration": 21,
    "start_time": "2022-09-20T21:22:48.493Z"
   },
   {
    "duration": 27,
    "start_time": "2022-09-20T21:22:59.425Z"
   },
   {
    "duration": 22,
    "start_time": "2022-09-20T21:23:19.952Z"
   },
   {
    "duration": 11,
    "start_time": "2022-09-20T21:23:44.685Z"
   },
   {
    "duration": 2123,
    "start_time": "2022-09-20T21:24:05.577Z"
   },
   {
    "duration": 15,
    "start_time": "2022-09-20T21:24:07.701Z"
   },
   {
    "duration": 38,
    "start_time": "2022-09-20T21:24:07.717Z"
   },
   {
    "duration": 37,
    "start_time": "2022-09-20T21:24:07.757Z"
   },
   {
    "duration": 9,
    "start_time": "2022-09-20T21:24:07.795Z"
   },
   {
    "duration": 34,
    "start_time": "2022-09-20T21:24:07.806Z"
   },
   {
    "duration": 149,
    "start_time": "2022-09-20T21:24:07.842Z"
   },
   {
    "duration": 479,
    "start_time": "2022-09-20T21:24:07.993Z"
   },
   {
    "duration": 12,
    "start_time": "2022-09-20T21:24:08.474Z"
   },
   {
    "duration": 12,
    "start_time": "2022-09-20T21:25:00.513Z"
   },
   {
    "duration": 21,
    "start_time": "2022-09-20T21:25:18.603Z"
   },
   {
    "duration": 16,
    "start_time": "2022-09-20T21:26:09.765Z"
   },
   {
    "duration": 23,
    "start_time": "2022-09-20T21:26:31.499Z"
   },
   {
    "duration": 15,
    "start_time": "2022-09-20T21:26:37.714Z"
   },
   {
    "duration": 20,
    "start_time": "2022-09-20T21:26:52.950Z"
   },
   {
    "duration": 217,
    "start_time": "2022-09-20T21:27:56.951Z"
   },
   {
    "duration": 219,
    "start_time": "2022-09-20T21:28:08.956Z"
   },
   {
    "duration": 20,
    "start_time": "2022-09-20T21:28:19.847Z"
   },
   {
    "duration": 37,
    "start_time": "2022-09-20T21:28:55.720Z"
   },
   {
    "duration": 22,
    "start_time": "2022-09-20T21:29:07.269Z"
   },
   {
    "duration": 29,
    "start_time": "2022-09-20T21:29:47.217Z"
   },
   {
    "duration": 25,
    "start_time": "2022-09-20T21:29:58.399Z"
   },
   {
    "duration": 23,
    "start_time": "2022-09-20T21:31:10.455Z"
   },
   {
    "duration": 31,
    "start_time": "2022-09-20T21:31:26.635Z"
   },
   {
    "duration": 61,
    "start_time": "2022-09-20T21:32:32.486Z"
   },
   {
    "duration": 2883,
    "start_time": "2022-09-21T12:02:13.138Z"
   },
   {
    "duration": 15,
    "start_time": "2022-09-21T12:02:16.024Z"
   },
   {
    "duration": 49,
    "start_time": "2022-09-21T12:02:16.040Z"
   },
   {
    "duration": 39,
    "start_time": "2022-09-21T12:02:16.091Z"
   },
   {
    "duration": 10,
    "start_time": "2022-09-21T12:02:16.132Z"
   },
   {
    "duration": 16,
    "start_time": "2022-09-21T12:02:16.143Z"
   },
   {
    "duration": 177,
    "start_time": "2022-09-21T12:02:16.161Z"
   },
   {
    "duration": 923,
    "start_time": "2022-09-21T12:02:16.339Z"
   },
   {
    "duration": 22,
    "start_time": "2022-09-21T12:02:17.263Z"
   },
   {
    "duration": 132,
    "start_time": "2022-09-21T12:02:17.286Z"
   },
   {
    "duration": 41,
    "start_time": "2022-09-21T12:03:06.832Z"
   },
   {
    "duration": 11,
    "start_time": "2022-09-21T12:16:54.013Z"
   },
   {
    "duration": 14,
    "start_time": "2022-09-21T12:17:13.166Z"
   },
   {
    "duration": 11,
    "start_time": "2022-09-21T12:18:17.175Z"
   },
   {
    "duration": 21,
    "start_time": "2022-09-21T12:19:54.785Z"
   },
   {
    "duration": 160,
    "start_time": "2022-09-21T12:21:10.990Z"
   },
   {
    "duration": 18,
    "start_time": "2022-09-21T12:21:53.668Z"
   },
   {
    "duration": 15,
    "start_time": "2022-09-21T12:22:24.142Z"
   },
   {
    "duration": 17,
    "start_time": "2022-09-21T12:22:35.074Z"
   },
   {
    "duration": 21,
    "start_time": "2022-09-21T12:23:55.817Z"
   },
   {
    "duration": 20,
    "start_time": "2022-09-21T12:24:28.036Z"
   },
   {
    "duration": 16,
    "start_time": "2022-09-21T12:24:36.247Z"
   },
   {
    "duration": 21,
    "start_time": "2022-09-21T12:26:40.954Z"
   },
   {
    "duration": 155,
    "start_time": "2022-09-21T12:26:59.309Z"
   },
   {
    "duration": 3139,
    "start_time": "2022-09-21T19:32:58.663Z"
   },
   {
    "duration": 20,
    "start_time": "2022-09-21T19:33:01.805Z"
   },
   {
    "duration": 30,
    "start_time": "2022-09-21T19:33:01.827Z"
   },
   {
    "duration": 81,
    "start_time": "2022-09-21T19:33:01.860Z"
   },
   {
    "duration": 14,
    "start_time": "2022-09-21T19:33:01.944Z"
   },
   {
    "duration": 19,
    "start_time": "2022-09-21T19:33:01.961Z"
   },
   {
    "duration": 259,
    "start_time": "2022-09-21T19:33:01.982Z"
   },
   {
    "duration": 1099,
    "start_time": "2022-09-21T19:33:02.243Z"
   },
   {
    "duration": 23,
    "start_time": "2022-09-21T19:33:03.344Z"
   },
   {
    "duration": 207,
    "start_time": "2022-09-21T19:33:03.368Z"
   },
   {
    "duration": 17,
    "start_time": "2022-09-21T19:37:58.759Z"
   },
   {
    "duration": 252,
    "start_time": "2022-09-21T19:44:03.009Z"
   },
   {
    "duration": 47,
    "start_time": "2022-09-21T19:45:56.291Z"
   },
   {
    "duration": 249,
    "start_time": "2022-09-21T19:46:06.268Z"
   },
   {
    "duration": 239,
    "start_time": "2022-09-21T19:48:11.278Z"
   },
   {
    "duration": 166,
    "start_time": "2022-09-21T19:48:57.533Z"
   },
   {
    "duration": 132,
    "start_time": "2022-09-21T19:49:36.835Z"
   },
   {
    "duration": 265,
    "start_time": "2022-09-21T19:49:53.785Z"
   },
   {
    "duration": 259,
    "start_time": "2022-09-21T19:50:02.739Z"
   },
   {
    "duration": 240,
    "start_time": "2022-09-21T19:50:18.131Z"
   },
   {
    "duration": 262,
    "start_time": "2022-09-21T19:51:12.332Z"
   },
   {
    "duration": 1109,
    "start_time": "2022-09-21T19:56:50.857Z"
   },
   {
    "duration": 963,
    "start_time": "2022-09-21T19:57:35.913Z"
   },
   {
    "duration": 20,
    "start_time": "2022-09-21T19:59:50.254Z"
   },
   {
    "duration": 93219,
    "start_time": "2022-09-21T19:59:50.276Z"
   },
   {
    "duration": 70,
    "start_time": "2022-09-21T20:05:08.283Z"
   },
   {
    "duration": 19,
    "start_time": "2022-09-21T20:06:01.907Z"
   },
   {
    "duration": 46,
    "start_time": "2022-09-21T20:07:51.262Z"
   },
   {
    "duration": 13,
    "start_time": "2022-09-21T20:08:01.536Z"
   },
   {
    "duration": 17,
    "start_time": "2022-09-21T20:09:01.851Z"
   },
   {
    "duration": 21,
    "start_time": "2022-09-21T20:11:28.171Z"
   },
   {
    "duration": 22,
    "start_time": "2022-09-21T20:11:38.354Z"
   },
   {
    "duration": 17,
    "start_time": "2022-09-21T20:13:13.341Z"
   },
   {
    "duration": 12,
    "start_time": "2022-09-21T20:13:43.693Z"
   },
   {
    "duration": 17,
    "start_time": "2022-09-21T20:16:04.712Z"
   },
   {
    "duration": 72,
    "start_time": "2022-09-21T20:16:52.332Z"
   },
   {
    "duration": 257,
    "start_time": "2022-09-21T20:17:10.375Z"
   },
   {
    "duration": 148,
    "start_time": "2022-09-21T20:24:55.679Z"
   },
   {
    "duration": 383,
    "start_time": "2022-09-21T20:25:13.357Z"
   },
   {
    "duration": 388,
    "start_time": "2022-09-21T20:28:19.296Z"
   },
   {
    "duration": 131,
    "start_time": "2022-09-21T20:30:25.240Z"
   },
   {
    "duration": 139,
    "start_time": "2022-09-21T20:31:02.900Z"
   },
   {
    "duration": 142,
    "start_time": "2022-09-21T20:32:18.469Z"
   },
   {
    "duration": 135,
    "start_time": "2022-09-21T20:32:39.047Z"
   },
   {
    "duration": 268,
    "start_time": "2022-09-21T20:32:46.762Z"
   },
   {
    "duration": 526,
    "start_time": "2022-09-21T20:35:33.869Z"
   },
   {
    "duration": 396,
    "start_time": "2022-09-21T20:36:03.680Z"
   },
   {
    "duration": 429,
    "start_time": "2022-09-21T20:36:11.842Z"
   },
   {
    "duration": 669,
    "start_time": "2022-09-21T20:37:22.336Z"
   },
   {
    "duration": 559,
    "start_time": "2022-09-21T20:37:35.281Z"
   },
   {
    "duration": 583,
    "start_time": "2022-09-21T20:37:55.234Z"
   },
   {
    "duration": 767,
    "start_time": "2022-09-21T20:38:50.545Z"
   },
   {
    "duration": 794,
    "start_time": "2022-09-21T20:41:18.180Z"
   },
   {
    "duration": 911,
    "start_time": "2022-09-21T20:41:44.233Z"
   },
   {
    "duration": 1620,
    "start_time": "2022-09-21T20:42:53.006Z"
   },
   {
    "duration": 42,
    "start_time": "2022-09-21T20:46:39.310Z"
   },
   {
    "duration": 41,
    "start_time": "2022-09-21T20:47:26.290Z"
   },
   {
    "duration": 22,
    "start_time": "2022-09-21T20:48:22.736Z"
   },
   {
    "duration": 24,
    "start_time": "2022-09-21T20:48:46.231Z"
   },
   {
    "duration": 44,
    "start_time": "2022-09-21T20:48:56.380Z"
   },
   {
    "duration": 137,
    "start_time": "2022-09-21T20:49:32.045Z"
   },
   {
    "duration": 142,
    "start_time": "2022-09-21T20:50:00.213Z"
   },
   {
    "duration": 15,
    "start_time": "2022-09-21T20:52:34.407Z"
   },
   {
    "duration": 274,
    "start_time": "2022-09-21T20:52:49.588Z"
   },
   {
    "duration": 281,
    "start_time": "2022-09-21T20:53:04.233Z"
   },
   {
    "duration": 321,
    "start_time": "2022-09-21T20:53:12.542Z"
   },
   {
    "duration": 281,
    "start_time": "2022-09-21T20:53:25.500Z"
   },
   {
    "duration": 279,
    "start_time": "2022-09-21T20:53:55.751Z"
   },
   {
    "duration": 407,
    "start_time": "2022-09-21T20:56:27.490Z"
   },
   {
    "duration": 150,
    "start_time": "2022-09-21T20:56:59.782Z"
   },
   {
    "duration": 137,
    "start_time": "2022-09-21T20:57:11.152Z"
   },
   {
    "duration": 129,
    "start_time": "2022-09-21T20:57:53.428Z"
   },
   {
    "duration": 133,
    "start_time": "2022-09-21T20:58:18.955Z"
   },
   {
    "duration": 320,
    "start_time": "2022-09-21T20:58:39.136Z"
   },
   {
    "duration": 163,
    "start_time": "2022-09-21T20:59:47.750Z"
   },
   {
    "duration": 142,
    "start_time": "2022-09-21T21:00:37.237Z"
   },
   {
    "duration": 134,
    "start_time": "2022-09-21T21:01:25.707Z"
   },
   {
    "duration": 12,
    "start_time": "2022-09-21T21:03:36.725Z"
   },
   {
    "duration": 150,
    "start_time": "2022-09-21T21:04:32.063Z"
   },
   {
    "duration": 50,
    "start_time": "2022-09-21T21:09:29.730Z"
   },
   {
    "duration": 144,
    "start_time": "2022-09-21T21:13:44.678Z"
   },
   {
    "duration": 149,
    "start_time": "2022-09-21T21:18:20.704Z"
   },
   {
    "duration": 130,
    "start_time": "2022-09-21T21:23:53.915Z"
   },
   {
    "duration": 143,
    "start_time": "2022-09-21T21:27:02.062Z"
   },
   {
    "duration": 151,
    "start_time": "2022-09-21T21:30:50.605Z"
   },
   {
    "duration": 154,
    "start_time": "2022-09-21T21:32:39.167Z"
   },
   {
    "duration": 157,
    "start_time": "2022-09-21T21:33:06.112Z"
   },
   {
    "duration": 1799,
    "start_time": "2022-09-21T21:42:13.967Z"
   },
   {
    "duration": 255,
    "start_time": "2022-09-21T21:43:17.915Z"
   },
   {
    "duration": 264,
    "start_time": "2022-09-21T21:44:12.909Z"
   },
   {
    "duration": 248,
    "start_time": "2022-09-21T21:46:49.456Z"
   },
   {
    "duration": 254,
    "start_time": "2022-09-21T21:47:18.433Z"
   },
   {
    "duration": 259,
    "start_time": "2022-09-21T21:47:38.098Z"
   },
   {
    "duration": 261,
    "start_time": "2022-09-21T21:47:52.935Z"
   },
   {
    "duration": 261,
    "start_time": "2022-09-21T21:48:01.405Z"
   },
   {
    "duration": 187,
    "start_time": "2022-09-21T21:48:08.984Z"
   },
   {
    "duration": 208,
    "start_time": "2022-09-21T21:48:20.559Z"
   },
   {
    "duration": 185,
    "start_time": "2022-09-21T21:48:27.445Z"
   },
   {
    "duration": 814,
    "start_time": "2022-09-21T21:50:18.342Z"
   },
   {
    "duration": 175,
    "start_time": "2022-09-21T21:50:31.782Z"
   },
   {
    "duration": 188,
    "start_time": "2022-09-21T21:52:14.010Z"
   },
   {
    "duration": 255,
    "start_time": "2022-09-21T21:52:37.227Z"
   },
   {
    "duration": 249,
    "start_time": "2022-09-21T21:52:50.347Z"
   },
   {
    "duration": 251,
    "start_time": "2022-09-21T21:52:57.040Z"
   },
   {
    "duration": 275,
    "start_time": "2022-09-21T21:53:03.956Z"
   },
   {
    "duration": 941,
    "start_time": "2022-09-21T21:53:27.636Z"
   },
   {
    "duration": 263,
    "start_time": "2022-09-21T21:53:36.577Z"
   },
   {
    "duration": 261,
    "start_time": "2022-09-21T21:53:43.033Z"
   },
   {
    "duration": 391,
    "start_time": "2022-09-21T21:53:54.190Z"
   },
   {
    "duration": 401,
    "start_time": "2022-09-21T21:56:18.681Z"
   },
   {
    "duration": 161,
    "start_time": "2022-09-21T21:57:15.698Z"
   },
   {
    "duration": 180,
    "start_time": "2022-09-21T21:58:30.462Z"
   },
   {
    "duration": 170,
    "start_time": "2022-09-21T22:00:00.576Z"
   },
   {
    "duration": 171,
    "start_time": "2022-09-21T22:00:23.069Z"
   },
   {
    "duration": 30,
    "start_time": "2022-09-21T22:03:29.876Z"
   },
   {
    "duration": 812,
    "start_time": "2022-09-21T22:03:58.304Z"
   },
   {
    "duration": 1031,
    "start_time": "2022-09-21T22:05:00.579Z"
   },
   {
    "duration": 170,
    "start_time": "2022-09-21T22:05:26.064Z"
   },
   {
    "duration": 133,
    "start_time": "2022-09-21T22:05:42.077Z"
   },
   {
    "duration": 147,
    "start_time": "2022-09-21T22:05:50.083Z"
   },
   {
    "duration": 132,
    "start_time": "2022-09-21T22:05:56.114Z"
   },
   {
    "duration": 142,
    "start_time": "2022-09-21T22:09:03.203Z"
   },
   {
    "duration": 150,
    "start_time": "2022-09-21T22:12:27.048Z"
   },
   {
    "duration": 155,
    "start_time": "2022-09-21T22:13:02.955Z"
   },
   {
    "duration": 371,
    "start_time": "2022-09-21T22:13:59.438Z"
   },
   {
    "duration": 248,
    "start_time": "2022-09-21T22:14:09.890Z"
   },
   {
    "duration": 249,
    "start_time": "2022-09-21T22:15:27.764Z"
   },
   {
    "duration": 144,
    "start_time": "2022-09-21T22:16:15.355Z"
   },
   {
    "duration": 145,
    "start_time": "2022-09-21T22:16:28.525Z"
   },
   {
    "duration": 1341,
    "start_time": "2022-09-21T22:20:30.233Z"
   },
   {
    "duration": 3703,
    "start_time": "2022-09-21T22:23:02.599Z"
   },
   {
    "duration": 1166,
    "start_time": "2022-09-21T22:23:08.253Z"
   },
   {
    "duration": 3345,
    "start_time": "2022-09-21T22:45:26.351Z"
   },
   {
    "duration": 16,
    "start_time": "2022-09-21T22:45:29.699Z"
   },
   {
    "duration": 51,
    "start_time": "2022-09-21T22:45:29.720Z"
   },
   {
    "duration": 53,
    "start_time": "2022-09-21T22:45:29.773Z"
   },
   {
    "duration": 34,
    "start_time": "2022-09-21T22:45:29.827Z"
   },
   {
    "duration": 9,
    "start_time": "2022-09-21T22:45:29.863Z"
   },
   {
    "duration": 158,
    "start_time": "2022-09-21T22:45:29.874Z"
   },
   {
    "duration": 303,
    "start_time": "2022-09-21T22:45:30.034Z"
   },
   {
    "duration": 216,
    "start_time": "2022-09-21T22:45:30.340Z"
   },
   {
    "duration": 202,
    "start_time": "2022-09-21T22:45:30.558Z"
   },
   {
    "duration": 479,
    "start_time": "2022-09-21T22:45:30.762Z"
   },
   {
    "duration": 249,
    "start_time": "2022-09-21T22:45:31.243Z"
   },
   {
    "duration": 398,
    "start_time": "2022-09-21T22:45:31.494Z"
   },
   {
    "duration": 198,
    "start_time": "2022-09-21T22:45:31.894Z"
   },
   {
    "duration": 169,
    "start_time": "2022-09-21T22:45:32.094Z"
   },
   {
    "duration": 182,
    "start_time": "2022-09-21T22:45:32.265Z"
   },
   {
    "duration": 299,
    "start_time": "2022-09-21T22:45:32.453Z"
   },
   {
    "duration": 311,
    "start_time": "2022-09-21T22:45:32.754Z"
   },
   {
    "duration": 524,
    "start_time": "2022-09-21T22:45:33.068Z"
   },
   {
    "duration": 298,
    "start_time": "2022-09-21T22:45:33.593Z"
   },
   {
    "duration": 197,
    "start_time": "2022-09-21T22:45:33.893Z"
   },
   {
    "duration": 153,
    "start_time": "2022-09-21T22:45:34.092Z"
   },
   {
    "duration": 161,
    "start_time": "2022-09-21T22:45:34.246Z"
   },
   {
    "duration": 158,
    "start_time": "2022-09-21T22:45:34.409Z"
   },
   {
    "duration": 188,
    "start_time": "2022-09-21T22:45:34.569Z"
   },
   {
    "duration": 167,
    "start_time": "2022-09-21T22:45:34.758Z"
   },
   {
    "duration": 176,
    "start_time": "2022-09-21T22:45:34.930Z"
   },
   {
    "duration": 25,
    "start_time": "2022-09-21T22:45:35.108Z"
   },
   {
    "duration": 39,
    "start_time": "2022-09-21T22:45:35.135Z"
   },
   {
    "duration": 15,
    "start_time": "2022-09-21T22:58:29.803Z"
   },
   {
    "duration": 3343,
    "start_time": "2022-09-21T22:58:50.386Z"
   },
   {
    "duration": 27,
    "start_time": "2022-09-21T22:58:53.731Z"
   },
   {
    "duration": 28,
    "start_time": "2022-09-21T22:58:53.760Z"
   },
   {
    "duration": 44,
    "start_time": "2022-09-21T22:58:53.790Z"
   },
   {
    "duration": 11,
    "start_time": "2022-09-21T22:58:53.854Z"
   },
   {
    "duration": 10,
    "start_time": "2022-09-21T22:58:53.867Z"
   },
   {
    "duration": 14,
    "start_time": "2022-09-21T22:58:53.878Z"
   },
   {
    "duration": 180,
    "start_time": "2022-09-21T22:58:53.894Z"
   },
   {
    "duration": 297,
    "start_time": "2022-09-21T22:58:54.076Z"
   },
   {
    "duration": 200,
    "start_time": "2022-09-21T22:58:54.375Z"
   },
   {
    "duration": 200,
    "start_time": "2022-09-21T22:58:54.577Z"
   },
   {
    "duration": 465,
    "start_time": "2022-09-21T22:58:54.779Z"
   },
   {
    "duration": 200,
    "start_time": "2022-09-21T22:58:55.246Z"
   },
   {
    "duration": 315,
    "start_time": "2022-09-21T22:58:55.453Z"
   },
   {
    "duration": 188,
    "start_time": "2022-09-21T22:58:55.770Z"
   },
   {
    "duration": 179,
    "start_time": "2022-09-21T22:58:55.960Z"
   },
   {
    "duration": 179,
    "start_time": "2022-09-21T22:58:56.141Z"
   },
   {
    "duration": 292,
    "start_time": "2022-09-21T22:58:56.322Z"
   },
   {
    "duration": 294,
    "start_time": "2022-09-21T22:58:56.616Z"
   },
   {
    "duration": 505,
    "start_time": "2022-09-21T22:58:56.911Z"
   },
   {
    "duration": 303,
    "start_time": "2022-09-21T22:58:57.418Z"
   },
   {
    "duration": 181,
    "start_time": "2022-09-21T22:58:57.723Z"
   },
   {
    "duration": 175,
    "start_time": "2022-09-21T22:58:57.906Z"
   },
   {
    "duration": 161,
    "start_time": "2022-09-21T22:58:58.084Z"
   },
   {
    "duration": 165,
    "start_time": "2022-09-21T22:58:58.246Z"
   },
   {
    "duration": 173,
    "start_time": "2022-09-21T22:58:58.413Z"
   },
   {
    "duration": 172,
    "start_time": "2022-09-21T22:58:58.588Z"
   },
   {
    "duration": 161,
    "start_time": "2022-09-21T22:58:58.764Z"
   },
   {
    "duration": 35,
    "start_time": "2022-09-21T22:58:58.927Z"
   },
   {
    "duration": 25,
    "start_time": "2022-09-21T22:58:58.964Z"
   },
   {
    "duration": 3200,
    "start_time": "2022-09-22T05:32:47.831Z"
   },
   {
    "duration": 284,
    "start_time": "2022-09-22T05:36:59.699Z"
   },
   {
    "duration": 3055,
    "start_time": "2022-09-22T19:01:02.089Z"
   },
   {
    "duration": 13,
    "start_time": "2022-09-22T19:01:05.146Z"
   },
   {
    "duration": 23,
    "start_time": "2022-09-22T19:01:05.161Z"
   },
   {
    "duration": 42,
    "start_time": "2022-09-22T19:01:05.186Z"
   },
   {
    "duration": 10,
    "start_time": "2022-09-22T19:01:05.229Z"
   },
   {
    "duration": 9,
    "start_time": "2022-09-22T19:01:05.240Z"
   },
   {
    "duration": 152,
    "start_time": "2022-09-22T19:01:05.250Z"
   },
   {
    "duration": 246,
    "start_time": "2022-09-22T19:01:05.403Z"
   },
   {
    "duration": 166,
    "start_time": "2022-09-22T19:01:05.650Z"
   },
   {
    "duration": 173,
    "start_time": "2022-09-22T19:01:05.822Z"
   },
   {
    "duration": 431,
    "start_time": "2022-09-22T19:01:05.997Z"
   },
   {
    "duration": 162,
    "start_time": "2022-09-22T19:01:06.430Z"
   },
   {
    "duration": 318,
    "start_time": "2022-09-22T19:01:06.594Z"
   },
   {
    "duration": 175,
    "start_time": "2022-09-22T19:01:06.914Z"
   },
   {
    "duration": 138,
    "start_time": "2022-09-22T19:01:07.092Z"
   },
   {
    "duration": 144,
    "start_time": "2022-09-22T19:01:07.231Z"
   },
   {
    "duration": 238,
    "start_time": "2022-09-22T19:01:07.377Z"
   },
   {
    "duration": 252,
    "start_time": "2022-09-22T19:01:07.617Z"
   },
   {
    "duration": 420,
    "start_time": "2022-09-22T19:01:07.871Z"
   },
   {
    "duration": 241,
    "start_time": "2022-09-22T19:01:08.292Z"
   },
   {
    "duration": 161,
    "start_time": "2022-09-22T19:01:08.535Z"
   },
   {
    "duration": 153,
    "start_time": "2022-09-22T19:01:08.697Z"
   },
   {
    "duration": 136,
    "start_time": "2022-09-22T19:01:08.852Z"
   },
   {
    "duration": 150,
    "start_time": "2022-09-22T19:01:08.990Z"
   },
   {
    "duration": 148,
    "start_time": "2022-09-22T19:01:09.141Z"
   },
   {
    "duration": 151,
    "start_time": "2022-09-22T19:01:09.292Z"
   },
   {
    "duration": 144,
    "start_time": "2022-09-22T19:01:09.444Z"
   },
   {
    "duration": 20,
    "start_time": "2022-09-22T19:01:09.591Z"
   },
   {
    "duration": 28,
    "start_time": "2022-09-22T19:01:09.613Z"
   },
   {
    "duration": 15,
    "start_time": "2022-09-22T19:13:06.426Z"
   },
   {
    "duration": 92,
    "start_time": "2022-09-22T19:14:09.853Z"
   },
   {
    "duration": 47,
    "start_time": "2022-09-22T19:16:53.394Z"
   },
   {
    "duration": 21,
    "start_time": "2022-09-22T19:23:00.114Z"
   },
   {
    "duration": 13,
    "start_time": "2022-09-22T19:23:12.316Z"
   },
   {
    "duration": 2221,
    "start_time": "2022-09-22T19:23:25.759Z"
   },
   {
    "duration": 23,
    "start_time": "2022-09-22T19:23:27.983Z"
   },
   {
    "duration": 26,
    "start_time": "2022-09-22T19:23:28.022Z"
   },
   {
    "duration": 33,
    "start_time": "2022-09-22T19:23:28.051Z"
   },
   {
    "duration": 62,
    "start_time": "2022-09-22T19:23:28.087Z"
   },
   {
    "duration": 74,
    "start_time": "2022-09-22T19:23:28.152Z"
   },
   {
    "duration": 11,
    "start_time": "2022-09-22T19:23:28.227Z"
   },
   {
    "duration": 11,
    "start_time": "2022-09-22T19:23:28.240Z"
   },
   {
    "duration": 16,
    "start_time": "2022-09-22T19:23:28.253Z"
   },
   {
    "duration": 168,
    "start_time": "2022-09-22T19:23:28.272Z"
   },
   {
    "duration": 294,
    "start_time": "2022-09-22T19:23:28.442Z"
   },
   {
    "duration": 303,
    "start_time": "2022-09-22T19:23:28.738Z"
   },
   {
    "duration": 191,
    "start_time": "2022-09-22T19:23:29.043Z"
   },
   {
    "duration": 502,
    "start_time": "2022-09-22T19:23:29.236Z"
   },
   {
    "duration": 197,
    "start_time": "2022-09-22T19:23:29.740Z"
   },
   {
    "duration": 198,
    "start_time": "2022-09-22T19:23:29.939Z"
   },
   {
    "duration": 195,
    "start_time": "2022-09-22T19:23:30.140Z"
   },
   {
    "duration": 178,
    "start_time": "2022-09-22T19:23:30.337Z"
   },
   {
    "duration": 182,
    "start_time": "2022-09-22T19:23:30.517Z"
   },
   {
    "duration": 390,
    "start_time": "2022-09-22T19:23:30.700Z"
   },
   {
    "duration": 270,
    "start_time": "2022-09-22T19:23:31.092Z"
   },
   {
    "duration": 457,
    "start_time": "2022-09-22T19:23:31.366Z"
   },
   {
    "duration": 151,
    "start_time": "2022-09-22T19:23:31.825Z"
   },
   {
    "duration": 162,
    "start_time": "2022-09-22T19:23:31.978Z"
   },
   {
    "duration": 146,
    "start_time": "2022-09-22T19:23:32.142Z"
   },
   {
    "duration": 147,
    "start_time": "2022-09-22T19:23:32.290Z"
   },
   {
    "duration": 144,
    "start_time": "2022-09-22T19:23:32.438Z"
   },
   {
    "duration": 269,
    "start_time": "2022-09-22T19:23:32.585Z"
   },
   {
    "duration": 146,
    "start_time": "2022-09-22T19:23:32.855Z"
   },
   {
    "duration": 164,
    "start_time": "2022-09-22T19:23:33.002Z"
   },
   {
    "duration": 21,
    "start_time": "2022-09-22T19:23:33.168Z"
   },
   {
    "duration": 19,
    "start_time": "2022-09-22T19:23:33.191Z"
   },
   {
    "duration": 253,
    "start_time": "2022-09-22T19:24:54.665Z"
   },
   {
    "duration": 288,
    "start_time": "2022-09-22T19:25:11.674Z"
   },
   {
    "duration": 270,
    "start_time": "2022-09-22T19:25:23.308Z"
   },
   {
    "duration": 265,
    "start_time": "2022-09-22T19:25:33.508Z"
   },
   {
    "duration": 232,
    "start_time": "2022-09-22T19:34:24.625Z"
   },
   {
    "duration": 116,
    "start_time": "2022-09-22T19:34:49.464Z"
   },
   {
    "duration": 90,
    "start_time": "2022-09-22T19:41:35.106Z"
   },
   {
    "duration": 91,
    "start_time": "2022-09-22T19:42:33.393Z"
   },
   {
    "duration": 96,
    "start_time": "2022-09-22T19:43:07.109Z"
   },
   {
    "duration": 110,
    "start_time": "2022-09-22T19:44:48.185Z"
   },
   {
    "duration": 92,
    "start_time": "2022-09-22T19:47:40.155Z"
   },
   {
    "duration": 286,
    "start_time": "2022-09-22T19:56:52.006Z"
   },
   {
    "duration": 261,
    "start_time": "2022-09-22T19:57:34.107Z"
   },
   {
    "duration": 2158,
    "start_time": "2022-09-22T19:57:40.295Z"
   },
   {
    "duration": 14,
    "start_time": "2022-09-22T19:57:42.456Z"
   },
   {
    "duration": 15,
    "start_time": "2022-09-22T19:57:42.471Z"
   },
   {
    "duration": 46,
    "start_time": "2022-09-22T19:57:42.488Z"
   },
   {
    "duration": 33,
    "start_time": "2022-09-22T19:57:42.536Z"
   },
   {
    "duration": 70,
    "start_time": "2022-09-22T19:57:42.571Z"
   },
   {
    "duration": 10,
    "start_time": "2022-09-22T19:57:42.643Z"
   },
   {
    "duration": 9,
    "start_time": "2022-09-22T19:57:42.654Z"
   },
   {
    "duration": 15,
    "start_time": "2022-09-22T19:57:42.665Z"
   },
   {
    "duration": 168,
    "start_time": "2022-09-22T19:57:42.682Z"
   },
   {
    "duration": 284,
    "start_time": "2022-09-22T19:57:42.852Z"
   },
   {
    "duration": 175,
    "start_time": "2022-09-22T19:57:43.139Z"
   },
   {
    "duration": 200,
    "start_time": "2022-09-22T19:57:43.316Z"
   },
   {
    "duration": 546,
    "start_time": "2022-09-22T19:57:43.517Z"
   },
   {
    "duration": 191,
    "start_time": "2022-09-22T19:57:44.065Z"
   },
   {
    "duration": 170,
    "start_time": "2022-09-22T19:57:44.257Z"
   },
   {
    "duration": 173,
    "start_time": "2022-09-22T19:57:44.429Z"
   },
   {
    "duration": 160,
    "start_time": "2022-09-22T19:57:44.604Z"
   },
   {
    "duration": 165,
    "start_time": "2022-09-22T19:57:44.766Z"
   },
   {
    "duration": 304,
    "start_time": "2022-09-22T19:57:44.936Z"
   },
   {
    "duration": 288,
    "start_time": "2022-09-22T19:57:45.242Z"
   },
   {
    "duration": 411,
    "start_time": "2022-09-22T19:57:45.534Z"
   },
   {
    "duration": 529,
    "start_time": "2022-09-22T19:57:45.947Z"
   },
   {
    "duration": 195,
    "start_time": "2022-09-22T19:57:46.477Z"
   },
   {
    "duration": 173,
    "start_time": "2022-09-22T19:57:46.674Z"
   },
   {
    "duration": 157,
    "start_time": "2022-09-22T19:57:46.848Z"
   },
   {
    "duration": 148,
    "start_time": "2022-09-22T19:57:47.006Z"
   },
   {
    "duration": 165,
    "start_time": "2022-09-22T19:57:47.157Z"
   },
   {
    "duration": 173,
    "start_time": "2022-09-22T19:57:47.331Z"
   },
   {
    "duration": 151,
    "start_time": "2022-09-22T19:57:47.506Z"
   },
   {
    "duration": 251,
    "start_time": "2022-09-22T19:57:47.659Z"
   },
   {
    "duration": 39,
    "start_time": "2022-09-22T19:57:47.912Z"
   },
   {
    "duration": 20,
    "start_time": "2022-09-22T19:57:47.953Z"
   },
   {
    "duration": 142,
    "start_time": "2022-09-22T19:58:49.765Z"
   },
   {
    "duration": 196,
    "start_time": "2022-09-22T19:58:57.804Z"
   },
   {
    "duration": 172,
    "start_time": "2022-09-22T20:03:46.235Z"
   },
   {
    "duration": 146,
    "start_time": "2022-09-22T20:03:54.631Z"
   },
   {
    "duration": 155,
    "start_time": "2022-09-22T20:05:36.495Z"
   },
   {
    "duration": 200,
    "start_time": "2022-09-22T20:06:32.285Z"
   },
   {
    "duration": 40,
    "start_time": "2022-09-22T20:09:50.201Z"
   },
   {
    "duration": 148,
    "start_time": "2022-09-22T20:23:04.593Z"
   },
   {
    "duration": 172,
    "start_time": "2022-09-22T20:24:47.161Z"
   },
   {
    "duration": 1512,
    "start_time": "2022-09-22T20:25:28.563Z"
   },
   {
    "duration": 1647,
    "start_time": "2022-09-22T20:26:02.259Z"
   },
   {
    "duration": 125,
    "start_time": "2022-09-22T20:28:49.786Z"
   },
   {
    "duration": 17,
    "start_time": "2022-09-22T20:29:29.449Z"
   },
   {
    "duration": 192,
    "start_time": "2022-09-22T20:31:05.359Z"
   },
   {
    "duration": 1731,
    "start_time": "2022-09-22T20:31:30.954Z"
   },
   {
    "duration": 218,
    "start_time": "2022-09-22T20:49:57.089Z"
   },
   {
    "duration": 24,
    "start_time": "2022-09-22T20:50:51.269Z"
   },
   {
    "duration": 1349,
    "start_time": "2022-09-22T20:52:13.711Z"
   },
   {
    "duration": 1362,
    "start_time": "2022-09-22T20:53:58.910Z"
   },
   {
    "duration": 30,
    "start_time": "2022-09-22T20:54:37.348Z"
   },
   {
    "duration": 2018,
    "start_time": "2022-09-22T20:55:18.117Z"
   },
   {
    "duration": 19,
    "start_time": "2022-09-22T20:55:20.137Z"
   },
   {
    "duration": 20,
    "start_time": "2022-09-22T20:55:20.158Z"
   },
   {
    "duration": 49,
    "start_time": "2022-09-22T20:55:20.180Z"
   },
   {
    "duration": 25,
    "start_time": "2022-09-22T20:55:20.236Z"
   },
   {
    "duration": 37,
    "start_time": "2022-09-22T20:55:20.263Z"
   },
   {
    "duration": 24,
    "start_time": "2022-09-22T20:55:20.302Z"
   },
   {
    "duration": 11,
    "start_time": "2022-09-22T20:55:20.332Z"
   },
   {
    "duration": 16,
    "start_time": "2022-09-22T20:55:20.345Z"
   },
   {
    "duration": 134,
    "start_time": "2022-09-22T20:55:20.364Z"
   },
   {
    "duration": 263,
    "start_time": "2022-09-22T20:55:20.499Z"
   },
   {
    "duration": 172,
    "start_time": "2022-09-22T20:55:20.764Z"
   },
   {
    "duration": 196,
    "start_time": "2022-09-22T20:55:20.938Z"
   },
   {
    "duration": 410,
    "start_time": "2022-09-22T20:55:21.140Z"
   },
   {
    "duration": 188,
    "start_time": "2022-09-22T20:55:21.552Z"
   },
   {
    "duration": 163,
    "start_time": "2022-09-22T20:55:21.742Z"
   },
   {
    "duration": 311,
    "start_time": "2022-09-22T20:55:21.907Z"
   },
   {
    "duration": 166,
    "start_time": "2022-09-22T20:55:22.220Z"
   },
   {
    "duration": 15,
    "start_time": "2022-09-22T20:55:22.388Z"
   },
   {
    "duration": 0,
    "start_time": "2022-09-22T20:55:22.404Z"
   },
   {
    "duration": 0,
    "start_time": "2022-09-22T20:55:22.406Z"
   },
   {
    "duration": 0,
    "start_time": "2022-09-22T20:55:22.406Z"
   },
   {
    "duration": 0,
    "start_time": "2022-09-22T20:55:22.424Z"
   },
   {
    "duration": 0,
    "start_time": "2022-09-22T20:55:22.425Z"
   },
   {
    "duration": 0,
    "start_time": "2022-09-22T20:55:22.426Z"
   },
   {
    "duration": 0,
    "start_time": "2022-09-22T20:55:22.434Z"
   },
   {
    "duration": 0,
    "start_time": "2022-09-22T20:55:22.435Z"
   },
   {
    "duration": 0,
    "start_time": "2022-09-22T20:55:22.437Z"
   },
   {
    "duration": 0,
    "start_time": "2022-09-22T20:55:22.438Z"
   },
   {
    "duration": 0,
    "start_time": "2022-09-22T20:55:22.439Z"
   },
   {
    "duration": 0,
    "start_time": "2022-09-22T20:55:22.440Z"
   },
   {
    "duration": 0,
    "start_time": "2022-09-22T20:55:22.442Z"
   },
   {
    "duration": 0,
    "start_time": "2022-09-22T20:55:22.443Z"
   },
   {
    "duration": 0,
    "start_time": "2022-09-22T20:55:22.445Z"
   },
   {
    "duration": 0,
    "start_time": "2022-09-22T20:55:22.447Z"
   },
   {
    "duration": 15,
    "start_time": "2022-09-22T20:57:04.192Z"
   },
   {
    "duration": 142,
    "start_time": "2022-09-22T20:58:24.239Z"
   },
   {
    "duration": 9,
    "start_time": "2022-09-22T21:00:26.256Z"
   },
   {
    "duration": 16,
    "start_time": "2022-09-22T21:02:27.187Z"
   },
   {
    "duration": 147,
    "start_time": "2022-09-22T21:03:03.915Z"
   },
   {
    "duration": 15,
    "start_time": "2022-09-22T21:06:24.700Z"
   },
   {
    "duration": 4,
    "start_time": "2022-09-22T21:07:17.343Z"
   },
   {
    "duration": 19,
    "start_time": "2022-09-22T21:08:18.086Z"
   },
   {
    "duration": 83,
    "start_time": "2022-09-22T21:10:33.076Z"
   },
   {
    "duration": 3,
    "start_time": "2022-09-22T21:10:43.042Z"
   },
   {
    "duration": 22,
    "start_time": "2022-09-22T21:10:55.983Z"
   },
   {
    "duration": 127,
    "start_time": "2022-09-22T21:12:12.552Z"
   },
   {
    "duration": 108,
    "start_time": "2022-09-22T21:13:19.906Z"
   },
   {
    "duration": 97,
    "start_time": "2022-09-22T21:13:32.478Z"
   },
   {
    "duration": 18,
    "start_time": "2022-09-22T21:20:12.229Z"
   },
   {
    "duration": 2185,
    "start_time": "2022-09-22T21:20:18.707Z"
   },
   {
    "duration": 14,
    "start_time": "2022-09-22T21:20:20.894Z"
   },
   {
    "duration": 28,
    "start_time": "2022-09-22T21:20:20.925Z"
   },
   {
    "duration": 41,
    "start_time": "2022-09-22T21:20:20.956Z"
   },
   {
    "duration": 31,
    "start_time": "2022-09-22T21:20:20.999Z"
   },
   {
    "duration": 84,
    "start_time": "2022-09-22T21:20:21.033Z"
   },
   {
    "duration": 14,
    "start_time": "2022-09-22T21:20:21.119Z"
   },
   {
    "duration": 30,
    "start_time": "2022-09-22T21:20:21.135Z"
   },
   {
    "duration": 205,
    "start_time": "2022-09-22T21:20:21.167Z"
   },
   {
    "duration": 278,
    "start_time": "2022-09-22T21:20:21.375Z"
   },
   {
    "duration": 209,
    "start_time": "2022-09-22T21:20:21.655Z"
   },
   {
    "duration": 188,
    "start_time": "2022-09-22T21:20:21.866Z"
   },
   {
    "duration": 581,
    "start_time": "2022-09-22T21:20:22.056Z"
   },
   {
    "duration": 175,
    "start_time": "2022-09-22T21:20:22.639Z"
   },
   {
    "duration": 176,
    "start_time": "2022-09-22T21:20:22.816Z"
   },
   {
    "duration": 202,
    "start_time": "2022-09-22T21:20:22.995Z"
   },
   {
    "duration": 190,
    "start_time": "2022-09-22T21:20:23.199Z"
   },
   {
    "duration": 124,
    "start_time": "2022-09-22T21:20:23.391Z"
   },
   {
    "duration": 239,
    "start_time": "2022-09-22T21:20:23.516Z"
   },
   {
    "duration": 305,
    "start_time": "2022-09-22T21:20:23.757Z"
   },
   {
    "duration": 370,
    "start_time": "2022-09-22T21:20:24.064Z"
   },
   {
    "duration": 208,
    "start_time": "2022-09-22T21:20:24.437Z"
   },
   {
    "duration": 148,
    "start_time": "2022-09-22T21:20:24.648Z"
   },
   {
    "duration": 485,
    "start_time": "2022-09-22T21:20:24.798Z"
   },
   {
    "duration": 202,
    "start_time": "2022-09-22T21:20:25.285Z"
   },
   {
    "duration": 173,
    "start_time": "2022-09-22T21:20:25.489Z"
   },
   {
    "duration": 171,
    "start_time": "2022-09-22T21:20:25.663Z"
   },
   {
    "duration": 135,
    "start_time": "2022-09-22T21:20:25.839Z"
   },
   {
    "duration": 305,
    "start_time": "2022-09-22T21:20:25.976Z"
   },
   {
    "duration": 193,
    "start_time": "2022-09-22T21:20:26.283Z"
   },
   {
    "duration": 203,
    "start_time": "2022-09-22T21:20:26.477Z"
   },
   {
    "duration": 220,
    "start_time": "2022-09-22T21:20:26.681Z"
   },
   {
    "duration": 37,
    "start_time": "2022-09-22T21:20:26.903Z"
   },
   {
    "duration": 43,
    "start_time": "2022-09-22T21:20:26.942Z"
   },
   {
    "duration": 16,
    "start_time": "2022-09-22T21:30:15.675Z"
   },
   {
    "duration": 12,
    "start_time": "2022-09-22T21:30:34.971Z"
   },
   {
    "duration": 14,
    "start_time": "2022-09-22T21:48:15.577Z"
   },
   {
    "duration": 1938,
    "start_time": "2022-09-22T21:54:09.568Z"
   },
   {
    "duration": 28,
    "start_time": "2022-09-22T21:54:11.508Z"
   },
   {
    "duration": 38,
    "start_time": "2022-09-22T21:54:11.537Z"
   },
   {
    "duration": 19,
    "start_time": "2022-09-22T21:54:11.577Z"
   },
   {
    "duration": 28,
    "start_time": "2022-09-22T21:54:11.598Z"
   },
   {
    "duration": 45,
    "start_time": "2022-09-22T21:54:11.629Z"
   },
   {
    "duration": 11,
    "start_time": "2022-09-22T21:54:11.675Z"
   },
   {
    "duration": 7,
    "start_time": "2022-09-22T21:54:11.688Z"
   },
   {
    "duration": 37,
    "start_time": "2022-09-22T21:54:11.696Z"
   },
   {
    "duration": 155,
    "start_time": "2022-09-22T21:54:11.740Z"
   },
   {
    "duration": 280,
    "start_time": "2022-09-22T21:54:11.897Z"
   },
   {
    "duration": 182,
    "start_time": "2022-09-22T21:54:12.179Z"
   },
   {
    "duration": 173,
    "start_time": "2022-09-22T21:54:12.363Z"
   },
   {
    "duration": 415,
    "start_time": "2022-09-22T21:54:12.540Z"
   },
   {
    "duration": 175,
    "start_time": "2022-09-22T21:54:12.957Z"
   },
   {
    "duration": 314,
    "start_time": "2022-09-22T21:54:13.133Z"
   },
   {
    "duration": 155,
    "start_time": "2022-09-22T21:54:13.452Z"
   },
   {
    "duration": 147,
    "start_time": "2022-09-22T21:54:13.609Z"
   },
   {
    "duration": 101,
    "start_time": "2022-09-22T21:54:13.758Z"
   },
   {
    "duration": 154,
    "start_time": "2022-09-22T21:54:13.861Z"
   },
   {
    "duration": 281,
    "start_time": "2022-09-22T21:54:14.016Z"
   },
   {
    "duration": 272,
    "start_time": "2022-09-22T21:54:14.298Z"
   },
   {
    "duration": 158,
    "start_time": "2022-09-22T21:54:14.571Z"
   },
   {
    "duration": 130,
    "start_time": "2022-09-22T21:54:14.730Z"
   },
   {
    "duration": 552,
    "start_time": "2022-09-22T21:54:14.861Z"
   },
   {
    "duration": 183,
    "start_time": "2022-09-22T21:54:15.415Z"
   },
   {
    "duration": 172,
    "start_time": "2022-09-22T21:54:15.600Z"
   },
   {
    "duration": 158,
    "start_time": "2022-09-22T21:54:15.775Z"
   },
   {
    "duration": 161,
    "start_time": "2022-09-22T21:54:15.935Z"
   },
   {
    "duration": 173,
    "start_time": "2022-09-22T21:54:16.098Z"
   },
   {
    "duration": 169,
    "start_time": "2022-09-22T21:54:16.273Z"
   },
   {
    "duration": 143,
    "start_time": "2022-09-22T21:54:16.443Z"
   },
   {
    "duration": 166,
    "start_time": "2022-09-22T21:54:16.588Z"
   },
   {
    "duration": 21,
    "start_time": "2022-09-22T21:54:16.756Z"
   },
   {
    "duration": 119,
    "start_time": "2022-09-22T21:54:16.779Z"
   },
   {
    "duration": 1918,
    "start_time": "2022-09-22T21:59:45.281Z"
   },
   {
    "duration": 23,
    "start_time": "2022-09-22T21:59:47.200Z"
   },
   {
    "duration": 28,
    "start_time": "2022-09-22T21:59:47.224Z"
   },
   {
    "duration": 19,
    "start_time": "2022-09-22T21:59:47.255Z"
   },
   {
    "duration": 25,
    "start_time": "2022-09-22T21:59:47.275Z"
   },
   {
    "duration": 74,
    "start_time": "2022-09-22T21:59:47.302Z"
   },
   {
    "duration": 10,
    "start_time": "2022-09-22T21:59:47.378Z"
   },
   {
    "duration": 7,
    "start_time": "2022-09-22T21:59:47.389Z"
   },
   {
    "duration": 25,
    "start_time": "2022-09-22T21:59:47.398Z"
   },
   {
    "duration": 162,
    "start_time": "2022-09-22T21:59:47.425Z"
   },
   {
    "duration": 388,
    "start_time": "2022-09-22T21:59:47.589Z"
   },
   {
    "duration": 183,
    "start_time": "2022-09-22T21:59:47.979Z"
   },
   {
    "duration": 180,
    "start_time": "2022-09-22T21:59:48.163Z"
   },
   {
    "duration": 416,
    "start_time": "2022-09-22T21:59:48.348Z"
   },
   {
    "duration": 183,
    "start_time": "2022-09-22T21:59:48.765Z"
   },
   {
    "duration": 159,
    "start_time": "2022-09-22T21:59:48.955Z"
   },
   {
    "duration": 177,
    "start_time": "2022-09-22T21:59:49.115Z"
   },
   {
    "duration": 180,
    "start_time": "2022-09-22T21:59:49.294Z"
   },
   {
    "duration": 105,
    "start_time": "2022-09-22T21:59:49.476Z"
   },
   {
    "duration": 288,
    "start_time": "2022-09-22T21:59:49.583Z"
   },
   {
    "duration": 269,
    "start_time": "2022-09-22T21:59:49.873Z"
   },
   {
    "duration": 255,
    "start_time": "2022-09-22T21:59:50.151Z"
   },
   {
    "duration": 193,
    "start_time": "2022-09-22T21:59:50.408Z"
   },
   {
    "duration": 151,
    "start_time": "2022-09-22T21:59:50.602Z"
   },
   {
    "duration": 458,
    "start_time": "2022-09-22T21:59:50.754Z"
   },
   {
    "duration": 166,
    "start_time": "2022-09-22T21:59:51.214Z"
   },
   {
    "duration": 274,
    "start_time": "2022-09-22T21:59:51.381Z"
   },
   {
    "duration": 141,
    "start_time": "2022-09-22T21:59:51.658Z"
   },
   {
    "duration": 162,
    "start_time": "2022-09-22T21:59:51.800Z"
   },
   {
    "duration": 136,
    "start_time": "2022-09-22T21:59:51.966Z"
   },
   {
    "duration": 168,
    "start_time": "2022-09-22T21:59:52.103Z"
   },
   {
    "duration": 148,
    "start_time": "2022-09-22T21:59:52.272Z"
   },
   {
    "duration": 148,
    "start_time": "2022-09-22T21:59:52.421Z"
   },
   {
    "duration": 20,
    "start_time": "2022-09-22T21:59:52.571Z"
   },
   {
    "duration": 46,
    "start_time": "2022-09-22T21:59:52.592Z"
   },
   {
    "duration": 10,
    "start_time": "2022-09-22T22:03:27.921Z"
   },
   {
    "duration": 185,
    "start_time": "2022-09-22T22:08:32.478Z"
   },
   {
    "duration": 198,
    "start_time": "2022-09-22T22:08:43.056Z"
   },
   {
    "duration": 358,
    "start_time": "2022-09-22T22:18:25.179Z"
   },
   {
    "duration": 197,
    "start_time": "2022-09-22T22:18:33.794Z"
   },
   {
    "duration": 26,
    "start_time": "2022-09-22T22:20:27.590Z"
   },
   {
    "duration": 29,
    "start_time": "2022-09-22T22:24:42.102Z"
   },
   {
    "duration": 11,
    "start_time": "2022-09-22T22:25:03.872Z"
   },
   {
    "duration": 10,
    "start_time": "2022-09-22T22:31:00.508Z"
   },
   {
    "duration": 8,
    "start_time": "2022-09-22T22:31:26.333Z"
   },
   {
    "duration": 9,
    "start_time": "2022-09-22T22:31:37.968Z"
   },
   {
    "duration": 15,
    "start_time": "2022-09-22T22:31:41.669Z"
   },
   {
    "duration": 2029,
    "start_time": "2022-09-22T22:34:28.369Z"
   },
   {
    "duration": 23,
    "start_time": "2022-09-22T22:34:30.399Z"
   },
   {
    "duration": 30,
    "start_time": "2022-09-22T22:34:30.423Z"
   },
   {
    "duration": 19,
    "start_time": "2022-09-22T22:34:30.455Z"
   },
   {
    "duration": 29,
    "start_time": "2022-09-22T22:34:30.476Z"
   },
   {
    "duration": 48,
    "start_time": "2022-09-22T22:34:30.506Z"
   },
   {
    "duration": 20,
    "start_time": "2022-09-22T22:34:30.557Z"
   },
   {
    "duration": 0,
    "start_time": "2022-09-22T22:34:30.579Z"
   },
   {
    "duration": 0,
    "start_time": "2022-09-22T22:34:30.581Z"
   },
   {
    "duration": 0,
    "start_time": "2022-09-22T22:34:30.582Z"
   },
   {
    "duration": 0,
    "start_time": "2022-09-22T22:34:30.583Z"
   },
   {
    "duration": 0,
    "start_time": "2022-09-22T22:34:30.584Z"
   },
   {
    "duration": 0,
    "start_time": "2022-09-22T22:34:30.584Z"
   },
   {
    "duration": 0,
    "start_time": "2022-09-22T22:34:30.586Z"
   },
   {
    "duration": 0,
    "start_time": "2022-09-22T22:34:30.586Z"
   },
   {
    "duration": 0,
    "start_time": "2022-09-22T22:34:30.587Z"
   },
   {
    "duration": 0,
    "start_time": "2022-09-22T22:34:30.588Z"
   },
   {
    "duration": 0,
    "start_time": "2022-09-22T22:34:30.589Z"
   },
   {
    "duration": 0,
    "start_time": "2022-09-22T22:34:30.590Z"
   },
   {
    "duration": 0,
    "start_time": "2022-09-22T22:34:30.591Z"
   },
   {
    "duration": 0,
    "start_time": "2022-09-22T22:34:30.592Z"
   },
   {
    "duration": 0,
    "start_time": "2022-09-22T22:34:30.593Z"
   },
   {
    "duration": 0,
    "start_time": "2022-09-22T22:34:30.594Z"
   },
   {
    "duration": 0,
    "start_time": "2022-09-22T22:34:30.623Z"
   },
   {
    "duration": 0,
    "start_time": "2022-09-22T22:34:30.624Z"
   },
   {
    "duration": 0,
    "start_time": "2022-09-22T22:34:30.625Z"
   },
   {
    "duration": 0,
    "start_time": "2022-09-22T22:34:30.629Z"
   },
   {
    "duration": 0,
    "start_time": "2022-09-22T22:34:30.630Z"
   },
   {
    "duration": 0,
    "start_time": "2022-09-22T22:34:30.630Z"
   },
   {
    "duration": 0,
    "start_time": "2022-09-22T22:34:30.631Z"
   },
   {
    "duration": 0,
    "start_time": "2022-09-22T22:34:30.631Z"
   },
   {
    "duration": 0,
    "start_time": "2022-09-22T22:34:30.632Z"
   },
   {
    "duration": 0,
    "start_time": "2022-09-22T22:34:30.635Z"
   },
   {
    "duration": 0,
    "start_time": "2022-09-22T22:34:30.635Z"
   },
   {
    "duration": 0,
    "start_time": "2022-09-22T22:34:30.636Z"
   },
   {
    "duration": 3084,
    "start_time": "2022-09-22T22:52:06.603Z"
   },
   {
    "duration": 17,
    "start_time": "2022-09-22T22:52:09.692Z"
   },
   {
    "duration": 21,
    "start_time": "2022-09-22T22:52:09.711Z"
   },
   {
    "duration": 69,
    "start_time": "2022-09-22T22:52:09.734Z"
   },
   {
    "duration": 21,
    "start_time": "2022-09-22T22:52:09.805Z"
   },
   {
    "duration": 55,
    "start_time": "2022-09-22T22:52:09.828Z"
   },
   {
    "duration": 121,
    "start_time": "2022-09-22T22:52:09.885Z"
   },
   {
    "duration": 0,
    "start_time": "2022-09-22T22:52:10.011Z"
   },
   {
    "duration": 0,
    "start_time": "2022-09-22T22:52:10.013Z"
   },
   {
    "duration": 0,
    "start_time": "2022-09-22T22:52:10.014Z"
   },
   {
    "duration": 0,
    "start_time": "2022-09-22T22:52:10.015Z"
   },
   {
    "duration": 0,
    "start_time": "2022-09-22T22:52:10.017Z"
   },
   {
    "duration": 0,
    "start_time": "2022-09-22T22:52:10.020Z"
   },
   {
    "duration": 0,
    "start_time": "2022-09-22T22:52:10.021Z"
   },
   {
    "duration": 0,
    "start_time": "2022-09-22T22:52:10.021Z"
   },
   {
    "duration": 0,
    "start_time": "2022-09-22T22:52:10.022Z"
   },
   {
    "duration": 0,
    "start_time": "2022-09-22T22:52:10.023Z"
   },
   {
    "duration": 0,
    "start_time": "2022-09-22T22:52:10.026Z"
   },
   {
    "duration": 0,
    "start_time": "2022-09-22T22:52:10.027Z"
   },
   {
    "duration": 0,
    "start_time": "2022-09-22T22:52:10.028Z"
   },
   {
    "duration": 0,
    "start_time": "2022-09-22T22:52:10.029Z"
   },
   {
    "duration": 0,
    "start_time": "2022-09-22T22:52:10.030Z"
   },
   {
    "duration": 0,
    "start_time": "2022-09-22T22:52:10.031Z"
   },
   {
    "duration": 0,
    "start_time": "2022-09-22T22:52:10.032Z"
   },
   {
    "duration": 1,
    "start_time": "2022-09-22T22:52:10.033Z"
   },
   {
    "duration": 0,
    "start_time": "2022-09-22T22:52:10.034Z"
   },
   {
    "duration": 0,
    "start_time": "2022-09-22T22:52:10.035Z"
   },
   {
    "duration": 0,
    "start_time": "2022-09-22T22:52:10.036Z"
   },
   {
    "duration": 0,
    "start_time": "2022-09-22T22:52:10.037Z"
   },
   {
    "duration": 0,
    "start_time": "2022-09-22T22:52:10.038Z"
   },
   {
    "duration": 0,
    "start_time": "2022-09-22T22:52:10.039Z"
   },
   {
    "duration": 0,
    "start_time": "2022-09-22T22:52:10.077Z"
   },
   {
    "duration": 0,
    "start_time": "2022-09-22T22:52:10.077Z"
   },
   {
    "duration": 0,
    "start_time": "2022-09-22T22:52:10.078Z"
   },
   {
    "duration": 0,
    "start_time": "2022-09-22T22:52:10.078Z"
   },
   {
    "duration": 23,
    "start_time": "2022-09-22T22:52:38.274Z"
   },
   {
    "duration": 3174,
    "start_time": "2022-09-22T22:52:42.195Z"
   },
   {
    "duration": 16,
    "start_time": "2022-09-22T22:52:45.371Z"
   },
   {
    "duration": 33,
    "start_time": "2022-09-22T22:52:45.389Z"
   },
   {
    "duration": 59,
    "start_time": "2022-09-22T22:52:45.424Z"
   },
   {
    "duration": 20,
    "start_time": "2022-09-22T22:52:45.485Z"
   },
   {
    "duration": 24,
    "start_time": "2022-09-22T22:52:45.506Z"
   },
   {
    "duration": 12,
    "start_time": "2022-09-22T22:52:45.532Z"
   },
   {
    "duration": 66,
    "start_time": "2022-09-22T22:52:45.546Z"
   },
   {
    "duration": 16,
    "start_time": "2022-09-22T22:52:45.614Z"
   },
   {
    "duration": 317,
    "start_time": "2022-09-22T22:52:45.633Z"
   },
   {
    "duration": 273,
    "start_time": "2022-09-22T22:52:45.952Z"
   },
   {
    "duration": 182,
    "start_time": "2022-09-22T22:52:46.227Z"
   },
   {
    "duration": 198,
    "start_time": "2022-09-22T22:52:46.411Z"
   },
   {
    "duration": 573,
    "start_time": "2022-09-22T22:52:46.611Z"
   },
   {
    "duration": 186,
    "start_time": "2022-09-22T22:52:47.185Z"
   },
   {
    "duration": 183,
    "start_time": "2022-09-22T22:52:47.376Z"
   },
   {
    "duration": 184,
    "start_time": "2022-09-22T22:52:47.561Z"
   },
   {
    "duration": 160,
    "start_time": "2022-09-22T22:52:47.747Z"
   },
   {
    "duration": 122,
    "start_time": "2022-09-22T22:52:47.909Z"
   },
   {
    "duration": 176,
    "start_time": "2022-09-22T22:52:48.033Z"
   },
   {
    "duration": 268,
    "start_time": "2022-09-22T22:52:48.212Z"
   },
   {
    "duration": 284,
    "start_time": "2022-09-22T22:52:48.482Z"
   },
   {
    "duration": 271,
    "start_time": "2022-09-22T22:52:48.767Z"
   },
   {
    "duration": 145,
    "start_time": "2022-09-22T22:52:49.039Z"
   },
   {
    "duration": 455,
    "start_time": "2022-09-22T22:52:49.186Z"
   },
   {
    "duration": 142,
    "start_time": "2022-09-22T22:52:49.642Z"
   },
   {
    "duration": 162,
    "start_time": "2022-09-22T22:52:49.786Z"
   },
   {
    "duration": 148,
    "start_time": "2022-09-22T22:52:49.951Z"
   },
   {
    "duration": 152,
    "start_time": "2022-09-22T22:52:50.101Z"
   },
   {
    "duration": 157,
    "start_time": "2022-09-22T22:52:50.255Z"
   },
   {
    "duration": 164,
    "start_time": "2022-09-22T22:52:50.414Z"
   },
   {
    "duration": 263,
    "start_time": "2022-09-22T22:52:50.580Z"
   },
   {
    "duration": 186,
    "start_time": "2022-09-22T22:52:50.845Z"
   },
   {
    "duration": 25,
    "start_time": "2022-09-22T22:52:51.033Z"
   },
   {
    "duration": 40,
    "start_time": "2022-09-22T22:52:51.059Z"
   },
   {
    "duration": 14,
    "start_time": "2022-09-22T22:53:01.377Z"
   },
   {
    "duration": 17,
    "start_time": "2022-09-22T22:53:10.994Z"
   },
   {
    "duration": 15,
    "start_time": "2022-09-22T22:53:16.187Z"
   },
   {
    "duration": 13,
    "start_time": "2022-09-22T22:53:54.801Z"
   },
   {
    "duration": 51,
    "start_time": "2022-09-23T07:59:04.346Z"
   },
   {
    "duration": 7,
    "start_time": "2022-09-23T08:54:46.409Z"
   },
   {
    "duration": 3817,
    "start_time": "2022-09-23T08:54:54.867Z"
   },
   {
    "duration": 17,
    "start_time": "2022-09-23T08:54:58.686Z"
   },
   {
    "duration": 24,
    "start_time": "2022-09-23T08:54:58.705Z"
   },
   {
    "duration": 60,
    "start_time": "2022-09-23T08:54:58.731Z"
   },
   {
    "duration": 22,
    "start_time": "2022-09-23T08:54:58.792Z"
   },
   {
    "duration": 46,
    "start_time": "2022-09-23T08:54:58.816Z"
   },
   {
    "duration": 14,
    "start_time": "2022-09-23T08:54:58.864Z"
   },
   {
    "duration": 47,
    "start_time": "2022-09-23T08:54:58.879Z"
   },
   {
    "duration": 35,
    "start_time": "2022-09-23T08:54:58.927Z"
   },
   {
    "duration": 375,
    "start_time": "2022-09-23T08:54:58.965Z"
   },
   {
    "duration": 0,
    "start_time": "2022-09-23T08:54:59.342Z"
   },
   {
    "duration": 1,
    "start_time": "2022-09-23T08:54:59.343Z"
   },
   {
    "duration": 0,
    "start_time": "2022-09-23T08:54:59.345Z"
   },
   {
    "duration": 0,
    "start_time": "2022-09-23T08:54:59.346Z"
   },
   {
    "duration": 0,
    "start_time": "2022-09-23T08:54:59.347Z"
   },
   {
    "duration": 0,
    "start_time": "2022-09-23T08:54:59.348Z"
   },
   {
    "duration": 0,
    "start_time": "2022-09-23T08:54:59.349Z"
   },
   {
    "duration": 0,
    "start_time": "2022-09-23T08:54:59.350Z"
   },
   {
    "duration": 0,
    "start_time": "2022-09-23T08:54:59.351Z"
   },
   {
    "duration": 0,
    "start_time": "2022-09-23T08:54:59.352Z"
   },
   {
    "duration": 0,
    "start_time": "2022-09-23T08:54:59.353Z"
   },
   {
    "duration": 0,
    "start_time": "2022-09-23T08:54:59.353Z"
   },
   {
    "duration": 0,
    "start_time": "2022-09-23T08:54:59.355Z"
   },
   {
    "duration": 0,
    "start_time": "2022-09-23T08:54:59.356Z"
   },
   {
    "duration": 0,
    "start_time": "2022-09-23T08:54:59.357Z"
   },
   {
    "duration": 0,
    "start_time": "2022-09-23T08:54:59.358Z"
   },
   {
    "duration": 0,
    "start_time": "2022-09-23T08:54:59.359Z"
   },
   {
    "duration": 0,
    "start_time": "2022-09-23T08:54:59.360Z"
   },
   {
    "duration": 0,
    "start_time": "2022-09-23T08:54:59.361Z"
   },
   {
    "duration": 0,
    "start_time": "2022-09-23T08:54:59.362Z"
   },
   {
    "duration": 0,
    "start_time": "2022-09-23T08:54:59.363Z"
   },
   {
    "duration": 0,
    "start_time": "2022-09-23T08:54:59.365Z"
   },
   {
    "duration": 0,
    "start_time": "2022-09-23T08:54:59.366Z"
   },
   {
    "duration": 0,
    "start_time": "2022-09-23T08:54:59.367Z"
   },
   {
    "duration": 0,
    "start_time": "2022-09-23T08:54:59.368Z"
   },
   {
    "duration": 18,
    "start_time": "2022-09-23T08:55:55.937Z"
   },
   {
    "duration": 449,
    "start_time": "2022-09-23T09:43:35.266Z"
   },
   {
    "duration": 321,
    "start_time": "2022-09-23T09:44:33.193Z"
   },
   {
    "duration": 3397,
    "start_time": "2022-09-23T12:44:52.234Z"
   },
   {
    "duration": 13,
    "start_time": "2022-09-23T12:44:55.633Z"
   },
   {
    "duration": 20,
    "start_time": "2022-09-23T12:44:55.648Z"
   },
   {
    "duration": 46,
    "start_time": "2022-09-23T12:44:55.670Z"
   },
   {
    "duration": 23,
    "start_time": "2022-09-23T12:44:55.717Z"
   },
   {
    "duration": 12,
    "start_time": "2022-09-23T12:44:55.742Z"
   },
   {
    "duration": 54,
    "start_time": "2022-09-23T12:44:55.755Z"
   },
   {
    "duration": 14,
    "start_time": "2022-09-23T12:44:55.811Z"
   },
   {
    "duration": 355,
    "start_time": "2022-09-23T12:44:55.827Z"
   },
   {
    "duration": 0,
    "start_time": "2022-09-23T12:44:56.184Z"
   },
   {
    "duration": 0,
    "start_time": "2022-09-23T12:44:56.185Z"
   },
   {
    "duration": 0,
    "start_time": "2022-09-23T12:44:56.186Z"
   },
   {
    "duration": 0,
    "start_time": "2022-09-23T12:44:56.187Z"
   },
   {
    "duration": 0,
    "start_time": "2022-09-23T12:44:56.188Z"
   },
   {
    "duration": 0,
    "start_time": "2022-09-23T12:44:56.188Z"
   },
   {
    "duration": 0,
    "start_time": "2022-09-23T12:44:56.189Z"
   },
   {
    "duration": 0,
    "start_time": "2022-09-23T12:44:56.190Z"
   },
   {
    "duration": 0,
    "start_time": "2022-09-23T12:44:56.191Z"
   },
   {
    "duration": 0,
    "start_time": "2022-09-23T12:44:56.192Z"
   },
   {
    "duration": 0,
    "start_time": "2022-09-23T12:44:56.193Z"
   },
   {
    "duration": 0,
    "start_time": "2022-09-23T12:44:56.194Z"
   },
   {
    "duration": 0,
    "start_time": "2022-09-23T12:44:56.195Z"
   },
   {
    "duration": 0,
    "start_time": "2022-09-23T12:44:56.196Z"
   },
   {
    "duration": 0,
    "start_time": "2022-09-23T12:44:56.197Z"
   },
   {
    "duration": 0,
    "start_time": "2022-09-23T12:44:56.197Z"
   },
   {
    "duration": 0,
    "start_time": "2022-09-23T12:44:56.199Z"
   },
   {
    "duration": 0,
    "start_time": "2022-09-23T12:44:56.200Z"
   },
   {
    "duration": 0,
    "start_time": "2022-09-23T12:44:56.201Z"
   },
   {
    "duration": 0,
    "start_time": "2022-09-23T12:44:56.202Z"
   },
   {
    "duration": 0,
    "start_time": "2022-09-23T12:44:56.203Z"
   },
   {
    "duration": 0,
    "start_time": "2022-09-23T12:44:56.204Z"
   },
   {
    "duration": 0,
    "start_time": "2022-09-23T12:44:56.205Z"
   },
   {
    "duration": 0,
    "start_time": "2022-09-23T12:44:56.206Z"
   },
   {
    "duration": 0,
    "start_time": "2022-09-23T12:44:56.207Z"
   },
   {
    "duration": 12,
    "start_time": "2022-09-23T12:45:42.731Z"
   },
   {
    "duration": 14,
    "start_time": "2022-09-23T12:46:03.435Z"
   },
   {
    "duration": 489,
    "start_time": "2022-09-23T12:46:51.194Z"
   },
   {
    "duration": 14,
    "start_time": "2022-09-23T12:47:52.029Z"
   },
   {
    "duration": 462,
    "start_time": "2022-09-23T12:48:48.986Z"
   },
   {
    "duration": 141,
    "start_time": "2022-09-23T12:49:21.892Z"
   },
   {
    "duration": 15,
    "start_time": "2022-09-23T12:50:09.572Z"
   },
   {
    "duration": 21,
    "start_time": "2022-09-23T12:51:57.844Z"
   },
   {
    "duration": 24,
    "start_time": "2022-09-23T12:52:27.873Z"
   },
   {
    "duration": 900,
    "start_time": "2022-09-23T12:58:30.214Z"
   },
   {
    "duration": 723,
    "start_time": "2022-09-23T12:58:42.035Z"
   },
   {
    "duration": 923,
    "start_time": "2022-09-23T12:59:27.069Z"
   },
   {
    "duration": 1555,
    "start_time": "2022-09-23T13:01:12.868Z"
   },
   {
    "duration": 1894,
    "start_time": "2022-09-23T13:01:29.664Z"
   },
   {
    "duration": 1891,
    "start_time": "2022-09-23T13:01:42.694Z"
   },
   {
    "duration": 1294,
    "start_time": "2022-09-23T13:03:06.894Z"
   },
   {
    "duration": 1229,
    "start_time": "2022-09-23T13:04:15.944Z"
   },
   {
    "duration": 2051,
    "start_time": "2022-09-23T13:04:48.280Z"
   },
   {
    "duration": 1888,
    "start_time": "2022-09-23T13:05:02.833Z"
   },
   {
    "duration": 13,
    "start_time": "2022-09-23T13:05:04.722Z"
   },
   {
    "duration": 29,
    "start_time": "2022-09-23T13:05:04.736Z"
   },
   {
    "duration": 21,
    "start_time": "2022-09-23T13:05:04.767Z"
   },
   {
    "duration": 27,
    "start_time": "2022-09-23T13:05:04.789Z"
   },
   {
    "duration": 17,
    "start_time": "2022-09-23T13:05:04.817Z"
   },
   {
    "duration": 59,
    "start_time": "2022-09-23T13:05:04.836Z"
   },
   {
    "duration": 812,
    "start_time": "2022-09-23T13:05:04.897Z"
   },
   {
    "duration": 0,
    "start_time": "2022-09-23T13:05:05.711Z"
   },
   {
    "duration": 0,
    "start_time": "2022-09-23T13:05:05.712Z"
   },
   {
    "duration": 0,
    "start_time": "2022-09-23T13:05:05.713Z"
   },
   {
    "duration": 0,
    "start_time": "2022-09-23T13:05:05.714Z"
   },
   {
    "duration": 0,
    "start_time": "2022-09-23T13:05:05.715Z"
   },
   {
    "duration": 0,
    "start_time": "2022-09-23T13:05:05.716Z"
   },
   {
    "duration": 0,
    "start_time": "2022-09-23T13:05:05.717Z"
   },
   {
    "duration": 0,
    "start_time": "2022-09-23T13:05:05.717Z"
   },
   {
    "duration": 0,
    "start_time": "2022-09-23T13:05:05.719Z"
   },
   {
    "duration": 0,
    "start_time": "2022-09-23T13:05:05.719Z"
   },
   {
    "duration": 0,
    "start_time": "2022-09-23T13:05:05.720Z"
   },
   {
    "duration": 0,
    "start_time": "2022-09-23T13:05:05.721Z"
   },
   {
    "duration": 0,
    "start_time": "2022-09-23T13:05:05.722Z"
   },
   {
    "duration": 0,
    "start_time": "2022-09-23T13:05:05.723Z"
   },
   {
    "duration": 0,
    "start_time": "2022-09-23T13:05:05.724Z"
   },
   {
    "duration": 0,
    "start_time": "2022-09-23T13:05:05.725Z"
   },
   {
    "duration": 0,
    "start_time": "2022-09-23T13:05:05.726Z"
   },
   {
    "duration": 0,
    "start_time": "2022-09-23T13:05:05.727Z"
   },
   {
    "duration": 0,
    "start_time": "2022-09-23T13:05:05.727Z"
   },
   {
    "duration": 0,
    "start_time": "2022-09-23T13:05:05.728Z"
   },
   {
    "duration": 0,
    "start_time": "2022-09-23T13:05:05.729Z"
   },
   {
    "duration": 0,
    "start_time": "2022-09-23T13:05:05.730Z"
   },
   {
    "duration": 0,
    "start_time": "2022-09-23T13:05:05.731Z"
   },
   {
    "duration": 0,
    "start_time": "2022-09-23T13:05:05.732Z"
   },
   {
    "duration": 0,
    "start_time": "2022-09-23T13:05:05.733Z"
   },
   {
    "duration": 343,
    "start_time": "2022-09-23T13:19:11.950Z"
   },
   {
    "duration": 311,
    "start_time": "2022-09-23T13:20:36.156Z"
   },
   {
    "duration": 12,
    "start_time": "2022-09-23T13:20:55.383Z"
   },
   {
    "duration": 5,
    "start_time": "2022-09-23T13:28:39.642Z"
   },
   {
    "duration": 15,
    "start_time": "2022-09-23T13:31:32.418Z"
   },
   {
    "duration": 293,
    "start_time": "2022-09-23T13:31:40.000Z"
   },
   {
    "duration": 22,
    "start_time": "2022-09-23T13:45:01.712Z"
   },
   {
    "duration": 19,
    "start_time": "2022-09-23T13:47:13.377Z"
   },
   {
    "duration": 868,
    "start_time": "2022-09-23T13:48:35.111Z"
   },
   {
    "duration": 214,
    "start_time": "2022-09-23T13:50:19.770Z"
   },
   {
    "duration": 4562,
    "start_time": "2022-09-23T20:03:29.651Z"
   },
   {
    "duration": 15,
    "start_time": "2022-09-23T20:03:34.215Z"
   },
   {
    "duration": 32,
    "start_time": "2022-09-23T20:03:34.232Z"
   },
   {
    "duration": 54,
    "start_time": "2022-09-23T20:03:34.268Z"
   },
   {
    "duration": 21,
    "start_time": "2022-09-23T20:03:34.324Z"
   },
   {
    "duration": 26,
    "start_time": "2022-09-23T20:03:34.347Z"
   },
   {
    "duration": 47,
    "start_time": "2022-09-23T20:03:34.375Z"
   },
   {
    "duration": 37,
    "start_time": "2022-09-23T20:03:34.424Z"
   },
   {
    "duration": 803,
    "start_time": "2022-09-23T20:03:34.463Z"
   },
   {
    "duration": 0,
    "start_time": "2022-09-23T20:03:35.270Z"
   },
   {
    "duration": 0,
    "start_time": "2022-09-23T20:03:35.273Z"
   },
   {
    "duration": 0,
    "start_time": "2022-09-23T20:03:35.274Z"
   },
   {
    "duration": 0,
    "start_time": "2022-09-23T20:03:35.275Z"
   },
   {
    "duration": 0,
    "start_time": "2022-09-23T20:03:35.277Z"
   },
   {
    "duration": 0,
    "start_time": "2022-09-23T20:03:35.278Z"
   },
   {
    "duration": 0,
    "start_time": "2022-09-23T20:03:35.279Z"
   },
   {
    "duration": 0,
    "start_time": "2022-09-23T20:03:35.280Z"
   },
   {
    "duration": 0,
    "start_time": "2022-09-23T20:03:35.281Z"
   },
   {
    "duration": 0,
    "start_time": "2022-09-23T20:03:35.282Z"
   },
   {
    "duration": 0,
    "start_time": "2022-09-23T20:03:35.283Z"
   },
   {
    "duration": 0,
    "start_time": "2022-09-23T20:03:35.284Z"
   },
   {
    "duration": 0,
    "start_time": "2022-09-23T20:03:35.285Z"
   },
   {
    "duration": 0,
    "start_time": "2022-09-23T20:03:35.286Z"
   },
   {
    "duration": 0,
    "start_time": "2022-09-23T20:03:35.287Z"
   },
   {
    "duration": 0,
    "start_time": "2022-09-23T20:03:35.288Z"
   },
   {
    "duration": 0,
    "start_time": "2022-09-23T20:03:35.289Z"
   },
   {
    "duration": 0,
    "start_time": "2022-09-23T20:03:35.290Z"
   },
   {
    "duration": 0,
    "start_time": "2022-09-23T20:03:35.291Z"
   },
   {
    "duration": 0,
    "start_time": "2022-09-23T20:03:35.292Z"
   },
   {
    "duration": 0,
    "start_time": "2022-09-23T20:03:35.293Z"
   },
   {
    "duration": 0,
    "start_time": "2022-09-23T20:03:35.294Z"
   },
   {
    "duration": 0,
    "start_time": "2022-09-23T20:03:35.295Z"
   },
   {
    "duration": 0,
    "start_time": "2022-09-23T20:03:35.296Z"
   },
   {
    "duration": 0,
    "start_time": "2022-09-23T20:03:35.297Z"
   },
   {
    "duration": 0,
    "start_time": "2022-09-23T20:03:35.300Z"
   },
   {
    "duration": 2257,
    "start_time": "2022-09-23T20:03:55.999Z"
   },
   {
    "duration": 17,
    "start_time": "2022-09-23T20:04:04.921Z"
   },
   {
    "duration": 26,
    "start_time": "2022-09-23T20:04:12.301Z"
   },
   {
    "duration": 24,
    "start_time": "2022-09-23T20:04:18.566Z"
   },
   {
    "duration": 29,
    "start_time": "2022-09-23T20:04:36.928Z"
   },
   {
    "duration": 25,
    "start_time": "2022-09-23T20:04:40.047Z"
   },
   {
    "duration": 14,
    "start_time": "2022-09-23T20:04:44.017Z"
   },
   {
    "duration": 50,
    "start_time": "2022-09-23T20:04:52.040Z"
   },
   {
    "duration": 14,
    "start_time": "2022-09-23T20:05:04.917Z"
   },
   {
    "duration": 11,
    "start_time": "2022-09-23T20:14:18.751Z"
   },
   {
    "duration": 904,
    "start_time": "2022-09-23T20:17:42.014Z"
   },
   {
    "duration": 1063,
    "start_time": "2022-09-23T20:21:29.166Z"
   },
   {
    "duration": 60,
    "start_time": "2022-09-23T20:21:58.287Z"
   },
   {
    "duration": 873,
    "start_time": "2022-09-23T20:22:15.914Z"
   },
   {
    "duration": 836,
    "start_time": "2022-09-23T20:23:32.135Z"
   },
   {
    "duration": 15,
    "start_time": "2022-09-23T20:24:13.482Z"
   },
   {
    "duration": 388,
    "start_time": "2022-09-23T20:24:17.434Z"
   },
   {
    "duration": 35,
    "start_time": "2022-09-23T20:27:39.612Z"
   },
   {
    "duration": 92,
    "start_time": "2022-09-23T20:31:07.219Z"
   },
   {
    "duration": 45,
    "start_time": "2022-09-23T20:31:22.466Z"
   },
   {
    "duration": 26,
    "start_time": "2022-09-23T20:32:30.817Z"
   },
   {
    "duration": 18,
    "start_time": "2022-09-23T20:32:44.024Z"
   },
   {
    "duration": 23,
    "start_time": "2022-09-23T20:33:01.706Z"
   },
   {
    "duration": 17,
    "start_time": "2022-09-23T20:33:17.685Z"
   },
   {
    "duration": 35,
    "start_time": "2022-09-23T20:33:25.477Z"
   },
   {
    "duration": 17,
    "start_time": "2022-09-23T20:33:28.221Z"
   },
   {
    "duration": 18,
    "start_time": "2022-09-23T20:34:17.789Z"
   },
   {
    "duration": 23,
    "start_time": "2022-09-23T20:34:42.868Z"
   },
   {
    "duration": 24,
    "start_time": "2022-09-23T20:35:08.988Z"
   },
   {
    "duration": 17,
    "start_time": "2022-09-23T20:35:23.990Z"
   },
   {
    "duration": 12,
    "start_time": "2022-09-23T20:38:56.209Z"
   },
   {
    "duration": 6,
    "start_time": "2022-09-23T20:39:05.724Z"
   },
   {
    "duration": 10,
    "start_time": "2022-09-23T20:39:14.822Z"
   },
   {
    "duration": 2365,
    "start_time": "2022-09-23T20:39:27.890Z"
   },
   {
    "duration": 18,
    "start_time": "2022-09-23T20:39:30.264Z"
   },
   {
    "duration": 21,
    "start_time": "2022-09-23T20:39:30.283Z"
   },
   {
    "duration": 17,
    "start_time": "2022-09-23T20:39:30.307Z"
   },
   {
    "duration": 54,
    "start_time": "2022-09-23T20:39:30.326Z"
   },
   {
    "duration": 14,
    "start_time": "2022-09-23T20:39:30.382Z"
   },
   {
    "duration": 83,
    "start_time": "2022-09-23T20:39:30.398Z"
   },
   {
    "duration": 14,
    "start_time": "2022-09-23T20:39:30.484Z"
   },
   {
    "duration": 19,
    "start_time": "2022-09-23T20:39:30.500Z"
   },
   {
    "duration": 49,
    "start_time": "2022-09-23T20:39:30.523Z"
   },
   {
    "duration": 352,
    "start_time": "2022-09-23T20:39:30.575Z"
   },
   {
    "duration": 0,
    "start_time": "2022-09-23T20:39:30.929Z"
   },
   {
    "duration": 0,
    "start_time": "2022-09-23T20:39:30.930Z"
   },
   {
    "duration": 0,
    "start_time": "2022-09-23T20:39:30.931Z"
   },
   {
    "duration": 0,
    "start_time": "2022-09-23T20:39:30.933Z"
   },
   {
    "duration": 0,
    "start_time": "2022-09-23T20:39:30.934Z"
   },
   {
    "duration": 0,
    "start_time": "2022-09-23T20:39:30.935Z"
   },
   {
    "duration": 0,
    "start_time": "2022-09-23T20:39:30.936Z"
   },
   {
    "duration": 0,
    "start_time": "2022-09-23T20:39:30.937Z"
   },
   {
    "duration": 0,
    "start_time": "2022-09-23T20:39:30.938Z"
   },
   {
    "duration": 0,
    "start_time": "2022-09-23T20:39:30.940Z"
   },
   {
    "duration": 0,
    "start_time": "2022-09-23T20:39:30.942Z"
   },
   {
    "duration": 0,
    "start_time": "2022-09-23T20:39:30.943Z"
   },
   {
    "duration": 0,
    "start_time": "2022-09-23T20:39:30.944Z"
   },
   {
    "duration": 0,
    "start_time": "2022-09-23T20:39:30.946Z"
   },
   {
    "duration": 0,
    "start_time": "2022-09-23T20:39:30.947Z"
   },
   {
    "duration": 0,
    "start_time": "2022-09-23T20:39:30.949Z"
   },
   {
    "duration": 0,
    "start_time": "2022-09-23T20:39:30.950Z"
   },
   {
    "duration": 0,
    "start_time": "2022-09-23T20:39:30.951Z"
   },
   {
    "duration": 0,
    "start_time": "2022-09-23T20:39:30.953Z"
   },
   {
    "duration": 0,
    "start_time": "2022-09-23T20:39:30.958Z"
   },
   {
    "duration": 0,
    "start_time": "2022-09-23T20:39:30.960Z"
   },
   {
    "duration": 0,
    "start_time": "2022-09-23T20:39:30.961Z"
   },
   {
    "duration": 0,
    "start_time": "2022-09-23T20:39:30.962Z"
   },
   {
    "duration": 0,
    "start_time": "2022-09-23T20:39:30.963Z"
   },
   {
    "duration": 0,
    "start_time": "2022-09-23T20:39:30.966Z"
   },
   {
    "duration": 0,
    "start_time": "2022-09-23T20:39:30.967Z"
   },
   {
    "duration": 9,
    "start_time": "2022-09-23T20:40:38.193Z"
   },
   {
    "duration": 3,
    "start_time": "2022-09-23T20:41:38.113Z"
   },
   {
    "duration": 32,
    "start_time": "2022-09-23T20:42:15.146Z"
   },
   {
    "duration": 10,
    "start_time": "2022-09-23T20:42:20.710Z"
   },
   {
    "duration": 57,
    "start_time": "2022-09-23T20:43:20.092Z"
   },
   {
    "duration": 12,
    "start_time": "2022-09-23T20:43:25.045Z"
   },
   {
    "duration": 69,
    "start_time": "2022-09-23T20:44:10.934Z"
   },
   {
    "duration": 10,
    "start_time": "2022-09-23T20:44:23.219Z"
   },
   {
    "duration": 26,
    "start_time": "2022-09-23T20:48:42.848Z"
   },
   {
    "duration": 27,
    "start_time": "2022-09-23T20:50:08.109Z"
   },
   {
    "duration": 15,
    "start_time": "2022-09-23T20:50:26.071Z"
   },
   {
    "duration": 456,
    "start_time": "2022-09-23T20:50:30.141Z"
   },
   {
    "duration": 15,
    "start_time": "2022-09-23T20:50:39.807Z"
   },
   {
    "duration": 17,
    "start_time": "2022-09-23T20:50:53.264Z"
   },
   {
    "duration": 311,
    "start_time": "2022-09-23T20:51:06.370Z"
   },
   {
    "duration": 158,
    "start_time": "2022-09-23T20:51:28.474Z"
   },
   {
    "duration": 42,
    "start_time": "2022-09-23T20:53:21.600Z"
   },
   {
    "duration": 10,
    "start_time": "2022-09-23T20:55:10.793Z"
   },
   {
    "duration": 10,
    "start_time": "2022-09-23T20:55:32.281Z"
   },
   {
    "duration": 240,
    "start_time": "2022-09-23T21:05:31.434Z"
   },
   {
    "duration": 186,
    "start_time": "2022-09-23T21:06:36.554Z"
   },
   {
    "duration": 204,
    "start_time": "2022-09-23T21:08:26.501Z"
   },
   {
    "duration": 26,
    "start_time": "2022-09-23T21:13:56.912Z"
   },
   {
    "duration": 22,
    "start_time": "2022-09-23T21:18:24.106Z"
   },
   {
    "duration": 25,
    "start_time": "2022-09-23T21:19:10.248Z"
   },
   {
    "duration": 1007,
    "start_time": "2022-09-23T21:19:23.275Z"
   },
   {
    "duration": 33,
    "start_time": "2022-09-23T21:21:22.283Z"
   },
   {
    "duration": 6,
    "start_time": "2022-09-23T21:23:56.589Z"
   },
   {
    "duration": 13,
    "start_time": "2022-09-23T21:24:13.916Z"
   },
   {
    "duration": 17,
    "start_time": "2022-09-23T21:24:30.238Z"
   },
   {
    "duration": 1171,
    "start_time": "2022-09-23T21:24:43.262Z"
   },
   {
    "duration": 1281,
    "start_time": "2022-09-23T21:25:14.017Z"
   },
   {
    "duration": 1448,
    "start_time": "2022-09-23T21:25:42.482Z"
   },
   {
    "duration": 62,
    "start_time": "2022-09-23T21:26:57.604Z"
   },
   {
    "duration": 1015,
    "start_time": "2022-09-23T21:28:43.252Z"
   },
   {
    "duration": 955,
    "start_time": "2022-09-23T21:33:26.534Z"
   },
   {
    "duration": 2066,
    "start_time": "2022-09-23T21:34:04.094Z"
   },
   {
    "duration": 15,
    "start_time": "2022-09-23T21:35:36.965Z"
   },
   {
    "duration": 22,
    "start_time": "2022-09-23T21:35:41.712Z"
   },
   {
    "duration": 16,
    "start_time": "2022-09-23T21:35:45.805Z"
   },
   {
    "duration": 32,
    "start_time": "2022-09-23T21:35:50.977Z"
   },
   {
    "duration": 19,
    "start_time": "2022-09-23T21:35:53.236Z"
   },
   {
    "duration": 50,
    "start_time": "2022-09-23T21:36:00.964Z"
   },
   {
    "duration": 17,
    "start_time": "2022-09-23T21:36:15.056Z"
   },
   {
    "duration": 276,
    "start_time": "2022-09-23T21:36:45.715Z"
   },
   {
    "duration": 329,
    "start_time": "2022-09-23T21:37:00.117Z"
   },
   {
    "duration": 194,
    "start_time": "2022-09-23T21:37:04.836Z"
   },
   {
    "duration": 480,
    "start_time": "2022-09-23T21:37:09.098Z"
   },
   {
    "duration": 197,
    "start_time": "2022-09-23T21:37:13.316Z"
   },
   {
    "duration": 189,
    "start_time": "2022-09-23T21:37:16.416Z"
   },
   {
    "duration": 222,
    "start_time": "2022-09-23T21:37:20.011Z"
   },
   {
    "duration": 168,
    "start_time": "2022-09-23T21:37:23.484Z"
   },
   {
    "duration": 876,
    "start_time": "2022-09-23T21:37:28.176Z"
   },
   {
    "duration": 394,
    "start_time": "2022-09-23T21:43:51.614Z"
   },
   {
    "duration": 135,
    "start_time": "2022-09-23T21:44:00.743Z"
   },
   {
    "duration": 175,
    "start_time": "2022-09-23T21:44:05.529Z"
   },
   {
    "duration": 277,
    "start_time": "2022-09-23T21:44:09.995Z"
   },
   {
    "duration": 299,
    "start_time": "2022-09-23T21:44:31.901Z"
   },
   {
    "duration": 164,
    "start_time": "2022-09-23T21:44:42.915Z"
   },
   {
    "duration": 150,
    "start_time": "2022-09-23T21:45:14.325Z"
   },
   {
    "duration": 680,
    "start_time": "2022-09-23T21:45:19.233Z"
   },
   {
    "duration": 495,
    "start_time": "2022-09-23T21:45:55.973Z"
   },
   {
    "duration": 532,
    "start_time": "2022-09-23T21:46:05.917Z"
   },
   {
    "duration": 509,
    "start_time": "2022-09-23T21:46:16.124Z"
   },
   {
    "duration": 156,
    "start_time": "2022-09-23T21:46:52.369Z"
   },
   {
    "duration": 279,
    "start_time": "2022-09-23T21:47:39.191Z"
   },
   {
    "duration": 145,
    "start_time": "2022-09-23T21:47:59.644Z"
   },
   {
    "duration": 151,
    "start_time": "2022-09-23T21:49:18.833Z"
   },
   {
    "duration": 150,
    "start_time": "2022-09-23T21:49:51.207Z"
   },
   {
    "duration": 164,
    "start_time": "2022-09-23T21:50:01.880Z"
   },
   {
    "duration": 169,
    "start_time": "2022-09-23T21:51:03.904Z"
   },
   {
    "duration": 152,
    "start_time": "2022-09-23T21:52:54.827Z"
   },
   {
    "duration": 93,
    "start_time": "2022-09-23T21:55:11.316Z"
   },
   {
    "duration": 26,
    "start_time": "2022-09-23T21:55:22.843Z"
   },
   {
    "duration": 867,
    "start_time": "2022-09-23T21:55:39.799Z"
   },
   {
    "duration": 932,
    "start_time": "2022-09-23T21:55:52.203Z"
   },
   {
    "duration": 903,
    "start_time": "2022-09-23T21:56:02.187Z"
   },
   {
    "duration": 7,
    "start_time": "2022-09-23T21:56:22.948Z"
   },
   {
    "duration": 27,
    "start_time": "2022-09-23T21:56:31.255Z"
   },
   {
    "duration": 30,
    "start_time": "2022-09-23T21:57:12.927Z"
   },
   {
    "duration": 288,
    "start_time": "2022-09-23T21:58:05.241Z"
   },
   {
    "duration": 3106,
    "start_time": "2022-09-23T22:27:03.017Z"
   },
   {
    "duration": 14,
    "start_time": "2022-09-23T22:27:06.125Z"
   },
   {
    "duration": 22,
    "start_time": "2022-09-23T22:27:06.141Z"
   },
   {
    "duration": 71,
    "start_time": "2022-09-23T22:27:06.165Z"
   },
   {
    "duration": 27,
    "start_time": "2022-09-23T22:27:06.238Z"
   },
   {
    "duration": 12,
    "start_time": "2022-09-23T22:27:06.267Z"
   },
   {
    "duration": 60,
    "start_time": "2022-09-23T22:27:06.281Z"
   },
   {
    "duration": 14,
    "start_time": "2022-09-23T22:27:06.342Z"
   },
   {
    "duration": 284,
    "start_time": "2022-09-23T22:27:06.357Z"
   },
   {
    "duration": 5,
    "start_time": "2022-09-23T22:27:06.644Z"
   },
   {
    "duration": 274,
    "start_time": "2022-09-23T22:27:06.650Z"
   },
   {
    "duration": 177,
    "start_time": "2022-09-23T22:27:06.925Z"
   },
   {
    "duration": 183,
    "start_time": "2022-09-23T22:27:07.103Z"
   },
   {
    "duration": 542,
    "start_time": "2022-09-23T22:27:07.287Z"
   },
   {
    "duration": 171,
    "start_time": "2022-09-23T22:27:07.831Z"
   },
   {
    "duration": 173,
    "start_time": "2022-09-23T22:27:08.003Z"
   },
   {
    "duration": 169,
    "start_time": "2022-09-23T22:27:08.178Z"
   },
   {
    "duration": 154,
    "start_time": "2022-09-23T22:27:08.349Z"
   },
   {
    "duration": 117,
    "start_time": "2022-09-23T22:27:08.505Z"
   },
   {
    "duration": 159,
    "start_time": "2022-09-23T22:27:08.624Z"
   },
   {
    "duration": 265,
    "start_time": "2022-09-23T22:27:08.784Z"
   },
   {
    "duration": 283,
    "start_time": "2022-09-23T22:27:09.051Z"
   },
   {
    "duration": 259,
    "start_time": "2022-09-23T22:27:09.335Z"
   },
   {
    "duration": 143,
    "start_time": "2022-09-23T22:27:09.599Z"
   },
   {
    "duration": 466,
    "start_time": "2022-09-23T22:27:09.744Z"
   },
   {
    "duration": 147,
    "start_time": "2022-09-23T22:27:10.212Z"
   },
   {
    "duration": 155,
    "start_time": "2022-09-23T22:27:10.361Z"
   },
   {
    "duration": 146,
    "start_time": "2022-09-23T22:27:10.519Z"
   },
   {
    "duration": 149,
    "start_time": "2022-09-23T22:27:10.666Z"
   },
   {
    "duration": 138,
    "start_time": "2022-09-23T22:27:10.817Z"
   },
   {
    "duration": 160,
    "start_time": "2022-09-23T22:27:10.957Z"
   },
   {
    "duration": 262,
    "start_time": "2022-09-23T22:27:11.119Z"
   },
   {
    "duration": 155,
    "start_time": "2022-09-23T22:27:11.383Z"
   },
   {
    "duration": 188,
    "start_time": "2022-09-23T22:27:11.539Z"
   },
   {
    "duration": 26,
    "start_time": "2022-09-23T22:27:11.729Z"
   },
   {
    "duration": 271,
    "start_time": "2022-09-23T22:27:11.758Z"
   },
   {
    "duration": 171,
    "start_time": "2022-09-23T22:29:26.137Z"
   },
   {
    "duration": 170,
    "start_time": "2022-09-23T22:29:37.300Z"
   },
   {
    "duration": 293,
    "start_time": "2022-09-23T22:32:27.307Z"
   },
   {
    "duration": 248,
    "start_time": "2022-09-23T22:32:33.600Z"
   },
   {
    "duration": 3397,
    "start_time": "2022-10-10T22:24:06.020Z"
   },
   {
    "duration": 15,
    "start_time": "2022-10-10T22:24:09.418Z"
   },
   {
    "duration": 22,
    "start_time": "2022-10-10T22:24:09.434Z"
   },
   {
    "duration": 48,
    "start_time": "2022-10-10T22:24:09.457Z"
   },
   {
    "duration": 40,
    "start_time": "2022-10-10T22:24:09.506Z"
   },
   {
    "duration": 12,
    "start_time": "2022-10-10T22:24:09.547Z"
   },
   {
    "duration": 42,
    "start_time": "2022-10-10T22:24:09.560Z"
   },
   {
    "duration": 32,
    "start_time": "2022-10-10T22:24:09.603Z"
   },
   {
    "duration": 297,
    "start_time": "2022-10-10T22:24:09.637Z"
   },
   {
    "duration": 6,
    "start_time": "2022-10-10T22:24:09.936Z"
   },
   {
    "duration": 271,
    "start_time": "2022-10-10T22:24:09.944Z"
   },
   {
    "duration": 198,
    "start_time": "2022-10-10T22:24:10.217Z"
   },
   {
    "duration": 182,
    "start_time": "2022-10-10T22:24:10.416Z"
   },
   {
    "duration": 516,
    "start_time": "2022-10-10T22:24:10.600Z"
   },
   {
    "duration": 175,
    "start_time": "2022-10-10T22:24:11.117Z"
   },
   {
    "duration": 186,
    "start_time": "2022-10-10T22:24:11.294Z"
   },
   {
    "duration": 188,
    "start_time": "2022-10-10T22:24:11.482Z"
   },
   {
    "duration": 162,
    "start_time": "2022-10-10T22:24:11.671Z"
   },
   {
    "duration": 112,
    "start_time": "2022-10-10T22:24:11.835Z"
   },
   {
    "duration": 172,
    "start_time": "2022-10-10T22:24:11.948Z"
   },
   {
    "duration": 281,
    "start_time": "2022-10-10T22:24:12.121Z"
   },
   {
    "duration": 271,
    "start_time": "2022-10-10T22:24:12.403Z"
   },
   {
    "duration": 261,
    "start_time": "2022-10-10T22:24:12.675Z"
   },
   {
    "duration": 163,
    "start_time": "2022-10-10T22:24:12.937Z"
   },
   {
    "duration": 473,
    "start_time": "2022-10-10T22:24:13.101Z"
   },
   {
    "duration": 156,
    "start_time": "2022-10-10T22:24:13.733Z"
   },
   {
    "duration": 150,
    "start_time": "2022-10-10T22:24:13.892Z"
   },
   {
    "duration": 166,
    "start_time": "2022-10-10T22:24:14.044Z"
   },
   {
    "duration": 150,
    "start_time": "2022-10-10T22:24:14.212Z"
   },
   {
    "duration": 162,
    "start_time": "2022-10-10T22:24:14.363Z"
   },
   {
    "duration": 235,
    "start_time": "2022-10-10T22:24:14.526Z"
   },
   {
    "duration": 149,
    "start_time": "2022-10-10T22:24:14.762Z"
   },
   {
    "duration": 161,
    "start_time": "2022-10-10T22:24:14.913Z"
   },
   {
    "duration": 169,
    "start_time": "2022-10-10T22:24:15.076Z"
   },
   {
    "duration": 159,
    "start_time": "2022-10-10T22:24:15.247Z"
   },
   {
    "duration": 33,
    "start_time": "2022-10-10T22:24:15.408Z"
   },
   {
    "duration": 274,
    "start_time": "2022-10-10T22:24:15.443Z"
   },
   {
    "duration": 137,
    "start_time": "2022-10-10T22:24:15.719Z"
   },
   {
    "duration": 146,
    "start_time": "2022-10-10T22:25:23.904Z"
   },
   {
    "duration": 27,
    "start_time": "2022-10-10T22:30:26.093Z"
   },
   {
    "duration": 55,
    "start_time": "2023-01-10T18:40:11.403Z"
   },
   {
    "duration": 3656,
    "start_time": "2023-01-10T18:40:21.164Z"
   },
   {
    "duration": 17,
    "start_time": "2023-01-10T18:40:24.822Z"
   },
   {
    "duration": 25,
    "start_time": "2023-01-10T18:40:24.841Z"
   },
   {
    "duration": 76,
    "start_time": "2023-01-10T18:40:24.868Z"
   },
   {
    "duration": 31,
    "start_time": "2023-01-10T18:40:24.946Z"
   },
   {
    "duration": 14,
    "start_time": "2023-01-10T18:40:24.979Z"
   },
   {
    "duration": 73,
    "start_time": "2023-01-10T18:40:25.744Z"
   },
   {
    "duration": 20,
    "start_time": "2023-01-10T18:40:28.188Z"
   },
   {
    "duration": 301,
    "start_time": "2023-01-10T18:40:28.453Z"
   },
   {
    "duration": 7,
    "start_time": "2023-01-10T18:40:28.756Z"
   },
   {
    "duration": 299,
    "start_time": "2023-01-10T18:40:29.662Z"
   },
   {
    "duration": 207,
    "start_time": "2023-01-10T18:40:33.114Z"
   },
   {
    "duration": 187,
    "start_time": "2023-01-10T18:40:35.291Z"
   },
   {
    "duration": 604,
    "start_time": "2023-01-10T18:40:36.756Z"
   },
   {
    "duration": 198,
    "start_time": "2023-01-10T18:40:38.283Z"
   },
   {
    "duration": 196,
    "start_time": "2023-01-10T18:40:39.931Z"
   },
   {
    "duration": 192,
    "start_time": "2023-01-10T18:40:43.603Z"
   },
   {
    "duration": 153,
    "start_time": "2023-01-10T18:40:44.574Z"
   },
   {
    "duration": 140,
    "start_time": "2023-01-10T18:40:46.372Z"
   },
   {
    "duration": 157,
    "start_time": "2023-01-10T18:40:47.003Z"
   },
   {
    "duration": 263,
    "start_time": "2023-01-10T18:40:47.555Z"
   },
   {
    "duration": 268,
    "start_time": "2023-01-10T18:40:48.148Z"
   },
   {
    "duration": 305,
    "start_time": "2023-01-10T18:40:49.052Z"
   },
   {
    "duration": 145,
    "start_time": "2023-01-10T18:40:49.878Z"
   },
   {
    "duration": 476,
    "start_time": "2023-01-10T18:40:50.347Z"
   },
   {
    "duration": 149,
    "start_time": "2023-01-10T18:41:00.293Z"
   },
   {
    "duration": 212,
    "start_time": "2023-01-10T18:41:06.300Z"
   },
   {
    "duration": 14,
    "start_time": "2023-01-10T18:41:09.356Z"
   },
   {
    "duration": 82,
    "start_time": "2023-01-13T20:30:30.307Z"
   },
   {
    "duration": 3540,
    "start_time": "2023-01-13T20:30:36.980Z"
   },
   {
    "duration": 17,
    "start_time": "2023-01-13T20:30:40.523Z"
   },
   {
    "duration": 31,
    "start_time": "2023-01-13T20:30:43.068Z"
   },
   {
    "duration": 55,
    "start_time": "2023-01-13T20:30:45.563Z"
   },
   {
    "duration": 28,
    "start_time": "2023-01-13T20:30:48.483Z"
   },
   {
    "duration": 13,
    "start_time": "2023-01-13T20:30:49.404Z"
   },
   {
    "duration": 60,
    "start_time": "2023-01-13T20:30:54.277Z"
   },
   {
    "duration": 45,
    "start_time": "2023-02-06T20:56:19.729Z"
   },
   {
    "duration": 3640,
    "start_time": "2023-02-06T20:56:45.265Z"
   },
   {
    "duration": 75,
    "start_time": "2023-02-06T20:57:00.786Z"
   },
   {
    "duration": 4123,
    "start_time": "2023-06-02T13:20:04.453Z"
   },
   {
    "duration": 14,
    "start_time": "2023-06-02T13:20:08.578Z"
   },
   {
    "duration": 19,
    "start_time": "2023-06-02T13:20:08.593Z"
   },
   {
    "duration": 62,
    "start_time": "2023-06-02T13:20:08.614Z"
   },
   {
    "duration": 27,
    "start_time": "2023-06-02T13:20:08.678Z"
   },
   {
    "duration": 31,
    "start_time": "2023-06-02T13:20:08.707Z"
   },
   {
    "duration": 58,
    "start_time": "2023-06-02T13:20:08.740Z"
   },
   {
    "duration": 11,
    "start_time": "2023-06-02T13:20:08.800Z"
   },
   {
    "duration": 336,
    "start_time": "2023-06-02T13:20:08.813Z"
   },
   {
    "duration": 6,
    "start_time": "2023-06-02T13:20:09.150Z"
   },
   {
    "duration": 255,
    "start_time": "2023-06-02T13:20:09.158Z"
   },
   {
    "duration": 172,
    "start_time": "2023-06-02T13:20:09.421Z"
   },
   {
    "duration": 178,
    "start_time": "2023-06-02T13:20:09.594Z"
   },
   {
    "duration": 520,
    "start_time": "2023-06-02T13:20:09.774Z"
   },
   {
    "duration": 169,
    "start_time": "2023-06-02T13:20:10.296Z"
   },
   {
    "duration": 183,
    "start_time": "2023-06-02T13:20:10.466Z"
   },
   {
    "duration": 216,
    "start_time": "2023-06-02T13:20:10.654Z"
   },
   {
    "duration": 165,
    "start_time": "2023-06-02T13:20:10.872Z"
   },
   {
    "duration": 141,
    "start_time": "2023-06-02T13:20:11.041Z"
   },
   {
    "duration": 167,
    "start_time": "2023-06-02T13:20:11.183Z"
   },
   {
    "duration": 251,
    "start_time": "2023-06-02T13:20:11.352Z"
   },
   {
    "duration": 268,
    "start_time": "2023-06-02T13:20:11.605Z"
   },
   {
    "duration": 232,
    "start_time": "2023-06-02T13:20:11.875Z"
   },
   {
    "duration": 152,
    "start_time": "2023-06-02T13:20:12.108Z"
   },
   {
    "duration": 484,
    "start_time": "2023-06-02T13:20:12.262Z"
   },
   {
    "duration": 135,
    "start_time": "2023-06-02T13:20:12.748Z"
   },
   {
    "duration": 161,
    "start_time": "2023-06-02T13:20:12.885Z"
   },
   {
    "duration": 162,
    "start_time": "2023-06-02T13:20:13.047Z"
   },
   {
    "duration": 176,
    "start_time": "2023-06-02T13:20:13.210Z"
   },
   {
    "duration": 141,
    "start_time": "2023-06-02T13:20:13.388Z"
   },
   {
    "duration": 177,
    "start_time": "2023-06-02T13:20:13.530Z"
   },
   {
    "duration": 255,
    "start_time": "2023-06-02T13:20:13.709Z"
   },
   {
    "duration": 182,
    "start_time": "2023-06-02T13:20:13.965Z"
   },
   {
    "duration": 174,
    "start_time": "2023-06-02T13:20:14.149Z"
   },
   {
    "duration": 211,
    "start_time": "2023-06-02T13:20:14.330Z"
   },
   {
    "duration": 154,
    "start_time": "2023-06-02T13:20:14.546Z"
   },
   {
    "duration": 35,
    "start_time": "2023-06-02T13:20:14.702Z"
   },
   {
    "duration": 232,
    "start_time": "2023-06-02T13:20:14.740Z"
   }
  ],
  "kernelspec": {
   "display_name": "Python 3 (ipykernel)",
   "language": "python",
   "name": "python3"
  },
  "language_info": {
   "codemirror_mode": {
    "name": "ipython",
    "version": 3
   },
   "file_extension": ".py",
   "mimetype": "text/x-python",
   "name": "python",
   "nbconvert_exporter": "python",
   "pygments_lexer": "ipython3",
   "version": "3.9.12"
  },
  "toc": {
   "base_numbering": 1,
   "nav_menu": {},
   "number_sections": true,
   "sideBar": true,
   "skip_h1_title": true,
   "title_cell": "Table of Contents",
   "title_sidebar": "Contents",
   "toc_cell": false,
   "toc_position": {
    "height": "calc(100% - 180px)",
    "left": "10px",
    "top": "150px",
    "width": "408.833px"
   },
   "toc_section_display": true,
   "toc_window_display": true
  }
 },
 "nbformat": 4,
 "nbformat_minor": 2
}
